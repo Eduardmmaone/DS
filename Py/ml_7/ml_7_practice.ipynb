{
 "cells": [
  {
   "attachments": {},
   "cell_type": "markdown",
   "metadata": {},
   "source": [
    "# Практическое задание по модулю ML-7. Оптимизация гиперпараметров модели\n",
    "\n",
    "### **Цель**: Необходимо предсказать биологический ответ молекул (столбец '`Activity`') по их химическому составу (столбцы `D1-D1776`).\n",
    "\n",
    "### **Метрика**: `F1-score`\n",
    "\n",
    "### **Задач**а: Необходимо обучить **две модели**: логистическую регрессию и случайный лес. Далее нужно сделать подбор гиперпараметров с помощью базовых и продвинутых методов оптимизации. Важно использовать все четыре метода (`GridSeachCV`, `RandomizedSearchCV`, `Hyperopt`, `Optuna`) хотя бы по разу, максимальное количество итераций не должно превышать `50`.\n",
    "\n",
    "###  Содержание <a class=\"anchor\" id=0></a>\n",
    "- [1. Модели без оптимизации](#1)\n",
    "- [1.1 Логическая регрессия](#1)\n",
    "- [1.2 Случайный лес](#1-2)\n",
    "- [2. Оптимизация моделей](#2)\n",
    "- [2.1. GridSearchCV](#2)\n",
    "- [2.2. RandomizedSearchCV](#2-2)\n",
    "- [2.3. Hyperopt](#2-3)\n",
    "- [2.4. Optuna](#2-4)\n",
    "- [3. Итоги](#3)\n"
   ]
  },
  {
   "attachments": {},
   "cell_type": "markdown",
   "metadata": {},
   "source": [
    "## Импортируем всякое полезное"
   ]
  },
  {
   "cell_type": "code",
   "execution_count": 1,
   "metadata": {},
   "outputs": [],
   "source": [
    "import numpy as np\n",
    "import pandas as pd \n",
    "from sklearn import linear_model \n",
    "from sklearn import ensemble \n",
    "from sklearn import metrics \n",
    "from sklearn import model_selection \n",
    "from sklearn.model_selection import cross_val_score\n",
    "from sklearn.model_selection import train_test_split \n",
    "from sklearn.model_selection import RandomizedSearchCV\n",
    "from sklearn.model_selection import GridSearchCV\n",
    "import hyperopt\n",
    "from hyperopt import hp, fmin, tpe, Trials\n",
    "import optuna\n",
    "\n",
    "import matplotlib.pyplot as plt \n",
    "import seaborn as sns \n",
    "%matplotlib inline\n",
    "plt.style.use('seaborn')"
   ]
  },
  {
   "attachments": {},
   "cell_type": "markdown",
   "metadata": {},
   "source": [
    "## Прочтём данные"
   ]
  },
  {
   "cell_type": "code",
   "execution_count": 2,
   "metadata": {},
   "outputs": [
    {
     "data": {
      "text/html": [
       "<div>\n",
       "<style scoped>\n",
       "    .dataframe tbody tr th:only-of-type {\n",
       "        vertical-align: middle;\n",
       "    }\n",
       "\n",
       "    .dataframe tbody tr th {\n",
       "        vertical-align: top;\n",
       "    }\n",
       "\n",
       "    .dataframe thead th {\n",
       "        text-align: right;\n",
       "    }\n",
       "</style>\n",
       "<table border=\"1\" class=\"dataframe\">\n",
       "  <thead>\n",
       "    <tr style=\"text-align: right;\">\n",
       "      <th></th>\n",
       "      <th>Activity</th>\n",
       "      <th>D1</th>\n",
       "      <th>D2</th>\n",
       "      <th>D3</th>\n",
       "      <th>D4</th>\n",
       "      <th>D5</th>\n",
       "      <th>D6</th>\n",
       "      <th>D7</th>\n",
       "      <th>D8</th>\n",
       "      <th>D9</th>\n",
       "      <th>...</th>\n",
       "      <th>D1767</th>\n",
       "      <th>D1768</th>\n",
       "      <th>D1769</th>\n",
       "      <th>D1770</th>\n",
       "      <th>D1771</th>\n",
       "      <th>D1772</th>\n",
       "      <th>D1773</th>\n",
       "      <th>D1774</th>\n",
       "      <th>D1775</th>\n",
       "      <th>D1776</th>\n",
       "    </tr>\n",
       "  </thead>\n",
       "  <tbody>\n",
       "    <tr>\n",
       "      <th>0</th>\n",
       "      <td>1</td>\n",
       "      <td>0.000000</td>\n",
       "      <td>0.497009</td>\n",
       "      <td>0.10</td>\n",
       "      <td>0.0</td>\n",
       "      <td>0.132956</td>\n",
       "      <td>0.678031</td>\n",
       "      <td>0.273166</td>\n",
       "      <td>0.585445</td>\n",
       "      <td>0.743663</td>\n",
       "      <td>...</td>\n",
       "      <td>0</td>\n",
       "      <td>0</td>\n",
       "      <td>0</td>\n",
       "      <td>0</td>\n",
       "      <td>0</td>\n",
       "      <td>0</td>\n",
       "      <td>0</td>\n",
       "      <td>0</td>\n",
       "      <td>0</td>\n",
       "      <td>0</td>\n",
       "    </tr>\n",
       "    <tr>\n",
       "      <th>1</th>\n",
       "      <td>1</td>\n",
       "      <td>0.366667</td>\n",
       "      <td>0.606291</td>\n",
       "      <td>0.05</td>\n",
       "      <td>0.0</td>\n",
       "      <td>0.111209</td>\n",
       "      <td>0.803455</td>\n",
       "      <td>0.106105</td>\n",
       "      <td>0.411754</td>\n",
       "      <td>0.836582</td>\n",
       "      <td>...</td>\n",
       "      <td>1</td>\n",
       "      <td>1</td>\n",
       "      <td>1</td>\n",
       "      <td>1</td>\n",
       "      <td>0</td>\n",
       "      <td>1</td>\n",
       "      <td>0</td>\n",
       "      <td>0</td>\n",
       "      <td>1</td>\n",
       "      <td>0</td>\n",
       "    </tr>\n",
       "    <tr>\n",
       "      <th>2</th>\n",
       "      <td>1</td>\n",
       "      <td>0.033300</td>\n",
       "      <td>0.480124</td>\n",
       "      <td>0.00</td>\n",
       "      <td>0.0</td>\n",
       "      <td>0.209791</td>\n",
       "      <td>0.610350</td>\n",
       "      <td>0.356453</td>\n",
       "      <td>0.517720</td>\n",
       "      <td>0.679051</td>\n",
       "      <td>...</td>\n",
       "      <td>0</td>\n",
       "      <td>0</td>\n",
       "      <td>0</td>\n",
       "      <td>0</td>\n",
       "      <td>0</td>\n",
       "      <td>0</td>\n",
       "      <td>0</td>\n",
       "      <td>0</td>\n",
       "      <td>0</td>\n",
       "      <td>0</td>\n",
       "    </tr>\n",
       "    <tr>\n",
       "      <th>3</th>\n",
       "      <td>1</td>\n",
       "      <td>0.000000</td>\n",
       "      <td>0.538825</td>\n",
       "      <td>0.00</td>\n",
       "      <td>0.5</td>\n",
       "      <td>0.196344</td>\n",
       "      <td>0.724230</td>\n",
       "      <td>0.235606</td>\n",
       "      <td>0.288764</td>\n",
       "      <td>0.805110</td>\n",
       "      <td>...</td>\n",
       "      <td>0</td>\n",
       "      <td>0</td>\n",
       "      <td>0</td>\n",
       "      <td>0</td>\n",
       "      <td>0</td>\n",
       "      <td>0</td>\n",
       "      <td>0</td>\n",
       "      <td>0</td>\n",
       "      <td>0</td>\n",
       "      <td>0</td>\n",
       "    </tr>\n",
       "    <tr>\n",
       "      <th>4</th>\n",
       "      <td>0</td>\n",
       "      <td>0.100000</td>\n",
       "      <td>0.517794</td>\n",
       "      <td>0.00</td>\n",
       "      <td>0.0</td>\n",
       "      <td>0.494734</td>\n",
       "      <td>0.781422</td>\n",
       "      <td>0.154361</td>\n",
       "      <td>0.303809</td>\n",
       "      <td>0.812646</td>\n",
       "      <td>...</td>\n",
       "      <td>0</td>\n",
       "      <td>0</td>\n",
       "      <td>0</td>\n",
       "      <td>0</td>\n",
       "      <td>0</td>\n",
       "      <td>0</td>\n",
       "      <td>0</td>\n",
       "      <td>0</td>\n",
       "      <td>0</td>\n",
       "      <td>0</td>\n",
       "    </tr>\n",
       "  </tbody>\n",
       "</table>\n",
       "<p>5 rows × 1777 columns</p>\n",
       "</div>"
      ],
      "text/plain": [
       "   Activity        D1        D2    D3   D4        D5        D6        D7  \\\n",
       "0         1  0.000000  0.497009  0.10  0.0  0.132956  0.678031  0.273166   \n",
       "1         1  0.366667  0.606291  0.05  0.0  0.111209  0.803455  0.106105   \n",
       "2         1  0.033300  0.480124  0.00  0.0  0.209791  0.610350  0.356453   \n",
       "3         1  0.000000  0.538825  0.00  0.5  0.196344  0.724230  0.235606   \n",
       "4         0  0.100000  0.517794  0.00  0.0  0.494734  0.781422  0.154361   \n",
       "\n",
       "         D8        D9  ...  D1767  D1768  D1769  D1770  D1771  D1772  D1773  \\\n",
       "0  0.585445  0.743663  ...      0      0      0      0      0      0      0   \n",
       "1  0.411754  0.836582  ...      1      1      1      1      0      1      0   \n",
       "2  0.517720  0.679051  ...      0      0      0      0      0      0      0   \n",
       "3  0.288764  0.805110  ...      0      0      0      0      0      0      0   \n",
       "4  0.303809  0.812646  ...      0      0      0      0      0      0      0   \n",
       "\n",
       "   D1774  D1775  D1776  \n",
       "0      0      0      0  \n",
       "1      0      1      0  \n",
       "2      0      0      0  \n",
       "3      0      0      0  \n",
       "4      0      0      0  \n",
       "\n",
       "[5 rows x 1777 columns]"
      ]
     },
     "execution_count": 2,
     "metadata": {},
     "output_type": "execute_result"
    }
   ],
   "source": [
    "data = pd.read_csv('train.zip')\n",
    "data.head()"
   ]
  },
  {
   "attachments": {},
   "cell_type": "markdown",
   "metadata": {},
   "source": [
    "## Данные предобработаны, но `trust no one` или \"доверяй, но проверяй\""
   ]
  },
  {
   "cell_type": "code",
   "execution_count": 3,
   "metadata": {},
   "outputs": [
    {
     "name": "stdout",
     "output_type": "stream",
     "text": [
      "Пропуски в данных: False\n",
      "Дубликаты в данных: False\n",
      "Данные больше |1|: False\n"
     ]
    }
   ],
   "source": [
    "print('Пропуски в данных: {}'.format(data.isna().any().any()))\n",
    "print('Дубликаты в данных: {}'.format(data.duplicated().any()))\n",
    "print('Данные больше |1|: {}'.format((data > abs(1)).any().any()))"
   ]
  },
  {
   "attachments": {},
   "cell_type": "markdown",
   "metadata": {},
   "source": [
    "## Проверим сбалансированы ли данные по искомому признаку"
   ]
  },
  {
   "cell_type": "code",
   "execution_count": 4,
   "metadata": {},
   "outputs": [
    {
     "name": "stdout",
     "output_type": "stream",
     "text": [
      "1    2034\n",
      "0    1717\n",
      "Name: Activity, dtype: int64\n",
      "Соотношение 0 к 1 по признаку \"Activity\": 84.41%\n"
     ]
    }
   ],
   "source": [
    "print(data['Activity'].value_counts())\n",
    "print('Соотношение 0 к 1 по признаку \"Activity\": {:.2f}%' .format(data['Activity'].value_counts()[0] / data['Activity'].value_counts()[1] * 100))"
   ]
  },
  {
   "attachments": {},
   "cell_type": "markdown",
   "metadata": {},
   "source": [
    "## Произведём разбивку с учётом несбалансированности данных"
   ]
  },
  {
   "cell_type": "code",
   "execution_count": 5,
   "metadata": {},
   "outputs": [
    {
     "name": "stdout",
     "output_type": "stream",
     "text": [
      "(2625, 1776) (1126, 1776) (2625,) (1126,)\n"
     ]
    }
   ],
   "source": [
    "X = data.drop('Activity', axis=1)\n",
    "y = data['Activity']\n",
    "\n",
    "X_train, X_test, y_train, y_test = train_test_split(X, y, stratify=y, random_state=42, test_size=0.3)\n",
    "print(X_train.shape, X_test.shape, y_train.shape, y_test.shape )"
   ]
  },
  {
   "attachments": {},
   "cell_type": "markdown",
   "metadata": {},
   "source": [
    "# 1. Модели без оптимизаций <a class=\"anchor\" id=1></a>\n",
    "\n",
    "[наверх](#0)\n",
    "\n",
    "## 1.1 Логическая регрессия "
   ]
  },
  {
   "cell_type": "code",
   "execution_count": 6,
   "metadata": {},
   "outputs": [
    {
     "name": "stdout",
     "output_type": "stream",
     "text": [
      "f1_score на тренировочном наборе: 0.901\n",
      "f1_score на тестовом наборе: 0.780\n"
     ]
    }
   ],
   "source": [
    "# Создаём модель\n",
    "lr = linear_model.LogisticRegression(\n",
    "    max_iter=1000,\n",
    "    random_state=42\n",
    ")\n",
    "# Обучаем модель\n",
    "lr.fit(X_train, y_train)\n",
    "\n",
    "# Делаем предсказания\n",
    "y_train_pred = lr.predict(X_train)\n",
    "y_test_pred = lr.predict(X_test)\n",
    "\n",
    "# Посчитаем метрику\n",
    "print('f1_score на тренировочном наборе: {:.3f}'.format(metrics.f1_score(y_train, y_train_pred)))\n",
    "print('f1_score на тестовом наборе: {:.3f}'.format(metrics.f1_score(y_test, y_test_pred)))"
   ]
  },
  {
   "attachments": {},
   "cell_type": "markdown",
   "metadata": {},
   "source": [
    "## 1.2 Логическая регрессия с кросс-валидацией"
   ]
  },
  {
   "cell_type": "code",
   "execution_count": 7,
   "metadata": {},
   "outputs": [
    {
     "name": "stdout",
     "output_type": "stream",
     "text": [
      "f1_score_mean на тренировочном наборе с кросс-валидацией: 0.891\n",
      "f1_score_mean на тестовом наборе с кросс-валидацией: 0.778\n"
     ]
    }
   ],
   "source": [
    "# Создаём объект кросс-валидации\n",
    "kf = model_selection.KFold(n_splits=5)\n",
    "\n",
    "# Считаем метрику на кросс-валидации\n",
    "cv_metrics = model_selection.cross_validate(\n",
    "    estimator=lr,\n",
    "    X=X,\n",
    "    y=y,\n",
    "    cv=kf,\n",
    "    scoring='f1',\n",
    "    return_train_score=True \n",
    ")\n",
    "\n",
    "print('f1_score_mean на тренировочном наборе с кросс-валидацией: {:.3f}'.format(np.mean(cv_metrics['train_score'])))\n",
    "print('f1_score_mean с кросс-валидацией: {:.3f}'.format(np.mean(cv_metrics['test_score'])))"
   ]
  },
  {
   "attachments": {},
   "cell_type": "markdown",
   "metadata": {},
   "source": [
    "## 1.3 Случайный лес <a class=\"anchor\" id=1-2></a>\n",
    "\n",
    "[наверх](#0)"
   ]
  },
  {
   "cell_type": "code",
   "execution_count": 8,
   "metadata": {},
   "outputs": [
    {
     "name": "stdout",
     "output_type": "stream",
     "text": [
      "f1_score на тренировочном наборе: 1.000\n",
      "f1_score на тестовом наборе: 0.793\n"
     ]
    }
   ],
   "source": [
    "# Создаём модель\n",
    "rf = ensemble.RandomForestClassifier(\n",
    "    random_state=42\n",
    ")\n",
    "\n",
    "# Обучаем модель и снимаем метрику\n",
    "rf.fit(X_train, y_train)\n",
    "y_train_pred = rf.predict(X_train)\n",
    "print('f1_score на тренировочном наборе: {:.3f}'.format(metrics.f1_score(y_train_pred, y_train)))\n",
    "y_test_pred = rf.predict(X_test)\n",
    "print('f1_score на тестовом наборе: {:.3f}'.format(metrics.f1_score(y_test_pred, y_test)))"
   ]
  },
  {
   "attachments": {},
   "cell_type": "markdown",
   "metadata": {},
   "source": [
    "## 1.3 Случайный лес с кросс-валидацией"
   ]
  },
  {
   "cell_type": "code",
   "execution_count": 39,
   "metadata": {},
   "outputs": [
    {
     "name": "stdout",
     "output_type": "stream",
     "text": [
      "f1_score_mean на тренировочном наборе с кросс-валидацией: 0.983\n",
      "f1_score_mean с кросс-валидацией: 0.817\n"
     ]
    }
   ],
   "source": [
    "# Создаём объект кросс-валидации\n",
    "kf = model_selection.KFold(n_splits=5)\n",
    "\n",
    "# Считаем метрику на кросс-валидации\n",
    "cv_metrics = model_selection.cross_validate(\n",
    "    estimator=rf,\n",
    "    X=X,\n",
    "    y=y,\n",
    "    cv=kf,\n",
    "    scoring='f1',\n",
    "    return_train_score=True \n",
    ")\n",
    "\n",
    "print('f1_score_mean на тренировочном наборе с кросс-валидацией: {:.3f}'.format(np.mean(cv_metrics['train_score'])))\n",
    "print('f1_score_mean с кросс-валидацией: {:.3f}'.format(np.mean(cv_metrics['test_score'])))"
   ]
  },
  {
   "attachments": {},
   "cell_type": "markdown",
   "metadata": {},
   "source": [
    "# 2. Оптимизиция моделей <a class=\"anchor\" id=2></a>\n",
    "\n",
    "[наверх](#0)\n",
    "\n",
    "## 2.1 GridSearchCV\n",
    "\n",
    "## 2.1.1 GS_lr\n",
    "\n",
    "# Во всех примерах оставил минимальное количество параметров для перебора с целью ускорения работы кода. За скобками оставил многочисленные прогоны моделей для минимизации пространства для переборов гиперпараметров."
   ]
  },
  {
   "cell_type": "code",
   "execution_count": 10,
   "metadata": {},
   "outputs": [
    {
     "name": "stdout",
     "output_type": "stream",
     "text": [
      "CPU times: user 2 µs, sys: 1e+03 ns, total: 3 µs\n",
      "Wall time: 5.96 µs\n",
      "f1_score на тестовом наборе: 0.789\n",
      "Наилучшие значения гиперпараметров: {'C': 0.1, 'penalty': 'l2', 'solver': 'lbfgs'}\n"
     ]
    }
   ],
   "source": [
    "# Задаём сетку параметров для перебора\n",
    "param_grid = {'penalty': ['l2'],\n",
    "              'solver': ['lbfgs','sag'],\n",
    "              'C': [0.1, 0.2, 0.3]\n",
    "              }\n",
    "# Запускаем GridSearchCV для перебора заданных параметров\n",
    "grid_search_lr = GridSearchCV(\n",
    "    estimator=lr,\n",
    "    param_grid=param_grid, \n",
    "    cv=5, \n",
    "    n_jobs = -1\n",
    ")  \n",
    "%time \n",
    "grid_search_lr.fit(X_train, y_train) \n",
    "\n",
    "# Делаем предсказания и снимаем метрики на лучших из найденных параметрах\n",
    "y_test_pred = grid_search_lr.predict(X_test)\n",
    "print('f1_score на тестовом наборе: {:.3f}'.format(metrics.f1_score(y_test, y_test_pred)))\n",
    "print(\"Наилучшие значения гиперпараметров: {}\".format(grid_search_lr.best_params_))"
   ]
  },
  {
   "cell_type": "code",
   "execution_count": 11,
   "metadata": {},
   "outputs": [
    {
     "data": {
      "image/png": "[encoded data removed]",
      "text/plain": [
       "<Figure size 576x396 with 2 Axes>"
      ]
     },
     "metadata": {},
     "output_type": "display_data"
    }
   ],
   "source": [
    "# Визуализируем как менялась точность при различных гиперпараметрах\n",
    "result_cv_lr = pd.DataFrame(grid_search_lr.cv_results_)\n",
    "visual = pd.pivot_table(pd.DataFrame(grid_search_lr.cv_results_),\n",
    "                        values='mean_test_score', index='param_C',\n",
    "                        columns='param_solver')\n",
    "sns.heatmap(visual)\n",
    "plt.title('Тепловая карта зависимости метрики mean_test_score от solver и С') \n",
    "sns.set(rc={'figure.figsize':(12, 8)}) "
   ]
  },
  {
   "attachments": {},
   "cell_type": "markdown",
   "metadata": {},
   "source": [
    "## 2.1.2 GS_rf \n",
    "\n",
    "[наверх](#0)"
   ]
  },
  {
   "cell_type": "code",
   "execution_count": 12,
   "metadata": {},
   "outputs": [
    {
     "name": "stdout",
     "output_type": "stream",
     "text": [
      "CPU times: user 3 µs, sys: 2 µs, total: 5 µs\n",
      "Wall time: 7.87 µs\n",
      "f1_score на тестовом наборе: 0.809\n",
      "Наилучшие значения гиперпараметров: {'criterion': 'entropy', 'min_samples_leaf': 3, 'n_estimators': 250}\n"
     ]
    }
   ],
   "source": [
    "# Задаём сетку параметров для перебора\n",
    "param_grid = {'min_samples_leaf':[3, 5],\n",
    "               'n_estimators': [240, 250, 260], \n",
    "               'criterion': ['entropy', 'gini']}\n",
    "\n",
    "# Запускаем GridSearchCV для перебора заданных параметров\n",
    "grid_search_rf = GridSearchCV(\n",
    "    estimator=rf,\n",
    "    param_grid=param_grid, \n",
    "    cv=5, \n",
    "    n_jobs = -1\n",
    ")  \n",
    "%time \n",
    "grid_search_rf.fit(X_train, y_train) \n",
    "\n",
    "# Делаем предсказания и снимаем метрики на лучших из найденных параметрах\n",
    "y_test_pred = grid_search_rf.predict(X_test)\n",
    "print('f1_score на тестовом наборе: {:.3f}'.format(metrics.f1_score(y_test, y_test_pred)))\n",
    "print(\"Наилучшие значения гиперпараметров: {}\".format(grid_search_rf.best_params_))"
   ]
  },
  {
   "cell_type": "code",
   "execution_count": 13,
   "metadata": {},
   "outputs": [
    {
     "data": {
      "image/png": "[encoded data removed]",
      "text/plain": [
       "<Figure size 864x576 with 2 Axes>"
      ]
     },
     "metadata": {},
     "output_type": "display_data"
    }
   ],
   "source": [
    "# Визуализируем как менялась точность при различных гиперпараметрах\n",
    "result_cv = pd.DataFrame(grid_search_rf.cv_results_)\n",
    "visual = pd.pivot_table(pd.DataFrame(grid_search_rf.cv_results_),\n",
    "                        values='mean_test_score', index='param_n_estimators',\n",
    "                        columns='param_criterion')\n",
    "sns.heatmap(visual)\n",
    "plt.title('Тепловая карта зависимости метрики accuracy от solver и С') # подпись графика\n",
    "sns.set(rc={'figure.figsize':(12, 8)}) #задаем размер графика"
   ]
  },
  {
   "attachments": {},
   "cell_type": "markdown",
   "metadata": {},
   "source": [
    "# 2.2 RandomizedSearchCV <a class=\"anchor\" id=2-2></a>\n",
    "\n",
    "[наверх](#0)\n",
    "\n",
    "## 2.2.1 RS_lr"
   ]
  },
  {
   "cell_type": "code",
   "execution_count": 14,
   "metadata": {},
   "outputs": [
    {
     "name": "stdout",
     "output_type": "stream",
     "text": [
      "CPU times: user 2 µs, sys: 1 µs, total: 3 µs\n",
      "Wall time: 4.53 µs\n"
     ]
    },
    {
     "name": "stderr",
     "output_type": "stream",
     "text": [
      "/home/aubakirov/.local/lib/python3.10/site-packages/sklearn/model_selection/_search.py:306: UserWarning: The total space of parameters 6 is smaller than n_iter=20. Running 6 iterations. For exhaustive searches, use GridSearchCV.\n",
      "  warnings.warn(\n"
     ]
    },
    {
     "name": "stdout",
     "output_type": "stream",
     "text": [
      "f1_score на тестовом наборе: 0.789\n",
      "Наилучшие значения гиперпараметров: {'solver': 'lbfgs', 'penalty': 'l2', 'C': 0.1}\n"
     ]
    }
   ],
   "source": [
    "# Задаём сетку параметров для перебора\n",
    "param_grid = {'penalty': ['l2'],\n",
    "              'solver': ['lbfgs','sag'],\n",
    "              'C': [0.1, 0.2, 0.3]\n",
    "              }\n",
    "\n",
    "# Запускаем RandomizedSearchCV для перебора заданных параметров\n",
    "random_search_lr = RandomizedSearchCV(\n",
    "    estimator=lr,\n",
    "    param_distributions=param_grid,\n",
    "    cv=5,\n",
    "    n_iter=20,\n",
    "    n_jobs=-1\n",
    ")\n",
    "%time \n",
    "random_search_lr.fit(X_train, y_train) \n",
    "\n",
    "# Делаем предсказания и снимаем метрики на лучших из найденных параметрах\n",
    "y_test_pred = random_search_lr.predict(X_test)\n",
    "print('f1_score на тестовом наборе: {:.3f}'.format(metrics.f1_score(y_test, y_test_pred)))\n",
    "print(\"Наилучшие значения гиперпараметров: {}\".format(random_search_lr.best_params_))"
   ]
  },
  {
   "cell_type": "code",
   "execution_count": 15,
   "metadata": {},
   "outputs": [
    {
     "data": {
      "image/png": "[encoded data removed]",
      "text/plain": [
       "<Figure size 864x576 with 2 Axes>"
      ]
     },
     "metadata": {},
     "output_type": "display_data"
    }
   ],
   "source": [
    "# Визуализируем как менялась точность при различных гиперпараметрах\n",
    "result_cv_lr = pd.DataFrame(random_search_lr.cv_results_)\n",
    "visual = pd.pivot_table(pd.DataFrame(random_search_lr.cv_results_),\n",
    "                        values='mean_test_score', index='param_C',\n",
    "                        columns='param_solver')\n",
    "sns.heatmap(visual)\n",
    "plt.title('Тепловая карта зависимости метрики mean_test_score от solver и С') \n",
    "sns.set(rc={'figure.figsize':(12, 8)}) "
   ]
  },
  {
   "attachments": {},
   "cell_type": "markdown",
   "metadata": {},
   "source": [
    "## 2.2.2 RS_rf \n",
    "\n",
    "[к наверх](#0)"
   ]
  },
  {
   "cell_type": "code",
   "execution_count": 16,
   "metadata": {},
   "outputs": [
    {
     "name": "stdout",
     "output_type": "stream",
     "text": [
      "CPU times: user 1e+03 ns, sys: 1e+03 ns, total: 2 µs\n",
      "Wall time: 4.77 µs\n"
     ]
    },
    {
     "name": "stderr",
     "output_type": "stream",
     "text": [
      "/home/aubakirov/.local/lib/python3.10/site-packages/sklearn/model_selection/_search.py:306: UserWarning: The total space of parameters 12 is smaller than n_iter=20. Running 12 iterations. For exhaustive searches, use GridSearchCV.\n",
      "  warnings.warn(\n"
     ]
    },
    {
     "name": "stdout",
     "output_type": "stream",
     "text": [
      "f1_score на тестовом наборе: 0.809\n",
      "Наилучшие значения гиперпараметров: {'n_estimators': 250, 'min_samples_leaf': 3, 'criterion': 'entropy'}\n"
     ]
    }
   ],
   "source": [
    "# Задаём сетку параметров для перебора\n",
    "param_grid = {'min_samples_leaf':[3, 5],\n",
    "               'n_estimators': [240, 250, 260], \n",
    "               'criterion': ['entropy', 'gini']}\n",
    "\n",
    "# Запускаем RandomizedSearchCV для перебора заданных параметров\n",
    "random_search_rf = RandomizedSearchCV(\n",
    "    estimator=rf,\n",
    "    param_distributions=param_grid,\n",
    "    cv=5,\n",
    "    n_iter=20,\n",
    "    n_jobs=-1\n",
    ")\n",
    "%time \n",
    "random_search_rf.fit(X_train, y_train) \n",
    "\n",
    "# Делаем предсказания и снимаем метрики на лучших из найденных параметрах\n",
    "y_test_pred = random_search_rf.predict(X_test)\n",
    "print('f1_score на тестовом наборе: {:.3f}'.format(metrics.f1_score(y_test, y_test_pred)))\n",
    "print(\"Наилучшие значения гиперпараметров: {}\".format(random_search_rf.best_params_))\n"
   ]
  },
  {
   "cell_type": "code",
   "execution_count": 17,
   "metadata": {},
   "outputs": [
    {
     "data": {
      "image/png": "[encoded data removed]",
      "text/plain": [
       "<Figure size 864x576 with 2 Axes>"
      ]
     },
     "metadata": {},
     "output_type": "display_data"
    }
   ],
   "source": [
    "# Визуализируем как менялась точность при различных гиперпараметрах\n",
    "result_cv_lr = pd.DataFrame(random_search_rf.cv_results_)\n",
    "visual = pd.pivot_table(pd.DataFrame(random_search_rf.cv_results_),\n",
    "                        values='mean_test_score', index='param_n_estimators',\n",
    "                        columns='param_criterion')\n",
    "sns.heatmap(visual)\n",
    "plt.title('Тепловая карта зависимости метрики mean_test_score от solver и С') \n",
    "sns.set(rc={'figure.figsize':(12, 8)}) "
   ]
  },
  {
   "attachments": {},
   "cell_type": "markdown",
   "metadata": {},
   "source": [
    "# 2.3 Hyperopt <a class=\"anchor\" id=2-3></a>\n",
    "\n",
    "[наверх](#0)\n",
    "\n",
    "## 2.3.1 HP_lr не смог решить проблему с возвратом от Hyperopt лучших найденных параметров переданных в форме \"слов\" функция возвращает их индексами при этом непонятно к чему можно обратиться по этому индексу чтобы обратно получить \"слово\". Всякие переустановки Hyperopt и прочие \"полезные\" советы из Slack'а не помогли."
   ]
  },
  {
   "attachments": {},
   "cell_type": "markdown",
   "metadata": {},
   "source": [
    "## 2.3.2 HP_rf"
   ]
  },
  {
   "cell_type": "code",
   "execution_count": 18,
   "metadata": {},
   "outputs": [],
   "source": [
    "space={'n_estimators': hp.quniform('n_estimators', 100, 500, 1),\n",
    "       'min_samples_leaf': hp.quniform('min_samples_leaf', 2, 10, 1)\n",
    "      }"
   ]
  },
  {
   "cell_type": "code",
   "execution_count": 19,
   "metadata": {},
   "outputs": [],
   "source": [
    "random_state = 42\n",
    "def hyperopt_rf(params, cv=5, X=X_train, y=y_train, random_state=random_state):\n",
    "    # функция получает комбинацию гиперпараметров в \"params\"\n",
    "    params = {'n_estimators': int(params['n_estimators']), \n",
    "             'min_samples_leaf': int(params['min_samples_leaf'])\n",
    "              }\n",
    "  \n",
    "    # используем эту комбинацию для построения модели\n",
    "    model = ensemble.RandomForestClassifier(**params, random_state=random_state)\n",
    "\n",
    "    # обучаем модель\n",
    "    model.fit(X, y)\n",
    "\n",
    "    \n",
    "    # обучать модель можно также с помощью кросс-валидации\n",
    "    # применим  cross validation с тем же количеством фолдов\n",
    "    score = cross_val_score(model, X, y, cv=cv, scoring=\"f1\", n_jobs=-1).mean()\n",
    "\n",
    "    # метрику необходимо минимизировать, поэтому ставим знак минус\n",
    "    return -score"
   ]
  },
  {
   "cell_type": "code",
   "execution_count": 20,
   "metadata": {},
   "outputs": [
    {
     "name": "stdout",
     "output_type": "stream",
     "text": [
      "100%|██████████| 10/10 [01:12<00:00,  7.21s/trial, best loss: -0.824292109099203]\n",
      "Наилучшие значения гиперпараметров {'min_samples_leaf': 3.0, 'n_estimators': 402.0}\n"
     ]
    }
   ],
   "source": [
    "best=fmin(hyperopt_rf, # наша функция \n",
    "          space=space, # пространство гиперпараметров\n",
    "          algo=tpe.suggest, # алгоритм оптимизации, установлен по умолчанию, задавать необязательно\n",
    "          max_evals=10, # максимальное количество итераций\n",
    "          rstate=np.random.default_rng(random_state)# фиксируем для повторяемости результата\n",
    "         )\n",
    "print(\"Наилучшие значения гиперпараметров {}\".format(best))"
   ]
  },
  {
   "cell_type": "code",
   "execution_count": 37,
   "metadata": {},
   "outputs": [
    {
     "name": "stdout",
     "output_type": "stream",
     "text": [
      "f1_score на тестовом наборе: 0.800\n",
      "f1_score_mean с кросс-валидацией: 0.812\n"
     ]
    }
   ],
   "source": [
    "# рассчитаем точность для тестовой выборки\n",
    "model = ensemble.RandomForestClassifier(\n",
    "    random_state=random_state, \n",
    "    n_estimators=int(best['n_estimators']),\n",
    "    min_samples_leaf=int(best['min_samples_leaf'])\n",
    ")\n",
    "model.fit(X_train, y_train)\n",
    "y_test_pred = model.predict(X_test)\n",
    "print('f1_score на тестовом наборе: {:.3f}'.format(metrics.f1_score(y_test, y_test_pred)))\n",
    "\n",
    "# Считаем метрику на кросс-валидации\n",
    "cv_metrics = model_selection.cross_validate(\n",
    "    estimator=model,\n",
    "    X=X,\n",
    "    y=y,\n",
    "    cv=kf,\n",
    "    scoring='f1',\n",
    "    return_train_score=True \n",
    ")\n",
    "\n",
    "print('f1_score_mean с кросс-валидацией: {:.3f}'.format(np.mean(cv_metrics['test_score'])))"
   ]
  },
  {
   "attachments": {},
   "cell_type": "markdown",
   "metadata": {},
   "source": [
    "# 2.4 Optuna <a class=\"anchor\" id=2-4></a>\n",
    "\n",
    "[наверх](#0)"
   ]
  },
  {
   "cell_type": "code",
   "execution_count": 34,
   "metadata": {},
   "outputs": [],
   "source": [
    "def optuna_rf(trial):\n",
    "  # задаем пространства поиска гиперпараметров\n",
    "  n_estimators = trial.suggest_int('n_estimators', 100, 500, 1)\n",
    "  max_depth = trial.suggest_int('max_depth', 10, 50, 1)\n",
    "  min_samples_leaf = trial.suggest_int('min_samples_leaf', 2, 5, 1)\n",
    "\n",
    "  # создаем модель\n",
    "  model_op = ensemble.RandomForestClassifier(n_estimators=n_estimators,\n",
    "                                          max_depth=max_depth,\n",
    "                                          min_samples_leaf=min_samples_leaf,\n",
    "                                          random_state=random_state)\n",
    "  # обучаем модель\n",
    "  model_op.fit(X_train, y_train)\n",
    "  score = metrics.f1_score(y_train, model.predict(X_train))\n",
    "\n",
    "  return score"
   ]
  },
  {
   "cell_type": "code",
   "execution_count": 23,
   "metadata": {},
   "outputs": [
    {
     "name": "stderr",
     "output_type": "stream",
     "text": [
      "\u001b[32m[I 2022-12-31 11:47:51,160]\u001b[0m A new study created in memory with name: RandomForestClassifier\u001b[0m\n",
      "\u001b[32m[I 2022-12-31 11:47:58,266]\u001b[0m Trial 0 finished with value: 0.9905163329820864 and parameters: {'n_estimators': 477, 'max_depth': 28, 'min_samples_leaf': 2}. Best is trial 0 with value: 0.9905163329820864.\u001b[0m\n",
      "\u001b[32m[I 2022-12-31 11:48:03,951]\u001b[0m Trial 1 finished with value: 0.9769874476987448 and parameters: {'n_estimators': 451, 'max_depth': 43, 'min_samples_leaf': 3}. Best is trial 0 with value: 0.9905163329820864.\u001b[0m\n",
      "\u001b[32m[I 2022-12-31 11:48:09,812]\u001b[0m Trial 2 finished with value: 0.9664570230607966 and parameters: {'n_estimators': 490, 'max_depth': 15, 'min_samples_leaf': 3}. Best is trial 0 with value: 0.9905163329820864.\u001b[0m\n",
      "\u001b[32m[I 2022-12-31 11:48:14,309]\u001b[0m Trial 3 finished with value: 0.936214708957825 and parameters: {'n_estimators': 429, 'max_depth': 12, 'min_samples_leaf': 4}. Best is trial 0 with value: 0.9905163329820864.\u001b[0m\n",
      "\u001b[32m[I 2022-12-31 11:48:18,274]\u001b[0m Trial 4 finished with value: 0.9413398125650816 and parameters: {'n_estimators': 336, 'max_depth': 44, 'min_samples_leaf': 5}. Best is trial 0 with value: 0.9905163329820864.\u001b[0m\n",
      "\u001b[32m[I 2022-12-31 11:48:22,884]\u001b[0m Trial 5 finished with value: 0.9769553072625697 and parameters: {'n_estimators': 370, 'max_depth': 43, 'min_samples_leaf': 3}. Best is trial 0 with value: 0.9905163329820864.\u001b[0m\n",
      "\u001b[32m[I 2022-12-31 11:48:28,548]\u001b[0m Trial 6 finished with value: 0.9596381350034794 and parameters: {'n_estimators': 482, 'max_depth': 27, 'min_samples_leaf': 4}. Best is trial 0 with value: 0.9905163329820864.\u001b[0m\n",
      "\u001b[32m[I 2022-12-31 11:48:33,976]\u001b[0m Trial 7 finished with value: 0.9444058373870745 and parameters: {'n_estimators': 497, 'max_depth': 35, 'min_samples_leaf': 5}. Best is trial 0 with value: 0.9905163329820864.\u001b[0m\n",
      "\u001b[32m[I 2022-12-31 11:48:39,170]\u001b[0m Trial 8 finished with value: 0.9887719298245613 and parameters: {'n_estimators': 392, 'max_depth': 23, 'min_samples_leaf': 2}. Best is trial 0 with value: 0.9905163329820864.\u001b[0m\n",
      "\u001b[32m[I 2022-12-31 11:48:41,882]\u001b[0m Trial 9 finished with value: 0.9609483960948395 and parameters: {'n_estimators': 244, 'max_depth': 12, 'min_samples_leaf': 2}. Best is trial 0 with value: 0.9905163329820864.\u001b[0m\n",
      "\u001b[32m[I 2022-12-31 11:48:43,394]\u001b[0m Trial 10 finished with value: 0.9898281304805333 and parameters: {'n_estimators': 113, 'max_depth': 34, 'min_samples_leaf': 2}. Best is trial 0 with value: 0.9905163329820864.\u001b[0m\n",
      "\u001b[32m[I 2022-12-31 11:48:44,892]\u001b[0m Trial 11 finished with value: 0.9901754385964912 and parameters: {'n_estimators': 110, 'max_depth': 34, 'min_samples_leaf': 2}. Best is trial 0 with value: 0.9905163329820864.\u001b[0m\n",
      "\u001b[32m[I 2022-12-31 11:48:47,855]\u001b[0m Trial 12 finished with value: 0.9898281304805333 and parameters: {'n_estimators': 212, 'max_depth': 22, 'min_samples_leaf': 2}. Best is trial 0 with value: 0.9905163329820864.\u001b[0m\n",
      "\u001b[32m[I 2022-12-31 11:48:49,442]\u001b[0m Trial 13 finished with value: 0.9887876664330764 and parameters: {'n_estimators': 102, 'max_depth': 34, 'min_samples_leaf': 2}. Best is trial 0 with value: 0.9905163329820864.\u001b[0m\n",
      "\u001b[32m[I 2022-12-31 11:48:52,952]\u001b[0m Trial 14 finished with value: 0.976923076923077 and parameters: {'n_estimators': 261, 'max_depth': 28, 'min_samples_leaf': 3}. Best is trial 0 with value: 0.9905163329820864.\u001b[0m\n",
      "\u001b[32m[I 2022-12-31 11:48:55,414]\u001b[0m Trial 15 finished with value: 0.9901685393258427 and parameters: {'n_estimators': 179, 'max_depth': 38, 'min_samples_leaf': 2}. Best is trial 0 with value: 0.9905163329820864.\u001b[0m\n",
      "\u001b[32m[I 2022-12-31 11:48:59,013]\u001b[0m Trial 16 finished with value: 0.9610570236439498 and parameters: {'n_estimators': 310, 'max_depth': 49, 'min_samples_leaf': 4}. Best is trial 0 with value: 0.9905163329820864.\u001b[0m\n",
      "\u001b[32m[I 2022-12-31 11:49:01,160]\u001b[0m Trial 17 finished with value: 0.9748603351955307 and parameters: {'n_estimators': 171, 'max_depth': 21, 'min_samples_leaf': 3}. Best is trial 0 with value: 0.9905163329820864.\u001b[0m\n",
      "\u001b[32m[I 2022-12-31 11:49:04,678]\u001b[0m Trial 18 finished with value: 0.9912126537785588 and parameters: {'n_estimators': 275, 'max_depth': 30, 'min_samples_leaf': 2}. Best is trial 18 with value: 0.9912126537785588.\u001b[0m\n",
      "\u001b[32m[I 2022-12-31 11:49:08,203]\u001b[0m Trial 19 finished with value: 0.9755927475592748 and parameters: {'n_estimators': 278, 'max_depth': 18, 'min_samples_leaf': 3}. Best is trial 18 with value: 0.9912126537785588.\u001b[0m\n"
     ]
    },
    {
     "name": "stdout",
     "output_type": "stream",
     "text": [
      "CPU times: user 1min 16s, sys: 283 ms, total: 1min 17s\n",
      "Wall time: 1min 17s\n"
     ]
    }
   ],
   "source": [
    "%%time\n",
    "# cоздаем объект исследования\n",
    "# можем напрямую указать, что нам необходимо максимизировать метрику direction=\"maximize\"\n",
    "study = optuna.create_study(study_name=\"RandomForestClassifier\", direction=\"maximize\")\n",
    "# ищем лучшую комбинацию гиперпараметров n_trials раз\n",
    "study.optimize(optuna_rf, n_trials=20)"
   ]
  },
  {
   "cell_type": "code",
   "execution_count": 24,
   "metadata": {},
   "outputs": [
    {
     "name": "stdout",
     "output_type": "stream",
     "text": [
      "Наилучшие значения гиперпараметров {'n_estimators': 275, 'max_depth': 30, 'min_samples_leaf': 2}\n",
      "f1_score на обучающем наборе: 0.99\n"
     ]
    }
   ],
   "source": [
    "# выводим результаты на обучающей выборке\n",
    "print(\"Наилучшие значения гиперпараметров {}\".format(study.best_params))\n",
    "print(\"f1_score на обучающем наборе: {:.2f}\".format(study.best_value))"
   ]
  },
  {
   "cell_type": "code",
   "execution_count": 35,
   "metadata": {},
   "outputs": [
    {
     "name": "stdout",
     "output_type": "stream",
     "text": [
      "f1_score на тестовом наборе: 0.800\n"
     ]
    }
   ],
   "source": [
    "# рассчитаем точность для тестовой выборки\n",
    "model_op = ensemble.RandomForestClassifier(**study.best_params,random_state=random_state, )\n",
    "model_op.fit(X_train, y_train)\n",
    "\n",
    "y_test_pred = model_op.predict(X_test)\n",
    "print('f1_score на тестовом наборе: {:.3f}'.format(metrics.f1_score(y_test, y_test_pred)))"
   ]
  },
  {
   "cell_type": "code",
   "execution_count": 26,
   "metadata": {},
   "outputs": [
    {
     "name": "stderr",
     "output_type": "stream",
     "text": [
      "\u001b[32m[I 2022-12-31 11:49:16,557]\u001b[0m Trial 20 finished with value: 0.9905163329820864 and parameters: {'n_estimators': 336, 'max_depth': 26, 'min_samples_leaf': 2}. Best is trial 18 with value: 0.9912126537785588.\u001b[0m\n",
      "\u001b[32m[I 2022-12-31 11:49:20,886]\u001b[0m Trial 21 finished with value: 0.9908643710470836 and parameters: {'n_estimators': 335, 'max_depth': 27, 'min_samples_leaf': 2}. Best is trial 18 with value: 0.9912126537785588.\u001b[0m\n",
      "\u001b[32m[I 2022-12-31 11:49:25,123]\u001b[0m Trial 22 finished with value: 0.9901685393258427 and parameters: {'n_estimators': 328, 'max_depth': 26, 'min_samples_leaf': 2}. Best is trial 18 with value: 0.9912126537785588.\u001b[0m\n",
      "\u001b[32m[I 2022-12-31 11:49:30,143]\u001b[0m Trial 23 finished with value: 0.9905229905229905 and parameters: {'n_estimators': 393, 'max_depth': 31, 'min_samples_leaf': 2}. Best is trial 18 with value: 0.9912126537785588.\u001b[0m\n",
      "\u001b[32m[I 2022-12-31 11:49:34,971]\u001b[0m Trial 24 finished with value: 0.9772965420887182 and parameters: {'n_estimators': 387, 'max_depth': 31, 'min_samples_leaf': 3}. Best is trial 18 with value: 0.9912126537785588.\u001b[0m\n",
      "\u001b[32m[I 2022-12-31 11:49:39,601]\u001b[0m Trial 25 finished with value: 0.9905229905229905 and parameters: {'n_estimators': 363, 'max_depth': 39, 'min_samples_leaf': 2}. Best is trial 18 with value: 0.9912126537785588.\u001b[0m\n",
      "\u001b[32m[I 2022-12-31 11:49:43,107]\u001b[0m Trial 26 finished with value: 0.9769713886950453 and parameters: {'n_estimators': 296, 'max_depth': 38, 'min_samples_leaf': 3}. Best is trial 18 with value: 0.9912126537785588.\u001b[0m\n",
      "\u001b[32m[I 2022-12-31 11:49:48,577]\u001b[0m Trial 27 finished with value: 0.9905229905229905 and parameters: {'n_estimators': 414, 'max_depth': 31, 'min_samples_leaf': 2}. Best is trial 18 with value: 0.9912126537785588.\u001b[0m\n",
      "\u001b[32m[I 2022-12-31 11:49:53,733]\u001b[0m Trial 28 finished with value: 0.9574912891986062 and parameters: {'n_estimators': 428, 'max_depth': 19, 'min_samples_leaf': 4}. Best is trial 18 with value: 0.9912126537785588.\u001b[0m\n",
      "\u001b[32m[I 2022-12-31 11:49:56,949]\u001b[0m Trial 29 finished with value: 0.9905163329820864 and parameters: {'n_estimators': 248, 'max_depth': 30, 'min_samples_leaf': 2}. Best is trial 18 with value: 0.9912126537785588.\u001b[0m\n"
     ]
    }
   ],
   "source": [
    "study.optimize(optuna_rf, n_trials=10)"
   ]
  },
  {
   "cell_type": "code",
   "execution_count": 36,
   "metadata": {},
   "outputs": [
    {
     "name": "stdout",
     "output_type": "stream",
     "text": [
      "f1_score на тестовом наборе: 0.800\n",
      "f1_score_mean с кросс-валидацией: 0.813\n"
     ]
    }
   ],
   "source": [
    "# рассчитаем точность для тестовой выборки\n",
    "model_op = ensemble.RandomForestClassifier(**study.best_params,random_state=random_state, )\n",
    "model_op.fit(X_train, y_train)\n",
    "\n",
    "y_test_pred = model_op.predict(X_test)\n",
    "print('f1_score на тестовом наборе: {:.3f}'.format(metrics.f1_score(y_test, y_test_pred)))\n",
    "\n",
    "# Считаем метрику на кросс-валидации\n",
    "cv_metrics = model_selection.cross_validate(\n",
    "    estimator=model_op,\n",
    "    X=X,\n",
    "    y=y,\n",
    "    cv=kf,\n",
    "    scoring='f1',\n",
    "    return_train_score=True \n",
    ")\n",
    "\n",
    "print('f1_score_mean с кросс-валидацией: {:.3f}'.format(np.mean(cv_metrics['test_score'])))"
   ]
  },
  {
   "cell_type": "code",
   "execution_count": 28,
   "metadata": {},
   "outputs": [
    {
     "data": {
      "application/vnd.plotly.v1+json": {
       "config": {
        "plotlyServerURL": "https://plot.ly"
       },
       "data": [
        {
         "mode": "markers",
         "name": "f1_score",
         "type": "scatter",
         "x": [
          0,
          1,
          2,
          3,
          4,
          5,
          6,
          7,
          8,
          9,
          10,
          11,
          12,
          13,
          14,
          15,
          16,
          17,
          18,
          19,
          20,
          21,
          22,
          23,
          24,
          25,
          26,
          27,
          28,
          29
         ],
         "y": [
          0.9905163329820864,
          0.9769874476987448,
          0.9664570230607966,
          0.936214708957825,
          0.9413398125650816,
          0.9769553072625697,
          0.9596381350034794,
          0.9444058373870745,
          0.9887719298245613,
          0.9609483960948395,
          0.9898281304805333,
          0.9901754385964912,
          0.9898281304805333,
          0.9887876664330764,
          0.976923076923077,
          0.9901685393258427,
          0.9610570236439498,
          0.9748603351955307,
          0.9912126537785588,
          0.9755927475592748,
          0.9905163329820864,
          0.9908643710470836,
          0.9901685393258427,
          0.9905229905229905,
          0.9772965420887182,
          0.9905229905229905,
          0.9769713886950453,
          0.9905229905229905,
          0.9574912891986062,
          0.9905163329820864
         ]
        },
        {
         "name": "Best Value",
         "type": "scatter",
         "x": [
          0,
          1,
          2,
          3,
          4,
          5,
          6,
          7,
          8,
          9,
          10,
          11,
          12,
          13,
          14,
          15,
          16,
          17,
          18,
          19,
          20,
          21,
          22,
          23,
          24,
          25,
          26,
          27,
          28,
          29
         ],
         "y": [
          0.9905163329820864,
          0.9905163329820864,
          0.9905163329820864,
          0.9905163329820864,
          0.9905163329820864,
          0.9905163329820864,
          0.9905163329820864,
          0.9905163329820864,
          0.9905163329820864,
          0.9905163329820864,
          0.9905163329820864,
          0.9905163329820864,
          0.9905163329820864,
          0.9905163329820864,
          0.9905163329820864,
          0.9905163329820864,
          0.9905163329820864,
          0.9905163329820864,
          0.9912126537785588,
          0.9912126537785588,
          0.9912126537785588,
          0.9912126537785588,
          0.9912126537785588,
          0.9912126537785588,
          0.9912126537785588,
          0.9912126537785588,
          0.9912126537785588,
          0.9912126537785588,
          0.9912126537785588,
          0.9912126537785588
         ]
        }
       ],
       "layout": {
        "template": {
         "data": {
          "bar": [
           {
            "error_x": {
             "color": "#2a3f5f"
            },
            "error_y": {
             "color": "#2a3f5f"
            },
            "marker": {
             "line": {
              "color": "#E5ECF6",
              "width": 0.5
             },
             "pattern": {
              "fillmode": "overlay",
              "size": 10,
              "solidity": 0.2
             }
            },
            "type": "bar"
           }
          ],
          "barpolar": [
           {
            "marker": {
             "line": {
              "color": "#E5ECF6",
              "width": 0.5
             },
             "pattern": {
              "fillmode": "overlay",
              "size": 10,
              "solidity": 0.2
             }
            },
            "type": "barpolar"
           }
          ],
          "carpet": [
           {
            "aaxis": {
             "endlinecolor": "#2a3f5f",
             "gridcolor": "white",
             "linecolor": "white",
             "minorgridcolor": "white",
             "startlinecolor": "#2a3f5f"
            },
            "baxis": {
             "endlinecolor": "#2a3f5f",
             "gridcolor": "white",
             "linecolor": "white",
             "minorgridcolor": "white",
             "startlinecolor": "#2a3f5f"
            },
            "type": "carpet"
           }
          ],
          "choropleth": [
           {
            "colorbar": {
             "outlinewidth": 0,
             "ticks": ""
            },
            "type": "choropleth"
           }
          ],
          "contour": [
           {
            "colorbar": {
             "outlinewidth": 0,
             "ticks": ""
            },
            "colorscale": [
             [
              0,
              "#0d0887"
             ],
             [
              0.1111111111111111,
              "#46039f"
             ],
             [
              0.2222222222222222,
              "#7201a8"
             ],
             [
              0.3333333333333333,
              "#9c179e"
             ],
             [
              0.4444444444444444,
              "#bd3786"
             ],
             [
              0.5555555555555556,
              "#d8576b"
             ],
             [
              0.6666666666666666,
              "#ed7953"
             ],
             [
              0.7777777777777778,
              "#fb9f3a"
             ],
             [
              0.8888888888888888,
              "#fdca26"
             ],
             [
              1,
              "#f0f921"
             ]
            ],
            "type": "contour"
           }
          ],
          "contourcarpet": [
           {
            "colorbar": {
             "outlinewidth": 0,
             "ticks": ""
            },
            "type": "contourcarpet"
           }
          ],
          "heatmap": [
           {
            "colorbar": {
             "outlinewidth": 0,
             "ticks": ""
            },
            "colorscale": [
             [
              0,
              "#0d0887"
             ],
             [
              0.1111111111111111,
              "#46039f"
             ],
             [
              0.2222222222222222,
              "#7201a8"
             ],
             [
              0.3333333333333333,
              "#9c179e"
             ],
             [
              0.4444444444444444,
              "#bd3786"
             ],
             [
              0.5555555555555556,
              "#d8576b"
             ],
             [
              0.6666666666666666,
              "#ed7953"
             ],
             [
              0.7777777777777778,
              "#fb9f3a"
             ],
             [
              0.8888888888888888,
              "#fdca26"
             ],
             [
              1,
              "#f0f921"
             ]
            ],
            "type": "heatmap"
           }
          ],
          "heatmapgl": [
           {
            "colorbar": {
             "outlinewidth": 0,
             "ticks": ""
            },
            "colorscale": [
             [
              0,
              "#0d0887"
             ],
             [
              0.1111111111111111,
              "#46039f"
             ],
             [
              0.2222222222222222,
              "#7201a8"
             ],
             [
              0.3333333333333333,
              "#9c179e"
             ],
             [
              0.4444444444444444,
              "#bd3786"
             ],
             [
              0.5555555555555556,
              "#d8576b"
             ],
             [
              0.6666666666666666,
              "#ed7953"
             ],
             [
              0.7777777777777778,
              "#fb9f3a"
             ],
             [
              0.8888888888888888,
              "#fdca26"
             ],
             [
              1,
              "#f0f921"
             ]
            ],
            "type": "heatmapgl"
           }
          ],
          "histogram": [
           {
            "marker": {
             "pattern": {
              "fillmode": "overlay",
              "size": 10,
              "solidity": 0.2
             }
            },
            "type": "histogram"
           }
          ],
          "histogram2d": [
           {
            "colorbar": {
             "outlinewidth": 0,
             "ticks": ""
            },
            "colorscale": [
             [
              0,
              "#0d0887"
             ],
             [
              0.1111111111111111,
              "#46039f"
             ],
             [
              0.2222222222222222,
              "#7201a8"
             ],
             [
              0.3333333333333333,
              "#9c179e"
             ],
             [
              0.4444444444444444,
              "#bd3786"
             ],
             [
              0.5555555555555556,
              "#d8576b"
             ],
             [
              0.6666666666666666,
              "#ed7953"
             ],
             [
              0.7777777777777778,
              "#fb9f3a"
             ],
             [
              0.8888888888888888,
              "#fdca26"
             ],
             [
              1,
              "#f0f921"
             ]
            ],
            "type": "histogram2d"
           }
          ],
          "histogram2dcontour": [
           {
            "colorbar": {
             "outlinewidth": 0,
             "ticks": ""
            },
            "colorscale": [
             [
              0,
              "#0d0887"
             ],
             [
              0.1111111111111111,
              "#46039f"
             ],
             [
              0.2222222222222222,
              "#7201a8"
             ],
             [
              0.3333333333333333,
              "#9c179e"
             ],
             [
              0.4444444444444444,
              "#bd3786"
             ],
             [
              0.5555555555555556,
              "#d8576b"
             ],
             [
              0.6666666666666666,
              "#ed7953"
             ],
             [
              0.7777777777777778,
              "#fb9f3a"
             ],
             [
              0.8888888888888888,
              "#fdca26"
             ],
             [
              1,
              "#f0f921"
             ]
            ],
            "type": "histogram2dcontour"
           }
          ],
          "mesh3d": [
           {
            "colorbar": {
             "outlinewidth": 0,
             "ticks": ""
            },
            "type": "mesh3d"
           }
          ],
          "parcoords": [
           {
            "line": {
             "colorbar": {
              "outlinewidth": 0,
              "ticks": ""
             }
            },
            "type": "parcoords"
           }
          ],
          "pie": [
           {
            "automargin": true,
            "type": "pie"
           }
          ],
          "scatter": [
           {
            "fillpattern": {
             "fillmode": "overlay",
             "size": 10,
             "solidity": 0.2
            },
            "type": "scatter"
           }
          ],
          "scatter3d": [
           {
            "line": {
             "colorbar": {
              "outlinewidth": 0,
              "ticks": ""
             }
            },
            "marker": {
             "colorbar": {
              "outlinewidth": 0,
              "ticks": ""
             }
            },
            "type": "scatter3d"
           }
          ],
          "scattercarpet": [
           {
            "marker": {
             "colorbar": {
              "outlinewidth": 0,
              "ticks": ""
             }
            },
            "type": "scattercarpet"
           }
          ],
          "scattergeo": [
           {
            "marker": {
             "colorbar": {
              "outlinewidth": 0,
              "ticks": ""
             }
            },
            "type": "scattergeo"
           }
          ],
          "scattergl": [
           {
            "marker": {
             "colorbar": {
              "outlinewidth": 0,
              "ticks": ""
             }
            },
            "type": "scattergl"
           }
          ],
          "scattermapbox": [
           {
            "marker": {
             "colorbar": {
              "outlinewidth": 0,
              "ticks": ""
             }
            },
            "type": "scattermapbox"
           }
          ],
          "scatterpolar": [
           {
            "marker": {
             "colorbar": {
              "outlinewidth": 0,
              "ticks": ""
             }
            },
            "type": "scatterpolar"
           }
          ],
          "scatterpolargl": [
           {
            "marker": {
             "colorbar": {
              "outlinewidth": 0,
              "ticks": ""
             }
            },
            "type": "scatterpolargl"
           }
          ],
          "scatterternary": [
           {
            "marker": {
             "colorbar": {
              "outlinewidth": 0,
              "ticks": ""
             }
            },
            "type": "scatterternary"
           }
          ],
          "surface": [
           {
            "colorbar": {
             "outlinewidth": 0,
             "ticks": ""
            },
            "colorscale": [
             [
              0,
              "#0d0887"
             ],
             [
              0.1111111111111111,
              "#46039f"
             ],
             [
              0.2222222222222222,
              "#7201a8"
             ],
             [
              0.3333333333333333,
              "#9c179e"
             ],
             [
              0.4444444444444444,
              "#bd3786"
             ],
             [
              0.5555555555555556,
              "#d8576b"
             ],
             [
              0.6666666666666666,
              "#ed7953"
             ],
             [
              0.7777777777777778,
              "#fb9f3a"
             ],
             [
              0.8888888888888888,
              "#fdca26"
             ],
             [
              1,
              "#f0f921"
             ]
            ],
            "type": "surface"
           }
          ],
          "table": [
           {
            "cells": {
             "fill": {
              "color": "#EBF0F8"
             },
             "line": {
              "color": "white"
             }
            },
            "header": {
             "fill": {
              "color": "#C8D4E3"
             },
             "line": {
              "color": "white"
             }
            },
            "type": "table"
           }
          ]
         },
         "layout": {
          "annotationdefaults": {
           "arrowcolor": "#2a3f5f",
           "arrowhead": 0,
           "arrowwidth": 1
          },
          "autotypenumbers": "strict",
          "coloraxis": {
           "colorbar": {
            "outlinewidth": 0,
            "ticks": ""
           }
          },
          "colorscale": {
           "diverging": [
            [
             0,
             "#8e0152"
            ],
            [
             0.1,
             "#c51b7d"
            ],
            [
             0.2,
             "#de77ae"
            ],
            [
             0.3,
             "#f1b6da"
            ],
            [
             0.4,
             "#fde0ef"
            ],
            [
             0.5,
             "#f7f7f7"
            ],
            [
             0.6,
             "#e6f5d0"
            ],
            [
             0.7,
             "#b8e186"
            ],
            [
             0.8,
             "#7fbc41"
            ],
            [
             0.9,
             "#4d9221"
            ],
            [
             1,
             "#276419"
            ]
           ],
           "sequential": [
            [
             0,
             "#0d0887"
            ],
            [
             0.1111111111111111,
             "#46039f"
            ],
            [
             0.2222222222222222,
             "#7201a8"
            ],
            [
             0.3333333333333333,
             "#9c179e"
            ],
            [
             0.4444444444444444,
             "#bd3786"
            ],
            [
             0.5555555555555556,
             "#d8576b"
            ],
            [
             0.6666666666666666,
             "#ed7953"
            ],
            [
             0.7777777777777778,
             "#fb9f3a"
            ],
            [
             0.8888888888888888,
             "#fdca26"
            ],
            [
             1,
             "#f0f921"
            ]
           ],
           "sequentialminus": [
            [
             0,
             "#0d0887"
            ],
            [
             0.1111111111111111,
             "#46039f"
            ],
            [
             0.2222222222222222,
             "#7201a8"
            ],
            [
             0.3333333333333333,
             "#9c179e"
            ],
            [
             0.4444444444444444,
             "#bd3786"
            ],
            [
             0.5555555555555556,
             "#d8576b"
            ],
            [
             0.6666666666666666,
             "#ed7953"
            ],
            [
             0.7777777777777778,
             "#fb9f3a"
            ],
            [
             0.8888888888888888,
             "#fdca26"
            ],
            [
             1,
             "#f0f921"
            ]
           ]
          },
          "colorway": [
           "#636efa",
           "#EF553B",
           "#00cc96",
           "#ab63fa",
           "#FFA15A",
           "#19d3f3",
           "#FF6692",
           "#B6E880",
           "#FF97FF",
           "#FECB52"
          ],
          "font": {
           "color": "#2a3f5f"
          },
          "geo": {
           "bgcolor": "white",
           "lakecolor": "white",
           "landcolor": "#E5ECF6",
           "showlakes": true,
           "showland": true,
           "subunitcolor": "white"
          },
          "hoverlabel": {
           "align": "left"
          },
          "hovermode": "closest",
          "mapbox": {
           "style": "light"
          },
          "paper_bgcolor": "white",
          "plot_bgcolor": "#E5ECF6",
          "polar": {
           "angularaxis": {
            "gridcolor": "white",
            "linecolor": "white",
            "ticks": ""
           },
           "bgcolor": "#E5ECF6",
           "radialaxis": {
            "gridcolor": "white",
            "linecolor": "white",
            "ticks": ""
           }
          },
          "scene": {
           "xaxis": {
            "backgroundcolor": "#E5ECF6",
            "gridcolor": "white",
            "gridwidth": 2,
            "linecolor": "white",
            "showbackground": true,
            "ticks": "",
            "zerolinecolor": "white"
           },
           "yaxis": {
            "backgroundcolor": "#E5ECF6",
            "gridcolor": "white",
            "gridwidth": 2,
            "linecolor": "white",
            "showbackground": true,
            "ticks": "",
            "zerolinecolor": "white"
           },
           "zaxis": {
            "backgroundcolor": "#E5ECF6",
            "gridcolor": "white",
            "gridwidth": 2,
            "linecolor": "white",
            "showbackground": true,
            "ticks": "",
            "zerolinecolor": "white"
           }
          },
          "shapedefaults": {
           "line": {
            "color": "#2a3f5f"
           }
          },
          "ternary": {
           "aaxis": {
            "gridcolor": "white",
            "linecolor": "white",
            "ticks": ""
           },
           "baxis": {
            "gridcolor": "white",
            "linecolor": "white",
            "ticks": ""
           },
           "bgcolor": "#E5ECF6",
           "caxis": {
            "gridcolor": "white",
            "linecolor": "white",
            "ticks": ""
           }
          },
          "title": {
           "x": 0.05
          },
          "xaxis": {
           "automargin": true,
           "gridcolor": "white",
           "linecolor": "white",
           "ticks": "",
           "title": {
            "standoff": 15
           },
           "zerolinecolor": "white",
           "zerolinewidth": 2
          },
          "yaxis": {
           "automargin": true,
           "gridcolor": "white",
           "linecolor": "white",
           "ticks": "",
           "title": {
            "standoff": 15
           },
           "zerolinecolor": "white",
           "zerolinewidth": 2
          }
         }
        },
        "title": {
         "text": "Optimization History Plot"
        },
        "xaxis": {
         "title": {
          "text": "Trial"
         }
        },
        "yaxis": {
         "title": {
          "text": "f1_score"
         }
        }
       }
      }
     },
     "metadata": {},
     "output_type": "display_data"
    }
   ],
   "source": [
    "optuna.visualization.plot_optimization_history(study, target_name=\"f1_score\")"
   ]
  },
  {
   "attachments": {},
   "cell_type": "markdown",
   "metadata": {},
   "source": [
    "# 3. Итоги <a class=\"anchor\" id=3></a>\n",
    "\n",
    "[наверх](#0)\n",
    "\n",
    "По полученным гиперпараметрам обучим финальные версии моделей.\n",
    "\n",
    "## Логическая регрессия"
   ]
  },
  {
   "cell_type": "code",
   "execution_count": 40,
   "metadata": {},
   "outputs": [
    {
     "name": "stdout",
     "output_type": "stream",
     "text": [
      "f1_score_mean с кросс-валидацией: 0.789\n"
     ]
    }
   ],
   "source": [
    "# Создаём модель с подобранными гиперпараметрами\n",
    "lr = linear_model.LogisticRegression(\n",
    "    max_iter=1000,\n",
    "    random_state=42,\n",
    "    solver='lbfgs',\n",
    "    penalty='l2',\n",
    "    C=0.1\n",
    ")\n",
    "\n",
    "# Создаём объект кросс-валидации\n",
    "kf = model_selection.KFold(n_splits=5)\n",
    "\n",
    "# Считаем метрику на кросс-валидации\n",
    "cv_metrics = model_selection.cross_validate(\n",
    "    estimator=lr,\n",
    "    X=X,\n",
    "    y=y,\n",
    "    cv=kf,\n",
    "    scoring='f1'\n",
    ")\n",
    "\n",
    "print('f1_score_mean с кросс-валидацией: {:.3f}'.format(np.mean(cv_metrics['test_score'])))"
   ]
  },
  {
   "attachments": {},
   "cell_type": "markdown",
   "metadata": {},
   "source": [
    "## Случайный лес"
   ]
  },
  {
   "cell_type": "code",
   "execution_count": 41,
   "metadata": {},
   "outputs": [
    {
     "name": "stdout",
     "output_type": "stream",
     "text": [
      "f1_score_mean с кросс-валидацией: 0.817\n"
     ]
    }
   ],
   "source": [
    "# Создаём модель с подобранными гиперпараметрами\n",
    "rf = ensemble.RandomForestClassifier(\n",
    "    random_state=42,\n",
    "    n_estimators=250,\n",
    "    min_samples_leaf=3,\n",
    "    criterion='entropy'\n",
    ")\n",
    "\n",
    "# Создаём объект кросс-валидации\n",
    "kf = model_selection.KFold(n_splits=5)\n",
    "\n",
    "# Считаем метрику на кросс-валидации\n",
    "cv_metrics = model_selection.cross_validate(\n",
    "    estimator=rf,\n",
    "    X=X,\n",
    "    y=y,\n",
    "    cv=kf,\n",
    "    scoring='f1'\n",
    ")\n",
    "\n",
    "print('f1_score_mean с кросс-валидацией: {:.3f}'.format(np.mean(cv_metrics['test_score'])))"
   ]
  }
 ],
 "metadata": {
  "kernelspec": {
   "display_name": "Python 3.9.12 ('base')",
   "language": "python",
   "name": "python3"
  },
  "language_info": {
   "codemirror_mode": {
    "name": "ipython",
    "version": 3
   },
   "file_extension": ".py",
   "mimetype": "text/x-python",
   "name": "python",
   "nbconvert_exporter": "python",
   "pygments_lexer": "ipython3",
   "version": "3.9.12 (main, Apr  4 2022, 05:22:27) [MSC v.1916 64 bit (AMD64)]"
  },
  "orig_nbformat": 4,
  "vscode": {
   "interpreter": {
    "hash": "c3380a37b4678e1f5e651331348d62bc6038aef0d5f414da260f404a34792558"
   }
  }
 },
 "nbformat": 4,
 "nbformat_minor": 2
}
