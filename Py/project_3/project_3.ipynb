{
 "cells": [
  {
   "cell_type": "markdown",
   "metadata": {},
   "source": [
    "[hotels.csv](https://drive.google.com/file/d/1Qj0iYEbD64eVAaaBylJeIi3qvMzxf2C_/)"
   ]
  },
  {
   "cell_type": "code",
   "execution_count": 29,
   "metadata": {},
   "outputs": [],
   "source": [
    "import pandas as pd\n",
    "import matplotlib.pyplot as plt\n",
    "\n",
    "# Для корректного отображения фона в тёмной теме VS Code\n",
    "plt.style.use('default')\n"
   ]
  },
  {
   "cell_type": "code",
   "execution_count": 31,
   "metadata": {},
   "outputs": [
    {
     "data": {
      "text/html": [
       "<div>\n",
       "<style scoped>\n",
       "    .dataframe tbody tr th:only-of-type {\n",
       "        vertical-align: middle;\n",
       "    }\n",
       "\n",
       "    .dataframe tbody tr th {\n",
       "        vertical-align: top;\n",
       "    }\n",
       "\n",
       "    .dataframe thead th {\n",
       "        text-align: right;\n",
       "    }\n",
       "</style>\n",
       "<table border=\"1\" class=\"dataframe\">\n",
       "  <thead>\n",
       "    <tr style=\"text-align: right;\">\n",
       "      <th></th>\n",
       "      <th>hotel_address</th>\n",
       "      <th>additional_number_of_scoring</th>\n",
       "      <th>review_date</th>\n",
       "      <th>average_score</th>\n",
       "      <th>hotel_name</th>\n",
       "      <th>reviewer_nationality</th>\n",
       "      <th>negative_review</th>\n",
       "      <th>review_total_negative_word_counts</th>\n",
       "      <th>total_number_of_reviews</th>\n",
       "      <th>positive_review</th>\n",
       "      <th>review_total_positive_word_counts</th>\n",
       "      <th>total_number_of_reviews_reviewer_has_given</th>\n",
       "      <th>reviewer_score</th>\n",
       "      <th>tags</th>\n",
       "      <th>days_since_review</th>\n",
       "      <th>lat</th>\n",
       "      <th>lng</th>\n",
       "    </tr>\n",
       "  </thead>\n",
       "  <tbody>\n",
       "    <tr>\n",
       "      <th>0</th>\n",
       "      <td>Stratton Street Mayfair Westminster Borough Lo...</td>\n",
       "      <td>581</td>\n",
       "      <td>2/19/2016</td>\n",
       "      <td>8.4</td>\n",
       "      <td>The May Fair Hotel</td>\n",
       "      <td>United Kingdom</td>\n",
       "      <td>Leaving</td>\n",
       "      <td>3</td>\n",
       "      <td>1994</td>\n",
       "      <td>Staff were amazing</td>\n",
       "      <td>4</td>\n",
       "      <td>7</td>\n",
       "      <td>10.0</td>\n",
       "      <td>[' Leisure trip ', ' Couple ', ' Studio Suite ...</td>\n",
       "      <td>531 day</td>\n",
       "      <td>51.507894</td>\n",
       "      <td>-0.143671</td>\n",
       "    </tr>\n",
       "    <tr>\n",
       "      <th>1</th>\n",
       "      <td>130 134 Southampton Row Camden London WC1B 5AF...</td>\n",
       "      <td>299</td>\n",
       "      <td>1/12/2017</td>\n",
       "      <td>8.3</td>\n",
       "      <td>Mercure London Bloomsbury Hotel</td>\n",
       "      <td>United Kingdom</td>\n",
       "      <td>poor breakfast</td>\n",
       "      <td>3</td>\n",
       "      <td>1361</td>\n",
       "      <td>location</td>\n",
       "      <td>2</td>\n",
       "      <td>14</td>\n",
       "      <td>6.3</td>\n",
       "      <td>[' Business trip ', ' Couple ', ' Standard Dou...</td>\n",
       "      <td>203 day</td>\n",
       "      <td>51.521009</td>\n",
       "      <td>-0.123097</td>\n",
       "    </tr>\n",
       "  </tbody>\n",
       "</table>\n",
       "</div>"
      ],
      "text/plain": [
       "                                       hotel_address  \\\n",
       "0  Stratton Street Mayfair Westminster Borough Lo...   \n",
       "1  130 134 Southampton Row Camden London WC1B 5AF...   \n",
       "\n",
       "   additional_number_of_scoring review_date  average_score  \\\n",
       "0                           581   2/19/2016            8.4   \n",
       "1                           299   1/12/2017            8.3   \n",
       "\n",
       "                        hotel_name reviewer_nationality  negative_review  \\\n",
       "0               The May Fair Hotel      United Kingdom          Leaving    \n",
       "1  Mercure London Bloomsbury Hotel      United Kingdom    poor breakfast   \n",
       "\n",
       "   review_total_negative_word_counts  total_number_of_reviews  \\\n",
       "0                                  3                     1994   \n",
       "1                                  3                     1361   \n",
       "\n",
       "       positive_review  review_total_positive_word_counts  \\\n",
       "0   Staff were amazing                                  4   \n",
       "1             location                                  2   \n",
       "\n",
       "   total_number_of_reviews_reviewer_has_given  reviewer_score  \\\n",
       "0                                           7            10.0   \n",
       "1                                          14             6.3   \n",
       "\n",
       "                                                tags days_since_review  \\\n",
       "0  [' Leisure trip ', ' Couple ', ' Studio Suite ...           531 day   \n",
       "1  [' Business trip ', ' Couple ', ' Standard Dou...           203 day   \n",
       "\n",
       "         lat       lng  \n",
       "0  51.507894 -0.143671  \n",
       "1  51.521009 -0.123097  "
      ]
     },
     "execution_count": 31,
     "metadata": {},
     "output_type": "execute_result"
    }
   ],
   "source": [
    "df = pd.read_csv('hotels.csv')\n",
    "df.head(2)"
   ]
  },
  {
   "cell_type": "markdown",
   "metadata": {},
   "source": [
    "Первоначальная версия датасета содержит 17 полей со следующей информацией:\n",
    "\n",
    "* `hotel_address` — адрес отеля;\n",
    "* `review_date` — дата, когда рецензент разместил соответствующий отзыв;\n",
    "* `average_score` — средний балл отеля, рассчитанный на основе последнего комментария за последний год;\n",
    "* `hotel_name` — название отеля;\n",
    "* `reviewer_nationality` — страна рецензента;\n",
    "* `negative_review` — отрицательный отзыв, который рецензент дал отелю;\n",
    "* `review_total_negative_word_counts` — общее количество слов в отрицательном отзыв;\n",
    "* `positive_review` — положительный отзыв, который рецензент дал отелю;\n",
    "* `review_total_positive_word_counts` — общее количество слов в положительном отзыве.\n",
    "* `reviewer_score` — оценка, которую рецензент поставил отелю на основе своего опыта;\n",
    "* `total_number_of_reviews_reviewer_has_given` — количество отзывов, которые рецензенты дали в прошлом;\n",
    "* `total_number_of_reviews` — общее количество действительных отзывов об отеле;\n",
    "* `tags` — теги, которые рецензент дал отелю;\n",
    "* `days_since_review` — количество дней между датой проверки и датой очистки;\n",
    "* `additional_number_of_scoring` — есть также некоторые гости, которые просто поставили оценку сервису, но не оставили отзыв. Это число указывает, сколько там действительных оценок без проверки.\n",
    "* `lat` — географическая широта отеля;\n",
    "* `lng` — географическая долгота отеля."
   ]
  },
  {
   "cell_type": "code",
   "execution_count": 32,
   "metadata": {},
   "outputs": [],
   "source": [
    "df['review_date'] = pd.to_datetime(df['review_date'])"
   ]
  },
  {
   "cell_type": "code",
   "execution_count": 33,
   "metadata": {},
   "outputs": [
    {
     "name": "stdout",
     "output_type": "stream",
     "text": [
      "<class 'pandas.core.frame.DataFrame'>\n",
      "RangeIndex: 386803 entries, 0 to 386802\n",
      "Data columns (total 17 columns):\n",
      " #   Column                                      Non-Null Count   Dtype         \n",
      "---  ------                                      --------------   -----         \n",
      " 0   hotel_address                               386803 non-null  object        \n",
      " 1   additional_number_of_scoring                386803 non-null  int64         \n",
      " 2   review_date                                 386803 non-null  datetime64[ns]\n",
      " 3   average_score                               386803 non-null  float64       \n",
      " 4   hotel_name                                  386803 non-null  object        \n",
      " 5   reviewer_nationality                        386803 non-null  object        \n",
      " 6   negative_review                             386803 non-null  object        \n",
      " 7   review_total_negative_word_counts           386803 non-null  int64         \n",
      " 8   total_number_of_reviews                     386803 non-null  int64         \n",
      " 9   positive_review                             386803 non-null  object        \n",
      " 10  review_total_positive_word_counts           386803 non-null  int64         \n",
      " 11  total_number_of_reviews_reviewer_has_given  386803 non-null  int64         \n",
      " 12  reviewer_score                              386803 non-null  float64       \n",
      " 13  tags                                        386803 non-null  object        \n",
      " 14  days_since_review                           386803 non-null  object        \n",
      " 15  lat                                         384355 non-null  float64       \n",
      " 16  lng                                         384355 non-null  float64       \n",
      "dtypes: datetime64[ns](1), float64(4), int64(5), object(7)\n",
      "memory usage: 50.2+ MB\n"
     ]
    }
   ],
   "source": [
    "df.info()"
   ]
  },
  {
   "cell_type": "code",
   "execution_count": 34,
   "metadata": {},
   "outputs": [
    {
     "data": {
      "text/plain": [
       "lat    0.63288\n",
       "lng    0.63288\n",
       "dtype: float64"
      ]
     },
     "execution_count": 34,
     "metadata": {},
     "output_type": "execute_result"
    }
   ],
   "source": [
    "def null_finder (data):\n",
    "    \"\"\"_Искатель пропусков_\n",
    "\n",
    "    Args:\n",
    "        data (_pandas.core.frame.DataFrame_): _Датасет_\n",
    "\n",
    "    Returns:\n",
    "        _pandas.core.series.Series_: _столбцы с null и доля null в процентах_\n",
    "    \"\"\"\n",
    "    cols_null_percent = data.isnull().mean() * 100\n",
    "    cols_with_null = cols_null_percent[cols_null_percent>0].sort_values(ascending=False)\n",
    "    return cols_with_null\n",
    "\n",
    "null_finder(df)"
   ]
  },
  {
   "cell_type": "markdown",
   "metadata": {},
   "source": [
    "# 3. Машинное обучение для самых маленьких\n",
    "\n",
    "После знакомых вам шагов подготовки датасета, а именно очистки, анализа, проектирования признаков и их преобразования, дата-сайентисты приступают к обучению модели. Для этого необходимо разделить датафрейм, создать, обучить и оценить качество модели.\n",
    "\n",
    "Мы подготовили для вас [ноутбук](https://lms.skillfactory.ru/assets/courseware/v1/0a04828af83e98c62bf8782d920350d6/asset-v1:SkillFactory+DSPR-2.0+14JULY2021+type@asset+block/EDA_Project_3_model.ipynb) с кодом для обучения модели. Далее мы шаг за шагом разберём все описанные в нём действия."
   ]
  },
  {
   "cell_type": "markdown",
   "metadata": {},
   "source": [
    "## 1. РАЗДЕЛЕНИЕ НАБОРА ДАННЫХ\n",
    "\n",
    "Прежде всего, для создания модели необходимо разделить датафрейм на набор данных, которые мы будем использовать для обучения модели, именуемый `X`, и на целевую переменную — величину, значение которой мы будем предсказывать, `y` (в нашем случае это рейтинг отелей).\n",
    "\n",
    "<img src=p_3_img1.png>\n",
    "\n",
    "Далее каждый из полученных наборов мы делим на **тренировочный** (`train`, используется для обучения модели) и **тестовый** (`test`, используется для оценки точности модели). Такое деление осуществляется с помощью специального метода [train_test_split()](https://scikit-learn.org/stable/modules/generated/sklearn.model_selection.train_test_split.html) библиотеки `sklearn`. В параметрах метода (параметр `test_size`) мы указываем, какую часть исходного датафрейма нужно оставить для тестирования модели. В нашем коде эта часть составляет `25 %`, или `0.25`.\n",
    "\n",
    ">Не существует идеального соотношения обучающей и тестовой выборки, однако принято выделять на часть обучения больше данных, около ⅔, а оставшуюся часть используют для проверки — ⅓ выборки. Таким образом, самые популярные значения параметра test_size составляют `0.3`, `0.25`, `0.2`."
   ]
  },
  {
   "cell_type": "code",
   "execution_count": 46,
   "metadata": {},
   "outputs": [],
   "source": [
    "# Разбиваем датафрейм на части, необходимые для обучения и тестирования модели  \n",
    "# Х — данные с информацией об отелях, у — целевая переменная (рейтинги отелей)  \n",
    "X = df.drop(['reviewer_score'], axis = 1)  \n",
    "y = df['reviewer_score']  \n",
    "  \n",
    "# Загружаем специальный инструмент для разбивки:  \n",
    "from sklearn.model_selection import train_test_split  \n",
    "  \n",
    "# Наборы данных с меткой \"train\" будут использоваться для обучения модели, \"test\" — для тестирования.  \n",
    "# Для тестирования мы будем использовать 25 % от исходного датасета.  \n",
    "X_train, X_test, y_train, y_test = train_test_split(X, y, test_size=0.25, random_state=42)"
   ]
  },
  {
   "cell_type": "markdown",
   "metadata": {},
   "source": [
    "# 2.СОЗДАНИЕ И ОБУЧЕНИЕ МОДЕЛИ\n",
    "\n",
    "Сам процесс создания и тестирования модели занимает всего четыре строчки кода. В качестве алгоритма мы будем использовать популярный и довольно мощный алгоритм [RandomForestRegressor](https://scikit-learn.org/stable/modules/generated/sklearn.ensemble.RandomForestRegressor.html). Он реализован в библиотеке sklearn."
   ]
  },
  {
   "cell_type": "code",
   "execution_count": 38,
   "metadata": {},
   "outputs": [
    {
     "name": "stdout",
     "output_type": "stream",
     "text": [
      "<class 'pandas.core.frame.DataFrame'>\n",
      "RangeIndex: 386803 entries, 0 to 386802\n",
      "Data columns (total 17 columns):\n",
      " #   Column                                      Non-Null Count   Dtype         \n",
      "---  ------                                      --------------   -----         \n",
      " 0   hotel_address                               386803 non-null  object        \n",
      " 1   additional_number_of_scoring                386803 non-null  int64         \n",
      " 2   review_date                                 386803 non-null  datetime64[ns]\n",
      " 3   average_score                               386803 non-null  float64       \n",
      " 4   hotel_name                                  386803 non-null  object        \n",
      " 5   reviewer_nationality                        386803 non-null  object        \n",
      " 6   negative_review                             386803 non-null  object        \n",
      " 7   review_total_negative_word_counts           386803 non-null  int64         \n",
      " 8   total_number_of_reviews                     386803 non-null  int64         \n",
      " 9   positive_review                             386803 non-null  object        \n",
      " 10  review_total_positive_word_counts           386803 non-null  int64         \n",
      " 11  total_number_of_reviews_reviewer_has_given  386803 non-null  int64         \n",
      " 12  reviewer_score                              386803 non-null  float64       \n",
      " 13  tags                                        386803 non-null  object        \n",
      " 14  days_since_review                           386803 non-null  object        \n",
      " 15  lat                                         384355 non-null  float64       \n",
      " 16  lng                                         384355 non-null  float64       \n",
      "dtypes: datetime64[ns](1), float64(4), int64(5), object(7)\n",
      "memory usage: 50.2+ MB\n"
     ]
    }
   ],
   "source": [
    "df.info()"
   ]
  },
  {
   "cell_type": "code",
   "execution_count": 39,
   "metadata": {},
   "outputs": [],
   "source": [
    "df = df.drop(['hotel_address','review_date','hotel_name','reviewer_nationality','negative_review','positive_review','tags','days_since_review'], axis=1)"
   ]
  },
  {
   "cell_type": "code",
   "execution_count": 41,
   "metadata": {},
   "outputs": [],
   "source": [
    "df = df.fillna({'lat':0, 'lng':0})"
   ]
  },
  {
   "cell_type": "code",
   "execution_count": 47,
   "metadata": {},
   "outputs": [],
   "source": [
    "# Импортируем необходимые библиотеки:  \n",
    "from sklearn.ensemble import RandomForestRegressor # инструмент для создания и обучения модели  \n",
    "from sklearn import metrics # инструменты для оценки точности модели  \n",
    "      \n",
    "# Создаём модель  \n",
    "regr = RandomForestRegressor(n_estimators=100)  \n",
    "      \n",
    "# Обучаем модель на тестовом наборе данных  \n",
    "regr.fit(X_train, y_train)  \n",
    "      \n",
    "# Используем обученную модель для предсказания рейтинга отелей в тестовой выборке.  \n",
    "# Предсказанные значения записываем в переменную y_pred  \n",
    "y_pred = regr.predict(X_test)"
   ]
  },
  {
   "cell_type": "markdown",
   "metadata": {},
   "source": [
    "# 3. ОЦЕНКА КАЧЕСТВА МОДЕЛИ\n",
    "\n",
    "Для оценки качества модели — точности прогнозов, сделанных моделью, — мы будем использовать метрику (некий числовой показатель), которая называется `MAPE` (`mean absolute percentage error`), средняя абсолютная процентная ошибка. Эту метрику очень легко интерпретировать. Если у вас `MAPE = 11.4 %`, то это говорит о том, что ошибка составила `11.4 %` от фактических значений.\n",
    "\n",
    "<img src=p_3_img2.png>\n",
    "\n",
    "Для расчета `MAPE` сравним предсказанные нашей моделью значения с реальными и посмотрим на значение ошибки.\n"
   ]
  },
  {
   "cell_type": "code",
   "execution_count": 48,
   "metadata": {},
   "outputs": [
    {
     "name": "stdout",
     "output_type": "stream",
     "text": [
      "MAPE: 0.1413542380524313\n"
     ]
    }
   ],
   "source": [
    "# Сравниваем предсказанные значения (y_pred) с реальными (y_test) и смотрим, насколько они отличаются  \n",
    "# Метрика называется Mean Absolute Percentage Error (MAPE) и показывает среднюю абсолютную процентную ошибку предсказанных значений в отношении фактических.  \n",
    "print('MAPE:', metrics.mean_absolute_percentage_error(y_test, y_pred))"
   ]
  },
  {
   "cell_type": "markdown",
   "metadata": {},
   "source": [
    "Итак, мы выяснили, что для корректной работы все данные в датафрейме, который вы будете использовать при обучении модели, должны быть в числовых форматах `int` или `float`. \n",
    "\n",
    ">Есть ещё одно ограничение: в столбцах не должно быть пропущенных значений. Вместо каждого пропущенного значения вам нужно будет вычислить и поместить в ячейку максимально близкое к реальности значение.\n",
    "\n",
    "Таким образом, чтобы код, отвечающий за обучение модели, заработал, мы должны использовать в нём датафрейм, содержащий только количественные признаки и не содержащий пропущенных значений.\n",
    "\n",
    "На первом этапе для создания такого датафрейма давайте просто удалим столбцы, содержащие данные типов `object` и `string` и заполним пропущенные значения каким-то одним значением (`unknown`, нулём или средним арифметическим) для всего столбца.\n",
    "\n",
    ">Для выполнения этих операций вам понадобятся следующие методы библиотеки Pandas:\n",
    ">\n",
    ">[drop](https://pandas.pydata.org/docs/reference/api/pandas.DataFrame.drop.html) — метод для удаления ненужных строк и столбцов (**обратите внимание**, что в материалах данного модуля этот метод разрешается использовать только для удаления столбцов);\n",
    ">\n",
    ">[fillna](https://pandas.pydata.org/docs/reference/api/pandas.DataFrame.fillna.html) — метод для заполнения пропущенных значений в столбце или во всём датафрейме."
   ]
  }
 ],
 "metadata": {
  "kernelspec": {
   "display_name": "Python 3.9.12 ('base')",
   "language": "python",
   "name": "python3"
  },
  "language_info": {
   "codemirror_mode": {
    "name": "ipython",
    "version": 3
   },
   "file_extension": ".py",
   "mimetype": "text/x-python",
   "name": "python",
   "nbconvert_exporter": "python",
   "pygments_lexer": "ipython3",
   "version": "3.9.12"
  },
  "orig_nbformat": 4,
  "vscode": {
   "interpreter": {
    "hash": "c3380a37b4678e1f5e651331348d62bc6038aef0d5f414da260f404a34792558"
   }
  }
 },
 "nbformat": 4,
 "nbformat_minor": 2
}
