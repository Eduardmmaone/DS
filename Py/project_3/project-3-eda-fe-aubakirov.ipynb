{
 "cells": [
  {
   "cell_type": "markdown",
   "id": "49cff4cc",
   "metadata": {
    "papermill": {
     "duration": 0.082705,
     "end_time": "2022-10-11T06:08:15.563027",
     "exception": false,
     "start_time": "2022-10-11T06:08:15.480322",
     "status": "completed"
    },
    "tags": []
   },
   "source": [
    "<img src=https://raw.githubusercontent.com/hoittoken/Python/master/Py/project_3/logo.png>"
   ]
  },
  {
   "cell_type": "markdown",
   "id": "db34bee1",
   "metadata": {
    "papermill": {
     "duration": 0.080137,
     "end_time": "2022-10-11T06:08:15.725571",
     "exception": false,
     "start_time": "2022-10-11T06:08:15.645434",
     "status": "completed"
    },
    "tags": []
   },
   "source": [
    "# Содержание <a class=\"anchor\" id=0></a>\n",
    "\n",
    "* [1. Кейс. Задача. Метрика](#1)\n",
    "* [2. Библиотеки и загрузка данных](#2)\n",
    "* [3. Дубли и пропуски](#3)\n",
    "* [4. Признак *hotel_address*](#4)\n",
    "* [5. Признак *review_date*](#5)\n",
    "* [6. Признак *reviewer_nationality*](#6)\n",
    "* [7. Признак *tags*](#7)\n",
    "* [8. Лингвистический анализ](#8)\n",
    "* [9. Отбор признаков](#9)\n",
    "* [10. Обучение модели. Метрика. Submission](#10)"
   ]
  },
  {
   "cell_type": "markdown",
   "id": "128b4a52",
   "metadata": {
    "papermill": {
     "duration": 0.080554,
     "end_time": "2022-10-11T06:08:15.886612",
     "exception": false,
     "start_time": "2022-10-11T06:08:15.806058",
     "status": "completed"
    },
    "tags": []
   },
   "source": [
    "# 1. Кейс. Задача. Метрика <a class=\"anchor\" id=1></a> <a id=\"1\"></a> <br>\n",
    "\n",
    "[к содержанию](#0)\n",
    "\n",
    "### **Кейс**: Компании Booking борится с накруткой рейтингов отелей. \n",
    "\n",
    "### **Задача**: Выявить нечестные отели (те что накручивают рейтинг).\n",
    "\n",
    "### **Решение**: Построение модели предсказывающей рейтинг отеля на основание доступных данных. При значительном расхождении предсказанного с реальным рейтингом проводить более детальную проверку отеля.\n",
    "\n",
    "### **Метрика**: *`MAPE (mean absolute percentage error)`* , средняя абсолютная процентная ошибка между фактическими значениями и предсказанными значениями рейтинга отеля."
   ]
  },
  {
   "cell_type": "markdown",
   "id": "00aea152",
   "metadata": {
    "papermill": {
     "duration": 0.080438,
     "end_time": "2022-10-11T06:08:16.047906",
     "exception": false,
     "start_time": "2022-10-11T06:08:15.967468",
     "status": "completed"
    },
    "tags": []
   },
   "source": [
    "# 2. Библиотеки и загрузка данных <a class=\"anchor\" id=2></a> <a id=\"2\"></a> <br>\n",
    "\n",
    "[к содержанию](#0)"
   ]
  },
  {
   "cell_type": "code",
   "execution_count": 1,
   "id": "101fa9c3",
   "metadata": {
    "_cell_guid": "b1076dfc-b9ad-4769-8c92-a6c4dae69d19",
    "_uuid": "8f2839f25d086af736a60e9eeb907d3b93b6e0e5",
    "execution": {
     "iopub.execute_input": "2022-10-11T06:08:16.215917Z",
     "iopub.status.busy": "2022-10-11T06:08:16.213603Z",
     "iopub.status.idle": "2022-10-11T06:08:19.030534Z",
     "shell.execute_reply": "2022-10-11T06:08:19.029722Z",
     "shell.execute_reply.started": "2022-10-11T05:42:38.201365Z"
    },
    "papermill": {
     "duration": 2.902161,
     "end_time": "2022-10-11T06:08:19.030757",
     "exception": false,
     "start_time": "2022-10-11T06:08:16.128596",
     "status": "completed"
    },
    "tags": []
   },
   "outputs": [
    {
     "name": "stdout",
     "output_type": "stream",
     "text": [
      "/kaggle/input/sf-booking/hotels_test.csv\n",
      "/kaggle/input/sf-booking/hotels_train.csv\n",
      "/kaggle/input/sf-booking/submission.csv\n"
     ]
    }
   ],
   "source": [
    "# Импортируем основные библиотеки\n",
    "\n",
    "import numpy as np # linear algebra\n",
    "import pandas as pd # data processing, CSV file I/O (e.g. pd.read_csv)\n",
    "\n",
    "# для визуализаций\n",
    "import matplotlib.pyplot as plt\n",
    "import seaborn as sns \n",
    "%matplotlib inline\n",
    "\n",
    "# для определения расстояний\n",
    "from geopy.distance import geodesic\n",
    "\n",
    "# для кодирования\n",
    "import category_encoders as ce\n",
    "\n",
    "# для подсчёта всякого\n",
    "from collections import Counter\n",
    "\n",
    "# для определения тональности отзывов:\n",
    "from textblob import TextBlob \n",
    "\n",
    "# для разделения датасета:\n",
    "from sklearn.model_selection import train_test_split\n",
    "\n",
    "# инструменты для построения модели:\n",
    "from sklearn.ensemble import RandomForestRegressor # инструмент для создания и обучения модели\n",
    "from sklearn import metrics # инструменты для оценки точности модели\n",
    "\n",
    "# Input data files are available in the read-only \"../input/\" directory\n",
    "# For example, running this (by clicking run or pressing Shift+Enter) will list all files under the input directory\n",
    "\n",
    "import os\n",
    "for dirname, _, filenames in os.walk('/kaggle/input'):\n",
    "    for filename in filenames:\n",
    "        print(os.path.join(dirname, filename))\n",
    "\n",
    "# You can write up to 20GB to the current directory (/kaggle/working/) that gets preserved as output when you create a version using \"Save & Run All\" \n",
    "# You can also write temporary files to /kaggle/temp/, but they won't be saved outside of the current session"
   ]
  },
  {
   "cell_type": "markdown",
   "id": "bc1dfc45",
   "metadata": {
    "execution": {
     "iopub.execute_input": "2022-10-03T06:25:51.821858Z",
     "iopub.status.busy": "2022-10-03T06:25:51.821547Z",
     "iopub.status.idle": "2022-10-03T06:25:51.826255Z",
     "shell.execute_reply": "2022-10-03T06:25:51.825335Z",
     "shell.execute_reply.started": "2022-10-03T06:25:51.821823Z"
    },
    "papermill": {
     "duration": 0.080751,
     "end_time": "2022-10-11T06:08:19.194115",
     "exception": false,
     "start_time": "2022-10-11T06:08:19.113364",
     "status": "completed"
    },
    "tags": []
   },
   "source": [
    "## Определим некоторые константы\n"
   ]
  },
  {
   "cell_type": "code",
   "execution_count": 2,
   "id": "d17ca576",
   "metadata": {
    "execution": {
     "iopub.execute_input": "2022-10-11T06:08:19.364458Z",
     "iopub.status.busy": "2022-10-11T06:08:19.363623Z",
     "iopub.status.idle": "2022-10-11T06:08:19.365219Z",
     "shell.execute_reply": "2022-10-11T06:08:19.365741Z",
     "shell.execute_reply.started": "2022-10-11T05:42:43.368026Z"
    },
    "papermill": {
     "duration": 0.08803,
     "end_time": "2022-10-11T06:08:19.365960",
     "exception": false,
     "start_time": "2022-10-11T06:08:19.277930",
     "status": "completed"
    },
    "tags": []
   },
   "outputs": [],
   "source": [
    "# Зафиксируем random_seed\n",
    "RANDOM_SEED = 42\n",
    "\n",
    "# Зафиксируем требования\n",
    "#!pip freeze > requirements.txt"
   ]
  },
  {
   "cell_type": "code",
   "execution_count": 3,
   "id": "5e502560",
   "metadata": {
    "execution": {
     "iopub.execute_input": "2022-10-11T06:08:19.540066Z",
     "iopub.status.busy": "2022-10-11T06:08:19.536785Z",
     "iopub.status.idle": "2022-10-11T06:08:26.768070Z",
     "shell.execute_reply": "2022-10-11T06:08:26.767401Z",
     "shell.execute_reply.started": "2022-10-11T05:42:46.863579Z"
    },
    "papermill": {
     "duration": 7.316735,
     "end_time": "2022-10-11T06:08:26.768271",
     "exception": false,
     "start_time": "2022-10-11T06:08:19.451536",
     "status": "completed"
    },
    "tags": []
   },
   "outputs": [],
   "source": [
    "# Подгрузим наши данные из соревнования\n",
    "\n",
    "DATA_DIR = '/kaggle/input/sf-booking/'\n",
    "df_train = pd.read_csv(DATA_DIR+'/hotels_train.csv') # датасет для обучения\n",
    "df_test = pd.read_csv(DATA_DIR+'hotels_test.csv') # датасет для предсказания\n",
    "sample_submission = pd.read_csv(DATA_DIR+'/submission.csv') # самбмишн"
   ]
  },
  {
   "cell_type": "code",
   "execution_count": 4,
   "id": "c441d176",
   "metadata": {
    "execution": {
     "iopub.execute_input": "2022-10-11T06:08:26.934844Z",
     "iopub.status.busy": "2022-10-11T06:08:26.933778Z",
     "iopub.status.idle": "2022-10-11T06:08:27.143941Z",
     "shell.execute_reply": "2022-10-11T06:08:27.143335Z",
     "shell.execute_reply.started": "2022-10-11T05:42:55.169456Z"
    },
    "papermill": {
     "duration": 0.295141,
     "end_time": "2022-10-11T06:08:27.144125",
     "exception": false,
     "start_time": "2022-10-11T06:08:26.848984",
     "status": "completed"
    },
    "tags": []
   },
   "outputs": [
    {
     "name": "stdout",
     "output_type": "stream",
     "text": [
      "<class 'pandas.core.frame.DataFrame'>\n",
      "RangeIndex: 386803 entries, 0 to 386802\n",
      "Data columns (total 17 columns):\n",
      " #   Column                                      Non-Null Count   Dtype  \n",
      "---  ------                                      --------------   -----  \n",
      " 0   hotel_address                               386803 non-null  object \n",
      " 1   additional_number_of_scoring                386803 non-null  int64  \n",
      " 2   review_date                                 386803 non-null  object \n",
      " 3   average_score                               386803 non-null  float64\n",
      " 4   hotel_name                                  386803 non-null  object \n",
      " 5   reviewer_nationality                        386803 non-null  object \n",
      " 6   negative_review                             386803 non-null  object \n",
      " 7   review_total_negative_word_counts           386803 non-null  int64  \n",
      " 8   total_number_of_reviews                     386803 non-null  int64  \n",
      " 9   positive_review                             386803 non-null  object \n",
      " 10  review_total_positive_word_counts           386803 non-null  int64  \n",
      " 11  total_number_of_reviews_reviewer_has_given  386803 non-null  int64  \n",
      " 12  reviewer_score                              386803 non-null  float64\n",
      " 13  tags                                        386803 non-null  object \n",
      " 14  days_since_review                           386803 non-null  object \n",
      " 15  lat                                         384355 non-null  float64\n",
      " 16  lng                                         384355 non-null  float64\n",
      "dtypes: float64(4), int64(5), object(8)\n",
      "memory usage: 50.2+ MB\n"
     ]
    }
   ],
   "source": [
    "df_train.info()"
   ]
  },
  {
   "cell_type": "code",
   "execution_count": 5,
   "id": "158138f9",
   "metadata": {
    "execution": {
     "iopub.execute_input": "2022-10-11T06:08:27.315726Z",
     "iopub.status.busy": "2022-10-11T06:08:27.314773Z",
     "iopub.status.idle": "2022-10-11T06:08:27.385649Z",
     "shell.execute_reply": "2022-10-11T06:08:27.386129Z",
     "shell.execute_reply.started": "2022-10-11T05:42:57.089154Z"
    },
    "papermill": {
     "duration": 0.159381,
     "end_time": "2022-10-11T06:08:27.386362",
     "exception": false,
     "start_time": "2022-10-11T06:08:27.226981",
     "status": "completed"
    },
    "tags": []
   },
   "outputs": [
    {
     "name": "stdout",
     "output_type": "stream",
     "text": [
      "<class 'pandas.core.frame.DataFrame'>\n",
      "RangeIndex: 128935 entries, 0 to 128934\n",
      "Data columns (total 16 columns):\n",
      " #   Column                                      Non-Null Count   Dtype  \n",
      "---  ------                                      --------------   -----  \n",
      " 0   hotel_address                               128935 non-null  object \n",
      " 1   additional_number_of_scoring                128935 non-null  int64  \n",
      " 2   review_date                                 128935 non-null  object \n",
      " 3   average_score                               128935 non-null  float64\n",
      " 4   hotel_name                                  128935 non-null  object \n",
      " 5   reviewer_nationality                        128935 non-null  object \n",
      " 6   negative_review                             128935 non-null  object \n",
      " 7   review_total_negative_word_counts           128935 non-null  int64  \n",
      " 8   total_number_of_reviews                     128935 non-null  int64  \n",
      " 9   positive_review                             128935 non-null  object \n",
      " 10  review_total_positive_word_counts           128935 non-null  int64  \n",
      " 11  total_number_of_reviews_reviewer_has_given  128935 non-null  int64  \n",
      " 12  tags                                        128935 non-null  object \n",
      " 13  days_since_review                           128935 non-null  object \n",
      " 14  lat                                         128115 non-null  float64\n",
      " 15  lng                                         128115 non-null  float64\n",
      "dtypes: float64(3), int64(5), object(8)\n",
      "memory usage: 15.7+ MB\n"
     ]
    }
   ],
   "source": [
    "df_test.info()"
   ]
  },
  {
   "cell_type": "code",
   "execution_count": 6,
   "id": "aeb995f2",
   "metadata": {
    "execution": {
     "iopub.execute_input": "2022-10-11T06:08:27.554828Z",
     "iopub.status.busy": "2022-10-11T06:08:27.554010Z",
     "iopub.status.idle": "2022-10-11T06:08:27.568011Z",
     "shell.execute_reply": "2022-10-11T06:08:27.568792Z",
     "shell.execute_reply.started": "2022-10-11T05:42:59.678930Z"
    },
    "papermill": {
     "duration": 0.101327,
     "end_time": "2022-10-11T06:08:27.569070",
     "exception": false,
     "start_time": "2022-10-11T06:08:27.467743",
     "status": "completed"
    },
    "tags": []
   },
   "outputs": [
    {
     "name": "stdout",
     "output_type": "stream",
     "text": [
      "<class 'pandas.core.frame.DataFrame'>\n",
      "RangeIndex: 128935 entries, 0 to 128934\n",
      "Data columns (total 2 columns):\n",
      " #   Column          Non-Null Count   Dtype\n",
      "---  ------          --------------   -----\n",
      " 0   reviewer_score  128935 non-null  int64\n",
      " 1   id              128935 non-null  int64\n",
      "dtypes: int64(2)\n",
      "memory usage: 2.0 MB\n"
     ]
    }
   ],
   "source": [
    "sample_submission.info()"
   ]
  },
  {
   "cell_type": "markdown",
   "id": "cd782b14",
   "metadata": {
    "papermill": {
     "duration": 0.081448,
     "end_time": "2022-10-11T06:08:27.732991",
     "exception": false,
     "start_time": "2022-10-11T06:08:27.651543",
     "status": "completed"
    },
    "tags": []
   },
   "source": [
    "# 3. Дубли и пропуски <a class=\"anchor\" id=3></a> <a id=\"3\"></a> <br>\n",
    "\n",
    "[к содержанию](#0)\n",
    "\n",
    "### Проверим на дубли тренировочный и тестовый сеты"
   ]
  },
  {
   "cell_type": "code",
   "execution_count": 7,
   "id": "548716bb",
   "metadata": {
    "execution": {
     "iopub.execute_input": "2022-10-11T06:08:27.909665Z",
     "iopub.status.busy": "2022-10-11T06:08:27.908828Z",
     "iopub.status.idle": "2022-10-11T06:08:29.313753Z",
     "shell.execute_reply": "2022-10-11T06:08:29.313032Z",
     "shell.execute_reply.started": "2022-10-11T05:43:02.269783Z"
    },
    "papermill": {
     "duration": 1.49892,
     "end_time": "2022-10-11T06:08:29.313931",
     "exception": false,
     "start_time": "2022-10-11T06:08:27.815011",
     "status": "completed"
    },
    "tags": []
   },
   "outputs": [
    {
     "name": "stdout",
     "output_type": "stream",
     "text": [
      "Количество дублей в тренировочном сете: 307\n",
      "Количество дублей в тестовом сете: 29\n"
     ]
    }
   ],
   "source": [
    "print(f'Количество дублей в тренировочном сете: {df_train[df_train.duplicated()].shape[0]}')\n",
    "print(f'Количество дублей в тестовом сете: {df_test[df_test.duplicated()].shape[0]}')"
   ]
  },
  {
   "cell_type": "markdown",
   "id": "5f317597",
   "metadata": {
    "papermill": {
     "duration": 0.081718,
     "end_time": "2022-10-11T06:08:29.477504",
     "exception": false,
     "start_time": "2022-10-11T06:08:29.395786",
     "status": "completed"
    },
    "tags": []
   },
   "source": [
    "### Из тренировочного сета дубли удаляем, с тестовым сложнее. На него завязан финальный сабмит, пока оставим как есть.\n",
    "\n",
    "<img src=https://raw.githubusercontent.com/hoittoken/Python/master/Py/project_3/mem_1.png>"
   ]
  },
  {
   "cell_type": "code",
   "execution_count": 8,
   "id": "fc980b37",
   "metadata": {
    "execution": {
     "iopub.execute_input": "2022-10-11T06:08:29.655369Z",
     "iopub.status.busy": "2022-10-11T06:08:29.654571Z",
     "iopub.status.idle": "2022-10-11T06:08:30.801639Z",
     "shell.execute_reply": "2022-10-11T06:08:30.802185Z",
     "shell.execute_reply.started": "2022-10-11T05:43:05.420786Z"
    },
    "papermill": {
     "duration": 1.243237,
     "end_time": "2022-10-11T06:08:30.802427",
     "exception": false,
     "start_time": "2022-10-11T06:08:29.559190",
     "status": "completed"
    },
    "tags": []
   },
   "outputs": [],
   "source": [
    "# Безжалостно удалим дубли в тренировочном сете\n",
    "df_train = df_train.drop_duplicates()"
   ]
  },
  {
   "cell_type": "code",
   "execution_count": 9,
   "id": "c54c939f",
   "metadata": {
    "execution": {
     "iopub.execute_input": "2022-10-11T06:08:30.977777Z",
     "iopub.status.busy": "2022-10-11T06:08:30.977010Z",
     "iopub.status.idle": "2022-10-11T06:08:31.970729Z",
     "shell.execute_reply": "2022-10-11T06:08:31.971317Z",
     "shell.execute_reply.started": "2022-10-11T05:43:08.347663Z"
    },
    "papermill": {
     "duration": 1.086268,
     "end_time": "2022-10-11T06:08:31.971537",
     "exception": false,
     "start_time": "2022-10-11T06:08:30.885269",
     "status": "completed"
    },
    "tags": []
   },
   "outputs": [
    {
     "name": "stdout",
     "output_type": "stream",
     "text": [
      "<class 'pandas.core.frame.DataFrame'>\n",
      "RangeIndex: 515431 entries, 0 to 515430\n",
      "Data columns (total 18 columns):\n",
      " #   Column                                      Non-Null Count   Dtype  \n",
      "---  ------                                      --------------   -----  \n",
      " 0   hotel_address                               515431 non-null  object \n",
      " 1   additional_number_of_scoring                515431 non-null  int64  \n",
      " 2   review_date                                 515431 non-null  object \n",
      " 3   average_score                               515431 non-null  float64\n",
      " 4   hotel_name                                  515431 non-null  object \n",
      " 5   reviewer_nationality                        515431 non-null  object \n",
      " 6   negative_review                             515431 non-null  object \n",
      " 7   review_total_negative_word_counts           515431 non-null  int64  \n",
      " 8   total_number_of_reviews                     515431 non-null  int64  \n",
      " 9   positive_review                             515431 non-null  object \n",
      " 10  review_total_positive_word_counts           515431 non-null  int64  \n",
      " 11  total_number_of_reviews_reviewer_has_given  515431 non-null  int64  \n",
      " 12  tags                                        515431 non-null  object \n",
      " 13  days_since_review                           515431 non-null  object \n",
      " 14  lat                                         512163 non-null  float64\n",
      " 15  lng                                         512163 non-null  float64\n",
      " 16  sample                                      515431 non-null  int64  \n",
      " 17  reviewer_score                              515431 non-null  float64\n",
      "dtypes: float64(4), int64(6), object(8)\n",
      "memory usage: 70.8+ MB\n"
     ]
    }
   ],
   "source": [
    "# ВАЖНО! дря корректной обработки признаков объединяем трейн и тест в один датасет\n",
    "df_train['sample'] = 1 # помечаем где у нас трейн\n",
    "df_test['sample'] = 0 # помечаем где у нас тест\n",
    "df_test['reviewer_score'] = 0 # в тесте у нас нет значения reviewer_score, мы его должны предсказать, по этому пока просто заполняем нулями\n",
    "\n",
    "data = df_test.append(df_train, sort=False).reset_index(drop=True) # объединяем\n",
    "\n",
    "data.info()"
   ]
  },
  {
   "cell_type": "markdown",
   "id": "3d5616b8",
   "metadata": {
    "papermill": {
     "duration": 0.083487,
     "end_time": "2022-10-11T06:08:32.138049",
     "exception": false,
     "start_time": "2022-10-11T06:08:32.054562",
     "status": "completed"
    },
    "tags": []
   },
   "source": [
    "### NaN'ы есть только в столбцах lat и lng, а они завязаны на признак `hotel_address`, приступим к обработке признаков."
   ]
  },
  {
   "cell_type": "markdown",
   "id": "0a160101",
   "metadata": {
    "papermill": {
     "duration": 0.084319,
     "end_time": "2022-10-11T06:08:32.304668",
     "exception": false,
     "start_time": "2022-10-11T06:08:32.220349",
     "status": "completed"
    },
    "tags": []
   },
   "source": [
    "# 4. Признак `hotel_address` <a class=\"anchor\" id=4></a> <a id=\"4\"></a> <br>\n",
    "\n",
    "[к содержанию](#0) \n",
    "\n",
    "## По признаку адреса и названия решим несколько задач:\n",
    "### * Определим список уникальных отелей представленных в данных\n",
    "### * Найдем недостающие координаты\n",
    "### * Определим страны и города в которых находятся отели\n",
    "### * Вычислим расстояние от отелей до центров городов в которых они расположены\n",
    "### * Каким-нибудь прикольным способом закодируем полученные данные"
   ]
  },
  {
   "cell_type": "code",
   "execution_count": 10,
   "id": "e35211ce",
   "metadata": {
    "execution": {
     "iopub.execute_input": "2022-10-11T06:08:32.473772Z",
     "iopub.status.busy": "2022-10-11T06:08:32.472717Z",
     "iopub.status.idle": "2022-10-11T06:08:32.537381Z",
     "shell.execute_reply": "2022-10-11T06:08:32.537928Z",
     "shell.execute_reply.started": "2022-10-11T05:43:13.627461Z"
    },
    "papermill": {
     "duration": 0.15139,
     "end_time": "2022-10-11T06:08:32.538142",
     "exception": false,
     "start_time": "2022-10-11T06:08:32.386752",
     "status": "completed"
    },
    "tags": []
   },
   "outputs": [
    {
     "data": {
      "text/plain": [
       "1492"
      ]
     },
     "execution_count": 10,
     "metadata": {},
     "output_type": "execute_result"
    }
   ],
   "source": [
    "data['hotel_name'].nunique()"
   ]
  },
  {
   "cell_type": "code",
   "execution_count": 11,
   "id": "8983d404",
   "metadata": {
    "execution": {
     "iopub.execute_input": "2022-10-11T06:08:32.709930Z",
     "iopub.status.busy": "2022-10-11T06:08:32.708826Z",
     "iopub.status.idle": "2022-10-11T06:08:32.796397Z",
     "shell.execute_reply": "2022-10-11T06:08:32.795816Z",
     "shell.execute_reply.started": "2022-10-11T05:43:15.099716Z"
    },
    "papermill": {
     "duration": 0.174528,
     "end_time": "2022-10-11T06:08:32.796567",
     "exception": false,
     "start_time": "2022-10-11T06:08:32.622039",
     "status": "completed"
    },
    "tags": []
   },
   "outputs": [
    {
     "data": {
      "text/plain": [
       "1493"
      ]
     },
     "execution_count": 11,
     "metadata": {},
     "output_type": "execute_result"
    }
   ],
   "source": [
    "data['hotel_address'].nunique()"
   ]
  },
  {
   "cell_type": "code",
   "execution_count": 12,
   "id": "d9c0246d",
   "metadata": {
    "execution": {
     "iopub.execute_input": "2022-10-11T06:08:32.988849Z",
     "iopub.status.busy": "2022-10-11T06:08:32.971623Z",
     "iopub.status.idle": "2022-10-11T06:08:33.108128Z",
     "shell.execute_reply": "2022-10-11T06:08:33.108805Z",
     "shell.execute_reply.started": "2022-10-11T05:43:17.141545Z"
    },
    "papermill": {
     "duration": 0.229681,
     "end_time": "2022-10-11T06:08:33.109084",
     "exception": false,
     "start_time": "2022-10-11T06:08:32.879403",
     "status": "completed"
    },
    "tags": []
   },
   "outputs": [
    {
     "name": "stdout",
     "output_type": "stream",
     "text": [
      "<class 'pandas.core.frame.DataFrame'>\n",
      "Int64Index: 1493 entries, 0 to 117586\n",
      "Data columns (total 3 columns):\n",
      " #   Column         Non-Null Count  Dtype  \n",
      "---  ------         --------------  -----  \n",
      " 0   hotel_address  1493 non-null   object \n",
      " 1   lat            1476 non-null   float64\n",
      " 2   lng            1476 non-null   float64\n",
      "dtypes: float64(2), object(1)\n",
      "memory usage: 46.7+ KB\n"
     ]
    }
   ],
   "source": [
    "# Посмотрим сколько отелей представленно в данных\n",
    "unique_hotels = data[['hotel_address', 'lat', 'lng']].drop_duplicates()\n",
    "unique_hotels.info()"
   ]
  },
  {
   "cell_type": "code",
   "execution_count": 13,
   "id": "745c4e83",
   "metadata": {
    "execution": {
     "iopub.execute_input": "2022-10-11T06:08:33.284173Z",
     "iopub.status.busy": "2022-10-11T06:08:33.283119Z",
     "iopub.status.idle": "2022-10-11T06:08:33.301744Z",
     "shell.execute_reply": "2022-10-11T06:08:33.302276Z",
     "shell.execute_reply.started": "2022-10-11T05:43:20.518930Z"
    },
    "papermill": {
     "duration": 0.108284,
     "end_time": "2022-10-11T06:08:33.302482",
     "exception": false,
     "start_time": "2022-10-11T06:08:33.194198",
     "status": "completed"
    },
    "tags": []
   },
   "outputs": [
    {
     "data": {
      "text/html": [
       "<div>\n",
       "<style scoped>\n",
       "    .dataframe tbody tr th:only-of-type {\n",
       "        vertical-align: middle;\n",
       "    }\n",
       "\n",
       "    .dataframe tbody tr th {\n",
       "        vertical-align: top;\n",
       "    }\n",
       "\n",
       "    .dataframe thead th {\n",
       "        text-align: right;\n",
       "    }\n",
       "</style>\n",
       "<table border=\"1\" class=\"dataframe\">\n",
       "  <thead>\n",
       "    <tr style=\"text-align: right;\">\n",
       "      <th></th>\n",
       "      <th>hotel_address</th>\n",
       "      <th>lat</th>\n",
       "      <th>lng</th>\n",
       "    </tr>\n",
       "  </thead>\n",
       "  <tbody>\n",
       "    <tr>\n",
       "      <th>35</th>\n",
       "      <td>W hringer Stra e 33 35 09 Alsergrund 1090 Vien...</td>\n",
       "      <td>NaN</td>\n",
       "      <td>NaN</td>\n",
       "    </tr>\n",
       "    <tr>\n",
       "      <th>476</th>\n",
       "      <td>Gr nentorgasse 30 09 Alsergrund 1090 Vienna Au...</td>\n",
       "      <td>NaN</td>\n",
       "      <td>NaN</td>\n",
       "    </tr>\n",
       "    <tr>\n",
       "      <th>526</th>\n",
       "      <td>23 Rue Damr mont 18th arr 75018 Paris France</td>\n",
       "      <td>NaN</td>\n",
       "      <td>NaN</td>\n",
       "    </tr>\n",
       "    <tr>\n",
       "      <th>569</th>\n",
       "      <td>Josefst dter Stra e 10 12 08 Josefstadt 1080 V...</td>\n",
       "      <td>NaN</td>\n",
       "      <td>NaN</td>\n",
       "    </tr>\n",
       "    <tr>\n",
       "      <th>609</th>\n",
       "      <td>Taborstra e 8 A 02 Leopoldstadt 1020 Vienna Au...</td>\n",
       "      <td>NaN</td>\n",
       "      <td>NaN</td>\n",
       "    </tr>\n",
       "    <tr>\n",
       "      <th>774</th>\n",
       "      <td>Josefst dter Stra e 22 08 Josefstadt 1080 Vien...</td>\n",
       "      <td>NaN</td>\n",
       "      <td>NaN</td>\n",
       "    </tr>\n",
       "    <tr>\n",
       "      <th>1285</th>\n",
       "      <td>Bail n 4 6 Eixample 08010 Barcelona Spain</td>\n",
       "      <td>NaN</td>\n",
       "      <td>NaN</td>\n",
       "    </tr>\n",
       "    <tr>\n",
       "      <th>2389</th>\n",
       "      <td>Landstra er G rtel 5 03 Landstra e 1030 Vienna...</td>\n",
       "      <td>NaN</td>\n",
       "      <td>NaN</td>\n",
       "    </tr>\n",
       "    <tr>\n",
       "      <th>2802</th>\n",
       "      <td>4 rue de la P pini re 8th arr 75008 Paris France</td>\n",
       "      <td>NaN</td>\n",
       "      <td>NaN</td>\n",
       "    </tr>\n",
       "    <tr>\n",
       "      <th>3495</th>\n",
       "      <td>20 Rue De La Ga t 14th arr 75014 Paris France</td>\n",
       "      <td>NaN</td>\n",
       "      <td>NaN</td>\n",
       "    </tr>\n",
       "    <tr>\n",
       "      <th>3535</th>\n",
       "      <td>W hringer Stra e 12 09 Alsergrund 1090 Vienna ...</td>\n",
       "      <td>NaN</td>\n",
       "      <td>NaN</td>\n",
       "    </tr>\n",
       "    <tr>\n",
       "      <th>4173</th>\n",
       "      <td>Savoyenstra e 2 16 Ottakring 1160 Vienna Austria</td>\n",
       "      <td>NaN</td>\n",
       "      <td>NaN</td>\n",
       "    </tr>\n",
       "    <tr>\n",
       "      <th>4298</th>\n",
       "      <td>Pau Clar s 122 Eixample 08009 Barcelona Spain</td>\n",
       "      <td>NaN</td>\n",
       "      <td>NaN</td>\n",
       "    </tr>\n",
       "    <tr>\n",
       "      <th>12597</th>\n",
       "      <td>Sieveringer Stra e 4 19 D bling 1190 Vienna Au...</td>\n",
       "      <td>NaN</td>\n",
       "      <td>NaN</td>\n",
       "    </tr>\n",
       "    <tr>\n",
       "      <th>20923</th>\n",
       "      <td>Paragonstra e 1 11 Simmering 1110 Vienna Austria</td>\n",
       "      <td>NaN</td>\n",
       "      <td>NaN</td>\n",
       "    </tr>\n",
       "    <tr>\n",
       "      <th>20938</th>\n",
       "      <td>Hasenauerstra e 12 19 D bling 1190 Vienna Austria</td>\n",
       "      <td>NaN</td>\n",
       "      <td>NaN</td>\n",
       "    </tr>\n",
       "    <tr>\n",
       "      <th>60386</th>\n",
       "      <td>Sep lveda 180 Eixample 08011 Barcelona Spain</td>\n",
       "      <td>NaN</td>\n",
       "      <td>NaN</td>\n",
       "    </tr>\n",
       "  </tbody>\n",
       "</table>\n",
       "</div>"
      ],
      "text/plain": [
       "                                           hotel_address  lat  lng\n",
       "35     W hringer Stra e 33 35 09 Alsergrund 1090 Vien...  NaN  NaN\n",
       "476    Gr nentorgasse 30 09 Alsergrund 1090 Vienna Au...  NaN  NaN\n",
       "526         23 Rue Damr mont 18th arr 75018 Paris France  NaN  NaN\n",
       "569    Josefst dter Stra e 10 12 08 Josefstadt 1080 V...  NaN  NaN\n",
       "609    Taborstra e 8 A 02 Leopoldstadt 1020 Vienna Au...  NaN  NaN\n",
       "774    Josefst dter Stra e 22 08 Josefstadt 1080 Vien...  NaN  NaN\n",
       "1285           Bail n 4 6 Eixample 08010 Barcelona Spain  NaN  NaN\n",
       "2389   Landstra er G rtel 5 03 Landstra e 1030 Vienna...  NaN  NaN\n",
       "2802    4 rue de la P pini re 8th arr 75008 Paris France  NaN  NaN\n",
       "3495       20 Rue De La Ga t 14th arr 75014 Paris France  NaN  NaN\n",
       "3535   W hringer Stra e 12 09 Alsergrund 1090 Vienna ...  NaN  NaN\n",
       "4173    Savoyenstra e 2 16 Ottakring 1160 Vienna Austria  NaN  NaN\n",
       "4298       Pau Clar s 122 Eixample 08009 Barcelona Spain  NaN  NaN\n",
       "12597  Sieveringer Stra e 4 19 D bling 1190 Vienna Au...  NaN  NaN\n",
       "20923   Paragonstra e 1 11 Simmering 1110 Vienna Austria  NaN  NaN\n",
       "20938  Hasenauerstra e 12 19 D bling 1190 Vienna Austria  NaN  NaN\n",
       "60386       Sep lveda 180 Eixample 08011 Barcelona Spain  NaN  NaN"
      ]
     },
     "execution_count": 13,
     "metadata": {},
     "output_type": "execute_result"
    }
   ],
   "source": [
    "# посмотрим адреса и названия отелей с пропусками координат\n",
    "unique_hotels[unique_hotels['lat'].isnull() == True]"
   ]
  },
  {
   "cell_type": "code",
   "execution_count": 14,
   "id": "6261ce52",
   "metadata": {
    "execution": {
     "iopub.execute_input": "2022-10-11T06:08:33.475488Z",
     "iopub.status.busy": "2022-10-11T06:08:33.474374Z",
     "iopub.status.idle": "2022-10-11T06:08:33.483387Z",
     "shell.execute_reply": "2022-10-11T06:08:33.483925Z",
     "shell.execute_reply.started": "2022-10-11T05:43:22.558451Z"
    },
    "papermill": {
     "duration": 0.09715,
     "end_time": "2022-10-11T06:08:33.484127",
     "exception": false,
     "start_time": "2022-10-11T06:08:33.386977",
     "status": "completed"
    },
    "tags": []
   },
   "outputs": [],
   "source": [
    "# С помощью Google Maps найдём координаты этих отелей (можно было бы использовать более изящный вариант, но у меня лапки)\n",
    "hotels_coordinates = pd.DataFrame({'hotel_address':[\n",
    "    'Josefst dter Stra e 10 12 08 Josefstadt 1080 Vienna Austria',\n",
    "    'Taborstra e 8 A 02 Leopoldstadt 1020 Vienna Austria',\n",
    "    'W hringer Stra e 33 35 09 Alsergrund 1090 Vienna Austria',\n",
    "    '4 rue de la P pini re 8th arr 75008 Paris France',\n",
    "    'Landstra er G rtel 5 03 Landstra e 1030 Vienna Austria',\n",
    "    'W hringer Stra e 12 09 Alsergrund 1090 Vienna Austria',\n",
    "    'Savoyenstra e 2 16 Ottakring 1160 Vienna Austria',\n",
    "    'Sieveringer Stra e 4 19 D bling 1190 Vienna Austria',\n",
    "    'Bail n 4 6 Eixample 08010 Barcelona Spain',\n",
    "    'Gr nentorgasse 30 09 Alsergrund 1090 Vienna Austria',\n",
    "    'Hasenauerstra e 12 19 D bling 1190 Vienna Austria',\n",
    "    'Josefst dter Stra e 22 08 Josefstadt 1080 Vienna Austria',\n",
    "    '23 Rue Damr mont 18th arr 75018 Paris France',\n",
    "    'Paragonstra e 1 11 Simmering 1110 Vienna Austria',\n",
    "    '20 Rue De La Ga t 14th arr 75014 Paris France',\n",
    "    'Pau Clar s 122 Eixample 08009 Barcelona Spain',\n",
    "    'Sep lveda 180 Eixample 08011 Barcelona Spain'], 'lat':[\n",
    "    \n",
    "    48.209910,\n",
    "    48.21360,\n",
    "    48.22036,\n",
    "    48.87532,\n",
    "    48.18888,\n",
    "    48.21700,\n",
    "    48.21975,\n",
    "    48.24614,\n",
    "    41.39181,\n",
    "    48.22163,\n",
    "    48.20971,\n",
    "    48.20973,\n",
    "    48.88910,\n",
    "    48.18814,\n",
    "    48.84012,\n",
    "    41.39272,\n",
    "    41.38340], 'lng':[\n",
    "    \n",
    "    16.353425,\n",
    "    16.37988,\n",
    "    16.35580,\n",
    "    2.32338,\n",
    "    16.38377,\n",
    "    16.35989,\n",
    "    16.28565,\n",
    "    16.34153,\n",
    "    2.17784,\n",
    "    16.36641,\n",
    "    16.35145,\n",
    "    16.35148,\n",
    "    2.33310,\n",
    "    16.42049,\n",
    "    2.32357,\n",
    "    2.16739,\n",
    "    2.16294]\n",
    "})"
   ]
  },
  {
   "cell_type": "code",
   "execution_count": 15,
   "id": "3924e64f",
   "metadata": {
    "execution": {
     "iopub.execute_input": "2022-10-11T06:08:33.658364Z",
     "iopub.status.busy": "2022-10-11T06:08:33.657221Z",
     "iopub.status.idle": "2022-10-11T06:08:33.811344Z",
     "shell.execute_reply": "2022-10-11T06:08:33.811874Z",
     "shell.execute_reply.started": "2022-10-11T05:43:25.481855Z"
    },
    "papermill": {
     "duration": 0.244046,
     "end_time": "2022-10-11T06:08:33.812095",
     "exception": false,
     "start_time": "2022-10-11T06:08:33.568049",
     "status": "completed"
    },
    "tags": []
   },
   "outputs": [
    {
     "name": "stdout",
     "output_type": "stream",
     "text": [
      "CPU times: user 132 ms, sys: 4.88 ms, total: 137 ms\n",
      "Wall time: 147 ms\n"
     ]
    }
   ],
   "source": [
    "%%time\n",
    "# C помощью волшебства, которое я нашел на stackoverflow обновим пропущенные данные \n",
    "unique_hotels = (unique_hotels.merge(\n",
    "    hotels_coordinates, on='hotel_address', how='left', suffixes=('','\\x00')).sort_index(axis=1).bfill(axis=1)[unique_hotels.columns])"
   ]
  },
  {
   "cell_type": "code",
   "execution_count": 16,
   "id": "cd616468",
   "metadata": {
    "execution": {
     "iopub.execute_input": "2022-10-11T06:08:33.986689Z",
     "iopub.status.busy": "2022-10-11T06:08:33.985962Z",
     "iopub.status.idle": "2022-10-11T06:08:33.995630Z",
     "shell.execute_reply": "2022-10-11T06:08:33.996102Z",
     "shell.execute_reply.started": "2022-10-11T05:43:27.399045Z"
    },
    "papermill": {
     "duration": 0.09988,
     "end_time": "2022-10-11T06:08:33.996323",
     "exception": false,
     "start_time": "2022-10-11T06:08:33.896443",
     "status": "completed"
    },
    "tags": []
   },
   "outputs": [
    {
     "data": {
      "text/plain": [
       "Series([], dtype: float64)"
      ]
     },
     "metadata": {},
     "output_type": "display_data"
    }
   ],
   "source": [
    "# Проверим на NaN\n",
    "cols_null_percent =  unique_hotels.isnull().mean() * 100\n",
    "cols_with_null = cols_null_percent[cols_null_percent>0].sort_values(ascending=False)\n",
    "display(cols_with_null)"
   ]
  },
  {
   "cell_type": "code",
   "execution_count": 17,
   "id": "d417f93b",
   "metadata": {
    "execution": {
     "iopub.execute_input": "2022-10-11T06:08:34.170841Z",
     "iopub.status.busy": "2022-10-11T06:08:34.170125Z",
     "iopub.status.idle": "2022-10-11T06:08:34.194095Z",
     "shell.execute_reply": "2022-10-11T06:08:34.193455Z",
     "shell.execute_reply.started": "2022-10-11T05:43:29.100621Z"
    },
    "papermill": {
     "duration": 0.113244,
     "end_time": "2022-10-11T06:08:34.194274",
     "exception": false,
     "start_time": "2022-10-11T06:08:34.081030",
     "status": "completed"
    },
    "tags": []
   },
   "outputs": [
    {
     "data": {
      "text/html": [
       "<div>\n",
       "<style scoped>\n",
       "    .dataframe tbody tr th:only-of-type {\n",
       "        vertical-align: middle;\n",
       "    }\n",
       "\n",
       "    .dataframe tbody tr th {\n",
       "        vertical-align: top;\n",
       "    }\n",
       "\n",
       "    .dataframe thead th {\n",
       "        text-align: right;\n",
       "    }\n",
       "</style>\n",
       "<table border=\"1\" class=\"dataframe\">\n",
       "  <thead>\n",
       "    <tr style=\"text-align: right;\">\n",
       "      <th></th>\n",
       "      <th>hotel_address</th>\n",
       "      <th>lat</th>\n",
       "      <th>lng</th>\n",
       "      <th>hotel_country</th>\n",
       "      <th>hotel_city</th>\n",
       "    </tr>\n",
       "  </thead>\n",
       "  <tbody>\n",
       "    <tr>\n",
       "      <th>0</th>\n",
       "      <td>Via Senigallia 6 20161 Milan Italy</td>\n",
       "      <td>45.533137</td>\n",
       "      <td>9.171102</td>\n",
       "      <td>Italy</td>\n",
       "      <td>Milan</td>\n",
       "    </tr>\n",
       "    <tr>\n",
       "      <th>1</th>\n",
       "      <td>Arlandaweg 10 Westpoort 1043 EW Amsterdam Neth...</td>\n",
       "      <td>52.385649</td>\n",
       "      <td>4.834443</td>\n",
       "      <td>Netherlands</td>\n",
       "      <td>Amsterdam</td>\n",
       "    </tr>\n",
       "    <tr>\n",
       "      <th>2</th>\n",
       "      <td>Mallorca 251 Eixample 08008 Barcelona Spain</td>\n",
       "      <td>41.393192</td>\n",
       "      <td>2.16152</td>\n",
       "      <td>Spain</td>\n",
       "      <td>Barcelona</td>\n",
       "    </tr>\n",
       "    <tr>\n",
       "      <th>3</th>\n",
       "      <td>Piazza Della Repubblica 17 Central Station 201...</td>\n",
       "      <td>45.479888</td>\n",
       "      <td>9.196298</td>\n",
       "      <td>Italy</td>\n",
       "      <td>Milan</td>\n",
       "    </tr>\n",
       "    <tr>\n",
       "      <th>4</th>\n",
       "      <td>Singel 303 309 Amsterdam City Center 1012 WJ A...</td>\n",
       "      <td>52.370545</td>\n",
       "      <td>4.888644</td>\n",
       "      <td>Netherlands</td>\n",
       "      <td>Amsterdam</td>\n",
       "    </tr>\n",
       "  </tbody>\n",
       "</table>\n",
       "</div>"
      ],
      "text/plain": [
       "                                       hotel_address        lat       lng  \\\n",
       "0                 Via Senigallia 6 20161 Milan Italy  45.533137  9.171102   \n",
       "1  Arlandaweg 10 Westpoort 1043 EW Amsterdam Neth...  52.385649  4.834443   \n",
       "2        Mallorca 251 Eixample 08008 Barcelona Spain  41.393192   2.16152   \n",
       "3  Piazza Della Repubblica 17 Central Station 201...  45.479888  9.196298   \n",
       "4  Singel 303 309 Amsterdam City Center 1012 WJ A...  52.370545  4.888644   \n",
       "\n",
       "  hotel_country hotel_city  \n",
       "0         Italy      Milan  \n",
       "1   Netherlands  Amsterdam  \n",
       "2         Spain  Barcelona  \n",
       "3         Italy      Milan  \n",
       "4   Netherlands  Amsterdam  "
      ]
     },
     "execution_count": 17,
     "metadata": {},
     "output_type": "execute_result"
    }
   ],
   "source": [
    "# Достанем из адресса страну и город\n",
    "def country_extractor(data):\n",
    "    \"\"\"доставатель страны\"\"\"\n",
    "    if data.split(sep=' ')[-1] == 'Kingdom':\n",
    "        return 'United Kingdom'\n",
    "    else:\n",
    "        return data.split(sep=' ')[-1]\n",
    "\n",
    "def city_extractor(data):\n",
    "    \"\"\"доставатель города\"\"\"\n",
    "    if data.split(sep=' ')[-1] == 'Kingdom':\n",
    "        return ''.join(data.split(sep=' ')[-5])\n",
    "    else:\n",
    "        return data.split(sep=' ')[-2]\n",
    "    \n",
    "unique_hotels['hotel_country'] = unique_hotels['hotel_address'].apply(country_extractor)\n",
    "unique_hotels['hotel_city'] = unique_hotels['hotel_address'].apply(city_extractor)\n",
    "unique_hotels.head()"
   ]
  },
  {
   "cell_type": "code",
   "execution_count": 18,
   "id": "7ba27ec7",
   "metadata": {
    "execution": {
     "iopub.execute_input": "2022-10-11T06:08:34.381668Z",
     "iopub.status.busy": "2022-10-11T06:08:34.380621Z",
     "iopub.status.idle": "2022-10-11T06:08:34.385548Z",
     "shell.execute_reply": "2022-10-11T06:08:34.384926Z",
     "shell.execute_reply.started": "2022-10-11T05:43:31.583173Z"
    },
    "papermill": {
     "duration": 0.104942,
     "end_time": "2022-10-11T06:08:34.385724",
     "exception": false,
     "start_time": "2022-10-11T06:08:34.280782",
     "status": "completed"
    },
    "tags": []
   },
   "outputs": [
    {
     "data": {
      "text/html": [
       "<div>\n",
       "<style scoped>\n",
       "    .dataframe tbody tr th:only-of-type {\n",
       "        vertical-align: middle;\n",
       "    }\n",
       "\n",
       "    .dataframe tbody tr th {\n",
       "        vertical-align: top;\n",
       "    }\n",
       "\n",
       "    .dataframe thead th {\n",
       "        text-align: right;\n",
       "    }\n",
       "</style>\n",
       "<table border=\"1\" class=\"dataframe\">\n",
       "  <thead>\n",
       "    <tr style=\"text-align: right;\">\n",
       "      <th></th>\n",
       "      <th>hotel_city</th>\n",
       "      <th>city_lat</th>\n",
       "      <th>city_lng</th>\n",
       "    </tr>\n",
       "  </thead>\n",
       "  <tbody>\n",
       "    <tr>\n",
       "      <th>0</th>\n",
       "      <td>London</td>\n",
       "      <td>51.507322</td>\n",
       "      <td>-0.127647</td>\n",
       "    </tr>\n",
       "    <tr>\n",
       "      <th>1</th>\n",
       "      <td>Barcelona</td>\n",
       "      <td>41.382894</td>\n",
       "      <td>2.177432</td>\n",
       "    </tr>\n",
       "    <tr>\n",
       "      <th>2</th>\n",
       "      <td>Paris</td>\n",
       "      <td>48.853495</td>\n",
       "      <td>2.348391</td>\n",
       "    </tr>\n",
       "    <tr>\n",
       "      <th>3</th>\n",
       "      <td>Amsterdam</td>\n",
       "      <td>52.372760</td>\n",
       "      <td>4.893604</td>\n",
       "    </tr>\n",
       "    <tr>\n",
       "      <th>4</th>\n",
       "      <td>Vienna</td>\n",
       "      <td>48.208354</td>\n",
       "      <td>16.372504</td>\n",
       "    </tr>\n",
       "    <tr>\n",
       "      <th>5</th>\n",
       "      <td>Milan</td>\n",
       "      <td>45.464194</td>\n",
       "      <td>9.189635</td>\n",
       "    </tr>\n",
       "  </tbody>\n",
       "</table>\n",
       "</div>"
      ],
      "text/plain": [
       "  hotel_city   city_lat   city_lng\n",
       "0     London  51.507322  -0.127647\n",
       "1  Barcelona  41.382894   2.177432\n",
       "2      Paris  48.853495   2.348391\n",
       "3  Amsterdam  52.372760   4.893604\n",
       "4     Vienna  48.208354  16.372504\n",
       "5      Milan  45.464194   9.189635"
      ]
     },
     "execution_count": 18,
     "metadata": {},
     "output_type": "execute_result"
    }
   ],
   "source": [
    "# С помощью Google Maps найдём координаты центров городов\n",
    "cities = pd.DataFrame({'hotel_city':[\n",
    "    'London',\n",
    "    'Barcelona',\n",
    "    'Paris',\n",
    "    'Amsterdam',\n",
    "    'Vienna',\n",
    "    'Milan'], 'city_lat':[\n",
    "    \n",
    "    51.507322,\n",
    "    41.382894,\n",
    "    48.853495,\n",
    "    52.372760,\n",
    "    48.208354,\n",
    "    45.464194], 'city_lng':[\n",
    "    \n",
    "    -0.127647,\n",
    "    2.177432,\n",
    "    2.348391,\n",
    "    4.893604,\n",
    "    16.372504,\n",
    "    9.189635]\n",
    "})\n",
    "cities"
   ]
  },
  {
   "cell_type": "code",
   "execution_count": 19,
   "id": "8053a959",
   "metadata": {
    "execution": {
     "iopub.execute_input": "2022-10-11T06:08:34.568754Z",
     "iopub.status.busy": "2022-10-11T06:08:34.567897Z",
     "iopub.status.idle": "2022-10-11T06:08:34.587883Z",
     "shell.execute_reply": "2022-10-11T06:08:34.588476Z",
     "shell.execute_reply.started": "2022-10-11T05:43:34.281985Z"
    },
    "papermill": {
     "duration": 0.116465,
     "end_time": "2022-10-11T06:08:34.588710",
     "exception": false,
     "start_time": "2022-10-11T06:08:34.472245",
     "status": "completed"
    },
    "tags": []
   },
   "outputs": [
    {
     "data": {
      "text/html": [
       "<div>\n",
       "<style scoped>\n",
       "    .dataframe tbody tr th:only-of-type {\n",
       "        vertical-align: middle;\n",
       "    }\n",
       "\n",
       "    .dataframe tbody tr th {\n",
       "        vertical-align: top;\n",
       "    }\n",
       "\n",
       "    .dataframe thead th {\n",
       "        text-align: right;\n",
       "    }\n",
       "</style>\n",
       "<table border=\"1\" class=\"dataframe\">\n",
       "  <thead>\n",
       "    <tr style=\"text-align: right;\">\n",
       "      <th></th>\n",
       "      <th>hotel_address</th>\n",
       "      <th>lat</th>\n",
       "      <th>lng</th>\n",
       "      <th>hotel_country</th>\n",
       "      <th>hotel_city</th>\n",
       "      <th>city_lat</th>\n",
       "      <th>city_lng</th>\n",
       "      <th>coordinates</th>\n",
       "    </tr>\n",
       "  </thead>\n",
       "  <tbody>\n",
       "    <tr>\n",
       "      <th>0</th>\n",
       "      <td>Via Senigallia 6 20161 Milan Italy</td>\n",
       "      <td>45.533137</td>\n",
       "      <td>9.171102</td>\n",
       "      <td>Italy</td>\n",
       "      <td>Milan</td>\n",
       "      <td>45.464194</td>\n",
       "      <td>9.189635</td>\n",
       "      <td>(45.5331372, 9.1711019, 45.464194, 9.189635)</td>\n",
       "    </tr>\n",
       "    <tr>\n",
       "      <th>1</th>\n",
       "      <td>Arlandaweg 10 Westpoort 1043 EW Amsterdam Neth...</td>\n",
       "      <td>52.385649</td>\n",
       "      <td>4.834443</td>\n",
       "      <td>Netherlands</td>\n",
       "      <td>Amsterdam</td>\n",
       "      <td>52.372760</td>\n",
       "      <td>4.893604</td>\n",
       "      <td>(52.3856494, 4.834443, 52.37276, 4.893604)</td>\n",
       "    </tr>\n",
       "    <tr>\n",
       "      <th>2</th>\n",
       "      <td>Mallorca 251 Eixample 08008 Barcelona Spain</td>\n",
       "      <td>41.393192</td>\n",
       "      <td>2.16152</td>\n",
       "      <td>Spain</td>\n",
       "      <td>Barcelona</td>\n",
       "      <td>41.382894</td>\n",
       "      <td>2.177432</td>\n",
       "      <td>(41.3931918, 2.16152, 41.382894, 2.177432)</td>\n",
       "    </tr>\n",
       "    <tr>\n",
       "      <th>3</th>\n",
       "      <td>Piazza Della Repubblica 17 Central Station 201...</td>\n",
       "      <td>45.479888</td>\n",
       "      <td>9.196298</td>\n",
       "      <td>Italy</td>\n",
       "      <td>Milan</td>\n",
       "      <td>45.464194</td>\n",
       "      <td>9.189635</td>\n",
       "      <td>(45.479888, 9.1962982, 45.464194, 9.189635)</td>\n",
       "    </tr>\n",
       "    <tr>\n",
       "      <th>4</th>\n",
       "      <td>Singel 303 309 Amsterdam City Center 1012 WJ A...</td>\n",
       "      <td>52.370545</td>\n",
       "      <td>4.888644</td>\n",
       "      <td>Netherlands</td>\n",
       "      <td>Amsterdam</td>\n",
       "      <td>52.372760</td>\n",
       "      <td>4.893604</td>\n",
       "      <td>(52.3705447, 4.8886439, 52.37276, 4.893604)</td>\n",
       "    </tr>\n",
       "  </tbody>\n",
       "</table>\n",
       "</div>"
      ],
      "text/plain": [
       "                                       hotel_address        lat       lng  \\\n",
       "0                 Via Senigallia 6 20161 Milan Italy  45.533137  9.171102   \n",
       "1  Arlandaweg 10 Westpoort 1043 EW Amsterdam Neth...  52.385649  4.834443   \n",
       "2        Mallorca 251 Eixample 08008 Barcelona Spain  41.393192   2.16152   \n",
       "3  Piazza Della Repubblica 17 Central Station 201...  45.479888  9.196298   \n",
       "4  Singel 303 309 Amsterdam City Center 1012 WJ A...  52.370545  4.888644   \n",
       "\n",
       "  hotel_country hotel_city   city_lat  city_lng  \\\n",
       "0         Italy      Milan  45.464194  9.189635   \n",
       "1   Netherlands  Amsterdam  52.372760  4.893604   \n",
       "2         Spain  Barcelona  41.382894  2.177432   \n",
       "3         Italy      Milan  45.464194  9.189635   \n",
       "4   Netherlands  Amsterdam  52.372760  4.893604   \n",
       "\n",
       "                                    coordinates  \n",
       "0  (45.5331372, 9.1711019, 45.464194, 9.189635)  \n",
       "1    (52.3856494, 4.834443, 52.37276, 4.893604)  \n",
       "2    (41.3931918, 2.16152, 41.382894, 2.177432)  \n",
       "3   (45.479888, 9.1962982, 45.464194, 9.189635)  \n",
       "4   (52.3705447, 4.8886439, 52.37276, 4.893604)  "
      ]
     },
     "execution_count": 19,
     "metadata": {},
     "output_type": "execute_result"
    }
   ],
   "source": [
    "# Обогатим таблицу отелей координатами центров городов\n",
    "unique_hotels = unique_hotels.merge(cities, how='left', on='hotel_city', sort=False)\n",
    "\n",
    "# Добавим признак 'coordinates' состоящий из координат сначала отеля, потом центра города в котором расположен этот отель.\n",
    "unique_hotels['coordinates'] = list(zip(\n",
    "    unique_hotels['lat'], \n",
    "    unique_hotels['lng'], \n",
    "    unique_hotels['city_lat'], \n",
    "    unique_hotels['city_lng']))\n",
    "\n",
    "unique_hotels.head()"
   ]
  },
  {
   "cell_type": "code",
   "execution_count": 20,
   "id": "0d2097e9",
   "metadata": {
    "execution": {
     "iopub.execute_input": "2022-10-11T06:08:34.765831Z",
     "iopub.status.busy": "2022-10-11T06:08:34.765101Z",
     "iopub.status.idle": "2022-10-11T06:08:35.154839Z",
     "shell.execute_reply": "2022-10-11T06:08:35.155385Z",
     "shell.execute_reply.started": "2022-10-11T05:43:36.419185Z"
    },
    "papermill": {
     "duration": 0.480229,
     "end_time": "2022-10-11T06:08:35.155586",
     "exception": false,
     "start_time": "2022-10-11T06:08:34.675357",
     "status": "completed"
    },
    "tags": []
   },
   "outputs": [
    {
     "name": "stdout",
     "output_type": "stream",
     "text": [
      "CPU times: user 366 ms, sys: 1 ms, total: 367 ms\n",
      "Wall time: 369 ms\n"
     ]
    },
    {
     "data": {
      "text/html": [
       "<div>\n",
       "<style scoped>\n",
       "    .dataframe tbody tr th:only-of-type {\n",
       "        vertical-align: middle;\n",
       "    }\n",
       "\n",
       "    .dataframe tbody tr th {\n",
       "        vertical-align: top;\n",
       "    }\n",
       "\n",
       "    .dataframe thead th {\n",
       "        text-align: right;\n",
       "    }\n",
       "</style>\n",
       "<table border=\"1\" class=\"dataframe\">\n",
       "  <thead>\n",
       "    <tr style=\"text-align: right;\">\n",
       "      <th></th>\n",
       "      <th>hotel_address</th>\n",
       "      <th>lat</th>\n",
       "      <th>lng</th>\n",
       "      <th>hotel_country</th>\n",
       "      <th>hotel_city</th>\n",
       "      <th>city_lat</th>\n",
       "      <th>city_lng</th>\n",
       "      <th>coordinates</th>\n",
       "      <th>distance_from_center</th>\n",
       "    </tr>\n",
       "  </thead>\n",
       "  <tbody>\n",
       "    <tr>\n",
       "      <th>0</th>\n",
       "      <td>Via Senigallia 6 20161 Milan Italy</td>\n",
       "      <td>45.533137</td>\n",
       "      <td>9.171102</td>\n",
       "      <td>Italy</td>\n",
       "      <td>Milan</td>\n",
       "      <td>45.464194</td>\n",
       "      <td>9.189635</td>\n",
       "      <td>(45.5331372, 9.1711019, 45.464194, 9.189635)</td>\n",
       "      <td>7.798170</td>\n",
       "    </tr>\n",
       "    <tr>\n",
       "      <th>1</th>\n",
       "      <td>Arlandaweg 10 Westpoort 1043 EW Amsterdam Neth...</td>\n",
       "      <td>52.385649</td>\n",
       "      <td>4.834443</td>\n",
       "      <td>Netherlands</td>\n",
       "      <td>Amsterdam</td>\n",
       "      <td>52.372760</td>\n",
       "      <td>4.893604</td>\n",
       "      <td>(52.3856494, 4.834443, 52.37276, 4.893604)</td>\n",
       "      <td>4.276335</td>\n",
       "    </tr>\n",
       "    <tr>\n",
       "      <th>2</th>\n",
       "      <td>Mallorca 251 Eixample 08008 Barcelona Spain</td>\n",
       "      <td>41.393192</td>\n",
       "      <td>2.16152</td>\n",
       "      <td>Spain</td>\n",
       "      <td>Barcelona</td>\n",
       "      <td>41.382894</td>\n",
       "      <td>2.177432</td>\n",
       "      <td>(41.3931918, 2.16152, 41.382894, 2.177432)</td>\n",
       "      <td>1.754781</td>\n",
       "    </tr>\n",
       "    <tr>\n",
       "      <th>3</th>\n",
       "      <td>Piazza Della Repubblica 17 Central Station 201...</td>\n",
       "      <td>45.479888</td>\n",
       "      <td>9.196298</td>\n",
       "      <td>Italy</td>\n",
       "      <td>Milan</td>\n",
       "      <td>45.464194</td>\n",
       "      <td>9.189635</td>\n",
       "      <td>(45.479888, 9.1962982, 45.464194, 9.189635)</td>\n",
       "      <td>1.820407</td>\n",
       "    </tr>\n",
       "    <tr>\n",
       "      <th>4</th>\n",
       "      <td>Singel 303 309 Amsterdam City Center 1012 WJ A...</td>\n",
       "      <td>52.370545</td>\n",
       "      <td>4.888644</td>\n",
       "      <td>Netherlands</td>\n",
       "      <td>Amsterdam</td>\n",
       "      <td>52.372760</td>\n",
       "      <td>4.893604</td>\n",
       "      <td>(52.3705447, 4.8886439, 52.37276, 4.893604)</td>\n",
       "      <td>0.418197</td>\n",
       "    </tr>\n",
       "  </tbody>\n",
       "</table>\n",
       "</div>"
      ],
      "text/plain": [
       "                                       hotel_address        lat       lng  \\\n",
       "0                 Via Senigallia 6 20161 Milan Italy  45.533137  9.171102   \n",
       "1  Arlandaweg 10 Westpoort 1043 EW Amsterdam Neth...  52.385649  4.834443   \n",
       "2        Mallorca 251 Eixample 08008 Barcelona Spain  41.393192   2.16152   \n",
       "3  Piazza Della Repubblica 17 Central Station 201...  45.479888  9.196298   \n",
       "4  Singel 303 309 Amsterdam City Center 1012 WJ A...  52.370545  4.888644   \n",
       "\n",
       "  hotel_country hotel_city   city_lat  city_lng  \\\n",
       "0         Italy      Milan  45.464194  9.189635   \n",
       "1   Netherlands  Amsterdam  52.372760  4.893604   \n",
       "2         Spain  Barcelona  41.382894  2.177432   \n",
       "3         Italy      Milan  45.464194  9.189635   \n",
       "4   Netherlands  Amsterdam  52.372760  4.893604   \n",
       "\n",
       "                                    coordinates  distance_from_center  \n",
       "0  (45.5331372, 9.1711019, 45.464194, 9.189635)              7.798170  \n",
       "1    (52.3856494, 4.834443, 52.37276, 4.893604)              4.276335  \n",
       "2    (41.3931918, 2.16152, 41.382894, 2.177432)              1.754781  \n",
       "3   (45.479888, 9.1962982, 45.464194, 9.189635)              1.820407  \n",
       "4   (52.3705447, 4.8886439, 52.37276, 4.893604)              0.418197  "
      ]
     },
     "execution_count": 20,
     "metadata": {},
     "output_type": "execute_result"
    }
   ],
   "source": [
    "%%time\n",
    "# добавим признак расстояние от центра города.\n",
    "def distance_finder(data):\n",
    "    \"\"\"вычислятель расстояния\"\"\"\n",
    "    coord_1 = data[:2]\n",
    "    coord_2 = data[-2:]\n",
    "    return geodesic(coord_1, coord_2).km\n",
    "\n",
    "unique_hotels['distance_from_center'] = unique_hotels['coordinates'].apply(distance_finder)\n",
    "\n",
    "unique_hotels.head(5)"
   ]
  },
  {
   "cell_type": "markdown",
   "id": "60ea6652",
   "metadata": {
    "papermill": {
     "duration": 0.086766,
     "end_time": "2022-10-11T06:08:35.328610",
     "exception": false,
     "start_time": "2022-10-11T06:08:35.241844",
     "status": "completed"
    },
    "tags": []
   },
   "source": [
    "### Маловато.. Добавим климатические условия для представленных городов."
   ]
  },
  {
   "cell_type": "code",
   "execution_count": 21,
   "id": "b7108641",
   "metadata": {
    "execution": {
     "iopub.execute_input": "2022-10-11T06:08:35.524285Z",
     "iopub.status.busy": "2022-10-11T06:08:35.515009Z",
     "iopub.status.idle": "2022-10-11T06:08:35.527806Z",
     "shell.execute_reply": "2022-10-11T06:08:35.528367Z",
     "shell.execute_reply.started": "2022-10-11T05:43:39.233450Z"
    },
    "papermill": {
     "duration": 0.112884,
     "end_time": "2022-10-11T06:08:35.528583",
     "exception": false,
     "start_time": "2022-10-11T06:08:35.415699",
     "status": "completed"
    },
    "tags": []
   },
   "outputs": [
    {
     "data": {
      "text/html": [
       "<div>\n",
       "<style scoped>\n",
       "    .dataframe tbody tr th:only-of-type {\n",
       "        vertical-align: middle;\n",
       "    }\n",
       "\n",
       "    .dataframe tbody tr th {\n",
       "        vertical-align: top;\n",
       "    }\n",
       "\n",
       "    .dataframe thead th {\n",
       "        text-align: right;\n",
       "    }\n",
       "</style>\n",
       "<table border=\"1\" class=\"dataframe\">\n",
       "  <thead>\n",
       "    <tr style=\"text-align: right;\">\n",
       "      <th></th>\n",
       "      <th>hotel_city</th>\n",
       "      <th>city_tmax</th>\n",
       "      <th>city_tmean</th>\n",
       "      <th>city_tmin</th>\n",
       "      <th>city_sun</th>\n",
       "      <th>city_rain</th>\n",
       "    </tr>\n",
       "  </thead>\n",
       "  <tbody>\n",
       "    <tr>\n",
       "      <th>0</th>\n",
       "      <td>London</td>\n",
       "      <td>15.7</td>\n",
       "      <td>11.9</td>\n",
       "      <td>8.2</td>\n",
       "      <td>60.875</td>\n",
       "      <td>572.2</td>\n",
       "    </tr>\n",
       "    <tr>\n",
       "      <th>1</th>\n",
       "      <td>Barcelona</td>\n",
       "      <td>21.2</td>\n",
       "      <td>18.2</td>\n",
       "      <td>15.1</td>\n",
       "      <td>105.160</td>\n",
       "      <td>565.0</td>\n",
       "    </tr>\n",
       "    <tr>\n",
       "      <th>2</th>\n",
       "      <td>Paris</td>\n",
       "      <td>16.5</td>\n",
       "      <td>12.8</td>\n",
       "      <td>9.2</td>\n",
       "      <td>71.545</td>\n",
       "      <td>634.3</td>\n",
       "    </tr>\n",
       "    <tr>\n",
       "      <th>3</th>\n",
       "      <td>Amsterdam</td>\n",
       "      <td>14.3</td>\n",
       "      <td>10.7</td>\n",
       "      <td>6.8</td>\n",
       "      <td>74.166</td>\n",
       "      <td>850.0</td>\n",
       "    </tr>\n",
       "    <tr>\n",
       "      <th>4</th>\n",
       "      <td>Vienna</td>\n",
       "      <td>14.9</td>\n",
       "      <td>10.5</td>\n",
       "      <td>7.0</td>\n",
       "      <td>157.000</td>\n",
       "      <td>649.0</td>\n",
       "    </tr>\n",
       "    <tr>\n",
       "      <th>5</th>\n",
       "      <td>Milan</td>\n",
       "      <td>17.5</td>\n",
       "      <td>12.0</td>\n",
       "      <td>6.6</td>\n",
       "      <td>201.000</td>\n",
       "      <td>944.0</td>\n",
       "    </tr>\n",
       "  </tbody>\n",
       "</table>\n",
       "</div>"
      ],
      "text/plain": [
       "  hotel_city  city_tmax  city_tmean  city_tmin  city_sun  city_rain\n",
       "0     London       15.7        11.9        8.2    60.875      572.2\n",
       "1  Barcelona       21.2        18.2       15.1   105.160      565.0\n",
       "2      Paris       16.5        12.8        9.2    71.545      634.3\n",
       "3  Amsterdam       14.3        10.7        6.8    74.166      850.0\n",
       "4     Vienna       14.9        10.5        7.0   157.000      649.0\n",
       "5      Milan       17.5        12.0        6.6   201.000      944.0"
      ]
     },
     "execution_count": 21,
     "metadata": {},
     "output_type": "execute_result"
    }
   ],
   "source": [
    "# С помощью \n",
    "climate = pd.DataFrame({'hotel_city':[\n",
    "    'London',\n",
    "    'Barcelona',\n",
    "    'Paris',\n",
    "    'Amsterdam',\n",
    "    'Vienna',\n",
    "    'Milan'], 'city_tmax':[\n",
    "    \n",
    "    15.7,\n",
    "    21.2,\n",
    "    16.5,\n",
    "    14.3,\n",
    "    14.9,\n",
    "    17.5], 'city_tmean':[\n",
    "    \n",
    "    11.9,\n",
    "    18.2,\n",
    "    12.8,\n",
    "    10.7,\n",
    "    10.5,\n",
    "    12.0], 'city_tmin':[\n",
    "    \n",
    "    8.2,\n",
    "    15.1,\n",
    "    9.2,\n",
    "    6.8,\n",
    "    7,\n",
    "    6.6], 'city_sun':[\n",
    "    \n",
    "    60.875,\n",
    "    105.16,\n",
    "    71.545,\n",
    "    74.166,\n",
    "    157,\n",
    "    201], 'city_rain':[\n",
    "    \n",
    "    572.2,\n",
    "    565,\n",
    "    634.3,\n",
    "    850,\n",
    "    649,\n",
    "    944]\n",
    "})\n",
    "climate"
   ]
  },
  {
   "cell_type": "code",
   "execution_count": 22,
   "id": "a9bd792e",
   "metadata": {
    "execution": {
     "iopub.execute_input": "2022-10-11T06:08:35.732464Z",
     "iopub.status.busy": "2022-10-11T06:08:35.731685Z",
     "iopub.status.idle": "2022-10-11T06:08:35.739899Z",
     "shell.execute_reply": "2022-10-11T06:08:35.739283Z",
     "shell.execute_reply.started": "2022-10-11T05:43:42.502418Z"
    },
    "papermill": {
     "duration": 0.110439,
     "end_time": "2022-10-11T06:08:35.740077",
     "exception": false,
     "start_time": "2022-10-11T06:08:35.629638",
     "status": "completed"
    },
    "tags": []
   },
   "outputs": [],
   "source": [
    "unique_hotels = unique_hotels.merge(climate, how='left', on='hotel_city', sort=False)"
   ]
  },
  {
   "cell_type": "code",
   "execution_count": 23,
   "id": "57de6bed",
   "metadata": {
    "execution": {
     "iopub.execute_input": "2022-10-11T06:08:35.920547Z",
     "iopub.status.busy": "2022-10-11T06:08:35.919818Z",
     "iopub.status.idle": "2022-10-11T06:08:35.926495Z",
     "shell.execute_reply": "2022-10-11T06:08:35.927185Z",
     "shell.execute_reply.started": "2022-10-11T05:43:44.879020Z"
    },
    "papermill": {
     "duration": 0.099575,
     "end_time": "2022-10-11T06:08:35.927412",
     "exception": false,
     "start_time": "2022-10-11T06:08:35.827837",
     "status": "completed"
    },
    "tags": []
   },
   "outputs": [],
   "source": [
    "def plots(data, column_name):\n",
    "    \"\"\"\n",
    "    Функция для построения гистограммы и коробчадой диагррамы\n",
    "    для визуализации выбросов\n",
    "\n",
    "    :data: Исходный датафрейм\n",
    "    :column_name: Имя признака для анализа\n",
    "    :return: Выводит график\n",
    "    \"\"\"\n",
    "\n",
    "    fig, axes = plt.subplots(nrows=1, ncols=2, figsize=(12, 4))  # (18, 8)\n",
    "    histplot = sns.histplot(data=data, x=column_name, ax=axes[0]) \n",
    "    boxplot = sns.boxplot(data=data, x=column_name, ax=axes[1]) \n",
    "    histplot.set_title(f'{column_name} Histogram') \n",
    "    boxplot.set_title(f'{column_name} Boxplot') \n",
    "    \n",
    "    plt.tight_layout()\n",
    "    plt.show()"
   ]
  },
  {
   "cell_type": "code",
   "execution_count": 24,
   "id": "235ec65a",
   "metadata": {
    "execution": {
     "iopub.execute_input": "2022-10-11T06:08:36.105904Z",
     "iopub.status.busy": "2022-10-11T06:08:36.105227Z",
     "iopub.status.idle": "2022-10-11T06:08:36.609489Z",
     "shell.execute_reply": "2022-10-11T06:08:36.608920Z",
     "shell.execute_reply.started": "2022-10-11T05:43:48.710231Z"
    },
    "papermill": {
     "duration": 0.594871,
     "end_time": "2022-10-11T06:08:36.609663",
     "exception": false,
     "start_time": "2022-10-11T06:08:36.014792",
     "status": "completed"
    },
    "tags": []
   },
   "outputs": [
    {
     "data": {
      "image/png": "[encoded data removed]",
      "text/plain": [
       "<Figure size 864x288 with 2 Axes>"
      ]
     },
     "metadata": {
      "needs_background": "light"
     },
     "output_type": "display_data"
    }
   ],
   "source": [
    "plots(unique_hotels, 'distance_from_center')"
   ]
  },
  {
   "cell_type": "markdown",
   "id": "557fe6bb",
   "metadata": {
    "papermill": {
     "duration": 0.089831,
     "end_time": "2022-10-11T06:08:36.791319",
     "exception": false,
     "start_time": "2022-10-11T06:08:36.701488",
     "status": "completed"
    },
    "tags": []
   },
   "source": [
    "### Похоже на логнормальное распределение, попробуем логарифмировать данные."
   ]
  },
  {
   "cell_type": "code",
   "execution_count": 25,
   "id": "3d44fe83",
   "metadata": {
    "execution": {
     "iopub.execute_input": "2022-10-11T06:08:36.975443Z",
     "iopub.status.busy": "2022-10-11T06:08:36.974499Z",
     "iopub.status.idle": "2022-10-11T06:08:36.977315Z",
     "shell.execute_reply": "2022-10-11T06:08:36.977821Z",
     "shell.execute_reply.started": "2022-10-11T05:43:51.639709Z"
    },
    "papermill": {
     "duration": 0.098371,
     "end_time": "2022-10-11T06:08:36.978036",
     "exception": false,
     "start_time": "2022-10-11T06:08:36.879665",
     "status": "completed"
    },
    "tags": []
   },
   "outputs": [],
   "source": [
    "unique_hotels['distance_from_center'] = np.log(unique_hotels['distance_from_center'] + 1)"
   ]
  },
  {
   "cell_type": "code",
   "execution_count": 26,
   "id": "6bd9550c",
   "metadata": {
    "execution": {
     "iopub.execute_input": "2022-10-11T06:08:37.177051Z",
     "iopub.status.busy": "2022-10-11T06:08:37.159318Z",
     "iopub.status.idle": "2022-10-11T06:08:37.567287Z",
     "shell.execute_reply": "2022-10-11T06:08:37.567854Z",
     "shell.execute_reply.started": "2022-10-11T05:43:54.455794Z"
    },
    "papermill": {
     "duration": 0.500912,
     "end_time": "2022-10-11T06:08:37.568060",
     "exception": false,
     "start_time": "2022-10-11T06:08:37.067148",
     "status": "completed"
    },
    "tags": []
   },
   "outputs": [
    {
     "data": {
      "image/png": "[encoded data removed]",
      "text/plain": [
       "<Figure size 864x288 with 2 Axes>"
      ]
     },
     "metadata": {
      "needs_background": "light"
     },
     "output_type": "display_data"
    }
   ],
   "source": [
    "plots(unique_hotels, 'distance_from_center')"
   ]
  },
  {
   "cell_type": "markdown",
   "id": "ad0e2de9",
   "metadata": {
    "papermill": {
     "duration": 0.089371,
     "end_time": "2022-10-11T06:08:37.747153",
     "exception": false,
     "start_time": "2022-10-11T06:08:37.657782",
     "status": "completed"
    },
    "tags": []
   },
   "source": [
    " ### Во, вот так уже получше, едем дальше."
   ]
  },
  {
   "cell_type": "code",
   "execution_count": 27,
   "id": "44ee4dd1",
   "metadata": {
    "execution": {
     "iopub.execute_input": "2022-10-11T06:08:37.933315Z",
     "iopub.status.busy": "2022-10-11T06:08:37.932524Z",
     "iopub.status.idle": "2022-10-11T06:08:37.940572Z",
     "shell.execute_reply": "2022-10-11T06:08:37.941095Z",
     "shell.execute_reply.started": "2022-10-11T05:43:57.821950Z"
    },
    "papermill": {
     "duration": 0.104289,
     "end_time": "2022-10-11T06:08:37.941332",
     "exception": false,
     "start_time": "2022-10-11T06:08:37.837043",
     "status": "completed"
    },
    "tags": []
   },
   "outputs": [],
   "source": [
    "# Закодируем город OneHotEncodding'ом\n",
    "unique_hotels = pd.get_dummies(unique_hotels, columns=['hotel_city'])"
   ]
  },
  {
   "cell_type": "code",
   "execution_count": 28,
   "id": "9eecef61",
   "metadata": {
    "execution": {
     "iopub.execute_input": "2022-10-11T06:08:38.142615Z",
     "iopub.status.busy": "2022-10-11T06:08:38.141490Z",
     "iopub.status.idle": "2022-10-11T06:08:38.149915Z",
     "shell.execute_reply": "2022-10-11T06:08:38.150754Z",
     "shell.execute_reply.started": "2022-10-11T05:43:59.999569Z"
    },
    "papermill": {
     "duration": 0.119045,
     "end_time": "2022-10-11T06:08:38.151040",
     "exception": false,
     "start_time": "2022-10-11T06:08:38.031995",
     "status": "completed"
    },
    "tags": []
   },
   "outputs": [],
   "source": [
    "# Дропнем лишние признаки\n",
    "unique_hotels = unique_hotels.drop([\n",
    "\n",
    "    'lat',\n",
    "    'lng',\n",
    "    'city_lat',\n",
    "    'city_lng',\n",
    "    'coordinates'], axis=1)"
   ]
  },
  {
   "cell_type": "code",
   "execution_count": 29,
   "id": "f0e362a7",
   "metadata": {
    "execution": {
     "iopub.execute_input": "2022-10-11T06:08:38.362383Z",
     "iopub.status.busy": "2022-10-11T06:08:38.361543Z",
     "iopub.status.idle": "2022-10-11T06:08:39.606157Z",
     "shell.execute_reply": "2022-10-11T06:08:39.605496Z",
     "shell.execute_reply.started": "2022-10-11T05:44:02.595323Z"
    },
    "papermill": {
     "duration": 1.354319,
     "end_time": "2022-10-11T06:08:39.606393",
     "exception": false,
     "start_time": "2022-10-11T06:08:38.252074",
     "status": "completed"
    },
    "tags": []
   },
   "outputs": [
    {
     "name": "stdout",
     "output_type": "stream",
     "text": [
      "<class 'pandas.core.frame.DataFrame'>\n",
      "Int64Index: 515431 entries, 0 to 515430\n",
      "Data columns (total 31 columns):\n",
      " #   Column                                      Non-Null Count   Dtype  \n",
      "---  ------                                      --------------   -----  \n",
      " 0   hotel_address                               515431 non-null  object \n",
      " 1   additional_number_of_scoring                515431 non-null  int64  \n",
      " 2   review_date                                 515431 non-null  object \n",
      " 3   average_score                               515431 non-null  float64\n",
      " 4   hotel_name                                  515431 non-null  object \n",
      " 5   reviewer_nationality                        515431 non-null  object \n",
      " 6   negative_review                             515431 non-null  object \n",
      " 7   review_total_negative_word_counts           515431 non-null  int64  \n",
      " 8   total_number_of_reviews                     515431 non-null  int64  \n",
      " 9   positive_review                             515431 non-null  object \n",
      " 10  review_total_positive_word_counts           515431 non-null  int64  \n",
      " 11  total_number_of_reviews_reviewer_has_given  515431 non-null  int64  \n",
      " 12  tags                                        515431 non-null  object \n",
      " 13  days_since_review                           515431 non-null  object \n",
      " 14  lat                                         512163 non-null  float64\n",
      " 15  lng                                         512163 non-null  float64\n",
      " 16  sample                                      515431 non-null  int64  \n",
      " 17  reviewer_score                              515431 non-null  float64\n",
      " 18  hotel_country                               515431 non-null  object \n",
      " 19  distance_from_center                        515431 non-null  float64\n",
      " 20  city_tmax                                   515431 non-null  float64\n",
      " 21  city_tmean                                  515431 non-null  float64\n",
      " 22  city_tmin                                   515431 non-null  float64\n",
      " 23  city_sun                                    515431 non-null  float64\n",
      " 24  city_rain                                   515431 non-null  float64\n",
      " 25  hotel_city_Amsterdam                        515431 non-null  uint8  \n",
      " 26  hotel_city_Barcelona                        515431 non-null  uint8  \n",
      " 27  hotel_city_London                           515431 non-null  uint8  \n",
      " 28  hotel_city_Milan                            515431 non-null  uint8  \n",
      " 29  hotel_city_Paris                            515431 non-null  uint8  \n",
      " 30  hotel_city_Vienna                           515431 non-null  uint8  \n",
      "dtypes: float64(10), int64(6), object(9), uint8(6)\n",
      "memory usage: 105.2+ MB\n"
     ]
    }
   ],
   "source": [
    "# Обогатим исходный сет новыми признаками\n",
    "data = data.merge(unique_hotels, how='left', on='hotel_address')\n",
    "data.info()"
   ]
  },
  {
   "cell_type": "code",
   "execution_count": 30,
   "id": "f8c83c79",
   "metadata": {
    "execution": {
     "iopub.execute_input": "2022-10-11T06:08:39.795700Z",
     "iopub.status.busy": "2022-10-11T06:08:39.791963Z",
     "iopub.status.idle": "2022-10-11T06:08:40.629690Z",
     "shell.execute_reply": "2022-10-11T06:08:40.630257Z",
     "shell.execute_reply.started": "2022-10-11T05:44:06.188149Z"
    },
    "papermill": {
     "duration": 0.932413,
     "end_time": "2022-10-11T06:08:40.630471",
     "exception": false,
     "start_time": "2022-10-11T06:08:39.698058",
     "status": "completed"
    },
    "tags": []
   },
   "outputs": [
    {
     "data": {
      "image/png": "[encoded data removed]",
      "text/plain": [
       "<Figure size 1080x360 with 1 Axes>"
      ]
     },
     "metadata": {
      "needs_background": "light"
     },
     "output_type": "display_data"
    }
   ],
   "source": [
    "pivot_city = data[data['sample'] == 1][['hotel_country','reviewer_score']].groupby(\n",
    "    'hotel_country').mean()\n",
    "fig, ax = plt.subplots(figsize=(15, 5))\n",
    "plt.suptitle('Средняя оценка по отзывам в зависимости от страны отеля')\n",
    "sns.barplot(x=pivot_city.index, y=pivot_city['reviewer_score'])\n",
    "plt.ylim(8.1, 8.6)\n",
    "ax.bar_label(ax.containers[0]);"
   ]
  },
  {
   "cell_type": "code",
   "execution_count": 31,
   "id": "9bc4940c",
   "metadata": {
    "execution": {
     "iopub.execute_input": "2022-10-11T06:08:40.816550Z",
     "iopub.status.busy": "2022-10-11T06:08:40.815778Z",
     "iopub.status.idle": "2022-10-11T06:08:40.884240Z",
     "shell.execute_reply": "2022-10-11T06:08:40.883562Z",
     "shell.execute_reply.started": "2022-10-11T05:44:08.890029Z"
    },
    "papermill": {
     "duration": 0.162991,
     "end_time": "2022-10-11T06:08:40.884414",
     "exception": false,
     "start_time": "2022-10-11T06:08:40.721423",
     "status": "completed"
    },
    "tags": []
   },
   "outputs": [],
   "source": [
    "# бэкап\n",
    "data_4 = data.copy()"
   ]
  },
  {
   "cell_type": "markdown",
   "id": "1dbd9bfc",
   "metadata": {
    "papermill": {
     "duration": 0.090811,
     "end_time": "2022-10-11T06:08:41.068473",
     "exception": false,
     "start_time": "2022-10-11T06:08:40.977662",
     "status": "completed"
    },
    "tags": []
   },
   "source": [
    "# 5. Признак `review_date` <a class=\"anchor\" id=5></a> <a id=\"5\"></a> <br>\n",
    "\n",
    "[к содержанию](#0) \n",
    "\n",
    "## По признаку даты решим несколько задач:\n",
    "### * Выделим месяцы и дни недели\n",
    "### * Определим возраст отзывов в днях\n",
    "### * Каким-нибудь прикольным способом закодируем полученные данные"
   ]
  },
  {
   "cell_type": "code",
   "execution_count": 32,
   "id": "a924c2cd",
   "metadata": {
    "execution": {
     "iopub.execute_input": "2022-10-11T06:08:41.282405Z",
     "iopub.status.busy": "2022-10-11T06:08:41.252683Z",
     "iopub.status.idle": "2022-10-11T06:08:41.765544Z",
     "shell.execute_reply": "2022-10-11T06:08:41.766082Z",
     "shell.execute_reply.started": "2022-10-11T05:44:11.146139Z"
    },
    "papermill": {
     "duration": 0.607197,
     "end_time": "2022-10-11T06:08:41.766309",
     "exception": false,
     "start_time": "2022-10-11T06:08:41.159112",
     "status": "completed"
    },
    "tags": []
   },
   "outputs": [
    {
     "name": "stdout",
     "output_type": "stream",
     "text": [
      "<class 'pandas.core.frame.DataFrame'>\n",
      "Int64Index: 515431 entries, 0 to 515430\n",
      "Data columns (total 31 columns):\n",
      " #   Column                                      Non-Null Count   Dtype         \n",
      "---  ------                                      --------------   -----         \n",
      " 0   hotel_address                               515431 non-null  object        \n",
      " 1   additional_number_of_scoring                515431 non-null  int64         \n",
      " 2   review_date                                 515431 non-null  datetime64[ns]\n",
      " 3   average_score                               515431 non-null  float64       \n",
      " 4   hotel_name                                  515431 non-null  object        \n",
      " 5   reviewer_nationality                        515431 non-null  object        \n",
      " 6   negative_review                             515431 non-null  object        \n",
      " 7   review_total_negative_word_counts           515431 non-null  int64         \n",
      " 8   total_number_of_reviews                     515431 non-null  int64         \n",
      " 9   positive_review                             515431 non-null  object        \n",
      " 10  review_total_positive_word_counts           515431 non-null  int64         \n",
      " 11  total_number_of_reviews_reviewer_has_given  515431 non-null  int64         \n",
      " 12  tags                                        515431 non-null  object        \n",
      " 13  days_since_review                           515431 non-null  object        \n",
      " 14  lat                                         512163 non-null  float64       \n",
      " 15  lng                                         512163 non-null  float64       \n",
      " 16  sample                                      515431 non-null  int64         \n",
      " 17  reviewer_score                              515431 non-null  float64       \n",
      " 18  hotel_country                               515431 non-null  object        \n",
      " 19  distance_from_center                        515431 non-null  float64       \n",
      " 20  city_tmax                                   515431 non-null  float64       \n",
      " 21  city_tmean                                  515431 non-null  float64       \n",
      " 22  city_tmin                                   515431 non-null  float64       \n",
      " 23  city_sun                                    515431 non-null  float64       \n",
      " 24  city_rain                                   515431 non-null  float64       \n",
      " 25  hotel_city_Amsterdam                        515431 non-null  uint8         \n",
      " 26  hotel_city_Barcelona                        515431 non-null  uint8         \n",
      " 27  hotel_city_London                           515431 non-null  uint8         \n",
      " 28  hotel_city_Milan                            515431 non-null  uint8         \n",
      " 29  hotel_city_Paris                            515431 non-null  uint8         \n",
      " 30  hotel_city_Vienna                           515431 non-null  uint8         \n",
      "dtypes: datetime64[ns](1), float64(10), int64(6), object(8), uint8(6)\n",
      "memory usage: 105.2+ MB\n"
     ]
    }
   ],
   "source": [
    "# Приведем дату к формату Datetime\n",
    "data['review_date'] = pd.to_datetime(data['review_date'])\n",
    "data.info()"
   ]
  },
  {
   "cell_type": "code",
   "execution_count": 33,
   "id": "9bda72b3",
   "metadata": {
    "execution": {
     "iopub.execute_input": "2022-10-11T06:08:41.956734Z",
     "iopub.status.busy": "2022-10-11T06:08:41.955620Z",
     "iopub.status.idle": "2022-10-11T06:08:42.114507Z",
     "shell.execute_reply": "2022-10-11T06:08:42.115105Z",
     "shell.execute_reply.started": "2022-10-11T05:44:13.852913Z"
    },
    "papermill": {
     "duration": 0.256787,
     "end_time": "2022-10-11T06:08:42.115341",
     "exception": false,
     "start_time": "2022-10-11T06:08:41.858554",
     "status": "completed"
    },
    "tags": []
   },
   "outputs": [],
   "source": [
    "# Определим возраст отзыва в днях от \"сейчас\"\n",
    "data['days_from_today'] = (pd.Timestamp('today') - data['review_date']).dt.days\n",
    "\n",
    "# Выделим месяц и день недели\n",
    "data['month'] = data['review_date'].dt.month\n",
    "data['day_of_week'] = data['review_date'].dt.dayofweek"
   ]
  },
  {
   "cell_type": "code",
   "execution_count": 34,
   "id": "75b805b2",
   "metadata": {
    "execution": {
     "iopub.execute_input": "2022-10-11T06:08:42.304884Z",
     "iopub.status.busy": "2022-10-11T06:08:42.303529Z",
     "iopub.status.idle": "2022-10-11T06:08:42.674646Z",
     "shell.execute_reply": "2022-10-11T06:08:42.673945Z",
     "shell.execute_reply.started": "2022-10-11T05:44:16.219495Z"
    },
    "papermill": {
     "duration": 0.466932,
     "end_time": "2022-10-11T06:08:42.674824",
     "exception": false,
     "start_time": "2022-10-11T06:08:42.207892",
     "status": "completed"
    },
    "tags": []
   },
   "outputs": [],
   "source": [
    "# Выделим из признака days_since_review числа\n",
    "data['days_since_review'] = data['days_since_review'].apply(lambda x: x.split(sep=' ')[0]).astype('int64')"
   ]
  },
  {
   "cell_type": "code",
   "execution_count": 35,
   "id": "d727e47b",
   "metadata": {
    "execution": {
     "iopub.execute_input": "2022-10-11T06:08:42.866993Z",
     "iopub.status.busy": "2022-10-11T06:08:42.865936Z",
     "iopub.status.idle": "2022-10-11T06:08:43.348582Z",
     "shell.execute_reply": "2022-10-11T06:08:43.349215Z",
     "shell.execute_reply.started": "2022-10-11T05:44:18.371675Z"
    },
    "papermill": {
     "duration": 0.579132,
     "end_time": "2022-10-11T06:08:43.349451",
     "exception": false,
     "start_time": "2022-10-11T06:08:42.770319",
     "status": "completed"
    },
    "tags": []
   },
   "outputs": [],
   "source": [
    "# Закодируем кагериальные признаки \"день недели\" и \"месяц\"\n",
    "data = pd.get_dummies(data, columns=['month','day_of_week'])"
   ]
  },
  {
   "cell_type": "code",
   "execution_count": 36,
   "id": "57ac48ca",
   "metadata": {
    "execution": {
     "iopub.execute_input": "2022-10-11T06:08:43.535794Z",
     "iopub.status.busy": "2022-10-11T06:08:43.534725Z",
     "iopub.status.idle": "2022-10-11T06:08:44.936132Z",
     "shell.execute_reply": "2022-10-11T06:08:44.936689Z",
     "shell.execute_reply.started": "2022-10-11T05:44:20.736607Z"
    },
    "papermill": {
     "duration": 1.496272,
     "end_time": "2022-10-11T06:08:44.936917",
     "exception": false,
     "start_time": "2022-10-11T06:08:43.440645",
     "status": "completed"
    },
    "tags": []
   },
   "outputs": [
    {
     "data": {
      "text/html": [
       "<div>\n",
       "<style scoped>\n",
       "    .dataframe tbody tr th:only-of-type {\n",
       "        vertical-align: middle;\n",
       "    }\n",
       "\n",
       "    .dataframe tbody tr th {\n",
       "        vertical-align: top;\n",
       "    }\n",
       "\n",
       "    .dataframe thead th {\n",
       "        text-align: right;\n",
       "    }\n",
       "</style>\n",
       "<table border=\"1\" class=\"dataframe\">\n",
       "  <thead>\n",
       "    <tr style=\"text-align: right;\">\n",
       "      <th></th>\n",
       "      <th>1</th>\n",
       "    </tr>\n",
       "  </thead>\n",
       "  <tbody>\n",
       "    <tr>\n",
       "      <th>пн</th>\n",
       "      <td>8.394454</td>\n",
       "    </tr>\n",
       "    <tr>\n",
       "      <th>вт</th>\n",
       "      <td>8.444852</td>\n",
       "    </tr>\n",
       "    <tr>\n",
       "      <th>ср</th>\n",
       "      <td>8.409730</td>\n",
       "    </tr>\n",
       "    <tr>\n",
       "      <th>чт</th>\n",
       "      <td>8.347572</td>\n",
       "    </tr>\n",
       "    <tr>\n",
       "      <th>пт</th>\n",
       "      <td>8.370972</td>\n",
       "    </tr>\n",
       "    <tr>\n",
       "      <th>сб</th>\n",
       "      <td>8.370688</td>\n",
       "    </tr>\n",
       "    <tr>\n",
       "      <th>вс</th>\n",
       "      <td>8.397227</td>\n",
       "    </tr>\n",
       "  </tbody>\n",
       "</table>\n",
       "</div>"
      ],
      "text/plain": [
       "           1\n",
       "пн  8.394454\n",
       "вт  8.444852\n",
       "ср  8.409730\n",
       "чт  8.347572\n",
       "пт  8.370972\n",
       "сб  8.370688\n",
       "вс  8.397227"
      ]
     },
     "execution_count": 36,
     "metadata": {},
     "output_type": "execute_result"
    }
   ],
   "source": [
    "# сгруппируем по дням недели\n",
    "day_0 = data[data['sample'] == 1].groupby('day_of_week_0')['reviewer_score'].mean()\n",
    "day_1 = data[data['sample'] == 1].groupby('day_of_week_1')['reviewer_score'].mean()\n",
    "day_2 = data[data['sample'] == 1].groupby('day_of_week_2')['reviewer_score'].mean()\n",
    "day_3 = data[data['sample'] == 1].groupby('day_of_week_3')['reviewer_score'].mean()\n",
    "day_4 = data[data['sample'] == 1].groupby('day_of_week_4')['reviewer_score'].mean()\n",
    "day_5 = data[data['sample'] == 1].groupby('day_of_week_5')['reviewer_score'].mean()\n",
    "day_6 = data[data['sample'] == 1].groupby('day_of_week_6')['reviewer_score'].mean()\n",
    "\n",
    "# преобразуем в df для визуализации\n",
    "day_of_week = pd.DataFrame({\n",
    "    'пн':day_0,\n",
    "    'вт':day_1,\n",
    "    'ср':day_2,\n",
    "    'чт':day_3,\n",
    "    'пт':day_4,\n",
    "    'сб':day_5,\n",
    "    'вс':day_6,}).transpose()\n",
    "\n",
    "# дропнем столбец 0, странно визуализаровать, какой была оценка \"не в понедельник\"\n",
    "day_of_week.drop(0, axis=1)"
   ]
  },
  {
   "cell_type": "code",
   "execution_count": 37,
   "id": "f6d8ac8f",
   "metadata": {
    "execution": {
     "iopub.execute_input": "2022-10-11T06:08:45.127002Z",
     "iopub.status.busy": "2022-10-11T06:08:45.126197Z",
     "iopub.status.idle": "2022-10-11T06:08:45.430734Z",
     "shell.execute_reply": "2022-10-11T06:08:45.430064Z",
     "shell.execute_reply.started": "2022-10-11T05:44:24.008739Z"
    },
    "papermill": {
     "duration": 0.400276,
     "end_time": "2022-10-11T06:08:45.430915",
     "exception": false,
     "start_time": "2022-10-11T06:08:45.030639",
     "status": "completed"
    },
    "tags": []
   },
   "outputs": [
    {
     "data": {
      "image/png": "[encoded data removed]",
      "text/plain": [
       "<Figure size 1080x360 with 1 Axes>"
      ]
     },
     "metadata": {
      "needs_background": "light"
     },
     "output_type": "display_data"
    }
   ],
   "source": [
    "fig, ax = plt.subplots(figsize=(15, 5))\n",
    "plt.suptitle('Средняя оценка по отзывам в зависимости от дня недели')\n",
    "sns.barplot(x=day_of_week.index, y=day_of_week[1])\n",
    "plt.ylim(8.3, 8.5)\n",
    "ax.bar_label(ax.containers[0]);"
   ]
  },
  {
   "cell_type": "markdown",
   "id": "c116e2ff",
   "metadata": {
    "papermill": {
     "duration": 0.094576,
     "end_time": "2022-10-11T06:08:45.620333",
     "exception": false,
     "start_time": "2022-10-11T06:08:45.525757",
     "status": "completed"
    },
    "tags": []
   },
   "source": [
    "## Ну чтож вторник - хороший день, кто бы мог подумать.."
   ]
  },
  {
   "cell_type": "code",
   "execution_count": 38,
   "id": "4cf8b89f",
   "metadata": {
    "execution": {
     "iopub.execute_input": "2022-10-11T06:08:45.812940Z",
     "iopub.status.busy": "2022-10-11T06:08:45.812149Z",
     "iopub.status.idle": "2022-10-11T06:08:47.920157Z",
     "shell.execute_reply": "2022-10-11T06:08:47.919577Z",
     "shell.execute_reply.started": "2022-10-11T05:44:26.602923Z"
    },
    "papermill": {
     "duration": 2.204709,
     "end_time": "2022-10-11T06:08:47.920343",
     "exception": false,
     "start_time": "2022-10-11T06:08:45.715634",
     "status": "completed"
    },
    "tags": []
   },
   "outputs": [
    {
     "data": {
      "text/html": [
       "<div>\n",
       "<style scoped>\n",
       "    .dataframe tbody tr th:only-of-type {\n",
       "        vertical-align: middle;\n",
       "    }\n",
       "\n",
       "    .dataframe tbody tr th {\n",
       "        vertical-align: top;\n",
       "    }\n",
       "\n",
       "    .dataframe thead th {\n",
       "        text-align: right;\n",
       "    }\n",
       "</style>\n",
       "<table border=\"1\" class=\"dataframe\">\n",
       "  <thead>\n",
       "    <tr style=\"text-align: right;\">\n",
       "      <th></th>\n",
       "      <th>1</th>\n",
       "    </tr>\n",
       "  </thead>\n",
       "  <tbody>\n",
       "    <tr>\n",
       "      <th>jan</th>\n",
       "      <td>8.482867</td>\n",
       "    </tr>\n",
       "    <tr>\n",
       "      <th>feb</th>\n",
       "      <td>8.535112</td>\n",
       "    </tr>\n",
       "    <tr>\n",
       "      <th>mar</th>\n",
       "      <td>8.481804</td>\n",
       "    </tr>\n",
       "    <tr>\n",
       "      <th>apr</th>\n",
       "      <td>8.432337</td>\n",
       "    </tr>\n",
       "    <tr>\n",
       "      <th>may</th>\n",
       "      <td>8.386081</td>\n",
       "    </tr>\n",
       "    <tr>\n",
       "      <th>jun</th>\n",
       "      <td>8.387518</td>\n",
       "    </tr>\n",
       "    <tr>\n",
       "      <th>jul</th>\n",
       "      <td>8.339427</td>\n",
       "    </tr>\n",
       "    <tr>\n",
       "      <th>aug</th>\n",
       "      <td>8.413316</td>\n",
       "    </tr>\n",
       "    <tr>\n",
       "      <th>sep</th>\n",
       "      <td>8.294089</td>\n",
       "    </tr>\n",
       "    <tr>\n",
       "      <th>oct</th>\n",
       "      <td>8.262772</td>\n",
       "    </tr>\n",
       "    <tr>\n",
       "      <th>nov</th>\n",
       "      <td>8.343524</td>\n",
       "    </tr>\n",
       "    <tr>\n",
       "      <th>dec</th>\n",
       "      <td>8.431357</td>\n",
       "    </tr>\n",
       "  </tbody>\n",
       "</table>\n",
       "</div>"
      ],
      "text/plain": [
       "            1\n",
       "jan  8.482867\n",
       "feb  8.535112\n",
       "mar  8.481804\n",
       "apr  8.432337\n",
       "may  8.386081\n",
       "jun  8.387518\n",
       "jul  8.339427\n",
       "aug  8.413316\n",
       "sep  8.294089\n",
       "oct  8.262772\n",
       "nov  8.343524\n",
       "dec  8.431357"
      ]
     },
     "execution_count": 38,
     "metadata": {},
     "output_type": "execute_result"
    }
   ],
   "source": [
    "# сгруппируем по дням недели\n",
    "m_1 = data[data['sample'] == 1].groupby('month_1')['reviewer_score'].mean()\n",
    "m_2 = data[data['sample'] == 1].groupby('month_2')['reviewer_score'].mean()\n",
    "m_3 = data[data['sample'] == 1].groupby('month_3')['reviewer_score'].mean()\n",
    "m_4 = data[data['sample'] == 1].groupby('month_4')['reviewer_score'].mean()\n",
    "m_5 = data[data['sample'] == 1].groupby('month_5')['reviewer_score'].mean()\n",
    "m_6 = data[data['sample'] == 1].groupby('month_6')['reviewer_score'].mean()\n",
    "m_7 = data[data['sample'] == 1].groupby('month_7')['reviewer_score'].mean()\n",
    "m_8 = data[data['sample'] == 1].groupby('month_8')['reviewer_score'].mean()\n",
    "m_9 = data[data['sample'] == 1].groupby('month_9')['reviewer_score'].mean()\n",
    "m_10 = data[data['sample'] == 1].groupby('month_10')['reviewer_score'].mean()\n",
    "m_11 = data[data['sample'] == 1].groupby('month_11')['reviewer_score'].mean()\n",
    "m_12 = data[data['sample'] == 1].groupby('month_12')['reviewer_score'].mean()\n",
    "\n",
    "# преобразуем в df для визуализации\n",
    "month = pd.DataFrame({\n",
    "    'jan':m_1,\n",
    "    'feb':m_2,\n",
    "    'mar':m_3,\n",
    "    'apr':m_4,\n",
    "    'may':m_5,\n",
    "    'jun':m_6,\n",
    "    'jul':m_7,\n",
    "    'aug':m_8,\n",
    "    'sep':m_9,\n",
    "    'oct':m_10,\n",
    "    'nov':m_11,\n",
    "    'dec':m_12}).transpose()\n",
    "\n",
    "# дропнем столбец 0, странно визуализаровать, какой была оценка \"не в понедельник\"\n",
    "month.drop(0, axis=1)"
   ]
  },
  {
   "cell_type": "code",
   "execution_count": 39,
   "id": "bb2b8384",
   "metadata": {
    "execution": {
     "iopub.execute_input": "2022-10-11T06:08:48.148860Z",
     "iopub.status.busy": "2022-10-11T06:08:48.119678Z",
     "iopub.status.idle": "2022-10-11T06:08:48.489312Z",
     "shell.execute_reply": "2022-10-11T06:08:48.488749Z",
     "shell.execute_reply.started": "2022-10-11T05:44:31.092096Z"
    },
    "papermill": {
     "duration": 0.475026,
     "end_time": "2022-10-11T06:08:48.489479",
     "exception": false,
     "start_time": "2022-10-11T06:08:48.014453",
     "status": "completed"
    },
    "tags": []
   },
   "outputs": [
    {
     "data": {
      "image/png": "[encoded data removed]",
      "text/plain": [
       "<Figure size 1080x360 with 1 Axes>"
      ]
     },
     "metadata": {
      "needs_background": "light"
     },
     "output_type": "display_data"
    }
   ],
   "source": [
    "fig, ax = plt.subplots(figsize=(15, 5))\n",
    "plt.suptitle('Средняя оценка по отзывам в зависимости от месяца')\n",
    "sns.barplot(x=month.index, y=month[1])\n",
    "plt.ylim(8.2, 8.6)\n",
    "ax.bar_label(ax.containers[0]);"
   ]
  },
  {
   "cell_type": "code",
   "execution_count": 40,
   "id": "0fccdd18",
   "metadata": {
    "execution": {
     "iopub.execute_input": "2022-10-11T06:08:48.688146Z",
     "iopub.status.busy": "2022-10-11T06:08:48.687362Z",
     "iopub.status.idle": "2022-10-11T06:08:48.745431Z",
     "shell.execute_reply": "2022-10-11T06:08:48.744512Z",
     "shell.execute_reply.started": "2022-10-11T05:44:33.568321Z"
    },
    "papermill": {
     "duration": 0.159696,
     "end_time": "2022-10-11T06:08:48.745630",
     "exception": false,
     "start_time": "2022-10-11T06:08:48.585934",
     "status": "completed"
    },
    "tags": []
   },
   "outputs": [],
   "source": [
    "# backup\n",
    "data_5 = data.copy()"
   ]
  },
  {
   "cell_type": "markdown",
   "id": "83e040c9",
   "metadata": {
    "papermill": {
     "duration": 0.093919,
     "end_time": "2022-10-11T06:08:48.939862",
     "exception": false,
     "start_time": "2022-10-11T06:08:48.845943",
     "status": "completed"
    },
    "tags": []
   },
   "source": [
    "## Февраль? Серьёзно? Кто любит путешествовать в феврале?"
   ]
  },
  {
   "cell_type": "markdown",
   "id": "e3ee61c9",
   "metadata": {
    "papermill": {
     "duration": 0.094493,
     "end_time": "2022-10-11T06:08:49.130085",
     "exception": false,
     "start_time": "2022-10-11T06:08:49.035592",
     "status": "completed"
    },
    "tags": []
   },
   "source": [
    "# 6. Признак `reviewer_nationality` <a class=\"anchor\" id=6></a> <a id=\"6\"></a> <br>\n",
    "\n",
    "[к содержанию](#0) \n",
    "\n",
    "## По признаку национальности решим такие задачи:\n",
    "### * Введём признак путешествия внутри своей страны / за границей\n",
    "### * Введём признак религии\n",
    "### * Введём признак англоговорящих стран\n",
    "### * Закодируем признак национальности двоичным кодером"
   ]
  },
  {
   "cell_type": "code",
   "execution_count": 41,
   "id": "e1a7f8d7",
   "metadata": {
    "execution": {
     "iopub.execute_input": "2022-10-11T06:08:49.327023Z",
     "iopub.status.busy": "2022-10-11T06:08:49.326275Z",
     "iopub.status.idle": "2022-10-11T06:08:49.488618Z",
     "shell.execute_reply": "2022-10-11T06:08:49.487965Z",
     "shell.execute_reply.started": "2022-10-11T05:44:36.830810Z"
    },
    "papermill": {
     "duration": 0.262885,
     "end_time": "2022-10-11T06:08:49.488786",
     "exception": false,
     "start_time": "2022-10-11T06:08:49.225901",
     "status": "completed"
    },
    "tags": []
   },
   "outputs": [],
   "source": [
    "# Уберем лишние пробелы с начала и конца строки\n",
    "data['reviewer_nationality'] = data['reviewer_nationality'].apply(lambda x: x.strip())"
   ]
  },
  {
   "cell_type": "code",
   "execution_count": 42,
   "id": "0dd93bad",
   "metadata": {
    "execution": {
     "iopub.execute_input": "2022-10-11T06:08:50.047386Z",
     "iopub.status.busy": "2022-10-11T06:08:50.046272Z",
     "iopub.status.idle": "2022-10-11T06:09:02.277502Z",
     "shell.execute_reply": "2022-10-11T06:09:02.276429Z",
     "shell.execute_reply.started": "2022-10-11T05:44:39.642758Z"
    },
    "papermill": {
     "duration": 12.694281,
     "end_time": "2022-10-11T06:09:02.277715",
     "exception": false,
     "start_time": "2022-10-11T06:08:49.583434",
     "status": "completed"
    },
    "tags": []
   },
   "outputs": [
    {
     "name": "stdout",
     "output_type": "stream",
     "text": [
      "CPU times: user 11.3 s, sys: 1.31 s, total: 12.6 s\n",
      "Wall time: 12.6 s\n"
     ]
    }
   ],
   "source": [
    "%%time\n",
    "# Добавим признак is_tourist где 1 - путешествие в другую страну, 0 - внутри своей\n",
    "data['is_tourist'] = data.apply(lambda x: 1 if x['reviewer_nationality'] == x['hotel_country'] else 0, axis=1)"
   ]
  },
  {
   "cell_type": "code",
   "execution_count": 43,
   "id": "f26530e0",
   "metadata": {
    "execution": {
     "iopub.execute_input": "2022-10-11T06:09:02.483502Z",
     "iopub.status.busy": "2022-10-11T06:09:02.481752Z",
     "iopub.status.idle": "2022-10-11T06:09:03.067319Z",
     "shell.execute_reply": "2022-10-11T06:09:03.068031Z",
     "shell.execute_reply.started": "2022-10-11T05:44:57.261318Z"
    },
    "papermill": {
     "duration": 0.692015,
     "end_time": "2022-10-11T06:09:03.068256",
     "exception": false,
     "start_time": "2022-10-11T06:09:02.376241",
     "status": "completed"
    },
    "tags": []
   },
   "outputs": [
    {
     "name": "stdout",
     "output_type": "stream",
     "text": [
      "CPU times: user 585 ms, sys: 0 ns, total: 585 ms\n",
      "Wall time: 584 ms\n"
     ]
    }
   ],
   "source": [
    "%%time\n",
    "# Список стран где доминирующей религией является мусульманство\n",
    "muslim_countries = ['Afghanistan','Albania','Algeria','All Countries',\n",
    "    'Azerbaijan','Bahrain','Bangladesh','Brunei','Comoros','Djibouti','Egypt',\n",
    "    'Gambia','Guinea','Indonesia','Iran','Iraq','Jordan','Kazakhstan','Kosovo',\n",
    "    'Kuwait','Kyrgyzstan','Libya','Malaysia','Maldives','Mali','Mauritania',\n",
    "    'Mayotte','Morocco','Niger','Oman','Pakistan','Palestinian territories',\n",
    "    'Saudi Arabia','Senegal','Sierra Leone','Somalia','Sudan', 'Syria',\n",
    "    'Tajikistan','Tunisia','Turkey','Turkmenistan','United Arab Emirates',\n",
    "     'Uzbekistan','Western Sahara','Yemen']\n",
    "\n",
    "# Введём признак is_muslim 1 - мусульманин, 0 - нет\n",
    "data['is_muslim'] = data['reviewer_nationality'].apply(lambda x: 1 if x in muslim_countries else 0)"
   ]
  },
  {
   "cell_type": "code",
   "execution_count": 44,
   "id": "50d6c4a3",
   "metadata": {
    "execution": {
     "iopub.execute_input": "2022-10-11T06:09:03.274894Z",
     "iopub.status.busy": "2022-10-11T06:09:03.273996Z",
     "iopub.status.idle": "2022-10-11T06:09:03.989259Z",
     "shell.execute_reply": "2022-10-11T06:09:03.989765Z",
     "shell.execute_reply.started": "2022-10-11T05:45:00.078166Z"
    },
    "papermill": {
     "duration": 0.825999,
     "end_time": "2022-10-11T06:09:03.990009",
     "exception": false,
     "start_time": "2022-10-11T06:09:03.164010",
     "status": "completed"
    },
    "tags": []
   },
   "outputs": [
    {
     "name": "stdout",
     "output_type": "stream",
     "text": [
      "CPU times: user 717 ms, sys: 0 ns, total: 717 ms\n",
      "Wall time: 718 ms\n"
     ]
    }
   ],
   "source": [
    "%%time\n",
    "# Список ангоговорящих стран\n",
    "en_lang = ['Antigua and Barbuda','The Bahamas','Barbados','Belize','Botswana','Burundi',\n",
    "    'Cameroon','Canada','Dominica','Eswatini','Fiji','The Gambia','Ghana','Grenada',\n",
    "    'Guyana','India','Ireland','Jamaica','Kenya','Kiribati','Lesotho','Liberia','Malawi',\n",
    "    'Malta','Marshall Islands','Mauritius','Micronesia','Namibia','Nauru','Nigeria',\n",
    "    'Pakistan','Palau','Papua New Guinea','The Philippines','Rwanda','Saint Kitts and Nevis',\n",
    "    'Saint Lucia','Saint Vincent and the Grenadines','Samoa','Seychelles','Sierra Leone',\n",
    "    'Singapore','Solomon Islands','South Africa','South Sudan','Sudan','Tanzania','Tonga',\n",
    "    'Trinidad and Tobago','Tuvalu','Uganda','Vanuatu','Zambia','Zimbabwe','Australia',\n",
    "    'New Zealand','United Kingdom','United States','Bahrain','Bangladesh','Bhutan','Cambodia',\n",
    "    'Cyprus','Eritrea','Ethiopia','Israel','Jordan','Kuwait','Malaysia','Maldives','Myanmar',\n",
    "    'Oman','Qatar','Sri Lanka','United Arab Emirates']\n",
    "\n",
    "# Введём признак is_english 1 - yes, 0 - no\n",
    "data['is_english'] = data['reviewer_nationality'].apply(lambda x: 1 if x in en_lang else 0)"
   ]
  },
  {
   "cell_type": "code",
   "execution_count": 45,
   "id": "a4e5d373",
   "metadata": {
    "execution": {
     "iopub.execute_input": "2022-10-11T06:09:04.188157Z",
     "iopub.status.busy": "2022-10-11T06:09:04.187382Z",
     "iopub.status.idle": "2022-10-11T06:09:05.115746Z",
     "shell.execute_reply": "2022-10-11T06:09:05.118949Z",
     "shell.execute_reply.started": "2022-10-11T05:45:03.347043Z"
    },
    "papermill": {
     "duration": 1.033764,
     "end_time": "2022-10-11T06:09:05.119859",
     "exception": false,
     "start_time": "2022-10-11T06:09:04.086095",
     "status": "completed"
    },
    "tags": []
   },
   "outputs": [
    {
     "name": "stdout",
     "output_type": "stream",
     "text": [
      "CPU times: user 717 ms, sys: 187 ms, total: 904 ms\n",
      "Wall time: 905 ms\n"
     ]
    }
   ],
   "source": [
    "%%time\n",
    "# Закодируем признак reviewer_nationality двоичным кодированием\n",
    "bin_encoder = ce.BinaryEncoder(cols=['reviewer_nationality']) \n",
    "type_bin = bin_encoder.fit_transform(data['reviewer_nationality'])\n",
    "data = pd.concat([data, type_bin], axis=1)"
   ]
  },
  {
   "cell_type": "code",
   "execution_count": 46,
   "id": "d87ddca5",
   "metadata": {
    "execution": {
     "iopub.execute_input": "2022-10-11T06:09:05.835198Z",
     "iopub.status.busy": "2022-10-11T06:09:05.834227Z",
     "iopub.status.idle": "2022-10-11T06:09:08.266781Z",
     "shell.execute_reply": "2022-10-11T06:09:08.267335Z",
     "shell.execute_reply.started": "2022-10-11T05:45:07.169284Z"
    },
    "papermill": {
     "duration": 2.623641,
     "end_time": "2022-10-11T06:09:08.267599",
     "exception": false,
     "start_time": "2022-10-11T06:09:05.643958",
     "status": "completed"
    },
    "tags": []
   },
   "outputs": [
    {
     "name": "stdout",
     "output_type": "stream",
     "text": [
      "CPU times: user 1.22 s, sys: 937 ms, total: 2.16 s\n",
      "Wall time: 2.19 s\n"
     ]
    },
    {
     "data": {
      "text/plain": [
       "(7.6, 8.6)"
      ]
     },
     "execution_count": 46,
     "metadata": {},
     "output_type": "execute_result"
    },
    {
     "data": {
      "image/png": "[encoded data removed]",
      "text/plain": [
       "<Figure size 1440x360 with 1 Axes>"
      ]
     },
     "metadata": {
      "needs_background": "light"
     },
     "output_type": "display_data"
    }
   ],
   "source": [
    "%%time\n",
    "pivot_tour = data[data['sample'] == 1].groupby('is_tourist')['reviewer_score'].mean()\n",
    "pivot_musl = data[data['sample'] == 1].groupby('is_muslim')['reviewer_score'].mean()\n",
    "pivot_en = data[data['sample'] == 1].groupby('is_english')['reviewer_score'].mean()\n",
    "\n",
    "pivot = pd.DataFrame({\n",
    "    'турист':pivot_tour,\n",
    "    'мусульманин':pivot_musl,\n",
    "    'англоговорящий':pivot_en}).transpose()\n",
    "\n",
    "fig, ax = plt.subplots(figsize=(20, 5))\n",
    "plt.suptitle('Средняя оценка по отзывам в зависимости от признаков национальности', fontsize=14)\n",
    "pplot = pivot.plot(ax=ax,\n",
    "    kind='bar',  \n",
    "    rot=0)\n",
    "\n",
    "ax.legend(['нет', 'да'], loc='upper right', fontsize=14)\n",
    "\n",
    "for p in pplot.patches:\n",
    "    pplot.annotate('{:.2f}'.format(p.get_height()), (p.get_x()+0.1, p.get_height()),\n",
    "    ha='center', va='bottom', fontsize=14)\n",
    "    \n",
    "plt.ylim(7.6, 8.6)"
   ]
  },
  {
   "cell_type": "code",
   "execution_count": 47,
   "id": "eec048e2",
   "metadata": {
    "execution": {
     "iopub.execute_input": "2022-10-11T06:09:08.468806Z",
     "iopub.status.busy": "2022-10-11T06:09:08.468050Z",
     "iopub.status.idle": "2022-10-11T06:09:08.811481Z",
     "shell.execute_reply": "2022-10-11T06:09:08.810692Z",
     "shell.execute_reply.started": "2022-10-11T05:45:10.661302Z"
    },
    "papermill": {
     "duration": 0.445809,
     "end_time": "2022-10-11T06:09:08.811650",
     "exception": false,
     "start_time": "2022-10-11T06:09:08.365841",
     "status": "completed"
    },
    "tags": []
   },
   "outputs": [],
   "source": [
    "#backup\n",
    "data_6 = data.copy()"
   ]
  },
  {
   "cell_type": "markdown",
   "id": "a118fc5e",
   "metadata": {
    "papermill": {
     "duration": 0.099958,
     "end_time": "2022-10-11T06:09:09.011321",
     "exception": false,
     "start_time": "2022-10-11T06:09:08.911363",
     "status": "completed"
    },
    "tags": []
   },
   "source": [
    "# 7. Признак `tags` <a class=\"anchor\" id=7></a> <a id=\"7\"></a> <br>\n",
    "\n",
    "[к содержанию](#0) \n",
    "\n",
    "## По признаку 'tags' сделаем следующее:\n",
    "### * Получим список уникальных тегов\n",
    "### * Закодируем значимые теги\n",
    "### * Построим пару графиков"
   ]
  },
  {
   "cell_type": "code",
   "execution_count": 48,
   "id": "45ac3f9e",
   "metadata": {
    "execution": {
     "iopub.execute_input": "2022-10-11T06:09:09.211168Z",
     "iopub.status.busy": "2022-10-11T06:09:09.210110Z",
     "iopub.status.idle": "2022-10-11T06:09:09.215984Z",
     "shell.execute_reply": "2022-10-11T06:09:09.216561Z",
     "shell.execute_reply.started": "2022-10-11T05:45:13.028708Z"
    },
    "papermill": {
     "duration": 0.107988,
     "end_time": "2022-10-11T06:09:09.216770",
     "exception": false,
     "start_time": "2022-10-11T06:09:09.108782",
     "status": "completed"
    },
    "tags": []
   },
   "outputs": [],
   "source": [
    "def tag_fixer(data):\n",
    "    \"\"\"Переделает теги, уберёт лишние пробелы и преобразует в список\"\"\"\n",
    "    tags_fixed = []\n",
    "    for tag in list(data.replace('[', '').replace(']', '').replace(\"'\", '').split(',')):\n",
    "        tag = tag.strip()\n",
    "        tags_fixed.append(tag)\n",
    "    return tags_fixed"
   ]
  },
  {
   "cell_type": "code",
   "execution_count": 49,
   "id": "9c1c02a7",
   "metadata": {
    "execution": {
     "iopub.execute_input": "2022-10-11T06:09:09.428660Z",
     "iopub.status.busy": "2022-10-11T06:09:09.427582Z",
     "iopub.status.idle": "2022-10-11T06:09:13.426116Z",
     "shell.execute_reply": "2022-10-11T06:09:13.427364Z",
     "shell.execute_reply.started": "2022-10-11T05:45:15.174874Z"
    },
    "papermill": {
     "duration": 4.114436,
     "end_time": "2022-10-11T06:09:13.428943",
     "exception": false,
     "start_time": "2022-10-11T06:09:09.314507",
     "status": "completed"
    },
    "tags": []
   },
   "outputs": [
    {
     "name": "stdout",
     "output_type": "stream",
     "text": [
      "CPU times: user 3.12 s, sys: 849 ms, total: 3.97 s\n",
      "Wall time: 3.98 s\n"
     ]
    }
   ],
   "source": [
    "%%time\n",
    "# \"починим\" теги\n",
    "data['tags'] = data['tags'].apply(tag_fixer)"
   ]
  },
  {
   "cell_type": "code",
   "execution_count": 50,
   "id": "dc6bc3df",
   "metadata": {
    "execution": {
     "iopub.execute_input": "2022-10-11T06:09:13.651306Z",
     "iopub.status.busy": "2022-10-11T06:09:13.650225Z",
     "iopub.status.idle": "2022-10-11T06:09:13.946603Z",
     "shell.execute_reply": "2022-10-11T06:09:13.945778Z",
     "shell.execute_reply.started": "2022-10-11T05:45:19.571588Z"
    },
    "papermill": {
     "duration": 0.406983,
     "end_time": "2022-10-11T06:09:13.946807",
     "exception": false,
     "start_time": "2022-10-11T06:09:13.539824",
     "status": "completed"
    },
    "tags": []
   },
   "outputs": [
    {
     "name": "stdout",
     "output_type": "stream",
     "text": [
      "CPU times: user 282 ms, sys: 0 ns, total: 282 ms\n",
      "Wall time: 283 ms\n"
     ]
    }
   ],
   "source": [
    "%%time\n",
    "# получим список использованных тегов и наибольшее количество тегов \"в ряд\"\n",
    "tags_list = []\n",
    "max_tags_line = 0\n",
    "for tags in data['tags']:\n",
    "    tags_list.extend(tags)\n",
    "    if len(tags) > max_tags_line:\n",
    "        max_tags_line = len(tags)"
   ]
  },
  {
   "cell_type": "code",
   "execution_count": 51,
   "id": "0c733b76",
   "metadata": {
    "execution": {
     "iopub.execute_input": "2022-10-11T06:09:14.413809Z",
     "iopub.status.busy": "2022-10-11T06:09:14.411895Z",
     "iopub.status.idle": "2022-10-11T06:09:14.418482Z",
     "shell.execute_reply": "2022-10-11T06:09:14.419792Z",
     "shell.execute_reply.started": "2022-10-11T05:45:22.160148Z"
    },
    "papermill": {
     "duration": 0.351529,
     "end_time": "2022-10-11T06:09:14.420079",
     "exception": false,
     "start_time": "2022-10-11T06:09:14.068550",
     "status": "completed"
    },
    "tags": []
   },
   "outputs": [
    {
     "name": "stdout",
     "output_type": "stream",
     "text": [
      "Максимальное количество тегов в одном отзыве: 6\n",
      "Количество уникальных тегов: 2428\n"
     ]
    }
   ],
   "source": [
    "print(f'Максимальное количество тегов в одном отзыве: {max_tags_line}\\nКоличество уникальных тегов: {len(set(tags_list))}')"
   ]
  },
  {
   "cell_type": "code",
   "execution_count": 52,
   "id": "d14ac6ce",
   "metadata": {
    "execution": {
     "iopub.execute_input": "2022-10-11T06:09:15.099068Z",
     "iopub.status.busy": "2022-10-11T06:09:15.097947Z",
     "iopub.status.idle": "2022-10-11T06:09:15.106147Z",
     "shell.execute_reply": "2022-10-11T06:09:15.105548Z",
     "shell.execute_reply.started": "2022-10-11T05:45:24.527192Z"
    },
    "papermill": {
     "duration": 0.53708,
     "end_time": "2022-10-11T06:09:15.106344",
     "exception": false,
     "start_time": "2022-10-11T06:09:14.569264",
     "status": "completed"
    },
    "tags": []
   },
   "outputs": [
    {
     "name": "stdout",
     "output_type": "stream",
     "text": [
      "CPU times: user 377 ms, sys: 1.2 ms, total: 378 ms\n",
      "Wall time: 376 ms\n"
     ]
    },
    {
     "data": {
      "text/plain": [
       "[('Leisure trip', 417538),\n",
       " ('Submitted from a mobile device', 307470),\n",
       " ('Couple', 252128),\n",
       " ('Stayed 1 night', 193568),\n",
       " ('Stayed 2 nights', 133850),\n",
       " ('Solo traveler', 108476),\n",
       " ('Stayed 3 nights', 95761),\n",
       " ('Business trip', 82884),\n",
       " ('Group', 65361),\n",
       " ('Family with young children', 60989),\n",
       " ('Stayed 4 nights', 47777),\n",
       " ('Double Room', 35207),\n",
       " ('Standard Double Room', 32247),\n",
       " ('Superior Double Room', 31361),\n",
       " ('Family with older children', 26334),\n",
       " ('Deluxe Double Room', 24812),\n",
       " ('Double or Twin Room', 22393),\n",
       " ('Stayed 5 nights', 20826),\n",
       " ('Standard Double or Twin Room', 17479),\n",
       " ('Classic Double Room', 16877)]"
      ]
     },
     "execution_count": 52,
     "metadata": {},
     "output_type": "execute_result"
    }
   ],
   "source": [
    "%%time\n",
    "# посмотрим на ниболее популярные теги\n",
    "tags_count = Counter(tags_list)\n",
    "tags_count.most_common(20)\n"
   ]
  },
  {
   "cell_type": "markdown",
   "id": "679a6c69",
   "metadata": {
    "papermill": {
     "duration": 0.099527,
     "end_time": "2022-10-11T06:09:15.309168",
     "exception": false,
     "start_time": "2022-10-11T06:09:15.209641",
     "status": "completed"
    },
    "tags": []
   },
   "source": [
    "### Пожно выделить следующие типы тегов:\n",
    "\n",
    " * Назначение поездки (работа / отдых)\n",
    " * Продолжительность пребывания\n",
    " * Количество гостей\n",
    " * Путешествие с животными\n",
    " * Отзыв написан с мобильного девайса\n",
    " * Вид номера (их овердохрена)\n",
    "\n",
    "### Все теги (кроме видов номера) закодируем"
   ]
  },
  {
   "cell_type": "code",
   "execution_count": 53,
   "id": "b09141b9",
   "metadata": {
    "execution": {
     "iopub.execute_input": "2022-10-11T06:09:15.517065Z",
     "iopub.status.busy": "2022-10-11T06:09:15.516026Z",
     "iopub.status.idle": "2022-10-11T06:09:22.538199Z",
     "shell.execute_reply": "2022-10-11T06:09:22.537601Z",
     "shell.execute_reply.started": "2022-10-11T05:45:28.322873Z"
    },
    "papermill": {
     "duration": 7.126435,
     "end_time": "2022-10-11T06:09:22.538445",
     "exception": false,
     "start_time": "2022-10-11T06:09:15.412010",
     "status": "completed"
    },
    "tags": []
   },
   "outputs": [
    {
     "name": "stdout",
     "output_type": "stream",
     "text": [
      "CPU times: user 6.7 s, sys: 185 ms, total: 6.88 s\n",
      "Wall time: 6.89 s\n"
     ]
    }
   ],
   "source": [
    "%%time\n",
    "# закодируем вид поездки\n",
    "data['Leisure trip'] = data['tags'].apply(lambda x: 1 if 'Leisure trip' in x else 0)\n",
    "data['Business trip'] = data['tags'].apply(lambda x: 1 if 'Business trip' in x else 0)\n",
    "\n",
    "# продолжительность пребывания\n",
    "data['Stayed 1 night'] = data['tags'].apply(lambda x: 1 if 'Stayed 1 night' in x else 0)\n",
    "data['Stayed 2 nights'] = data['tags'].apply(lambda x: 1 if 'Stayed 2 nights' in x else 0)\n",
    "data['Stayed 3 nights'] = data['tags'].apply(lambda x: 1 if 'Stayed 3 nights' in x else 0)\n",
    "data['Stayed 4 nights'] = data['tags'].apply(lambda x: 1 if 'Stayed 4 nights' in x else 0)\n",
    "data['Stayed 5 nights'] = data['tags'].apply(lambda x: 1 if 'Stayed 5 nights' in x else 0)\n",
    "data['Stayed 6 nights'] = data['tags'].apply(lambda x: 1 if 'Stayed 6 nights' in x else 0)\n",
    "data['Stayed 7 nights'] = data['tags'].apply(lambda x: 1 if 'Stayed 7 nights' in x else 0)\n",
    "data['Stayed 8 nights'] = data['tags'].apply(lambda x: 1 if 'Stayed 8 nights' in x else 0)\n",
    "data['Stayed 9 nights'] = data['tags'].apply(lambda x: 1 if 'Stayed 9 nights' in x else 0)\n",
    "data['Stayed 10 nights'] = data['tags'].apply(lambda x: 1 if 'Stayed 10 nights' in x else 0)\n",
    "data['Stayed 11-20 nights'] = data['tags'].apply(lambda x: 1 if ('Stayed 11 nights' in x) \n",
    "    or ('Stayed 12 nights' in x) or ('Stayed 13 nights' in x) or ('Stayed 14 nights' in x)\n",
    "    or ('Stayed 15 nights' in x) or ('Stayed 16 nights' in x) or ('Stayed 17 nights' in x)\n",
    "    or ('Stayed 18 nights' in x) or ('Stayed 19 nights' in x) or ('Stayed 20 nights' in x) else 0)\n",
    "data['Stayed 21-31 nights'] = data['tags'].apply(lambda x: 1 if ('Stayed 21 nights' in x) \n",
    "    or ('Stayed 22 nights' in x) or ('Stayed 23 nights' in x) or ('Stayed 24 nights' in x)\n",
    "    or ('Stayed 25 nights' in x) or ('Stayed 26 nights' in x) or ('Stayed 27 nights' in x)\n",
    "    or ('Stayed 28 nights' in x) or ('Stayed 29 nights' in x) or ('Stayed 30 nights' in x) or ('Stayed 31 nights' in x) else 0)\n",
    "\n",
    "\n",
    "# количество гостей\n",
    "data['Solo traveler'] = data['tags'].apply(lambda x: 1 if 'Solo traveler' in x else 0)\n",
    "data['Couple'] = data['tags'].apply(lambda x: 1 if 'Couple' in x else 0)\n",
    "data['Group'] = data['tags'].apply(lambda x: 1 if 'Group' in x else 0)\n",
    "data['Travelers with friends'] = data['tags'].apply(lambda x: 1 if 'Travelers with friends' in x else 0)\n",
    "data['Family with young children'] = data['tags'].apply(lambda x: 1 if 'Family with young children' in x else 0)\n",
    "data['Family with older children'] = data['tags'].apply(lambda x: 1 if 'Family with older children' in x else 0)\n",
    "\n",
    "# признак написания отзыва с мобильного устройства\n",
    "data['Submitted from a mobile device'] = data['tags'].apply(lambda x: 1 if 'Submitted from a mobile device' in x else 0)"
   ]
  },
  {
   "cell_type": "code",
   "execution_count": 54,
   "id": "9a6bb9fe",
   "metadata": {
    "execution": {
     "iopub.execute_input": "2022-10-11T06:09:22.741598Z",
     "iopub.status.busy": "2022-10-11T06:09:22.740803Z",
     "iopub.status.idle": "2022-10-11T06:09:22.751922Z",
     "shell.execute_reply": "2022-10-11T06:09:22.752533Z",
     "shell.execute_reply.started": "2022-10-11T05:45:37.772110Z"
    },
    "papermill": {
     "duration": 0.114559,
     "end_time": "2022-10-11T06:09:22.752753",
     "exception": false,
     "start_time": "2022-10-11T06:09:22.638194",
     "status": "completed"
    },
    "tags": []
   },
   "outputs": [],
   "source": [
    "def get_room_type(data):\n",
    "    \"\"\"классификатор вида номеров\"\"\"\n",
    "    # сначала поищем класс номера\n",
    "    result = None\n",
    "    double = None\n",
    "    for room in data:\n",
    "        if 'Classic' in room:\n",
    "            result = 'Classic'\n",
    "        elif 'Guestroom' in room:\n",
    "            result = 'Guestroom'\n",
    "        elif 'Single' in room:\n",
    "            result = 'Single'\n",
    "        elif 'Standard' in room:\n",
    "            result = 'Standard'\n",
    "        elif 'Superior' in room:\n",
    "            result = 'Superior'\n",
    "        elif 'Comfort' in room:\n",
    "            result = 'Comfort'\n",
    "        elif 'Club' in room:\n",
    "            result = 'Club'\n",
    "        elif 'Suite' in room:\n",
    "            result = 'Suite'\n",
    "        elif 'Deluxe' in room:\n",
    "            result = 'Deluxe'\n",
    "        elif 'King' in room:\n",
    "            result = 'King'\n",
    "        elif 'Superior' in room:\n",
    "            result = 'Superior'\n",
    "        elif 'Premier' in room:\n",
    "            result = 'Premier'\n",
    "        elif 'without Window' in room:\n",
    "            result = 'without Window'\n",
    "        elif 'Queen' in room:\n",
    "            result = 'Queen'\n",
    "        elif 'Triple' in room:\n",
    "            result = 'Triple'            \n",
    "        elif 'Executive' in room:\n",
    "            result = 'Executive'\n",
    "        elif 'Large' in room:\n",
    "            result = 'Large'    \n",
    "        elif 'Luxury' in room:\n",
    "            result = 'Luxury'            \n",
    "        elif 'Studio' in room:\n",
    "            result = 'Studio'\n",
    "        elif 'Privilege' in room:\n",
    "            result = 'Privilege' \n",
    "        elif 'Family Room' in room:\n",
    "            result = 'Family Room'\n",
    "        elif 'Quadruple' in room:\n",
    "            result = 'Quadruple' \n",
    "            \n",
    "    # теперь добавим отметку о 2х комнатности        \n",
    "    for room in data:\n",
    "        if 'Twin' in room or 'Double' in room or '2 rooms' in room:\n",
    "            double = 'Double'\n",
    "    # собирём вместе результат\n",
    "    if result and double:\n",
    "        return result+' '+double\n",
    "    elif result and double is None:\n",
    "        return result\n",
    "    elif result is None and double:\n",
    "        return double\n",
    "    else:\n",
    "        return 'Other'"
   ]
  },
  {
   "cell_type": "code",
   "execution_count": 55,
   "id": "4c1b67cf",
   "metadata": {
    "execution": {
     "iopub.execute_input": "2022-10-11T06:09:22.963581Z",
     "iopub.status.busy": "2022-10-11T06:09:22.959464Z",
     "iopub.status.idle": "2022-10-11T06:09:26.168926Z",
     "shell.execute_reply": "2022-10-11T06:09:26.168326Z",
     "shell.execute_reply.started": "2022-10-11T05:45:41.062328Z"
    },
    "papermill": {
     "duration": 3.316016,
     "end_time": "2022-10-11T06:09:26.169100",
     "exception": false,
     "start_time": "2022-10-11T06:09:22.853084",
     "status": "completed"
    },
    "tags": []
   },
   "outputs": [
    {
     "name": "stdout",
     "output_type": "stream",
     "text": [
      "CPU times: user 2.83 s, sys: 374 ms, total: 3.2 s\n",
      "Wall time: 3.2 s\n"
     ]
    }
   ],
   "source": [
    "%%time\n",
    "# Определим основные типы комнат\n",
    "data['room_type'] = data['tags'].apply(get_room_type)\n",
    "\n",
    "# Закодируем их двоичным кодированием\n",
    "bin_encoder = ce.BinaryEncoder(cols=['room_type']) \n",
    "type_bin = bin_encoder.fit_transform(data['room_type'])\n",
    "data = pd.concat([data, type_bin], axis=1)"
   ]
  },
  {
   "cell_type": "code",
   "execution_count": 56,
   "id": "eb9966c4",
   "metadata": {
    "execution": {
     "iopub.execute_input": "2022-10-11T06:09:26.379403Z",
     "iopub.status.busy": "2022-10-11T06:09:26.378256Z",
     "iopub.status.idle": "2022-10-11T06:09:27.913914Z",
     "shell.execute_reply": "2022-10-11T06:09:27.913313Z",
     "shell.execute_reply.started": "2022-10-11T05:45:46.570524Z"
    },
    "papermill": {
     "duration": 1.645256,
     "end_time": "2022-10-11T06:09:27.914100",
     "exception": false,
     "start_time": "2022-10-11T06:09:26.268844",
     "status": "completed"
    },
    "tags": []
   },
   "outputs": [],
   "source": [
    "#  введём условия\n",
    "mask0 = data['sample'] == 1\n",
    "mask1 = data['room_type'] == 'Double'\n",
    "mask2 = data['room_type'] == 'Standard Double'\n",
    "mask3 = data['room_type'] == 'Superior Double'\n",
    "mask4 = data['room_type'] == 'Deluxe Double'\n",
    "mask5 = data['room_type'] == 'Classic Double'\n",
    "mask6 = data['room_type'] == 'Superior'\n",
    "mask7 = data['room_type'] == 'Deluxe'\n",
    "mask8 = data['room_type'] == 'Queen'\n",
    "mask9 = data['room_type'] == 'Suite'\n",
    "mask10 = data['room_type'] == 'King'\n",
    "\n",
    "# получим средние оценки\n",
    "r_1 = data[mask0 & mask1]['reviewer_score'].mean()\n",
    "r_2 = data[mask0 & mask2]['reviewer_score'].mean()\n",
    "r_3 = data[mask0 & mask3]['reviewer_score'].mean()\n",
    "r_4 = data[mask0 & mask4]['reviewer_score'].mean()\n",
    "r_5 = data[mask0 & mask5]['reviewer_score'].mean()\n",
    "r_6 = data[mask0 & mask6]['reviewer_score'].mean()\n",
    "r_7 = data[mask0 & mask7]['reviewer_score'].mean()\n",
    "r_8 = data[mask0 & mask8]['reviewer_score'].mean()\n",
    "r_9 = data[mask0 & mask9]['reviewer_score'].mean()\n",
    "r_10 = data[mask0 & mask10]['reviewer_score'].mean()\n",
    "\n",
    "# преобразуем в df для визуализации\n",
    "rooms = pd.DataFrame({'reviewer_score':[r_1,r_2,r_3,r_4,r_5,r_6,r_7,r_8,r_9,r_10]})\n",
    "rooms.index = ['Double','Standard Double','Superior Double','Deluxe Double',\n",
    "               'Classic Double','Superior','Deluxe','Queen','Suite','King']"
   ]
  },
  {
   "cell_type": "code",
   "execution_count": 57,
   "id": "e523807b",
   "metadata": {
    "execution": {
     "iopub.execute_input": "2022-10-11T06:09:28.124012Z",
     "iopub.status.busy": "2022-10-11T06:09:28.123244Z",
     "iopub.status.idle": "2022-10-11T06:09:28.564645Z",
     "shell.execute_reply": "2022-10-11T06:09:28.563779Z",
     "shell.execute_reply.started": "2022-10-11T05:45:50.054937Z"
    },
    "papermill": {
     "duration": 0.551098,
     "end_time": "2022-10-11T06:09:28.564910",
     "exception": false,
     "start_time": "2022-10-11T06:09:28.013812",
     "status": "completed"
    },
    "tags": []
   },
   "outputs": [
    {
     "data": {
      "image/png": "[encoded data removed]",
      "text/plain": [
       "<Figure size 1080x360 with 1 Axes>"
      ]
     },
     "metadata": {
      "needs_background": "light"
     },
     "output_type": "display_data"
    }
   ],
   "source": [
    "fig, ax = plt.subplots(figsize=(15, 5))\n",
    "plt.suptitle('Средняя оценка по отзывам в типа номера')\n",
    "sns.barplot(x=rooms.index, y=rooms['reviewer_score'])\n",
    "plt.ylim(8.1, 8.7)\n",
    "ax.bar_label(ax.containers[0]);"
   ]
  },
  {
   "cell_type": "code",
   "execution_count": 58,
   "id": "70855694",
   "metadata": {
    "execution": {
     "iopub.execute_input": "2022-10-11T06:09:28.781292Z",
     "iopub.status.busy": "2022-10-11T06:09:28.780492Z",
     "iopub.status.idle": "2022-10-11T06:09:28.871936Z",
     "shell.execute_reply": "2022-10-11T06:09:28.871127Z",
     "shell.execute_reply.started": "2022-10-11T05:45:52.533881Z"
    },
    "papermill": {
     "duration": 0.204054,
     "end_time": "2022-10-11T06:09:28.872113",
     "exception": false,
     "start_time": "2022-10-11T06:09:28.668059",
     "status": "completed"
    },
    "tags": []
   },
   "outputs": [
    {
     "data": {
      "text/plain": [
       "72"
      ]
     },
     "execution_count": 58,
     "metadata": {},
     "output_type": "execute_result"
    }
   ],
   "source": [
    "#  сформируем пул уникальных тегов\n",
    "tags_set = set(tags_list)\n",
    "\n",
    "# запишем теги с продолжительностью визита\n",
    "days_tags = ['Stayed 1 night']\n",
    "for day in range(2,32):\n",
    "    days_tags.append('Stayed '+str(day)+' nights')\n",
    "# список тегов которые уже закодированы\n",
    "used_tags = ['Leisure trip','Business trip','Solo traveler','Couple','Group',\n",
    "             'Family with young children','Submitted from a mobile device',\n",
    "            'Family with older children','Travelers with friends' ]\n",
    "used_tags.extend(days_tags)\n",
    "\n",
    "# дропнем закодированные\n",
    "for drop_tag in used_tags:\n",
    "    tags_set.discard(drop_tag)\n",
    "\n",
    "# дропнем теги связанные с видом номера\n",
    "tags_set1 = tags_set.copy()\n",
    "for tagg in tags_set:\n",
    "    if 'room' in tagg:\n",
    "        tags_set1.discard(tagg)\n",
    "    elif 'Room'in tagg:\n",
    "        tags_set1.discard(tagg)\n",
    "    elif 'Suite'in tagg:\n",
    "        tags_set1.discard(tagg)\n",
    "    elif 'Apartment'in tagg:\n",
    "        tags_set1.discard(tagg)\n",
    "    elif 'Studio'in tagg:\n",
    "        tags_set1.discard(tagg)\n",
    "    elif 'Double'in tagg:\n",
    "        tags_set1.discard(tagg)\n",
    "    elif 'Deluxe'in tagg:\n",
    "        tags_set1.discard(tagg)\n",
    "\n",
    "# осталось 72 тега, ну и черт с ними\n",
    "len(tags_set1)"
   ]
  },
  {
   "cell_type": "code",
   "execution_count": 59,
   "id": "84ad122e",
   "metadata": {
    "execution": {
     "iopub.execute_input": "2022-10-11T06:09:29.093437Z",
     "iopub.status.busy": "2022-10-11T06:09:29.092606Z",
     "iopub.status.idle": "2022-10-11T06:09:32.471384Z",
     "shell.execute_reply": "2022-10-11T06:09:32.470695Z",
     "shell.execute_reply.started": "2022-10-11T05:45:54.900080Z"
    },
    "papermill": {
     "duration": 3.495899,
     "end_time": "2022-10-11T06:09:32.471564",
     "exception": false,
     "start_time": "2022-10-11T06:09:28.975665",
     "status": "completed"
    },
    "tags": []
   },
   "outputs": [],
   "source": [
    "# сгруппируем по продолжительности\n",
    "m_1 = data[data['sample'] == 1].groupby('Stayed 1 night')['reviewer_score'].mean()\n",
    "m_2 = data[data['sample'] == 1].groupby('Stayed 2 nights')['reviewer_score'].mean()\n",
    "m_3 = data[data['sample'] == 1].groupby('Stayed 3 nights')['reviewer_score'].mean()\n",
    "m_4 = data[data['sample'] == 1].groupby('Stayed 4 nights')['reviewer_score'].mean()\n",
    "m_5 = data[data['sample'] == 1].groupby('Stayed 5 nights')['reviewer_score'].mean()\n",
    "m_6 = data[data['sample'] == 1].groupby('Stayed 6 nights')['reviewer_score'].mean()\n",
    "m_7 = data[data['sample'] == 1].groupby('Stayed 7 nights')['reviewer_score'].mean()\n",
    "m_8 = data[data['sample'] == 1].groupby('Stayed 8 nights')['reviewer_score'].mean()\n",
    "m_9 = data[data['sample'] == 1].groupby('Stayed 9 nights')['reviewer_score'].mean()\n",
    "m_10 = data[data['sample'] == 1].groupby('Stayed 10 nights')['reviewer_score'].mean()\n",
    "m_11 = data[data['sample'] == 1].groupby('Stayed 11-20 nights')['reviewer_score'].mean()\n",
    "m_12 = data[data['sample'] == 1].groupby('Stayed 21-31 nights')['reviewer_score'].mean()\n",
    "\n",
    "\n",
    "# преобразуем в df для визуализации\n",
    "nights = pd.DataFrame({\n",
    "    '1 night':m_1,\n",
    "    '2 nights':m_2,\n",
    "    '3 nights':m_3,\n",
    "    '4 nights':m_4,\n",
    "    '5 nights':m_5,\n",
    "    '6 nights':m_6,\n",
    "    '7 nights':m_7,\n",
    "    '8 nights':m_8,\n",
    "    '9 nights':m_9,\n",
    "    '10 nights':m_10,\n",
    "    '11-20 nights':m_11,\n",
    "    '21-31 nights':m_12}).transpose()"
   ]
  },
  {
   "cell_type": "code",
   "execution_count": 60,
   "id": "f3411fe1",
   "metadata": {
    "execution": {
     "iopub.execute_input": "2022-10-11T06:09:32.678928Z",
     "iopub.status.busy": "2022-10-11T06:09:32.677844Z",
     "iopub.status.idle": "2022-10-11T06:09:33.067641Z",
     "shell.execute_reply": "2022-10-11T06:09:33.068283Z",
     "shell.execute_reply.started": "2022-10-11T05:45:59.838739Z"
    },
    "papermill": {
     "duration": 0.495324,
     "end_time": "2022-10-11T06:09:33.068517",
     "exception": false,
     "start_time": "2022-10-11T06:09:32.573193",
     "status": "completed"
    },
    "tags": []
   },
   "outputs": [
    {
     "data": {
      "image/png": "[encoded data removed]",
      "text/plain": [
       "<Figure size 1080x360 with 1 Axes>"
      ]
     },
     "metadata": {
      "needs_background": "light"
     },
     "output_type": "display_data"
    }
   ],
   "source": [
    "fig, ax = plt.subplots(figsize=(15, 5))\n",
    "plt.suptitle('Средняя оценка по отзывам в зависимости продолжительности пребывания')\n",
    "sns.barplot(x=nights.index, y=nights[1])\n",
    "plt.ylim(7.8, 8.6)\n",
    "ax.bar_label(ax.containers[0]);"
   ]
  },
  {
   "cell_type": "code",
   "execution_count": 61,
   "id": "b96f4241",
   "metadata": {
    "execution": {
     "iopub.execute_input": "2022-10-11T06:09:33.281183Z",
     "iopub.status.busy": "2022-10-11T06:09:33.280136Z",
     "iopub.status.idle": "2022-10-11T06:09:35.784036Z",
     "shell.execute_reply": "2022-10-11T06:09:35.784854Z",
     "shell.execute_reply.started": "2022-10-11T05:46:02.649171Z"
    },
    "papermill": {
     "duration": 2.613916,
     "end_time": "2022-10-11T06:09:35.785194",
     "exception": false,
     "start_time": "2022-10-11T06:09:33.171278",
     "status": "completed"
    },
    "tags": []
   },
   "outputs": [],
   "source": [
    "# сгруппируем по остальным тегам\n",
    "t_1 = data[data['sample'] == 1].groupby('Leisure trip')['reviewer_score'].mean()\n",
    "t_2 = data[data['sample'] == 1].groupby('Business trip')['reviewer_score'].mean()\n",
    "t_3 = data[data['sample'] == 1].groupby('Solo traveler')['reviewer_score'].mean()\n",
    "t_4 = data[data['sample'] == 1].groupby('Couple')['reviewer_score'].mean()\n",
    "t_5 = data[data['sample'] == 1].groupby('Family with young children')['reviewer_score'].mean()\n",
    "t_6 = data[data['sample'] == 1].groupby('Family with older children')['reviewer_score'].mean()\n",
    "t_7 = data[data['sample'] == 1].groupby('Travelers with friends')['reviewer_score'].mean()\n",
    "t_8 = data[data['sample'] == 1].groupby('Group')['reviewer_score'].mean()\n",
    "t_9 = data[data['sample'] == 1].groupby('Submitted from a mobile device')['reviewer_score'].mean()\n",
    "\n",
    "\n",
    "\n",
    "# преобразуем в df для визуализации\n",
    "plottags = pd.DataFrame({\n",
    "    'Leisure':t_1,\n",
    "    'Business':t_2,\n",
    "    'Solo':t_3,\n",
    "    'Couple':t_4,\n",
    "    'Young children':t_5,\n",
    "    'Older children':t_6,\n",
    "    'Friends':t_7,\n",
    "    'Group':t_8,\n",
    "    'Device':t_9}).transpose()"
   ]
  },
  {
   "cell_type": "code",
   "execution_count": 62,
   "id": "4c6f18b0",
   "metadata": {
    "execution": {
     "iopub.execute_input": "2022-10-11T06:09:35.995138Z",
     "iopub.status.busy": "2022-10-11T06:09:35.994052Z",
     "iopub.status.idle": "2022-10-11T06:09:36.329888Z",
     "shell.execute_reply": "2022-10-11T06:09:36.329225Z",
     "shell.execute_reply.started": "2022-10-11T05:46:06.700964Z"
    },
    "papermill": {
     "duration": 0.441847,
     "end_time": "2022-10-11T06:09:36.330062",
     "exception": false,
     "start_time": "2022-10-11T06:09:35.888215",
     "status": "completed"
    },
    "tags": []
   },
   "outputs": [
    {
     "data": {
      "image/png": "[encoded data removed]",
      "text/plain": [
       "<Figure size 1080x360 with 1 Axes>"
      ]
     },
     "metadata": {
      "needs_background": "light"
     },
     "output_type": "display_data"
    }
   ],
   "source": [
    "fig, ax = plt.subplots(figsize=(15, 5))\n",
    "plt.suptitle('Средняя оценка по отзывам в зависимости от разных условий')\n",
    "sns.barplot(x=plottags.index, y=plottags[1])\n",
    "plt.ylim(7.8, 8.6)\n",
    "ax.bar_label(ax.containers[0]);"
   ]
  },
  {
   "cell_type": "code",
   "execution_count": 63,
   "id": "9bf60b43",
   "metadata": {
    "execution": {
     "iopub.execute_input": "2022-10-11T06:09:36.543516Z",
     "iopub.status.busy": "2022-10-11T06:09:36.542747Z",
     "iopub.status.idle": "2022-10-11T06:09:36.727808Z",
     "shell.execute_reply": "2022-10-11T06:09:36.727137Z",
     "shell.execute_reply.started": "2022-10-11T05:46:09.627826Z"
    },
    "papermill": {
     "duration": 0.293551,
     "end_time": "2022-10-11T06:09:36.727988",
     "exception": false,
     "start_time": "2022-10-11T06:09:36.434437",
     "status": "completed"
    },
    "tags": []
   },
   "outputs": [],
   "source": [
    "#backup\n",
    "data_7 = data.copy()"
   ]
  },
  {
   "cell_type": "markdown",
   "id": "8790482e",
   "metadata": {
    "papermill": {
     "duration": 0.102496,
     "end_time": "2022-10-11T06:09:36.935777",
     "exception": false,
     "start_time": "2022-10-11T06:09:36.833281",
     "status": "completed"
    },
    "tags": []
   },
   "source": [
    "## Максимальные оценки ставят либо парочки на отдыхе либо отыхающие компание друзей. Логично чё."
   ]
  },
  {
   "cell_type": "markdown",
   "id": "d62422ef",
   "metadata": {
    "papermill": {
     "duration": 0.103148,
     "end_time": "2022-10-11T06:09:37.141674",
     "exception": false,
     "start_time": "2022-10-11T06:09:37.038526",
     "status": "completed"
    },
    "tags": []
   },
   "source": [
    "# 8. Лингвистический анализ <a class=\"anchor\" id=8></a> <a id=\"8\"></a> <br>\n",
    "\n",
    "[к содержанию](#0) \n",
    "\n",
    "## Работать будем с признаками `negative_review`, `positive_review`, и до кучи с количественными признаками по отзывам :\n",
    "### * Посчитаем количества позитивных и негативных слов\n",
    "### * Составим пропорцию длительности позитивного к негативному отзыву\n",
    "### * Получим эмоциональные окраски отзывов\n",
    "### * Еще что-нибудь, как-нибудь закодируем"
   ]
  },
  {
   "cell_type": "code",
   "execution_count": 64,
   "id": "c360e114",
   "metadata": {
    "execution": {
     "iopub.execute_input": "2022-10-11T06:09:37.360012Z",
     "iopub.status.busy": "2022-10-11T06:09:37.359199Z",
     "iopub.status.idle": "2022-10-11T06:09:53.969726Z",
     "shell.execute_reply": "2022-10-11T06:09:53.970269Z",
     "shell.execute_reply.started": "2022-10-11T05:46:14.121303Z"
    },
    "papermill": {
     "duration": 16.722988,
     "end_time": "2022-10-11T06:09:53.970517",
     "exception": false,
     "start_time": "2022-10-11T06:09:37.247529",
     "status": "completed"
    },
    "tags": []
   },
   "outputs": [
    {
     "name": "stdout",
     "output_type": "stream",
     "text": [
      "CPU times: user 14.3 s, sys: 2.32 s, total: 16.6 s\n",
      "Wall time: 16.6 s\n"
     ]
    }
   ],
   "source": [
    "%%time\n",
    "# Посчитаем общее количество слов в позитивных и негативных отзывах \n",
    "data['review_total_word_counts'] = data['review_total_negative_word_counts'] + data['review_total_positive_word_counts']\n",
    "\n",
    "# Введём пропорцию количество негативных / количество позитивных слов ( если слов нет установим значение 0.5)\n",
    "data['review_words_proportion'] = data.apply(\n",
    "    lambda x: 0.5 if x['review_total_word_counts'] == 0 \\\n",
    "    else (x['review_total_negative_word_counts']+1) / (x['review_total_positive_word_counts']+1), axis=1)"
   ]
  },
  {
   "cell_type": "code",
   "execution_count": 65,
   "id": "6c8f78c1",
   "metadata": {
    "execution": {
     "iopub.execute_input": "2022-10-11T06:09:54.191377Z",
     "iopub.status.busy": "2022-10-11T06:09:54.190165Z",
     "iopub.status.idle": "2022-10-11T06:09:54.192402Z",
     "shell.execute_reply": "2022-10-11T06:09:54.192948Z",
     "shell.execute_reply.started": "2022-10-11T05:46:33.200779Z"
    },
    "papermill": {
     "duration": 0.116981,
     "end_time": "2022-10-11T06:09:54.193153",
     "exception": false,
     "start_time": "2022-10-11T06:09:54.076172",
     "status": "completed"
    },
    "tags": []
   },
   "outputs": [],
   "source": [
    "def get_text_pol(data):\n",
    "    \"\"\"доставатель настроения текста\"\"\"\n",
    "    text = TextBlob(data)\n",
    "    return text.sentiment[0]\n",
    "    \n",
    "def get_text_sub(data):\n",
    "    \"\"\"доставатель субьективности текста\"\"\"\n",
    "    text = TextBlob(data)\n",
    "    return text.sentiment[1]    "
   ]
  },
  {
   "cell_type": "code",
   "execution_count": 66,
   "id": "0b1aecff",
   "metadata": {
    "execution": {
     "iopub.execute_input": "2022-10-11T06:09:54.409613Z",
     "iopub.status.busy": "2022-10-11T06:09:54.408836Z",
     "iopub.status.idle": "2022-10-11T06:18:37.881908Z",
     "shell.execute_reply": "2022-10-11T06:18:37.882662Z",
     "shell.execute_reply.started": "2022-10-11T05:47:16.408799Z"
    },
    "papermill": {
     "duration": 523.584889,
     "end_time": "2022-10-11T06:18:37.882955",
     "exception": false,
     "start_time": "2022-10-11T06:09:54.298066",
     "status": "completed"
    },
    "tags": []
   },
   "outputs": [
    {
     "name": "stdout",
     "output_type": "stream",
     "text": [
      "CPU times: user 8min 42s, sys: 281 ms, total: 8min 43s\n",
      "Wall time: 8min 43s\n"
     ]
    }
   ],
   "source": [
    "%%time\n",
    "data['negative_polarity'] = data['negative_review'].apply(get_text_pol)\n",
    "data['negative_subjectivity'] = data['negative_review'].apply(get_text_sub)\n",
    "data['positive_polarity'] = data['positive_review'].apply(get_text_pol)\n",
    "data['positive_subjectivity'] = data['positive_review'].apply(get_text_sub)"
   ]
  },
  {
   "cell_type": "code",
   "execution_count": 67,
   "id": "542fa879",
   "metadata": {
    "execution": {
     "iopub.execute_input": "2022-10-11T06:18:38.116599Z",
     "iopub.status.busy": "2022-10-11T06:18:38.115702Z",
     "iopub.status.idle": "2022-10-11T06:18:38.785701Z",
     "shell.execute_reply": "2022-10-11T06:18:38.784869Z",
     "shell.execute_reply.started": "2022-10-11T05:56:10.047468Z"
    },
    "papermill": {
     "duration": 0.789494,
     "end_time": "2022-10-11T06:18:38.785890",
     "exception": false,
     "start_time": "2022-10-11T06:18:37.996396",
     "status": "completed"
    },
    "tags": []
   },
   "outputs": [
    {
     "name": "stdout",
     "output_type": "stream",
     "text": [
      "CPU times: user 667 ms, sys: 0 ns, total: 667 ms\n",
      "Wall time: 666 ms\n"
     ]
    }
   ],
   "source": [
    "%%time\n",
    "# заменим текст отзывов на 0 или 1, если есть негативные или позитивные\n",
    "data['negative_review'] = data['negative_review'].apply(lambda x: 0 if x=='No Negative' else 1)\n",
    "data['positive_review'] = data['positive_review'].apply(lambda x: 0 if x=='No Positive' else 1)"
   ]
  },
  {
   "cell_type": "code",
   "execution_count": 68,
   "id": "e08e96bf",
   "metadata": {
    "execution": {
     "iopub.execute_input": "2022-10-11T06:18:39.014789Z",
     "iopub.status.busy": "2022-10-11T06:18:39.013460Z",
     "iopub.status.idle": "2022-10-11T06:18:39.029388Z",
     "shell.execute_reply": "2022-10-11T06:18:39.028706Z",
     "shell.execute_reply.started": "2022-10-11T05:56:37.756247Z"
    },
    "papermill": {
     "duration": 0.132805,
     "end_time": "2022-10-11T06:18:39.029569",
     "exception": false,
     "start_time": "2022-10-11T06:18:38.896764",
     "status": "completed"
    },
    "tags": []
   },
   "outputs": [
    {
     "name": "stdout",
     "output_type": "stream",
     "text": [
      "CPU times: user 12.9 ms, sys: 0 ns, total: 12.9 ms\n",
      "Wall time: 12.4 ms\n"
     ]
    }
   ],
   "source": [
    "%%time\n",
    "# введём признак в котором умножим значение полярности на значение субъективности\n",
    "data['negative_pol_sub'] = data['negative_polarity'] * data['negative_subjectivity']\n",
    "data['positive_pol_sub'] = data['positive_polarity'] * data['positive_subjectivity']"
   ]
  },
  {
   "cell_type": "code",
   "execution_count": 69,
   "id": "f0083421",
   "metadata": {
    "execution": {
     "iopub.execute_input": "2022-10-11T06:18:39.256835Z",
     "iopub.status.busy": "2022-10-11T06:18:39.254262Z",
     "iopub.status.idle": "2022-10-11T06:18:40.227845Z",
     "shell.execute_reply": "2022-10-11T06:18:40.226975Z",
     "shell.execute_reply.started": "2022-10-11T05:57:44.851230Z"
    },
    "papermill": {
     "duration": 1.088693,
     "end_time": "2022-10-11T06:18:40.228025",
     "exception": false,
     "start_time": "2022-10-11T06:18:39.139332",
     "status": "completed"
    },
    "tags": []
   },
   "outputs": [],
   "source": [
    "#backup\n",
    "data_8 = data.copy()"
   ]
  },
  {
   "cell_type": "markdown",
   "id": "45707a85",
   "metadata": {
    "papermill": {
     "duration": 0.104338,
     "end_time": "2022-10-11T06:18:40.438678",
     "exception": false,
     "start_time": "2022-10-11T06:18:40.334340",
     "status": "completed"
    },
    "tags": []
   },
   "source": [
    "# 9. Отбор признаков <a class=\"anchor\" id=9></a> <a id=\"9\"></a> <br>\n",
    "\n",
    "[к содержанию](#0)\n",
    "\n",
    "## В этом разделе окончательно подготовим данные к загрузке в модель, для этого:\n",
    "### * Дропнем всё что не числа\n",
    "### * Разделим признаки на категориальные и числовые\n",
    "### * Проверим на мультиколлинеарность\n",
    "### * Проверим улучшится ли ключевая метка, если поиграть с числовыми признаками (стандартизация, нормализация, логорифмирование и прочее колдовство) "
   ]
  },
  {
   "cell_type": "code",
   "execution_count": 70,
   "id": "f6c00831",
   "metadata": {
    "execution": {
     "iopub.execute_input": "2022-10-11T06:18:40.681301Z",
     "iopub.status.busy": "2022-10-11T06:18:40.680323Z",
     "iopub.status.idle": "2022-10-11T06:18:40.683729Z",
     "shell.execute_reply": "2022-10-11T06:18:40.683029Z",
     "shell.execute_reply.started": "2022-10-11T05:57:48.125146Z"
    },
    "papermill": {
     "duration": 0.137402,
     "end_time": "2022-10-11T06:18:40.683923",
     "exception": false,
     "start_time": "2022-10-11T06:18:40.546521",
     "status": "completed"
    },
    "tags": []
   },
   "outputs": [],
   "source": [
    "# Определим столбцы на удаление\n",
    "columns_to_drop = ['hotel_address','review_date','hotel_name','reviewer_nationality','tags','hotel_country','room_type','lat','lng']"
   ]
  },
  {
   "cell_type": "code",
   "execution_count": 71,
   "id": "ee7caea1",
   "metadata": {
    "execution": {
     "iopub.execute_input": "2022-10-11T06:18:40.918249Z",
     "iopub.status.busy": "2022-10-11T06:18:40.917389Z",
     "iopub.status.idle": "2022-10-11T06:18:41.459964Z",
     "shell.execute_reply": "2022-10-11T06:18:41.459309Z",
     "shell.execute_reply.started": "2022-10-11T05:57:49.479812Z"
    },
    "papermill": {
     "duration": 0.660121,
     "end_time": "2022-10-11T06:18:41.460131",
     "exception": false,
     "start_time": "2022-10-11T06:18:40.800010",
     "status": "completed"
    },
    "tags": []
   },
   "outputs": [],
   "source": [
    "# Удалим их\n",
    "data = data.drop(columns_to_drop, axis=1)"
   ]
  },
  {
   "cell_type": "code",
   "execution_count": 72,
   "id": "3dd5f1a2",
   "metadata": {
    "execution": {
     "iopub.execute_input": "2022-10-11T06:18:41.682244Z",
     "iopub.status.busy": "2022-10-11T06:18:41.679229Z",
     "iopub.status.idle": "2022-10-11T06:18:42.706839Z",
     "shell.execute_reply": "2022-10-11T06:18:42.707373Z",
     "shell.execute_reply.started": "2022-10-11T05:57:51.736156Z"
    },
    "papermill": {
     "duration": 1.142343,
     "end_time": "2022-10-11T06:18:42.707590",
     "exception": false,
     "start_time": "2022-10-11T06:18:41.565247",
     "status": "completed"
    },
    "tags": []
   },
   "outputs": [
    {
     "name": "stdout",
     "output_type": "stream",
     "text": [
      "CPU times: user 527 ms, sys: 489 ms, total: 1.02 s\n",
      "Wall time: 1.02 s\n"
     ]
    },
    {
     "data": {
      "text/plain": [
       "False"
      ]
     },
     "execution_count": 72,
     "metadata": {},
     "output_type": "execute_result"
    }
   ],
   "source": [
    "%%time\n",
    "# Проверим на пропуски и бесконечности\n",
    "data.isin([np.inf, -np.inf, np.nan]).any().any()"
   ]
  },
  {
   "cell_type": "code",
   "execution_count": 73,
   "id": "d1d0458a",
   "metadata": {
    "execution": {
     "iopub.execute_input": "2022-10-11T06:18:43.035484Z",
     "iopub.status.busy": "2022-10-11T06:18:42.926032Z",
     "iopub.status.idle": "2022-10-11T06:19:54.529563Z",
     "shell.execute_reply": "2022-10-11T06:19:54.530178Z",
     "shell.execute_reply.started": "2022-10-11T05:57:54.785357Z"
    },
    "papermill": {
     "duration": 71.713672,
     "end_time": "2022-10-11T06:19:54.530434",
     "exception": false,
     "start_time": "2022-10-11T06:18:42.816762",
     "status": "completed"
    },
    "tags": []
   },
   "outputs": [
    {
     "name": "stdout",
     "output_type": "stream",
     "text": [
      "CPU times: user 1min 6s, sys: 659 ms, total: 1min 7s\n",
      "Wall time: 1min 7s\n"
     ]
    },
    {
     "data": {
      "text/plain": [
       "<AxesSubplot:>"
      ]
     },
     "execution_count": 73,
     "metadata": {},
     "output_type": "execute_result"
    },
    {
     "data": {
      "image/png": "[encoded data removed]",
      "text/plain": [
       "<Figure size 3960x3960 with 2 Axes>"
      ]
     },
     "metadata": {
      "needs_background": "light"
     },
     "output_type": "display_data"
    }
   ],
   "source": [
    "%%time\n",
    "# Для корреляции с категориальными признаками будем использовать метод Спирмена\n",
    "corr = data.drop(['sample'], axis=1).corr(method = 'spearman')\n",
    "\n",
    "# выведем только данные с высоким уровнем корреляции\n",
    "mask_1 = np.abs(corr) >= 0.75\n",
    "mask_2 = np.abs(corr) <= -0.75\n",
    "\n",
    "corr_data = corr[mask_1 | mask_2]\n",
    "\n",
    "\n",
    "# проверка признака на мультиколлинеарность\n",
    "plt.rcParams['figure.figsize'] = (55,55)\n",
    "sns.heatmap(corr_data, annot=True, cmap='coolwarm', linewidth=0.3, linecolor='gray')\n",
    "# sns.heatmap(corr, annot=True, cmap='coolwarm', linewidth=0.3, linecolor='gray')"
   ]
  },
  {
   "cell_type": "code",
   "execution_count": 74,
   "id": "bf5fc1b0",
   "metadata": {
    "execution": {
     "iopub.execute_input": "2022-10-11T06:19:54.767709Z",
     "iopub.status.busy": "2022-10-11T06:19:54.766873Z",
     "iopub.status.idle": "2022-10-11T06:19:54.776262Z",
     "shell.execute_reply": "2022-10-11T06:19:54.776865Z",
     "shell.execute_reply.started": "2022-10-11T05:59:38.870263Z"
    },
    "papermill": {
     "duration": 0.131012,
     "end_time": "2022-10-11T06:19:54.777076",
     "exception": false,
     "start_time": "2022-10-11T06:19:54.646064",
     "status": "completed"
    },
    "tags": []
   },
   "outputs": [],
   "source": [
    "# Обозначим числовые признаки\n",
    "num_cols = ['additional_number_of_scoring',\n",
    "    'average_score',\n",
    "    'review_total_negative_word_counts',\n",
    "    'total_number_of_reviews',\n",
    "    'review_total_positive_word_counts',\n",
    "    'total_number_of_reviews_reviewer_has_given',\n",
    "    'days_since_review',\n",
    "    'distance_from_center',\n",
    "    'city_tmax',\n",
    "    'city_tmean',\n",
    "    'city_tmin',\n",
    "    'city_sun',\n",
    "    'city_rain',\n",
    "    'days_from_today',\n",
    "    'review_total_word_counts',\n",
    "    'review_words_proportion',\n",
    "    'negative_polarity',\n",
    "    'negative_subjectivity',\n",
    "    'positive_polarity',\n",
    "    'positive_subjectivity',\n",
    "    'negative_pol_sub',\n",
    "    'positive_pol_sub'\n",
    "    ]\n",
    "\n",
    "# Обозначим категориальные признаки\n",
    "cat_cols = ['negative_review','positive_review','positive_review','hotel_city_Amsterdam','hotel_city_Barcelona','hotel_city_London',\n",
    "    'hotel_city_Milan','hotel_city_Paris','hotel_city_Vienna','month_1','month_2','month_3','month_4','month_5','month_6',\n",
    "    'month_7','month_8','month_9','month_10','month_11','month_12','day_of_week_0','day_of_week_1','day_of_week_2','day_of_week_3',\n",
    "    'day_of_week_4','day_of_week_5','day_of_week_6','is_tourist','is_muslim','is_english','reviewer_nationality_0','reviewer_nationality_1',\n",
    "    'reviewer_nationality_2','reviewer_nationality_3','reviewer_nationality_4','reviewer_nationality_5','reviewer_nationality_6',\n",
    "    'reviewer_nationality_7','Leisure trip','Business trip','Stayed 1 night','Stayed 2 nights','Stayed 3 nights','Stayed 4 nights',\n",
    "    'Stayed 5 nights','Stayed 6 nights','Stayed 7 nights','Stayed 8 nights','Stayed 9 nights','Stayed 10 nights','Stayed 11-20 nights',\n",
    "    'Stayed 21-31 nights','Solo traveler','Couple','Group','Travelers with friends','Family with young children','Family with older children',\n",
    "    'Submitted from a mobile device','room_type_0','room_type_1','room_type_2','room_type_3','room_type_4','room_type_5']"
   ]
  },
  {
   "cell_type": "code",
   "execution_count": 75,
   "id": "ebe2089b",
   "metadata": {
    "execution": {
     "iopub.execute_input": "2022-10-11T06:19:55.036118Z",
     "iopub.status.busy": "2022-10-11T06:19:55.016008Z",
     "iopub.status.idle": "2022-10-11T06:19:59.184676Z",
     "shell.execute_reply": "2022-10-11T06:19:59.185291Z",
     "shell.execute_reply.started": "2022-10-11T05:59:41.457429Z"
    },
    "papermill": {
     "duration": 4.290614,
     "end_time": "2022-10-11T06:19:59.185528",
     "exception": false,
     "start_time": "2022-10-11T06:19:54.894914",
     "status": "completed"
    },
    "tags": []
   },
   "outputs": [
    {
     "data": {
      "text/plain": [
       "array([[<AxesSubplot:title={'center':'additional_number_of_scoring'}>,\n",
       "        <AxesSubplot:title={'center':'average_score'}>,\n",
       "        <AxesSubplot:title={'center':'review_total_negative_word_counts'}>,\n",
       "        <AxesSubplot:title={'center':'total_number_of_reviews'}>,\n",
       "        <AxesSubplot:title={'center':'review_total_positive_word_counts'}>],\n",
       "       [<AxesSubplot:title={'center':'total_number_of_reviews_reviewer_has_given'}>,\n",
       "        <AxesSubplot:title={'center':'days_since_review'}>,\n",
       "        <AxesSubplot:title={'center':'distance_from_center'}>,\n",
       "        <AxesSubplot:title={'center':'city_tmax'}>,\n",
       "        <AxesSubplot:title={'center':'city_tmean'}>],\n",
       "       [<AxesSubplot:title={'center':'city_tmin'}>,\n",
       "        <AxesSubplot:title={'center':'city_sun'}>,\n",
       "        <AxesSubplot:title={'center':'city_rain'}>,\n",
       "        <AxesSubplot:title={'center':'days_from_today'}>,\n",
       "        <AxesSubplot:title={'center':'review_total_word_counts'}>],\n",
       "       [<AxesSubplot:title={'center':'review_words_proportion'}>,\n",
       "        <AxesSubplot:title={'center':'negative_polarity'}>,\n",
       "        <AxesSubplot:title={'center':'negative_subjectivity'}>,\n",
       "        <AxesSubplot:title={'center':'positive_polarity'}>,\n",
       "        <AxesSubplot:title={'center':'positive_subjectivity'}>],\n",
       "       [<AxesSubplot:title={'center':'negative_pol_sub'}>,\n",
       "        <AxesSubplot:title={'center':'positive_pol_sub'}>,\n",
       "        <AxesSubplot:>, <AxesSubplot:>, <AxesSubplot:>]], dtype=object)"
      ]
     },
     "execution_count": 75,
     "metadata": {},
     "output_type": "execute_result"
    },
    {
     "data": {
      "image/png": "[encoded data removed]",
      "text/plain": [
       "<Figure size 1440x1152 with 25 Axes>"
      ]
     },
     "metadata": {
      "needs_background": "light"
     },
     "output_type": "display_data"
    }
   ],
   "source": [
    "data[num_cols].hist(figsize=(20, 16))"
   ]
  },
  {
   "cell_type": "code",
   "execution_count": 76,
   "id": "05932965",
   "metadata": {
    "execution": {
     "iopub.execute_input": "2022-10-11T06:19:59.440843Z",
     "iopub.status.busy": "2022-10-11T06:19:59.439996Z",
     "iopub.status.idle": "2022-10-11T06:20:00.133811Z",
     "shell.execute_reply": "2022-10-11T06:20:00.134437Z",
     "shell.execute_reply.started": "2022-10-11T06:00:25.205257Z"
    },
    "papermill": {
     "duration": 0.822072,
     "end_time": "2022-10-11T06:20:00.134661",
     "exception": false,
     "start_time": "2022-10-11T06:19:59.312589",
     "status": "completed"
    },
    "tags": []
   },
   "outputs": [
    {
     "name": "stdout",
     "output_type": "stream",
     "text": [
      "CPU times: user 277 ms, sys: 414 ms, total: 691 ms\n",
      "Wall time: 690 ms\n"
     ]
    }
   ],
   "source": [
    "%%time\n",
    "# Логорифмируем данные\n",
    "data['additional_number_of_scoring'] = np.log(data['additional_number_of_scoring'] + 1)\n",
    "data['review_total_negative_word_counts'] = np.log(data['review_total_negative_word_counts'] + 1)\n",
    "data['total_number_of_reviews'] = np.log(data['total_number_of_reviews'] + 1)\n",
    "data['total_number_of_reviews'] = np.log(data['total_number_of_reviews'] + 1)\n",
    "data['review_total_positive_word_counts'] = np.log(data['review_total_positive_word_counts'] + 1)\n",
    "data['total_number_of_reviews_reviewer_has_given'] = np.log(data['total_number_of_reviews_reviewer_has_given'] + 1)\n",
    "data['city_tmax'] = np.log(data['city_tmax'] + 1)\n",
    "data['city_tmean'] = np.log(data['city_tmean'] + 1)\n",
    "data['city_tmin'] = np.log(data['city_tmin'] + 1)\n",
    "data['review_total_word_counts'] = np.log(data['review_total_word_counts'] + 1)\n",
    "data['review_words_proportion'] = np.log(data['review_words_proportion'] + 1)"
   ]
  },
  {
   "cell_type": "code",
   "execution_count": 77,
   "id": "0802eae4",
   "metadata": {
    "execution": {
     "iopub.execute_input": "2022-10-11T06:20:00.380428Z",
     "iopub.status.busy": "2022-10-11T06:20:00.376365Z",
     "iopub.status.idle": "2022-10-11T06:20:05.256534Z",
     "shell.execute_reply": "2022-10-11T06:20:05.257139Z",
     "shell.execute_reply.started": "2022-10-11T06:00:28.695003Z"
    },
    "papermill": {
     "duration": 5.003566,
     "end_time": "2022-10-11T06:20:05.257391",
     "exception": false,
     "start_time": "2022-10-11T06:20:00.253825",
     "status": "completed"
    },
    "tags": []
   },
   "outputs": [
    {
     "data": {
      "text/plain": [
       "array([[<AxesSubplot:title={'center':'additional_number_of_scoring'}>,\n",
       "        <AxesSubplot:title={'center':'average_score'}>,\n",
       "        <AxesSubplot:title={'center':'review_total_negative_word_counts'}>,\n",
       "        <AxesSubplot:title={'center':'total_number_of_reviews'}>,\n",
       "        <AxesSubplot:title={'center':'review_total_positive_word_counts'}>],\n",
       "       [<AxesSubplot:title={'center':'total_number_of_reviews_reviewer_has_given'}>,\n",
       "        <AxesSubplot:title={'center':'days_since_review'}>,\n",
       "        <AxesSubplot:title={'center':'distance_from_center'}>,\n",
       "        <AxesSubplot:title={'center':'city_tmax'}>,\n",
       "        <AxesSubplot:title={'center':'city_tmean'}>],\n",
       "       [<AxesSubplot:title={'center':'city_tmin'}>,\n",
       "        <AxesSubplot:title={'center':'city_sun'}>,\n",
       "        <AxesSubplot:title={'center':'city_rain'}>,\n",
       "        <AxesSubplot:title={'center':'days_from_today'}>,\n",
       "        <AxesSubplot:title={'center':'review_total_word_counts'}>],\n",
       "       [<AxesSubplot:title={'center':'review_words_proportion'}>,\n",
       "        <AxesSubplot:title={'center':'negative_polarity'}>,\n",
       "        <AxesSubplot:title={'center':'negative_subjectivity'}>,\n",
       "        <AxesSubplot:title={'center':'positive_polarity'}>,\n",
       "        <AxesSubplot:title={'center':'positive_subjectivity'}>],\n",
       "       [<AxesSubplot:title={'center':'negative_pol_sub'}>,\n",
       "        <AxesSubplot:title={'center':'positive_pol_sub'}>,\n",
       "        <AxesSubplot:>, <AxesSubplot:>, <AxesSubplot:>]], dtype=object)"
      ]
     },
     "execution_count": 77,
     "metadata": {},
     "output_type": "execute_result"
    },
    {
     "data": {
      "image/png": "[encoded data removed]",
      "text/plain": [
       "<Figure size 1440x1152 with 25 Axes>"
      ]
     },
     "metadata": {
      "needs_background": "light"
     },
     "output_type": "display_data"
    }
   ],
   "source": [
    "data[num_cols].hist(figsize=(20, 16))"
   ]
  },
  {
   "cell_type": "markdown",
   "id": "b4937520",
   "metadata": {
    "papermill": {
     "duration": 0.122954,
     "end_time": "2022-10-11T06:20:05.504682",
     "exception": false,
     "start_time": "2022-10-11T06:20:05.381728",
     "status": "completed"
    },
    "tags": []
   },
   "source": [
    "# Отсюда начнём пихать в модель разные данные и смотреть как изменится метрика.\n",
    "\n",
    "## Step_1\n",
    "\n",
    "### * Контрольный (нет доп. очистки и доп. обработки) MAPE: 12.74\n",
    "### * Удалим мультиколлинеарные признаки MAPE: 12.779939207479895 - стало хуже. вернём всё в зад.\n",
    "### * **Логорифмируем данные распределённые логнормально MAPE: 12.738906486321675 - чуть лучше контрольки. берём этот вариант**\n",
    "### * Стандартизируем числовые данные MAPE: 1040.2069916720748 - совсем плохо, надо чуть поаккуратнее стандартизировать\n",
    "\n",
    "## Step_2\n",
    "\n",
    "### * Контрольный MAPE: 12.737955048288663\n",
    "### * С удалением признаков со значимостью < 250 MAPE: 12.751361683049264 - разочарование\n",
    "### * С удалением признаков со значимостью < 350 MAPE: 12.777404673536669 - ясно, бл\n",
    "### * С удалением признаков со значимостью < 150 MAPE: 12.74567173911459 - удаление признаков не работает.\n"
   ]
  },
  {
   "cell_type": "code",
   "execution_count": 78,
   "id": "540f5a1e",
   "metadata": {
    "execution": {
     "iopub.execute_input": "2022-10-11T06:20:05.754364Z",
     "iopub.status.busy": "2022-10-11T06:20:05.753604Z",
     "iopub.status.idle": "2022-10-11T06:20:05.939546Z",
     "shell.execute_reply": "2022-10-11T06:20:05.940195Z",
     "shell.execute_reply.started": "2022-10-11T06:00:38.370023Z"
    },
    "papermill": {
     "duration": 0.311964,
     "end_time": "2022-10-11T06:20:05.940437",
     "exception": false,
     "start_time": "2022-10-11T06:20:05.628473",
     "status": "completed"
    },
    "tags": []
   },
   "outputs": [],
   "source": [
    "# backup\n",
    "data_9 = data.copy()"
   ]
  },
  {
   "cell_type": "markdown",
   "id": "a35c0acd",
   "metadata": {
    "papermill": {
     "duration": 0.121044,
     "end_time": "2022-10-11T06:20:06.184997",
     "exception": false,
     "start_time": "2022-10-11T06:20:06.063953",
     "status": "completed"
    },
    "tags": []
   },
   "source": [
    "# 10. Обучение модели. Метрика. Submission <a class=\"anchor\" id=10></a> <a id=\"8\"></a> <br>\n",
    "\n",
    "[к содержанию](#0)\n",
    "\n",
    "## В модель загружаем данные которые показали лучший результат (определённый на предыдущем этапе). "
   ]
  },
  {
   "cell_type": "code",
   "execution_count": 79,
   "id": "1ab4d80c",
   "metadata": {
    "execution": {
     "iopub.execute_input": "2022-10-11T06:20:06.433458Z",
     "iopub.status.busy": "2022-10-11T06:20:06.432273Z",
     "iopub.status.idle": "2022-10-11T06:20:07.071249Z",
     "shell.execute_reply": "2022-10-11T06:20:07.070259Z",
     "shell.execute_reply.started": "2022-10-11T06:00:41.297806Z"
    },
    "papermill": {
     "duration": 0.764575,
     "end_time": "2022-10-11T06:20:07.071496",
     "exception": false,
     "start_time": "2022-10-11T06:20:06.306921",
     "status": "completed"
    },
    "tags": []
   },
   "outputs": [],
   "source": [
    "# Теперь выделим тестовую часть\n",
    "train_data = data.query('sample == 1').drop(['sample'], axis=1)\n",
    "test_data = data.query('sample == 0').drop(['sample'], axis=1)\n",
    "\n",
    "y = train_data.reviewer_score.values            # наш таргет\n",
    "X = train_data.drop(['reviewer_score'], axis=1)"
   ]
  },
  {
   "cell_type": "code",
   "execution_count": 80,
   "id": "e35f6d43",
   "metadata": {
    "execution": {
     "iopub.execute_input": "2022-10-11T06:20:07.333563Z",
     "iopub.status.busy": "2022-10-11T06:20:07.332738Z",
     "iopub.status.idle": "2022-10-11T06:20:07.814831Z",
     "shell.execute_reply": "2022-10-11T06:20:07.814005Z",
     "shell.execute_reply.started": "2022-10-11T06:00:43.772217Z"
    },
    "papermill": {
     "duration": 0.610288,
     "end_time": "2022-10-11T06:20:07.815015",
     "exception": false,
     "start_time": "2022-10-11T06:20:07.204727",
     "status": "completed"
    },
    "tags": []
   },
   "outputs": [],
   "source": [
    "# Воспользуемся специальной функцие train_test_split для разбивки тестовых данных\n",
    "# выделим 20% данных на валидацию (параметр test_size)\n",
    "X_train, X_test, y_train, y_test = train_test_split(X, y, test_size=0.20, random_state=RANDOM_SEED)"
   ]
  },
  {
   "cell_type": "code",
   "execution_count": 81,
   "id": "481da1e3",
   "metadata": {
    "execution": {
     "iopub.execute_input": "2022-10-11T06:20:08.076755Z",
     "iopub.status.busy": "2022-10-11T06:20:08.075961Z",
     "iopub.status.idle": "2022-10-11T06:20:08.078944Z",
     "shell.execute_reply": "2022-10-11T06:20:08.079574Z",
     "shell.execute_reply.started": "2022-10-11T06:00:46.138245Z"
    },
    "papermill": {
     "duration": 0.137059,
     "end_time": "2022-10-11T06:20:08.079793",
     "exception": false,
     "start_time": "2022-10-11T06:20:07.942734",
     "status": "completed"
    },
    "tags": []
   },
   "outputs": [
    {
     "data": {
      "text/plain": [
       "((128935, 88), (386496, 88), (386496, 87), (309196, 87), (77300, 87))"
      ]
     },
     "execution_count": 81,
     "metadata": {},
     "output_type": "execute_result"
    }
   ],
   "source": [
    "# проверяем\n",
    "test_data.shape, train_data.shape, X.shape, X_train.shape, X_test.shape"
   ]
  },
  {
   "cell_type": "code",
   "execution_count": 82,
   "id": "0f51fd99",
   "metadata": {
    "execution": {
     "iopub.execute_input": "2022-10-11T06:20:08.332490Z",
     "iopub.status.busy": "2022-10-11T06:20:08.331662Z",
     "iopub.status.idle": "2022-10-11T06:20:08.336602Z",
     "shell.execute_reply": "2022-10-11T06:20:08.337195Z",
     "shell.execute_reply.started": "2022-10-11T06:00:48.175145Z"
    },
    "papermill": {
     "duration": 0.133438,
     "end_time": "2022-10-11T06:20:08.337461",
     "exception": false,
     "start_time": "2022-10-11T06:20:08.204023",
     "status": "completed"
    },
    "tags": []
   },
   "outputs": [],
   "source": [
    "# Импортируем необходимые библиотеки:\n",
    "from sklearn.ensemble import RandomForestRegressor # инструмент для создания и обучения модели\n",
    "from sklearn import metrics # инструменты для оценки точности модели"
   ]
  },
  {
   "cell_type": "code",
   "execution_count": 83,
   "id": "0e4a1df7",
   "metadata": {
    "execution": {
     "iopub.execute_input": "2022-10-11T06:20:08.599794Z",
     "iopub.status.busy": "2022-10-11T06:20:08.598660Z",
     "iopub.status.idle": "2022-10-11T06:20:08.601127Z",
     "shell.execute_reply": "2022-10-11T06:20:08.601850Z",
     "shell.execute_reply.started": "2022-10-11T06:00:49.869353Z"
    },
    "papermill": {
     "duration": 0.140278,
     "end_time": "2022-10-11T06:20:08.602082",
     "exception": false,
     "start_time": "2022-10-11T06:20:08.461804",
     "status": "completed"
    },
    "tags": []
   },
   "outputs": [],
   "source": [
    "# Создаём модель (НАСТРОЙКИ НЕ ТРОГАЕМ)\n",
    "model = RandomForestRegressor(n_estimators=100, verbose=1, n_jobs=-1, random_state=RANDOM_SEED)"
   ]
  },
  {
   "cell_type": "code",
   "execution_count": 84,
   "id": "49cf0215",
   "metadata": {
    "execution": {
     "iopub.execute_input": "2022-10-11T06:20:08.877936Z",
     "iopub.status.busy": "2022-10-11T06:20:08.876079Z",
     "iopub.status.idle": "2022-10-11T06:27:13.564363Z",
     "shell.execute_reply": "2022-10-11T06:27:13.563672Z",
     "shell.execute_reply.started": "2022-10-11T06:00:52.344259Z"
    },
    "papermill": {
     "duration": 424.821826,
     "end_time": "2022-10-11T06:27:13.564550",
     "exception": false,
     "start_time": "2022-10-11T06:20:08.742724",
     "status": "completed"
    },
    "tags": []
   },
   "outputs": [
    {
     "name": "stderr",
     "output_type": "stream",
     "text": [
      "[Parallel(n_jobs=-1)]: Using backend ThreadingBackend with 4 concurrent workers.\n",
      "[Parallel(n_jobs=-1)]: Done  42 tasks      | elapsed:  3.1min\n",
      "[Parallel(n_jobs=-1)]: Done 100 out of 100 | elapsed:  7.0min finished\n",
      "[Parallel(n_jobs=4)]: Using backend ThreadingBackend with 4 concurrent workers.\n",
      "[Parallel(n_jobs=4)]: Done  42 tasks      | elapsed:    1.2s\n"
     ]
    },
    {
     "name": "stdout",
     "output_type": "stream",
     "text": [
      "CPU times: user 27min 27s, sys: 5.23 s, total: 27min 33s\n",
      "Wall time: 7min 4s\n"
     ]
    },
    {
     "name": "stderr",
     "output_type": "stream",
     "text": [
      "[Parallel(n_jobs=4)]: Done 100 out of 100 | elapsed:    2.4s finished\n"
     ]
    }
   ],
   "source": [
    "%%time\n",
    "# Обучаем модель на тестовом наборе данных\n",
    "model.fit(X_train, y_train)\n",
    "\n",
    "# Используем обученную модель для предсказания рейтинга ресторанов в тестовой выборке.\n",
    "# Предсказанные значения записываем в переменную y_pred\n",
    "y_pred = model.predict(X_test)"
   ]
  },
  {
   "cell_type": "code",
   "execution_count": 85,
   "id": "06dddfb6",
   "metadata": {
    "execution": {
     "iopub.execute_input": "2022-10-11T06:27:13.826988Z",
     "iopub.status.busy": "2022-10-11T06:27:13.826168Z",
     "iopub.status.idle": "2022-10-11T06:27:13.830682Z",
     "shell.execute_reply": "2022-10-11T06:27:13.829917Z",
     "shell.execute_reply.started": "2022-10-11T06:06:56.603270Z"
    },
    "papermill": {
     "duration": 0.138071,
     "end_time": "2022-10-11T06:27:13.830903",
     "exception": false,
     "start_time": "2022-10-11T06:27:13.692832",
     "status": "completed"
    },
    "tags": []
   },
   "outputs": [
    {
     "name": "stdout",
     "output_type": "stream",
     "text": [
      "MAE: 0.8857383398016382\n"
     ]
    }
   ],
   "source": [
    "# Сравниваем предсказанные значения (y_pred) с реальными (y_test), и смотрим насколько они в среднем отличаются\n",
    "# Метрика называется Mean Absolute Error (MAE) и показывает среднее отклонение предсказанных значений от фактических.\n",
    "print('MAE:', metrics.mean_absolute_error(y_test, y_pred))"
   ]
  },
  {
   "cell_type": "code",
   "execution_count": 86,
   "id": "9c530b3c",
   "metadata": {
    "execution": {
     "iopub.execute_input": "2022-10-11T06:27:14.098378Z",
     "iopub.status.busy": "2022-10-11T06:27:14.097561Z",
     "iopub.status.idle": "2022-10-11T06:27:14.103638Z",
     "shell.execute_reply": "2022-10-11T06:27:14.102662Z",
     "shell.execute_reply.started": "2022-10-11T06:06:58.748896Z"
    },
    "papermill": {
     "duration": 0.143579,
     "end_time": "2022-10-11T06:27:14.103902",
     "exception": false,
     "start_time": "2022-10-11T06:27:13.960323",
     "status": "completed"
    },
    "tags": []
   },
   "outputs": [
    {
     "name": "stdout",
     "output_type": "stream",
     "text": [
      "MAPE: 12.738906486321675\n"
     ]
    }
   ],
   "source": [
    "# сравниваем предсказанные значения (y_pred) с реальными (y_test), \n",
    "# метрика Mean Absolute Percentage Error (MAPE) показывает среднюю абсолютную \n",
    "# процентную ошибку предсказанных значений от фактических:\n",
    "\n",
    "def mean_absolute_percentage_error(y_tr, y_pr):\n",
    "    \"\"\"Получение средней абсолютной ошибки\"\"\"\n",
    "    y_tr, y_pr = np.array(y_tr), np.array(y_pr)\n",
    "    return np.mean(np.abs((y_tr - y_pr) / y_tr)) * 100\n",
    "\n",
    "print('MAPE:', mean_absolute_percentage_error(y_test, y_pred))"
   ]
  },
  {
   "cell_type": "code",
   "execution_count": 87,
   "id": "65d3cafa",
   "metadata": {
    "execution": {
     "iopub.execute_input": "2022-10-11T06:27:14.363823Z",
     "iopub.status.busy": "2022-10-11T06:27:14.363028Z",
     "iopub.status.idle": "2022-10-11T06:27:15.033242Z",
     "shell.execute_reply": "2022-10-11T06:27:15.033820Z",
     "shell.execute_reply.started": "2022-10-11T06:07:02.008205Z"
    },
    "papermill": {
     "duration": 0.802293,
     "end_time": "2022-10-11T06:27:15.034039",
     "exception": false,
     "start_time": "2022-10-11T06:27:14.231746",
     "status": "completed"
    },
    "tags": []
   },
   "outputs": [
    {
     "data": {
      "text/plain": [
       "<AxesSubplot:>"
      ]
     },
     "execution_count": 87,
     "metadata": {},
     "output_type": "execute_result"
    },
    {
     "data": {
      "image/png": "[encoded data removed]",
      "text/plain": [
       "<Figure size 720x720 with 1 Axes>"
      ]
     },
     "metadata": {
      "needs_background": "light"
     },
     "output_type": "display_data"
    }
   ],
   "source": [
    "# в RandomForestRegressor есть возможность вывести самые важные признаки для модели\n",
    "plt.rcParams['figure.figsize'] = (10,10)\n",
    "feat_importances = pd.Series(model.feature_importances_, index=X.columns)\n",
    "feat_importances.nlargest(30).plot(kind='barh')"
   ]
  },
  {
   "cell_type": "code",
   "execution_count": 88,
   "id": "60b0323f",
   "metadata": {
    "execution": {
     "iopub.execute_input": "2022-10-11T06:27:15.298382Z",
     "iopub.status.busy": "2022-10-11T06:27:15.297451Z",
     "iopub.status.idle": "2022-10-11T06:27:15.336258Z",
     "shell.execute_reply": "2022-10-11T06:27:15.336845Z",
     "shell.execute_reply.started": "2022-10-11T06:07:12.566501Z"
    },
    "papermill": {
     "duration": 0.173238,
     "end_time": "2022-10-11T06:27:15.337065",
     "exception": false,
     "start_time": "2022-10-11T06:27:15.163827",
     "status": "completed"
    },
    "tags": []
   },
   "outputs": [
    {
     "data": {
      "text/html": [
       "<div>\n",
       "<style scoped>\n",
       "    .dataframe tbody tr th:only-of-type {\n",
       "        vertical-align: middle;\n",
       "    }\n",
       "\n",
       "    .dataframe tbody tr th {\n",
       "        vertical-align: top;\n",
       "    }\n",
       "\n",
       "    .dataframe thead th {\n",
       "        text-align: right;\n",
       "    }\n",
       "</style>\n",
       "<table border=\"1\" class=\"dataframe\">\n",
       "  <thead>\n",
       "    <tr style=\"text-align: right;\">\n",
       "      <th></th>\n",
       "      <th>additional_number_of_scoring</th>\n",
       "      <th>average_score</th>\n",
       "      <th>negative_review</th>\n",
       "      <th>review_total_negative_word_counts</th>\n",
       "      <th>total_number_of_reviews</th>\n",
       "      <th>positive_review</th>\n",
       "      <th>review_total_positive_word_counts</th>\n",
       "      <th>total_number_of_reviews_reviewer_has_given</th>\n",
       "      <th>days_since_review</th>\n",
       "      <th>reviewer_score</th>\n",
       "      <th>...</th>\n",
       "      <th>room_type_4</th>\n",
       "      <th>room_type_5</th>\n",
       "      <th>review_total_word_counts</th>\n",
       "      <th>review_words_proportion</th>\n",
       "      <th>negative_polarity</th>\n",
       "      <th>negative_subjectivity</th>\n",
       "      <th>positive_polarity</th>\n",
       "      <th>positive_subjectivity</th>\n",
       "      <th>negative_pol_sub</th>\n",
       "      <th>positive_pol_sub</th>\n",
       "    </tr>\n",
       "  </thead>\n",
       "  <tbody>\n",
       "    <tr>\n",
       "      <th>67921</th>\n",
       "      <td>5.811141</td>\n",
       "      <td>8.0</td>\n",
       "      <td>1</td>\n",
       "      <td>1.791759</td>\n",
       "      <td>2.182435</td>\n",
       "      <td>1</td>\n",
       "      <td>1.386294</td>\n",
       "      <td>1.791759</td>\n",
       "      <td>369</td>\n",
       "      <td>0.0</td>\n",
       "      <td>...</td>\n",
       "      <td>0</td>\n",
       "      <td>1</td>\n",
       "      <td>2.197225</td>\n",
       "      <td>0.916291</td>\n",
       "      <td>-0.50</td>\n",
       "      <td>0.8</td>\n",
       "      <td>0.000000</td>\n",
       "      <td>0.000000</td>\n",
       "      <td>-0.40</td>\n",
       "      <td>0.000000</td>\n",
       "    </tr>\n",
       "    <tr>\n",
       "      <th>118540</th>\n",
       "      <td>3.850148</td>\n",
       "      <td>9.0</td>\n",
       "      <td>0</td>\n",
       "      <td>0.000000</td>\n",
       "      <td>1.976108</td>\n",
       "      <td>1</td>\n",
       "      <td>3.295837</td>\n",
       "      <td>1.098612</td>\n",
       "      <td>471</td>\n",
       "      <td>0.0</td>\n",
       "      <td>...</td>\n",
       "      <td>0</td>\n",
       "      <td>0</td>\n",
       "      <td>3.295837</td>\n",
       "      <td>0.036368</td>\n",
       "      <td>0.15</td>\n",
       "      <td>0.4</td>\n",
       "      <td>0.408611</td>\n",
       "      <td>0.671667</td>\n",
       "      <td>0.06</td>\n",
       "      <td>0.274450</td>\n",
       "    </tr>\n",
       "    <tr>\n",
       "      <th>74608</th>\n",
       "      <td>5.971262</td>\n",
       "      <td>8.8</td>\n",
       "      <td>1</td>\n",
       "      <td>3.091042</td>\n",
       "      <td>2.237744</td>\n",
       "      <td>1</td>\n",
       "      <td>3.044522</td>\n",
       "      <td>1.945910</td>\n",
       "      <td>665</td>\n",
       "      <td>0.0</td>\n",
       "      <td>...</td>\n",
       "      <td>1</td>\n",
       "      <td>1</td>\n",
       "      <td>3.737670</td>\n",
       "      <td>0.716678</td>\n",
       "      <td>0.00</td>\n",
       "      <td>0.0</td>\n",
       "      <td>0.415000</td>\n",
       "      <td>0.660000</td>\n",
       "      <td>0.00</td>\n",
       "      <td>0.273900</td>\n",
       "    </tr>\n",
       "    <tr>\n",
       "      <th>15379</th>\n",
       "      <td>4.330733</td>\n",
       "      <td>8.9</td>\n",
       "      <td>1</td>\n",
       "      <td>1.386294</td>\n",
       "      <td>1.972450</td>\n",
       "      <td>1</td>\n",
       "      <td>1.098612</td>\n",
       "      <td>2.302585</td>\n",
       "      <td>702</td>\n",
       "      <td>0.0</td>\n",
       "      <td>...</td>\n",
       "      <td>0</td>\n",
       "      <td>0</td>\n",
       "      <td>1.791759</td>\n",
       "      <td>0.847298</td>\n",
       "      <td>-0.25</td>\n",
       "      <td>0.4</td>\n",
       "      <td>0.000000</td>\n",
       "      <td>0.000000</td>\n",
       "      <td>-0.10</td>\n",
       "      <td>0.000000</td>\n",
       "    </tr>\n",
       "    <tr>\n",
       "      <th>55501</th>\n",
       "      <td>5.225747</td>\n",
       "      <td>9.4</td>\n",
       "      <td>0</td>\n",
       "      <td>0.000000</td>\n",
       "      <td>2.104731</td>\n",
       "      <td>1</td>\n",
       "      <td>2.197225</td>\n",
       "      <td>2.302585</td>\n",
       "      <td>675</td>\n",
       "      <td>0.0</td>\n",
       "      <td>...</td>\n",
       "      <td>0</td>\n",
       "      <td>1</td>\n",
       "      <td>2.197225</td>\n",
       "      <td>0.105361</td>\n",
       "      <td>0.15</td>\n",
       "      <td>0.4</td>\n",
       "      <td>0.200000</td>\n",
       "      <td>0.300000</td>\n",
       "      <td>0.06</td>\n",
       "      <td>0.060000</td>\n",
       "    </tr>\n",
       "    <tr>\n",
       "      <th>68852</th>\n",
       "      <td>6.278521</td>\n",
       "      <td>8.6</td>\n",
       "      <td>1</td>\n",
       "      <td>3.135494</td>\n",
       "      <td>2.236553</td>\n",
       "      <td>1</td>\n",
       "      <td>1.791759</td>\n",
       "      <td>5.062595</td>\n",
       "      <td>336</td>\n",
       "      <td>0.0</td>\n",
       "      <td>...</td>\n",
       "      <td>0</td>\n",
       "      <td>1</td>\n",
       "      <td>3.332205</td>\n",
       "      <td>1.575536</td>\n",
       "      <td>0.00</td>\n",
       "      <td>0.0</td>\n",
       "      <td>0.600000</td>\n",
       "      <td>1.000000</td>\n",
       "      <td>0.00</td>\n",
       "      <td>0.600000</td>\n",
       "    </tr>\n",
       "    <tr>\n",
       "      <th>60612</th>\n",
       "      <td>7.513164</td>\n",
       "      <td>8.1</td>\n",
       "      <td>1</td>\n",
       "      <td>3.496508</td>\n",
       "      <td>2.289368</td>\n",
       "      <td>0</td>\n",
       "      <td>0.000000</td>\n",
       "      <td>0.693147</td>\n",
       "      <td>625</td>\n",
       "      <td>0.0</td>\n",
       "      <td>...</td>\n",
       "      <td>0</td>\n",
       "      <td>1</td>\n",
       "      <td>3.496508</td>\n",
       "      <td>3.526361</td>\n",
       "      <td>-0.10</td>\n",
       "      <td>0.1</td>\n",
       "      <td>-0.113636</td>\n",
       "      <td>0.545455</td>\n",
       "      <td>-0.01</td>\n",
       "      <td>-0.061983</td>\n",
       "    </tr>\n",
       "    <tr>\n",
       "      <th>102111</th>\n",
       "      <td>7.275865</td>\n",
       "      <td>7.8</td>\n",
       "      <td>1</td>\n",
       "      <td>1.791759</td>\n",
       "      <td>2.267263</td>\n",
       "      <td>0</td>\n",
       "      <td>0.000000</td>\n",
       "      <td>0.693147</td>\n",
       "      <td>179</td>\n",
       "      <td>0.0</td>\n",
       "      <td>...</td>\n",
       "      <td>0</td>\n",
       "      <td>1</td>\n",
       "      <td>1.791759</td>\n",
       "      <td>1.945910</td>\n",
       "      <td>0.00</td>\n",
       "      <td>0.0</td>\n",
       "      <td>-0.113636</td>\n",
       "      <td>0.545455</td>\n",
       "      <td>0.00</td>\n",
       "      <td>-0.061983</td>\n",
       "    </tr>\n",
       "    <tr>\n",
       "      <th>103652</th>\n",
       "      <td>4.189655</td>\n",
       "      <td>8.1</td>\n",
       "      <td>1</td>\n",
       "      <td>3.258097</td>\n",
       "      <td>2.093284</td>\n",
       "      <td>0</td>\n",
       "      <td>0.000000</td>\n",
       "      <td>1.098612</td>\n",
       "      <td>22</td>\n",
       "      <td>0.0</td>\n",
       "      <td>...</td>\n",
       "      <td>0</td>\n",
       "      <td>1</td>\n",
       "      <td>3.258097</td>\n",
       "      <td>3.295837</td>\n",
       "      <td>0.00</td>\n",
       "      <td>0.0</td>\n",
       "      <td>-0.113636</td>\n",
       "      <td>0.545455</td>\n",
       "      <td>0.00</td>\n",
       "      <td>-0.061983</td>\n",
       "    </tr>\n",
       "    <tr>\n",
       "      <th>42325</th>\n",
       "      <td>4.510860</td>\n",
       "      <td>8.4</td>\n",
       "      <td>0</td>\n",
       "      <td>0.000000</td>\n",
       "      <td>2.019591</td>\n",
       "      <td>1</td>\n",
       "      <td>2.079442</td>\n",
       "      <td>1.098612</td>\n",
       "      <td>227</td>\n",
       "      <td>0.0</td>\n",
       "      <td>...</td>\n",
       "      <td>0</td>\n",
       "      <td>1</td>\n",
       "      <td>2.079442</td>\n",
       "      <td>0.117783</td>\n",
       "      <td>0.15</td>\n",
       "      <td>0.4</td>\n",
       "      <td>0.413889</td>\n",
       "      <td>0.650000</td>\n",
       "      <td>0.06</td>\n",
       "      <td>0.269028</td>\n",
       "    </tr>\n",
       "  </tbody>\n",
       "</table>\n",
       "<p>10 rows × 88 columns</p>\n",
       "</div>"
      ],
      "text/plain": [
       "        additional_number_of_scoring  average_score  negative_review  \\\n",
       "67921                       5.811141            8.0                1   \n",
       "118540                      3.850148            9.0                0   \n",
       "74608                       5.971262            8.8                1   \n",
       "15379                       4.330733            8.9                1   \n",
       "55501                       5.225747            9.4                0   \n",
       "68852                       6.278521            8.6                1   \n",
       "60612                       7.513164            8.1                1   \n",
       "102111                      7.275865            7.8                1   \n",
       "103652                      4.189655            8.1                1   \n",
       "42325                       4.510860            8.4                0   \n",
       "\n",
       "        review_total_negative_word_counts  total_number_of_reviews  \\\n",
       "67921                            1.791759                 2.182435   \n",
       "118540                           0.000000                 1.976108   \n",
       "74608                            3.091042                 2.237744   \n",
       "15379                            1.386294                 1.972450   \n",
       "55501                            0.000000                 2.104731   \n",
       "68852                            3.135494                 2.236553   \n",
       "60612                            3.496508                 2.289368   \n",
       "102111                           1.791759                 2.267263   \n",
       "103652                           3.258097                 2.093284   \n",
       "42325                            0.000000                 2.019591   \n",
       "\n",
       "        positive_review  review_total_positive_word_counts  \\\n",
       "67921                 1                           1.386294   \n",
       "118540                1                           3.295837   \n",
       "74608                 1                           3.044522   \n",
       "15379                 1                           1.098612   \n",
       "55501                 1                           2.197225   \n",
       "68852                 1                           1.791759   \n",
       "60612                 0                           0.000000   \n",
       "102111                0                           0.000000   \n",
       "103652                0                           0.000000   \n",
       "42325                 1                           2.079442   \n",
       "\n",
       "        total_number_of_reviews_reviewer_has_given  days_since_review  \\\n",
       "67921                                     1.791759                369   \n",
       "118540                                    1.098612                471   \n",
       "74608                                     1.945910                665   \n",
       "15379                                     2.302585                702   \n",
       "55501                                     2.302585                675   \n",
       "68852                                     5.062595                336   \n",
       "60612                                     0.693147                625   \n",
       "102111                                    0.693147                179   \n",
       "103652                                    1.098612                 22   \n",
       "42325                                     1.098612                227   \n",
       "\n",
       "        reviewer_score  ...  room_type_4  room_type_5  \\\n",
       "67921              0.0  ...            0            1   \n",
       "118540             0.0  ...            0            0   \n",
       "74608              0.0  ...            1            1   \n",
       "15379              0.0  ...            0            0   \n",
       "55501              0.0  ...            0            1   \n",
       "68852              0.0  ...            0            1   \n",
       "60612              0.0  ...            0            1   \n",
       "102111             0.0  ...            0            1   \n",
       "103652             0.0  ...            0            1   \n",
       "42325              0.0  ...            0            1   \n",
       "\n",
       "        review_total_word_counts  review_words_proportion  negative_polarity  \\\n",
       "67921                   2.197225                 0.916291              -0.50   \n",
       "118540                  3.295837                 0.036368               0.15   \n",
       "74608                   3.737670                 0.716678               0.00   \n",
       "15379                   1.791759                 0.847298              -0.25   \n",
       "55501                   2.197225                 0.105361               0.15   \n",
       "68852                   3.332205                 1.575536               0.00   \n",
       "60612                   3.496508                 3.526361              -0.10   \n",
       "102111                  1.791759                 1.945910               0.00   \n",
       "103652                  3.258097                 3.295837               0.00   \n",
       "42325                   2.079442                 0.117783               0.15   \n",
       "\n",
       "        negative_subjectivity  positive_polarity  positive_subjectivity  \\\n",
       "67921                     0.8           0.000000               0.000000   \n",
       "118540                    0.4           0.408611               0.671667   \n",
       "74608                     0.0           0.415000               0.660000   \n",
       "15379                     0.4           0.000000               0.000000   \n",
       "55501                     0.4           0.200000               0.300000   \n",
       "68852                     0.0           0.600000               1.000000   \n",
       "60612                     0.1          -0.113636               0.545455   \n",
       "102111                    0.0          -0.113636               0.545455   \n",
       "103652                    0.0          -0.113636               0.545455   \n",
       "42325                     0.4           0.413889               0.650000   \n",
       "\n",
       "        negative_pol_sub  positive_pol_sub  \n",
       "67921              -0.40          0.000000  \n",
       "118540              0.06          0.274450  \n",
       "74608               0.00          0.273900  \n",
       "15379              -0.10          0.000000  \n",
       "55501               0.06          0.060000  \n",
       "68852               0.00          0.600000  \n",
       "60612              -0.01         -0.061983  \n",
       "102111              0.00         -0.061983  \n",
       "103652              0.00         -0.061983  \n",
       "42325               0.06          0.269028  \n",
       "\n",
       "[10 rows x 88 columns]"
      ]
     },
     "execution_count": 88,
     "metadata": {},
     "output_type": "execute_result"
    }
   ],
   "source": [
    "test_data.sample(10)"
   ]
  },
  {
   "cell_type": "code",
   "execution_count": 89,
   "id": "c81df1c9",
   "metadata": {
    "execution": {
     "iopub.execute_input": "2022-10-11T06:27:15.603481Z",
     "iopub.status.busy": "2022-10-11T06:27:15.602177Z",
     "iopub.status.idle": "2022-10-11T06:27:15.641592Z",
     "shell.execute_reply": "2022-10-11T06:27:15.640929Z",
     "shell.execute_reply.started": "2022-10-11T06:07:14.705560Z"
    },
    "papermill": {
     "duration": 0.173937,
     "end_time": "2022-10-11T06:27:15.641828",
     "exception": false,
     "start_time": "2022-10-11T06:27:15.467891",
     "status": "completed"
    },
    "tags": []
   },
   "outputs": [],
   "source": [
    "test_data = test_data.drop(['reviewer_score'], axis=1)"
   ]
  },
  {
   "cell_type": "code",
   "execution_count": 90,
   "id": "ff94c00c",
   "metadata": {
    "execution": {
     "iopub.execute_input": "2022-10-11T06:27:15.914800Z",
     "iopub.status.busy": "2022-10-11T06:27:15.913770Z",
     "iopub.status.idle": "2022-10-11T06:27:15.917597Z",
     "shell.execute_reply": "2022-10-11T06:27:15.918129Z",
     "shell.execute_reply.started": "2022-10-11T06:07:16.169325Z"
    },
    "papermill": {
     "duration": 0.144916,
     "end_time": "2022-10-11T06:27:15.918354",
     "exception": false,
     "start_time": "2022-10-11T06:27:15.773438",
     "status": "completed"
    },
    "tags": []
   },
   "outputs": [
    {
     "data": {
      "text/html": [
       "<div>\n",
       "<style scoped>\n",
       "    .dataframe tbody tr th:only-of-type {\n",
       "        vertical-align: middle;\n",
       "    }\n",
       "\n",
       "    .dataframe tbody tr th {\n",
       "        vertical-align: top;\n",
       "    }\n",
       "\n",
       "    .dataframe thead th {\n",
       "        text-align: right;\n",
       "    }\n",
       "</style>\n",
       "<table border=\"1\" class=\"dataframe\">\n",
       "  <thead>\n",
       "    <tr style=\"text-align: right;\">\n",
       "      <th></th>\n",
       "      <th>reviewer_score</th>\n",
       "      <th>id</th>\n",
       "    </tr>\n",
       "  </thead>\n",
       "  <tbody>\n",
       "    <tr>\n",
       "      <th>0</th>\n",
       "      <td>1</td>\n",
       "      <td>488440</td>\n",
       "    </tr>\n",
       "    <tr>\n",
       "      <th>1</th>\n",
       "      <td>10</td>\n",
       "      <td>274649</td>\n",
       "    </tr>\n",
       "    <tr>\n",
       "      <th>2</th>\n",
       "      <td>3</td>\n",
       "      <td>374688</td>\n",
       "    </tr>\n",
       "    <tr>\n",
       "      <th>3</th>\n",
       "      <td>10</td>\n",
       "      <td>404352</td>\n",
       "    </tr>\n",
       "    <tr>\n",
       "      <th>4</th>\n",
       "      <td>9</td>\n",
       "      <td>451596</td>\n",
       "    </tr>\n",
       "    <tr>\n",
       "      <th>...</th>\n",
       "      <td>...</td>\n",
       "      <td>...</td>\n",
       "    </tr>\n",
       "    <tr>\n",
       "      <th>128930</th>\n",
       "      <td>7</td>\n",
       "      <td>495812</td>\n",
       "    </tr>\n",
       "    <tr>\n",
       "      <th>128931</th>\n",
       "      <td>1</td>\n",
       "      <td>315577</td>\n",
       "    </tr>\n",
       "    <tr>\n",
       "      <th>128932</th>\n",
       "      <td>3</td>\n",
       "      <td>511968</td>\n",
       "    </tr>\n",
       "    <tr>\n",
       "      <th>128933</th>\n",
       "      <td>6</td>\n",
       "      <td>303386</td>\n",
       "    </tr>\n",
       "    <tr>\n",
       "      <th>128934</th>\n",
       "      <td>5</td>\n",
       "      <td>103157</td>\n",
       "    </tr>\n",
       "  </tbody>\n",
       "</table>\n",
       "<p>128935 rows × 2 columns</p>\n",
       "</div>"
      ],
      "text/plain": [
       "        reviewer_score      id\n",
       "0                    1  488440\n",
       "1                   10  274649\n",
       "2                    3  374688\n",
       "3                   10  404352\n",
       "4                    9  451596\n",
       "...                ...     ...\n",
       "128930               7  495812\n",
       "128931               1  315577\n",
       "128932               3  511968\n",
       "128933               6  303386\n",
       "128934               5  103157\n",
       "\n",
       "[128935 rows x 2 columns]"
      ]
     },
     "execution_count": 90,
     "metadata": {},
     "output_type": "execute_result"
    }
   ],
   "source": [
    "sample_submission"
   ]
  },
  {
   "cell_type": "code",
   "execution_count": 91,
   "id": "6ec8a47e",
   "metadata": {
    "execution": {
     "iopub.execute_input": "2022-10-11T06:27:16.183541Z",
     "iopub.status.busy": "2022-10-11T06:27:16.182442Z",
     "iopub.status.idle": "2022-10-11T06:27:16.188764Z",
     "shell.execute_reply": "2022-10-11T06:27:16.189313Z",
     "shell.execute_reply.started": "2022-10-11T06:07:18.438818Z"
    },
    "papermill": {
     "duration": 0.140548,
     "end_time": "2022-10-11T06:27:16.189528",
     "exception": false,
     "start_time": "2022-10-11T06:27:16.048980",
     "status": "completed"
    },
    "tags": []
   },
   "outputs": [
    {
     "data": {
      "text/plain": [
       "(128935, 87)"
      ]
     },
     "execution_count": 91,
     "metadata": {},
     "output_type": "execute_result"
    }
   ],
   "source": [
    "test_data.shape"
   ]
  },
  {
   "cell_type": "code",
   "execution_count": 92,
   "id": "d624735f",
   "metadata": {
    "execution": {
     "iopub.execute_input": "2022-10-11T06:27:16.454339Z",
     "iopub.status.busy": "2022-10-11T06:27:16.453451Z",
     "iopub.status.idle": "2022-10-11T06:27:20.473644Z",
     "shell.execute_reply": "2022-10-11T06:27:20.474263Z",
     "shell.execute_reply.started": "2022-10-11T06:07:20.131644Z"
    },
    "papermill": {
     "duration": 4.155361,
     "end_time": "2022-10-11T06:27:20.474484",
     "exception": false,
     "start_time": "2022-10-11T06:27:16.319123",
     "status": "completed"
    },
    "tags": []
   },
   "outputs": [
    {
     "name": "stderr",
     "output_type": "stream",
     "text": [
      "[Parallel(n_jobs=4)]: Using backend ThreadingBackend with 4 concurrent workers.\n",
      "[Parallel(n_jobs=4)]: Done  42 tasks      | elapsed:    1.8s\n",
      "[Parallel(n_jobs=4)]: Done 100 out of 100 | elapsed:    3.9s finished\n"
     ]
    }
   ],
   "source": [
    "predict_submission = model.predict(test_data)"
   ]
  },
  {
   "cell_type": "code",
   "execution_count": 93,
   "id": "86d7a8a8",
   "metadata": {
    "execution": {
     "iopub.execute_input": "2022-10-11T06:27:20.743599Z",
     "iopub.status.busy": "2022-10-11T06:27:20.742525Z",
     "iopub.status.idle": "2022-10-11T06:27:21.030431Z",
     "shell.execute_reply": "2022-10-11T06:27:21.030993Z",
     "shell.execute_reply.started": "2022-10-11T06:07:29.338312Z"
    },
    "papermill": {
     "duration": 0.426514,
     "end_time": "2022-10-11T06:27:21.031228",
     "exception": false,
     "start_time": "2022-10-11T06:27:20.604714",
     "status": "completed"
    },
    "tags": []
   },
   "outputs": [
    {
     "data": {
      "text/html": [
       "<div>\n",
       "<style scoped>\n",
       "    .dataframe tbody tr th:only-of-type {\n",
       "        vertical-align: middle;\n",
       "    }\n",
       "\n",
       "    .dataframe tbody tr th {\n",
       "        vertical-align: top;\n",
       "    }\n",
       "\n",
       "    .dataframe thead th {\n",
       "        text-align: right;\n",
       "    }\n",
       "</style>\n",
       "<table border=\"1\" class=\"dataframe\">\n",
       "  <thead>\n",
       "    <tr style=\"text-align: right;\">\n",
       "      <th></th>\n",
       "      <th>reviewer_score</th>\n",
       "      <th>id</th>\n",
       "    </tr>\n",
       "  </thead>\n",
       "  <tbody>\n",
       "    <tr>\n",
       "      <th>0</th>\n",
       "      <td>8.718</td>\n",
       "      <td>488440</td>\n",
       "    </tr>\n",
       "    <tr>\n",
       "      <th>1</th>\n",
       "      <td>7.280</td>\n",
       "      <td>274649</td>\n",
       "    </tr>\n",
       "    <tr>\n",
       "      <th>2</th>\n",
       "      <td>8.324</td>\n",
       "      <td>374688</td>\n",
       "    </tr>\n",
       "    <tr>\n",
       "      <th>3</th>\n",
       "      <td>9.675</td>\n",
       "      <td>404352</td>\n",
       "    </tr>\n",
       "    <tr>\n",
       "      <th>4</th>\n",
       "      <td>9.525</td>\n",
       "      <td>451596</td>\n",
       "    </tr>\n",
       "    <tr>\n",
       "      <th>5</th>\n",
       "      <td>8.885</td>\n",
       "      <td>302161</td>\n",
       "    </tr>\n",
       "    <tr>\n",
       "      <th>6</th>\n",
       "      <td>8.299</td>\n",
       "      <td>317079</td>\n",
       "    </tr>\n",
       "    <tr>\n",
       "      <th>7</th>\n",
       "      <td>8.155</td>\n",
       "      <td>13963</td>\n",
       "    </tr>\n",
       "    <tr>\n",
       "      <th>8</th>\n",
       "      <td>8.712</td>\n",
       "      <td>159785</td>\n",
       "    </tr>\n",
       "    <tr>\n",
       "      <th>9</th>\n",
       "      <td>8.205</td>\n",
       "      <td>195089</td>\n",
       "    </tr>\n",
       "  </tbody>\n",
       "</table>\n",
       "</div>"
      ],
      "text/plain": [
       "   reviewer_score      id\n",
       "0           8.718  488440\n",
       "1           7.280  274649\n",
       "2           8.324  374688\n",
       "3           9.675  404352\n",
       "4           9.525  451596\n",
       "5           8.885  302161\n",
       "6           8.299  317079\n",
       "7           8.155   13963\n",
       "8           8.712  159785\n",
       "9           8.205  195089"
      ]
     },
     "execution_count": 93,
     "metadata": {},
     "output_type": "execute_result"
    }
   ],
   "source": [
    "sample_submission['reviewer_score'] = predict_submission\n",
    "sample_submission.to_csv('submission.csv', index=False)\n",
    "sample_submission.head(10)"
   ]
  }
 ],
 "metadata": {
  "kernelspec": {
   "display_name": "Python 3",
   "language": "python",
   "name": "python3"
  },
  "language_info": {
   "codemirror_mode": {
    "name": "ipython",
    "version": 3
   },
   "file_extension": ".py",
   "mimetype": "text/x-python",
   "name": "python",
   "nbconvert_exporter": "python",
   "pygments_lexer": "ipython3",
   "version": "3.7.12"
  },
  "papermill": {
   "default_parameters": {},
   "duration": 1159.501994,
   "end_time": "2022-10-11T06:27:23.776725",
   "environment_variables": {},
   "exception": null,
   "input_path": "__notebook__.ipynb",
   "output_path": "__notebook__.ipynb",
   "parameters": {},
   "start_time": "2022-10-11T06:08:04.274731",
   "version": "2.3.3"
  }
 },
 "nbformat": 4,
 "nbformat_minor": 5
}
