{
 "cells": [
  {
   "cell_type": "markdown",
   "id": "0f2fdf4e",
   "metadata": {
    "papermill": {
     "duration": 0.082907,
     "end_time": "2022-10-12T03:50:47.979830",
     "exception": false,
     "start_time": "2022-10-12T03:50:47.896923",
     "status": "completed"
    },
    "tags": []
   },
   "source": [
    "<img src=https://raw.githubusercontent.com/hoittoken/Python/master/Py/project_3/logo.png>"
   ]
  },
  {
   "cell_type": "markdown",
   "id": "934527ad",
   "metadata": {
    "papermill": {
     "duration": 0.085261,
     "end_time": "2022-10-12T03:50:48.149729",
     "exception": false,
     "start_time": "2022-10-12T03:50:48.064468",
     "status": "completed"
    },
    "tags": []
   },
   "source": [
    "# Содержание <a class=\"anchor\" id=0></a>\n",
    "\n",
    "* [1. Кейс. Задача. Метрика](#1)\n",
    "* [2. Библиотеки и загрузка данных](#2)\n",
    "* [3. Дубли и пропуски](#3)\n",
    "* [4. Признак *hotel_address*](#4)\n",
    "* [5. Признак *review_date*](#5)\n",
    "* [6. Признак *reviewer_nationality*](#6)\n",
    "* [7. Признак *tags*](#7)\n",
    "* [8. Лингвистический анализ](#8)\n",
    "* [9. Отбор признаков](#9)\n",
    "* [10. Обучение модели. Метрика. Submission](#10)"
   ]
  },
  {
   "cell_type": "markdown",
   "id": "9a72eb9e",
   "metadata": {
    "papermill": {
     "duration": 0.084978,
     "end_time": "2022-10-12T03:50:48.317398",
     "exception": false,
     "start_time": "2022-10-12T03:50:48.232420",
     "status": "completed"
    },
    "tags": []
   },
   "source": [
    "# 1. Кейс. Задача. Метрика <a class=\"anchor\" id=1></a> <a id=\"1\"></a> <br>\n",
    "\n",
    "[к содержанию](#0)\n",
    "\n",
    "### **Кейс**: Компании Booking борится с накруткой рейтингов отелей. \n",
    "\n",
    "### **Задача**: Выявить нечестные отели (те что накручивают рейтинг).\n",
    "\n",
    "### **Решение**: Построение модели предсказывающей рейтинг отеля на основание доступных данных. При значительном расхождении предсказанного с реальным рейтингом проводить более детальную проверку отеля.\n",
    "\n",
    "### **Метрика**: *`MAPE (mean absolute percentage error)`* , средняя абсолютная процентная ошибка между фактическими значениями и предсказанными значениями рейтинга отеля."
   ]
  },
  {
   "cell_type": "markdown",
   "id": "ec0fb0fc",
   "metadata": {
    "papermill": {
     "duration": 0.084124,
     "end_time": "2022-10-12T03:50:48.483529",
     "exception": false,
     "start_time": "2022-10-12T03:50:48.399405",
     "status": "completed"
    },
    "tags": []
   },
   "source": [
    "# 2. Библиотеки и загрузка данных <a class=\"anchor\" id=2></a> <a id=\"2\"></a> <br>\n",
    "\n",
    "[к содержанию](#0)"
   ]
  },
  {
   "cell_type": "code",
   "execution_count": 1,
   "id": "b3e623e6",
   "metadata": {
    "_cell_guid": "b1076dfc-b9ad-4769-8c92-a6c4dae69d19",
    "_uuid": "8f2839f25d086af736a60e9eeb907d3b93b6e0e5",
    "execution": {
     "iopub.execute_input": "2022-10-12T03:50:48.658933Z",
     "iopub.status.busy": "2022-10-12T03:50:48.657848Z",
     "iopub.status.idle": "2022-10-12T03:50:51.150892Z",
     "shell.execute_reply": "2022-10-12T03:50:51.149955Z",
     "shell.execute_reply.started": "2022-10-12T02:01:08.037652Z"
    },
    "papermill": {
     "duration": 2.58538,
     "end_time": "2022-10-12T03:50:51.151101",
     "exception": false,
     "start_time": "2022-10-12T03:50:48.565721",
     "status": "completed"
    },
    "tags": []
   },
   "outputs": [
    {
     "name": "stdout",
     "output_type": "stream",
     "text": [
      "/kaggle/input/sf-booking/hotels_test.csv\n",
      "/kaggle/input/sf-booking/hotels_train.csv\n",
      "/kaggle/input/sf-booking/submission.csv\n"
     ]
    }
   ],
   "source": [
    "# Импортируем основные библиотеки\n",
    "\n",
    "import numpy as np # linear algebra\n",
    "import pandas as pd # data processing, CSV file I/O (e.g. pd.read_csv)\n",
    "\n",
    "# для визуализаций\n",
    "import matplotlib.pyplot as plt\n",
    "import seaborn as sns \n",
    "%matplotlib inline\n",
    "\n",
    "# для определения расстояний\n",
    "from geopy.distance import geodesic\n",
    "\n",
    "# для кодирования\n",
    "import category_encoders as ce\n",
    "\n",
    "# для подсчёта всякого\n",
    "from collections import Counter\n",
    "\n",
    "# для определения тональности отзывов:\n",
    "from textblob import TextBlob \n",
    "\n",
    "# для разделения датасета:\n",
    "from sklearn.model_selection import train_test_split\n",
    "\n",
    "# инструменты для построения модели:\n",
    "from sklearn.ensemble import RandomForestRegressor # инструмент для создания и обучения модели\n",
    "from sklearn import metrics # инструменты для оценки точности модели\n",
    "\n",
    "# Input data files are available in the read-only \"../input/\" directory\n",
    "# For example, running this (by clicking run or pressing Shift+Enter) will list all files under the input directory\n",
    "\n",
    "import os\n",
    "for dirname, _, filenames in os.walk('/kaggle/input'):\n",
    "    for filename in filenames:\n",
    "        print(os.path.join(dirname, filename))\n",
    "\n",
    "# You can write up to 20GB to the current directory (/kaggle/working/) that gets preserved as output when you create a version using \"Save & Run All\" \n",
    "# You can also write temporary files to /kaggle/temp/, but they won't be saved outside of the current session"
   ]
  },
  {
   "cell_type": "markdown",
   "id": "ba6d73d7",
   "metadata": {
    "execution": {
     "iopub.execute_input": "2022-10-03T06:25:51.821858Z",
     "iopub.status.busy": "2022-10-03T06:25:51.821547Z",
     "iopub.status.idle": "2022-10-03T06:25:51.826255Z",
     "shell.execute_reply": "2022-10-03T06:25:51.825335Z",
     "shell.execute_reply.started": "2022-10-03T06:25:51.821823Z"
    },
    "papermill": {
     "duration": 0.081676,
     "end_time": "2022-10-12T03:50:51.315690",
     "exception": false,
     "start_time": "2022-10-12T03:50:51.234014",
     "status": "completed"
    },
    "tags": []
   },
   "source": [
    "## Определим некоторые константы\n"
   ]
  },
  {
   "cell_type": "code",
   "execution_count": 2,
   "id": "9df7747e",
   "metadata": {
    "execution": {
     "iopub.execute_input": "2022-10-12T03:50:51.481347Z",
     "iopub.status.busy": "2022-10-12T03:50:51.480589Z",
     "iopub.status.idle": "2022-10-12T03:50:51.484339Z",
     "shell.execute_reply": "2022-10-12T03:50:51.485059Z",
     "shell.execute_reply.started": "2022-10-12T02:01:10.730114Z"
    },
    "papermill": {
     "duration": 0.088483,
     "end_time": "2022-10-12T03:50:51.485260",
     "exception": false,
     "start_time": "2022-10-12T03:50:51.396777",
     "status": "completed"
    },
    "tags": []
   },
   "outputs": [],
   "source": [
    "# Зафиксируем random_seed\n",
    "RANDOM_SEED = 42\n",
    "\n",
    "# Зафиксируем требования\n",
    "#!pip freeze > requirements.txt"
   ]
  },
  {
   "cell_type": "code",
   "execution_count": 3,
   "id": "47cef03c",
   "metadata": {
    "execution": {
     "iopub.execute_input": "2022-10-12T03:50:51.655709Z",
     "iopub.status.busy": "2022-10-12T03:50:51.654913Z",
     "iopub.status.idle": "2022-10-12T03:50:58.614828Z",
     "shell.execute_reply": "2022-10-12T03:50:58.614114Z",
     "shell.execute_reply.started": "2022-10-12T02:01:10.736639Z"
    },
    "papermill": {
     "duration": 7.044389,
     "end_time": "2022-10-12T03:50:58.614982",
     "exception": false,
     "start_time": "2022-10-12T03:50:51.570593",
     "status": "completed"
    },
    "tags": []
   },
   "outputs": [],
   "source": [
    "# Подгрузим наши данные из соревнования\n",
    "\n",
    "DATA_DIR = '/kaggle/input/sf-booking/'\n",
    "df_train = pd.read_csv(DATA_DIR+'/hotels_train.csv') # датасет для обучения\n",
    "df_test = pd.read_csv(DATA_DIR+'hotels_test.csv') # датасет для предсказания\n",
    "sample_submission = pd.read_csv(DATA_DIR+'/submission.csv') # самбмишн"
   ]
  },
  {
   "cell_type": "code",
   "execution_count": 4,
   "id": "1868d6fa",
   "metadata": {
    "execution": {
     "iopub.execute_input": "2022-10-12T03:50:58.789024Z",
     "iopub.status.busy": "2022-10-12T03:50:58.788013Z",
     "iopub.status.idle": "2022-10-12T03:50:58.967436Z",
     "shell.execute_reply": "2022-10-12T03:50:58.968463Z",
     "shell.execute_reply.started": "2022-10-12T02:01:17.803794Z"
    },
    "papermill": {
     "duration": 0.270145,
     "end_time": "2022-10-12T03:50:58.968738",
     "exception": false,
     "start_time": "2022-10-12T03:50:58.698593",
     "status": "completed"
    },
    "tags": []
   },
   "outputs": [
    {
     "name": "stdout",
     "output_type": "stream",
     "text": [
      "<class 'pandas.core.frame.DataFrame'>\n",
      "RangeIndex: 386803 entries, 0 to 386802\n",
      "Data columns (total 17 columns):\n",
      " #   Column                                      Non-Null Count   Dtype  \n",
      "---  ------                                      --------------   -----  \n",
      " 0   hotel_address                               386803 non-null  object \n",
      " 1   additional_number_of_scoring                386803 non-null  int64  \n",
      " 2   review_date                                 386803 non-null  object \n",
      " 3   average_score                               386803 non-null  float64\n",
      " 4   hotel_name                                  386803 non-null  object \n",
      " 5   reviewer_nationality                        386803 non-null  object \n",
      " 6   negative_review                             386803 non-null  object \n",
      " 7   review_total_negative_word_counts           386803 non-null  int64  \n",
      " 8   total_number_of_reviews                     386803 non-null  int64  \n",
      " 9   positive_review                             386803 non-null  object \n",
      " 10  review_total_positive_word_counts           386803 non-null  int64  \n",
      " 11  total_number_of_reviews_reviewer_has_given  386803 non-null  int64  \n",
      " 12  reviewer_score                              386803 non-null  float64\n",
      " 13  tags                                        386803 non-null  object \n",
      " 14  days_since_review                           386803 non-null  object \n",
      " 15  lat                                         384355 non-null  float64\n",
      " 16  lng                                         384355 non-null  float64\n",
      "dtypes: float64(4), int64(5), object(8)\n",
      "memory usage: 50.2+ MB\n"
     ]
    }
   ],
   "source": [
    "df_train.info()"
   ]
  },
  {
   "cell_type": "code",
   "execution_count": 5,
   "id": "86a29d2a",
   "metadata": {
    "execution": {
     "iopub.execute_input": "2022-10-12T03:50:59.141587Z",
     "iopub.status.busy": "2022-10-12T03:50:59.140509Z",
     "iopub.status.idle": "2022-10-12T03:50:59.207371Z",
     "shell.execute_reply": "2022-10-12T03:50:59.206627Z",
     "shell.execute_reply.started": "2022-10-12T02:01:17.992703Z"
    },
    "papermill": {
     "duration": 0.156333,
     "end_time": "2022-10-12T03:50:59.207530",
     "exception": false,
     "start_time": "2022-10-12T03:50:59.051197",
     "status": "completed"
    },
    "tags": []
   },
   "outputs": [
    {
     "name": "stdout",
     "output_type": "stream",
     "text": [
      "<class 'pandas.core.frame.DataFrame'>\n",
      "RangeIndex: 128935 entries, 0 to 128934\n",
      "Data columns (total 16 columns):\n",
      " #   Column                                      Non-Null Count   Dtype  \n",
      "---  ------                                      --------------   -----  \n",
      " 0   hotel_address                               128935 non-null  object \n",
      " 1   additional_number_of_scoring                128935 non-null  int64  \n",
      " 2   review_date                                 128935 non-null  object \n",
      " 3   average_score                               128935 non-null  float64\n",
      " 4   hotel_name                                  128935 non-null  object \n",
      " 5   reviewer_nationality                        128935 non-null  object \n",
      " 6   negative_review                             128935 non-null  object \n",
      " 7   review_total_negative_word_counts           128935 non-null  int64  \n",
      " 8   total_number_of_reviews                     128935 non-null  int64  \n",
      " 9   positive_review                             128935 non-null  object \n",
      " 10  review_total_positive_word_counts           128935 non-null  int64  \n",
      " 11  total_number_of_reviews_reviewer_has_given  128935 non-null  int64  \n",
      " 12  tags                                        128935 non-null  object \n",
      " 13  days_since_review                           128935 non-null  object \n",
      " 14  lat                                         128115 non-null  float64\n",
      " 15  lng                                         128115 non-null  float64\n",
      "dtypes: float64(3), int64(5), object(8)\n",
      "memory usage: 15.7+ MB\n"
     ]
    }
   ],
   "source": [
    "df_test.info()"
   ]
  },
  {
   "cell_type": "code",
   "execution_count": 6,
   "id": "c70476ca",
   "metadata": {
    "execution": {
     "iopub.execute_input": "2022-10-12T03:50:59.381733Z",
     "iopub.status.busy": "2022-10-12T03:50:59.380903Z",
     "iopub.status.idle": "2022-10-12T03:50:59.393372Z",
     "shell.execute_reply": "2022-10-12T03:50:59.392504Z",
     "shell.execute_reply.started": "2022-10-12T02:01:18.062922Z"
    },
    "papermill": {
     "duration": 0.10222,
     "end_time": "2022-10-12T03:50:59.393623",
     "exception": false,
     "start_time": "2022-10-12T03:50:59.291403",
     "status": "completed"
    },
    "tags": []
   },
   "outputs": [
    {
     "name": "stdout",
     "output_type": "stream",
     "text": [
      "<class 'pandas.core.frame.DataFrame'>\n",
      "RangeIndex: 128935 entries, 0 to 128934\n",
      "Data columns (total 2 columns):\n",
      " #   Column          Non-Null Count   Dtype\n",
      "---  ------          --------------   -----\n",
      " 0   reviewer_score  128935 non-null  int64\n",
      " 1   id              128935 non-null  int64\n",
      "dtypes: int64(2)\n",
      "memory usage: 2.0 MB\n"
     ]
    }
   ],
   "source": [
    "sample_submission.info()"
   ]
  },
  {
   "cell_type": "markdown",
   "id": "4ed58614",
   "metadata": {
    "papermill": {
     "duration": 0.085824,
     "end_time": "2022-10-12T03:50:59.562937",
     "exception": false,
     "start_time": "2022-10-12T03:50:59.477113",
     "status": "completed"
    },
    "tags": []
   },
   "source": [
    "# 3. Дубли и пропуски <a class=\"anchor\" id=3></a> <a id=\"3\"></a> <br>\n",
    "\n",
    "[к содержанию](#0)\n",
    "\n",
    "### Проверим на дубли тренировочный и тестовый сеты"
   ]
  },
  {
   "cell_type": "code",
   "execution_count": 7,
   "id": "bbd1a520",
   "metadata": {
    "execution": {
     "iopub.execute_input": "2022-10-12T03:50:59.734715Z",
     "iopub.status.busy": "2022-10-12T03:50:59.733708Z",
     "iopub.status.idle": "2022-10-12T03:51:00.987042Z",
     "shell.execute_reply": "2022-10-12T03:51:00.987668Z",
     "shell.execute_reply.started": "2022-10-12T02:01:18.078887Z"
    },
    "papermill": {
     "duration": 1.338931,
     "end_time": "2022-10-12T03:51:00.987878",
     "exception": false,
     "start_time": "2022-10-12T03:50:59.648947",
     "status": "completed"
    },
    "tags": []
   },
   "outputs": [
    {
     "name": "stdout",
     "output_type": "stream",
     "text": [
      "Количество дублей в тренировочном сете: 307\n",
      "Количество дублей в тестовом сете: 29\n"
     ]
    }
   ],
   "source": [
    "print(f'Количество дублей в тренировочном сете: {df_train[df_train.duplicated()].shape[0]}')\n",
    "print(f'Количество дублей в тестовом сете: {df_test[df_test.duplicated()].shape[0]}')"
   ]
  },
  {
   "cell_type": "markdown",
   "id": "02a81e22",
   "metadata": {
    "papermill": {
     "duration": 0.089833,
     "end_time": "2022-10-12T03:51:01.163301",
     "exception": false,
     "start_time": "2022-10-12T03:51:01.073468",
     "status": "completed"
    },
    "tags": []
   },
   "source": [
    "### Из тренировочного сета дубли удаляем, с тестовым сложнее. На него завязан финальный сабмит, пока оставим как есть.\n",
    "\n",
    "<img src=https://raw.githubusercontent.com/hoittoken/Python/master/Py/project_3/mem_1.png>"
   ]
  },
  {
   "cell_type": "code",
   "execution_count": 8,
   "id": "f3be125e",
   "metadata": {
    "execution": {
     "iopub.execute_input": "2022-10-12T03:51:01.361821Z",
     "iopub.status.busy": "2022-10-12T03:51:01.347290Z",
     "iopub.status.idle": "2022-10-12T03:51:02.347718Z",
     "shell.execute_reply": "2022-10-12T03:51:02.348224Z",
     "shell.execute_reply.started": "2022-10-12T02:01:19.299223Z"
    },
    "papermill": {
     "duration": 1.095966,
     "end_time": "2022-10-12T03:51:02.348449",
     "exception": false,
     "start_time": "2022-10-12T03:51:01.252483",
     "status": "completed"
    },
    "tags": []
   },
   "outputs": [],
   "source": [
    "# Безжалостно удалим дубли в тренировочном сете\n",
    "df_train = df_train.drop_duplicates()"
   ]
  },
  {
   "cell_type": "code",
   "execution_count": 9,
   "id": "b58eda8e",
   "metadata": {
    "execution": {
     "iopub.execute_input": "2022-10-12T03:51:02.526703Z",
     "iopub.status.busy": "2022-10-12T03:51:02.523301Z",
     "iopub.status.idle": "2022-10-12T03:51:03.305681Z",
     "shell.execute_reply": "2022-10-12T03:51:03.305078Z",
     "shell.execute_reply.started": "2022-10-12T02:01:20.336220Z"
    },
    "papermill": {
     "duration": 0.869966,
     "end_time": "2022-10-12T03:51:03.305856",
     "exception": false,
     "start_time": "2022-10-12T03:51:02.435890",
     "status": "completed"
    },
    "tags": []
   },
   "outputs": [
    {
     "name": "stdout",
     "output_type": "stream",
     "text": [
      "<class 'pandas.core.frame.DataFrame'>\n",
      "RangeIndex: 515431 entries, 0 to 515430\n",
      "Data columns (total 18 columns):\n",
      " #   Column                                      Non-Null Count   Dtype  \n",
      "---  ------                                      --------------   -----  \n",
      " 0   hotel_address                               515431 non-null  object \n",
      " 1   additional_number_of_scoring                515431 non-null  int64  \n",
      " 2   review_date                                 515431 non-null  object \n",
      " 3   average_score                               515431 non-null  float64\n",
      " 4   hotel_name                                  515431 non-null  object \n",
      " 5   reviewer_nationality                        515431 non-null  object \n",
      " 6   negative_review                             515431 non-null  object \n",
      " 7   review_total_negative_word_counts           515431 non-null  int64  \n",
      " 8   total_number_of_reviews                     515431 non-null  int64  \n",
      " 9   positive_review                             515431 non-null  object \n",
      " 10  review_total_positive_word_counts           515431 non-null  int64  \n",
      " 11  total_number_of_reviews_reviewer_has_given  515431 non-null  int64  \n",
      " 12  tags                                        515431 non-null  object \n",
      " 13  days_since_review                           515431 non-null  object \n",
      " 14  lat                                         512163 non-null  float64\n",
      " 15  lng                                         512163 non-null  float64\n",
      " 16  sample                                      515431 non-null  int64  \n",
      " 17  reviewer_score                              515431 non-null  float64\n",
      "dtypes: float64(4), int64(6), object(8)\n",
      "memory usage: 70.8+ MB\n"
     ]
    }
   ],
   "source": [
    "# ВАЖНО! дря корректной обработки признаков объединяем трейн и тест в один датасет\n",
    "df_train['sample'] = 1 # помечаем где у нас трейн\n",
    "df_test['sample'] = 0 # помечаем где у нас тест\n",
    "df_test['reviewer_score'] = 0 # в тесте у нас нет значения reviewer_score, мы его должны предсказать, по этому пока просто заполняем нулями\n",
    "\n",
    "data = df_test.append(df_train, sort=False).reset_index(drop=True) # объединяем\n",
    "\n",
    "data.info()"
   ]
  },
  {
   "cell_type": "markdown",
   "id": "e1104ff6",
   "metadata": {
    "papermill": {
     "duration": 0.083489,
     "end_time": "2022-10-12T03:51:03.472501",
     "exception": false,
     "start_time": "2022-10-12T03:51:03.389012",
     "status": "completed"
    },
    "tags": []
   },
   "source": [
    "### NaN'ы есть только в столбцах lat и lng, а они завязаны на признак `hotel_address`, приступим к обработке признаков."
   ]
  },
  {
   "cell_type": "markdown",
   "id": "bff985c9",
   "metadata": {
    "papermill": {
     "duration": 0.085356,
     "end_time": "2022-10-12T03:51:03.643456",
     "exception": false,
     "start_time": "2022-10-12T03:51:03.558100",
     "status": "completed"
    },
    "tags": []
   },
   "source": [
    "# 4. Признак `hotel_address` <a class=\"anchor\" id=4></a> <a id=\"4\"></a> <br>\n",
    "\n",
    "[к содержанию](#0) \n",
    "\n",
    "## По признаку адреса и названия решим несколько задач:\n",
    "### * Определим список уникальных отелей представленных в данных\n",
    "### * Найдем недостающие координаты\n",
    "### * Определим страны и города в которых находятся отели\n",
    "### * Вычислим расстояние от отелей до центров городов в которых они расположены\n",
    "### * Каким-нибудь прикольным способом закодируем полученные данные"
   ]
  },
  {
   "cell_type": "code",
   "execution_count": 10,
   "id": "f99d4a5c",
   "metadata": {
    "execution": {
     "iopub.execute_input": "2022-10-12T03:51:03.833857Z",
     "iopub.status.busy": "2022-10-12T03:51:03.833028Z",
     "iopub.status.idle": "2022-10-12T03:51:03.999025Z",
     "shell.execute_reply": "2022-10-12T03:51:03.999571Z",
     "shell.execute_reply.started": "2022-10-12T03:40:39.408869Z"
    },
    "papermill": {
     "duration": 0.273591,
     "end_time": "2022-10-12T03:51:03.999780",
     "exception": false,
     "start_time": "2022-10-12T03:51:03.726189",
     "status": "completed"
    },
    "tags": []
   },
   "outputs": [
    {
     "data": {
      "text/plain": [
       "True"
      ]
     },
     "execution_count": 10,
     "metadata": {},
     "output_type": "execute_result"
    }
   ],
   "source": [
    "# адрессов на 1шт больше чем отелей, прикольно, думается мне что это разные корпуса одно и того же отеля\n",
    "data['hotel_address'].nunique() > data['hotel_name'].nunique()"
   ]
  },
  {
   "cell_type": "code",
   "execution_count": 11,
   "id": "9d67cb62",
   "metadata": {
    "execution": {
     "iopub.execute_input": "2022-10-12T03:51:04.189035Z",
     "iopub.status.busy": "2022-10-12T03:51:04.188267Z",
     "iopub.status.idle": "2022-10-12T03:51:04.330149Z",
     "shell.execute_reply": "2022-10-12T03:51:04.329230Z",
     "shell.execute_reply.started": "2022-10-12T02:01:21.318250Z"
    },
    "papermill": {
     "duration": 0.238971,
     "end_time": "2022-10-12T03:51:04.330370",
     "exception": false,
     "start_time": "2022-10-12T03:51:04.091399",
     "status": "completed"
    },
    "tags": []
   },
   "outputs": [
    {
     "name": "stdout",
     "output_type": "stream",
     "text": [
      "<class 'pandas.core.frame.DataFrame'>\n",
      "Int64Index: 1493 entries, 0 to 117586\n",
      "Data columns (total 3 columns):\n",
      " #   Column         Non-Null Count  Dtype  \n",
      "---  ------         --------------  -----  \n",
      " 0   hotel_address  1493 non-null   object \n",
      " 1   lat            1476 non-null   float64\n",
      " 2   lng            1476 non-null   float64\n",
      "dtypes: float64(2), object(1)\n",
      "memory usage: 46.7+ KB\n"
     ]
    }
   ],
   "source": [
    "# Посмотрим сколько отелей представленно в данных\n",
    "unique_hotels = data[['hotel_address', 'lat', 'lng']].drop_duplicates()\n",
    "unique_hotels.info()"
   ]
  },
  {
   "cell_type": "code",
   "execution_count": 12,
   "id": "84f42800",
   "metadata": {
    "execution": {
     "iopub.execute_input": "2022-10-12T03:51:04.509947Z",
     "iopub.status.busy": "2022-10-12T03:51:04.508885Z",
     "iopub.status.idle": "2022-10-12T03:51:04.522649Z",
     "shell.execute_reply": "2022-10-12T03:51:04.523134Z",
     "shell.execute_reply.started": "2022-10-12T02:01:21.451622Z"
    },
    "papermill": {
     "duration": 0.107197,
     "end_time": "2022-10-12T03:51:04.523367",
     "exception": false,
     "start_time": "2022-10-12T03:51:04.416170",
     "status": "completed"
    },
    "tags": []
   },
   "outputs": [
    {
     "data": {
      "text/html": [
       "<div>\n",
       "<style scoped>\n",
       "    .dataframe tbody tr th:only-of-type {\n",
       "        vertical-align: middle;\n",
       "    }\n",
       "\n",
       "    .dataframe tbody tr th {\n",
       "        vertical-align: top;\n",
       "    }\n",
       "\n",
       "    .dataframe thead th {\n",
       "        text-align: right;\n",
       "    }\n",
       "</style>\n",
       "<table border=\"1\" class=\"dataframe\">\n",
       "  <thead>\n",
       "    <tr style=\"text-align: right;\">\n",
       "      <th></th>\n",
       "      <th>hotel_address</th>\n",
       "      <th>lat</th>\n",
       "      <th>lng</th>\n",
       "    </tr>\n",
       "  </thead>\n",
       "  <tbody>\n",
       "    <tr>\n",
       "      <th>35</th>\n",
       "      <td>W hringer Stra e 33 35 09 Alsergrund 1090 Vien...</td>\n",
       "      <td>NaN</td>\n",
       "      <td>NaN</td>\n",
       "    </tr>\n",
       "    <tr>\n",
       "      <th>476</th>\n",
       "      <td>Gr nentorgasse 30 09 Alsergrund 1090 Vienna Au...</td>\n",
       "      <td>NaN</td>\n",
       "      <td>NaN</td>\n",
       "    </tr>\n",
       "    <tr>\n",
       "      <th>526</th>\n",
       "      <td>23 Rue Damr mont 18th arr 75018 Paris France</td>\n",
       "      <td>NaN</td>\n",
       "      <td>NaN</td>\n",
       "    </tr>\n",
       "    <tr>\n",
       "      <th>569</th>\n",
       "      <td>Josefst dter Stra e 10 12 08 Josefstadt 1080 V...</td>\n",
       "      <td>NaN</td>\n",
       "      <td>NaN</td>\n",
       "    </tr>\n",
       "    <tr>\n",
       "      <th>609</th>\n",
       "      <td>Taborstra e 8 A 02 Leopoldstadt 1020 Vienna Au...</td>\n",
       "      <td>NaN</td>\n",
       "      <td>NaN</td>\n",
       "    </tr>\n",
       "    <tr>\n",
       "      <th>774</th>\n",
       "      <td>Josefst dter Stra e 22 08 Josefstadt 1080 Vien...</td>\n",
       "      <td>NaN</td>\n",
       "      <td>NaN</td>\n",
       "    </tr>\n",
       "    <tr>\n",
       "      <th>1285</th>\n",
       "      <td>Bail n 4 6 Eixample 08010 Barcelona Spain</td>\n",
       "      <td>NaN</td>\n",
       "      <td>NaN</td>\n",
       "    </tr>\n",
       "    <tr>\n",
       "      <th>2389</th>\n",
       "      <td>Landstra er G rtel 5 03 Landstra e 1030 Vienna...</td>\n",
       "      <td>NaN</td>\n",
       "      <td>NaN</td>\n",
       "    </tr>\n",
       "    <tr>\n",
       "      <th>2802</th>\n",
       "      <td>4 rue de la P pini re 8th arr 75008 Paris France</td>\n",
       "      <td>NaN</td>\n",
       "      <td>NaN</td>\n",
       "    </tr>\n",
       "    <tr>\n",
       "      <th>3495</th>\n",
       "      <td>20 Rue De La Ga t 14th arr 75014 Paris France</td>\n",
       "      <td>NaN</td>\n",
       "      <td>NaN</td>\n",
       "    </tr>\n",
       "    <tr>\n",
       "      <th>3535</th>\n",
       "      <td>W hringer Stra e 12 09 Alsergrund 1090 Vienna ...</td>\n",
       "      <td>NaN</td>\n",
       "      <td>NaN</td>\n",
       "    </tr>\n",
       "    <tr>\n",
       "      <th>4173</th>\n",
       "      <td>Savoyenstra e 2 16 Ottakring 1160 Vienna Austria</td>\n",
       "      <td>NaN</td>\n",
       "      <td>NaN</td>\n",
       "    </tr>\n",
       "    <tr>\n",
       "      <th>4298</th>\n",
       "      <td>Pau Clar s 122 Eixample 08009 Barcelona Spain</td>\n",
       "      <td>NaN</td>\n",
       "      <td>NaN</td>\n",
       "    </tr>\n",
       "    <tr>\n",
       "      <th>12597</th>\n",
       "      <td>Sieveringer Stra e 4 19 D bling 1190 Vienna Au...</td>\n",
       "      <td>NaN</td>\n",
       "      <td>NaN</td>\n",
       "    </tr>\n",
       "    <tr>\n",
       "      <th>20923</th>\n",
       "      <td>Paragonstra e 1 11 Simmering 1110 Vienna Austria</td>\n",
       "      <td>NaN</td>\n",
       "      <td>NaN</td>\n",
       "    </tr>\n",
       "    <tr>\n",
       "      <th>20938</th>\n",
       "      <td>Hasenauerstra e 12 19 D bling 1190 Vienna Austria</td>\n",
       "      <td>NaN</td>\n",
       "      <td>NaN</td>\n",
       "    </tr>\n",
       "    <tr>\n",
       "      <th>60386</th>\n",
       "      <td>Sep lveda 180 Eixample 08011 Barcelona Spain</td>\n",
       "      <td>NaN</td>\n",
       "      <td>NaN</td>\n",
       "    </tr>\n",
       "  </tbody>\n",
       "</table>\n",
       "</div>"
      ],
      "text/plain": [
       "                                           hotel_address  lat  lng\n",
       "35     W hringer Stra e 33 35 09 Alsergrund 1090 Vien...  NaN  NaN\n",
       "476    Gr nentorgasse 30 09 Alsergrund 1090 Vienna Au...  NaN  NaN\n",
       "526         23 Rue Damr mont 18th arr 75018 Paris France  NaN  NaN\n",
       "569    Josefst dter Stra e 10 12 08 Josefstadt 1080 V...  NaN  NaN\n",
       "609    Taborstra e 8 A 02 Leopoldstadt 1020 Vienna Au...  NaN  NaN\n",
       "774    Josefst dter Stra e 22 08 Josefstadt 1080 Vien...  NaN  NaN\n",
       "1285           Bail n 4 6 Eixample 08010 Barcelona Spain  NaN  NaN\n",
       "2389   Landstra er G rtel 5 03 Landstra e 1030 Vienna...  NaN  NaN\n",
       "2802    4 rue de la P pini re 8th arr 75008 Paris France  NaN  NaN\n",
       "3495       20 Rue De La Ga t 14th arr 75014 Paris France  NaN  NaN\n",
       "3535   W hringer Stra e 12 09 Alsergrund 1090 Vienna ...  NaN  NaN\n",
       "4173    Savoyenstra e 2 16 Ottakring 1160 Vienna Austria  NaN  NaN\n",
       "4298       Pau Clar s 122 Eixample 08009 Barcelona Spain  NaN  NaN\n",
       "12597  Sieveringer Stra e 4 19 D bling 1190 Vienna Au...  NaN  NaN\n",
       "20923   Paragonstra e 1 11 Simmering 1110 Vienna Austria  NaN  NaN\n",
       "20938  Hasenauerstra e 12 19 D bling 1190 Vienna Austria  NaN  NaN\n",
       "60386       Sep lveda 180 Eixample 08011 Barcelona Spain  NaN  NaN"
      ]
     },
     "execution_count": 12,
     "metadata": {},
     "output_type": "execute_result"
    }
   ],
   "source": [
    "# посмотрим адреса и названия отелей с пропусками координат\n",
    "unique_hotels[unique_hotels['lat'].isnull() == True]"
   ]
  },
  {
   "cell_type": "code",
   "execution_count": 13,
   "id": "c306fee6",
   "metadata": {
    "execution": {
     "iopub.execute_input": "2022-10-12T03:51:04.707556Z",
     "iopub.status.busy": "2022-10-12T03:51:04.706559Z",
     "iopub.status.idle": "2022-10-12T03:51:04.710009Z",
     "shell.execute_reply": "2022-10-12T03:51:04.709328Z",
     "shell.execute_reply.started": "2022-10-12T02:01:21.472301Z"
    },
    "papermill": {
     "duration": 0.101064,
     "end_time": "2022-10-12T03:51:04.710175",
     "exception": false,
     "start_time": "2022-10-12T03:51:04.609111",
     "status": "completed"
    },
    "tags": []
   },
   "outputs": [],
   "source": [
    "# С помощью Google Maps найдём координаты этих отелей (можно было бы использовать более изящный вариант, но у меня лапки)\n",
    "hotels_coordinates = pd.DataFrame({'hotel_address':[\n",
    "    'Josefst dter Stra e 10 12 08 Josefstadt 1080 Vienna Austria',\n",
    "    'Taborstra e 8 A 02 Leopoldstadt 1020 Vienna Austria',\n",
    "    'W hringer Stra e 33 35 09 Alsergrund 1090 Vienna Austria',\n",
    "    '4 rue de la P pini re 8th arr 75008 Paris France',\n",
    "    'Landstra er G rtel 5 03 Landstra e 1030 Vienna Austria',\n",
    "    'W hringer Stra e 12 09 Alsergrund 1090 Vienna Austria',\n",
    "    'Savoyenstra e 2 16 Ottakring 1160 Vienna Austria',\n",
    "    'Sieveringer Stra e 4 19 D bling 1190 Vienna Austria',\n",
    "    'Bail n 4 6 Eixample 08010 Barcelona Spain',\n",
    "    'Gr nentorgasse 30 09 Alsergrund 1090 Vienna Austria',\n",
    "    'Hasenauerstra e 12 19 D bling 1190 Vienna Austria',\n",
    "    'Josefst dter Stra e 22 08 Josefstadt 1080 Vienna Austria',\n",
    "    '23 Rue Damr mont 18th arr 75018 Paris France',\n",
    "    'Paragonstra e 1 11 Simmering 1110 Vienna Austria',\n",
    "    '20 Rue De La Ga t 14th arr 75014 Paris France',\n",
    "    'Pau Clar s 122 Eixample 08009 Barcelona Spain',\n",
    "    'Sep lveda 180 Eixample 08011 Barcelona Spain'], 'lat':[\n",
    "    \n",
    "    48.209910,\n",
    "    48.21360,\n",
    "    48.22036,\n",
    "    48.87532,\n",
    "    48.18888,\n",
    "    48.21700,\n",
    "    48.21975,\n",
    "    48.24614,\n",
    "    41.39181,\n",
    "    48.22163,\n",
    "    48.20971,\n",
    "    48.20973,\n",
    "    48.88910,\n",
    "    48.18814,\n",
    "    48.84012,\n",
    "    41.39272,\n",
    "    41.38340], 'lng':[\n",
    "    \n",
    "    16.353425,\n",
    "    16.37988,\n",
    "    16.35580,\n",
    "    2.32338,\n",
    "    16.38377,\n",
    "    16.35989,\n",
    "    16.28565,\n",
    "    16.34153,\n",
    "    2.17784,\n",
    "    16.36641,\n",
    "    16.35145,\n",
    "    16.35148,\n",
    "    2.33310,\n",
    "    16.42049,\n",
    "    2.32357,\n",
    "    2.16739,\n",
    "    2.16294]\n",
    "})"
   ]
  },
  {
   "cell_type": "code",
   "execution_count": 14,
   "id": "18a0aa96",
   "metadata": {
    "execution": {
     "iopub.execute_input": "2022-10-12T03:51:04.885818Z",
     "iopub.status.busy": "2022-10-12T03:51:04.885034Z",
     "iopub.status.idle": "2022-10-12T03:51:05.033226Z",
     "shell.execute_reply": "2022-10-12T03:51:05.033977Z",
     "shell.execute_reply.started": "2022-10-12T02:01:21.484186Z"
    },
    "papermill": {
     "duration": 0.239713,
     "end_time": "2022-10-12T03:51:05.034166",
     "exception": false,
     "start_time": "2022-10-12T03:51:04.794453",
     "status": "completed"
    },
    "tags": []
   },
   "outputs": [
    {
     "name": "stdout",
     "output_type": "stream",
     "text": [
      "CPU times: user 135 ms, sys: 0 ns, total: 135 ms\n",
      "Wall time: 146 ms\n"
     ]
    }
   ],
   "source": [
    "%%time\n",
    "# C помощью волшебства, которое я нашел на stackoverflow обновим пропущенные данные \n",
    "unique_hotels = (unique_hotels.merge(\n",
    "    hotels_coordinates, on='hotel_address', how='left', suffixes=('','\\x00')).sort_index(axis=1).bfill(axis=1)[unique_hotels.columns])"
   ]
  },
  {
   "cell_type": "code",
   "execution_count": 15,
   "id": "97088a08",
   "metadata": {
    "execution": {
     "iopub.execute_input": "2022-10-12T03:51:05.209156Z",
     "iopub.status.busy": "2022-10-12T03:51:05.208077Z",
     "iopub.status.idle": "2022-10-12T03:51:05.217448Z",
     "shell.execute_reply": "2022-10-12T03:51:05.217986Z",
     "shell.execute_reply.started": "2022-10-12T02:01:21.644762Z"
    },
    "papermill": {
     "duration": 0.099245,
     "end_time": "2022-10-12T03:51:05.218178",
     "exception": false,
     "start_time": "2022-10-12T03:51:05.118933",
     "status": "completed"
    },
    "tags": []
   },
   "outputs": [
    {
     "data": {
      "text/plain": [
       "Series([], dtype: float64)"
      ]
     },
     "metadata": {},
     "output_type": "display_data"
    }
   ],
   "source": [
    "# Проверим на NaN\n",
    "cols_null_percent =  unique_hotels.isnull().mean() * 100\n",
    "cols_with_null = cols_null_percent[cols_null_percent>0].sort_values(ascending=False)\n",
    "display(cols_with_null)"
   ]
  },
  {
   "cell_type": "code",
   "execution_count": 16,
   "id": "f56ee443",
   "metadata": {
    "execution": {
     "iopub.execute_input": "2022-10-12T03:51:05.393180Z",
     "iopub.status.busy": "2022-10-12T03:51:05.392164Z",
     "iopub.status.idle": "2022-10-12T03:51:05.414204Z",
     "shell.execute_reply": "2022-10-12T03:51:05.414776Z",
     "shell.execute_reply.started": "2022-10-12T02:01:21.657198Z"
    },
    "papermill": {
     "duration": 0.111884,
     "end_time": "2022-10-12T03:51:05.414961",
     "exception": false,
     "start_time": "2022-10-12T03:51:05.303077",
     "status": "completed"
    },
    "tags": []
   },
   "outputs": [
    {
     "data": {
      "text/html": [
       "<div>\n",
       "<style scoped>\n",
       "    .dataframe tbody tr th:only-of-type {\n",
       "        vertical-align: middle;\n",
       "    }\n",
       "\n",
       "    .dataframe tbody tr th {\n",
       "        vertical-align: top;\n",
       "    }\n",
       "\n",
       "    .dataframe thead th {\n",
       "        text-align: right;\n",
       "    }\n",
       "</style>\n",
       "<table border=\"1\" class=\"dataframe\">\n",
       "  <thead>\n",
       "    <tr style=\"text-align: right;\">\n",
       "      <th></th>\n",
       "      <th>hotel_address</th>\n",
       "      <th>lat</th>\n",
       "      <th>lng</th>\n",
       "      <th>hotel_country</th>\n",
       "      <th>hotel_city</th>\n",
       "    </tr>\n",
       "  </thead>\n",
       "  <tbody>\n",
       "    <tr>\n",
       "      <th>0</th>\n",
       "      <td>Via Senigallia 6 20161 Milan Italy</td>\n",
       "      <td>45.533137</td>\n",
       "      <td>9.171102</td>\n",
       "      <td>Italy</td>\n",
       "      <td>Milan</td>\n",
       "    </tr>\n",
       "    <tr>\n",
       "      <th>1</th>\n",
       "      <td>Arlandaweg 10 Westpoort 1043 EW Amsterdam Neth...</td>\n",
       "      <td>52.385649</td>\n",
       "      <td>4.834443</td>\n",
       "      <td>Netherlands</td>\n",
       "      <td>Amsterdam</td>\n",
       "    </tr>\n",
       "    <tr>\n",
       "      <th>2</th>\n",
       "      <td>Mallorca 251 Eixample 08008 Barcelona Spain</td>\n",
       "      <td>41.393192</td>\n",
       "      <td>2.16152</td>\n",
       "      <td>Spain</td>\n",
       "      <td>Barcelona</td>\n",
       "    </tr>\n",
       "    <tr>\n",
       "      <th>3</th>\n",
       "      <td>Piazza Della Repubblica 17 Central Station 201...</td>\n",
       "      <td>45.479888</td>\n",
       "      <td>9.196298</td>\n",
       "      <td>Italy</td>\n",
       "      <td>Milan</td>\n",
       "    </tr>\n",
       "    <tr>\n",
       "      <th>4</th>\n",
       "      <td>Singel 303 309 Amsterdam City Center 1012 WJ A...</td>\n",
       "      <td>52.370545</td>\n",
       "      <td>4.888644</td>\n",
       "      <td>Netherlands</td>\n",
       "      <td>Amsterdam</td>\n",
       "    </tr>\n",
       "  </tbody>\n",
       "</table>\n",
       "</div>"
      ],
      "text/plain": [
       "                                       hotel_address        lat       lng  \\\n",
       "0                 Via Senigallia 6 20161 Milan Italy  45.533137  9.171102   \n",
       "1  Arlandaweg 10 Westpoort 1043 EW Amsterdam Neth...  52.385649  4.834443   \n",
       "2        Mallorca 251 Eixample 08008 Barcelona Spain  41.393192   2.16152   \n",
       "3  Piazza Della Repubblica 17 Central Station 201...  45.479888  9.196298   \n",
       "4  Singel 303 309 Amsterdam City Center 1012 WJ A...  52.370545  4.888644   \n",
       "\n",
       "  hotel_country hotel_city  \n",
       "0         Italy      Milan  \n",
       "1   Netherlands  Amsterdam  \n",
       "2         Spain  Barcelona  \n",
       "3         Italy      Milan  \n",
       "4   Netherlands  Amsterdam  "
      ]
     },
     "execution_count": 16,
     "metadata": {},
     "output_type": "execute_result"
    }
   ],
   "source": [
    "# Достанем из адресса страну и город\n",
    "def country_extractor(data):\n",
    "    \"\"\"доставатель страны\"\"\"\n",
    "    if data.split(sep=' ')[-1] == 'Kingdom':\n",
    "        return 'United Kingdom'\n",
    "    else:\n",
    "        return data.split(sep=' ')[-1]\n",
    "\n",
    "def city_extractor(data):\n",
    "    \"\"\"доставатель города\"\"\"\n",
    "    if data.split(sep=' ')[-1] == 'Kingdom':\n",
    "        return ''.join(data.split(sep=' ')[-5])\n",
    "    else:\n",
    "        return data.split(sep=' ')[-2]\n",
    "    \n",
    "unique_hotels['hotel_country'] = unique_hotels['hotel_address'].apply(country_extractor)\n",
    "unique_hotels['hotel_city'] = unique_hotels['hotel_address'].apply(city_extractor)\n",
    "unique_hotels.head()"
   ]
  },
  {
   "cell_type": "code",
   "execution_count": 17,
   "id": "ef763a5f",
   "metadata": {
    "execution": {
     "iopub.execute_input": "2022-10-12T03:51:05.598335Z",
     "iopub.status.busy": "2022-10-12T03:51:05.597546Z",
     "iopub.status.idle": "2022-10-12T03:51:05.600634Z",
     "shell.execute_reply": "2022-10-12T03:51:05.601144Z",
     "shell.execute_reply.started": "2022-10-12T02:01:21.685394Z"
    },
    "papermill": {
     "duration": 0.101859,
     "end_time": "2022-10-12T03:51:05.601343",
     "exception": false,
     "start_time": "2022-10-12T03:51:05.499484",
     "status": "completed"
    },
    "tags": []
   },
   "outputs": [
    {
     "data": {
      "text/html": [
       "<div>\n",
       "<style scoped>\n",
       "    .dataframe tbody tr th:only-of-type {\n",
       "        vertical-align: middle;\n",
       "    }\n",
       "\n",
       "    .dataframe tbody tr th {\n",
       "        vertical-align: top;\n",
       "    }\n",
       "\n",
       "    .dataframe thead th {\n",
       "        text-align: right;\n",
       "    }\n",
       "</style>\n",
       "<table border=\"1\" class=\"dataframe\">\n",
       "  <thead>\n",
       "    <tr style=\"text-align: right;\">\n",
       "      <th></th>\n",
       "      <th>hotel_city</th>\n",
       "      <th>city_lat</th>\n",
       "      <th>city_lng</th>\n",
       "    </tr>\n",
       "  </thead>\n",
       "  <tbody>\n",
       "    <tr>\n",
       "      <th>0</th>\n",
       "      <td>London</td>\n",
       "      <td>51.507322</td>\n",
       "      <td>-0.127647</td>\n",
       "    </tr>\n",
       "    <tr>\n",
       "      <th>1</th>\n",
       "      <td>Barcelona</td>\n",
       "      <td>41.382894</td>\n",
       "      <td>2.177432</td>\n",
       "    </tr>\n",
       "    <tr>\n",
       "      <th>2</th>\n",
       "      <td>Paris</td>\n",
       "      <td>48.853495</td>\n",
       "      <td>2.348391</td>\n",
       "    </tr>\n",
       "    <tr>\n",
       "      <th>3</th>\n",
       "      <td>Amsterdam</td>\n",
       "      <td>52.372760</td>\n",
       "      <td>4.893604</td>\n",
       "    </tr>\n",
       "    <tr>\n",
       "      <th>4</th>\n",
       "      <td>Vienna</td>\n",
       "      <td>48.208354</td>\n",
       "      <td>16.372504</td>\n",
       "    </tr>\n",
       "    <tr>\n",
       "      <th>5</th>\n",
       "      <td>Milan</td>\n",
       "      <td>45.464194</td>\n",
       "      <td>9.189635</td>\n",
       "    </tr>\n",
       "  </tbody>\n",
       "</table>\n",
       "</div>"
      ],
      "text/plain": [
       "  hotel_city   city_lat   city_lng\n",
       "0     London  51.507322  -0.127647\n",
       "1  Barcelona  41.382894   2.177432\n",
       "2      Paris  48.853495   2.348391\n",
       "3  Amsterdam  52.372760   4.893604\n",
       "4     Vienna  48.208354  16.372504\n",
       "5      Milan  45.464194   9.189635"
      ]
     },
     "execution_count": 17,
     "metadata": {},
     "output_type": "execute_result"
    }
   ],
   "source": [
    "# С помощью Google Maps найдём координаты центров городов\n",
    "cities = pd.DataFrame({'hotel_city':[\n",
    "    'London',\n",
    "    'Barcelona',\n",
    "    'Paris',\n",
    "    'Amsterdam',\n",
    "    'Vienna',\n",
    "    'Milan'], 'city_lat':[\n",
    "    \n",
    "    51.507322,\n",
    "    41.382894,\n",
    "    48.853495,\n",
    "    52.372760,\n",
    "    48.208354,\n",
    "    45.464194], 'city_lng':[\n",
    "    \n",
    "    -0.127647,\n",
    "    2.177432,\n",
    "    2.348391,\n",
    "    4.893604,\n",
    "    16.372504,\n",
    "    9.189635]\n",
    "})\n",
    "cities"
   ]
  },
  {
   "cell_type": "code",
   "execution_count": 18,
   "id": "ef6c4d97",
   "metadata": {
    "execution": {
     "iopub.execute_input": "2022-10-12T03:51:05.778841Z",
     "iopub.status.busy": "2022-10-12T03:51:05.778117Z",
     "iopub.status.idle": "2022-10-12T03:51:05.800630Z",
     "shell.execute_reply": "2022-10-12T03:51:05.801170Z",
     "shell.execute_reply.started": "2022-10-12T02:01:21.704983Z"
    },
    "papermill": {
     "duration": 0.112664,
     "end_time": "2022-10-12T03:51:05.801385",
     "exception": false,
     "start_time": "2022-10-12T03:51:05.688721",
     "status": "completed"
    },
    "tags": []
   },
   "outputs": [
    {
     "data": {
      "text/html": [
       "<div>\n",
       "<style scoped>\n",
       "    .dataframe tbody tr th:only-of-type {\n",
       "        vertical-align: middle;\n",
       "    }\n",
       "\n",
       "    .dataframe tbody tr th {\n",
       "        vertical-align: top;\n",
       "    }\n",
       "\n",
       "    .dataframe thead th {\n",
       "        text-align: right;\n",
       "    }\n",
       "</style>\n",
       "<table border=\"1\" class=\"dataframe\">\n",
       "  <thead>\n",
       "    <tr style=\"text-align: right;\">\n",
       "      <th></th>\n",
       "      <th>hotel_address</th>\n",
       "      <th>lat</th>\n",
       "      <th>lng</th>\n",
       "      <th>hotel_country</th>\n",
       "      <th>hotel_city</th>\n",
       "      <th>city_lat</th>\n",
       "      <th>city_lng</th>\n",
       "      <th>coordinates</th>\n",
       "    </tr>\n",
       "  </thead>\n",
       "  <tbody>\n",
       "    <tr>\n",
       "      <th>0</th>\n",
       "      <td>Via Senigallia 6 20161 Milan Italy</td>\n",
       "      <td>45.533137</td>\n",
       "      <td>9.171102</td>\n",
       "      <td>Italy</td>\n",
       "      <td>Milan</td>\n",
       "      <td>45.464194</td>\n",
       "      <td>9.189635</td>\n",
       "      <td>(45.5331372, 9.1711019, 45.464194, 9.189635)</td>\n",
       "    </tr>\n",
       "    <tr>\n",
       "      <th>1</th>\n",
       "      <td>Arlandaweg 10 Westpoort 1043 EW Amsterdam Neth...</td>\n",
       "      <td>52.385649</td>\n",
       "      <td>4.834443</td>\n",
       "      <td>Netherlands</td>\n",
       "      <td>Amsterdam</td>\n",
       "      <td>52.372760</td>\n",
       "      <td>4.893604</td>\n",
       "      <td>(52.3856494, 4.834443, 52.37276, 4.893604)</td>\n",
       "    </tr>\n",
       "    <tr>\n",
       "      <th>2</th>\n",
       "      <td>Mallorca 251 Eixample 08008 Barcelona Spain</td>\n",
       "      <td>41.393192</td>\n",
       "      <td>2.16152</td>\n",
       "      <td>Spain</td>\n",
       "      <td>Barcelona</td>\n",
       "      <td>41.382894</td>\n",
       "      <td>2.177432</td>\n",
       "      <td>(41.3931918, 2.16152, 41.382894, 2.177432)</td>\n",
       "    </tr>\n",
       "    <tr>\n",
       "      <th>3</th>\n",
       "      <td>Piazza Della Repubblica 17 Central Station 201...</td>\n",
       "      <td>45.479888</td>\n",
       "      <td>9.196298</td>\n",
       "      <td>Italy</td>\n",
       "      <td>Milan</td>\n",
       "      <td>45.464194</td>\n",
       "      <td>9.189635</td>\n",
       "      <td>(45.479888, 9.1962982, 45.464194, 9.189635)</td>\n",
       "    </tr>\n",
       "    <tr>\n",
       "      <th>4</th>\n",
       "      <td>Singel 303 309 Amsterdam City Center 1012 WJ A...</td>\n",
       "      <td>52.370545</td>\n",
       "      <td>4.888644</td>\n",
       "      <td>Netherlands</td>\n",
       "      <td>Amsterdam</td>\n",
       "      <td>52.372760</td>\n",
       "      <td>4.893604</td>\n",
       "      <td>(52.3705447, 4.8886439, 52.37276, 4.893604)</td>\n",
       "    </tr>\n",
       "  </tbody>\n",
       "</table>\n",
       "</div>"
      ],
      "text/plain": [
       "                                       hotel_address        lat       lng  \\\n",
       "0                 Via Senigallia 6 20161 Milan Italy  45.533137  9.171102   \n",
       "1  Arlandaweg 10 Westpoort 1043 EW Amsterdam Neth...  52.385649  4.834443   \n",
       "2        Mallorca 251 Eixample 08008 Barcelona Spain  41.393192   2.16152   \n",
       "3  Piazza Della Repubblica 17 Central Station 201...  45.479888  9.196298   \n",
       "4  Singel 303 309 Amsterdam City Center 1012 WJ A...  52.370545  4.888644   \n",
       "\n",
       "  hotel_country hotel_city   city_lat  city_lng  \\\n",
       "0         Italy      Milan  45.464194  9.189635   \n",
       "1   Netherlands  Amsterdam  52.372760  4.893604   \n",
       "2         Spain  Barcelona  41.382894  2.177432   \n",
       "3         Italy      Milan  45.464194  9.189635   \n",
       "4   Netherlands  Amsterdam  52.372760  4.893604   \n",
       "\n",
       "                                    coordinates  \n",
       "0  (45.5331372, 9.1711019, 45.464194, 9.189635)  \n",
       "1    (52.3856494, 4.834443, 52.37276, 4.893604)  \n",
       "2    (41.3931918, 2.16152, 41.382894, 2.177432)  \n",
       "3   (45.479888, 9.1962982, 45.464194, 9.189635)  \n",
       "4   (52.3705447, 4.8886439, 52.37276, 4.893604)  "
      ]
     },
     "execution_count": 18,
     "metadata": {},
     "output_type": "execute_result"
    }
   ],
   "source": [
    "# Обогатим таблицу отелей координатами центров городов\n",
    "unique_hotels = unique_hotels.merge(cities, how='left', on='hotel_city', sort=False)\n",
    "\n",
    "# Добавим признак 'coordinates' состоящий из координат сначала отеля, потом центра города в котором расположен этот отель.\n",
    "unique_hotels['coordinates'] = list(zip(\n",
    "    unique_hotels['lat'], \n",
    "    unique_hotels['lng'], \n",
    "    unique_hotels['city_lat'], \n",
    "    unique_hotels['city_lng']))\n",
    "\n",
    "unique_hotels.head()"
   ]
  },
  {
   "cell_type": "code",
   "execution_count": 19,
   "id": "2493fddb",
   "metadata": {
    "execution": {
     "iopub.execute_input": "2022-10-12T03:51:05.979508Z",
     "iopub.status.busy": "2022-10-12T03:51:05.978568Z",
     "iopub.status.idle": "2022-10-12T03:51:06.372334Z",
     "shell.execute_reply": "2022-10-12T03:51:06.372978Z",
     "shell.execute_reply.started": "2022-10-12T02:01:21.736368Z"
    },
    "papermill": {
     "duration": 0.48412,
     "end_time": "2022-10-12T03:51:06.373156",
     "exception": false,
     "start_time": "2022-10-12T03:51:05.889036",
     "status": "completed"
    },
    "tags": []
   },
   "outputs": [
    {
     "name": "stdout",
     "output_type": "stream",
     "text": [
      "CPU times: user 372 ms, sys: 0 ns, total: 372 ms\n",
      "Wall time: 374 ms\n"
     ]
    },
    {
     "data": {
      "text/html": [
       "<div>\n",
       "<style scoped>\n",
       "    .dataframe tbody tr th:only-of-type {\n",
       "        vertical-align: middle;\n",
       "    }\n",
       "\n",
       "    .dataframe tbody tr th {\n",
       "        vertical-align: top;\n",
       "    }\n",
       "\n",
       "    .dataframe thead th {\n",
       "        text-align: right;\n",
       "    }\n",
       "</style>\n",
       "<table border=\"1\" class=\"dataframe\">\n",
       "  <thead>\n",
       "    <tr style=\"text-align: right;\">\n",
       "      <th></th>\n",
       "      <th>hotel_address</th>\n",
       "      <th>lat</th>\n",
       "      <th>lng</th>\n",
       "      <th>hotel_country</th>\n",
       "      <th>hotel_city</th>\n",
       "      <th>city_lat</th>\n",
       "      <th>city_lng</th>\n",
       "      <th>coordinates</th>\n",
       "      <th>distance_from_center</th>\n",
       "    </tr>\n",
       "  </thead>\n",
       "  <tbody>\n",
       "    <tr>\n",
       "      <th>0</th>\n",
       "      <td>Via Senigallia 6 20161 Milan Italy</td>\n",
       "      <td>45.533137</td>\n",
       "      <td>9.171102</td>\n",
       "      <td>Italy</td>\n",
       "      <td>Milan</td>\n",
       "      <td>45.464194</td>\n",
       "      <td>9.189635</td>\n",
       "      <td>(45.5331372, 9.1711019, 45.464194, 9.189635)</td>\n",
       "      <td>7.798170</td>\n",
       "    </tr>\n",
       "    <tr>\n",
       "      <th>1</th>\n",
       "      <td>Arlandaweg 10 Westpoort 1043 EW Amsterdam Neth...</td>\n",
       "      <td>52.385649</td>\n",
       "      <td>4.834443</td>\n",
       "      <td>Netherlands</td>\n",
       "      <td>Amsterdam</td>\n",
       "      <td>52.372760</td>\n",
       "      <td>4.893604</td>\n",
       "      <td>(52.3856494, 4.834443, 52.37276, 4.893604)</td>\n",
       "      <td>4.276335</td>\n",
       "    </tr>\n",
       "    <tr>\n",
       "      <th>2</th>\n",
       "      <td>Mallorca 251 Eixample 08008 Barcelona Spain</td>\n",
       "      <td>41.393192</td>\n",
       "      <td>2.16152</td>\n",
       "      <td>Spain</td>\n",
       "      <td>Barcelona</td>\n",
       "      <td>41.382894</td>\n",
       "      <td>2.177432</td>\n",
       "      <td>(41.3931918, 2.16152, 41.382894, 2.177432)</td>\n",
       "      <td>1.754781</td>\n",
       "    </tr>\n",
       "    <tr>\n",
       "      <th>3</th>\n",
       "      <td>Piazza Della Repubblica 17 Central Station 201...</td>\n",
       "      <td>45.479888</td>\n",
       "      <td>9.196298</td>\n",
       "      <td>Italy</td>\n",
       "      <td>Milan</td>\n",
       "      <td>45.464194</td>\n",
       "      <td>9.189635</td>\n",
       "      <td>(45.479888, 9.1962982, 45.464194, 9.189635)</td>\n",
       "      <td>1.820407</td>\n",
       "    </tr>\n",
       "    <tr>\n",
       "      <th>4</th>\n",
       "      <td>Singel 303 309 Amsterdam City Center 1012 WJ A...</td>\n",
       "      <td>52.370545</td>\n",
       "      <td>4.888644</td>\n",
       "      <td>Netherlands</td>\n",
       "      <td>Amsterdam</td>\n",
       "      <td>52.372760</td>\n",
       "      <td>4.893604</td>\n",
       "      <td>(52.3705447, 4.8886439, 52.37276, 4.893604)</td>\n",
       "      <td>0.418197</td>\n",
       "    </tr>\n",
       "  </tbody>\n",
       "</table>\n",
       "</div>"
      ],
      "text/plain": [
       "                                       hotel_address        lat       lng  \\\n",
       "0                 Via Senigallia 6 20161 Milan Italy  45.533137  9.171102   \n",
       "1  Arlandaweg 10 Westpoort 1043 EW Amsterdam Neth...  52.385649  4.834443   \n",
       "2        Mallorca 251 Eixample 08008 Barcelona Spain  41.393192   2.16152   \n",
       "3  Piazza Della Repubblica 17 Central Station 201...  45.479888  9.196298   \n",
       "4  Singel 303 309 Amsterdam City Center 1012 WJ A...  52.370545  4.888644   \n",
       "\n",
       "  hotel_country hotel_city   city_lat  city_lng  \\\n",
       "0         Italy      Milan  45.464194  9.189635   \n",
       "1   Netherlands  Amsterdam  52.372760  4.893604   \n",
       "2         Spain  Barcelona  41.382894  2.177432   \n",
       "3         Italy      Milan  45.464194  9.189635   \n",
       "4   Netherlands  Amsterdam  52.372760  4.893604   \n",
       "\n",
       "                                    coordinates  distance_from_center  \n",
       "0  (45.5331372, 9.1711019, 45.464194, 9.189635)              7.798170  \n",
       "1    (52.3856494, 4.834443, 52.37276, 4.893604)              4.276335  \n",
       "2    (41.3931918, 2.16152, 41.382894, 2.177432)              1.754781  \n",
       "3   (45.479888, 9.1962982, 45.464194, 9.189635)              1.820407  \n",
       "4   (52.3705447, 4.8886439, 52.37276, 4.893604)              0.418197  "
      ]
     },
     "execution_count": 19,
     "metadata": {},
     "output_type": "execute_result"
    }
   ],
   "source": [
    "%%time\n",
    "# добавим признак расстояние от центра города.\n",
    "def distance_finder(data):\n",
    "    \"\"\"вычислятель расстояния\"\"\"\n",
    "    coord_1 = data[:2]\n",
    "    coord_2 = data[-2:]\n",
    "    return geodesic(coord_1, coord_2).km\n",
    "\n",
    "unique_hotels['distance_from_center'] = unique_hotels['coordinates'].apply(distance_finder)\n",
    "\n",
    "unique_hotels.head(5)"
   ]
  },
  {
   "cell_type": "markdown",
   "id": "010ca8d9",
   "metadata": {
    "papermill": {
     "duration": 0.088653,
     "end_time": "2022-10-12T03:51:06.548574",
     "exception": false,
     "start_time": "2022-10-12T03:51:06.459921",
     "status": "completed"
    },
    "tags": []
   },
   "source": [
    "### Маловато.. Добавим климатические условия для представленных городов."
   ]
  },
  {
   "cell_type": "code",
   "execution_count": 20,
   "id": "a37b080b",
   "metadata": {
    "execution": {
     "iopub.execute_input": "2022-10-12T03:51:06.747611Z",
     "iopub.status.busy": "2022-10-12T03:51:06.746670Z",
     "iopub.status.idle": "2022-10-12T03:51:06.749977Z",
     "shell.execute_reply": "2022-10-12T03:51:06.750509Z",
     "shell.execute_reply.started": "2022-10-12T02:01:22.128884Z"
    },
    "papermill": {
     "duration": 0.112199,
     "end_time": "2022-10-12T03:51:06.750697",
     "exception": false,
     "start_time": "2022-10-12T03:51:06.638498",
     "status": "completed"
    },
    "tags": []
   },
   "outputs": [
    {
     "data": {
      "text/html": [
       "<div>\n",
       "<style scoped>\n",
       "    .dataframe tbody tr th:only-of-type {\n",
       "        vertical-align: middle;\n",
       "    }\n",
       "\n",
       "    .dataframe tbody tr th {\n",
       "        vertical-align: top;\n",
       "    }\n",
       "\n",
       "    .dataframe thead th {\n",
       "        text-align: right;\n",
       "    }\n",
       "</style>\n",
       "<table border=\"1\" class=\"dataframe\">\n",
       "  <thead>\n",
       "    <tr style=\"text-align: right;\">\n",
       "      <th></th>\n",
       "      <th>hotel_city</th>\n",
       "      <th>city_tmax</th>\n",
       "      <th>city_tmean</th>\n",
       "      <th>city_tmin</th>\n",
       "      <th>city_sun</th>\n",
       "      <th>city_rain</th>\n",
       "    </tr>\n",
       "  </thead>\n",
       "  <tbody>\n",
       "    <tr>\n",
       "      <th>0</th>\n",
       "      <td>London</td>\n",
       "      <td>15.7</td>\n",
       "      <td>11.9</td>\n",
       "      <td>8.2</td>\n",
       "      <td>60.875</td>\n",
       "      <td>572.2</td>\n",
       "    </tr>\n",
       "    <tr>\n",
       "      <th>1</th>\n",
       "      <td>Barcelona</td>\n",
       "      <td>21.2</td>\n",
       "      <td>18.2</td>\n",
       "      <td>15.1</td>\n",
       "      <td>105.160</td>\n",
       "      <td>565.0</td>\n",
       "    </tr>\n",
       "    <tr>\n",
       "      <th>2</th>\n",
       "      <td>Paris</td>\n",
       "      <td>16.5</td>\n",
       "      <td>12.8</td>\n",
       "      <td>9.2</td>\n",
       "      <td>71.545</td>\n",
       "      <td>634.3</td>\n",
       "    </tr>\n",
       "    <tr>\n",
       "      <th>3</th>\n",
       "      <td>Amsterdam</td>\n",
       "      <td>14.3</td>\n",
       "      <td>10.7</td>\n",
       "      <td>6.8</td>\n",
       "      <td>74.166</td>\n",
       "      <td>850.0</td>\n",
       "    </tr>\n",
       "    <tr>\n",
       "      <th>4</th>\n",
       "      <td>Vienna</td>\n",
       "      <td>14.9</td>\n",
       "      <td>10.5</td>\n",
       "      <td>7.0</td>\n",
       "      <td>157.000</td>\n",
       "      <td>649.0</td>\n",
       "    </tr>\n",
       "    <tr>\n",
       "      <th>5</th>\n",
       "      <td>Milan</td>\n",
       "      <td>17.5</td>\n",
       "      <td>12.0</td>\n",
       "      <td>6.6</td>\n",
       "      <td>201.000</td>\n",
       "      <td>944.0</td>\n",
       "    </tr>\n",
       "  </tbody>\n",
       "</table>\n",
       "</div>"
      ],
      "text/plain": [
       "  hotel_city  city_tmax  city_tmean  city_tmin  city_sun  city_rain\n",
       "0     London       15.7        11.9        8.2    60.875      572.2\n",
       "1  Barcelona       21.2        18.2       15.1   105.160      565.0\n",
       "2      Paris       16.5        12.8        9.2    71.545      634.3\n",
       "3  Amsterdam       14.3        10.7        6.8    74.166      850.0\n",
       "4     Vienna       14.9        10.5        7.0   157.000      649.0\n",
       "5      Milan       17.5        12.0        6.6   201.000      944.0"
      ]
     },
     "execution_count": 20,
     "metadata": {},
     "output_type": "execute_result"
    }
   ],
   "source": [
    "# С помощью википедии получим климатические данные по городам\n",
    "climate = pd.DataFrame({'hotel_city':[\n",
    "    'London',\n",
    "    'Barcelona',\n",
    "    'Paris',\n",
    "    'Amsterdam',\n",
    "    'Vienna',\n",
    "    'Milan'], 'city_tmax':[\n",
    "    \n",
    "    15.7,\n",
    "    21.2,\n",
    "    16.5,\n",
    "    14.3,\n",
    "    14.9,\n",
    "    17.5], 'city_tmean':[\n",
    "    \n",
    "    11.9,\n",
    "    18.2,\n",
    "    12.8,\n",
    "    10.7,\n",
    "    10.5,\n",
    "    12.0], 'city_tmin':[\n",
    "    \n",
    "    8.2,\n",
    "    15.1,\n",
    "    9.2,\n",
    "    6.8,\n",
    "    7,\n",
    "    6.6], 'city_sun':[\n",
    "    \n",
    "    60.875,\n",
    "    105.16,\n",
    "    71.545,\n",
    "    74.166,\n",
    "    157,\n",
    "    201], 'city_rain':[\n",
    "    \n",
    "    572.2,\n",
    "    565,\n",
    "    634.3,\n",
    "    850,\n",
    "    649,\n",
    "    944]\n",
    "})\n",
    "climate"
   ]
  },
  {
   "cell_type": "code",
   "execution_count": 21,
   "id": "5c448ea9",
   "metadata": {
    "execution": {
     "iopub.execute_input": "2022-10-12T03:51:06.932374Z",
     "iopub.status.busy": "2022-10-12T03:51:06.931265Z",
     "iopub.status.idle": "2022-10-12T03:51:06.936468Z",
     "shell.execute_reply": "2022-10-12T03:51:06.937094Z",
     "shell.execute_reply.started": "2022-10-12T02:01:22.152837Z"
    },
    "papermill": {
     "duration": 0.09968,
     "end_time": "2022-10-12T03:51:06.937309",
     "exception": false,
     "start_time": "2022-10-12T03:51:06.837629",
     "status": "completed"
    },
    "tags": []
   },
   "outputs": [],
   "source": [
    "# обогатим таблицу климатическими данными\n",
    "unique_hotels = unique_hotels.merge(climate, how='left', on='hotel_city', sort=False)"
   ]
  },
  {
   "cell_type": "code",
   "execution_count": 22,
   "id": "78610a85",
   "metadata": {
    "execution": {
     "iopub.execute_input": "2022-10-12T03:51:07.121576Z",
     "iopub.status.busy": "2022-10-12T03:51:07.116750Z",
     "iopub.status.idle": "2022-10-12T03:51:07.123760Z",
     "shell.execute_reply": "2022-10-12T03:51:07.124263Z",
     "shell.execute_reply.started": "2022-10-12T02:01:22.169827Z"
    },
    "papermill": {
     "duration": 0.100503,
     "end_time": "2022-10-12T03:51:07.124458",
     "exception": false,
     "start_time": "2022-10-12T03:51:07.023955",
     "status": "completed"
    },
    "tags": []
   },
   "outputs": [],
   "source": [
    "# ворованная функция\n",
    "def plots(data, column_name):\n",
    "    \"\"\"\n",
    "    Функция для построения гистограммы и коробчадой диагррамы\n",
    "    для визуализации выбросов\n",
    "\n",
    "    :data: Исходный датафрейм\n",
    "    :column_name: Имя признака для анализа\n",
    "    :return: Выводит график\n",
    "    \"\"\"\n",
    "\n",
    "    fig, axes = plt.subplots(nrows=1, ncols=2, figsize=(12, 4))  # (18, 8)\n",
    "    histplot = sns.histplot(data=data, x=column_name, ax=axes[0]) \n",
    "    boxplot = sns.boxplot(data=data, x=column_name, ax=axes[1]) \n",
    "    histplot.set_title(f'{column_name} Histogram') \n",
    "    boxplot.set_title(f'{column_name} Boxplot') \n",
    "    \n",
    "    plt.tight_layout()\n",
    "    plt.show()"
   ]
  },
  {
   "cell_type": "code",
   "execution_count": 23,
   "id": "12f0a766",
   "metadata": {
    "execution": {
     "iopub.execute_input": "2022-10-12T03:51:07.306139Z",
     "iopub.status.busy": "2022-10-12T03:51:07.305096Z",
     "iopub.status.idle": "2022-10-12T03:51:07.806495Z",
     "shell.execute_reply": "2022-10-12T03:51:07.806973Z",
     "shell.execute_reply.started": "2022-10-12T02:01:22.179862Z"
    },
    "papermill": {
     "duration": 0.59375,
     "end_time": "2022-10-12T03:51:07.807181",
     "exception": false,
     "start_time": "2022-10-12T03:51:07.213431",
     "status": "completed"
    },
    "tags": []
   },
   "outputs": [
    {
     "data": {
      "image/png": "[encoded data removed]",
      "text/plain": [
       "<Figure size 864x288 with 2 Axes>"
      ]
     },
     "metadata": {
      "needs_background": "light"
     },
     "output_type": "display_data"
    }
   ],
   "source": [
    "plots(unique_hotels, 'distance_from_center')"
   ]
  },
  {
   "cell_type": "markdown",
   "id": "bd46c6ef",
   "metadata": {
    "papermill": {
     "duration": 0.088289,
     "end_time": "2022-10-12T03:51:07.984071",
     "exception": false,
     "start_time": "2022-10-12T03:51:07.895782",
     "status": "completed"
    },
    "tags": []
   },
   "source": [
    "### Похоже на логнормальное распределение, попробуем логарифмировать данные."
   ]
  },
  {
   "cell_type": "code",
   "execution_count": 24,
   "id": "6a94598a",
   "metadata": {
    "execution": {
     "iopub.execute_input": "2022-10-12T03:51:08.167745Z",
     "iopub.status.busy": "2022-10-12T03:51:08.166681Z",
     "iopub.status.idle": "2022-10-12T03:51:08.171652Z",
     "shell.execute_reply": "2022-10-12T03:51:08.172142Z",
     "shell.execute_reply.started": "2022-10-12T02:01:22.732526Z"
    },
    "papermill": {
     "duration": 0.097465,
     "end_time": "2022-10-12T03:51:08.172352",
     "exception": false,
     "start_time": "2022-10-12T03:51:08.074887",
     "status": "completed"
    },
    "tags": []
   },
   "outputs": [],
   "source": [
    "# Логорифмируем данные\n",
    "unique_hotels['distance_from_center'] = np.log(unique_hotels['distance_from_center'] + 1)"
   ]
  },
  {
   "cell_type": "code",
   "execution_count": 25,
   "id": "d13b3b26",
   "metadata": {
    "execution": {
     "iopub.execute_input": "2022-10-12T03:51:08.356989Z",
     "iopub.status.busy": "2022-10-12T03:51:08.355999Z",
     "iopub.status.idle": "2022-10-12T03:51:08.761542Z",
     "shell.execute_reply": "2022-10-12T03:51:08.760813Z",
     "shell.execute_reply.started": "2022-10-12T02:01:22.741741Z"
    },
    "papermill": {
     "duration": 0.498883,
     "end_time": "2022-10-12T03:51:08.761707",
     "exception": false,
     "start_time": "2022-10-12T03:51:08.262824",
     "status": "completed"
    },
    "tags": []
   },
   "outputs": [
    {
     "data": {
      "image/png": "[encoded data removed]",
      "text/plain": [
       "<Figure size 864x288 with 2 Axes>"
      ]
     },
     "metadata": {
      "needs_background": "light"
     },
     "output_type": "display_data"
    }
   ],
   "source": [
    "plots(unique_hotels, 'distance_from_center')"
   ]
  },
  {
   "cell_type": "markdown",
   "id": "2c826bf1",
   "metadata": {
    "papermill": {
     "duration": 0.10471,
     "end_time": "2022-10-12T03:51:08.956307",
     "exception": false,
     "start_time": "2022-10-12T03:51:08.851597",
     "status": "completed"
    },
    "tags": []
   },
   "source": [
    " ### Во, вот так уже получше, едем дальше."
   ]
  },
  {
   "cell_type": "code",
   "execution_count": 26,
   "id": "859efeb4",
   "metadata": {
    "execution": {
     "iopub.execute_input": "2022-10-12T03:51:09.155092Z",
     "iopub.status.busy": "2022-10-12T03:51:09.154008Z",
     "iopub.status.idle": "2022-10-12T03:51:09.162987Z",
     "shell.execute_reply": "2022-10-12T03:51:09.162353Z",
     "shell.execute_reply.started": "2022-10-12T02:01:23.211059Z"
    },
    "papermill": {
     "duration": 0.10731,
     "end_time": "2022-10-12T03:51:09.163143",
     "exception": false,
     "start_time": "2022-10-12T03:51:09.055833",
     "status": "completed"
    },
    "tags": []
   },
   "outputs": [],
   "source": [
    "# Закодируем город OneHotEncodding'ом\n",
    "unique_hotels = pd.get_dummies(unique_hotels, columns=['hotel_city'])"
   ]
  },
  {
   "cell_type": "code",
   "execution_count": 27,
   "id": "1b362ae8",
   "metadata": {
    "execution": {
     "iopub.execute_input": "2022-10-12T03:51:09.347113Z",
     "iopub.status.busy": "2022-10-12T03:51:09.346367Z",
     "iopub.status.idle": "2022-10-12T03:51:09.352445Z",
     "shell.execute_reply": "2022-10-12T03:51:09.353217Z",
     "shell.execute_reply.started": "2022-10-12T02:01:23.228286Z"
    },
    "papermill": {
     "duration": 0.099351,
     "end_time": "2022-10-12T03:51:09.353452",
     "exception": false,
     "start_time": "2022-10-12T03:51:09.254101",
     "status": "completed"
    },
    "tags": []
   },
   "outputs": [],
   "source": [
    "# Дропнем лишние признаки\n",
    "unique_hotels = unique_hotels.drop([\n",
    "\n",
    "    'lat',\n",
    "    'lng',\n",
    "    'city_lat',\n",
    "    'city_lng',\n",
    "    'coordinates'], axis=1)"
   ]
  },
  {
   "cell_type": "code",
   "execution_count": 28,
   "id": "82aed7d6",
   "metadata": {
    "execution": {
     "iopub.execute_input": "2022-10-12T03:51:09.535137Z",
     "iopub.status.busy": "2022-10-12T03:51:09.534405Z",
     "iopub.status.idle": "2022-10-12T03:51:10.496974Z",
     "shell.execute_reply": "2022-10-12T03:51:10.496015Z",
     "shell.execute_reply.started": "2022-10-12T02:01:23.237291Z"
    },
    "papermill": {
     "duration": 1.054486,
     "end_time": "2022-10-12T03:51:10.497178",
     "exception": false,
     "start_time": "2022-10-12T03:51:09.442692",
     "status": "completed"
    },
    "tags": []
   },
   "outputs": [
    {
     "name": "stdout",
     "output_type": "stream",
     "text": [
      "<class 'pandas.core.frame.DataFrame'>\n",
      "Int64Index: 515431 entries, 0 to 515430\n",
      "Data columns (total 31 columns):\n",
      " #   Column                                      Non-Null Count   Dtype  \n",
      "---  ------                                      --------------   -----  \n",
      " 0   hotel_address                               515431 non-null  object \n",
      " 1   additional_number_of_scoring                515431 non-null  int64  \n",
      " 2   review_date                                 515431 non-null  object \n",
      " 3   average_score                               515431 non-null  float64\n",
      " 4   hotel_name                                  515431 non-null  object \n",
      " 5   reviewer_nationality                        515431 non-null  object \n",
      " 6   negative_review                             515431 non-null  object \n",
      " 7   review_total_negative_word_counts           515431 non-null  int64  \n",
      " 8   total_number_of_reviews                     515431 non-null  int64  \n",
      " 9   positive_review                             515431 non-null  object \n",
      " 10  review_total_positive_word_counts           515431 non-null  int64  \n",
      " 11  total_number_of_reviews_reviewer_has_given  515431 non-null  int64  \n",
      " 12  tags                                        515431 non-null  object \n",
      " 13  days_since_review                           515431 non-null  object \n",
      " 14  lat                                         512163 non-null  float64\n",
      " 15  lng                                         512163 non-null  float64\n",
      " 16  sample                                      515431 non-null  int64  \n",
      " 17  reviewer_score                              515431 non-null  float64\n",
      " 18  hotel_country                               515431 non-null  object \n",
      " 19  distance_from_center                        515431 non-null  float64\n",
      " 20  city_tmax                                   515431 non-null  float64\n",
      " 21  city_tmean                                  515431 non-null  float64\n",
      " 22  city_tmin                                   515431 non-null  float64\n",
      " 23  city_sun                                    515431 non-null  float64\n",
      " 24  city_rain                                   515431 non-null  float64\n",
      " 25  hotel_city_Amsterdam                        515431 non-null  uint8  \n",
      " 26  hotel_city_Barcelona                        515431 non-null  uint8  \n",
      " 27  hotel_city_London                           515431 non-null  uint8  \n",
      " 28  hotel_city_Milan                            515431 non-null  uint8  \n",
      " 29  hotel_city_Paris                            515431 non-null  uint8  \n",
      " 30  hotel_city_Vienna                           515431 non-null  uint8  \n",
      "dtypes: float64(10), int64(6), object(9), uint8(6)\n",
      "memory usage: 105.2+ MB\n"
     ]
    }
   ],
   "source": [
    "# Обогатим исходный сет новыми признаками\n",
    "data = data.merge(unique_hotels, how='left', on='hotel_address')\n",
    "data.info()"
   ]
  },
  {
   "cell_type": "code",
   "execution_count": 29,
   "id": "fdbcaabc",
   "metadata": {
    "execution": {
     "iopub.execute_input": "2022-10-12T03:51:10.694139Z",
     "iopub.status.busy": "2022-10-12T03:51:10.691935Z",
     "iopub.status.idle": "2022-10-12T03:51:11.392471Z",
     "shell.execute_reply": "2022-10-12T03:51:11.393018Z",
     "shell.execute_reply.started": "2022-10-12T02:01:24.222037Z"
    },
    "papermill": {
     "duration": 0.801494,
     "end_time": "2022-10-12T03:51:11.393219",
     "exception": false,
     "start_time": "2022-10-12T03:51:10.591725",
     "status": "completed"
    },
    "tags": []
   },
   "outputs": [
    {
     "data": {
      "image/png": "[encoded data removed]",
      "text/plain": [
       "<Figure size 1080x360 with 1 Axes>"
      ]
     },
     "metadata": {
      "needs_background": "light"
     },
     "output_type": "display_data"
    }
   ],
   "source": [
    "# Визуализируем среднюю оценку от страны\n",
    "pivot_city = data[data['sample'] == 1][['hotel_country','reviewer_score']].groupby(\n",
    "    'hotel_country').mean()\n",
    "fig, ax = plt.subplots(figsize=(15, 5))\n",
    "plt.suptitle('Средняя оценка по отзывам в зависимости от страны отеля')\n",
    "sns.barplot(x=pivot_city.index, y=pivot_city['reviewer_score'])\n",
    "plt.ylim(8.1, 8.6)\n",
    "ax.bar_label(ax.containers[0]);"
   ]
  },
  {
   "cell_type": "code",
   "execution_count": 30,
   "id": "32b7c930",
   "metadata": {
    "execution": {
     "iopub.execute_input": "2022-10-12T03:51:11.585960Z",
     "iopub.status.busy": "2022-10-12T03:51:11.583546Z",
     "iopub.status.idle": "2022-10-12T03:51:11.630600Z",
     "shell.execute_reply": "2022-10-12T03:51:11.629872Z",
     "shell.execute_reply.started": "2022-10-12T02:01:24.936660Z"
    },
    "papermill": {
     "duration": 0.143497,
     "end_time": "2022-10-12T03:51:11.630770",
     "exception": false,
     "start_time": "2022-10-12T03:51:11.487273",
     "status": "completed"
    },
    "tags": []
   },
   "outputs": [],
   "source": [
    "# бэкап\n",
    "data_4 = data.copy()"
   ]
  },
  {
   "cell_type": "markdown",
   "id": "ba68a8bd",
   "metadata": {
    "papermill": {
     "duration": 0.091896,
     "end_time": "2022-10-12T03:51:11.813924",
     "exception": false,
     "start_time": "2022-10-12T03:51:11.722028",
     "status": "completed"
    },
    "tags": []
   },
   "source": [
    "# 5. Признак `review_date` <a class=\"anchor\" id=5></a> <a id=\"5\"></a> <br>\n",
    "\n",
    "[к содержанию](#0) \n",
    "\n",
    "## По признаку даты решим несколько задач:\n",
    "### * Выделим месяцы и дни недели\n",
    "### * Определим возраст отзывов в днях\n",
    "### * Каким-нибудь прикольным способом закодируем полученные данные"
   ]
  },
  {
   "cell_type": "code",
   "execution_count": 31,
   "id": "bb0c4ea7",
   "metadata": {
    "execution": {
     "iopub.execute_input": "2022-10-12T03:51:12.002291Z",
     "iopub.status.busy": "2022-10-12T03:51:12.001044Z",
     "iopub.status.idle": "2022-10-12T03:51:12.476569Z",
     "shell.execute_reply": "2022-10-12T03:51:12.475855Z",
     "shell.execute_reply.started": "2022-10-12T02:01:24.987904Z"
    },
    "papermill": {
     "duration": 0.571395,
     "end_time": "2022-10-12T03:51:12.476736",
     "exception": false,
     "start_time": "2022-10-12T03:51:11.905341",
     "status": "completed"
    },
    "tags": []
   },
   "outputs": [
    {
     "name": "stdout",
     "output_type": "stream",
     "text": [
      "<class 'pandas.core.frame.DataFrame'>\n",
      "Int64Index: 515431 entries, 0 to 515430\n",
      "Data columns (total 31 columns):\n",
      " #   Column                                      Non-Null Count   Dtype         \n",
      "---  ------                                      --------------   -----         \n",
      " 0   hotel_address                               515431 non-null  object        \n",
      " 1   additional_number_of_scoring                515431 non-null  int64         \n",
      " 2   review_date                                 515431 non-null  datetime64[ns]\n",
      " 3   average_score                               515431 non-null  float64       \n",
      " 4   hotel_name                                  515431 non-null  object        \n",
      " 5   reviewer_nationality                        515431 non-null  object        \n",
      " 6   negative_review                             515431 non-null  object        \n",
      " 7   review_total_negative_word_counts           515431 non-null  int64         \n",
      " 8   total_number_of_reviews                     515431 non-null  int64         \n",
      " 9   positive_review                             515431 non-null  object        \n",
      " 10  review_total_positive_word_counts           515431 non-null  int64         \n",
      " 11  total_number_of_reviews_reviewer_has_given  515431 non-null  int64         \n",
      " 12  tags                                        515431 non-null  object        \n",
      " 13  days_since_review                           515431 non-null  object        \n",
      " 14  lat                                         512163 non-null  float64       \n",
      " 15  lng                                         512163 non-null  float64       \n",
      " 16  sample                                      515431 non-null  int64         \n",
      " 17  reviewer_score                              515431 non-null  float64       \n",
      " 18  hotel_country                               515431 non-null  object        \n",
      " 19  distance_from_center                        515431 non-null  float64       \n",
      " 20  city_tmax                                   515431 non-null  float64       \n",
      " 21  city_tmean                                  515431 non-null  float64       \n",
      " 22  city_tmin                                   515431 non-null  float64       \n",
      " 23  city_sun                                    515431 non-null  float64       \n",
      " 24  city_rain                                   515431 non-null  float64       \n",
      " 25  hotel_city_Amsterdam                        515431 non-null  uint8         \n",
      " 26  hotel_city_Barcelona                        515431 non-null  uint8         \n",
      " 27  hotel_city_London                           515431 non-null  uint8         \n",
      " 28  hotel_city_Milan                            515431 non-null  uint8         \n",
      " 29  hotel_city_Paris                            515431 non-null  uint8         \n",
      " 30  hotel_city_Vienna                           515431 non-null  uint8         \n",
      "dtypes: datetime64[ns](1), float64(10), int64(6), object(8), uint8(6)\n",
      "memory usage: 105.2+ MB\n"
     ]
    }
   ],
   "source": [
    "# Приведем дату к формату Datetime\n",
    "data['review_date'] = pd.to_datetime(data['review_date'])\n",
    "data.info()"
   ]
  },
  {
   "cell_type": "code",
   "execution_count": 32,
   "id": "0163fd2d",
   "metadata": {
    "execution": {
     "iopub.execute_input": "2022-10-12T03:51:12.676915Z",
     "iopub.status.busy": "2022-10-12T03:51:12.675902Z",
     "iopub.status.idle": "2022-10-12T03:51:12.828157Z",
     "shell.execute_reply": "2022-10-12T03:51:12.827394Z",
     "shell.execute_reply.started": "2022-10-12T02:01:25.493953Z"
    },
    "papermill": {
     "duration": 0.254497,
     "end_time": "2022-10-12T03:51:12.828351",
     "exception": false,
     "start_time": "2022-10-12T03:51:12.573854",
     "status": "completed"
    },
    "tags": []
   },
   "outputs": [],
   "source": [
    "# Определим возраст отзыва в днях от \"сейчас\"\n",
    "data['days_from_today'] = (pd.Timestamp('today') - data['review_date']).dt.days\n",
    "\n",
    "# Выделим месяц и день недели\n",
    "data['month'] = data['review_date'].dt.month\n",
    "data['day_of_week'] = data['review_date'].dt.dayofweek"
   ]
  },
  {
   "cell_type": "code",
   "execution_count": 33,
   "id": "34f5eb9b",
   "metadata": {
    "execution": {
     "iopub.execute_input": "2022-10-12T03:51:13.026342Z",
     "iopub.status.busy": "2022-10-12T03:51:13.024915Z",
     "iopub.status.idle": "2022-10-12T03:51:13.383706Z",
     "shell.execute_reply": "2022-10-12T03:51:13.383045Z",
     "shell.execute_reply.started": "2022-10-12T02:01:25.647358Z"
    },
    "papermill": {
     "duration": 0.461494,
     "end_time": "2022-10-12T03:51:13.383866",
     "exception": false,
     "start_time": "2022-10-12T03:51:12.922372",
     "status": "completed"
    },
    "tags": []
   },
   "outputs": [],
   "source": [
    "# Выделим из признака days_since_review числа (дни)\n",
    "data['days_since_review'] = data['days_since_review'].apply(lambda x: x.split(sep=' ')[0]).astype('int64')"
   ]
  },
  {
   "cell_type": "code",
   "execution_count": 34,
   "id": "555f6414",
   "metadata": {
    "execution": {
     "iopub.execute_input": "2022-10-12T03:51:13.579625Z",
     "iopub.status.busy": "2022-10-12T03:51:13.577845Z",
     "iopub.status.idle": "2022-10-12T03:51:13.935935Z",
     "shell.execute_reply": "2022-10-12T03:51:13.936556Z",
     "shell.execute_reply.started": "2022-10-12T02:01:26.010019Z"
    },
    "papermill": {
     "duration": 0.460038,
     "end_time": "2022-10-12T03:51:13.936755",
     "exception": false,
     "start_time": "2022-10-12T03:51:13.476717",
     "status": "completed"
    },
    "tags": []
   },
   "outputs": [],
   "source": [
    "# Закодируем кагериальные признаки \"день недели\" и \"месяц\"\n",
    "data = pd.get_dummies(data, columns=['month','day_of_week'])"
   ]
  },
  {
   "cell_type": "code",
   "execution_count": 35,
   "id": "a3a6778a",
   "metadata": {
    "execution": {
     "iopub.execute_input": "2022-10-12T03:51:14.137997Z",
     "iopub.status.busy": "2022-10-12T03:51:14.137180Z",
     "iopub.status.idle": "2022-10-12T03:51:15.375824Z",
     "shell.execute_reply": "2022-10-12T03:51:15.376373Z",
     "shell.execute_reply.started": "2022-10-12T02:01:26.382480Z"
    },
    "papermill": {
     "duration": 1.344098,
     "end_time": "2022-10-12T03:51:15.376581",
     "exception": false,
     "start_time": "2022-10-12T03:51:14.032483",
     "status": "completed"
    },
    "tags": []
   },
   "outputs": [
    {
     "data": {
      "text/html": [
       "<div>\n",
       "<style scoped>\n",
       "    .dataframe tbody tr th:only-of-type {\n",
       "        vertical-align: middle;\n",
       "    }\n",
       "\n",
       "    .dataframe tbody tr th {\n",
       "        vertical-align: top;\n",
       "    }\n",
       "\n",
       "    .dataframe thead th {\n",
       "        text-align: right;\n",
       "    }\n",
       "</style>\n",
       "<table border=\"1\" class=\"dataframe\">\n",
       "  <thead>\n",
       "    <tr style=\"text-align: right;\">\n",
       "      <th></th>\n",
       "      <th>1</th>\n",
       "    </tr>\n",
       "  </thead>\n",
       "  <tbody>\n",
       "    <tr>\n",
       "      <th>пн</th>\n",
       "      <td>8.394454</td>\n",
       "    </tr>\n",
       "    <tr>\n",
       "      <th>вт</th>\n",
       "      <td>8.444852</td>\n",
       "    </tr>\n",
       "    <tr>\n",
       "      <th>ср</th>\n",
       "      <td>8.409730</td>\n",
       "    </tr>\n",
       "    <tr>\n",
       "      <th>чт</th>\n",
       "      <td>8.347572</td>\n",
       "    </tr>\n",
       "    <tr>\n",
       "      <th>пт</th>\n",
       "      <td>8.370972</td>\n",
       "    </tr>\n",
       "    <tr>\n",
       "      <th>сб</th>\n",
       "      <td>8.370688</td>\n",
       "    </tr>\n",
       "    <tr>\n",
       "      <th>вс</th>\n",
       "      <td>8.397227</td>\n",
       "    </tr>\n",
       "  </tbody>\n",
       "</table>\n",
       "</div>"
      ],
      "text/plain": [
       "           1\n",
       "пн  8.394454\n",
       "вт  8.444852\n",
       "ср  8.409730\n",
       "чт  8.347572\n",
       "пт  8.370972\n",
       "сб  8.370688\n",
       "вс  8.397227"
      ]
     },
     "execution_count": 35,
     "metadata": {},
     "output_type": "execute_result"
    }
   ],
   "source": [
    "# сгруппируем по дням недели\n",
    "day_0 = data[data['sample'] == 1].groupby('day_of_week_0')['reviewer_score'].mean()\n",
    "day_1 = data[data['sample'] == 1].groupby('day_of_week_1')['reviewer_score'].mean()\n",
    "day_2 = data[data['sample'] == 1].groupby('day_of_week_2')['reviewer_score'].mean()\n",
    "day_3 = data[data['sample'] == 1].groupby('day_of_week_3')['reviewer_score'].mean()\n",
    "day_4 = data[data['sample'] == 1].groupby('day_of_week_4')['reviewer_score'].mean()\n",
    "day_5 = data[data['sample'] == 1].groupby('day_of_week_5')['reviewer_score'].mean()\n",
    "day_6 = data[data['sample'] == 1].groupby('day_of_week_6')['reviewer_score'].mean()\n",
    "\n",
    "# преобразуем в df для визуализации\n",
    "day_of_week = pd.DataFrame({\n",
    "    'пн':day_0,\n",
    "    'вт':day_1,\n",
    "    'ср':day_2,\n",
    "    'чт':day_3,\n",
    "    'пт':day_4,\n",
    "    'сб':day_5,\n",
    "    'вс':day_6,}).transpose()\n",
    "\n",
    "# дропнем столбец 0, странно визуализаровать, какой была оценка \"не в понедельник\"\n",
    "day_of_week.drop(0, axis=1)"
   ]
  },
  {
   "cell_type": "code",
   "execution_count": 36,
   "id": "bfe10955",
   "metadata": {
    "execution": {
     "iopub.execute_input": "2022-10-12T03:51:15.568446Z",
     "iopub.status.busy": "2022-10-12T03:51:15.567690Z",
     "iopub.status.idle": "2022-10-12T03:51:15.854529Z",
     "shell.execute_reply": "2022-10-12T03:51:15.855046Z",
     "shell.execute_reply.started": "2022-10-12T02:01:27.630971Z"
    },
    "papermill": {
     "duration": 0.383279,
     "end_time": "2022-10-12T03:51:15.855237",
     "exception": false,
     "start_time": "2022-10-12T03:51:15.471958",
     "status": "completed"
    },
    "tags": []
   },
   "outputs": [
    {
     "data": {
      "image/png": "[encoded data removed]",
      "text/plain": [
       "<Figure size 1080x360 with 1 Axes>"
      ]
     },
     "metadata": {
      "needs_background": "light"
     },
     "output_type": "display_data"
    }
   ],
   "source": [
    "# Визуализируем среднюю оценку от дня недели\n",
    "fig, ax = plt.subplots(figsize=(15, 5))\n",
    "plt.suptitle('Средняя оценка по отзывам в зависимости от дня недели')\n",
    "sns.barplot(x=day_of_week.index, y=day_of_week[1])\n",
    "plt.ylim(8.3, 8.5)\n",
    "ax.bar_label(ax.containers[0]);"
   ]
  },
  {
   "cell_type": "markdown",
   "id": "a8953837",
   "metadata": {
    "papermill": {
     "duration": 0.096624,
     "end_time": "2022-10-12T03:51:16.049056",
     "exception": false,
     "start_time": "2022-10-12T03:51:15.952432",
     "status": "completed"
    },
    "tags": []
   },
   "source": [
    "## Ну чтож вторник - хороший день, кто бы мог подумать.."
   ]
  },
  {
   "cell_type": "code",
   "execution_count": 37,
   "id": "3679eee1",
   "metadata": {
    "execution": {
     "iopub.execute_input": "2022-10-12T03:51:16.242432Z",
     "iopub.status.busy": "2022-10-12T03:51:16.241661Z",
     "iopub.status.idle": "2022-10-12T03:51:18.124772Z",
     "shell.execute_reply": "2022-10-12T03:51:18.124001Z",
     "shell.execute_reply.started": "2022-10-12T02:01:27.951630Z"
    },
    "papermill": {
     "duration": 1.98174,
     "end_time": "2022-10-12T03:51:18.124937",
     "exception": false,
     "start_time": "2022-10-12T03:51:16.143197",
     "status": "completed"
    },
    "tags": []
   },
   "outputs": [
    {
     "data": {
      "text/html": [
       "<div>\n",
       "<style scoped>\n",
       "    .dataframe tbody tr th:only-of-type {\n",
       "        vertical-align: middle;\n",
       "    }\n",
       "\n",
       "    .dataframe tbody tr th {\n",
       "        vertical-align: top;\n",
       "    }\n",
       "\n",
       "    .dataframe thead th {\n",
       "        text-align: right;\n",
       "    }\n",
       "</style>\n",
       "<table border=\"1\" class=\"dataframe\">\n",
       "  <thead>\n",
       "    <tr style=\"text-align: right;\">\n",
       "      <th></th>\n",
       "      <th>1</th>\n",
       "    </tr>\n",
       "  </thead>\n",
       "  <tbody>\n",
       "    <tr>\n",
       "      <th>jan</th>\n",
       "      <td>8.482867</td>\n",
       "    </tr>\n",
       "    <tr>\n",
       "      <th>feb</th>\n",
       "      <td>8.535112</td>\n",
       "    </tr>\n",
       "    <tr>\n",
       "      <th>mar</th>\n",
       "      <td>8.481804</td>\n",
       "    </tr>\n",
       "    <tr>\n",
       "      <th>apr</th>\n",
       "      <td>8.432337</td>\n",
       "    </tr>\n",
       "    <tr>\n",
       "      <th>may</th>\n",
       "      <td>8.386081</td>\n",
       "    </tr>\n",
       "    <tr>\n",
       "      <th>jun</th>\n",
       "      <td>8.387518</td>\n",
       "    </tr>\n",
       "    <tr>\n",
       "      <th>jul</th>\n",
       "      <td>8.339427</td>\n",
       "    </tr>\n",
       "    <tr>\n",
       "      <th>aug</th>\n",
       "      <td>8.413316</td>\n",
       "    </tr>\n",
       "    <tr>\n",
       "      <th>sep</th>\n",
       "      <td>8.294089</td>\n",
       "    </tr>\n",
       "    <tr>\n",
       "      <th>oct</th>\n",
       "      <td>8.262772</td>\n",
       "    </tr>\n",
       "    <tr>\n",
       "      <th>nov</th>\n",
       "      <td>8.343524</td>\n",
       "    </tr>\n",
       "    <tr>\n",
       "      <th>dec</th>\n",
       "      <td>8.431357</td>\n",
       "    </tr>\n",
       "  </tbody>\n",
       "</table>\n",
       "</div>"
      ],
      "text/plain": [
       "            1\n",
       "jan  8.482867\n",
       "feb  8.535112\n",
       "mar  8.481804\n",
       "apr  8.432337\n",
       "may  8.386081\n",
       "jun  8.387518\n",
       "jul  8.339427\n",
       "aug  8.413316\n",
       "sep  8.294089\n",
       "oct  8.262772\n",
       "nov  8.343524\n",
       "dec  8.431357"
      ]
     },
     "execution_count": 37,
     "metadata": {},
     "output_type": "execute_result"
    }
   ],
   "source": [
    "# сгруппируем по дням недели\n",
    "m_1 = data[data['sample'] == 1].groupby('month_1')['reviewer_score'].mean()\n",
    "m_2 = data[data['sample'] == 1].groupby('month_2')['reviewer_score'].mean()\n",
    "m_3 = data[data['sample'] == 1].groupby('month_3')['reviewer_score'].mean()\n",
    "m_4 = data[data['sample'] == 1].groupby('month_4')['reviewer_score'].mean()\n",
    "m_5 = data[data['sample'] == 1].groupby('month_5')['reviewer_score'].mean()\n",
    "m_6 = data[data['sample'] == 1].groupby('month_6')['reviewer_score'].mean()\n",
    "m_7 = data[data['sample'] == 1].groupby('month_7')['reviewer_score'].mean()\n",
    "m_8 = data[data['sample'] == 1].groupby('month_8')['reviewer_score'].mean()\n",
    "m_9 = data[data['sample'] == 1].groupby('month_9')['reviewer_score'].mean()\n",
    "m_10 = data[data['sample'] == 1].groupby('month_10')['reviewer_score'].mean()\n",
    "m_11 = data[data['sample'] == 1].groupby('month_11')['reviewer_score'].mean()\n",
    "m_12 = data[data['sample'] == 1].groupby('month_12')['reviewer_score'].mean()\n",
    "\n",
    "# преобразуем в df для визуализации\n",
    "month = pd.DataFrame({\n",
    "    'jan':m_1,\n",
    "    'feb':m_2,\n",
    "    'mar':m_3,\n",
    "    'apr':m_4,\n",
    "    'may':m_5,\n",
    "    'jun':m_6,\n",
    "    'jul':m_7,\n",
    "    'aug':m_8,\n",
    "    'sep':m_9,\n",
    "    'oct':m_10,\n",
    "    'nov':m_11,\n",
    "    'dec':m_12}).transpose()\n",
    "\n",
    "# дропнем столбец 0, странно визуализаровать, какой была оценка \"не в понедельник\"\n",
    "month.drop(0, axis=1)"
   ]
  },
  {
   "cell_type": "code",
   "execution_count": 38,
   "id": "d2b1cad4",
   "metadata": {
    "execution": {
     "iopub.execute_input": "2022-10-12T03:51:18.344300Z",
     "iopub.status.busy": "2022-10-12T03:51:18.342037Z",
     "iopub.status.idle": "2022-10-12T03:51:18.698871Z",
     "shell.execute_reply": "2022-10-12T03:51:18.699426Z",
     "shell.execute_reply.started": "2022-10-12T02:01:29.847825Z"
    },
    "papermill": {
     "duration": 0.477181,
     "end_time": "2022-10-12T03:51:18.699630",
     "exception": false,
     "start_time": "2022-10-12T03:51:18.222449",
     "status": "completed"
    },
    "tags": []
   },
   "outputs": [
    {
     "data": {
      "image/png": "[encoded data removed]",
      "text/plain": [
       "<Figure size 1080x360 with 1 Axes>"
      ]
     },
     "metadata": {
      "needs_background": "light"
     },
     "output_type": "display_data"
    }
   ],
   "source": [
    "# Визуализируем среднюю оценку от месяца\n",
    "fig, ax = plt.subplots(figsize=(15, 5))\n",
    "plt.suptitle('Средняя оценка по отзывам в зависимости от месяца')\n",
    "sns.barplot(x=month.index, y=month[1])\n",
    "plt.ylim(8.2, 8.6)\n",
    "ax.bar_label(ax.containers[0]);"
   ]
  },
  {
   "cell_type": "code",
   "execution_count": 39,
   "id": "fc5d05d2",
   "metadata": {
    "execution": {
     "iopub.execute_input": "2022-10-12T03:51:18.901065Z",
     "iopub.status.busy": "2022-10-12T03:51:18.900306Z",
     "iopub.status.idle": "2022-10-12T03:51:18.948990Z",
     "shell.execute_reply": "2022-10-12T03:51:18.949642Z",
     "shell.execute_reply.started": "2022-10-12T02:01:30.249903Z"
    },
    "papermill": {
     "duration": 0.15252,
     "end_time": "2022-10-12T03:51:18.949844",
     "exception": false,
     "start_time": "2022-10-12T03:51:18.797324",
     "status": "completed"
    },
    "tags": []
   },
   "outputs": [],
   "source": [
    "# backup\n",
    "data_5 = data.copy()"
   ]
  },
  {
   "cell_type": "markdown",
   "id": "d502629f",
   "metadata": {
    "papermill": {
     "duration": 0.096664,
     "end_time": "2022-10-12T03:51:19.144775",
     "exception": false,
     "start_time": "2022-10-12T03:51:19.048111",
     "status": "completed"
    },
    "tags": []
   },
   "source": [
    "## Февраль? Серьёзно? Кто любит путешествовать в феврале?"
   ]
  },
  {
   "cell_type": "markdown",
   "id": "647cc415",
   "metadata": {
    "papermill": {
     "duration": 0.099397,
     "end_time": "2022-10-12T03:51:19.342017",
     "exception": false,
     "start_time": "2022-10-12T03:51:19.242620",
     "status": "completed"
    },
    "tags": []
   },
   "source": [
    "# 6. Признак `reviewer_nationality` <a class=\"anchor\" id=6></a> <a id=\"6\"></a> <br>\n",
    "\n",
    "[к содержанию](#0) \n",
    "\n",
    "## По признаку национальности решим такие задачи:\n",
    "### * Введём признак путешествия внутри своей страны / за границей\n",
    "### * Введём признак религии\n",
    "### * Введём признак англоговорящих стран\n",
    "### * Закодируем признак национальности двоичным кодером"
   ]
  },
  {
   "cell_type": "code",
   "execution_count": 40,
   "id": "6a3311bd",
   "metadata": {
    "execution": {
     "iopub.execute_input": "2022-10-12T03:51:19.536930Z",
     "iopub.status.busy": "2022-10-12T03:51:19.536098Z",
     "iopub.status.idle": "2022-10-12T03:51:19.694113Z",
     "shell.execute_reply": "2022-10-12T03:51:19.694718Z",
     "shell.execute_reply.started": "2022-10-12T02:01:30.302651Z"
    },
    "papermill": {
     "duration": 0.255451,
     "end_time": "2022-10-12T03:51:19.694907",
     "exception": false,
     "start_time": "2022-10-12T03:51:19.439456",
     "status": "completed"
    },
    "tags": []
   },
   "outputs": [],
   "source": [
    "# Уберем лишние пробелы с начала и конца строки\n",
    "data['reviewer_nationality'] = data['reviewer_nationality'].apply(lambda x: x.strip())"
   ]
  },
  {
   "cell_type": "code",
   "execution_count": 41,
   "id": "70b76a80",
   "metadata": {
    "execution": {
     "iopub.execute_input": "2022-10-12T03:51:20.092469Z",
     "iopub.status.busy": "2022-10-12T03:51:19.886117Z",
     "iopub.status.idle": "2022-10-12T03:51:31.443802Z",
     "shell.execute_reply": "2022-10-12T03:51:31.444475Z",
     "shell.execute_reply.started": "2022-10-12T02:01:30.467333Z"
    },
    "papermill": {
     "duration": 11.656211,
     "end_time": "2022-10-12T03:51:31.444671",
     "exception": false,
     "start_time": "2022-10-12T03:51:19.788460",
     "status": "completed"
    },
    "tags": []
   },
   "outputs": [
    {
     "name": "stdout",
     "output_type": "stream",
     "text": [
      "CPU times: user 10.9 s, sys: 678 ms, total: 11.5 s\n",
      "Wall time: 11.6 s\n"
     ]
    }
   ],
   "source": [
    "%%time\n",
    "# Добавим признак is_tourist где 1 - путешествие в другую страну, 0 - внутри своей\n",
    "data['is_tourist'] = data.apply(lambda x: 1 if x['reviewer_nationality'] == x['hotel_country'] else 0, axis=1)"
   ]
  },
  {
   "cell_type": "code",
   "execution_count": 42,
   "id": "fbb65f01",
   "metadata": {
    "execution": {
     "iopub.execute_input": "2022-10-12T03:51:31.646406Z",
     "iopub.status.busy": "2022-10-12T03:51:31.644897Z",
     "iopub.status.idle": "2022-10-12T03:51:32.234914Z",
     "shell.execute_reply": "2022-10-12T03:51:32.234322Z",
     "shell.execute_reply.started": "2022-10-12T02:01:42.007516Z"
    },
    "papermill": {
     "duration": 0.691887,
     "end_time": "2022-10-12T03:51:32.235070",
     "exception": false,
     "start_time": "2022-10-12T03:51:31.543183",
     "status": "completed"
    },
    "tags": []
   },
   "outputs": [
    {
     "name": "stdout",
     "output_type": "stream",
     "text": [
      "CPU times: user 586 ms, sys: 0 ns, total: 586 ms\n",
      "Wall time: 587 ms\n"
     ]
    }
   ],
   "source": [
    "%%time\n",
    "# Список стран где доминирующей религией является мусульманство\n",
    "muslim_countries = ['Afghanistan','Albania','Algeria','All Countries',\n",
    "    'Azerbaijan','Bahrain','Bangladesh','Brunei','Comoros','Djibouti','Egypt',\n",
    "    'Gambia','Guinea','Indonesia','Iran','Iraq','Jordan','Kazakhstan','Kosovo',\n",
    "    'Kuwait','Kyrgyzstan','Libya','Malaysia','Maldives','Mali','Mauritania',\n",
    "    'Mayotte','Morocco','Niger','Oman','Pakistan','Palestinian territories',\n",
    "    'Saudi Arabia','Senegal','Sierra Leone','Somalia','Sudan', 'Syria',\n",
    "    'Tajikistan','Tunisia','Turkey','Turkmenistan','United Arab Emirates',\n",
    "     'Uzbekistan','Western Sahara','Yemen']\n",
    "\n",
    "# Введём признак is_muslim 1 - мусульманин, 0 - нет\n",
    "data['is_muslim'] = data['reviewer_nationality'].apply(lambda x: 1 if x in muslim_countries else 0)"
   ]
  },
  {
   "cell_type": "code",
   "execution_count": 43,
   "id": "b3a37c1e",
   "metadata": {
    "execution": {
     "iopub.execute_input": "2022-10-12T03:51:32.442703Z",
     "iopub.status.busy": "2022-10-12T03:51:32.438239Z",
     "iopub.status.idle": "2022-10-12T03:51:33.163947Z",
     "shell.execute_reply": "2022-10-12T03:51:33.163168Z",
     "shell.execute_reply.started": "2022-10-12T02:01:42.595970Z"
    },
    "papermill": {
     "duration": 0.832065,
     "end_time": "2022-10-12T03:51:33.164166",
     "exception": false,
     "start_time": "2022-10-12T03:51:32.332101",
     "status": "completed"
    },
    "tags": []
   },
   "outputs": [
    {
     "name": "stdout",
     "output_type": "stream",
     "text": [
      "CPU times: user 721 ms, sys: 0 ns, total: 721 ms\n",
      "Wall time: 721 ms\n"
     ]
    }
   ],
   "source": [
    "%%time\n",
    "# Список ангоговорящих стран\n",
    "en_lang = ['Antigua and Barbuda','The Bahamas','Barbados','Belize','Botswana','Burundi',\n",
    "    'Cameroon','Canada','Dominica','Eswatini','Fiji','The Gambia','Ghana','Grenada',\n",
    "    'Guyana','India','Ireland','Jamaica','Kenya','Kiribati','Lesotho','Liberia','Malawi',\n",
    "    'Malta','Marshall Islands','Mauritius','Micronesia','Namibia','Nauru','Nigeria',\n",
    "    'Pakistan','Palau','Papua New Guinea','The Philippines','Rwanda','Saint Kitts and Nevis',\n",
    "    'Saint Lucia','Saint Vincent and the Grenadines','Samoa','Seychelles','Sierra Leone',\n",
    "    'Singapore','Solomon Islands','South Africa','South Sudan','Sudan','Tanzania','Tonga',\n",
    "    'Trinidad and Tobago','Tuvalu','Uganda','Vanuatu','Zambia','Zimbabwe','Australia',\n",
    "    'New Zealand','United Kingdom','United States','Bahrain','Bangladesh','Bhutan','Cambodia',\n",
    "    'Cyprus','Eritrea','Ethiopia','Israel','Jordan','Kuwait','Malaysia','Maldives','Myanmar',\n",
    "    'Oman','Qatar','Sri Lanka','United Arab Emirates']\n",
    "\n",
    "# Введём признак is_english 1 - yes, 0 - no\n",
    "data['is_english'] = data['reviewer_nationality'].apply(lambda x: 1 if x in en_lang else 0)"
   ]
  },
  {
   "cell_type": "code",
   "execution_count": 44,
   "id": "606597a4",
   "metadata": {
    "execution": {
     "iopub.execute_input": "2022-10-12T03:51:33.367704Z",
     "iopub.status.busy": "2022-10-12T03:51:33.366388Z",
     "iopub.status.idle": "2022-10-12T03:51:33.908389Z",
     "shell.execute_reply": "2022-10-12T03:51:33.908973Z",
     "shell.execute_reply.started": "2022-10-12T02:01:43.344011Z"
    },
    "papermill": {
     "duration": 0.646638,
     "end_time": "2022-10-12T03:51:33.909168",
     "exception": false,
     "start_time": "2022-10-12T03:51:33.262530",
     "status": "completed"
    },
    "tags": []
   },
   "outputs": [
    {
     "name": "stdout",
     "output_type": "stream",
     "text": [
      "CPU times: user 459 ms, sys: 78 ms, total: 537 ms\n",
      "Wall time: 538 ms\n"
     ]
    }
   ],
   "source": [
    "%%time\n",
    "# Закодируем признак reviewer_nationality двоичным кодированием\n",
    "bin_encoder = ce.BinaryEncoder(cols=['reviewer_nationality']) \n",
    "type_bin = bin_encoder.fit_transform(data['reviewer_nationality'])\n",
    "data = pd.concat([data, type_bin], axis=1)"
   ]
  },
  {
   "cell_type": "code",
   "execution_count": 45,
   "id": "6be42102",
   "metadata": {
    "execution": {
     "iopub.execute_input": "2022-10-12T03:51:34.109440Z",
     "iopub.status.busy": "2022-10-12T03:51:34.108656Z",
     "iopub.status.idle": "2022-10-12T03:51:35.128007Z",
     "shell.execute_reply": "2022-10-12T03:51:35.127305Z",
     "shell.execute_reply.started": "2022-10-12T02:01:43.901669Z"
    },
    "papermill": {
     "duration": 1.123642,
     "end_time": "2022-10-12T03:51:35.128152",
     "exception": false,
     "start_time": "2022-10-12T03:51:34.004510",
     "status": "completed"
    },
    "tags": []
   },
   "outputs": [
    {
     "name": "stdout",
     "output_type": "stream",
     "text": [
      "CPU times: user 711 ms, sys: 91.8 ms, total: 802 ms\n",
      "Wall time: 782 ms\n"
     ]
    },
    {
     "data": {
      "text/plain": [
       "(7.6, 8.6)"
      ]
     },
     "execution_count": 45,
     "metadata": {},
     "output_type": "execute_result"
    },
    {
     "data": {
      "image/png": "[encoded data removed]",
      "text/plain": [
       "<Figure size 1440x360 with 1 Axes>"
      ]
     },
     "metadata": {
      "needs_background": "light"
     },
     "output_type": "display_data"
    }
   ],
   "source": [
    "%%time\n",
    "pivot_tour = data[data['sample'] == 1].groupby('is_tourist')['reviewer_score'].mean()\n",
    "pivot_musl = data[data['sample'] == 1].groupby('is_muslim')['reviewer_score'].mean()\n",
    "pivot_en = data[data['sample'] == 1].groupby('is_english')['reviewer_score'].mean()\n",
    "\n",
    "pivot = pd.DataFrame({\n",
    "    'турист':pivot_tour,\n",
    "    'мусульманин':pivot_musl,\n",
    "    'англоговорящий':pivot_en}).transpose()\n",
    "\n",
    "fig, ax = plt.subplots(figsize=(20, 5))\n",
    "plt.suptitle('Средняя оценка по отзывам в зависимости от признаков национальности', fontsize=14)\n",
    "pplot = pivot.plot(ax=ax,\n",
    "    kind='bar',  \n",
    "    rot=0)\n",
    "\n",
    "ax.legend(['нет', 'да'], loc='upper right', fontsize=14)\n",
    "\n",
    "for p in pplot.patches:\n",
    "    pplot.annotate('{:.2f}'.format(p.get_height()), (p.get_x()+0.1, p.get_height()),\n",
    "    ha='center', va='bottom', fontsize=14)\n",
    "    \n",
    "plt.ylim(7.6, 8.6)"
   ]
  },
  {
   "cell_type": "code",
   "execution_count": 46,
   "id": "b8fc9291",
   "metadata": {
    "execution": {
     "iopub.execute_input": "2022-10-12T03:51:35.360833Z",
     "iopub.status.busy": "2022-10-12T03:51:35.359377Z",
     "iopub.status.idle": "2022-10-12T03:51:35.436538Z",
     "shell.execute_reply": "2022-10-12T03:51:35.437139Z",
     "shell.execute_reply.started": "2022-10-12T02:01:44.958183Z"
    },
    "papermill": {
     "duration": 0.21065,
     "end_time": "2022-10-12T03:51:35.437508",
     "exception": false,
     "start_time": "2022-10-12T03:51:35.226858",
     "status": "completed"
    },
    "tags": []
   },
   "outputs": [],
   "source": [
    "#backup\n",
    "data_6 = data.copy()"
   ]
  },
  {
   "cell_type": "markdown",
   "id": "afa0c72e",
   "metadata": {
    "papermill": {
     "duration": 0.109921,
     "end_time": "2022-10-12T03:51:35.651944",
     "exception": false,
     "start_time": "2022-10-12T03:51:35.542023",
     "status": "completed"
    },
    "tags": []
   },
   "source": [
    "# 7. Признак `tags` <a class=\"anchor\" id=7></a> <a id=\"7\"></a> <br>\n",
    "\n",
    "[к содержанию](#0) \n",
    "\n",
    "## По признаку 'tags' сделаем следующее:\n",
    "### * Получим список уникальных тегов\n",
    "### * Закодируем значимые теги\n",
    "### * Построим пару графиков"
   ]
  },
  {
   "cell_type": "code",
   "execution_count": 47,
   "id": "2a37dbed",
   "metadata": {
    "execution": {
     "iopub.execute_input": "2022-10-12T03:51:35.860395Z",
     "iopub.status.busy": "2022-10-12T03:51:35.859070Z",
     "iopub.status.idle": "2022-10-12T03:51:35.865161Z",
     "shell.execute_reply": "2022-10-12T03:51:35.865750Z",
     "shell.execute_reply.started": "2022-10-12T02:01:45.042210Z"
    },
    "papermill": {
     "duration": 0.108786,
     "end_time": "2022-10-12T03:51:35.865938",
     "exception": false,
     "start_time": "2022-10-12T03:51:35.757152",
     "status": "completed"
    },
    "tags": []
   },
   "outputs": [],
   "source": [
    "def tag_fixer(data):\n",
    "    \"\"\"Переделает теги, уберёт лишние пробелы и преобразует в список\"\"\"\n",
    "    tags_fixed = []\n",
    "    for tag in list(data.replace('[', '').replace(']', '').replace(\"'\", '').split(',')):\n",
    "        tag = tag.strip()\n",
    "        tags_fixed.append(tag)\n",
    "    return tags_fixed"
   ]
  },
  {
   "cell_type": "code",
   "execution_count": 48,
   "id": "9e22fdbf",
   "metadata": {
    "execution": {
     "iopub.execute_input": "2022-10-12T03:51:36.075096Z",
     "iopub.status.busy": "2022-10-12T03:51:36.074325Z",
     "iopub.status.idle": "2022-10-12T03:51:38.704437Z",
     "shell.execute_reply": "2022-10-12T03:51:38.703876Z",
     "shell.execute_reply.started": "2022-10-12T02:01:45.052630Z"
    },
    "papermill": {
     "duration": 2.738055,
     "end_time": "2022-10-12T03:51:38.704593",
     "exception": false,
     "start_time": "2022-10-12T03:51:35.966538",
     "status": "completed"
    },
    "tags": []
   },
   "outputs": [
    {
     "name": "stdout",
     "output_type": "stream",
     "text": [
      "CPU times: user 2.5 s, sys: 119 ms, total: 2.62 s\n",
      "Wall time: 2.63 s\n"
     ]
    }
   ],
   "source": [
    "%%time\n",
    "# \"починим\" теги\n",
    "data['tags'] = data['tags'].apply(tag_fixer)"
   ]
  },
  {
   "cell_type": "code",
   "execution_count": 49,
   "id": "657d2f07",
   "metadata": {
    "execution": {
     "iopub.execute_input": "2022-10-12T03:51:38.913823Z",
     "iopub.status.busy": "2022-10-12T03:51:38.912777Z",
     "iopub.status.idle": "2022-10-12T03:51:39.154588Z",
     "shell.execute_reply": "2022-10-12T03:51:39.155114Z",
     "shell.execute_reply.started": "2022-10-12T02:01:47.687413Z"
    },
    "papermill": {
     "duration": 0.349983,
     "end_time": "2022-10-12T03:51:39.155342",
     "exception": false,
     "start_time": "2022-10-12T03:51:38.805359",
     "status": "completed"
    },
    "tags": []
   },
   "outputs": [
    {
     "name": "stdout",
     "output_type": "stream",
     "text": [
      "CPU times: user 240 ms, sys: 1.03 ms, total: 241 ms\n",
      "Wall time: 241 ms\n"
     ]
    }
   ],
   "source": [
    "%%time\n",
    "# получим список использованных тегов и наибольшее количество тегов \"в ряд\"\n",
    "tags_list = []\n",
    "max_tags_line = 0\n",
    "for tags in data['tags']:\n",
    "    tags_list.extend(tags)\n",
    "    if len(tags) > max_tags_line:\n",
    "        max_tags_line = len(tags)"
   ]
  },
  {
   "cell_type": "code",
   "execution_count": 50,
   "id": "7990b0e3",
   "metadata": {
    "execution": {
     "iopub.execute_input": "2022-10-12T03:51:39.520117Z",
     "iopub.status.busy": "2022-10-12T03:51:39.519372Z",
     "iopub.status.idle": "2022-10-12T03:51:39.523480Z",
     "shell.execute_reply": "2022-10-12T03:51:39.522767Z",
     "shell.execute_reply.started": "2022-10-12T02:01:47.916714Z"
    },
    "papermill": {
     "duration": 0.267247,
     "end_time": "2022-10-12T03:51:39.523642",
     "exception": false,
     "start_time": "2022-10-12T03:51:39.256395",
     "status": "completed"
    },
    "tags": []
   },
   "outputs": [
    {
     "name": "stdout",
     "output_type": "stream",
     "text": [
      "Максимальное количество тегов в одном отзыве: 6\n",
      "Количество уникальных тегов: 2428\n"
     ]
    }
   ],
   "source": [
    "print(f'Максимальное количество тегов в одном отзыве: {max_tags_line}\\nКоличество уникальных тегов: {len(set(tags_list))}')"
   ]
  },
  {
   "cell_type": "code",
   "execution_count": 51,
   "id": "03d74789",
   "metadata": {
    "execution": {
     "iopub.execute_input": "2022-10-12T03:51:39.961945Z",
     "iopub.status.busy": "2022-10-12T03:51:39.959153Z",
     "iopub.status.idle": "2022-10-12T03:51:39.966375Z",
     "shell.execute_reply": "2022-10-12T03:51:39.966963Z",
     "shell.execute_reply.started": "2022-10-12T02:01:48.141725Z"
    },
    "papermill": {
     "duration": 0.343934,
     "end_time": "2022-10-12T03:51:39.967151",
     "exception": false,
     "start_time": "2022-10-12T03:51:39.623217",
     "status": "completed"
    },
    "tags": []
   },
   "outputs": [
    {
     "name": "stdout",
     "output_type": "stream",
     "text": [
      "CPU times: user 232 ms, sys: 83 µs, total: 233 ms\n",
      "Wall time: 231 ms\n"
     ]
    },
    {
     "data": {
      "text/plain": [
       "[('Leisure trip', 417538),\n",
       " ('Submitted from a mobile device', 307470),\n",
       " ('Couple', 252128),\n",
       " ('Stayed 1 night', 193568),\n",
       " ('Stayed 2 nights', 133850),\n",
       " ('Solo traveler', 108476),\n",
       " ('Stayed 3 nights', 95761),\n",
       " ('Business trip', 82884),\n",
       " ('Group', 65361),\n",
       " ('Family with young children', 60989),\n",
       " ('Stayed 4 nights', 47777),\n",
       " ('Double Room', 35207),\n",
       " ('Standard Double Room', 32247),\n",
       " ('Superior Double Room', 31361),\n",
       " ('Family with older children', 26334),\n",
       " ('Deluxe Double Room', 24812),\n",
       " ('Double or Twin Room', 22393),\n",
       " ('Stayed 5 nights', 20826),\n",
       " ('Standard Double or Twin Room', 17479),\n",
       " ('Classic Double Room', 16877)]"
      ]
     },
     "execution_count": 51,
     "metadata": {},
     "output_type": "execute_result"
    }
   ],
   "source": [
    "%%time\n",
    "# посмотрим на ниболее популярные теги\n",
    "tags_count = Counter(tags_list)\n",
    "tags_count.most_common(20)\n"
   ]
  },
  {
   "cell_type": "markdown",
   "id": "0d742534",
   "metadata": {
    "papermill": {
     "duration": 0.099854,
     "end_time": "2022-10-12T03:51:40.168324",
     "exception": false,
     "start_time": "2022-10-12T03:51:40.068470",
     "status": "completed"
    },
    "tags": []
   },
   "source": [
    "### Пожно выделить следующие типы тегов:\n",
    "\n",
    " * Назначение поездки (работа / отдых)\n",
    " * Продолжительность пребывания\n",
    " * Количество гостей\n",
    " * Путешествие с животными\n",
    " * Отзыв написан с мобильного девайса\n",
    " * Вид номера (их овердохрена)\n",
    "\n",
    "### Все теги (кроме видов номера) закодируем"
   ]
  },
  {
   "cell_type": "code",
   "execution_count": 52,
   "id": "c2b767f8",
   "metadata": {
    "execution": {
     "iopub.execute_input": "2022-10-12T03:51:40.437791Z",
     "iopub.status.busy": "2022-10-12T03:51:40.436985Z",
     "iopub.status.idle": "2022-10-12T03:51:46.857113Z",
     "shell.execute_reply": "2022-10-12T03:51:46.856539Z",
     "shell.execute_reply.started": "2022-10-12T02:01:48.384355Z"
    },
    "papermill": {
     "duration": 6.587366,
     "end_time": "2022-10-12T03:51:46.857310",
     "exception": false,
     "start_time": "2022-10-12T03:51:40.269944",
     "status": "completed"
    },
    "tags": []
   },
   "outputs": [
    {
     "name": "stdout",
     "output_type": "stream",
     "text": [
      "CPU times: user 6.37 s, sys: 42.1 ms, total: 6.41 s\n",
      "Wall time: 6.42 s\n"
     ]
    }
   ],
   "source": [
    "%%time\n",
    "# закодируем вид поездки\n",
    "data['Leisure trip'] = data['tags'].apply(lambda x: 1 if 'Leisure trip' in x else 0)\n",
    "data['Business trip'] = data['tags'].apply(lambda x: 1 if 'Business trip' in x else 0)\n",
    "\n",
    "# продолжительность пребывания\n",
    "data['Stayed 1 night'] = data['tags'].apply(lambda x: 1 if 'Stayed 1 night' in x else 0)\n",
    "data['Stayed 2 nights'] = data['tags'].apply(lambda x: 1 if 'Stayed 2 nights' in x else 0)\n",
    "data['Stayed 3 nights'] = data['tags'].apply(lambda x: 1 if 'Stayed 3 nights' in x else 0)\n",
    "data['Stayed 4 nights'] = data['tags'].apply(lambda x: 1 if 'Stayed 4 nights' in x else 0)\n",
    "data['Stayed 5 nights'] = data['tags'].apply(lambda x: 1 if 'Stayed 5 nights' in x else 0)\n",
    "data['Stayed 6 nights'] = data['tags'].apply(lambda x: 1 if 'Stayed 6 nights' in x else 0)\n",
    "data['Stayed 7 nights'] = data['tags'].apply(lambda x: 1 if 'Stayed 7 nights' in x else 0)\n",
    "data['Stayed 8 nights'] = data['tags'].apply(lambda x: 1 if 'Stayed 8 nights' in x else 0)\n",
    "data['Stayed 9 nights'] = data['tags'].apply(lambda x: 1 if 'Stayed 9 nights' in x else 0)\n",
    "data['Stayed 10 nights'] = data['tags'].apply(lambda x: 1 if 'Stayed 10 nights' in x else 0)\n",
    "data['Stayed 11-20 nights'] = data['tags'].apply(lambda x: 1 if ('Stayed 11 nights' in x) \n",
    "    or ('Stayed 12 nights' in x) or ('Stayed 13 nights' in x) or ('Stayed 14 nights' in x)\n",
    "    or ('Stayed 15 nights' in x) or ('Stayed 16 nights' in x) or ('Stayed 17 nights' in x)\n",
    "    or ('Stayed 18 nights' in x) or ('Stayed 19 nights' in x) or ('Stayed 20 nights' in x) else 0)\n",
    "data['Stayed 21-31 nights'] = data['tags'].apply(lambda x: 1 if ('Stayed 21 nights' in x) \n",
    "    or ('Stayed 22 nights' in x) or ('Stayed 23 nights' in x) or ('Stayed 24 nights' in x)\n",
    "    or ('Stayed 25 nights' in x) or ('Stayed 26 nights' in x) or ('Stayed 27 nights' in x)\n",
    "    or ('Stayed 28 nights' in x) or ('Stayed 29 nights' in x) or ('Stayed 30 nights' in x) or ('Stayed 31 nights' in x) else 0)\n",
    "\n",
    "\n",
    "# количество гостей\n",
    "data['Solo traveler'] = data['tags'].apply(lambda x: 1 if 'Solo traveler' in x else 0)\n",
    "data['Couple'] = data['tags'].apply(lambda x: 1 if 'Couple' in x else 0)\n",
    "data['Group'] = data['tags'].apply(lambda x: 1 if 'Group' in x else 0)\n",
    "data['Travelers with friends'] = data['tags'].apply(lambda x: 1 if 'Travelers with friends' in x else 0)\n",
    "data['Family with young children'] = data['tags'].apply(lambda x: 1 if 'Family with young children' in x else 0)\n",
    "data['Family with older children'] = data['tags'].apply(lambda x: 1 if 'Family with older children' in x else 0)\n",
    "\n",
    "# признак написания отзыва с мобильного устройства\n",
    "data['Submitted from a mobile device'] = data['tags'].apply(lambda x: 1 if 'Submitted from a mobile device' in x else 0)"
   ]
  },
  {
   "cell_type": "code",
   "execution_count": 53,
   "id": "d439d1cf",
   "metadata": {
    "execution": {
     "iopub.execute_input": "2022-10-12T03:51:47.067965Z",
     "iopub.status.busy": "2022-10-12T03:51:47.067212Z",
     "iopub.status.idle": "2022-10-12T03:51:47.070434Z",
     "shell.execute_reply": "2022-10-12T03:51:47.069776Z",
     "shell.execute_reply.started": "2022-10-12T02:01:54.950091Z"
    },
    "papermill": {
     "duration": 0.114733,
     "end_time": "2022-10-12T03:51:47.070612",
     "exception": false,
     "start_time": "2022-10-12T03:51:46.955879",
     "status": "completed"
    },
    "tags": []
   },
   "outputs": [],
   "source": [
    "def get_room_type(data):\n",
    "    \"\"\"классификатор вида номеров\"\"\"\n",
    "    # сначала поищем класс номера\n",
    "    result = None\n",
    "    double = None\n",
    "    for room in data:\n",
    "        if 'Classic' in room:\n",
    "            result = 'Classic'\n",
    "        elif 'Guestroom' in room:\n",
    "            result = 'Guestroom'\n",
    "        elif 'Single' in room:\n",
    "            result = 'Single'\n",
    "        elif 'Standard' in room:\n",
    "            result = 'Standard'\n",
    "        elif 'Superior' in room:\n",
    "            result = 'Superior'\n",
    "        elif 'Comfort' in room:\n",
    "            result = 'Comfort'\n",
    "        elif 'Club' in room:\n",
    "            result = 'Club'\n",
    "        elif 'Suite' in room:\n",
    "            result = 'Suite'\n",
    "        elif 'Deluxe' in room:\n",
    "            result = 'Deluxe'\n",
    "        elif 'King' in room:\n",
    "            result = 'King'\n",
    "        elif 'Superior' in room:\n",
    "            result = 'Superior'\n",
    "        elif 'Premier' in room:\n",
    "            result = 'Premier'\n",
    "        elif 'without Window' in room:\n",
    "            result = 'without Window'\n",
    "        elif 'Queen' in room:\n",
    "            result = 'Queen'\n",
    "        elif 'Triple' in room:\n",
    "            result = 'Triple'            \n",
    "        elif 'Executive' in room:\n",
    "            result = 'Executive'\n",
    "        elif 'Large' in room:\n",
    "            result = 'Large'    \n",
    "        elif 'Luxury' in room:\n",
    "            result = 'Luxury'            \n",
    "        elif 'Studio' in room:\n",
    "            result = 'Studio'\n",
    "        elif 'Privilege' in room:\n",
    "            result = 'Privilege' \n",
    "        elif 'Family Room' in room:\n",
    "            result = 'Family Room'\n",
    "        elif 'Quadruple' in room:\n",
    "            result = 'Quadruple' \n",
    "            \n",
    "    # теперь добавим отметку о 2х комнатности        \n",
    "    for room in data:\n",
    "        if 'Twin' in room or 'Double' in room or '2 rooms' in room:\n",
    "            double = 'Double'\n",
    "    # собирём вместе результат\n",
    "    if result and double:\n",
    "        return result+' '+double\n",
    "    elif result and double is None:\n",
    "        return result\n",
    "    elif result is None and double:\n",
    "        return double\n",
    "    else:\n",
    "        return 'Other'"
   ]
  },
  {
   "cell_type": "code",
   "execution_count": 54,
   "id": "ce34e014",
   "metadata": {
    "execution": {
     "iopub.execute_input": "2022-10-12T03:51:47.283201Z",
     "iopub.status.busy": "2022-10-12T03:51:47.282283Z",
     "iopub.status.idle": "2022-10-12T03:51:50.198130Z",
     "shell.execute_reply": "2022-10-12T03:51:50.197477Z",
     "shell.execute_reply.started": "2022-10-12T02:01:54.964442Z"
    },
    "papermill": {
     "duration": 3.028677,
     "end_time": "2022-10-12T03:51:50.198319",
     "exception": false,
     "start_time": "2022-10-12T03:51:47.169642",
     "status": "completed"
    },
    "tags": []
   },
   "outputs": [
    {
     "name": "stdout",
     "output_type": "stream",
     "text": [
      "CPU times: user 2.75 s, sys: 167 ms, total: 2.91 s\n",
      "Wall time: 2.92 s\n"
     ]
    }
   ],
   "source": [
    "%%time\n",
    "# Определим основные типы комнат\n",
    "data['room_type'] = data['tags'].apply(get_room_type)\n",
    "\n",
    "# Закодируем их двоичным кодированием\n",
    "bin_encoder = ce.BinaryEncoder(cols=['room_type']) \n",
    "type_bin = bin_encoder.fit_transform(data['room_type'])\n",
    "data = pd.concat([data, type_bin], axis=1)"
   ]
  },
  {
   "cell_type": "code",
   "execution_count": 55,
   "id": "0b2151a6",
   "metadata": {
    "execution": {
     "iopub.execute_input": "2022-10-12T03:51:50.411379Z",
     "iopub.status.busy": "2022-10-12T03:51:50.408927Z",
     "iopub.status.idle": "2022-10-12T03:51:51.425944Z",
     "shell.execute_reply": "2022-10-12T03:51:51.426475Z",
     "shell.execute_reply.started": "2022-10-12T02:01:57.902298Z"
    },
    "papermill": {
     "duration": 1.12728,
     "end_time": "2022-10-12T03:51:51.426676",
     "exception": false,
     "start_time": "2022-10-12T03:51:50.299396",
     "status": "completed"
    },
    "tags": []
   },
   "outputs": [],
   "source": [
    "#  введём условия\n",
    "mask0 = data['sample'] == 1\n",
    "mask1 = data['room_type'] == 'Double'\n",
    "mask2 = data['room_type'] == 'Standard Double'\n",
    "mask3 = data['room_type'] == 'Superior Double'\n",
    "mask4 = data['room_type'] == 'Deluxe Double'\n",
    "mask5 = data['room_type'] == 'Classic Double'\n",
    "mask6 = data['room_type'] == 'Superior'\n",
    "mask7 = data['room_type'] == 'Deluxe'\n",
    "mask8 = data['room_type'] == 'Queen'\n",
    "mask9 = data['room_type'] == 'Suite'\n",
    "mask10 = data['room_type'] == 'King'\n",
    "\n",
    "# получим средние оценки\n",
    "r_1 = data[mask0 & mask1]['reviewer_score'].mean()\n",
    "r_2 = data[mask0 & mask2]['reviewer_score'].mean()\n",
    "r_3 = data[mask0 & mask3]['reviewer_score'].mean()\n",
    "r_4 = data[mask0 & mask4]['reviewer_score'].mean()\n",
    "r_5 = data[mask0 & mask5]['reviewer_score'].mean()\n",
    "r_6 = data[mask0 & mask6]['reviewer_score'].mean()\n",
    "r_7 = data[mask0 & mask7]['reviewer_score'].mean()\n",
    "r_8 = data[mask0 & mask8]['reviewer_score'].mean()\n",
    "r_9 = data[mask0 & mask9]['reviewer_score'].mean()\n",
    "r_10 = data[mask0 & mask10]['reviewer_score'].mean()\n",
    "\n",
    "# преобразуем в df для визуализации\n",
    "rooms = pd.DataFrame({'reviewer_score':[r_1,r_2,r_3,r_4,r_5,r_6,r_7,r_8,r_9,r_10]})\n",
    "rooms.index = ['Double','Standard Double','Superior Double','Deluxe Double',\n",
    "               'Classic Double','Superior','Deluxe','Queen','Suite','King']"
   ]
  },
  {
   "cell_type": "code",
   "execution_count": 56,
   "id": "061dea26",
   "metadata": {
    "execution": {
     "iopub.execute_input": "2022-10-12T03:51:51.647544Z",
     "iopub.status.busy": "2022-10-12T03:51:51.646784Z",
     "iopub.status.idle": "2022-10-12T03:51:52.060314Z",
     "shell.execute_reply": "2022-10-12T03:51:52.059574Z",
     "shell.execute_reply.started": "2022-10-12T02:01:58.927674Z"
    },
    "papermill": {
     "duration": 0.529372,
     "end_time": "2022-10-12T03:51:52.060482",
     "exception": false,
     "start_time": "2022-10-12T03:51:51.531110",
     "status": "completed"
    },
    "tags": []
   },
   "outputs": [
    {
     "data": {
      "image/png": "[encoded data removed]",
      "text/plain": [
       "<Figure size 1080x360 with 1 Axes>"
      ]
     },
     "metadata": {
      "needs_background": "light"
     },
     "output_type": "display_data"
    }
   ],
   "source": [
    "# Визуализируем среднюю оценку от типа комнаты\n",
    "fig, ax = plt.subplots(figsize=(15, 5))\n",
    "plt.suptitle('Средняя оценка по отзывам в типа номера')\n",
    "sns.barplot(x=rooms.index, y=rooms['reviewer_score'])\n",
    "plt.ylim(8.1, 8.7)\n",
    "ax.bar_label(ax.containers[0]);"
   ]
  },
  {
   "cell_type": "code",
   "execution_count": 57,
   "id": "177995c5",
   "metadata": {
    "execution": {
     "iopub.execute_input": "2022-10-12T03:51:52.283296Z",
     "iopub.status.busy": "2022-10-12T03:51:52.282435Z",
     "iopub.status.idle": "2022-10-12T03:51:52.364840Z",
     "shell.execute_reply": "2022-10-12T03:51:52.364195Z",
     "shell.execute_reply.started": "2022-10-12T02:01:59.345432Z"
    },
    "papermill": {
     "duration": 0.196339,
     "end_time": "2022-10-12T03:51:52.364995",
     "exception": false,
     "start_time": "2022-10-12T03:51:52.168656",
     "status": "completed"
    },
    "tags": []
   },
   "outputs": [
    {
     "data": {
      "text/plain": [
       "72"
      ]
     },
     "execution_count": 57,
     "metadata": {},
     "output_type": "execute_result"
    }
   ],
   "source": [
    "#  сформируем пул уникальных тегов\n",
    "tags_set = set(tags_list)\n",
    "\n",
    "# запишем теги с продолжительностью визита\n",
    "days_tags = ['Stayed 1 night']\n",
    "for day in range(2,32):\n",
    "    days_tags.append('Stayed '+str(day)+' nights')\n",
    "# список тегов которые уже закодированы\n",
    "used_tags = ['Leisure trip','Business trip','Solo traveler','Couple','Group',\n",
    "             'Family with young children','Submitted from a mobile device',\n",
    "            'Family with older children','Travelers with friends' ]\n",
    "used_tags.extend(days_tags)\n",
    "\n",
    "# дропнем закодированные\n",
    "for drop_tag in used_tags:\n",
    "    tags_set.discard(drop_tag)\n",
    "\n",
    "# дропнем теги связанные с видом номера\n",
    "tags_set1 = tags_set.copy()\n",
    "for tagg in tags_set:\n",
    "    if 'room' in tagg:\n",
    "        tags_set1.discard(tagg)\n",
    "    elif 'Room'in tagg:\n",
    "        tags_set1.discard(tagg)\n",
    "    elif 'Suite'in tagg:\n",
    "        tags_set1.discard(tagg)\n",
    "    elif 'Apartment'in tagg:\n",
    "        tags_set1.discard(tagg)\n",
    "    elif 'Studio'in tagg:\n",
    "        tags_set1.discard(tagg)\n",
    "    elif 'Double'in tagg:\n",
    "        tags_set1.discard(tagg)\n",
    "    elif 'Deluxe'in tagg:\n",
    "        tags_set1.discard(tagg)\n",
    "\n",
    "# осталось 72 тега, ну и черт с ними\n",
    "len(tags_set1)"
   ]
  },
  {
   "cell_type": "code",
   "execution_count": 58,
   "id": "8235093d",
   "metadata": {
    "execution": {
     "iopub.execute_input": "2022-10-12T03:51:52.583600Z",
     "iopub.status.busy": "2022-10-12T03:51:52.582783Z",
     "iopub.status.idle": "2022-10-12T03:51:55.531415Z",
     "shell.execute_reply": "2022-10-12T03:51:55.530721Z",
     "shell.execute_reply.started": "2022-10-12T02:01:59.437303Z"
    },
    "papermill": {
     "duration": 3.062218,
     "end_time": "2022-10-12T03:51:55.531657",
     "exception": false,
     "start_time": "2022-10-12T03:51:52.469439",
     "status": "completed"
    },
    "tags": []
   },
   "outputs": [],
   "source": [
    "# сгруппируем по продолжительности\n",
    "m_1 = data[data['sample'] == 1].groupby('Stayed 1 night')['reviewer_score'].mean()\n",
    "m_2 = data[data['sample'] == 1].groupby('Stayed 2 nights')['reviewer_score'].mean()\n",
    "m_3 = data[data['sample'] == 1].groupby('Stayed 3 nights')['reviewer_score'].mean()\n",
    "m_4 = data[data['sample'] == 1].groupby('Stayed 4 nights')['reviewer_score'].mean()\n",
    "m_5 = data[data['sample'] == 1].groupby('Stayed 5 nights')['reviewer_score'].mean()\n",
    "m_6 = data[data['sample'] == 1].groupby('Stayed 6 nights')['reviewer_score'].mean()\n",
    "m_7 = data[data['sample'] == 1].groupby('Stayed 7 nights')['reviewer_score'].mean()\n",
    "m_8 = data[data['sample'] == 1].groupby('Stayed 8 nights')['reviewer_score'].mean()\n",
    "m_9 = data[data['sample'] == 1].groupby('Stayed 9 nights')['reviewer_score'].mean()\n",
    "m_10 = data[data['sample'] == 1].groupby('Stayed 10 nights')['reviewer_score'].mean()\n",
    "m_11 = data[data['sample'] == 1].groupby('Stayed 11-20 nights')['reviewer_score'].mean()\n",
    "m_12 = data[data['sample'] == 1].groupby('Stayed 21-31 nights')['reviewer_score'].mean()\n",
    "\n",
    "\n",
    "# преобразуем в df для визуализации\n",
    "nights = pd.DataFrame({\n",
    "    '1 night':m_1,\n",
    "    '2 nights':m_2,\n",
    "    '3 nights':m_3,\n",
    "    '4 nights':m_4,\n",
    "    '5 nights':m_5,\n",
    "    '6 nights':m_6,\n",
    "    '7 nights':m_7,\n",
    "    '8 nights':m_8,\n",
    "    '9 nights':m_9,\n",
    "    '10 nights':m_10,\n",
    "    '11-20 nights':m_11,\n",
    "    '21-31 nights':m_12}).transpose()"
   ]
  },
  {
   "cell_type": "code",
   "execution_count": 59,
   "id": "234d2e04",
   "metadata": {
    "execution": {
     "iopub.execute_input": "2022-10-12T03:51:55.761071Z",
     "iopub.status.busy": "2022-10-12T03:51:55.760300Z",
     "iopub.status.idle": "2022-10-12T03:51:56.132229Z",
     "shell.execute_reply": "2022-10-12T03:51:56.132799Z",
     "shell.execute_reply.started": "2022-10-12T02:02:02.335484Z"
    },
    "papermill": {
     "duration": 0.496104,
     "end_time": "2022-10-12T03:51:56.133008",
     "exception": false,
     "start_time": "2022-10-12T03:51:55.636904",
     "status": "completed"
    },
    "tags": []
   },
   "outputs": [
    {
     "data": {
      "image/png": "[encoded data removed]",
      "text/plain": [
       "<Figure size 1080x360 with 1 Axes>"
      ]
     },
     "metadata": {
      "needs_background": "light"
     },
     "output_type": "display_data"
    }
   ],
   "source": [
    "# Визуализируем среднюю оценку от продолжительности\n",
    "fig, ax = plt.subplots(figsize=(15, 5))\n",
    "plt.suptitle('Средняя оценка по отзывам в зависимости продолжительности пребывания')\n",
    "sns.barplot(x=nights.index, y=nights[1])\n",
    "plt.ylim(7.8, 8.6)\n",
    "ax.bar_label(ax.containers[0]);"
   ]
  },
  {
   "cell_type": "code",
   "execution_count": 60,
   "id": "6ccbdffa",
   "metadata": {
    "execution": {
     "iopub.execute_input": "2022-10-12T03:51:56.347304Z",
     "iopub.status.busy": "2022-10-12T03:51:56.346510Z",
     "iopub.status.idle": "2022-10-12T03:51:58.542534Z",
     "shell.execute_reply": "2022-10-12T03:51:58.541874Z",
     "shell.execute_reply.started": "2022-10-12T02:02:02.735215Z"
    },
    "papermill": {
     "duration": 2.304545,
     "end_time": "2022-10-12T03:51:58.542733",
     "exception": false,
     "start_time": "2022-10-12T03:51:56.238188",
     "status": "completed"
    },
    "tags": []
   },
   "outputs": [],
   "source": [
    "# сгруппируем по остальным тегам\n",
    "t_1 = data[data['sample'] == 1].groupby('Leisure trip')['reviewer_score'].mean()\n",
    "t_2 = data[data['sample'] == 1].groupby('Business trip')['reviewer_score'].mean()\n",
    "t_3 = data[data['sample'] == 1].groupby('Solo traveler')['reviewer_score'].mean()\n",
    "t_4 = data[data['sample'] == 1].groupby('Couple')['reviewer_score'].mean()\n",
    "t_5 = data[data['sample'] == 1].groupby('Family with young children')['reviewer_score'].mean()\n",
    "t_6 = data[data['sample'] == 1].groupby('Family with older children')['reviewer_score'].mean()\n",
    "t_7 = data[data['sample'] == 1].groupby('Travelers with friends')['reviewer_score'].mean()\n",
    "t_8 = data[data['sample'] == 1].groupby('Group')['reviewer_score'].mean()\n",
    "t_9 = data[data['sample'] == 1].groupby('Submitted from a mobile device')['reviewer_score'].mean()\n",
    "\n",
    "\n",
    "\n",
    "# преобразуем в df для визуализации\n",
    "plottags = pd.DataFrame({\n",
    "    'Leisure':t_1,\n",
    "    'Business':t_2,\n",
    "    'Solo':t_3,\n",
    "    'Couple':t_4,\n",
    "    'Young children':t_5,\n",
    "    'Older children':t_6,\n",
    "    'Friends':t_7,\n",
    "    'Group':t_8,\n",
    "    'Device':t_9}).transpose()"
   ]
  },
  {
   "cell_type": "code",
   "execution_count": 61,
   "id": "ddabb738",
   "metadata": {
    "execution": {
     "iopub.execute_input": "2022-10-12T03:51:58.757222Z",
     "iopub.status.busy": "2022-10-12T03:51:58.756226Z",
     "iopub.status.idle": "2022-10-12T03:51:59.088715Z",
     "shell.execute_reply": "2022-10-12T03:51:59.087942Z",
     "shell.execute_reply.started": "2022-10-12T02:02:04.907762Z"
    },
    "papermill": {
     "duration": 0.441924,
     "end_time": "2022-10-12T03:51:59.088883",
     "exception": false,
     "start_time": "2022-10-12T03:51:58.646959",
     "status": "completed"
    },
    "tags": []
   },
   "outputs": [
    {
     "data": {
      "image/png": "[encoded data removed]",
      "text/plain": [
       "<Figure size 1080x360 with 1 Axes>"
      ]
     },
     "metadata": {
      "needs_background": "light"
     },
     "output_type": "display_data"
    }
   ],
   "source": [
    "# Визуализируем среднюю оценку от всего подряд\n",
    "fig, ax = plt.subplots(figsize=(15, 5))\n",
    "plt.suptitle('Средняя оценка по отзывам в зависимости от разных условий')\n",
    "sns.barplot(x=plottags.index, y=plottags[1])\n",
    "plt.ylim(7.8, 8.6)\n",
    "ax.bar_label(ax.containers[0]);"
   ]
  },
  {
   "cell_type": "code",
   "execution_count": 62,
   "id": "44275a1e",
   "metadata": {
    "execution": {
     "iopub.execute_input": "2022-10-12T03:51:59.307110Z",
     "iopub.status.busy": "2022-10-12T03:51:59.306346Z",
     "iopub.status.idle": "2022-10-12T03:51:59.433858Z",
     "shell.execute_reply": "2022-10-12T03:51:59.434467Z",
     "shell.execute_reply.started": "2022-10-12T02:02:05.254374Z"
    },
    "papermill": {
     "duration": 0.236625,
     "end_time": "2022-10-12T03:51:59.434660",
     "exception": false,
     "start_time": "2022-10-12T03:51:59.198035",
     "status": "completed"
    },
    "tags": []
   },
   "outputs": [],
   "source": [
    "#backup\n",
    "data_7 = data.copy()"
   ]
  },
  {
   "cell_type": "markdown",
   "id": "e75bc3a1",
   "metadata": {
    "papermill": {
     "duration": 0.105062,
     "end_time": "2022-10-12T03:51:59.643642",
     "exception": false,
     "start_time": "2022-10-12T03:51:59.538580",
     "status": "completed"
    },
    "tags": []
   },
   "source": [
    "## Максимальные оценки ставят либо парочки на отдыхе либо отыхающие компание друзей. Логично чё."
   ]
  },
  {
   "cell_type": "markdown",
   "id": "6595c7ce",
   "metadata": {
    "papermill": {
     "duration": 0.104306,
     "end_time": "2022-10-12T03:51:59.852166",
     "exception": false,
     "start_time": "2022-10-12T03:51:59.747860",
     "status": "completed"
    },
    "tags": []
   },
   "source": [
    "# 8. Лингвистический анализ <a class=\"anchor\" id=8></a> <a id=\"8\"></a> <br>\n",
    "\n",
    "[к содержанию](#0) \n",
    "\n",
    "## Работать будем с признаками `negative_review`, `positive_review`, и до кучи с количественными признаками по отзывам :\n",
    "### * Посчитаем количества позитивных и негативных слов\n",
    "### * Составим пропорцию длительности позитивного к негативному отзыву\n",
    "### * Получим эмоциональные окраски отзывов\n",
    "### * Еще что-нибудь, как-нибудь закодируем"
   ]
  },
  {
   "cell_type": "code",
   "execution_count": 63,
   "id": "7af39b1e",
   "metadata": {
    "execution": {
     "iopub.execute_input": "2022-10-12T03:52:00.063347Z",
     "iopub.status.busy": "2022-10-12T03:52:00.062591Z",
     "iopub.status.idle": "2022-10-12T03:52:15.081284Z",
     "shell.execute_reply": "2022-10-12T03:52:15.082019Z",
     "shell.execute_reply.started": "2022-10-12T02:02:05.379964Z"
    },
    "papermill": {
     "duration": 15.125689,
     "end_time": "2022-10-12T03:52:15.082285",
     "exception": false,
     "start_time": "2022-10-12T03:51:59.956596",
     "status": "completed"
    },
    "tags": []
   },
   "outputs": [
    {
     "name": "stdout",
     "output_type": "stream",
     "text": [
      "CPU times: user 13.9 s, sys: 1.09 s, total: 15 s\n",
      "Wall time: 15 s\n"
     ]
    }
   ],
   "source": [
    "%%time\n",
    "# Посчитаем общее количество слов в позитивных и негативных отзывах \n",
    "data['review_total_word_counts'] = data['review_total_negative_word_counts'] + data['review_total_positive_word_counts']\n",
    "\n",
    "# Введём пропорцию количество негативных / количество позитивных слов ( если слов нет установим значение 0.5)\n",
    "data['review_words_proportion'] = data.apply(\n",
    "    lambda x: 0.5 if x['review_total_word_counts'] == 0 \\\n",
    "    else (x['review_total_negative_word_counts']+1) / (x['review_total_positive_word_counts']+1), axis=1)"
   ]
  },
  {
   "cell_type": "code",
   "execution_count": 64,
   "id": "fb563254",
   "metadata": {
    "execution": {
     "iopub.execute_input": "2022-10-12T03:52:15.303222Z",
     "iopub.status.busy": "2022-10-12T03:52:15.302504Z",
     "iopub.status.idle": "2022-10-12T03:52:15.303949Z",
     "shell.execute_reply": "2022-10-12T03:52:15.304621Z",
     "shell.execute_reply.started": "2022-10-12T02:02:19.893378Z"
    },
    "papermill": {
     "duration": 0.112795,
     "end_time": "2022-10-12T03:52:15.304803",
     "exception": false,
     "start_time": "2022-10-12T03:52:15.192008",
     "status": "completed"
    },
    "tags": []
   },
   "outputs": [],
   "source": [
    "def get_text_pol(data):\n",
    "    \"\"\"доставатель настроения текста\"\"\"\n",
    "    text = TextBlob(data)\n",
    "    return text.sentiment[0]\n",
    "    \n",
    "def get_text_sub(data):\n",
    "    \"\"\"доставатель субьективности текста\"\"\"\n",
    "    text = TextBlob(data)\n",
    "    return text.sentiment[1]    "
   ]
  },
  {
   "cell_type": "code",
   "execution_count": 65,
   "id": "6af9b26e",
   "metadata": {
    "execution": {
     "iopub.execute_input": "2022-10-12T03:52:15.523004Z",
     "iopub.status.busy": "2022-10-12T03:52:15.522303Z",
     "iopub.status.idle": "2022-10-12T04:00:47.830935Z",
     "shell.execute_reply": "2022-10-12T04:00:47.831707Z",
     "shell.execute_reply.started": "2022-10-12T02:02:19.901727Z"
    },
    "papermill": {
     "duration": 512.419351,
     "end_time": "2022-10-12T04:00:47.832158",
     "exception": false,
     "start_time": "2022-10-12T03:52:15.412807",
     "status": "completed"
    },
    "tags": []
   },
   "outputs": [
    {
     "name": "stdout",
     "output_type": "stream",
     "text": [
      "CPU times: user 8min 31s, sys: 329 ms, total: 8min 31s\n",
      "Wall time: 8min 32s\n"
     ]
    }
   ],
   "source": [
    "%%time\n",
    "data['negative_polarity'] = data['negative_review'].apply(get_text_pol)\n",
    "data['negative_subjectivity'] = data['negative_review'].apply(get_text_sub)\n",
    "data['positive_polarity'] = data['positive_review'].apply(get_text_pol)\n",
    "data['positive_subjectivity'] = data['positive_review'].apply(get_text_sub)"
   ]
  },
  {
   "cell_type": "code",
   "execution_count": 66,
   "id": "c130a7f0",
   "metadata": {
    "execution": {
     "iopub.execute_input": "2022-10-12T04:00:48.166808Z",
     "iopub.status.busy": "2022-10-12T04:00:48.165650Z",
     "iopub.status.idle": "2022-10-12T04:00:48.827185Z",
     "shell.execute_reply": "2022-10-12T04:00:48.827914Z",
     "shell.execute_reply.started": "2022-10-12T02:10:57.388814Z"
    },
    "papermill": {
     "duration": 0.779657,
     "end_time": "2022-10-12T04:00:48.828186",
     "exception": false,
     "start_time": "2022-10-12T04:00:48.048529",
     "status": "completed"
    },
    "tags": []
   },
   "outputs": [
    {
     "name": "stdout",
     "output_type": "stream",
     "text": [
      "CPU times: user 658 ms, sys: 1.99 ms, total: 660 ms\n",
      "Wall time: 659 ms\n"
     ]
    }
   ],
   "source": [
    "%%time\n",
    "# заменим текст отзывов на 0 или 1, если есть негативные или позитивные\n",
    "data['negative_review'] = data['negative_review'].apply(lambda x: 0 if x=='No Negative' else 1)\n",
    "data['positive_review'] = data['positive_review'].apply(lambda x: 0 if x=='No Positive' else 1)"
   ]
  },
  {
   "cell_type": "code",
   "execution_count": 67,
   "id": "fec91322",
   "metadata": {
    "execution": {
     "iopub.execute_input": "2022-10-12T04:00:49.043716Z",
     "iopub.status.busy": "2022-10-12T04:00:49.042886Z",
     "iopub.status.idle": "2022-10-12T04:00:49.056935Z",
     "shell.execute_reply": "2022-10-12T04:00:49.057696Z",
     "shell.execute_reply.started": "2022-10-12T02:10:58.015631Z"
    },
    "papermill": {
     "duration": 0.124059,
     "end_time": "2022-10-12T04:00:49.057924",
     "exception": false,
     "start_time": "2022-10-12T04:00:48.933865",
     "status": "completed"
    },
    "tags": []
   },
   "outputs": [
    {
     "name": "stdout",
     "output_type": "stream",
     "text": [
      "CPU times: user 6.44 ms, sys: 0 ns, total: 6.44 ms\n",
      "Wall time: 6.47 ms\n"
     ]
    }
   ],
   "source": [
    "%%time\n",
    "# введём признак в котором умножим значение полярности на значение субъективности\n",
    "data['negative_pol_sub'] = data['negative_polarity'] * data['negative_subjectivity']\n",
    "data['positive_pol_sub'] = data['positive_polarity'] * data['positive_subjectivity']"
   ]
  },
  {
   "cell_type": "code",
   "execution_count": 68,
   "id": "e35f4049",
   "metadata": {
    "execution": {
     "iopub.execute_input": "2022-10-12T04:00:49.277886Z",
     "iopub.status.busy": "2022-10-12T04:00:49.277105Z",
     "iopub.status.idle": "2022-10-12T04:00:49.752908Z",
     "shell.execute_reply": "2022-10-12T04:00:49.753524Z",
     "shell.execute_reply.started": "2022-10-12T02:10:58.029692Z"
    },
    "papermill": {
     "duration": 0.589825,
     "end_time": "2022-10-12T04:00:49.753718",
     "exception": false,
     "start_time": "2022-10-12T04:00:49.163893",
     "status": "completed"
    },
    "tags": []
   },
   "outputs": [],
   "source": [
    "#backup\n",
    "data_8 = data.copy()"
   ]
  },
  {
   "cell_type": "markdown",
   "id": "c39afa1c",
   "metadata": {
    "papermill": {
     "duration": 0.105589,
     "end_time": "2022-10-12T04:00:49.964563",
     "exception": false,
     "start_time": "2022-10-12T04:00:49.858974",
     "status": "completed"
    },
    "tags": []
   },
   "source": [
    "# 9. Отбор признаков <a class=\"anchor\" id=9></a> <a id=\"9\"></a> <br>\n",
    "\n",
    "[к содержанию](#0)\n",
    "\n",
    "## В этом разделе окончательно подготовим данные к загрузке в модель, для этого:\n",
    "### * Дропнем всё что не числа\n",
    "### * Разделим признаки на категориальные и числовые\n",
    "### * Проверим на мультиколлинеарность\n",
    "### * Проверим улучшится ли ключевая метка, если поиграть с числовыми признаками (стандартизация, нормализация, логорифмирование и прочее колдовство) "
   ]
  },
  {
   "cell_type": "code",
   "execution_count": 69,
   "id": "315adcc6",
   "metadata": {
    "execution": {
     "iopub.execute_input": "2022-10-12T04:00:50.180822Z",
     "iopub.status.busy": "2022-10-12T04:00:50.180058Z",
     "iopub.status.idle": "2022-10-12T04:00:50.184349Z",
     "shell.execute_reply": "2022-10-12T04:00:50.184908Z",
     "shell.execute_reply.started": "2022-10-12T02:10:58.443267Z"
    },
    "papermill": {
     "duration": 0.114812,
     "end_time": "2022-10-12T04:00:50.185097",
     "exception": false,
     "start_time": "2022-10-12T04:00:50.070285",
     "status": "completed"
    },
    "tags": []
   },
   "outputs": [],
   "source": [
    "# Определим столбцы на удаление\n",
    "columns_to_drop = ['hotel_address','review_date','hotel_name','reviewer_nationality','tags','hotel_country','room_type','lat','lng']"
   ]
  },
  {
   "cell_type": "code",
   "execution_count": 70,
   "id": "50a78549",
   "metadata": {
    "execution": {
     "iopub.execute_input": "2022-10-12T04:00:50.406163Z",
     "iopub.status.busy": "2022-10-12T04:00:50.404998Z",
     "iopub.status.idle": "2022-10-12T04:00:50.712691Z",
     "shell.execute_reply": "2022-10-12T04:00:50.713202Z",
     "shell.execute_reply.started": "2022-10-12T02:10:58.450253Z"
    },
    "papermill": {
     "duration": 0.42112,
     "end_time": "2022-10-12T04:00:50.713420",
     "exception": false,
     "start_time": "2022-10-12T04:00:50.292300",
     "status": "completed"
    },
    "tags": []
   },
   "outputs": [],
   "source": [
    "# Удалим их\n",
    "data = data.drop(columns_to_drop, axis=1)"
   ]
  },
  {
   "cell_type": "code",
   "execution_count": 71,
   "id": "415f3f0a",
   "metadata": {
    "execution": {
     "iopub.execute_input": "2022-10-12T04:00:50.938302Z",
     "iopub.status.busy": "2022-10-12T04:00:50.937558Z",
     "iopub.status.idle": "2022-10-12T04:00:51.629170Z",
     "shell.execute_reply": "2022-10-12T04:00:51.628636Z",
     "shell.execute_reply.started": "2022-10-12T02:10:58.761964Z"
    },
    "papermill": {
     "duration": 0.807529,
     "end_time": "2022-10-12T04:00:51.629351",
     "exception": false,
     "start_time": "2022-10-12T04:00:50.821822",
     "status": "completed"
    },
    "tags": []
   },
   "outputs": [
    {
     "name": "stdout",
     "output_type": "stream",
     "text": [
      "CPU times: user 399 ms, sys: 285 ms, total: 685 ms\n",
      "Wall time: 685 ms\n"
     ]
    },
    {
     "data": {
      "text/plain": [
       "False"
      ]
     },
     "execution_count": 71,
     "metadata": {},
     "output_type": "execute_result"
    }
   ],
   "source": [
    "%%time\n",
    "# Проверим на пропуски и бесконечности\n",
    "data.isin([np.inf, -np.inf, np.nan]).any().any()"
   ]
  },
  {
   "cell_type": "code",
   "execution_count": 72,
   "id": "98383967",
   "metadata": {
    "execution": {
     "iopub.execute_input": "2022-10-12T04:00:51.857413Z",
     "iopub.status.busy": "2022-10-12T04:00:51.856543Z",
     "iopub.status.idle": "2022-10-12T04:01:40.173311Z",
     "shell.execute_reply": "2022-10-12T04:01:40.173867Z",
     "shell.execute_reply.started": "2022-10-12T02:10:59.482376Z"
    },
    "papermill": {
     "duration": 48.43248,
     "end_time": "2022-10-12T04:01:40.174056",
     "exception": false,
     "start_time": "2022-10-12T04:00:51.741576",
     "status": "completed"
    },
    "tags": []
   },
   "outputs": [
    {
     "name": "stdout",
     "output_type": "stream",
     "text": [
      "CPU times: user 43.7 s, sys: 526 ms, total: 44.2 s\n",
      "Wall time: 44 s\n"
     ]
    },
    {
     "data": {
      "text/plain": [
       "<AxesSubplot:>"
      ]
     },
     "execution_count": 72,
     "metadata": {},
     "output_type": "execute_result"
    },
    {
     "data": {
      "image/png": "[encoded data removed]",
      "text/plain": [
       "<Figure size 3960x3960 with 2 Axes>"
      ]
     },
     "metadata": {
      "needs_background": "light"
     },
     "output_type": "display_data"
    }
   ],
   "source": [
    "%%time\n",
    "# Для корреляции с категориальными признаками будем использовать метод Спирмена\n",
    "corr = data.drop(['sample'], axis=1).corr(method = 'spearman')\n",
    "\n",
    "# выведем только данные с высоким уровнем корреляции\n",
    "mask_1 = np.abs(corr) >= 0.75\n",
    "mask_2 = np.abs(corr) <= -0.75\n",
    "\n",
    "corr_data = corr[mask_1 | mask_2]\n",
    "\n",
    "\n",
    "# проверка признака на мультиколлинеарность\n",
    "plt.rcParams['figure.figsize'] = (55,55)\n",
    "sns.heatmap(corr_data, annot=True, cmap='coolwarm', linewidth=0.3, linecolor='gray')\n",
    "# sns.heatmap(corr, annot=True, cmap='coolwarm', linewidth=0.3, linecolor='gray')"
   ]
  },
  {
   "cell_type": "code",
   "execution_count": 73,
   "id": "1ea4531e",
   "metadata": {
    "execution": {
     "iopub.execute_input": "2022-10-12T04:01:40.423128Z",
     "iopub.status.busy": "2022-10-12T04:01:40.422138Z",
     "iopub.status.idle": "2022-10-12T04:01:40.425054Z",
     "shell.execute_reply": "2022-10-12T04:01:40.424428Z",
     "shell.execute_reply.started": "2022-10-12T02:12:41.687024Z"
    },
    "papermill": {
     "duration": 0.132913,
     "end_time": "2022-10-12T04:01:40.425236",
     "exception": false,
     "start_time": "2022-10-12T04:01:40.292323",
     "status": "completed"
    },
    "tags": []
   },
   "outputs": [],
   "source": [
    "# Обозначим числовые признаки\n",
    "num_cols = ['additional_number_of_scoring',\n",
    "    'average_score',\n",
    "    'review_total_negative_word_counts',\n",
    "    'total_number_of_reviews',\n",
    "    'review_total_positive_word_counts',\n",
    "    'total_number_of_reviews_reviewer_has_given',\n",
    "    'days_since_review',\n",
    "    'distance_from_center',\n",
    "    'city_tmax',\n",
    "    'city_tmean',\n",
    "    'city_tmin',\n",
    "    'city_sun',\n",
    "    'city_rain',\n",
    "    'days_from_today',\n",
    "    'review_total_word_counts',\n",
    "    'review_words_proportion',\n",
    "    'negative_polarity',\n",
    "    'negative_subjectivity',\n",
    "    'positive_polarity',\n",
    "    'positive_subjectivity',\n",
    "    'negative_pol_sub',\n",
    "    'positive_pol_sub'\n",
    "    ]\n",
    "\n",
    "# Обозначим категориальные признаки\n",
    "cat_cols = ['negative_review','positive_review','hotel_city_Amsterdam','hotel_city_Barcelona','hotel_city_London',\n",
    "    'hotel_city_Milan','hotel_city_Paris','hotel_city_Vienna','month_1','month_2','month_3','month_4','month_5','month_6',\n",
    "    'month_7','month_8','month_9','month_10','month_11','month_12','day_of_week_0','day_of_week_1','day_of_week_2','day_of_week_3',\n",
    "    'day_of_week_4','day_of_week_5','day_of_week_6','is_tourist','is_muslim','is_english','reviewer_nationality_0','reviewer_nationality_1',\n",
    "    'reviewer_nationality_2','reviewer_nationality_3','reviewer_nationality_4','reviewer_nationality_5','reviewer_nationality_6',\n",
    "    'reviewer_nationality_7','Leisure trip','Business trip','Stayed 1 night','Stayed 2 nights','Stayed 3 nights','Stayed 4 nights',\n",
    "    'Stayed 5 nights','Stayed 6 nights','Stayed 7 nights','Stayed 8 nights','Stayed 9 nights','Stayed 10 nights','Stayed 11-20 nights',\n",
    "    'Stayed 21-31 nights','Solo traveler','Couple','Group','Travelers with friends','Family with young children','Family with older children',\n",
    "    'Submitted from a mobile device','room_type_0','room_type_1','room_type_2','room_type_3','room_type_4','room_type_5']"
   ]
  },
  {
   "cell_type": "code",
   "execution_count": 74,
   "id": "c1edaf62",
   "metadata": {
    "execution": {
     "iopub.execute_input": "2022-10-12T04:01:40.789166Z",
     "iopub.status.busy": "2022-10-12T04:01:40.729703Z",
     "iopub.status.idle": "2022-10-12T04:01:44.621892Z",
     "shell.execute_reply": "2022-10-12T04:01:44.622477Z",
     "shell.execute_reply.started": "2022-10-12T02:12:44.384516Z"
    },
    "papermill": {
     "duration": 4.080808,
     "end_time": "2022-10-12T04:01:44.622691",
     "exception": false,
     "start_time": "2022-10-12T04:01:40.541883",
     "status": "completed"
    },
    "tags": []
   },
   "outputs": [
    {
     "data": {
      "text/plain": [
       "array([[<AxesSubplot:title={'center':'additional_number_of_scoring'}>,\n",
       "        <AxesSubplot:title={'center':'average_score'}>,\n",
       "        <AxesSubplot:title={'center':'review_total_negative_word_counts'}>,\n",
       "        <AxesSubplot:title={'center':'total_number_of_reviews'}>,\n",
       "        <AxesSubplot:title={'center':'review_total_positive_word_counts'}>],\n",
       "       [<AxesSubplot:title={'center':'total_number_of_reviews_reviewer_has_given'}>,\n",
       "        <AxesSubplot:title={'center':'days_since_review'}>,\n",
       "        <AxesSubplot:title={'center':'distance_from_center'}>,\n",
       "        <AxesSubplot:title={'center':'city_tmax'}>,\n",
       "        <AxesSubplot:title={'center':'city_tmean'}>],\n",
       "       [<AxesSubplot:title={'center':'city_tmin'}>,\n",
       "        <AxesSubplot:title={'center':'city_sun'}>,\n",
       "        <AxesSubplot:title={'center':'city_rain'}>,\n",
       "        <AxesSubplot:title={'center':'days_from_today'}>,\n",
       "        <AxesSubplot:title={'center':'review_total_word_counts'}>],\n",
       "       [<AxesSubplot:title={'center':'review_words_proportion'}>,\n",
       "        <AxesSubplot:title={'center':'negative_polarity'}>,\n",
       "        <AxesSubplot:title={'center':'negative_subjectivity'}>,\n",
       "        <AxesSubplot:title={'center':'positive_polarity'}>,\n",
       "        <AxesSubplot:title={'center':'positive_subjectivity'}>],\n",
       "       [<AxesSubplot:title={'center':'negative_pol_sub'}>,\n",
       "        <AxesSubplot:title={'center':'positive_pol_sub'}>,\n",
       "        <AxesSubplot:>, <AxesSubplot:>, <AxesSubplot:>]], dtype=object)"
      ]
     },
     "execution_count": 74,
     "metadata": {},
     "output_type": "execute_result"
    },
    {
     "data": {
      "image/png": "[encoded data removed]",
      "text/plain": [
       "<Figure size 1440x1152 with 25 Axes>"
      ]
     },
     "metadata": {
      "needs_background": "light"
     },
     "output_type": "display_data"
    }
   ],
   "source": [
    "data[num_cols].hist(figsize=(20, 16))"
   ]
  },
  {
   "cell_type": "code",
   "execution_count": 75,
   "id": "166863f8",
   "metadata": {
    "execution": {
     "iopub.execute_input": "2022-10-12T04:01:44.869593Z",
     "iopub.status.busy": "2022-10-12T04:01:44.868855Z",
     "iopub.status.idle": "2022-10-12T04:01:45.299459Z",
     "shell.execute_reply": "2022-10-12T04:01:45.298610Z",
     "shell.execute_reply.started": "2022-10-12T02:12:51.687723Z"
    },
    "papermill": {
     "duration": 0.556002,
     "end_time": "2022-10-12T04:01:45.299629",
     "exception": false,
     "start_time": "2022-10-12T04:01:44.743627",
     "status": "completed"
    },
    "tags": []
   },
   "outputs": [
    {
     "name": "stdout",
     "output_type": "stream",
     "text": [
      "CPU times: user 218 ms, sys: 208 ms, total: 426 ms\n",
      "Wall time: 425 ms\n"
     ]
    }
   ],
   "source": [
    "%%time\n",
    "# Логорифмируем данные\n",
    "data['additional_number_of_scoring'] = np.log(data['additional_number_of_scoring'] + 1)\n",
    "data['review_total_negative_word_counts'] = np.log(data['review_total_negative_word_counts'] + 1)\n",
    "data['total_number_of_reviews'] = np.log(data['total_number_of_reviews'] + 1)\n",
    "data['total_number_of_reviews'] = np.log(data['total_number_of_reviews'] + 1)\n",
    "data['review_total_positive_word_counts'] = np.log(data['review_total_positive_word_counts'] + 1)\n",
    "data['total_number_of_reviews_reviewer_has_given'] = np.log(data['total_number_of_reviews_reviewer_has_given'] + 1)\n",
    "data['city_tmax'] = np.log(data['city_tmax'] + 1)\n",
    "data['city_tmean'] = np.log(data['city_tmean'] + 1)\n",
    "data['city_tmin'] = np.log(data['city_tmin'] + 1)\n",
    "data['review_total_word_counts'] = np.log(data['review_total_word_counts'] + 1)\n",
    "data['review_words_proportion'] = np.log(data['review_words_proportion'] + 1)"
   ]
  },
  {
   "cell_type": "code",
   "execution_count": 76,
   "id": "e457d4b4",
   "metadata": {
    "execution": {
     "iopub.execute_input": "2022-10-12T04:01:45.548037Z",
     "iopub.status.busy": "2022-10-12T04:01:45.547092Z",
     "iopub.status.idle": "2022-10-12T04:01:50.093705Z",
     "shell.execute_reply": "2022-10-12T04:01:50.094450Z",
     "shell.execute_reply.started": "2022-10-12T02:12:54.614015Z"
    },
    "papermill": {
     "duration": 4.674458,
     "end_time": "2022-10-12T04:01:50.094675",
     "exception": false,
     "start_time": "2022-10-12T04:01:45.420217",
     "status": "completed"
    },
    "tags": []
   },
   "outputs": [
    {
     "data": {
      "text/plain": [
       "array([[<AxesSubplot:title={'center':'additional_number_of_scoring'}>,\n",
       "        <AxesSubplot:title={'center':'average_score'}>,\n",
       "        <AxesSubplot:title={'center':'review_total_negative_word_counts'}>,\n",
       "        <AxesSubplot:title={'center':'total_number_of_reviews'}>,\n",
       "        <AxesSubplot:title={'center':'review_total_positive_word_counts'}>],\n",
       "       [<AxesSubplot:title={'center':'total_number_of_reviews_reviewer_has_given'}>,\n",
       "        <AxesSubplot:title={'center':'days_since_review'}>,\n",
       "        <AxesSubplot:title={'center':'distance_from_center'}>,\n",
       "        <AxesSubplot:title={'center':'city_tmax'}>,\n",
       "        <AxesSubplot:title={'center':'city_tmean'}>],\n",
       "       [<AxesSubplot:title={'center':'city_tmin'}>,\n",
       "        <AxesSubplot:title={'center':'city_sun'}>,\n",
       "        <AxesSubplot:title={'center':'city_rain'}>,\n",
       "        <AxesSubplot:title={'center':'days_from_today'}>,\n",
       "        <AxesSubplot:title={'center':'review_total_word_counts'}>],\n",
       "       [<AxesSubplot:title={'center':'review_words_proportion'}>,\n",
       "        <AxesSubplot:title={'center':'negative_polarity'}>,\n",
       "        <AxesSubplot:title={'center':'negative_subjectivity'}>,\n",
       "        <AxesSubplot:title={'center':'positive_polarity'}>,\n",
       "        <AxesSubplot:title={'center':'positive_subjectivity'}>],\n",
       "       [<AxesSubplot:title={'center':'negative_pol_sub'}>,\n",
       "        <AxesSubplot:title={'center':'positive_pol_sub'}>,\n",
       "        <AxesSubplot:>, <AxesSubplot:>, <AxesSubplot:>]], dtype=object)"
      ]
     },
     "execution_count": 76,
     "metadata": {},
     "output_type": "execute_result"
    },
    {
     "data": {
      "image/png": "[encoded data removed]",
      "text/plain": [
       "<Figure size 1440x1152 with 25 Axes>"
      ]
     },
     "metadata": {
      "needs_background": "light"
     },
     "output_type": "display_data"
    }
   ],
   "source": [
    "data[num_cols].hist(figsize=(20, 16))"
   ]
  },
  {
   "cell_type": "markdown",
   "id": "10ae4542",
   "metadata": {
    "papermill": {
     "duration": 0.126022,
     "end_time": "2022-10-12T04:01:50.346003",
     "exception": false,
     "start_time": "2022-10-12T04:01:50.219981",
     "status": "completed"
    },
    "tags": []
   },
   "source": [
    "# Отсюда начнём пихать в модель разные данные и смотреть как изменится метрика.\n",
    "\n",
    "## Step_1\n",
    "\n",
    "### * Контрольный (нет доп. очистки и доп. обработки) MAPE: 12.74\n",
    "### * Удалим мультиколлинеарные признаки MAPE: 12.779939207479895 - стало хуже. вернём всё в зад.\n",
    "### * Логорифмируем данные распределённые логнормально MAPE: 12.739906486321675 - чуть лучше контрольки. берём этот вариант.\n",
    "### * Стандартизируем числовые данные MAPE: 12.740530691224134 - чуть хуже контрольки.\n",
    "### *** Нормализуем числовые данные (после логорифмирования) MinMax МАРЕ: 12.739578402373905**\n",
    "### * Нормализуем числовые данные Robust МАРЕ: 12.740060476197185 - чуть хуже, вернёмся к МинМакс скалеру.\n",
    "### * Если стандартизировать данные после нормализации МАРЕ: 12.740530691224134 - чуть хуже, не будем стандартизировать.\n",
    "\n",
    "## Step_2\n",
    "\n",
    "### *** Контрольный MAPE: 12.739578402373905**\n",
    "### * С удалением признаков со значимостью < 250 MAPE: 12.751361683049264 - разочарование.\n",
    "### * С удалением признаков со значимостью < 350 MAPE: 12.777404673536669 - ясно, бл..\n",
    "### * С удалением признаков со значимостью < 150 MAPE: 12.74567173911459 - удаление признаков не работает.\n",
    "\n",
    "## Все дальнейшие преобразования только ухудшали метрику, поэтому принято решение удовлетворится довольно позорным 90-м местом в лидерборде.\n",
    "## Возможно, когда я научусь более крутым штукам, я вернусь сюда и улучше метрику, а возможно..\n",
    "\n",
    "<img src=https://raw.githubusercontent.com/hoittoken/Python/master/Py/project_3/mem_2.png>"
   ]
  },
  {
   "cell_type": "code",
   "execution_count": 77,
   "id": "24e14be9",
   "metadata": {
    "execution": {
     "iopub.execute_input": "2022-10-12T04:01:50.609021Z",
     "iopub.status.busy": "2022-10-12T04:01:50.608236Z",
     "iopub.status.idle": "2022-10-12T04:01:50.720777Z",
     "shell.execute_reply": "2022-10-12T04:01:50.721530Z",
     "shell.execute_reply.started": "2022-10-12T03:21:26.676891Z"
    },
    "papermill": {
     "duration": 0.242525,
     "end_time": "2022-10-12T04:01:50.721753",
     "exception": false,
     "start_time": "2022-10-12T04:01:50.479228",
     "status": "completed"
    },
    "tags": []
   },
   "outputs": [],
   "source": [
    "# backup\n",
    "data_9 = data.copy()"
   ]
  },
  {
   "cell_type": "code",
   "execution_count": 78,
   "id": "e087fa27",
   "metadata": {
    "execution": {
     "iopub.execute_input": "2022-10-12T04:01:51.013999Z",
     "iopub.status.busy": "2022-10-12T04:01:51.012371Z",
     "iopub.status.idle": "2022-10-12T04:01:51.458660Z",
     "shell.execute_reply": "2022-10-12T04:01:51.459431Z",
     "shell.execute_reply.started": "2022-10-12T03:21:39.831067Z"
    },
    "papermill": {
     "duration": 0.612357,
     "end_time": "2022-10-12T04:01:51.459688",
     "exception": false,
     "start_time": "2022-10-12T04:01:50.847331",
     "status": "completed"
    },
    "tags": []
   },
   "outputs": [
    {
     "name": "stdout",
     "output_type": "stream",
     "text": [
      "CPU times: user 291 ms, sys: 187 ms, total: 478 ms\n",
      "Wall time: 477 ms\n"
     ]
    }
   ],
   "source": [
    "%%time\n",
    "from sklearn import preprocessing\n",
    "# инициализируем нормализатор \n",
    "mm_scaler = preprocessing.MinMaxScaler()\n",
    "\n",
    "# копируем исходный датасет\n",
    "data[num_cols] = mm_scaler.fit_transform(data[num_cols])\n",
    "\n",
    "# Преобразуем промежуточный датасет в полноценный датафрейм для визуализации\n",
    "data[num_cols] = pd.DataFrame(data[num_cols])"
   ]
  },
  {
   "cell_type": "code",
   "execution_count": 79,
   "id": "bed163bf",
   "metadata": {
    "execution": {
     "iopub.execute_input": "2022-10-12T04:01:51.716613Z",
     "iopub.status.busy": "2022-10-12T04:01:51.715022Z",
     "iopub.status.idle": "2022-10-12T04:01:52.366230Z",
     "shell.execute_reply": "2022-10-12T04:01:52.365623Z",
     "shell.execute_reply.started": "2022-10-12T03:21:54.652211Z"
    },
    "papermill": {
     "duration": 0.781653,
     "end_time": "2022-10-12T04:01:52.366429",
     "exception": false,
     "start_time": "2022-10-12T04:01:51.584776",
     "status": "completed"
    },
    "tags": []
   },
   "outputs": [
    {
     "data": {
      "text/plain": [
       "False"
      ]
     },
     "execution_count": 79,
     "metadata": {},
     "output_type": "execute_result"
    }
   ],
   "source": [
    "data.isin([np.inf, -np.inf, np.nan]).any().any()"
   ]
  },
  {
   "cell_type": "markdown",
   "id": "b1a7fed8",
   "metadata": {
    "papermill": {
     "duration": 0.124461,
     "end_time": "2022-10-12T04:01:52.614734",
     "exception": false,
     "start_time": "2022-10-12T04:01:52.490273",
     "status": "completed"
    },
    "tags": []
   },
   "source": [
    "# 10. Обучение модели. Метрика. Submission <a class=\"anchor\" id=10></a> <a id=\"8\"></a> <br>\n",
    "\n",
    "[к содержанию](#0)\n",
    "\n",
    "## В модель загружаем данные которые показали лучший результат (определённый на предыдущем этапе). "
   ]
  },
  {
   "cell_type": "code",
   "execution_count": 80,
   "id": "152066e0",
   "metadata": {
    "execution": {
     "iopub.execute_input": "2022-10-12T04:01:52.872105Z",
     "iopub.status.busy": "2022-10-12T04:01:52.870915Z",
     "iopub.status.idle": "2022-10-12T04:01:53.315563Z",
     "shell.execute_reply": "2022-10-12T04:01:53.314171Z",
     "shell.execute_reply.started": "2022-10-12T03:23:06.589874Z"
    },
    "papermill": {
     "duration": 0.576768,
     "end_time": "2022-10-12T04:01:53.315791",
     "exception": false,
     "start_time": "2022-10-12T04:01:52.739023",
     "status": "completed"
    },
    "tags": []
   },
   "outputs": [],
   "source": [
    "# Теперь выделим тестовую часть\n",
    "train_data = data.query('sample == 1').drop(['sample'], axis=1)\n",
    "test_data = data.query('sample == 0').drop(['sample'], axis=1)\n",
    "\n",
    "y = train_data.reviewer_score.values # наш таргет\n",
    "X = train_data.drop(['reviewer_score'], axis=1)"
   ]
  },
  {
   "cell_type": "code",
   "execution_count": 81,
   "id": "bac9d462",
   "metadata": {
    "execution": {
     "iopub.execute_input": "2022-10-12T04:01:53.575986Z",
     "iopub.status.busy": "2022-10-12T04:01:53.575232Z",
     "iopub.status.idle": "2022-10-12T04:01:53.917975Z",
     "shell.execute_reply": "2022-10-12T04:01:53.917368Z",
     "shell.execute_reply.started": "2022-10-12T03:23:08.400049Z"
    },
    "papermill": {
     "duration": 0.478588,
     "end_time": "2022-10-12T04:01:53.918150",
     "exception": false,
     "start_time": "2022-10-12T04:01:53.439562",
     "status": "completed"
    },
    "tags": []
   },
   "outputs": [],
   "source": [
    "# Воспользуемся специальной функцие train_test_split для разбивки тестовых данных\n",
    "# выделим 20% данных на валидацию (параметр test_size)\n",
    "X_train, X_test, y_train, y_test = train_test_split(X, y, test_size=0.20, random_state=RANDOM_SEED)"
   ]
  },
  {
   "cell_type": "code",
   "execution_count": 82,
   "id": "d9455879",
   "metadata": {
    "execution": {
     "iopub.execute_input": "2022-10-12T04:01:54.168588Z",
     "iopub.status.busy": "2022-10-12T04:01:54.167850Z",
     "iopub.status.idle": "2022-10-12T04:01:54.175589Z",
     "shell.execute_reply": "2022-10-12T04:01:54.176146Z",
     "shell.execute_reply.started": "2022-10-12T03:23:10.093506Z"
    },
    "papermill": {
     "duration": 0.135681,
     "end_time": "2022-10-12T04:01:54.176365",
     "exception": false,
     "start_time": "2022-10-12T04:01:54.040684",
     "status": "completed"
    },
    "tags": []
   },
   "outputs": [
    {
     "data": {
      "text/plain": [
       "((128935, 88), (386496, 88), (386496, 87), (309196, 87), (77300, 87))"
      ]
     },
     "execution_count": 82,
     "metadata": {},
     "output_type": "execute_result"
    }
   ],
   "source": [
    "# проверяем\n",
    "test_data.shape, train_data.shape, X.shape, X_train.shape, X_test.shape"
   ]
  },
  {
   "cell_type": "code",
   "execution_count": 83,
   "id": "c5734ba5",
   "metadata": {
    "execution": {
     "iopub.execute_input": "2022-10-12T04:01:54.433036Z",
     "iopub.status.busy": "2022-10-12T04:01:54.431988Z",
     "iopub.status.idle": "2022-10-12T04:01:54.435418Z",
     "shell.execute_reply": "2022-10-12T04:01:54.434694Z",
     "shell.execute_reply.started": "2022-10-12T03:23:12.462820Z"
    },
    "papermill": {
     "duration": 0.135073,
     "end_time": "2022-10-12T04:01:54.435601",
     "exception": false,
     "start_time": "2022-10-12T04:01:54.300528",
     "status": "completed"
    },
    "tags": []
   },
   "outputs": [],
   "source": [
    "# Импортируем необходимые библиотеки:\n",
    "from sklearn.ensemble import RandomForestRegressor # инструмент для создания и обучения модели\n",
    "from sklearn import metrics # инструменты для оценки точности модели"
   ]
  },
  {
   "cell_type": "code",
   "execution_count": 84,
   "id": "59a2f28b",
   "metadata": {
    "execution": {
     "iopub.execute_input": "2022-10-12T04:01:54.687178Z",
     "iopub.status.busy": "2022-10-12T04:01:54.686143Z",
     "iopub.status.idle": "2022-10-12T04:01:54.688511Z",
     "shell.execute_reply": "2022-10-12T04:01:54.689144Z",
     "shell.execute_reply.started": "2022-10-12T03:23:15.053833Z"
    },
    "papermill": {
     "duration": 0.129938,
     "end_time": "2022-10-12T04:01:54.689357",
     "exception": false,
     "start_time": "2022-10-12T04:01:54.559419",
     "status": "completed"
    },
    "tags": []
   },
   "outputs": [],
   "source": [
    "# Создаём модель (НАСТРОЙКИ НЕ ТРОГАЕМ)\n",
    "model = RandomForestRegressor(n_estimators=100, verbose=1, n_jobs=-1, random_state=RANDOM_SEED)"
   ]
  },
  {
   "cell_type": "code",
   "execution_count": 85,
   "id": "015b716e",
   "metadata": {
    "execution": {
     "iopub.execute_input": "2022-10-12T04:01:54.954042Z",
     "iopub.status.busy": "2022-10-12T04:01:54.952897Z",
     "iopub.status.idle": "2022-10-12T04:08:07.433537Z",
     "shell.execute_reply": "2022-10-12T04:08:07.434312Z",
     "shell.execute_reply.started": "2022-10-12T03:23:25.942602Z"
    },
    "papermill": {
     "duration": 372.61539,
     "end_time": "2022-10-12T04:08:07.434577",
     "exception": false,
     "start_time": "2022-10-12T04:01:54.819187",
     "status": "completed"
    },
    "tags": []
   },
   "outputs": [
    {
     "name": "stderr",
     "output_type": "stream",
     "text": [
      "[Parallel(n_jobs=-1)]: Using backend ThreadingBackend with 4 concurrent workers.\n",
      "[Parallel(n_jobs=-1)]: Done  42 tasks      | elapsed:  2.7min\n",
      "[Parallel(n_jobs=-1)]: Done 100 out of 100 | elapsed:  6.2min finished\n",
      "[Parallel(n_jobs=4)]: Using backend ThreadingBackend with 4 concurrent workers.\n",
      "[Parallel(n_jobs=4)]: Done  42 tasks      | elapsed:    0.9s\n"
     ]
    },
    {
     "name": "stdout",
     "output_type": "stream",
     "text": [
      "CPU times: user 24min 6s, sys: 5.6 s, total: 24min 11s\n",
      "Wall time: 6min 12s\n"
     ]
    },
    {
     "name": "stderr",
     "output_type": "stream",
     "text": [
      "[Parallel(n_jobs=4)]: Done 100 out of 100 | elapsed:    1.9s finished\n"
     ]
    }
   ],
   "source": [
    "%%time\n",
    "# Обучаем модель на тестовом наборе данных\n",
    "model.fit(X_train, y_train)\n",
    "\n",
    "# Используем обученную модель для предсказания рейтинга ресторанов в тестовой выборке.\n",
    "# Предсказанные значения записываем в переменную y_pred\n",
    "y_pred = model.predict(X_test)"
   ]
  },
  {
   "cell_type": "code",
   "execution_count": 86,
   "id": "c1e2943d",
   "metadata": {
    "execution": {
     "iopub.execute_input": "2022-10-12T04:08:07.692114Z",
     "iopub.status.busy": "2022-10-12T04:08:07.691335Z",
     "iopub.status.idle": "2022-10-12T04:08:07.701982Z",
     "shell.execute_reply": "2022-10-12T04:08:07.701412Z",
     "shell.execute_reply.started": "2022-10-12T03:30:09.687468Z"
    },
    "papermill": {
     "duration": 0.140411,
     "end_time": "2022-10-12T04:08:07.702151",
     "exception": false,
     "start_time": "2022-10-12T04:08:07.561740",
     "status": "completed"
    },
    "tags": []
   },
   "outputs": [
    {
     "name": "stdout",
     "output_type": "stream",
     "text": [
      "MAE: 0.8857738464855539\n",
      "MAPE: 12.739578402373905\n"
     ]
    }
   ],
   "source": [
    "# сравниваем предсказанные значения (y_pred) с реальными (y_test), \n",
    "# метрика Mean Absolute Percentage Error (MAPE) показывает среднюю абсолютную \n",
    "# процентную ошибку предсказанных значений от фактических:\n",
    "\n",
    "def mean_absolute_percentage_error(y_tr, y_pr):\n",
    "    \"\"\"Получение средней абсолютной ошибки\"\"\"\n",
    "    y_tr, y_pr = np.array(y_tr), np.array(y_pr)\n",
    "    return np.mean(np.abs((y_tr - y_pr) / y_tr)) * 100\n",
    "\n",
    "print('MAE:', metrics.mean_absolute_error(y_test, y_pred))\n",
    "print('MAPE:', mean_absolute_percentage_error(y_test, y_pred))"
   ]
  },
  {
   "cell_type": "code",
   "execution_count": 87,
   "id": "53dab981",
   "metadata": {
    "execution": {
     "iopub.execute_input": "2022-10-12T04:08:07.957017Z",
     "iopub.status.busy": "2022-10-12T04:08:07.956266Z",
     "iopub.status.idle": "2022-10-12T04:08:08.592419Z",
     "shell.execute_reply": "2022-10-12T04:08:08.591822Z",
     "shell.execute_reply.started": "2022-10-12T03:30:17.558558Z"
    },
    "papermill": {
     "duration": 0.764613,
     "end_time": "2022-10-12T04:08:08.592575",
     "exception": false,
     "start_time": "2022-10-12T04:08:07.827962",
     "status": "completed"
    },
    "tags": []
   },
   "outputs": [
    {
     "data": {
      "text/plain": [
       "<AxesSubplot:>"
      ]
     },
     "execution_count": 87,
     "metadata": {},
     "output_type": "execute_result"
    },
    {
     "data": {
      "image/png": "[encoded data removed]",
      "text/plain": [
       "<Figure size 720x720 with 1 Axes>"
      ]
     },
     "metadata": {
      "needs_background": "light"
     },
     "output_type": "display_data"
    }
   ],
   "source": [
    "# в RandomForestRegressor есть возможность вывести самые важные признаки для модели\n",
    "plt.rcParams['figure.figsize'] = (10,10)\n",
    "feat_importances = pd.Series(model.feature_importances_, index=X.columns)\n",
    "feat_importances.nlargest(30).plot(kind='barh')"
   ]
  },
  {
   "cell_type": "code",
   "execution_count": 88,
   "id": "d7512ef2",
   "metadata": {
    "execution": {
     "iopub.execute_input": "2022-10-12T04:08:08.860646Z",
     "iopub.status.busy": "2022-10-12T04:08:08.859891Z",
     "iopub.status.idle": "2022-10-12T04:08:08.890341Z",
     "shell.execute_reply": "2022-10-12T04:08:08.889738Z",
     "shell.execute_reply.started": "2022-10-12T03:30:31.953972Z"
    },
    "papermill": {
     "duration": 0.167647,
     "end_time": "2022-10-12T04:08:08.890494",
     "exception": false,
     "start_time": "2022-10-12T04:08:08.722847",
     "status": "completed"
    },
    "tags": []
   },
   "outputs": [
    {
     "data": {
      "text/html": [
       "<div>\n",
       "<style scoped>\n",
       "    .dataframe tbody tr th:only-of-type {\n",
       "        vertical-align: middle;\n",
       "    }\n",
       "\n",
       "    .dataframe tbody tr th {\n",
       "        vertical-align: top;\n",
       "    }\n",
       "\n",
       "    .dataframe thead th {\n",
       "        text-align: right;\n",
       "    }\n",
       "</style>\n",
       "<table border=\"1\" class=\"dataframe\">\n",
       "  <thead>\n",
       "    <tr style=\"text-align: right;\">\n",
       "      <th></th>\n",
       "      <th>additional_number_of_scoring</th>\n",
       "      <th>average_score</th>\n",
       "      <th>negative_review</th>\n",
       "      <th>review_total_negative_word_counts</th>\n",
       "      <th>total_number_of_reviews</th>\n",
       "      <th>positive_review</th>\n",
       "      <th>review_total_positive_word_counts</th>\n",
       "      <th>total_number_of_reviews_reviewer_has_given</th>\n",
       "      <th>days_since_review</th>\n",
       "      <th>reviewer_score</th>\n",
       "      <th>...</th>\n",
       "      <th>room_type_4</th>\n",
       "      <th>room_type_5</th>\n",
       "      <th>review_total_word_counts</th>\n",
       "      <th>review_words_proportion</th>\n",
       "      <th>negative_polarity</th>\n",
       "      <th>negative_subjectivity</th>\n",
       "      <th>positive_polarity</th>\n",
       "      <th>positive_subjectivity</th>\n",
       "      <th>negative_pol_sub</th>\n",
       "      <th>positive_pol_sub</th>\n",
       "    </tr>\n",
       "  </thead>\n",
       "  <tbody>\n",
       "    <tr>\n",
       "      <th>90883</th>\n",
       "      <td>0.792484</td>\n",
       "      <td>0.717391</td>\n",
       "      <td>0</td>\n",
       "      <td>0.000000</td>\n",
       "      <td>0.824041</td>\n",
       "      <td>1</td>\n",
       "      <td>0.815058</td>\n",
       "      <td>0.078248</td>\n",
       "      <td>0.026027</td>\n",
       "      <td>0.0</td>\n",
       "      <td>...</td>\n",
       "      <td>0</td>\n",
       "      <td>0</td>\n",
       "      <td>0.738225</td>\n",
       "      <td>0.000835</td>\n",
       "      <td>0.575000</td>\n",
       "      <td>0.400000</td>\n",
       "      <td>0.651913</td>\n",
       "      <td>0.551531</td>\n",
       "      <td>0.530000</td>\n",
       "      <td>0.583785</td>\n",
       "    </tr>\n",
       "    <tr>\n",
       "      <th>93102</th>\n",
       "      <td>0.568537</td>\n",
       "      <td>0.673913</td>\n",
       "      <td>1</td>\n",
       "      <td>0.182684</td>\n",
       "      <td>0.618792</td>\n",
       "      <td>1</td>\n",
       "      <td>0.299554</td>\n",
       "      <td>0.528938</td>\n",
       "      <td>0.817808</td>\n",
       "      <td>0.0</td>\n",
       "      <td>...</td>\n",
       "      <td>1</td>\n",
       "      <td>1</td>\n",
       "      <td>0.314879</td>\n",
       "      <td>0.067158</td>\n",
       "      <td>0.500000</td>\n",
       "      <td>0.000000</td>\n",
       "      <td>0.500000</td>\n",
       "      <td>0.000000</td>\n",
       "      <td>0.500000</td>\n",
       "      <td>0.500000</td>\n",
       "    </tr>\n",
       "    <tr>\n",
       "      <th>77656</th>\n",
       "      <td>0.698522</td>\n",
       "      <td>0.608696</td>\n",
       "      <td>0</td>\n",
       "      <td>0.000000</td>\n",
       "      <td>0.807536</td>\n",
       "      <td>1</td>\n",
       "      <td>0.463534</td>\n",
       "      <td>0.212014</td>\n",
       "      <td>0.427397</td>\n",
       "      <td>0.0</td>\n",
       "      <td>...</td>\n",
       "      <td>0</td>\n",
       "      <td>1</td>\n",
       "      <td>0.419838</td>\n",
       "      <td>0.009674</td>\n",
       "      <td>0.575000</td>\n",
       "      <td>0.400000</td>\n",
       "      <td>0.725000</td>\n",
       "      <td>0.550000</td>\n",
       "      <td>0.530000</td>\n",
       "      <td>0.623750</td>\n",
       "    </tr>\n",
       "    <tr>\n",
       "      <th>83018</th>\n",
       "      <td>0.837582</td>\n",
       "      <td>0.847826</td>\n",
       "      <td>1</td>\n",
       "      <td>0.267628</td>\n",
       "      <td>0.843510</td>\n",
       "      <td>1</td>\n",
       "      <td>0.400891</td>\n",
       "      <td>0.345780</td>\n",
       "      <td>0.306849</td>\n",
       "      <td>0.0</td>\n",
       "      <td>...</td>\n",
       "      <td>0</td>\n",
       "      <td>1</td>\n",
       "      <td>0.410066</td>\n",
       "      <td>0.062029</td>\n",
       "      <td>0.375000</td>\n",
       "      <td>0.400000</td>\n",
       "      <td>0.750000</td>\n",
       "      <td>0.500000</td>\n",
       "      <td>0.450000</td>\n",
       "      <td>0.625000</td>\n",
       "    </tr>\n",
       "    <tr>\n",
       "      <th>78933</th>\n",
       "      <td>0.682676</td>\n",
       "      <td>0.695652</td>\n",
       "      <td>0</td>\n",
       "      <td>0.000000</td>\n",
       "      <td>0.793892</td>\n",
       "      <td>1</td>\n",
       "      <td>0.183671</td>\n",
       "      <td>0.000000</td>\n",
       "      <td>0.978082</td>\n",
       "      <td>0.0</td>\n",
       "      <td>...</td>\n",
       "      <td>0</td>\n",
       "      <td>1</td>\n",
       "      <td>0.166357</td>\n",
       "      <td>0.047524</td>\n",
       "      <td>0.575000</td>\n",
       "      <td>0.400000</td>\n",
       "      <td>0.800000</td>\n",
       "      <td>1.000000</td>\n",
       "      <td>0.530000</td>\n",
       "      <td>0.800000</td>\n",
       "    </tr>\n",
       "    <tr>\n",
       "      <th>76289</th>\n",
       "      <td>0.508719</td>\n",
       "      <td>0.804348</td>\n",
       "      <td>1</td>\n",
       "      <td>0.744521</td>\n",
       "      <td>0.498775</td>\n",
       "      <td>1</td>\n",
       "      <td>0.562960</td>\n",
       "      <td>0.546764</td>\n",
       "      <td>0.450685</td>\n",
       "      <td>0.0</td>\n",
       "      <td>...</td>\n",
       "      <td>1</td>\n",
       "      <td>0</td>\n",
       "      <td>0.719811</td>\n",
       "      <td>0.232093</td>\n",
       "      <td>0.562500</td>\n",
       "      <td>0.476250</td>\n",
       "      <td>0.700000</td>\n",
       "      <td>0.713333</td>\n",
       "      <td>0.529766</td>\n",
       "      <td>0.642667</td>\n",
       "    </tr>\n",
       "    <tr>\n",
       "      <th>2658</th>\n",
       "      <td>0.732560</td>\n",
       "      <td>0.565217</td>\n",
       "      <td>1</td>\n",
       "      <td>0.643729</td>\n",
       "      <td>0.704799</td>\n",
       "      <td>0</td>\n",
       "      <td>0.000000</td>\n",
       "      <td>0.290262</td>\n",
       "      <td>0.676712</td>\n",
       "      <td>0.0</td>\n",
       "      <td>...</td>\n",
       "      <td>0</td>\n",
       "      <td>1</td>\n",
       "      <td>0.586195</td>\n",
       "      <td>0.648332</td>\n",
       "      <td>0.396612</td>\n",
       "      <td>0.514304</td>\n",
       "      <td>0.443182</td>\n",
       "      <td>0.545455</td>\n",
       "      <td>0.446827</td>\n",
       "      <td>0.469008</td>\n",
       "    </tr>\n",
       "    <tr>\n",
       "      <th>50203</th>\n",
       "      <td>0.501409</td>\n",
       "      <td>0.739130</td>\n",
       "      <td>0</td>\n",
       "      <td>0.000000</td>\n",
       "      <td>0.543323</td>\n",
       "      <td>1</td>\n",
       "      <td>0.400891</td>\n",
       "      <td>0.133766</td>\n",
       "      <td>0.295890</td>\n",
       "      <td>0.0</td>\n",
       "      <td>...</td>\n",
       "      <td>1</td>\n",
       "      <td>1</td>\n",
       "      <td>0.363100</td>\n",
       "      <td>0.014072</td>\n",
       "      <td>0.575000</td>\n",
       "      <td>0.400000</td>\n",
       "      <td>0.718056</td>\n",
       "      <td>0.688889</td>\n",
       "      <td>0.530000</td>\n",
       "      <td>0.650216</td>\n",
       "    </tr>\n",
       "    <tr>\n",
       "      <th>116706</th>\n",
       "      <td>0.655825</td>\n",
       "      <td>0.543478</td>\n",
       "      <td>0</td>\n",
       "      <td>0.000000</td>\n",
       "      <td>0.700459</td>\n",
       "      <td>1</td>\n",
       "      <td>0.367342</td>\n",
       "      <td>0.000000</td>\n",
       "      <td>0.431507</td>\n",
       "      <td>0.0</td>\n",
       "      <td>...</td>\n",
       "      <td>0</td>\n",
       "      <td>1</td>\n",
       "      <td>0.332714</td>\n",
       "      <td>0.017131</td>\n",
       "      <td>0.575000</td>\n",
       "      <td>0.400000</td>\n",
       "      <td>0.850000</td>\n",
       "      <td>0.900000</td>\n",
       "      <td>0.530000</td>\n",
       "      <td>0.815000</td>\n",
       "    </tr>\n",
       "    <tr>\n",
       "      <th>68771</th>\n",
       "      <td>0.663625</td>\n",
       "      <td>0.717391</td>\n",
       "      <td>1</td>\n",
       "      <td>0.438840</td>\n",
       "      <td>0.614369</td>\n",
       "      <td>1</td>\n",
       "      <td>0.463534</td>\n",
       "      <td>0.632436</td>\n",
       "      <td>0.553425</td>\n",
       "      <td>0.0</td>\n",
       "      <td>...</td>\n",
       "      <td>0</td>\n",
       "      <td>0</td>\n",
       "      <td>0.509892</td>\n",
       "      <td>0.104356</td>\n",
       "      <td>1.000000</td>\n",
       "      <td>1.000000</td>\n",
       "      <td>0.820000</td>\n",
       "      <td>0.680000</td>\n",
       "      <td>1.000000</td>\n",
       "      <td>0.717600</td>\n",
       "    </tr>\n",
       "  </tbody>\n",
       "</table>\n",
       "<p>10 rows × 88 columns</p>\n",
       "</div>"
      ],
      "text/plain": [
       "        additional_number_of_scoring  average_score  negative_review  \\\n",
       "90883                       0.792484       0.717391                0   \n",
       "93102                       0.568537       0.673913                1   \n",
       "77656                       0.698522       0.608696                0   \n",
       "83018                       0.837582       0.847826                1   \n",
       "78933                       0.682676       0.695652                0   \n",
       "76289                       0.508719       0.804348                1   \n",
       "2658                        0.732560       0.565217                1   \n",
       "50203                       0.501409       0.739130                0   \n",
       "116706                      0.655825       0.543478                0   \n",
       "68771                       0.663625       0.717391                1   \n",
       "\n",
       "        review_total_negative_word_counts  total_number_of_reviews  \\\n",
       "90883                            0.000000                 0.824041   \n",
       "93102                            0.182684                 0.618792   \n",
       "77656                            0.000000                 0.807536   \n",
       "83018                            0.267628                 0.843510   \n",
       "78933                            0.000000                 0.793892   \n",
       "76289                            0.744521                 0.498775   \n",
       "2658                             0.643729                 0.704799   \n",
       "50203                            0.000000                 0.543323   \n",
       "116706                           0.000000                 0.700459   \n",
       "68771                            0.438840                 0.614369   \n",
       "\n",
       "        positive_review  review_total_positive_word_counts  \\\n",
       "90883                 1                           0.815058   \n",
       "93102                 1                           0.299554   \n",
       "77656                 1                           0.463534   \n",
       "83018                 1                           0.400891   \n",
       "78933                 1                           0.183671   \n",
       "76289                 1                           0.562960   \n",
       "2658                  0                           0.000000   \n",
       "50203                 1                           0.400891   \n",
       "116706                1                           0.367342   \n",
       "68771                 1                           0.463534   \n",
       "\n",
       "        total_number_of_reviews_reviewer_has_given  days_since_review  \\\n",
       "90883                                     0.078248           0.026027   \n",
       "93102                                     0.528938           0.817808   \n",
       "77656                                     0.212014           0.427397   \n",
       "83018                                     0.345780           0.306849   \n",
       "78933                                     0.000000           0.978082   \n",
       "76289                                     0.546764           0.450685   \n",
       "2658                                      0.290262           0.676712   \n",
       "50203                                     0.133766           0.295890   \n",
       "116706                                    0.000000           0.431507   \n",
       "68771                                     0.632436           0.553425   \n",
       "\n",
       "        reviewer_score  ...  room_type_4  room_type_5  \\\n",
       "90883              0.0  ...            0            0   \n",
       "93102              0.0  ...            1            1   \n",
       "77656              0.0  ...            0            1   \n",
       "83018              0.0  ...            0            1   \n",
       "78933              0.0  ...            0            1   \n",
       "76289              0.0  ...            1            0   \n",
       "2658               0.0  ...            0            1   \n",
       "50203              0.0  ...            1            1   \n",
       "116706             0.0  ...            0            1   \n",
       "68771              0.0  ...            0            0   \n",
       "\n",
       "        review_total_word_counts  review_words_proportion  negative_polarity  \\\n",
       "90883                   0.738225                 0.000835           0.575000   \n",
       "93102                   0.314879                 0.067158           0.500000   \n",
       "77656                   0.419838                 0.009674           0.575000   \n",
       "83018                   0.410066                 0.062029           0.375000   \n",
       "78933                   0.166357                 0.047524           0.575000   \n",
       "76289                   0.719811                 0.232093           0.562500   \n",
       "2658                    0.586195                 0.648332           0.396612   \n",
       "50203                   0.363100                 0.014072           0.575000   \n",
       "116706                  0.332714                 0.017131           0.575000   \n",
       "68771                   0.509892                 0.104356           1.000000   \n",
       "\n",
       "        negative_subjectivity  positive_polarity  positive_subjectivity  \\\n",
       "90883                0.400000           0.651913               0.551531   \n",
       "93102                0.000000           0.500000               0.000000   \n",
       "77656                0.400000           0.725000               0.550000   \n",
       "83018                0.400000           0.750000               0.500000   \n",
       "78933                0.400000           0.800000               1.000000   \n",
       "76289                0.476250           0.700000               0.713333   \n",
       "2658                 0.514304           0.443182               0.545455   \n",
       "50203                0.400000           0.718056               0.688889   \n",
       "116706               0.400000           0.850000               0.900000   \n",
       "68771                1.000000           0.820000               0.680000   \n",
       "\n",
       "        negative_pol_sub  positive_pol_sub  \n",
       "90883           0.530000          0.583785  \n",
       "93102           0.500000          0.500000  \n",
       "77656           0.530000          0.623750  \n",
       "83018           0.450000          0.625000  \n",
       "78933           0.530000          0.800000  \n",
       "76289           0.529766          0.642667  \n",
       "2658            0.446827          0.469008  \n",
       "50203           0.530000          0.650216  \n",
       "116706          0.530000          0.815000  \n",
       "68771           1.000000          0.717600  \n",
       "\n",
       "[10 rows x 88 columns]"
      ]
     },
     "execution_count": 88,
     "metadata": {},
     "output_type": "execute_result"
    }
   ],
   "source": [
    "test_data.sample(10)"
   ]
  },
  {
   "cell_type": "code",
   "execution_count": 89,
   "id": "717788c4",
   "metadata": {
    "execution": {
     "iopub.execute_input": "2022-10-12T04:08:09.178085Z",
     "iopub.status.busy": "2022-10-12T04:08:09.177337Z",
     "iopub.status.idle": "2022-10-12T04:08:09.182651Z",
     "shell.execute_reply": "2022-10-12T04:08:09.181953Z",
     "shell.execute_reply.started": "2022-10-12T03:30:35.103825Z"
    },
    "papermill": {
     "duration": 0.164013,
     "end_time": "2022-10-12T04:08:09.182806",
     "exception": false,
     "start_time": "2022-10-12T04:08:09.018793",
     "status": "completed"
    },
    "tags": []
   },
   "outputs": [],
   "source": [
    "test_data = test_data.drop(['reviewer_score'], axis=1)"
   ]
  },
  {
   "cell_type": "code",
   "execution_count": 90,
   "id": "80dbf6ef",
   "metadata": {
    "execution": {
     "iopub.execute_input": "2022-10-12T04:08:09.452397Z",
     "iopub.status.busy": "2022-10-12T04:08:09.451651Z",
     "iopub.status.idle": "2022-10-12T04:08:09.456483Z",
     "shell.execute_reply": "2022-10-12T04:08:09.455759Z",
     "shell.execute_reply.started": "2022-10-12T03:30:39.273521Z"
    },
    "papermill": {
     "duration": 0.143985,
     "end_time": "2022-10-12T04:08:09.456690",
     "exception": false,
     "start_time": "2022-10-12T04:08:09.312705",
     "status": "completed"
    },
    "tags": []
   },
   "outputs": [
    {
     "data": {
      "text/html": [
       "<div>\n",
       "<style scoped>\n",
       "    .dataframe tbody tr th:only-of-type {\n",
       "        vertical-align: middle;\n",
       "    }\n",
       "\n",
       "    .dataframe tbody tr th {\n",
       "        vertical-align: top;\n",
       "    }\n",
       "\n",
       "    .dataframe thead th {\n",
       "        text-align: right;\n",
       "    }\n",
       "</style>\n",
       "<table border=\"1\" class=\"dataframe\">\n",
       "  <thead>\n",
       "    <tr style=\"text-align: right;\">\n",
       "      <th></th>\n",
       "      <th>reviewer_score</th>\n",
       "      <th>id</th>\n",
       "    </tr>\n",
       "  </thead>\n",
       "  <tbody>\n",
       "    <tr>\n",
       "      <th>0</th>\n",
       "      <td>1</td>\n",
       "      <td>488440</td>\n",
       "    </tr>\n",
       "    <tr>\n",
       "      <th>1</th>\n",
       "      <td>10</td>\n",
       "      <td>274649</td>\n",
       "    </tr>\n",
       "    <tr>\n",
       "      <th>2</th>\n",
       "      <td>3</td>\n",
       "      <td>374688</td>\n",
       "    </tr>\n",
       "    <tr>\n",
       "      <th>3</th>\n",
       "      <td>10</td>\n",
       "      <td>404352</td>\n",
       "    </tr>\n",
       "    <tr>\n",
       "      <th>4</th>\n",
       "      <td>9</td>\n",
       "      <td>451596</td>\n",
       "    </tr>\n",
       "    <tr>\n",
       "      <th>...</th>\n",
       "      <td>...</td>\n",
       "      <td>...</td>\n",
       "    </tr>\n",
       "    <tr>\n",
       "      <th>128930</th>\n",
       "      <td>7</td>\n",
       "      <td>495812</td>\n",
       "    </tr>\n",
       "    <tr>\n",
       "      <th>128931</th>\n",
       "      <td>1</td>\n",
       "      <td>315577</td>\n",
       "    </tr>\n",
       "    <tr>\n",
       "      <th>128932</th>\n",
       "      <td>3</td>\n",
       "      <td>511968</td>\n",
       "    </tr>\n",
       "    <tr>\n",
       "      <th>128933</th>\n",
       "      <td>6</td>\n",
       "      <td>303386</td>\n",
       "    </tr>\n",
       "    <tr>\n",
       "      <th>128934</th>\n",
       "      <td>5</td>\n",
       "      <td>103157</td>\n",
       "    </tr>\n",
       "  </tbody>\n",
       "</table>\n",
       "<p>128935 rows × 2 columns</p>\n",
       "</div>"
      ],
      "text/plain": [
       "        reviewer_score      id\n",
       "0                    1  488440\n",
       "1                   10  274649\n",
       "2                    3  374688\n",
       "3                   10  404352\n",
       "4                    9  451596\n",
       "...                ...     ...\n",
       "128930               7  495812\n",
       "128931               1  315577\n",
       "128932               3  511968\n",
       "128933               6  303386\n",
       "128934               5  103157\n",
       "\n",
       "[128935 rows x 2 columns]"
      ]
     },
     "execution_count": 90,
     "metadata": {},
     "output_type": "execute_result"
    }
   ],
   "source": [
    "sample_submission"
   ]
  },
  {
   "cell_type": "code",
   "execution_count": 91,
   "id": "f2528bcd",
   "metadata": {
    "execution": {
     "iopub.execute_input": "2022-10-12T04:08:09.724961Z",
     "iopub.status.busy": "2022-10-12T04:08:09.724221Z",
     "iopub.status.idle": "2022-10-12T04:08:09.728789Z",
     "shell.execute_reply": "2022-10-12T04:08:09.728079Z",
     "shell.execute_reply.started": "2022-10-12T03:30:42.758988Z"
    },
    "papermill": {
     "duration": 0.141632,
     "end_time": "2022-10-12T04:08:09.728942",
     "exception": false,
     "start_time": "2022-10-12T04:08:09.587310",
     "status": "completed"
    },
    "tags": []
   },
   "outputs": [
    {
     "data": {
      "text/plain": [
       "(128935, 87)"
      ]
     },
     "execution_count": 91,
     "metadata": {},
     "output_type": "execute_result"
    }
   ],
   "source": [
    "test_data.shape"
   ]
  },
  {
   "cell_type": "code",
   "execution_count": 92,
   "id": "eb371bd0",
   "metadata": {
    "execution": {
     "iopub.execute_input": "2022-10-12T04:08:09.993930Z",
     "iopub.status.busy": "2022-10-12T04:08:09.992224Z",
     "iopub.status.idle": "2022-10-12T04:08:13.277772Z",
     "shell.execute_reply": "2022-10-12T04:08:13.278340Z",
     "shell.execute_reply.started": "2022-10-12T03:30:47.588096Z"
    },
    "papermill": {
     "duration": 3.419002,
     "end_time": "2022-10-12T04:08:13.278547",
     "exception": false,
     "start_time": "2022-10-12T04:08:09.859545",
     "status": "completed"
    },
    "tags": []
   },
   "outputs": [
    {
     "name": "stderr",
     "output_type": "stream",
     "text": [
      "[Parallel(n_jobs=4)]: Using backend ThreadingBackend with 4 concurrent workers.\n",
      "[Parallel(n_jobs=4)]: Done  42 tasks      | elapsed:    1.3s\n",
      "[Parallel(n_jobs=4)]: Done 100 out of 100 | elapsed:    3.2s finished\n"
     ]
    }
   ],
   "source": [
    "predict_submission = model.predict(test_data)"
   ]
  },
  {
   "cell_type": "code",
   "execution_count": 93,
   "id": "d520345a",
   "metadata": {
    "execution": {
     "iopub.execute_input": "2022-10-12T04:08:13.545611Z",
     "iopub.status.busy": "2022-10-12T04:08:13.544837Z",
     "iopub.status.idle": "2022-10-12T04:08:13.824847Z",
     "shell.execute_reply": "2022-10-12T04:08:13.824081Z",
     "shell.execute_reply.started": "2022-10-12T03:30:52.643417Z"
    },
    "papermill": {
     "duration": 0.41512,
     "end_time": "2022-10-12T04:08:13.825013",
     "exception": false,
     "start_time": "2022-10-12T04:08:13.409893",
     "status": "completed"
    },
    "tags": []
   },
   "outputs": [
    {
     "data": {
      "text/html": [
       "<div>\n",
       "<style scoped>\n",
       "    .dataframe tbody tr th:only-of-type {\n",
       "        vertical-align: middle;\n",
       "    }\n",
       "\n",
       "    .dataframe tbody tr th {\n",
       "        vertical-align: top;\n",
       "    }\n",
       "\n",
       "    .dataframe thead th {\n",
       "        text-align: right;\n",
       "    }\n",
       "</style>\n",
       "<table border=\"1\" class=\"dataframe\">\n",
       "  <thead>\n",
       "    <tr style=\"text-align: right;\">\n",
       "      <th></th>\n",
       "      <th>reviewer_score</th>\n",
       "      <th>id</th>\n",
       "    </tr>\n",
       "  </thead>\n",
       "  <tbody>\n",
       "    <tr>\n",
       "      <th>0</th>\n",
       "      <td>8.663</td>\n",
       "      <td>488440</td>\n",
       "    </tr>\n",
       "    <tr>\n",
       "      <th>1</th>\n",
       "      <td>7.208</td>\n",
       "      <td>274649</td>\n",
       "    </tr>\n",
       "    <tr>\n",
       "      <th>2</th>\n",
       "      <td>8.453</td>\n",
       "      <td>374688</td>\n",
       "    </tr>\n",
       "    <tr>\n",
       "      <th>3</th>\n",
       "      <td>9.620</td>\n",
       "      <td>404352</td>\n",
       "    </tr>\n",
       "    <tr>\n",
       "      <th>4</th>\n",
       "      <td>9.364</td>\n",
       "      <td>451596</td>\n",
       "    </tr>\n",
       "    <tr>\n",
       "      <th>5</th>\n",
       "      <td>8.931</td>\n",
       "      <td>302161</td>\n",
       "    </tr>\n",
       "    <tr>\n",
       "      <th>6</th>\n",
       "      <td>8.271</td>\n",
       "      <td>317079</td>\n",
       "    </tr>\n",
       "    <tr>\n",
       "      <th>7</th>\n",
       "      <td>8.197</td>\n",
       "      <td>13963</td>\n",
       "    </tr>\n",
       "    <tr>\n",
       "      <th>8</th>\n",
       "      <td>8.630</td>\n",
       "      <td>159785</td>\n",
       "    </tr>\n",
       "    <tr>\n",
       "      <th>9</th>\n",
       "      <td>8.275</td>\n",
       "      <td>195089</td>\n",
       "    </tr>\n",
       "  </tbody>\n",
       "</table>\n",
       "</div>"
      ],
      "text/plain": [
       "   reviewer_score      id\n",
       "0           8.663  488440\n",
       "1           7.208  274649\n",
       "2           8.453  374688\n",
       "3           9.620  404352\n",
       "4           9.364  451596\n",
       "5           8.931  302161\n",
       "6           8.271  317079\n",
       "7           8.197   13963\n",
       "8           8.630  159785\n",
       "9           8.275  195089"
      ]
     },
     "execution_count": 93,
     "metadata": {},
     "output_type": "execute_result"
    }
   ],
   "source": [
    "sample_submission['reviewer_score'] = predict_submission\n",
    "sample_submission.to_csv('submission.csv', index=False)\n",
    "sample_submission.head(10)"
   ]
  }
 ],
 "metadata": {
  "kernelspec": {
   "display_name": "Python 3",
   "language": "python",
   "name": "python3"
  },
  "language_info": {
   "codemirror_mode": {
    "name": "ipython",
    "version": 3
   },
   "file_extension": ".py",
   "mimetype": "text/x-python",
   "name": "python",
   "nbconvert_exporter": "python",
   "pygments_lexer": "ipython3",
   "version": "3.7.12"
  },
  "papermill": {
   "default_parameters": {},
   "duration": 1058.843905,
   "end_time": "2022-10-12T04:08:15.875959",
   "environment_variables": {},
   "exception": null,
   "input_path": "__notebook__.ipynb",
   "output_path": "__notebook__.ipynb",
   "parameters": {},
   "start_time": "2022-10-12T03:50:37.032054",
   "version": "2.3.3"
  }
 },
 "nbformat": 4,
 "nbformat_minor": 5
}
