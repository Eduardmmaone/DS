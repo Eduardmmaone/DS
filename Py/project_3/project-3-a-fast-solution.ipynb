{
 "cells": [
  {
   "cell_type": "markdown",
   "id": "913e974e",
   "metadata": {
    "papermill": {
     "duration": 0.007425,
     "end_time": "2022-10-11T08:46:39.770330",
     "exception": false,
     "start_time": "2022-10-11T08:46:39.762905",
     "status": "completed"
    },
    "tags": []
   },
   "source": [
    "<img src=https://raw.githubusercontent.com/hoittoken/Python/master/Py/project_3/logo_2.png>"
   ]
  },
  {
   "cell_type": "markdown",
   "id": "6a2f3bc7",
   "metadata": {
    "papermill": {
     "duration": 0.005618,
     "end_time": "2022-10-11T08:46:39.782173",
     "exception": false,
     "start_time": "2022-10-11T08:46:39.776555",
     "status": "completed"
    },
    "tags": []
   },
   "source": [
    "# Содержание <a class=\"anchor\" id=0></a>\n",
    "\n",
    "* [1. Загрузка данных](#1)\n",
    "* [2. Признаки туда - сюда](#2)\n",
    "* [3. Модель. Метрика.](#3)\n",
    "\n",
    "\n",
    "### **ЗАДАЧА**: Быстро и неряшливо добиться результата близкого [к моему же решению](https://www.kaggle.com/code/aubakirov/project-3-eda-fe-aubakirov/notebook) . \n"
   ]
  },
  {
   "cell_type": "markdown",
   "id": "0d262437",
   "metadata": {
    "papermill": {
     "duration": 0.005468,
     "end_time": "2022-10-11T08:46:39.793531",
     "exception": false,
     "start_time": "2022-10-11T08:46:39.788063",
     "status": "completed"
    },
    "tags": []
   },
   "source": [
    "# 1. Загрузка <a class=\"anchor\" id=1></a> <a id=\"1\"></a> <br>\n",
    "\n",
    "[к содержанию](#0)\n",
    "\n"
   ]
  },
  {
   "cell_type": "code",
   "execution_count": 1,
   "id": "ff0397d2",
   "metadata": {
    "execution": {
     "iopub.execute_input": "2022-10-11T08:46:39.808365Z",
     "iopub.status.busy": "2022-10-11T08:46:39.807113Z",
     "iopub.status.idle": "2022-10-11T08:46:41.395436Z",
     "shell.execute_reply": "2022-10-11T08:46:41.394137Z"
    },
    "papermill": {
     "duration": 1.59937,
     "end_time": "2022-10-11T08:46:41.398761",
     "exception": false,
     "start_time": "2022-10-11T08:46:39.799391",
     "status": "completed"
    },
    "tags": []
   },
   "outputs": [
    {
     "name": "stdout",
     "output_type": "stream",
     "text": [
      "/kaggle/input/sf-booking/hotels_test.csv\n",
      "/kaggle/input/sf-booking/hotels_train.csv\n",
      "/kaggle/input/sf-booking/submission.csv\n"
     ]
    }
   ],
   "source": [
    "# Импортируем основные библиотеки\n",
    "\n",
    "import numpy as np # linear algebra\n",
    "import pandas as pd # data processing, CSV file I/O (e.g. pd.read_csv)\n",
    "\n",
    "\n",
    "# для кодирования\n",
    "import category_encoders as ce\n",
    "\n",
    "\n",
    "# для разделения датасета:\n",
    "from sklearn.model_selection import train_test_split\n",
    "\n",
    "# инструменты для построения модели:\n",
    "from sklearn.ensemble import RandomForestRegressor # инструмент для создания и обучения модели\n",
    "from sklearn import metrics # инструменты для оценки точности модели\n",
    "\n",
    "# Input data files are available in the read-only \"../input/\" directory\n",
    "# For example, running this (by clicking run or pressing Shift+Enter) will list all files under the input directory\n",
    "\n",
    "import os\n",
    "for dirname, _, filenames in os.walk('/kaggle/input'):\n",
    "    for filename in filenames:\n",
    "        print(os.path.join(dirname, filename))\n",
    "        \n",
    "RANDOM_SEED = 42"
   ]
  },
  {
   "cell_type": "code",
   "execution_count": 2,
   "id": "c3a3b409",
   "metadata": {
    "execution": {
     "iopub.execute_input": "2022-10-11T08:46:41.413636Z",
     "iopub.status.busy": "2022-10-11T08:46:41.412657Z",
     "iopub.status.idle": "2022-10-11T08:46:49.874619Z",
     "shell.execute_reply": "2022-10-11T08:46:49.873111Z"
    },
    "papermill": {
     "duration": 8.472851,
     "end_time": "2022-10-11T08:46:49.877823",
     "exception": false,
     "start_time": "2022-10-11T08:46:41.404972",
     "status": "completed"
    },
    "tags": []
   },
   "outputs": [],
   "source": [
    "# Подгрузим наши данные из соревнования\n",
    "\n",
    "DATA_DIR = '/kaggle/input/sf-booking/'\n",
    "df_train = pd.read_csv(DATA_DIR+'/hotels_train.csv') # датасет для обучения\n",
    "df_test = pd.read_csv(DATA_DIR+'hotels_test.csv') # датасет для предсказания\n",
    "sample_submission = pd.read_csv(DATA_DIR+'/submission.csv') # самбмишн\n",
    "\n",
    "# сразу нахер дубли с трейна\n",
    "df_train = df_train.drop_duplicates()"
   ]
  },
  {
   "cell_type": "markdown",
   "id": "5024e504",
   "metadata": {
    "papermill": {
     "duration": 0.00558,
     "end_time": "2022-10-11T08:46:49.889651",
     "exception": false,
     "start_time": "2022-10-11T08:46:49.884071",
     "status": "completed"
    },
    "tags": []
   },
   "source": [
    "# 2. Признаки туда - сюда <a class=\"anchor\" id=2></a> <a id=\"2\"></a> <br>\n",
    "\n",
    "[к содержанию](#0)\n"
   ]
  },
  {
   "cell_type": "code",
   "execution_count": 3,
   "id": "87c345a0",
   "metadata": {
    "execution": {
     "iopub.execute_input": "2022-10-11T08:46:49.904097Z",
     "iopub.status.busy": "2022-10-11T08:46:49.902985Z",
     "iopub.status.idle": "2022-10-11T08:46:50.574628Z",
     "shell.execute_reply": "2022-10-11T08:46:50.573227Z"
    },
    "papermill": {
     "duration": 0.682189,
     "end_time": "2022-10-11T08:46:50.577861",
     "exception": false,
     "start_time": "2022-10-11T08:46:49.895672",
     "status": "completed"
    },
    "tags": []
   },
   "outputs": [],
   "source": [
    "# ВАЖНО! дря корректной обработки признаков объединяем трейн и тест в один датасет\n",
    "df_train['sample'] = 1 # помечаем где у нас трейн\n",
    "df_test['sample'] = 0 # помечаем где у нас тест\n",
    "df_test['reviewer_score'] = 0 # в тесте у нас нет значения reviewer_score, мы его должны предсказать, по этому пока просто заполняем нулями\n",
    "\n",
    "data = df_test.append(df_train, sort=False).reset_index(drop=True) # объединяем\n"
   ]
  },
  {
   "cell_type": "code",
   "execution_count": 4,
   "id": "c03a198b",
   "metadata": {
    "execution": {
     "iopub.execute_input": "2022-10-11T08:46:50.592451Z",
     "iopub.status.busy": "2022-10-11T08:46:50.591944Z",
     "iopub.status.idle": "2022-10-11T08:47:05.196383Z",
     "shell.execute_reply": "2022-10-11T08:47:05.194940Z"
    },
    "papermill": {
     "duration": 14.614822,
     "end_time": "2022-10-11T08:47:05.198983",
     "exception": false,
     "start_time": "2022-10-11T08:46:50.584161",
     "status": "completed"
    },
    "tags": []
   },
   "outputs": [
    {
     "name": "stdout",
     "output_type": "stream",
     "text": [
      "CPU times: user 14.3 s, sys: 328 ms, total: 14.6 s\n",
      "Wall time: 14.6 s\n"
     ]
    }
   ],
   "source": [
    "%%time\n",
    "# Приведем дату к формату Datetime\n",
    "data['review_date'] = pd.to_datetime(data['review_date'])\n",
    "# Возраст отзыва\n",
    "data['days_from_today'] = (pd.Timestamp('today') - data['review_date']).dt.days\n",
    "# Выделим год\n",
    "data['year'] = data['review_date'].dt.year\n",
    "# Выделим месяц\n",
    "data['month'] = data['review_date'].dt.month\n",
    "# День недели\n",
    "data['day_of_week'] = data['review_date'].dt.dayofweek\n",
    "# Дней с чего-то такм\n",
    "data['days_since_review'] = data['days_since_review'].apply(lambda x: x.split(sep=' ')[0]).astype('int64')\n",
    "\n",
    "\n",
    "# Посчитаем общее количество слов в позитивных и негативных отзывах \n",
    "data['review_total_word_counts'] = data['review_total_negative_word_counts'] + data['review_total_positive_word_counts']\n",
    "\n",
    "# Введём пропорцию количество негативных / количество позитивных слов ( если слов нет установим значение 0.5)\n",
    "data['review_words_proportion'] = data.apply(\n",
    "    lambda x: 0.5 if x['review_total_word_counts'] == 0 \\\n",
    "    else (x['review_total_negative_word_counts']+1) / (x['review_total_positive_word_counts']+1), axis=1)\n",
    "\n",
    "# заменим текст отзывов на 0 или 1, если есть негативные или позитивные\n",
    "data['negative_review'] = data['negative_review'].apply(lambda x: 0 if x=='No Negative' else 1)\n",
    "data['positive_review'] = data['positive_review'].apply(lambda x: 0 if x=='No Positive' else 1)"
   ]
  },
  {
   "cell_type": "code",
   "execution_count": 5,
   "id": "f4a49161",
   "metadata": {
    "execution": {
     "iopub.execute_input": "2022-10-11T08:47:05.213625Z",
     "iopub.status.busy": "2022-10-11T08:47:05.213160Z",
     "iopub.status.idle": "2022-10-11T08:47:05.351298Z",
     "shell.execute_reply": "2022-10-11T08:47:05.350225Z"
    },
    "papermill": {
     "duration": 0.14889,
     "end_time": "2022-10-11T08:47:05.354313",
     "exception": false,
     "start_time": "2022-10-11T08:47:05.205423",
     "status": "completed"
    },
    "tags": []
   },
   "outputs": [],
   "source": [
    "data = data.drop([\n",
    "    'hotel_address','review_date','hotel_name','reviewer_nationality','tags','lat','lng'\n",
    "], axis=1)"
   ]
  },
  {
   "cell_type": "code",
   "execution_count": 6,
   "id": "08e7381b",
   "metadata": {
    "execution": {
     "iopub.execute_input": "2022-10-11T08:47:05.368718Z",
     "iopub.status.busy": "2022-10-11T08:47:05.368264Z",
     "iopub.status.idle": "2022-10-11T08:47:05.537763Z",
     "shell.execute_reply": "2022-10-11T08:47:05.536799Z"
    },
    "papermill": {
     "duration": 0.179761,
     "end_time": "2022-10-11T08:47:05.540209",
     "exception": false,
     "start_time": "2022-10-11T08:47:05.360448",
     "status": "completed"
    },
    "tags": []
   },
   "outputs": [
    {
     "name": "stdout",
     "output_type": "stream",
     "text": [
      "CPU times: user 92.2 ms, sys: 67.1 ms, total: 159 ms\n",
      "Wall time: 159 ms\n"
     ]
    },
    {
     "data": {
      "text/plain": [
       "False"
      ]
     },
     "execution_count": 6,
     "metadata": {},
     "output_type": "execute_result"
    }
   ],
   "source": [
    "%%time\n",
    "# Проверим на пропуски и бесконечности\n",
    "data.isin([np.inf, -np.inf, np.nan]).any().any()"
   ]
  },
  {
   "cell_type": "code",
   "execution_count": 7,
   "id": "499d3f01",
   "metadata": {
    "execution": {
     "iopub.execute_input": "2022-10-11T08:47:05.554888Z",
     "iopub.status.busy": "2022-10-11T08:47:05.553867Z",
     "iopub.status.idle": "2022-10-11T08:47:05.561196Z",
     "shell.execute_reply": "2022-10-11T08:47:05.560255Z"
    },
    "papermill": {
     "duration": 0.017176,
     "end_time": "2022-10-11T08:47:05.563523",
     "exception": false,
     "start_time": "2022-10-11T08:47:05.546347",
     "status": "completed"
    },
    "tags": []
   },
   "outputs": [
    {
     "data": {
      "text/plain": [
       "Index(['additional_number_of_scoring', 'average_score', 'negative_review',\n",
       "       'review_total_negative_word_counts', 'total_number_of_reviews',\n",
       "       'positive_review', 'review_total_positive_word_counts',\n",
       "       'total_number_of_reviews_reviewer_has_given', 'days_since_review',\n",
       "       'sample', 'reviewer_score', 'days_from_today', 'year', 'month',\n",
       "       'day_of_week', 'review_total_word_counts', 'review_words_proportion'],\n",
       "      dtype='object')"
      ]
     },
     "execution_count": 7,
     "metadata": {},
     "output_type": "execute_result"
    }
   ],
   "source": [
    "data.columns"
   ]
  },
  {
   "cell_type": "code",
   "execution_count": 8,
   "id": "e43a1b5a",
   "metadata": {
    "execution": {
     "iopub.execute_input": "2022-10-11T08:47:05.577715Z",
     "iopub.status.busy": "2022-10-11T08:47:05.577284Z",
     "iopub.status.idle": "2022-10-11T08:47:05.596043Z",
     "shell.execute_reply": "2022-10-11T08:47:05.594881Z"
    },
    "papermill": {
     "duration": 0.028518,
     "end_time": "2022-10-11T08:47:05.598544",
     "exception": false,
     "start_time": "2022-10-11T08:47:05.570026",
     "status": "completed"
    },
    "tags": []
   },
   "outputs": [
    {
     "data": {
      "text/plain": [
       "1142"
      ]
     },
     "execution_count": 8,
     "metadata": {},
     "output_type": "execute_result"
    }
   ],
   "source": [
    "data['total_number_of_reviews'].value_counts().count()"
   ]
  },
  {
   "cell_type": "code",
   "execution_count": 9,
   "id": "f523f8f1",
   "metadata": {
    "execution": {
     "iopub.execute_input": "2022-10-11T08:47:05.613694Z",
     "iopub.status.busy": "2022-10-11T08:47:05.613268Z",
     "iopub.status.idle": "2022-10-11T08:47:09.495997Z",
     "shell.execute_reply": "2022-10-11T08:47:09.494245Z"
    },
    "papermill": {
     "duration": 3.893776,
     "end_time": "2022-10-11T08:47:09.498955",
     "exception": false,
     "start_time": "2022-10-11T08:47:05.605179",
     "status": "completed"
    },
    "tags": []
   },
   "outputs": [
    {
     "name": "stdout",
     "output_type": "stream",
     "text": [
      "CPU times: user 3.36 s, sys: 507 ms, total: 3.87 s\n",
      "Wall time: 3.87 s\n"
     ]
    }
   ],
   "source": [
    "%%time\n",
    "\n",
    "bin_encoder = ce.BinaryEncoder(cols=['average_score']) \n",
    "type_bin = bin_encoder.fit_transform(data['average_score'])\n",
    "data = pd.concat([data, type_bin], axis=1)\n",
    "\n",
    "bin_encoder = ce.BinaryEncoder(cols=['total_number_of_reviews_reviewer_has_given']) \n",
    "type_bin = bin_encoder.fit_transform(data['total_number_of_reviews_reviewer_has_given'])\n",
    "data = pd.concat([data, type_bin], axis=1)\n",
    "\n",
    "bin_encoder = ce.BinaryEncoder(cols=['additional_number_of_scoring']) \n",
    "type_bin = bin_encoder.fit_transform(data['additional_number_of_scoring'])\n",
    "data = pd.concat([data, type_bin], axis=1)\n",
    "\n",
    "bin_encoder = ce.BinaryEncoder(cols=['review_total_negative_word_counts']) \n",
    "type_bin = bin_encoder.fit_transform(data['review_total_negative_word_counts'])\n",
    "data = pd.concat([data, type_bin], axis=1)"
   ]
  },
  {
   "cell_type": "code",
   "execution_count": 10,
   "id": "555ef5c8",
   "metadata": {
    "execution": {
     "iopub.execute_input": "2022-10-11T08:47:09.515020Z",
     "iopub.status.busy": "2022-10-11T08:47:09.514280Z",
     "iopub.status.idle": "2022-10-11T08:47:10.047163Z",
     "shell.execute_reply": "2022-10-11T08:47:10.045868Z"
    },
    "papermill": {
     "duration": 0.544151,
     "end_time": "2022-10-11T08:47:10.050113",
     "exception": false,
     "start_time": "2022-10-11T08:47:09.505962",
     "status": "completed"
    },
    "tags": []
   },
   "outputs": [
    {
     "name": "stdout",
     "output_type": "stream",
     "text": [
      "CPU times: user 245 ms, sys: 281 ms, total: 526 ms\n",
      "Wall time: 526 ms\n"
     ]
    }
   ],
   "source": [
    "%%time\n",
    "data = pd.get_dummies(data, columns=['year','month','day_of_week'])"
   ]
  },
  {
   "cell_type": "code",
   "execution_count": 11,
   "id": "975dc911",
   "metadata": {
    "execution": {
     "iopub.execute_input": "2022-10-11T08:47:10.065663Z",
     "iopub.status.busy": "2022-10-11T08:47:10.065147Z",
     "iopub.status.idle": "2022-10-11T08:47:10.149216Z",
     "shell.execute_reply": "2022-10-11T08:47:10.147952Z"
    },
    "papermill": {
     "duration": 0.095326,
     "end_time": "2022-10-11T08:47:10.152292",
     "exception": false,
     "start_time": "2022-10-11T08:47:10.056966",
     "status": "completed"
    },
    "tags": []
   },
   "outputs": [
    {
     "name": "stdout",
     "output_type": "stream",
     "text": [
      "<class 'pandas.core.frame.DataFrame'>\n",
      "RangeIndex: 515431 entries, 0 to 515430\n",
      "Data columns (total 68 columns):\n",
      " #   Column                                        Non-Null Count   Dtype  \n",
      "---  ------                                        --------------   -----  \n",
      " 0   additional_number_of_scoring                  515431 non-null  int64  \n",
      " 1   average_score                                 515431 non-null  float64\n",
      " 2   negative_review                               515431 non-null  int64  \n",
      " 3   review_total_negative_word_counts             515431 non-null  int64  \n",
      " 4   total_number_of_reviews                       515431 non-null  int64  \n",
      " 5   positive_review                               515431 non-null  int64  \n",
      " 6   review_total_positive_word_counts             515431 non-null  int64  \n",
      " 7   total_number_of_reviews_reviewer_has_given    515431 non-null  int64  \n",
      " 8   days_since_review                             515431 non-null  int64  \n",
      " 9   sample                                        515431 non-null  int64  \n",
      " 10  reviewer_score                                515431 non-null  float64\n",
      " 11  days_from_today                               515431 non-null  int64  \n",
      " 12  review_total_word_counts                      515431 non-null  int64  \n",
      " 13  review_words_proportion                       515431 non-null  float64\n",
      " 14  average_score_0                               515431 non-null  int64  \n",
      " 15  average_score_1                               515431 non-null  int64  \n",
      " 16  average_score_2                               515431 non-null  int64  \n",
      " 17  average_score_3                               515431 non-null  int64  \n",
      " 18  average_score_4                               515431 non-null  int64  \n",
      " 19  average_score_5                               515431 non-null  int64  \n",
      " 20  total_number_of_reviews_reviewer_has_given_0  515431 non-null  int64  \n",
      " 21  total_number_of_reviews_reviewer_has_given_1  515431 non-null  int64  \n",
      " 22  total_number_of_reviews_reviewer_has_given_2  515431 non-null  int64  \n",
      " 23  total_number_of_reviews_reviewer_has_given_3  515431 non-null  int64  \n",
      " 24  total_number_of_reviews_reviewer_has_given_4  515431 non-null  int64  \n",
      " 25  total_number_of_reviews_reviewer_has_given_5  515431 non-null  int64  \n",
      " 26  total_number_of_reviews_reviewer_has_given_6  515431 non-null  int64  \n",
      " 27  total_number_of_reviews_reviewer_has_given_7  515431 non-null  int64  \n",
      " 28  additional_number_of_scoring_0                515431 non-null  int64  \n",
      " 29  additional_number_of_scoring_1                515431 non-null  int64  \n",
      " 30  additional_number_of_scoring_2                515431 non-null  int64  \n",
      " 31  additional_number_of_scoring_3                515431 non-null  int64  \n",
      " 32  additional_number_of_scoring_4                515431 non-null  int64  \n",
      " 33  additional_number_of_scoring_5                515431 non-null  int64  \n",
      " 34  additional_number_of_scoring_6                515431 non-null  int64  \n",
      " 35  additional_number_of_scoring_7                515431 non-null  int64  \n",
      " 36  additional_number_of_scoring_8                515431 non-null  int64  \n",
      " 37  review_total_negative_word_counts_0           515431 non-null  int64  \n",
      " 38  review_total_negative_word_counts_1           515431 non-null  int64  \n",
      " 39  review_total_negative_word_counts_2           515431 non-null  int64  \n",
      " 40  review_total_negative_word_counts_3           515431 non-null  int64  \n",
      " 41  review_total_negative_word_counts_4           515431 non-null  int64  \n",
      " 42  review_total_negative_word_counts_5           515431 non-null  int64  \n",
      " 43  review_total_negative_word_counts_6           515431 non-null  int64  \n",
      " 44  review_total_negative_word_counts_7           515431 non-null  int64  \n",
      " 45  review_total_negative_word_counts_8           515431 non-null  int64  \n",
      " 46  year_2015                                     515431 non-null  uint8  \n",
      " 47  year_2016                                     515431 non-null  uint8  \n",
      " 48  year_2017                                     515431 non-null  uint8  \n",
      " 49  month_1                                       515431 non-null  uint8  \n",
      " 50  month_2                                       515431 non-null  uint8  \n",
      " 51  month_3                                       515431 non-null  uint8  \n",
      " 52  month_4                                       515431 non-null  uint8  \n",
      " 53  month_5                                       515431 non-null  uint8  \n",
      " 54  month_6                                       515431 non-null  uint8  \n",
      " 55  month_7                                       515431 non-null  uint8  \n",
      " 56  month_8                                       515431 non-null  uint8  \n",
      " 57  month_9                                       515431 non-null  uint8  \n",
      " 58  month_10                                      515431 non-null  uint8  \n",
      " 59  month_11                                      515431 non-null  uint8  \n",
      " 60  month_12                                      515431 non-null  uint8  \n",
      " 61  day_of_week_0                                 515431 non-null  uint8  \n",
      " 62  day_of_week_1                                 515431 non-null  uint8  \n",
      " 63  day_of_week_2                                 515431 non-null  uint8  \n",
      " 64  day_of_week_3                                 515431 non-null  uint8  \n",
      " 65  day_of_week_4                                 515431 non-null  uint8  \n",
      " 66  day_of_week_5                                 515431 non-null  uint8  \n",
      " 67  day_of_week_6                                 515431 non-null  uint8  \n",
      "dtypes: float64(3), int64(43), uint8(22)\n",
      "memory usage: 191.7 MB\n"
     ]
    }
   ],
   "source": [
    "data.info()"
   ]
  },
  {
   "cell_type": "markdown",
   "id": "6581bdcd",
   "metadata": {
    "papermill": {
     "duration": 0.006616,
     "end_time": "2022-10-11T08:47:10.166005",
     "exception": false,
     "start_time": "2022-10-11T08:47:10.159389",
     "status": "completed"
    },
    "tags": []
   },
   "source": [
    "# 3. Модель. Метрика.<a class=\"anchor\" id=3></a> <a id=\"3\"></a> <br>\n",
    "\n",
    "[к содержанию](#0)\n"
   ]
  },
  {
   "cell_type": "code",
   "execution_count": 12,
   "id": "638f6be7",
   "metadata": {
    "execution": {
     "iopub.execute_input": "2022-10-11T08:47:10.182757Z",
     "iopub.status.busy": "2022-10-11T08:47:10.182265Z",
     "iopub.status.idle": "2022-10-11T08:47:11.062448Z",
     "shell.execute_reply": "2022-10-11T08:47:11.061198Z"
    },
    "papermill": {
     "duration": 0.892069,
     "end_time": "2022-10-11T08:47:11.065583",
     "exception": false,
     "start_time": "2022-10-11T08:47:10.173514",
     "status": "completed"
    },
    "tags": []
   },
   "outputs": [],
   "source": [
    "# Теперь выделим тестовую часть\n",
    "train_data = data.query('sample == 1').drop(['sample'], axis=1)\n",
    "test_data = data.query('sample == 0').drop(['sample'], axis=1)\n",
    "\n",
    "y = train_data.reviewer_score.values            # наш таргет\n",
    "X = train_data.drop(['reviewer_score'], axis=1)\n",
    "\n",
    "X_train, X_test, y_train, y_test = train_test_split(X, y, test_size=0.20, random_state=RANDOM_SEED)"
   ]
  },
  {
   "cell_type": "code",
   "execution_count": 13,
   "id": "013e5b31",
   "metadata": {
    "execution": {
     "iopub.execute_input": "2022-10-11T08:47:11.081797Z",
     "iopub.status.busy": "2022-10-11T08:47:11.080615Z",
     "iopub.status.idle": "2022-10-11T08:47:11.087318Z",
     "shell.execute_reply": "2022-10-11T08:47:11.086259Z"
    },
    "papermill": {
     "duration": 0.017116,
     "end_time": "2022-10-11T08:47:11.089644",
     "exception": false,
     "start_time": "2022-10-11T08:47:11.072528",
     "status": "completed"
    },
    "tags": []
   },
   "outputs": [],
   "source": [
    "# Импортируем необходимые библиотеки:\n",
    "from sklearn.ensemble import RandomForestRegressor # инструмент для создания и обучения модели\n",
    "from sklearn import metrics # инструменты для оценки точности модели\n",
    "\n",
    "# Создаём модель (НАСТРОЙКИ НЕ ТРОГАЕМ)\n",
    "model = RandomForestRegressor(n_estimators=100, verbose=1, n_jobs=-1, random_state=RANDOM_SEED)"
   ]
  },
  {
   "cell_type": "code",
   "execution_count": 14,
   "id": "16995669",
   "metadata": {
    "execution": {
     "iopub.execute_input": "2022-10-11T08:47:11.105069Z",
     "iopub.status.busy": "2022-10-11T08:47:11.104120Z",
     "iopub.status.idle": "2022-10-11T08:47:11.109658Z",
     "shell.execute_reply": "2022-10-11T08:47:11.108614Z"
    },
    "papermill": {
     "duration": 0.015429,
     "end_time": "2022-10-11T08:47:11.111809",
     "exception": false,
     "start_time": "2022-10-11T08:47:11.096380",
     "status": "completed"
    },
    "tags": []
   },
   "outputs": [],
   "source": [
    "# Создаём модель (НАСТРОЙКИ НЕ ТРОГАЕМ)\n",
    "model = RandomForestRegressor(n_estimators=100, verbose=1, n_jobs=-1, random_state=RANDOM_SEED)"
   ]
  },
  {
   "cell_type": "code",
   "execution_count": 15,
   "id": "8845cfea",
   "metadata": {
    "execution": {
     "iopub.execute_input": "2022-10-11T08:47:11.127050Z",
     "iopub.status.busy": "2022-10-11T08:47:11.126503Z",
     "iopub.status.idle": "2022-10-11T08:50:57.976788Z",
     "shell.execute_reply": "2022-10-11T08:50:57.975832Z"
    },
    "papermill": {
     "duration": 226.8619,
     "end_time": "2022-10-11T08:50:57.980487",
     "exception": false,
     "start_time": "2022-10-11T08:47:11.118587",
     "status": "completed"
    },
    "tags": []
   },
   "outputs": [
    {
     "name": "stderr",
     "output_type": "stream",
     "text": [
      "[Parallel(n_jobs=-1)]: Using backend ThreadingBackend with 4 concurrent workers.\n",
      "[Parallel(n_jobs=-1)]: Done  42 tasks      | elapsed:  1.6min\n",
      "[Parallel(n_jobs=-1)]: Done 100 out of 100 | elapsed:  3.7min finished\n",
      "[Parallel(n_jobs=4)]: Using backend ThreadingBackend with 4 concurrent workers.\n",
      "[Parallel(n_jobs=4)]: Done  42 tasks      | elapsed:    0.7s\n"
     ]
    },
    {
     "name": "stdout",
     "output_type": "stream",
     "text": [
      "CPU times: user 14min 43s, sys: 2.47 s, total: 14min 46s\n",
      "Wall time: 3min 46s\n"
     ]
    },
    {
     "name": "stderr",
     "output_type": "stream",
     "text": [
      "[Parallel(n_jobs=4)]: Done 100 out of 100 | elapsed:    1.7s finished\n"
     ]
    }
   ],
   "source": [
    "%%time\n",
    "# Обучаем модель на тестовом наборе данных\n",
    "model.fit(X_train, y_train)\n",
    "\n",
    "# Используем обученную модель для предсказания рейтинга ресторанов в тестовой выборке.\n",
    "# Предсказанные значения записываем в переменную y_pred\n",
    "y_pred = model.predict(X_test)"
   ]
  },
  {
   "cell_type": "code",
   "execution_count": 16,
   "id": "57e5d389",
   "metadata": {
    "execution": {
     "iopub.execute_input": "2022-10-11T08:50:57.998646Z",
     "iopub.status.busy": "2022-10-11T08:50:57.997710Z",
     "iopub.status.idle": "2022-10-11T08:50:58.009403Z",
     "shell.execute_reply": "2022-10-11T08:50:58.008106Z"
    },
    "papermill": {
     "duration": 0.023561,
     "end_time": "2022-10-11T08:50:58.011855",
     "exception": false,
     "start_time": "2022-10-11T08:50:57.988294",
     "status": "completed"
    },
    "tags": []
   },
   "outputs": [
    {
     "name": "stdout",
     "output_type": "stream",
     "text": [
      "MAE: 0.9435652697899338\n",
      "MAPE: 13.64\n"
     ]
    }
   ],
   "source": [
    "# Смотрим метрики \n",
    "\n",
    "def mean_absolute_percentage_error(y_tr, y_pr):\n",
    "    \"\"\"Получение средней абсолютной ошибки\"\"\"\n",
    "    y_tr, y_pr = np.array(y_tr), np.array(y_pr)\n",
    "    return np.mean(np.abs((y_tr - y_pr) / y_tr)) * 100\n",
    "\n",
    "print('MAE:', metrics.mean_absolute_error(y_test, y_pred))\n",
    "print('MAPE:', round(mean_absolute_percentage_error(y_test, y_pred), 2))"
   ]
  },
  {
   "cell_type": "markdown",
   "id": "c2673285",
   "metadata": {
    "papermill": {
     "duration": 0.007148,
     "end_time": "2022-10-11T08:50:58.026942",
     "exception": false,
     "start_time": "2022-10-11T08:50:58.019794",
     "status": "completed"
    },
    "tags": []
   },
   "source": [
    "<img src=https://raw.githubusercontent.com/hoittoken/Python/master/Py/project_3/mem_1.png>"
   ]
  },
  {
   "cell_type": "code",
   "execution_count": 17,
   "id": "cd255ffa",
   "metadata": {
    "execution": {
     "iopub.execute_input": "2022-10-11T08:50:58.044508Z",
     "iopub.status.busy": "2022-10-11T08:50:58.043724Z",
     "iopub.status.idle": "2022-10-11T08:51:01.221843Z",
     "shell.execute_reply": "2022-10-11T08:51:01.220527Z"
    },
    "papermill": {
     "duration": 3.190599,
     "end_time": "2022-10-11T08:51:01.224988",
     "exception": false,
     "start_time": "2022-10-11T08:50:58.034389",
     "status": "completed"
    },
    "tags": []
   },
   "outputs": [
    {
     "name": "stderr",
     "output_type": "stream",
     "text": [
      "[Parallel(n_jobs=4)]: Using backend ThreadingBackend with 4 concurrent workers.\n",
      "[Parallel(n_jobs=4)]: Done  42 tasks      | elapsed:    1.3s\n",
      "[Parallel(n_jobs=4)]: Done 100 out of 100 | elapsed:    2.8s finished\n"
     ]
    }
   ],
   "source": [
    "test_data = test_data.drop(['reviewer_score'], axis=1)\n",
    "predict_submission = model.predict(test_data)\n",
    "sample_submission['reviewer_score'] = predict_submission\n",
    "sample_submission.to_csv('submission.csv', index=False)"
   ]
  }
 ],
 "metadata": {
  "kernelspec": {
   "display_name": "Python 3",
   "language": "python",
   "name": "python3"
  },
  "language_info": {
   "codemirror_mode": {
    "name": "ipython",
    "version": 3
   },
   "file_extension": ".py",
   "mimetype": "text/x-python",
   "name": "python",
   "nbconvert_exporter": "python",
   "pygments_lexer": "ipython3",
   "version": "3.7.12"
  },
  "papermill": {
   "default_parameters": {},
   "duration": 272.364595,
   "end_time": "2022-10-11T08:51:02.358859",
   "environment_variables": {},
   "exception": null,
   "input_path": "__notebook__.ipynb",
   "output_path": "__notebook__.ipynb",
   "parameters": {},
   "start_time": "2022-10-11T08:46:29.994264",
   "version": "2.3.4"
  }
 },
 "nbformat": 4,
 "nbformat_minor": 5
}
