{
 "cells": [
  {
   "cell_type": "markdown",
   "metadata": {},
   "source": [
    "# SQL base functions\n",
    "\n",
    "###  Содержание <a class=\"anchor\" id=0></a>\n",
    "- [1. Получаем все данные из таблицы](#1)\n",
    "- [2. Фильтруем строки](#2)\n",
    "- [2.1 WHERE](#2-1)\n",
    "- [2.2 AND OR](#2-2)\n",
    "- [2.3 BETWEEN](#2-3)\n",
    "- [2.4 NOT](#2-4)\n",
    "- [2.5 IN](#2-5)\n",
    "- [2.6 LIKE](#2-6)\n",
    "- [2.7 NULL](#2-7)\n",
    "- [3. Сортировка. ORDER BY](#3)\n",
    "- [4. Ограничения вывода](#4)\n",
    "- [5. Итоги](#4)\n"
   ]
  },
  {
   "cell_type": "markdown",
   "metadata": {},
   "source": [
    "## Получаем все данные из таблицы <a class=\"anchor\" id=1></a>\n",
    "\n",
    "[к содержанию](#0)\n",
    "\n",
    "Данные для модуля [kinopoisk](http://sql.skillfactory.ru:3000/question#eyJkYXRhc2V0X3F1ZXJ5Ijp7ImRhdGFiYXNlIjoyLCJxdWVyeSI6eyJzb3VyY2UtdGFibGUiOjcwfSwidHlwZSI6InF1ZXJ5In0sImRpc3BsYXkiOiJ0YWJsZSIsInZpc3VhbGl6YXRpb25fc2V0dGluZ3MiOnt9fQ==)\n",
    "\n",
    "В metabase код прямого запросаЖ\n",
    "\n",
    ">`select *`\n",
    ">\n",
    ">`from sql.kinopoisk`\n",
    "\n",
    "Название поля\tСодержимое\n",
    "* `position` - номер в базе данных\n",
    "* `movie_title` - название фильма\n",
    "* `year`\t- год выпуска\n",
    "* `country`\t- страна выпуска\n",
    "* `rating`\t- рейтинг фильма в базе\n",
    "* `overview`\t- описание фильма\n",
    "\n",
    "<img src=sql_1_img1.png>\n",
    "\n",
    ">Обратите внимание! `Metabase` выводит только первые **2 000 строк**: в нашем случае таблица полностью уместилась в выводе.\n",
    "\n",
    "При этом отображена только часть вывода, поскольку не все строки и столбцы влезли на экран. Вы можете увидеть всё содержимое таблицы, прокрутив страницу по вертикали и горизонтали.\n",
    "\n",
    "Что ещё мы видим? Числа отображаются в американском формате (с десятичным разделителем — точкой и разделителем разрядов — запятой).\n",
    "\n",
    "Теперь давайте разберём запрос, благодаря которому мы получили такой результат.\n",
    "\n",
    "### РАЗБИРАЕМ ЗАПРОС\n",
    "\n",
    "→ Оператор `SELECT` сообщает СУБД, что вы хотите извлечь из неё данные. `SELECT` лежит в основе любого `SQL`-запроса к БД.\n",
    "\n",
    "→ `FROM sql.kinopoisk` сообщает, из какой таблицы извлекаются данные. Сначала указывается название схемы, в которой содержится таблица (в нашем случае — это `sql`), а после точки — название самой таблицы (`kinopoisk`).\n",
    "\n",
    "→ Звёздочка `*` указывает, что вы хотите видеть все столбцы этой таблицы.\n",
    "\n",
    ">Допустим, вы хотите написать запрос, аналогичный запросу из задания, только вместо года выхода фильма, вам нужен его «возраст» на 2020 год.\n",
    ">\n",
    ">В таком случае наш запрос будет выглядеть так:\n"
   ]
  },
  {
   "cell_type": "code",
   "execution_count": null,
   "metadata": {
    "vscode": {
     "languageId": "sql"
    }
   },
   "outputs": [
    {
     "ename": "SyntaxError",
     "evalue": "invalid syntax (933355594.py, line 1)",
     "output_type": "error",
     "traceback": [
      "\u001b[1;36m  Input \u001b[1;32mIn [1]\u001b[1;36m\u001b[0m\n\u001b[1;33m    SELECT /*выбор столбцов*/\u001b[0m\n\u001b[1;37m            ^\u001b[0m\n\u001b[1;31mSyntaxError\u001b[0m\u001b[1;31m:\u001b[0m invalid syntax\n"
     ]
    }
   ],
   "source": [
    "SELECT /*выбор столбцов*/\n",
    "    movie_title, /*столбец movie_title*/\n",
    "    2020 - year, /*столбец, каждое из значений которого ровно разнице 2020 и соответствующего значения столбца year*/\n",
    "    rating /*столбец rating*/\n",
    "FROM sql.kinopoisk /*из таблицы sql.kinopoisk*/"
   ]
  },
  {
   "cell_type": "markdown",
   "metadata": {},
   "source": [
    "Напишите запрос, который выведет из таблицы kinopoisk следующие столбцы:\n",
    "\n",
    "* имя режиссёра (director),\n",
    "* название фильма (movie_title),\n",
    "* разница между максимально возможным рейтингом (10) и рейтингом этого фильма."
   ]
  },
  {
   "cell_type": "code",
   "execution_count": null,
   "metadata": {
    "vscode": {
     "languageId": "sql"
    }
   },
   "outputs": [],
   "source": [
    "SELECT \n",
    "    director,\n",
    "    movie_title,\n",
    "    10 - rating\n",
    "FROM sql.kinopoisk"
   ]
  },
  {
   "cell_type": "markdown",
   "metadata": {},
   "source": [
    "Столбец с вычислениями в выводе называется `?column?`, потому что `Metabase` не смог подобрать для него название.\n",
    "\n",
    "Давайте наведём порядок и переименуем столбец!"
   ]
  },
  {
   "cell_type": "code",
   "execution_count": null,
   "metadata": {
    "vscode": {
     "languageId": "sql"
    }
   },
   "outputs": [],
   "source": [
    "SELECT /*выбрать столбцы*/\n",
    "    director, /*столбец director*/\n",
    "    movie_title, /*столбец movie_title*/\n",
    "    10 - rating AS difference /*столбец, значения в котором равны разнице 10 и каждого соответствующего значения столбца rating; присвоить столбцу алиас difference*/\n",
    "FROM sql.kinopoisk /*из таблицы sql.kinopoisk*/"
   ]
  },
  {
   "cell_type": "markdown",
   "metadata": {},
   "source": [
    "Новое имя является просто псевдонимом, или **алиасом** (**Алиас** — имя, назначенное источнику данных в запросе при использовании выражения в качестве источника данных или для упрощения ввода и прочтения инструкции `SQL`.), — оно временное и не меняет реального имени столбца в базе данных. Алиас влияет только на то, как столбец отображается в выводе конкретного запроса.\n",
    "\n",
    "Алиасом может быть как одно слово, так и несколько, а его написание — как латиницей, так и кириллицей.\n",
    "\n",
    "Обратите внимание! Если в алиасе используется кириллица или пробелы, необходимо заключать его в двойные кавычки: `10 - rating AS \"разница\"` или `movie_title AS \"Movie Title\"`.\n",
    "\n",
    ">Будьте внимательны! При выполнении заданий в рамках курса используйте алиасы аккуратно. Если в задаче не указано, какое имя нужно присвоить столбцу, значит, его нужно выводить под тем же названием, что дано ему в таблице."
   ]
  },
  {
   "cell_type": "markdown",
   "metadata": {},
   "source": [
    "### ПРОСТЫЕ ОПЕРАЦИИ С ДАННЫМИ\n",
    "\n",
    "Со столбцами, которые содержат числовые данные, можно проводить арифметические операции:\n",
    "\n",
    "* сложение с помощью `+` ;\n",
    "* вычитание с помощью `-` (этот тип операции вы уже проводили, когда определяли «возраст» фильма);\n",
    "* умножение с помощью `*` ;\n",
    "* деление с помощью / `;`\n",
    ">Важно! Если и числитель, и знаменатель — целые числа, результат деления также будет целочисленным, то есть этот оператор произведёт деление нацело.\n",
    "* получение остатка от деления с помощью `%` .\n",
    "\n",
    "### ДОПОЛНИТЕЛЬНО\n",
    "\n",
    "С полным перечнем доступных арифметических операций вы можете ознакомиться в официальной [документации](https://postgrespro.ru/docs/postgresql/11/functions-math).\n",
    "\n",
    "Давайте выведем для каждого фильма результат деления года его выпуска на рейтинг (что бы это ни значило :))"
   ]
  },
  {
   "cell_type": "code",
   "execution_count": null,
   "metadata": {
    "vscode": {
     "languageId": "sql"
    }
   },
   "outputs": [],
   "source": [
    "SELECT /*выбрать столбцы*/\n",
    "    movie_title, /*столбец movie_title*/\n",
    "    year / rating /*столбец, значения которого равны результату деления значений столбца year на соответствующие значения столбца rating*/\n",
    "FROM sql.kinopoisk /*из таблицы sql.kinopoisk*/"
   ]
  },
  {
   "cell_type": "markdown",
   "metadata": {},
   "source": [
    "## Фильтруем строки <a class=\"anchor\" id=2></a>\n",
    "\n",
    "[к содержанию](#0)\n",
    "\n",
    "### WHERE <a class=\"anchor\" id=2-1></a>\n",
    "\n",
    "\n",
    "Мы уже знаем, что делать, если нам нужны лишь несколько столбцов из таблицы.\n",
    "\n",
    "?Но как быть, если мы хотим видеть не все строки, а только некоторые из них?\n",
    "\n",
    "В таком случае нам пригодится ключевое слово `WHERE`.\n",
    "\n",
    "Получим для примера всю информации о фильме, занимающем первую позицию."
   ]
  },
  {
   "cell_type": "code",
   "execution_count": null,
   "metadata": {
    "vscode": {
     "languageId": "sql"
    }
   },
   "outputs": [],
   "source": [
    "SELECT * /*выбор всех столбцов*/\n",
    "FROM sql.kinopoisk /*из таблицы sql.kinopoisk*/\n",
    "WHERE position = 1 /*с позицией 1*/"
   ]
  },
  {
   "cell_type": "markdown",
   "metadata": {},
   "source": [
    "Напишите запрос, чтобы вывести все столбцы для фильмов, которые вышли в прокат в 1999 году."
   ]
  },
  {
   "cell_type": "code",
   "execution_count": null,
   "metadata": {
    "vscode": {
     "languageId": "sql"
    }
   },
   "outputs": [],
   "source": [
    "SELECT *\n",
    "FROM sql.kinopoisk\n",
    "WHERE year = 1999"
   ]
  },
  {
   "cell_type": "markdown",
   "metadata": {},
   "source": [
    "В запросах выше мы использовали знак равно (`=`), но никто не запретит нам использовать и условные операторы.\n",
    "\n",
    "Вы можете применять знаки `<` (меньше), `<=` (меньше или равно), `>` (больше), `>=` (больше или равно).\n",
    "\n",
    "Посмотрим на фильмы, которые вышли в прокат до 1984 года."
   ]
  },
  {
   "cell_type": "code",
   "execution_count": null,
   "metadata": {
    "vscode": {
     "languageId": "sql"
    }
   },
   "outputs": [],
   "source": [
    "SELECT /*выбор всех полей*/\n",
    "    position, /*столбец position*/\n",
    "    movie_title, /*столбец movie_title*/\n",
    "    year, /*столбец year*/\n",
    "    director /*столбец director*/\n",
    "FROM sql.kinopoisk /*из таблицы sql.kinopoisk*/\n",
    "WHERE year < 1984 /*при условии, что год создания меньше 1984*/"
   ]
  },
  {
   "cell_type": "markdown",
   "metadata": {},
   "source": [
    "При этом вы можете комбинировать вывод конкретных столбцов и условия.\n",
    "\n",
    "Ещё один условный оператор, который нам доступен, — знак неравенства `!=` или `<>`.\n",
    "\n",
    "Выведем все столбцы для всех фильмов, кроме тех, что были сняты в 2000 году."
   ]
  },
  {
   "cell_type": "code",
   "execution_count": null,
   "metadata": {
    "vscode": {
     "languageId": "sql"
    }
   },
   "outputs": [],
   "source": [
    "SELECT * /*выбор всех полей*/\n",
    "FROM sql.kinopoisk /*из таблицы sql.kinopoisk*/\n",
    "WHERE year <> 2000 /*если год создания не 2000*/"
   ]
  },
  {
   "cell_type": "markdown",
   "metadata": {},
   "source": [
    "### AND И OR <a class=\"anchor\" id=2-2></a>\n",
    "\n",
    "[к содержанию](#0)\n",
    "\n",
    "Допустим, одного условия нам мало.\n",
    "\n",
    "В таком случае мы можем комбинировать их с помощью `AND` и `OR`.\n",
    "\n",
    "Типичная ситуация: выбираем фильм на вечер. Мы хотим, чтобы фильм был относительно современным и с высоким рейтингом.\n",
    "\n"
   ]
  },
  {
   "cell_type": "code",
   "execution_count": null,
   "metadata": {
    "vscode": {
     "languageId": "sql"
    }
   },
   "outputs": [],
   "source": [
    "SELECT * /*выбор всех полей*/\n",
    "FROM sql.kinopoisk /*из таблицы sql.kinopoisk*/\n",
    "WHERE year >= 2000 /*при условии, что год создания больше или равен 2000*/\n",
    "AND rating >= 8 /*и с рейтингом от 8 и выше*/"
   ]
  },
  {
   "cell_type": "markdown",
   "metadata": {},
   "source": [
    "Теперь вы хотите получить информацию о фильмах, которые вышли между 1975 и 1985 годами включительно. Можно воспользоваться следующим запросом:"
   ]
  },
  {
   "cell_type": "code",
   "execution_count": null,
   "metadata": {
    "vscode": {
     "languageId": "sql"
    }
   },
   "outputs": [],
   "source": [
    "SELECT *\n",
    "FROM sql.kinopoisk\n",
    "WHERE year > 1975\n",
    "AND year < 1985"
   ]
  },
  {
   "cell_type": "markdown",
   "metadata": {},
   "source": [
    "### BETWEEN <a class=\"anchor\" id=2-3></a>\n",
    "\n",
    "[к содержанию](#0)\n",
    "\n",
    "Мы только что отправили запрос для вывода данных по фильмам с 1975 и 1985 годы. Цели мы достигли, но сама запись оставляет желать лучшего.\n",
    "\n",
    "Можем оптимизировать её, сделав более элегантной с помощью `BETWEEN`:"
   ]
  },
  {
   "cell_type": "code",
   "execution_count": null,
   "metadata": {
    "vscode": {
     "languageId": "sql"
    }
   },
   "outputs": [],
   "source": [
    "SELECT * /*выбор всех полей*/\n",
    "FROM sql.kinopoisk /*из таблиц sql.kinopoisk*/\n",
    "WHERE year BETWEEN 1975 AND 1985 /*при условии, что год создания лежит в промежутке между 1975 и 1985*/"
   ]
  },
  {
   "cell_type": "markdown",
   "metadata": {},
   "source": [
    ">Обратите внимание! В `PostgreSQL` указанные значения включаются в интервал. В других СУБД `BETWEEN` может работать иначе и не включать указанные значения."
   ]
  },
  {
   "cell_type": "markdown",
   "metadata": {},
   "source": [
    "### NOT <a class=\"anchor\" id=2-4></a>\n",
    "\n",
    "[к содержанию](#0)\n",
    "\n",
    "В дополнение к другим операторам можно использовать ключевое слово `NOT` — оно «переворачивает» следующий за ним оператор.\n",
    "\n",
    "Выведем все фильмы, кроме тех, что вышли с 1965 по 1980 годы."
   ]
  },
  {
   "cell_type": "code",
   "execution_count": null,
   "metadata": {
    "vscode": {
     "languageId": "sql"
    }
   },
   "outputs": [],
   "source": [
    "SELECT * /*выбор всех полей*/\n",
    "FROM sql.kinopoisk /*из таблицы sql.kinopoisk*/\n",
    "WHERE year NOT BETWEEN 1965 AND 1980 /*при условии, что год создания не лежит в промежутке между 1965 и 1980*/"
   ]
  },
  {
   "cell_type": "markdown",
   "metadata": {},
   "source": [
    ">Если включаете в запрос несколько условий `AND` и `OR`, используйте скобки: они работают так же, как и с арифметическими операциями.\n",
    ">\n",
    ">**Важно! Условия в скобках имеют больший приоритет.**"
   ]
  },
  {
   "cell_type": "markdown",
   "metadata": {},
   "source": [
    "### IN <a class=\"anchor\" id=2-5></a>\n",
    "\n",
    "[к содержанию](#0)\n",
    "\n",
    "Ещё один полезный оператор для фильтрации строк — `IN`.\n",
    "\n",
    "Конструкции с `IN` имеют следующий вид:\n",
    "\n",
    ">`column IN (value1, value2, value3)`\n",
    "\n",
    "Эта запись аналогична следующей: `column = value1 OR column = value2 OR column = value3` — но выглядит проще и компактнее.\n",
    "\n",
    "Напишите запрос, который выводит названия фильмов, вышедших в прокат в 2000, 1985 и 1939 годах."
   ]
  },
  {
   "cell_type": "code",
   "execution_count": null,
   "metadata": {
    "vscode": {
     "languageId": "sql"
    }
   },
   "outputs": [],
   "source": [
    "SELECT movie_title\n",
    "FROM sql.kinopoisk\n",
    "WHERE year IN (2000, 1985, 1939)"
   ]
  },
  {
   "cell_type": "markdown",
   "metadata": {},
   "source": [
    "Давайте получим информацию о всех фильмах `Леонида Гайдая`."
   ]
  },
  {
   "cell_type": "code",
   "execution_count": null,
   "metadata": {
    "vscode": {
     "languageId": "sql"
    }
   },
   "outputs": [],
   "source": [
    "SELECT * /*выбор всех полей*/\n",
    "FROM sql.kinopoisk /*из таблицы sql.kinopoisk*/\n",
    "WHERE director = 'Леонид Гайдай' /*где режиссёр Леонид Гайдай*/"
   ]
  },
  {
   "cell_type": "markdown",
   "metadata": {},
   "source": [
    "Попробуйте изменить условие на `director = 'ЛЕОНИД ГАЙДАЙ'`.\n",
    "\n",
    "Как видите, ничего не отобразилось, потому что в текстовых полях важен регистр."
   ]
  },
  {
   "cell_type": "markdown",
   "metadata": {},
   "source": [
    "### LIKE <a class=\"anchor\" id=2-6></a>\n",
    "\n",
    "[к содержанию](#0)\n",
    "\n",
    "Предположим, мы не знаем точно, какое текстовое значение ищем.\n",
    "\n",
    "В таком случае нам поможет оператор `LIKE`.\n",
    "\n",
    "Например, чтобы получить все фильмы, название которых начинается на `А` (кириллическую), мы воспользуемся таким запросом:"
   ]
  },
  {
   "cell_type": "code",
   "execution_count": null,
   "metadata": {
    "vscode": {
     "languageId": "sql"
    }
   },
   "outputs": [],
   "source": [
    "SELECT * /*выбор всех полей*/\n",
    "FROM sql.kinopoisk /*из таблицы sql.kinopoisk*/\n",
    "WHERE movie_title LIKE 'А%' /*если название фильма начинается на А*/"
   ]
  },
  {
   "cell_type": "markdown",
   "metadata": {},
   "source": [
    "Знак процента (`%`) в примере показывает, что после `A` встречается ноль и более символов. Вы можете использовать `%` в любом месте внутри строки.\n",
    "\n",
    "Например, `movie_title LIKE '%а%б%'` выведет все фильмы, в названии которых встречается строчная буква `а`, а где-то после неё — `б`.\n",
    "\n",
    "Также в текстовых строках используется знак подчёркивания (`_`) — он заменяет ровно один любой символ.\n",
    "\n",
    "Напишите запрос, чтобы вывести название и год выпуска в прокат тех фильмов, которые были сняты режиссёром по имени Дэвид (то есть значение в поле director начинается с 'Дэвид') и имеют рейтинг больше 8."
   ]
  },
  {
   "cell_type": "code",
   "execution_count": null,
   "metadata": {
    "vscode": {
     "languageId": "sql"
    }
   },
   "outputs": [],
   "source": [
    "SELECT\n",
    "    movie_title,\n",
    "    year\n",
    "FROM sql.kinopoisk\n",
    "WHERE director LIKE 'Дэвид%' AND rating > 8"
   ]
  },
  {
   "cell_type": "markdown",
   "metadata": {},
   "source": [
    "### NULL <a class=\"anchor\" id=2-7></a>\n",
    "\n",
    "[к содержанию](#0)\n",
    "\n",
    "Вернёмся к просмотру всей таблицы с ТОП-250.\n",
    "\n",
    "Вы можете заметить, что у некоторых строк заполнены не все столбцы.\n",
    "\n",
    "<img src=sql_1_img2.png>\n",
    "\n",
    "Для пустых значений есть специальное обозначение — `NULL`.\n",
    "\n",
    "При этом вы не можете просто приравнять значение к `NULL`. Проверим это на следующем запросе:"
   ]
  },
  {
   "cell_type": "code",
   "execution_count": null,
   "metadata": {
    "vscode": {
     "languageId": "sql"
    }
   },
   "outputs": [],
   "source": [
    "SELECT * /*выбор всех полей*/\n",
    "FROM sql.kinopoisk /*из таблицы sql.kinopoisk*/\n",
    "WHERE overview = NULL /*если у фильма отсутствует описание*/"
   ]
  },
  {
   "cell_type": "markdown",
   "metadata": {},
   "source": [
    "Как вы заметили, вывод пустой, хотя мы точно видели фильмы с отсутствующим описанием.\n",
    "\n",
    "А теперь попробуйте изменить условие на `overview IS NULL`.\n",
    "\n",
    "Если вы всё сделали верно, то получили все фильмы, у которых в таблице отсутствует описание.\n",
    "\n",
    "Вы можете добавить к условию уже изученное ключевое слово `NOT`, чтобы получилось `overview IS NOT NULL`, тогда в выводе вы увидите только фильмы с заполненным описанием.\n",
    "\n",
    ">**Важно!** `NULL` — это специальное значение. Если вы фильтруете столбец, в котором есть пустые значения, по любому условию, кроме `IS NULL / IS NOT NULL`, такие значения будут исключены из вывода."
   ]
  },
  {
   "cell_type": "code",
   "execution_count": null,
   "metadata": {
    "vscode": {
     "languageId": "sql"
    }
   },
   "outputs": [],
   "source": [
    "SELECT * /*выбор всех полей*/\n",
    "FROM sql.kinopoisk /*из таблицы sql.kinopoisk*/\n",
    "WHERE overview IS NULL /*если у фильма отсутствует описание*/"
   ]
  },
  {
   "cell_type": "markdown",
   "metadata": {},
   "source": [
    "## Сортировка <a class=\"anchor\" id=3></a>\n",
    "\n",
    "[к содержанию](#0)\n",
    "\n",
    "### ORDER BY <a class=\"anchor\" id=3-1></a>\n",
    "\n",
    "Когда мы говорили о последовательности столбцов в выводе, вы, вероятно, задались вопросом: «А в каком порядке выводятся строки?»\n",
    "\n",
    "Порядок вывода строк может задаваться в настройках базы данных для каждой таблицы. Более того, этот порядок может быть не задан, и тогда от вывода к выводу он будет разным.\n",
    "\n",
    "Чтобы задать порядок вывода строк в запросе, применим новое ключевое слово `ORDER BY`.\n",
    "\n",
    "Для примера отсортируем фильмы по их названию в алфавитном порядке."
   ]
  },
  {
   "cell_type": "code",
   "execution_count": null,
   "metadata": {
    "vscode": {
     "languageId": "sql"
    }
   },
   "outputs": [],
   "source": [
    "SELECT *\n",
    "FROM sql.kinopoisk\n",
    "ORDER BY movie_title"
   ]
  },
  {
   "cell_type": "markdown",
   "metadata": {},
   "source": [
    "Как видите, сортировка по возрастанию проводится **по умолчанию**.\n",
    "\n",
    "Наш запрос с сортировкой по названию аналогичен такому:"
   ]
  },
  {
   "cell_type": "code",
   "execution_count": null,
   "metadata": {
    "vscode": {
     "languageId": "sql"
    }
   },
   "outputs": [],
   "source": [
    "SELECT *\n",
    "FROM sql.kinopoisk\n",
    "ORDER BY rating ASC"
   ]
  },
  {
   "cell_type": "markdown",
   "metadata": {},
   "source": [
    "Здесь `ASC` — явное указание порядка сортировки по возрастанию (англ. `ascending`).\n",
    "\n",
    "Для обратного порядка используется ключевое слово `DESC` (англ. `descending`).\n",
    "\n",
    "Разумеется, мы можем комбинировать в нашем запросе фильтрацию строк и сортировку вывода, а также выводить только необходимые столбцы.\n",
    "\n",
    "Выведем названия, имена режиссёров и сценаристов, а также год выхода в прокат фильмов, выпущенных в СССР, и отсортируем результат по убыванию рейтинга."
   ]
  },
  {
   "cell_type": "code",
   "execution_count": null,
   "metadata": {
    "vscode": {
     "languageId": "sql"
    }
   },
   "outputs": [],
   "source": [
    "SELECT /*выбор*/\n",
    "    movie_title, /*столбец movie_title*/\n",
    "    director, /*столбец director*/\n",
    "    screenwriter, /*столбец screenwriter*/\n",
    "    year /*столбец year*/\n",
    "FROM sql.kinopoisk /*из таблицы sql.kinopoisk*/\n",
    "WHERE country = 'СССР' /*при условии, что страна производства — СССР*/\n",
    "ORDER BY rating DESC /*сортировка по рейтингу в порядке убывания*/"
   ]
  },
  {
   "cell_type": "markdown",
   "metadata": {},
   "source": [
    ">**Обратите внимание!** Ключевое слово `ORDER BY` идёт после применения всех условий в `WHERE`."
   ]
  },
  {
   "cell_type": "markdown",
   "metadata": {},
   "source": [
    "Напишите запрос, который выведет столбцы с названием фильма, его описанием и годом выхода в прокат. Оставьте только те фильмы, у которых рейтинг не ниже 8.2 и страна производства — не США.\n",
    "\n",
    "Отсортируйте вывод по году выхода фильма в порядке убывания."
   ]
  },
  {
   "cell_type": "code",
   "execution_count": null,
   "metadata": {
    "vscode": {
     "languageId": "sql"
    }
   },
   "outputs": [],
   "source": [
    "SELECT\n",
    "    movie_title,\n",
    "    overview,\n",
    "    year\n",
    "FROM sql.kinopoisk\n",
    "WHERE rating >= 8.2 AND country != 'США'\n",
    "ORDER BY year DESC"
   ]
  },
  {
   "cell_type": "markdown",
   "metadata": {},
   "source": [
    "Также в `ORDER BY` можно указывать, где должны идти пустые значения — в начале или в конце.\n",
    "\n",
    "Такая настройка порядка вывода задаётся с помощью ключевых слов `NULLS FIRST / NULLS LAST`."
   ]
  },
  {
   "cell_type": "code",
   "execution_count": null,
   "metadata": {
    "vscode": {
     "languageId": "sql"
    }
   },
   "outputs": [],
   "source": [
    "SELECT  /*выбор*/\n",
    "    movie_title,  /*столбец movie_table*/\n",
    "    rating,  /*столбец rating*/\n",
    "    overview,  /*столбец overview*/\n",
    "    year /*столбец year*/\n",
    "FROM sql.kinopoisk  /*из таблицы sql.kinopoisk*/\n",
    "ORDER BY overview NULLS FIRST /*сортировка по столбцу overview, сначала без описания, потом по алфаивтному*/"
   ]
  },
  {
   "cell_type": "markdown",
   "metadata": {},
   "source": [
    "Вы можете сортировать вывод по нескольким столбцам, просто указав их через запятую в `ORDER BY` (порядок сортировки указывается отдельно для каждого столбца).\n",
    "\n",
    "Кроме того, вы можете сортировать результат запроса и по тем столбцам, которых нет в выводе.\n",
    "\n",
    "Получили список всех режиссёров и фильмов из ТОП-250, отсортированных по году выхода в прокат, а внутри года — по рейтингу в порядке убывания."
   ]
  },
  {
   "cell_type": "code",
   "execution_count": null,
   "metadata": {
    "vscode": {
     "languageId": "sql"
    }
   },
   "outputs": [],
   "source": [
    "SELECT /*выбор*/\n",
    "    director, /*столбец director*/\n",
    "    movie_title /*столбец movie_title*/\n",
    "FROM sql.kinopoisk /*из таблицы sql.kinopoisk*/\n",
    "ORDER BY year, rating DESC /*сортировка по столбцам year и rating в порядке убывания*/"
   ]
  },
  {
   "cell_type": "markdown",
   "metadata": {},
   "source": [
    "Напишите запрос, чтобы вывести названия всех фильмов (столбец Название фильма), у которых рейтинг выше 8.3 и страна производства — Франция.\n",
    "\n",
    "Отсортируйте по рейтингу в порядке убывания, далее — по году выхода в прокат (также в порядке убывания)."
   ]
  },
  {
   "cell_type": "code",
   "execution_count": null,
   "metadata": {
    "vscode": {
     "languageId": "sql"
    }
   },
   "outputs": [],
   "source": [
    "SELECT\n",
    "    movie_title AS \"Название фильма\"\n",
    "FROM sql.kinopoisk\n",
    "WHERE rating > 8.3\n",
    "    AND country = 'Франция'\n",
    "ORDER BY rating DESC, year DESC"
   ]
  },
  {
   "cell_type": "markdown",
   "metadata": {},
   "source": [
    "Для упрощения работы с `ORDER BY` можно использовать не названия столбцов, а их номера из вывода."
   ]
  },
  {
   "cell_type": "code",
   "execution_count": null,
   "metadata": {
    "vscode": {
     "languageId": "sql"
    }
   },
   "outputs": [],
   "source": [
    "SELECT /*выбор*/\n",
    "    director, /*столбец director*/\n",
    "    movie_title, /*столбец movie_title*/\n",
    "    year /*столбец year*/\n",
    "FROM sql.kinopoisk /*из таблицы sql.kinopoisk*/\n",
    "ORDER BY 1, 3 DESC /*сортировка по первому и третьему столбцам*/"
   ]
  },
  {
   "cell_type": "markdown",
   "metadata": {},
   "source": [
    ">Сортировку по номеру столбца стоит использовать с осторожностью, поскольку при изменении вывода в `SELECT` всё может сбиться.\n",
    "\n",
    "При добавлении новых столбцов в `SELECT` нужно проверить и при необходимости поправить номера столбцов в `ORDER BY`."
   ]
  },
  {
   "cell_type": "markdown",
   "metadata": {},
   "source": [
    "## Ограничение вывода <a class=\"anchor\" id=4></a>\n",
    "\n",
    "[к содержанию](#0)\n",
    "\n",
    "### LIMIT <a class=\"anchor\" id=4-1></a>\n",
    "\n",
    "По умолчанию при любом запросе вы получаете в выводе все строки, попадающие под условия запроса.\n",
    "\n",
    "Чаще всего именно этого вы и ожидаете, но иногда, например, вам нужно просто взглянуть на содержание таблицы, при этом чем она она больше, тем дольше будет работать запрос.\n",
    "\n",
    "Ограничим вывод **первыми десятью строками** и сможем легко понять, какие данные хранятся в таблице, не утяжеляя результат."
   ]
  },
  {
   "cell_type": "code",
   "execution_count": null,
   "metadata": {
    "vscode": {
     "languageId": "sql"
    }
   },
   "outputs": [],
   "source": [
    "SELECT * /*выбор всех полей*/\n",
    "FROM sql.kinopoisk /*из таблицы sql.kinopoisk*/\n",
    "LIMIT 10 /*ограничить вывод десятью значениями*/"
   ]
  },
  {
   "cell_type": "markdown",
   "metadata": {},
   "source": [
    "Ещё один типичный случай использования ограничения вывода — вывод ТОПа по какому-то показателю.\n",
    "\n",
    "Выведем ТОП-5 фильмов по рейтингу, сначала отсортировав их по убыванию, а потом оставив только верхние пять строк с помощью `LIMIT`."
   ]
  },
  {
   "cell_type": "code",
   "execution_count": null,
   "metadata": {
    "vscode": {
     "languageId": "sql"
    }
   },
   "outputs": [],
   "source": [
    "SELECT /*выбор*/\n",
    "    movie_title, /*столбец movie_title*/\n",
    "    rating /*столбец rating*/\n",
    "FROM sql.kinopoisk /*из таблицы sql.kinopoisk*/\n",
    "ORDER BY rating DESC /*сортировка по столбцу rating в порядке убывания*/\n",
    "LIMIT 5 /*ограничить пятью значениями*/"
   ]
  },
  {
   "cell_type": "markdown",
   "metadata": {},
   "source": [
    ">**Обратите внимание!** Ключевое слово LIMIT используется в самом конце запроса.\n",
    "\n",
    "Напишите запрос, который выводит ТОП-20 самых старых (определяем по году выхода в прокат) фильмов из таблицы kinopoisk.\n",
    "\n",
    "Выведите столбцы `Режиссёр`, `Название фильма`, `Актёры`."
   ]
  },
  {
   "cell_type": "code",
   "execution_count": null,
   "metadata": {
    "vscode": {
     "languageId": "sql"
    }
   },
   "outputs": [],
   "source": [
    "SELECT\n",
    "    director as \"Режиссёр\",\n",
    "    movie_title as \"Название фильма\",\n",
    "    actors as \"Актёры\"\n",
    "FROM sql.kinopoisk\n",
    "ORDER BY year\n",
    "LIMIT 20"
   ]
  },
  {
   "cell_type": "markdown",
   "metadata": {},
   "source": [
    "### OFFSET <a class=\"anchor\" id=4-2></a>\n",
    "\n",
    "[к содержанию](#0)\n",
    "\n",
    "Если `LIMIT` **«оставляет»** указанное число первых строк из вывода, то `OFFSET`, наоборот, **«обрезает»** указанное число первых строк.\n",
    "\n",
    "`LIMIT` и `OFFSET` можно использовать вместе, их порядок не важен.\n",
    "\n",
    "Выведем название и рейтинг фильмов с четвёртого по восьмое место."
   ]
  },
  {
   "cell_type": "code",
   "execution_count": null,
   "metadata": {
    "vscode": {
     "languageId": "sql"
    }
   },
   "outputs": [],
   "source": [
    "SELECT /*выбор*/\n",
    "    movie_title, /*столбец movie_title*/\n",
    "    rating /*столбец rating*/\n",
    "FROM sql.kinopoisk /*из таблицы sql.kinopoisk*/\n",
    "ORDER BY rating DESC /*сортировка по столбцу rating в порядке убывания*/\n",
    "OFFSET 3 LIMIT 5 /*исключить первые три строки и вывести пять следующих за ними*/"
   ]
  },
  {
   "cell_type": "markdown",
   "metadata": {},
   "source": [
    "Напишите запрос, чтобы вывести названия фильмов, которые вышли в прокат после 1990 года и были сняты не в России. Из этого списка оставьте только те фильмы, которые занимают с 20 по 47 места в рейтинге.\n",
    "\n",
    "Отсортируйте результат по убыванию рейтинга фильмов."
   ]
  },
  {
   "cell_type": "code",
   "execution_count": null,
   "metadata": {
    "vscode": {
     "languageId": "sql"
    }
   },
   "outputs": [],
   "source": [
    "SELECT\n",
    "    movie_title\n",
    "FROM sql.kinopoisk\n",
    "WHERE year > 1990 AND country != 'Россия'\n",
    "ORDER BY rating DESC\n",
    "OFFSET 19 LIMIT 28"
   ]
  },
  {
   "cell_type": "markdown",
   "metadata": {},
   "source": [
    "## Итоги <a class=\"anchor\" id=5></a>\n",
    "\n",
    "[к содержанию](#0)\n",
    "\n",
    "Структура простого запроса"
   ]
  },
  {
   "cell_type": "code",
   "execution_count": null,
   "metadata": {
    "vscode": {
     "languageId": "sql"
    }
   },
   "outputs": [],
   "source": [
    "SELECT\n",
    "    столбец1 AS новое_название,\n",
    "    столбец2,\n",
    "    столбец3\n",
    "FROM таблица\n",
    "WHERE (условие1 OR условие2)\n",
    "    AND условие3\n",
    "ORDER BY сортировка1, сортировка2\n",
    "OFFSET 1 LIMIT 2"
   ]
  },
  {
   "cell_type": "markdown",
   "metadata": {},
   "source": [
    "Напишите запрос, который выводит столбцы «Название фильма» (`movie_title`), «Режиссёр» (`director`), «Сценарист» (`screenwriter`), «Актёры» (`actors`). Оставьте только те фильмы, у которых:\n",
    "\n",
    "* рейтинг между 8 и 8.5 (включительно) ИЛИ год выхода в прокат до 1990;\n",
    "* есть описание;\n",
    "* название начинается не с буквы '`Т`';\n",
    "* название состоит ровно из 12 символов.\n",
    "* Оставьте только ТОП-7 по рейтингу."
   ]
  },
  {
   "cell_type": "code",
   "execution_count": null,
   "metadata": {
    "vscode": {
     "languageId": "sql"
    }
   },
   "outputs": [],
   "source": [
    "SELECT\n",
    "    movie_title as \"Название фильма\",\n",
    "    director as Режиссёр,\n",
    "    screenwriter as Сценарист,\n",
    "    actors as Актёры\n",
    "FROM sql.kinopoisk\n",
    "where\n",
    "    (rating between 8 and 8.5 or year < 1990)\n",
    "    and overview is not null\n",
    "    and movie_title NOT LIKE 'Т%'\n",
    "    and length(movie_title) = 12\n",
    "order by rating DESC\n",
    "limit 7"
   ]
  }
 ],
 "metadata": {
  "kernelspec": {
   "display_name": "Python 3.9.12 ('base')",
   "language": "python",
   "name": "python3"
  },
  "language_info": {
   "codemirror_mode": {
    "name": "ipython",
    "version": 3
   },
   "file_extension": ".py",
   "mimetype": "text/x-python",
   "name": "python",
   "nbconvert_exporter": "python",
   "pygments_lexer": "ipython3",
   "version": "3.9.12"
  },
  "orig_nbformat": 4,
  "vscode": {
   "interpreter": {
    "hash": "c3380a37b4678e1f5e651331348d62bc6038aef0d5f414da260f404a34792558"
   }
  }
 },
 "nbformat": 4,
 "nbformat_minor": 2
}
