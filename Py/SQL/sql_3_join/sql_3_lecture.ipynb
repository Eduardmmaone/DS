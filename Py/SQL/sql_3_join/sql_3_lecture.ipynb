{
 "cells": [
  {
   "cell_type": "markdown",
   "metadata": {},
   "source": [
    "# SQL Join\n",
    "\n",
    "###  Содержание <a class=\"anchor\" id=0></a>\n",
    "- [1. Знакомимся с данными](#1)\n",
    "- [2. Соединение таблиц по ключу](#2)\n",
    "- [3. Знакомимся с JOIN](#3)\n",
    "- [4. Фильтрация и агрегатные функции](#4)\n",
    "- [5. Способы соединения таблиц](#5)\n",
    "- [5.1 LEFT JOIN](#5-1)\n",
    "- [5.2 FULL OUTER JOIN](#5-2)\n",
    "- [5.3 CROSS JOIN](#5-3)\n",
    "- [5.4 NATURAL JOIN](#5-4)\n",
    "- [5.5 Общая логика и виды JOIN'ов](#5-5)\n",
    "- [6. Итоги](#6)"
   ]
  },
  {
   "cell_type": "markdown",
   "metadata": {},
   "source": [
    "## Знакомимся с данными <a class=\"anchor\" id=1></a>\n",
    "\n",
    "[к содержанию](#0)\n",
    "\n",
    "В этом модуле мы будем работать с таблицами о футбольных матчах и командах.\n",
    "\n",
    "Таблицы этого модуля, как и все другие в курсе, лежат в схеме sql в [Metabase](http://sql.skillfactory.ru:3000/). Нам понадобятся таблицы `teams` и `matches`.\n",
    "\n",
    "### Таблица teams:\n",
    "\n",
    "* `id`\t- id команды\n",
    "* `api_id`\t- ключ на таблицу matches\n",
    "* `long_name`\t- полное название команды\n",
    "* `short_name`\t- сокращённое название команды\n",
    "\n",
    "### Таблица matches с данными о матчах\n",
    "\n",
    "* `id`\t- id матча\n",
    "* `season`\t- сезон\n",
    "* `date`\t- дата матча\n",
    "* `home_team_api_id`\t- api_id домашней команды, ключ на таблицу teams \n",
    "* `away_team_api_id`\t- api_id гостевой команды, ключ на таблицу teams\n",
    "* `home_team_goals`\t- количество голов домашней команды\n",
    "* `away_team_goals`\t- количество голов гостевой команды\n",
    "\n",
    ">**Примечание**. Как и в предыдущих модулях, вы можете посмотреть подробный разбор структуры предлагаемых запросов во вкладке **Детализация**."
   ]
  },
  {
   "cell_type": "markdown",
   "metadata": {},
   "source": [
    "Напишите запрос, который выведет сезон (`season`), общее количество забитых мячей домашними (`total_home_goals`) и гостевыми (`total_away_goals`) командами.\n",
    "Отсортируйте по столбцу с сезоном в порядке возрастания."
   ]
  },
  {
   "cell_type": "code",
   "execution_count": null,
   "metadata": {
    "vscode": {
     "languageId": "sql"
    }
   },
   "outputs": [],
   "source": [
    "select\n",
    "    season,\n",
    "    sum(home_team_goals) total_home_goals,\n",
    "    sum(away_team_goals)  total_away_goals\n",
    "from sql.matches\n",
    "group by season\n",
    "order by season"
   ]
  },
  {
   "cell_type": "markdown",
   "metadata": {},
   "source": [
    "## Соединение таблиц по ключу <a class=\"anchor\" id=2></a>\n",
    "\n",
    "[к содержанию](#0)\n",
    "\n",
    "Чтобы соединить две таблицы между собой, достаточно записать названия таблиц через запятую в разделе `from`. Что произойдёт в таком случае?\n",
    "\n",
    "Каждая запись, которая есть в таблице teams, будет соединена с каждой записью в таблице matches.\n",
    "\n",
    "Это действие также называют декартовым произведением таблиц.\n",
    "\n",
    "<img src=sql_3_img1.png>\n",
    "\n",
    "Действительно ли это произведение?\n",
    "\n",
    "Легко проверить! В исходных таблицах teams и matches было 299 и 25083 записей соответственно. Если соединить каждую запись одной таблицы с каждой записью другой, получится 299 * 25083 записей в итоговой таблице.\n",
    "\n",
    "В данном случае соединение таблиц не даёт практической пользы: мы получили очень много записей, которые никак не можем интерпретировать, потому что команды не соответствуют матчам.\n",
    "\n",
    "Давайте исправим это. В таблице `teams` есть столбец `api_id`, а таблица `matches` содержит столбцы `home_team_api_id` и `away_team_api_id` — это ключи таблиц, по которым они соединяются.\n",
    "\n",
    ">**Ключ** — это поле (столбец) в таблице, которое позволяет однозначно идентифицировать запись (строку).\n",
    "\n",
    "Чтобы соединить таблицы и получить данные о домашней команде по каждому матчу, добавим условие\n",
    "`where home_team_api_id = api_id.`"
   ]
  },
  {
   "cell_type": "code",
   "execution_count": null,
   "metadata": {
    "vscode": {
     "languageId": "sql"
    }
   },
   "outputs": [],
   "source": [
    "SELECT *\n",
    "FROM\n",
    "    sql.teams,\n",
    "    sql.matches\n",
    "WHERE home_team_api_id = api_id"
   ]
  },
  {
   "cell_type": "markdown",
   "metadata": {},
   "source": [
    "Аналогично можем получить данные о гостевых командах: необходимо изменить условие на\n",
    "`where away_team_api_id = api_id`."
   ]
  },
  {
   "cell_type": "code",
   "execution_count": null,
   "metadata": {
    "vscode": {
     "languageId": "sql"
    }
   },
   "outputs": [],
   "source": [
    "SELECT *\n",
    "FROM\n",
    "    sql.teams,\n",
    "    sql.matches\n",
    "WHERE away_team_api_id = api_id"
   ]
  },
  {
   "cell_type": "markdown",
   "metadata": {},
   "source": [
    "Вы уже знакомы с ключами по таблице `pokemon` (там в этой роли выступал столбец `id`). Ключи нужны для того, чтобы иметь возможность не перепутать между собой различные записи.\n",
    "\n",
    "### Ключи бывают двух основных типов:\n",
    "\n",
    "* `Primary` — **первичный ключ** — служит для идентификации текущей таблицы и, как правило, идёт первым в списке столбцов. Всегда уникален: повторяющихся значений в основной таблице быть не может.\n",
    "* `Foreign` — **внешний ключ** — представляет собой ссылку на другую таблицу."
   ]
  },
  {
   "cell_type": "markdown",
   "metadata": {},
   "source": [
    "Как правило, названия ключей имеют «хвост», который позволяет их идентифицировать: например, `_id`, `_rk`, `_cd`, `_pk` (от `primary_key`), `_fk` (от `foreign_key`) и другие.\n",
    "\n",
    ">**Обратите внимание!** В данном датасете ключ `api_id` таблицы `teams` может быть использован в разных значениях. Его можно использовать для того, чтобы получить информацию о домашней (`home`) или гостевой (`away`) команде.\n",
    "\n",
    "Вы могли заметить, что в последних двух запросах получилось очень много столбцов. Как и при работе с одиночной таблицей, мы можем выбирать, какие столбцы соединённой таблицы выводить.\n",
    "\n",
    "С помощью известного нам запроса получим названия команд, игравших домашние матчи, и счёт матчей."
   ]
  },
  {
   "cell_type": "code",
   "execution_count": null,
   "metadata": {
    "vscode": {
     "languageId": "sql"
    }
   },
   "outputs": [],
   "source": [
    "SELECT \n",
    "    long_name, \n",
    "    home_team_goals,\n",
    "    away_team_goals\n",
    "FROM\n",
    "    sql.teams,\n",
    "    sql.matches\n",
    "WHERE home_team_api_id = api_id"
   ]
  },
  {
   "cell_type": "markdown",
   "metadata": {},
   "source": [
    "Напишите запрос, который выведет таблицу с результатами матчей, содержащую:\n",
    "\n",
    "* названия гостевых команд (`long_name`);\n",
    "* количество забитых мячей домашней команды (`home_team_goals`);\n",
    "* количество забитых мячей гостевой команды (`away_team_goals`)."
   ]
  },
  {
   "cell_type": "code",
   "execution_count": null,
   "metadata": {
    "vscode": {
     "languageId": "sql"
    }
   },
   "outputs": [],
   "source": [
    "SELECT\n",
    "    long_name,\n",
    "    home_team_goals,\n",
    "    away_team_goals\n",
    "FROM\n",
    "    sql.teams,\n",
    "    sql.matches\n",
    "WHERE away_team_api_id = api_id"
   ]
  },
  {
   "cell_type": "markdown",
   "metadata": {},
   "source": [
    "## Знакомимся с JOIN <a class=\"anchor\" id=3></a>\n",
    "\n",
    "[к содержанию](#0)\n",
    "\n",
    ">`JOIN` — это оператор `SQL`, который позволяет соединять таблицы по условию."
   ]
  },
  {
   "cell_type": "code",
   "execution_count": null,
   "metadata": {
    "vscode": {
     "languageId": "sql"
    }
   },
   "outputs": [],
   "source": [
    "SELECT \n",
    "    long_name, /*столбец long_name таблицы teams*/\n",
    "    home_team_goals, /*столбец home_team_goals таблицы matches*/\n",
    "    away_team_goals /*столбец away_team_goals таблицы matches*/\n",
    "FROM    \n",
    "    sql.teams /*таблица с командами*/\n",
    "JOIN sql.matches on home_team_api_id = api_id /*оператор соединения таблиц; таблица matches; условие: home_team_api_id таблицы matches равен api_id таблицы teams*/"
   ]
  },
  {
   "cell_type": "markdown",
   "metadata": {},
   "source": [
    "### СИНТАКСИС\n",
    "\n",
    "Оператор `JOIN` упрощает процесс соединения таблиц.\n",
    "\n",
    "Его синтаксис можно представить следующим образом:"
   ]
  },
  {
   "cell_type": "code",
   "execution_count": null,
   "metadata": {
    "vscode": {
     "languageId": "sql"
    }
   },
   "outputs": [],
   "source": [
    "SELECT\n",
    "    столбец1,\n",
    "\tстолбец2,\n",
    "\t...\n",
    "FROM\n",
    "\tтаблица1\n",
    "JOIN таблица2 ON условие"
   ]
  },
  {
   "cell_type": "markdown",
   "metadata": {},
   "source": [
    "Порядок присоединения таблиц в данном случае **не важен** — результат будет одинаковым.\n",
    "\n",
    "С помощью `JOIN` можно соединить и более двух таблиц."
   ]
  },
  {
   "cell_type": "code",
   "execution_count": null,
   "metadata": {
    "vscode": {
     "languageId": "sql"
    }
   },
   "outputs": [],
   "source": [
    "SELECT\n",
    "    столбец1,\n",
    "\tстолбец2,\n",
    "\t...\n",
    "FROM\n",
    "\tтаблица1\n",
    "JOIN таблица2 ON условие\n",
    "JOIN таблица3 ON условие"
   ]
  },
  {
   "cell_type": "markdown",
   "metadata": {},
   "source": [
    "В таблицах, которые мы соединяем, могут быть одинаковые названия столбцов.\n",
    "\n",
    "→ К примеру, столбец `id` есть и в таблице `matches`, и в таблице `teams`. Такой запрос не будет обработан."
   ]
  },
  {
   "cell_type": "code",
   "execution_count": null,
   "metadata": {
    "vscode": {
     "languageId": "sql"
    }
   },
   "outputs": [],
   "source": [
    "SELECT\n",
    "    id\n",
    "FROM \n",
    "sql.teams\n",
    "    JOIN sql.matches ON home_team_api_id = api_id"
   ]
  },
  {
   "cell_type": "markdown",
   "metadata": {},
   "source": [
    "В результате должно появиться сообщение об ошибке вроде такого: \"`... column id is ambiguous ...`\".\n",
    "\n",
    "?Что же делать в таком случае?\n",
    "\n",
    "Можно указать, откуда мы хотим запросить данные, записав название таблицы перед столбцом через точку."
   ]
  },
  {
   "cell_type": "code",
   "execution_count": null,
   "metadata": {
    "vscode": {
     "languageId": "sql"
    }
   },
   "outputs": [],
   "source": [
    "SELECT\n",
    "    teams.id /*столбец id таблицы teams*/\n",
    "FROM \n",
    "    sql.teams /*таблица teams*/\n",
    "JOIN sql.matches ON home_team_api_id = api_id /*оператор соединения таблиц; таблица matches; условие: home_team_api_id таблицы matches равен api_id таблицы teams*/"
   ]
  },
  {
   "cell_type": "markdown",
   "metadata": {},
   "source": [
    "Можно также выбрать и столбец из таблицы `matches`."
   ]
  },
  {
   "cell_type": "code",
   "execution_count": null,
   "metadata": {
    "vscode": {
     "languageId": "sql"
    }
   },
   "outputs": [],
   "source": [
    "SELECT\n",
    "    matches.id /*столбец id таблицы matches*/\n",
    "FROM \n",
    "    sql.teams /*таблица teams*/\n",
    "JOIN sql.matches ON home_team_api_id = api_id /*оператор соединения таблиц; таблица matches; условие: home_team_api_id таблицы matches равен api_id таблицы teams*/"
   ]
  },
  {
   "cell_type": "markdown",
   "metadata": {},
   "source": [
    "Зачастую названия таблиц **слишком длинные**, так что использовать их неудобно.\n",
    "\n",
    ">Упростить обращение к различным таблицам можно, присвоив им сокращённые названия — **алиасы** (от англ. **alias**).\n",
    "\n",
    "Синтаксис для указания алиаса такой же, как и для названия столбца."
   ]
  },
  {
   "cell_type": "code",
   "execution_count": null,
   "metadata": {
    "vscode": {
     "languageId": "sql"
    }
   },
   "outputs": [],
   "source": [
    "SELECT\n",
    "    столбец1,\n",
    "\tстолбец2,\n",
    "\t...\n",
    "FROM\n",
    "\tтаблица1 AS короткое_название_1\n",
    "JOIN таблица2 AS короткое_название_2 ON условие"
   ]
  },
  {
   "cell_type": "markdown",
   "metadata": {},
   "source": [
    "### Название записывается без пробелов и операторов.\n",
    "\n",
    "Если необходимо записать название на русском языке (`\"таблица1\"`) или с пробелом (`\"table 2\"`), то алиас можно **обернуть в кавычки**.\n",
    "\n",
    ">**Важно!** Обращаться по такому алиасу придётся также с помощью кавычек.\n",
    "\n",
    "Использование таких алиасов считается **плохой практикой** как минимум по двум причинам:\n",
    "\n",
    "* обращаться с такими алиасами неудобно;\n",
    "* названия на кириллице можно задать не во всех СУБД.\n",
    "\n",
    "Вместо алиасов с кавычками рекомендуется давать простое короткое название на латинице, без специальных символов и пробелов. Если таблиц немного и все названия начинаются с разных букв, можно присваивать алиасы по первой букве.\n",
    "\n",
    "Ключевое слово `as`, как и в названии столбца, можно **опустить в большинстве СУБД**."
   ]
  },
  {
   "cell_type": "code",
   "execution_count": null,
   "metadata": {
    "vscode": {
     "languageId": "sql"
    }
   },
   "outputs": [],
   "source": [
    "SELECT\n",
    "    столбец1 новое_название_столбца,\n",
    "\tстолбец2 новое_название_столбца,\n",
    "\t...\n",
    "FROM\n",
    "\tтаблица1 короткое_название_1\n",
    "JOIN таблица2 короткое_название_2 ON условие"
   ]
  },
  {
   "cell_type": "markdown",
   "metadata": {},
   "source": [
    "Напишите запрос, который выведет два столбца: `id` матча (`match_id`) и `id` домашней команды (`team_id`), — а затем отсортируйте по `id` матча в порядке возрастания значений."
   ]
  },
  {
   "cell_type": "code",
   "execution_count": null,
   "metadata": {
    "vscode": {
     "languageId": "sql"
    }
   },
   "outputs": [],
   "source": [
    "SELECT\n",
    "    matches.id match_id,\n",
    "    teams.id team_id\n",
    "FROM\n",
    "    sql.matches\n",
    "JOIN sql.teams on home_team_api_id = api_id\n",
    "ORDER BY match_id"
   ]
  },
  {
   "cell_type": "markdown",
   "metadata": {},
   "source": [
    "Кажется, теперь мы можем соединить таблицы между собой и создать своё табло со счётом матчей, как на спортивных сайтах!\n",
    "\n",
    "Давайте с помощью запроса SQL получим таблицу, содержащую:\n",
    "\n",
    "* название домашней команды;\n",
    "* количество забитых домашней командой голов;\n",
    "* количество забитых гостевой командой голов;\n",
    "* название гостевой команды."
   ]
  },
  {
   "cell_type": "code",
   "execution_count": null,
   "metadata": {
    "vscode": {
     "languageId": "sql"
    }
   },
   "outputs": [],
   "source": [
    "SELECT\n",
    "    h.long_name \"домашняя команда\", /*столбец long_name таблицы h*/\n",
    "    m.home_team_goals \"голы домашней команды\", /*столбец home_team_goals таблицы m*/\n",
    "    m.away_team_goals \"голы гостевой команды\", /*столбец away_team_goals таблицы m*/\n",
    "    a.long_name \"гостевая команда\" /*столбец long_name таблицы a*/\n",
    "FROM\n",
    "    sql.matches m /*таблица matches с алиасом m*/\n",
    "    JOIN sql.teams h ON m.home_team_api_id = h.api_id /*оператор соединения таблиц; таблица teams с алиасом h; условие: home_team_api_id таблицы m равен api_id таблицы h*/\n",
    "    JOIN sql.teams a ON m.away_team_api_id = a.api_id /*оператор соединения таблиц; таблица teams с алиасом a; условие: away_team_api_id таблицы m равен api_id таблицы a*/"
   ]
  },
  {
   "cell_type": "markdown",
   "metadata": {},
   "source": [
    "Напишите запрос, который выведет столбцы: id матча, короткое название домашней команды (home_short), короткое название гостевой команды (away_short).\n",
    "Отсортируйте запрос по возрастанию id матча."
   ]
  },
  {
   "cell_type": "code",
   "execution_count": null,
   "metadata": {
    "vscode": {
     "languageId": "sql"
    }
   },
   "outputs": [],
   "source": [
    "SELECT\n",
    "    m.id \"id матча\",\n",
    "    h.short_name \"домашняя команда\",\n",
    "    a.short_name \"гостевая команда\"\n",
    "FROM\n",
    "    sql.matches m\n",
    "    JOIN sql.teams h on m.home_team_api_id = h.api_id\n",
    "    JOIN sql.teams a on m.away_team_api_id = a.api_id\n",
    "ORDER BY \n",
    "    \"id матча\""
   ]
  },
  {
   "cell_type": "markdown",
   "metadata": {},
   "source": [
    "## Фильтрация и агрегатные функции <a class=\"anchor\" id=4></a>\n",
    "\n",
    "[к содержанию](#0)\n",
    "\n",
    "### РАБОТА С ОБЪЕДИНЁННЫМИ ТАБЛИЦАМИ\n",
    "\n",
    "Принцип построения запроса и порядок операторов такой же, как и с обычной таблицей.\n",
    "\n",
    "Вспомним его:\n",
    "\n"
   ]
  },
  {
   "cell_type": "code",
   "execution_count": null,
   "metadata": {
    "vscode": {
     "languageId": "sql"
    }
   },
   "outputs": [],
   "source": [
    "SELECT... \n",
    "FROM... \n",
    "WHERE... \n",
    "GROUP BY... \n",
    "ORDER BY... \n",
    "LIMIT..."
   ]
  },
  {
   "cell_type": "markdown",
   "metadata": {},
   "source": [
    "К соединённым таблицам применимы функции фильтрации данных.\n",
    "\n",
    "Например, можно вывести `id` матчей, в которых команда `Arsenal` была гостевой."
   ]
  },
  {
   "cell_type": "code",
   "execution_count": null,
   "metadata": {
    "vscode": {
     "languageId": "sql"
    }
   },
   "outputs": [],
   "source": [
    "SELECT \n",
    "    m.id /*столбец id таблицы m*/\n",
    "FROM\n",
    "    sql.teams t /*таблица teams с алиасом t*/\n",
    "    JOIN sql.matches m ON m.away_team_api_id = t.api_id /*оператор соединения таблиц; таблица matches с алиасом m; условие: away_team_api_id таблицы m равен api_id таблицы t*/\n",
    "WHERE long_name = 'Arsenal' /*long_name таблицы teams имеет значение Arsenal*/"
   ]
  },
  {
   "cell_type": "markdown",
   "metadata": {},
   "source": [
    ">Принципиальное отличие фильтрации данных по соединённым таблицам от аналогичного действия по одиночным таблицам заключается в том, что, фильтруя записи одной таблицы, мы также будем фильтровать и записи другой таблицы, поскольку соединённые на уровне запроса таблицы по сути **являются единой таблицей**."
   ]
  },
  {
   "cell_type": "code",
   "execution_count": null,
   "metadata": {
    "vscode": {
     "languageId": "sql"
    }
   },
   "outputs": [],
   "source": [
    "SELECT \n",
    "\tm.id id_1,\n",
    "\tm.season,\n",
    "\tt.id id_2,\n",
    "\tt.long_name\n",
    "FROM\n",
    "\tsql.teams t\n",
    "JOIN sql.matches m ON m.away_team_api_id = t.api_id"
   ]
  },
  {
   "cell_type": "markdown",
   "metadata": {},
   "source": [
    "Результат этого запроса условно делиться на дву части\n",
    "\n",
    "<img src=sql_3_img2.png>\n",
    "\n",
    "Одна часть — таблица `matches` с алиасом `m`, вторая — `teams` с алиасом `t`, но после соединения они являются одной таблицей.\n",
    "\n",
    "Таким образом, если вы отфильтруете данные по одной части таблицы, то другая, соединённая, часть пропадёт вместе с ней.\n",
    "\n",
    "Напишите запрос, который выведет полное название команды (`long_name`), количество голов домашней команды (`home_goal`) и количество голов гостевой команды (`away_goal`) в матчах, где домашней командой были команды с коротким названием `GEN`.\n",
    "Отсортируйте запрос по `id` матча в порядке возрастания."
   ]
  },
  {
   "cell_type": "code",
   "execution_count": null,
   "metadata": {
    "vscode": {
     "languageId": "sql"
    }
   },
   "outputs": [],
   "source": [
    "SELECT\n",
    "    t.long_name,\n",
    "    m.home_team_goals,\n",
    "    m.away_team_goals\n",
    "FROM\n",
    "\tsql.teams t\n",
    "JOIN sql.matches m ON m.home_team_api_id = t.api_id\n",
    "WHERE t.short_name = 'GEN'\n",
    "ORDER BY m.id"
   ]
  },
  {
   "cell_type": "markdown",
   "metadata": {},
   "source": [
    "Также мы можем отфильтровать записи сразу по двум таблицам."
   ]
  },
  {
   "cell_type": "code",
   "execution_count": null,
   "metadata": {
    "vscode": {
     "languageId": "sql"
    }
   },
   "outputs": [],
   "source": [
    "SELECT * /*выбор всех полей*/\n",
    "FROM    \n",
    "    sql.matches m /*таблица matches с алиасом m*/\n",
    "    JOIN sql.teams t on t.api_id = m.home_team_api_id /*оператор соединения таблиц; таблица teams с алиасом t; условие: home_team_api_id таблицы m равен api_id таблицы t*/\n",
    "WHERE\n",
    "    t.short_name = 'GEN' /*столбец short_name таблицы t имеет значение GEN*/\n",
    "    AND m.season = '2008/2009' /*столбец season таблицы m имеет значение 2008/2009*/"
   ]
  },
  {
   "cell_type": "markdown",
   "metadata": {},
   "source": [
    "Напишите запрос, чтобы вывести `id` матчей, короткое название домашней команды (`home_short`), короткое название гостевой команды (`away_short`) для матчей сезона `2011/2012`, в которых участвовала команда с названием `Liverpool`.\n",
    "Отсортируйте по `id` матча в порядке возрастания."
   ]
  },
  {
   "cell_type": "code",
   "execution_count": null,
   "metadata": {
    "vscode": {
     "languageId": "sql"
    }
   },
   "outputs": [],
   "source": [
    "SELECT\n",
    "    m.id,\n",
    "    t.short_name home_short,\n",
    "    t_a.short_name away_short\n",
    "FROM sql.matches m\n",
    "JOIN sql.teams t on t.api_id = m.home_team_api_id\n",
    "JOIN sql.teams t_a on t_a.api_id = m.away_team_api_id\n",
    "WHERE m.season = '2011/2012' and (t.long_name = 'Liverpool' or t_a.long_name = 'Liverpool')\n",
    "ORDER BY m.id"
   ]
  },
  {
   "cell_type": "markdown",
   "metadata": {},
   "source": [
    "### АГРЕГАЦИЯ ДАННЫХ\n",
    "\n",
    "К соединённым таблицам также применимы любые агрегатные функции — самые важные функции для анализа данных.\n",
    "\n",
    "Например, мы можем вывести сумму голов по командам для матчей, где команда выступала в гостях."
   ]
  },
  {
   "cell_type": "code",
   "execution_count": null,
   "metadata": {
    "vscode": {
     "languageId": "sql"
    }
   },
   "outputs": [],
   "source": [
    "SELECT\n",
    "    t.long_name, /*столбец long_name таблицы t*/\n",
    "    SUM(m.home_team_goals) + SUM(m.away_team_goals) match_goals /*функция суммирования; столбец home_team_goals таблицы m; функция суммирования; столбец away_team_goals таблицы m; новое название столбца*/\n",
    "FROM\n",
    "    sql.matches m /*таблица matches с алиасом m*/\n",
    "    JOIN sql.teams t ON m.away_team_api_id = t.api_id /*оператор соединения таблиц; таблица teams с алиасом t; условие: away_team_api_id таблицы m равен api_id таблицы t*/\n",
    "GROUP BY t.id /*группировка по столбцу id таблицы t*/"
   ]
  },
  {
   "cell_type": "markdown",
   "metadata": {},
   "source": [
    ">**Обратите внимание!** В данном запросе была использована группировка по столбцу `id` таблицы `teams`, хотя этот столбец не выводится в запросе. Это необходимо для того, чтобы команды с одинаковым названием, если такие найдутся, не группировались между собой. Группировка по названию команды в данном запросе будет неверной, так как есть несколько команд с одинаковым полным названием — мы говорили об этом в начале модуля.\n",
    "\n",
    "Также, применяя агрегатные функции к соединённым таблицам, обращайте внимание на указание алиасов (или таблиц) при группировке и указании столбцов агрегатных функций. В нашей соединённой таблице есть два столбца с названием `id`, и если бы мы сформировали запрос без указания таблицы, как указано ниже, то..."
   ]
  },
  {
   "cell_type": "code",
   "execution_count": null,
   "metadata": {
    "vscode": {
     "languageId": "sql"
    }
   },
   "outputs": [],
   "source": [
    "SELECT\n",
    "    t.long_name, /*столбец long_name таблицы t*/\n",
    "    SUM(m.home_team_goals) + SUM(m.away_team_goals) match_goals /*функция суммирования; столбец home_team_goals таблицы m; функция суммирования; столбец away_team_goals таблицы m; новое название столбца*/\n",
    "FROM\n",
    "    sql.matches m /*таблица matches с алиасом m*/\n",
    "    JOIN sql.teams t ON m.away_team_api_id = t.api_id /*оператор соединения таблиц; таблица teams с алиасом t; условие: away_team_api_id таблицы m равен api_id таблицы t*/\n",
    "GROUP BY id /*группировка по столбцу id, но не указано, какой таблицы*/"
   ]
  },
  {
   "cell_type": "markdown",
   "metadata": {},
   "source": [
    "система выдала бы уже знакомую нам ошибку: \"`... column \"id\" is ambiguous ...`\"."
   ]
  },
  {
   "cell_type": "markdown",
   "metadata": {},
   "source": [
    "Мы можем использовать оператор `HAVING` для фильтрации сгруппированных данных.\n",
    "\n",
    "Поставим задачу — вывести таблицу с суммарным количеством забитых голов в матчах по командам и сезонам для команд, в которых суммарное количество голов в матчах сезона больше 100."
   ]
  },
  {
   "cell_type": "code",
   "execution_count": null,
   "metadata": {
    "vscode": {
     "languageId": "sql"
    }
   },
   "outputs": [],
   "source": [
    "SELECT\n",
    "    m.season, /*столбец season таблицы m*/\n",
    "    SUM(m.home_team_goals) + SUM(m.away_team_goals) total_goals /*функция суммирования; столбец home_team_goals таблицы m; функция суммирования; столбец away_team_goals таблицы m; новое название столбца*/\n",
    "FROM sql.matches m /*таблица matches с алиасом m*/\n",
    "GROUP BY m.season /*группировка по столбцу season таблицы m*/"
   ]
  },
  {
   "cell_type": "markdown",
   "metadata": {},
   "source": [
    "Затем добавим таблицу с командами, группировку по командам и условие фильтрации."
   ]
  },
  {
   "cell_type": "code",
   "execution_count": null,
   "metadata": {
    "vscode": {
     "languageId": "sql"
    }
   },
   "outputs": [],
   "source": [
    "SELECT\n",
    "    m.season, /*столбец season таблицы m*/\n",
    "    t.long_name, /*столбец long_name таблицы t*/\n",
    "    SUM(m.home_team_goals) + SUM(m.away_team_goals) total_goals /*функция суммирования; столбец home_team_goals таблицы m; функция суммирования; столбец away_team_goals таблицы m; новое название столбца*/\n",
    "FROM sql.matches m /*таблица matches с алиасом m*/\n",
    "JOIN sql.teams t ON t.api_id = m.home_team_api_id OR t.api_id = m.away_team_api_id /*оператор соединения таблиц; таблица teams с алиасом t; условие: home_team_api_id таблицы m равен api_id таблицы t или away_team_api_id таблицы m равен api_id таблицы t*/\n",
    "GROUP BY m.season, t.id /*группировка по столбцам season таблицы m и id таблицы t*/\n",
    "HAVING SUM(m.home_team_goals) + SUM(m.away_team_goals) > 100 /*оператор фильтрации сгруппированных данных; функция суммирования; home_team_goals таблицы m; функция суммирования; away_team_goals таблицы m; больше 100*/"
   ]
  },
  {
   "cell_type": "markdown",
   "metadata": {},
   "source": [
    "### ВНИМАНИЕ!\n",
    "Напишите запрос, с помощью которого можно вывести список полных названий команд, сыгравших в гостях `150` и более матчей.\n",
    "Отсортируйте список по названию команды."
   ]
  },
  {
   "cell_type": "code",
   "execution_count": null,
   "metadata": {
    "vscode": {
     "languageId": "sql"
    }
   },
   "outputs": [],
   "source": [
    "SELECT\n",
    "    t.long_name\n",
    "FROM\n",
    "    sql.matches m\n",
    "JOIN sql.teams t ON m.away_team_api_id = t.api_id /* всё для гостевых команд */\n",
    "GROUP BY t.id /* группируем по id матча ХЗ почему, я бы группировал по имени команды */\n",
    "HAVING COUNT(*) >= 150 /* оставляем только позиции встретившиеся более 150 раз */\n",
    "ORDER BY t.long_name"
   ]
  },
  {
   "cell_type": "markdown",
   "metadata": {},
   "source": [
    "## Способы соединения таблиц <a class=\"anchor\" id=5></a>\n",
    "\n",
    "[к содержанию](#0)\n",
    "\n",
    "### INNER JOIN\n",
    "\n",
    "`INNER JOIN` — это тот же `JOIN` (слово `inner` в операторе можно опустить).\n",
    "\n",
    "<img src=sql_3_gif1.gif>\n",
    "\n",
    ">Для `INNER JOIN` работает следующее правило: присоединяются только те строки таблиц, которые удовлетворяют условию соединения. Если в любой из соединяемых таблиц находятся такие строки, которые не удовлетворяют заявленному условию, — они отбрасываются.\n",
    "\n",
    "Рассмотрим на примере нашего датасета. \n",
    "\n",
    "В таблице `teams` есть данные о 299 различных командах — можем проверить это с помощью запроса.\n"
   ]
  },
  {
   "cell_type": "code",
   "execution_count": null,
   "metadata": {
    "vscode": {
     "languageId": "sql"
    }
   },
   "outputs": [],
   "source": [
    "SELECT \n",
    "COUNT(DISTINCT id)\n",
    "FROM sql.teams"
   ]
  },
  {
   "cell_type": "markdown",
   "metadata": {},
   "source": [
    "Теперь добавим к `teams` таблицу с матчами."
   ]
  },
  {
   "cell_type": "code",
   "execution_count": null,
   "metadata": {
    "vscode": {
     "languageId": "sql"
    }
   },
   "outputs": [],
   "source": [
    "SELECT \n",
    "COUNT(DISTINCT t.id) /*оператор подсчёта строк; оператор исключения повторяющихся строк; столбец id*/\n",
    "FROM \n",
    "sql.teams t /*таблица teams с алиасом t*/\n",
    "/*оператор соединения inner JOIN; таблица teams с алиасом t; условие: home_team_api_id таблицы m равен api_id таблицы t или away_team_api_id таблицы m равен api_id таблицы t*/\n",
    "JOIN sql.matches m ON t.api_id = m.home_team_api_id OR t.api_id = m.away_team_api_id "
   ]
  },
  {
   "cell_type": "markdown",
   "metadata": {},
   "source": [
    "И в таблице останется уже не `299` команд, а только `292`.\n",
    "\n",
    "**?Почему?**\n",
    "\n",
    "Дело в том, что таблица `sql.matches` по какой-то причине не содержит информацию о командах `Lierse SK`, `KVC Westerlo`, `KAS Eupen`, `Club Brugge KV`, `KV Oostende`, `RSC Anderlecht` и `Hull City`, зато они есть в таблице `sql.teams`. Возможно, эти команды не участвовали ни в одном матче или записи по этим матчам были удалены.\n",
    "\n",
    "### LEFT OUTER JOIN И RIGHT OUTER JOIN <a class=\"anchor\" id=5-1></a>\n",
    "\n",
    "[к содержанию](#0)\n",
    "\n",
    "Также существуют схожие друг с другом типы соединения — `LEFT JOIN` и `RIGHT JOIN` (слово `outer` в операторе можно опустить).\n",
    "\n",
    "<img src=sql_3_gif2.gif>\n",
    "\n",
    ">Для `LEFT JOIN` работает следующее правило: из левой (относительно оператора) таблицы сохраняются все строки, а из правой добавляются только те, которые соответствуют условию соединения. Если в правой таблице не находится соответствия, то значения строк второй таблицы будут иметь значение `NULL`.\n",
    "\n",
    "`LEFT JOIN` может быть полезен, когда соответствующих записей во второй таблице может не быть, но важно сохранить записи из первой таблицы.\n",
    "\n",
    "Поставим следующую задачу: вывести полные названия команд, данных по которым нет в таблице matches.\n",
    "\n",
    "Для начала посмотрим на результат запроса после соединения."
   ]
  },
  {
   "cell_type": "code",
   "execution_count": null,
   "metadata": {
    "vscode": {
     "languageId": "sql"
    }
   },
   "outputs": [],
   "source": [
    "SELECT\n",
    "    t.long_name, /*столбец long_name таблицы t*/\n",
    "    m.id /*столбец id таблицы m*/\n",
    "FROM sql.teams t /*таблица teams с алиасом t*/\n",
    "/*оператор соединения left JOIN; таблица matches с алиасом m; условие: home_team_api_id таблицы m равен api_id таблицы t или away_team_api_id таблицы m равен api_id таблицы t*/\n",
    "LEFT JOIN sql.matches m ON t.api_id = m.home_team_api_id OR t.api_id = m.away_team_api_id \n",
    "ORDER BY m.id DESC /*сортировка по id таблицы m по убыванию, чтобы увидеть строки со значением null*/"
   ]
  },
  {
   "cell_type": "markdown",
   "metadata": {},
   "source": [
    ">**Вывод**: в таблице `teams` сохранились все записи, а в таблице matches есть пустые строки.\n",
    "\n",
    "<img src=sql_3_img3.png>\n",
    "\n",
    "Теперь, чтобы выбрать такие команды, которые не принимали участия в матчах, достаточно добавить условие `where m.id is null` (или любое другое поле таблицы matches)."
   ]
  },
  {
   "cell_type": "code",
   "execution_count": null,
   "metadata": {
    "vscode": {
     "languageId": "sql"
    }
   },
   "outputs": [],
   "source": [
    "SELECT\n",
    "    t.long_name /*столбец long_name таблицы t*/\n",
    "FROM \n",
    "    sql.teams t /*таблица teams с алиасом t*/\n",
    "/*оператор соединения left JOIN; таблица matches с алиасом m; условие: home_team_api_id таблицы m равен api_id таблицы t или away_team_api_id таблицы m равен api_id таблицы t*/\n",
    "LEFT JOIN sql.matches m ON t.api_id = m.home_team_api_id OR t.api_id = m.away_team_api_id \n",
    "WHERE m.id IS NULL /*условие: столбец id таблицы m имеет значение null*/"
   ]
  },
  {
   "cell_type": "markdown",
   "metadata": {},
   "source": [
    ">**Обратите внимание!** Если мы добавим какой-либо фильтр по значению для таблицы `matches`, то `LEFT JOIN` превратится в `INNER JOIN`, поскольку для второй таблицы станет необходимым присутствие значения в строке."
   ]
  },
  {
   "cell_type": "code",
   "execution_count": null,
   "metadata": {
    "vscode": {
     "languageId": "sql"
    }
   },
   "outputs": [],
   "source": [
    "SELECT\n",
    "    t.long_name \n",
    "FROM sql.teams t\n",
    "LEFT JOIN sql.matches m ON t.api_id = m.home_team_api_id OR t.api_id = m.away_team_api_id\n",
    "WHERE\n",
    "    m.season = '2008/2009'\n",
    "AND t.long_name = 'KAS Eupen'"
   ]
  },
  {
   "cell_type": "markdown",
   "metadata": {},
   "source": [
    ">В ответе `Metabase` получим `No results!`, так как вместе с фильтром `m.season = '2008/2009'` исчезли все строки, значения которых `NULL`.\n",
    "\n",
    "Используя `LEFT JOIN`, выведите список уникальных названий команд, содержащихся в таблице `matches`. Отсортируйте список в алфавитном порядке.\n",
    "В поле ниже введите запрос, с помощью которого вы решили задание."
   ]
  },
  {
   "cell_type": "code",
   "execution_count": null,
   "metadata": {
    "vscode": {
     "languageId": "sql"
    }
   },
   "outputs": [],
   "source": [
    "SELECT\n",
    "    DISTINCT(t.long_name) \n",
    "FROM sql.matches m \n",
    "LEFT JOIN sql.teams t ON t.api_id = m.home_team_api_id OR t.api_id = m.away_team_api_id\n",
    "ORDER BY 1 "
   ]
  },
  {
   "cell_type": "markdown",
   "metadata": {},
   "source": [
    "С `LEFT JOIN` также работают агрегатные функции, что позволяет не потерять значения из левой таблицы. Например, мы можем вывести сумму голов команд по гостевым матчам."
   ]
  },
  {
   "cell_type": "code",
   "execution_count": null,
   "metadata": {
    "vscode": {
     "languageId": "sql"
    }
   },
   "outputs": [],
   "source": [
    "SELECT\n",
    "    t.long_name,\n",
    "    SUM(m.away_team_goals) total_goals\n",
    "FROM   \n",
    "    sql.teams t\n",
    "LEFT JOIN sql.matches m ON t.api_id = m.away_team_api_id\n",
    "GROUP BY t.id\n",
    "ORDER BY 2 DESC /* NULLS FIRST или NULLS LAST - не забывай */ "
   ]
  },
  {
   "cell_type": "markdown",
   "metadata": {},
   "source": [
    ">**Обратите внимание!** При применении функций `SUM`, `MIN`, `MAX`, `AVG` к полям со значением `NULL` в результате получится `NULL`, а не `0`. А при использовании функции `COUNT`, наоборот, получится `0`.\n",
    "\n",
    "Используя `LEFT JOIN`, напишите запрос, который выведет полное название команды (`long_name`), количество матчей, в которых участвовала команда, — домашних и гостевых (`matches_cnt`).\n",
    "Отсортируйте по количеству матчей в порядке возрастания, затем по названию команды в алфавитном порядке."
   ]
  },
  {
   "cell_type": "code",
   "execution_count": null,
   "metadata": {
    "vscode": {
     "languageId": "sql"
    }
   },
   "outputs": [],
   "source": [
    "select\n",
    "t.long_name,\n",
    "count(m.id)\n",
    "from\n",
    "sql.teams t\n",
    "left join sql.matches m on t.api_id = m.home_team_api_id or t.api_id = m.away_team_api_id\n",
    "group by t.id\n",
    "order by 2, 1"
   ]
  },
  {
   "cell_type": "markdown",
   "metadata": {},
   "source": [
    ">При использовании `RIGHT JOIN` сохраняется та же логика, что и для `LEFT JOIN`, только за основу берётся правая таблица.\n",
    ">\n",
    ">Чтобы из `LEFT JOIN` получить `RIGHT JOIN`, нужно просто поменять порядок соединения таблиц.\n",
    "\n",
    "Вообще, применение `RIGHT JOIN` считается **плохим тоном**, так как язык `SQL` читается и пишется слева направо, а такой оператор усложняет чтение запросов."
   ]
  },
  {
   "cell_type": "markdown",
   "metadata": {},
   "source": [
    "### FULL OUTER JOIN <a class=\"anchor\" id=5-2></a>\n",
    "\n",
    "[к содержанию](#0)\n",
    "\n",
    "Оператор `FULL OUTER JOIN` объединяет в себе `LEFT` и `RIGHT JOIN` и позволяет сохранить кортежи обеих таблиц. Даже если не будет соответствий, мы сохраним все записи из обеих таблиц.\n",
    "\n",
    "`FULL OUTER JOIN` может быть полезен в ситуациях, когда схема данных недостаточно нормализована и не хватает таблиц-справочников.\n",
    "\n",
    ">**Пример**: в базе данных интернет-магазина есть две таблицы — с зарегистрированными пользователями и пользователями, оформившими заказ. При этом оформить заказ можно без регистрации, а зарегистрироваться — без оформления заказа.\n",
    "\n",
    "Предположим, что вам необходимо получить полный список пользователей — и оформивших заказ, и зарегистрированных, — но в базе данных этой объединённой таблицы нет. В данном случае можно использовать `FULL OUTER JOIN` для получения полного списка, соединив таким образом таблицы c заказами и регистрациями по `id` пользователя.\n",
    "\n",
    "<img src=sql_3_img4.png>\n",
    "\n",
    "Синтаксис `FULL OUTER JOIN` аналогичен другим `JOIN`."
   ]
  },
  {
   "cell_type": "code",
   "execution_count": null,
   "metadata": {
    "vscode": {
     "languageId": "sql"
    }
   },
   "outputs": [],
   "source": [
    "SELECT \n",
    "…\n",
    "FROM\n",
    "\ttable1\n",
    "FULL OUTER JOIN table2 ON условие"
   ]
  },
  {
   "cell_type": "markdown",
   "metadata": {},
   "source": [
    "### CROSS JOIN <a class=\"anchor\" id=5-3></a>\n",
    "\n",
    "[к содержанию](#0)\n",
    "\n",
    "На самом деле с этим оператором соединения таблиц вы познакомились в самом начале текущего модуля.\n",
    "\n",
    ">`CROSS JOIN` соединяет таблицы так, что каждая запись в первой таблице присоединяется к каждой записи во второй таблице, иначе говоря, даёт декартово произведение.\n",
    "\n",
    "<img src=sql_3_img5.png>\n",
    "\n",
    "В начале модуля вы использовали этот оператор, записывая таблицы через запятую."
   ]
  },
  {
   "cell_type": "code",
   "execution_count": null,
   "metadata": {
    "vscode": {
     "languageId": "sql"
    }
   },
   "outputs": [],
   "source": [
    "SELECT *\n",
    "FROM\n",
    "    sql.teams,\n",
    "    sql.matches\n",
    "    \n",
    "/* равносилен */\n",
    "    SELECT *\n",
    "FROM\n",
    "    sql.teams\n",
    "    CROSS JOIN sql.matches"
   ]
  },
  {
   "cell_type": "markdown",
   "metadata": {},
   "source": [
    ">**Обратите внимание!** Условие для `CROSS JOIN`, в отличие от других операторов, не требуется.\n",
    "\n",
    "Также этот запрос можно записать с помощью `INNER JOIN` с условием `on true` — результат будет тот же."
   ]
  },
  {
   "cell_type": "code",
   "execution_count": null,
   "metadata": {
    "vscode": {
     "languageId": "sql"
    }
   },
   "outputs": [],
   "source": [
    "SELECT * /*выбор всех полей*/\n",
    "FROM\n",
    "    sql.teams /*таблица teams*/\n",
    "    JOIN sql.matches ON TRUE /*оператор соединения INNER JOIN; таблица matches; условие: для всех случаев*/"
   ]
  },
  {
   "cell_type": "markdown",
   "metadata": {},
   "source": [
    "`CROSS JOIN` может быть полезен, когда необходимо создать таблицу фактов.\n",
    "\n",
    "Например, с помощью такого запроса мы можем получить все возможные комбинации полных названий команд в матчах."
   ]
  },
  {
   "cell_type": "code",
   "execution_count": null,
   "metadata": {
    "vscode": {
     "languageId": "sql"
    }
   },
   "outputs": [],
   "source": [
    "SELECT\n",
    "    DISTINCT /*оператор исключения повторяющихся строк*/\n",
    "    t1.long_name home_team, /*столбец long_name таблицы t1; новое название*/\n",
    "    t2.long_name away_team /*столбец long_name таблицы t2; новое название*/\n",
    "FROM\n",
    "    sql.teams t1 /*таблица teams с алиасом t1*/\n",
    "    CROSS JOIN sql.teams t2 /*оператор соединения CROSS JOIN; таблица teams с алиасом t2*/"
   ]
  },
  {
   "cell_type": "markdown",
   "metadata": {},
   "source": [
    "Напишите запрос, который выведет все возможные уникальные комбинации коротких названий домашней команды (`home_team`) и коротких названий гостевой команды (`away_team`).\n",
    "Отсортируйте запрос по первому и второму столбцам."
   ]
  },
  {
   "cell_type": "code",
   "execution_count": null,
   "metadata": {
    "vscode": {
     "languageId": "sql"
    }
   },
   "outputs": [],
   "source": [
    "SELECT\n",
    "    DISTINCT\n",
    "    t1.short_name,\n",
    "    t2.short_name\n",
    "FROM\n",
    "    sql.teams t1\n",
    "    CROSS JOIN sql.teams t2\n",
    "ORDER BY 1, 2"
   ]
  },
  {
   "cell_type": "markdown",
   "metadata": {},
   "source": [
    "### NATURAL JOIN <a class=\"anchor\" id=5-4></a>\n",
    "\n",
    "[к содержанию](#0)\n",
    "\n",
    "Ключевое слово `natural` в начале оператора `JOIN` позволяет не указывать условие соединения таблиц — для соединения будут использованы столбцы с одинаковым названием из этих таблиц.\n",
    "\n",
    "`NATURAL JOIN` можно использовать с любыми видами соединений, которые требуют условия соединения:\n",
    "\n",
    "* `NATURAL INNER JOIN` (возможна запись `NATURAL JOIN`);\n",
    "* `NATURAL LEFT JOIN`;\n",
    "* `NATURAL RIGHT JOIN`;\n",
    "* `NATURAL FULL OUTER JOIN`.\n",
    "\n",
    "При использовании `NATURAL JOIN` прежде всего стоит обратить внимание на ключи таблиц. Для наших таблиц `teams` и `matches` этот вид соединения не подойдёт, так как общим для обеих таблиц является столбец `id`, но таблицы соединяются по другим столбцам.\n",
    "\n",
    "Когда у таблиц есть несколько столбцов с одинаковыми именами, при `NATURAL JOIN` условие соединения будет применено на все столбцы с одинаковыми именами.\n",
    "\n",
    "То есть для таблиц `table1` и `table2`\n",
    "\n",
    "`table1: id, name, ...`\n",
    "\n",
    "`table2: id, name, ...`\n",
    "\n",
    "запрос\n"
   ]
  },
  {
   "cell_type": "code",
   "execution_count": null,
   "metadata": {
    "vscode": {
     "languageId": "sql"
    }
   },
   "outputs": [],
   "source": [
    "SELECT \n",
    "…\n",
    "FROM \n",
    "    table1 \n",
    "NATURAL JOIN table2\n",
    "\n",
    "/* равносилен */\n",
    "\n",
    "SELECT\n",
    "…\n",
    "FROM \n",
    "    table1 t1\n",
    "INNER JOIN table2 t2 ON t1.id = t2.id AND t1.name = t2.name"
   ]
  },
  {
   "cell_type": "markdown",
   "metadata": {},
   "source": [
    "### ОБЩАЯ ЛОГИКА ПОСТРОЕНИЯ ЗАПРОСА С JOIN И ВИДЫ JOIN'OB<a class=\"anchor\" id=5-5></a>\n",
    "\n",
    "[к содержанию](#0)\n",
    "\n",
    "При построении запроса с несколькими `JOIN` старайтесь идти слева направо. Сначала выберите таблицу, которая является центральной в соответствии с поставленной задачей, вопросом. Затем добавляйте таблицы поэтапно в зависимости от бизнес-логики запроса.\n",
    "\n",
    "Например, для ответа на вопрос: «Какая команда сыграла больше всех матчей в сезоне 2010/2011?» в качестве центральной лучше выбрать таблицу с командами.\n",
    "\n",
    "А для ответа на вопрос: «В каком сезоне участвовало больше всего команд?» — таблицу с матчами.\n",
    "\n",
    "Стоит отметить, что из рассмотренных видов соединений чаще всего используются `INNER JOIN` и `LEFT JOIN`. Другие операторы используются реже, но стоит помнить об их существовании при решении нестандартных задач.\n",
    " \n",
    ">`CROSS JOIN` соединяет таблицы так, что каждая запись в первой таблице присоединяется к каждой записи во второй таблице ― иначе говоря, даёт декартово произведение.\n",
    "\n",
    "`INNER JOIN` — это тот же JOIN (слово INNER в операторе можно опустить).\n",
    "\n",
    "Для INNER JOIN работает следующее правило: присоединяются только те строки таблиц, которые удовлетворяют условию соединения. Если в любой из соединяемых таблиц находятся такие строки, которые не удовлетворяют заявленному условию, — они отбрасываются.\n",
    "\n",
    ">Ключевое слово `NATURAL` в начале оператора JOIN позволяет не указывать условие соединения таблиц — для соединения будут использованы столбцы с одинаковым названием из этих таблиц.\n",
    ">\n",
    ">`NATURAL JOIN` можно использовать с любыми видами соединений, которые требуют определённого условия:\n",
    ">\n",
    ">`NATURAL INNER JOIN` (возможна запись `NATURAL JOIN`);\n",
    ">`NATURAL LEFT JOIN`;\n",
    ">`NATURAL RIGHT JOIN`;\n",
    ">`NATURAL FULL OUTER JOIN`.\n",
    ">При использовании `NATURAL JOIN` прежде всего стоит обратить внимание на **ключи таблиц**.\n",
    ">\n",
    ">Когда у таблиц есть несколько столбцов с одинаковыми именами, при NATURAL JOIN условие соединения будет применено на все столбцы с одинаковыми именами.\n",
    "\n",
    "Для `LEFT JOIN` работает следующее правило: из левой (относительно оператора) таблицы сохраняются все строки, а из правой добавляются только те, которые соответствуют условию соединения. Если в правой таблице не находится соответствия, то значения строк второй таблицы будут иметь значение NULL.\n",
    "\n",
    "`LEFT JOIN` полезен, когда соответствующих записей во второй таблице может не быть, но важно сохранить записи из первой таблицы.\n",
    "\n",
    "Чтобы из `LEFT JOIN` получить RIGHT JOIN, нужно просто поменять порядок соединения таблиц.\n",
    "\n",
    ">Для `RIGHT JOIN` работает следующее правило: из правой (относительно оператора) таблицы сохраняются все строки, а из левой добавляются только те, которые соответствуют условию соединения. Если в левой таблице не находится соответствия, то значения строк второй таблицы будут иметь значение NULL.\n",
    ">\n",
    ">`RIGHT JOIN` полезен, когда соответствующих записей во второй таблице может не быть, но важно сохранить записи из первой таблицы.\n",
    ">\n",
    ">Чтобы из `RIGHT JOIN` получить LEFT JOIN, нужно просто поменять порядок соединения таблиц.\n",
    ">\n",
    ">**Вообще, применение `RIGHT JOIN` считается дурным тоном, так как язык SQL читается и пишется слева направо, и этот оператор усложняет чтение запросов.**\n",
    "\n",
    "Оператор `FULL OUTER JOIN` объединяет в себе `LEFT` и `RIGHT JOIN` и позволяет сохранить кортежи обеих таблиц. Даже если не будет соответствий, мы сохраним все записи из обеих таблиц.\n",
    "\n",
    "`FULL OUTER JOIN` может быть полезен в ситуациях, когда схема данных недостаточно нормализована и не хватает таблиц-справочников.\n",
    "\n",
    "Пример: в базе данных интернет-магазина есть две таблицы — с зарегистрированными пользователями и пользователями, оформившими заказ. При этом оформить заказ можно без регистрации, а зарегистрироваться — без оформления заказа.\n",
    "\n",
    "Предположим, что вам необходимо получить полный список пользователей — и оформивших заказ, и зарегистрированных, — но в базе данных этой объединённой таблицы нет. В данном случае можно использовать `FULL OUTER JOIN` для получения полного списка, соединив таким образом таблицы c заказами и регистрациями по id пользователя."
   ]
  },
  {
   "cell_type": "markdown",
   "metadata": {},
   "source": [
    "## Итоги <a class=\"anchor\" id=6></a>\n",
    "\n",
    "[к содержанию](#0)\n",
    "\n",
    "Напишите запрос, который выведет список уникальных полных названий команд (`long_name`), игравших в гостях в матчах сезона `2012/2013`.\n",
    "Отсортируйте список в алфавитном порядке."
   ]
  },
  {
   "cell_type": "code",
   "execution_count": null,
   "metadata": {
    "vscode": {
     "languageId": "sql"
    }
   },
   "outputs": [],
   "source": [
    "SELECT\n",
    "    DISTINCT\n",
    "    t.long_name\n",
    "FROM\n",
    "    sql.teams t \n",
    "JOIN sql.matches m ON t.api_id = m.away_team_api_id\n",
    "WHERE m.season = '2012/2013'\n",
    "ORDER BY 1"
   ]
  },
  {
   "cell_type": "markdown",
   "metadata": {},
   "source": [
    "Напишите запрос, который выведет полное название команды (`long_name`) и общее количество матчей (`matches_cnt`), сыгранных c командой `Inter`, `Inter` была дома."
   ]
  },
  {
   "cell_type": "code",
   "execution_count": null,
   "metadata": {
    "vscode": {
     "languageId": "sql"
    }
   },
   "outputs": [],
   "source": [
    "SELECT\n",
    "    t.long_name,\n",
    "    COUNT(m.id)\n",
    "FROM\n",
    "    sql.matches m \n",
    "JOIN sql.teams t ON t.api_id = m.away_team_api_id\n",
    "JOIN sql.teams t_1 ON t_1.api_id = m.home_team_api_id\n",
    "WHERE t_1.long_name = 'Inter'\n",
    "GROUP BY t.long_name"
   ]
  },
  {
   "cell_type": "markdown",
   "metadata": {},
   "source": [
    "Напишите запрос, который выведет полное название команды (`long_name`) и общее количество матчей (`matches_cnt`), сыгранных командой `Inter` в домашних матчах."
   ]
  },
  {
   "cell_type": "code",
   "execution_count": null,
   "metadata": {
    "vscode": {
     "languageId": "sql"
    }
   },
   "outputs": [],
   "source": [
    "SELECT\n",
    "    t.long_name,\n",
    "    COUNT(m.id)\n",
    "FROM\n",
    "    sql.teams t\n",
    "JOIN sql.matches m ON t.api_id = m.home_team_api_id\n",
    "WHERE t.long_name = 'Inter'\n",
    "GROUP BY t.long_name"
   ]
  },
  {
   "cell_type": "markdown",
   "metadata": {},
   "source": [
    "Напишите запрос, который выведет ТОП-10 команд (`long_name`) по суммарному количеству забитых голов в гостевых матчах. Во втором столбце запроса выведите суммарное количество голов в гостевых матчах (`total_goals`)."
   ]
  },
  {
   "cell_type": "code",
   "execution_count": null,
   "metadata": {
    "vscode": {
     "languageId": "sql"
    }
   },
   "outputs": [],
   "source": [
    "SELECT\n",
    "    t.long_name,\n",
    "    SUM(m.away_team_goals) total_goals\n",
    "FROM \n",
    "    sql.teams t\n",
    "JOIN sql.matches m ON t.api_id = m.away_team_api_id\n",
    "GROUP BY t.long_name\n",
    "ORDER BY 2 DESC\n",
    "LIMIT 10"
   ]
  },
  {
   "cell_type": "markdown",
   "metadata": {},
   "source": [
    "Выведите количество матчей между командами `Real Madrid CF` и `FC Barcelona`.\n"
   ]
  },
  {
   "cell_type": "code",
   "execution_count": null,
   "metadata": {
    "vscode": {
     "languageId": "sql"
    }
   },
   "outputs": [],
   "source": [
    "SELECT\n",
    "    COUNT(*)\n",
    "FROM\n",
    "    sql.matches m \n",
    "JOIN sql.teams t ON t.api_id = m.away_team_api_id\n",
    "JOIN sql.teams t_1 ON t_1.api_id = m.home_team_api_id\n",
    "WHERE (t.long_name = 'Real Madrid CF' AND t_1.long_name = 'FC Barcelona')\n",
    "OR (t_1.long_name = 'Real Madrid CF' AND t.long_name = 'FC Barcelona')"
   ]
  },
  {
   "cell_type": "markdown",
   "metadata": {},
   "source": [
    "Напишите запрос, который выведет название команды (`long_name`), сезон (`season`) и суммарное количество забитых голов в домашних матчах (`total_goals`).\n",
    "Оставьте только те строки, в которых суммарное количество голов **менее десяти**.\n",
    "Отсортируйте запрос по **названию команды**, а затем — **по сезону**."
   ]
  },
  {
   "cell_type": "code",
   "execution_count": null,
   "metadata": {
    "vscode": {
     "languageId": "sql"
    }
   },
   "outputs": [],
   "source": [
    "SELECT\n",
    "    t.long_name,\n",
    "    m.season,\n",
    "    SUM(m.home_team_goals) total_goals\n",
    "FROM\n",
    "    sql.teams t\n",
    "JOIN sql.matches m ON t.api_id = m.home_team_api_id\n",
    "GROUP BY t.long_name, m.season\n",
    "HAVING SUM(m.home_team_goals) < 10\n",
    "ORDER BY 1, 2"
   ]
  },
  {
   "cell_type": "markdown",
   "metadata": {},
   "source": [
    "### Охуенно, но..\n",
    "\n",
    "Все примеры вопросов на собеседоании /взяты из книги [Нолис Ж., Робинсон Э. Data Science для карьериста. СПб.: Питер, 2021.](https://www.litres.ru/zhaklin-nolis/data-science-dlya-karerista/)\n",
    "\n",
    "#### Вопрос 1 Объясните разницу между левым (LEFT) и внутренним (INNER) соединениями.\n",
    "\n",
    "**Соединения** — это способы объединения данных из двух разных таблиц (левой и правой) в новую.\n",
    "\n",
    "Принцип работы соединений заключается в объединении строк между двумя таблицами; набор ключевых столбцов используется для поиска данных в двух одинаковых таблицах, которые необходимо соединить.\n",
    "\n",
    "В случае левого соединения каждая строка из левой таблицы появляется в полученной таблице, но строки из правой появляются, только если значения в их ключевых столбцах отображаются в левой. При внутреннем соединении обе строки из левой и правой таблиц появляются, только если есть совпадающая строка в другой таблице.\n",
    "\n",
    "На практике вы можете воспринимать левое соединение как добавление данных из правой таблицы к левой, если она существует (например, с использованием правой таблицы в качестве подстановочной). Внутреннее соединение больше похоже на поиск всех общих данных и создание новой таблицы только из пар.\n",
    "\n",
    "Обратите внимание, что в нашем варианте ответа мы не упоминали какие‐либо сложности, связанные с появлением повторяющихся строк в данных. Возможно, о них стоит упомянуть, потому что повторяющиеся строки могут повлиять на результат, но с большей долей вероятности эта информация может увести вас от мысли, которую вы пытаетесь донести до интервьюера.\n",
    "\n",
    "#### Вопрос 2 Перед вами школьная таблица TABLE_A с оценками от 0 до 100, выставленными ученикам нескольких классов. \n",
    "\n",
    "<img src=sql_3_img6.png>\n",
    "\n"
   ]
  },
  {
   "cell_type": "code",
   "execution_count": null,
   "metadata": {
    "vscode": {
     "languageId": "sql"
    }
   },
   "outputs": [],
   "source": [
    "SELECT \n",
    "  CLASS, \n",
    "  MAX(GRADE) INTO TABLE_B /* записать новую таблицу как TABLE_B */\n",
    "FROM \n",
    "  TABLE_A \n",
    "GROUP BY \n",
    "  CLASS"
   ]
  },
  {
   "cell_type": "markdown",
   "metadata": {},
   "source": [
    "У соискателей этот вопрос обычно вызывает трудности. Одна из причин — непонимание, что именно нужно группировать (в данном случае переменную класса). Другая — в том, что вопрос кажется настолько простым, что соискатели начинают слишком усложнять ответ и упускают простое решение.\n",
    "\n",
    "Если вы услышали вопрос, который кажется вам слишком лёгким, вполне возможно, что таким он и является.\n",
    "\n",
    "К слову, строка `INTO TABLE_B` была совершенно необязательной, но она хорошо подготовит вас к следующему вопросу.\n",
    "\n",
    "#### Вопрос 3 Рассмотрим таблицу из предыдущего вопроса.\n",
    "\n",
    "<img src=sql_3_img6.png>\n",
    "\n",
    "Как найти не только самую высокую оценку в каждом классе и учащегося, получившего её?\n"
   ]
  },
  {
   "cell_type": "code",
   "execution_count": null,
   "metadata": {
    "vscode": {
     "languageId": "sql"
    }
   },
   "outputs": [],
   "source": [
    "SELECT \n",
    "  a.CLASS, \n",
    "  a.GRADE, \n",
    "  a.STUDENT \n",
    "FROM \n",
    "  TABLE_A a \n",
    "  INNER JOIN TABLE_B b ON a.CLASS = b.CLASS \n",
    "  AND a.GRADE = b.GRADE"
   ]
  },
  {
   "cell_type": "markdown",
   "metadata": {},
   "source": [
    "Этот запрос выбирает всех учащихся и их оценки из исходной таблицы `TABLE_A`, где указаны классы и оценки, которые отображаются в таблице максимальных значений `TABLE_B`. Внутреннее соединение работает как фильтр, сохраняя только максимальные комбинации классов/оценок, потому что только в этом случае оценка появляется в таблице `TABLE_B`.\n",
    "\n",
    "В качестве альтернативы можно было бы использовать **подзапрос**, чтобы сделать то же самое, не вызывая таблицу `TABLE_B`:"
   ]
  },
  {
   "cell_type": "code",
   "execution_count": null,
   "metadata": {
    "vscode": {
     "languageId": "sql"
    }
   },
   "outputs": [],
   "source": [
    "SELECT \n",
    "  a.CLASS, \n",
    "  a.GRADE, \n",
    "  a.STUDENT \n",
    "FROM \n",
    "  TABLE_A a \n",
    "  INNER JOIN (\n",
    "    SELECT \n",
    "      CLASS, \n",
    "      MAX(GRADE) \n",
    "    FROM \n",
    "      TABLE_A \n",
    "    GROUP BY \n",
    "      CLASS\n",
    "  ) b ON a.CLASS = b.CLASS \n",
    "  AND a.GRADE = b.GRADE"
   ]
  },
  {
   "cell_type": "markdown",
   "metadata": {},
   "source": [
    "Как видите, эту задачу можно решить несколькими способами, но любое решение почти наверняка требует более одного запроса из таблицы `TABLE_A`, поэтому этот вопрос может легко поставить в тупик. На бумаге решение может показаться лёгким, но додуматься до него во время интервью может быть непросто. Даже если вы ответили неправильно, это не значит, что вы провалились.\n",
    "\n",
    "Решение не даёт каких‐либо специфичных случаев для привязки к максимальному значению. В примере будут возвращены строки для нескольких студентов. Возможно, стоит указать на этот факт интервьюеру, потому что так вы показываете, что обращаете внимание на пограничные случаи."
   ]
  }
 ],
 "metadata": {
  "kernelspec": {
   "display_name": "Python 3.9.12 ('base')",
   "language": "python",
   "name": "python3"
  },
  "language_info": {
   "name": "python",
   "version": "3.9.12"
  },
  "orig_nbformat": 4,
  "vscode": {
   "interpreter": {
    "hash": "c3380a37b4678e1f5e651331348d62bc6038aef0d5f414da260f404a34792558"
   }
  }
 },
 "nbformat": 4,
 "nbformat_minor": 2
}
