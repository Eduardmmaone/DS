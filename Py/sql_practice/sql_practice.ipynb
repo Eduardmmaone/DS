{
 "cells": [
  {
   "cell_type": "code",
   "execution_count": null,
   "metadata": {},
   "outputs": [],
   "source": []
  },
  {
   "cell_type": "markdown",
   "metadata": {},
   "source": [
    "## Практика по SQL\n",
    "\n",
    "### Знакомство с данными\n",
    "\n",
    "Мы будем работать с набором данных «Книги». Он включает две таблицы, хранящиеся в схеме other, — `other.books` и `other.book_orders`.\n",
    "\n",
    "<img src=sql_img1.png>"
   ]
  },
  {
   "cell_type": "markdown",
   "metadata": {},
   "source": [
    "### Задачи\n",
    "\n",
    "`Задание 09-1`\n",
    "\n",
    "Составьте список книжных новинок. Новинками считаются все книги за последние пять лет.\n",
    "\n",
    "Необходимые данные:\n",
    "\n",
    "* название книги;\n",
    "* год издания;\n",
    "* автор;\n",
    "* жанр.\n",
    "\n",
    "Вывод отсортируйте по названиям книг."
   ]
  },
  {
   "cell_type": "code",
   "execution_count": null,
   "metadata": {
    "vscode": {
     "languageId": "sql"
    }
   },
   "outputs": [],
   "source": [
    "select\n",
    "    book_name,\n",
    "    publishing_year,\n",
    "    author,\n",
    "    genre\n",
    "from \n",
    "    other.books\n",
    "where \n",
    "    publishing_year > 2015\n",
    "order by 1"
   ]
  },
  {
   "cell_type": "markdown",
   "metadata": {},
   "source": [
    "`Задание 09-2`\n",
    "\n",
    "Посмотрим на полученные данные.\n",
    "\n",
    "Что-то подозрительно много книг — для рекламного буклета это явно перебор. Что будем делать? Потихоньку избавляться от лишнего.\n",
    "\n",
    "Скажем, там есть книги без названия? Давайте их исключим из списка."
   ]
  },
  {
   "cell_type": "code",
   "execution_count": null,
   "metadata": {
    "vscode": {
     "languageId": "sql"
    }
   },
   "outputs": [],
   "source": [
    "select\n",
    "    book_name,\n",
    "    publishing_year,\n",
    "    author,\n",
    "    genre\n",
    "from \n",
    "    other.books\n",
    "where \n",
    "    publishing_year > 2015\n",
    "and book_name is not null\n",
    "order by 1"
   ]
  },
  {
   "cell_type": "markdown",
   "metadata": {},
   "source": [
    "`Задание 09-3`\n",
    "\n",
    "Теперь нам надо как-то урезать количество оставшихся книг.\n",
    "\n",
    "Может, по рейтингу автора? Неплохо, только мы не знаем, какие категории авторов у нас есть. Давайте выясним это.\n",
    "\n",
    "Выберите значения рейтинга авторов, имеющиеся в нашей базе. Отсортируйте вывод по алфавиту."
   ]
  },
  {
   "cell_type": "code",
   "execution_count": null,
   "metadata": {
    "vscode": {
     "languageId": "sql"
    }
   },
   "outputs": [],
   "source": [
    "select\n",
    "    book_name,\n",
    "    publishing_year,\n",
    "    author,\n",
    "    genre\n",
    "from \n",
    "    other.books\n",
    "where \n",
    "    publishing_year > 2015\n",
    "and book_name is not null\n",
    "order by 1, 5"
   ]
  },
  {
   "cell_type": "markdown",
   "metadata": {},
   "source": [
    "`Задание 09-4`\n",
    "\n",
    "Возьмём для рекламного буклета только книги отличных авторов!\n",
    "\n",
    "Оставьте в выборке новых книг только авторов с рейтингом `'Excellent'`."
   ]
  },
  {
   "cell_type": "code",
   "execution_count": null,
   "metadata": {
    "vscode": {
     "languageId": "sql"
    }
   },
   "outputs": [],
   "source": [
    "select\n",
    "    book_name,\n",
    "    publishing_year,\n",
    "    author,\n",
    "    genre\n",
    "from \n",
    "    other.books\n",
    "where \n",
    "    publishing_year > 2015\n",
    "and book_name is not null\n",
    "and author_rating = 'Excellent'\n",
    "order by 1"
   ]
  },
  {
   "cell_type": "markdown",
   "metadata": {},
   "source": [
    "`Задание 09-5`\n",
    "\n",
    "Добавьте в имеющуюся выборку известных авторов (со значением рейтинга `'Famous'`)."
   ]
  },
  {
   "cell_type": "code",
   "execution_count": null,
   "metadata": {
    "vscode": {
     "languageId": "sql"
    }
   },
   "outputs": [],
   "source": [
    "select\n",
    "    book_name,\n",
    "    publishing_year,\n",
    "    author,\n",
    "    genre\n",
    "from \n",
    "    other.books\n",
    "where \n",
    "    publishing_year > 2015\n",
    "and book_name is not null\n",
    "and (author_rating = 'Excellent' or author_rating = 'Famous')\n",
    "order by 1"
   ]
  },
  {
   "cell_type": "markdown",
   "metadata": {},
   "source": [
    "`Задание 09-6`\n",
    "\n",
    "Определите, сколько книг из выборки для рекламы попадает в каждую категорию рейтинга автора.\n",
    "\n",
    "Нам понадобятся следующие данные:\n",
    "\n",
    "* рейтинг автора (`author_rating`);\n",
    "* количество книг (`cnt`).\n",
    "\n",
    "Сортировка, как всегда, по алфавиту."
   ]
  },
  {
   "cell_type": "code",
   "execution_count": null,
   "metadata": {
    "vscode": {
     "languageId": "sql"
    }
   },
   "outputs": [],
   "source": [
    "select\n",
    "    --book_name,\n",
    "    --publishing_year,\n",
    "    --author,\n",
    "    --genre\n",
    "    author_rating,\n",
    "    count(author_rating) as cnt \n",
    "from \n",
    "    other.books\n",
    "where \n",
    "    publishing_year > 2015\n",
    "and book_name is not null\n",
    "--and (author_rating = 'Excellent' or author_rating = 'Famous')\n",
    "group by 1\n",
    "order by 1"
   ]
  },
  {
   "cell_type": "markdown",
   "metadata": {},
   "source": [
    "`Задача 09-7`\n",
    "\n",
    "Выбираем книги с рейтингом автора отличный (`Excellent`), известный (`Famous`) и новый (`Novice`). И в конце добавим строку об общем количестве книг.\n",
    "\n",
    "В выборке нас по-прежнему интересуют\n",
    "\n",
    "* название книги,\n",
    "* год издания,\n",
    "* автор,\n",
    "* жанр.\n",
    "\n",
    "В итоге у вас должна получиться выборка следующего вида:\n",
    "\n",
    "<img src=sql_img2.png>"
   ]
  },
  {
   "cell_type": "code",
   "execution_count": null,
   "metadata": {
    "vscode": {
     "languageId": "sql"
    }
   },
   "outputs": [],
   "source": [
    "(select\n",
    "    book_name,\n",
    "    publishing_year,\n",
    "    author,\n",
    "    genre\n",
    "from \n",
    "    other.books\n",
    "where \n",
    "    publishing_year > 2015\n",
    "and book_name is not null\n",
    "and (author_rating = 'Excellent' or author_rating = 'Famous' or author_rating = 'Novice')\n",
    "order by 1)\n",
    "union all\n",
    "(select\n",
    "    'Total',\n",
    "    count(*),\n",
    "    null,\n",
    "    null\n",
    "from \n",
    "    other.books\n",
    "where \n",
    "    publishing_year > 2015\n",
    "and book_name is not null\n",
    "and (author_rating = 'Excellent' or author_rating = 'Famous' or author_rating = 'Novice')\n",
    ")"
   ]
  },
  {
   "cell_type": "markdown",
   "metadata": {},
   "source": [
    "`Задание 09-8`\n",
    "\n",
    "Для начала выберите всю информацию о заказах книг, выпущенных не более 10 лет назад. Отсортируйте заказы по дате в обратном порядке."
   ]
  },
  {
   "cell_type": "code",
   "execution_count": null,
   "metadata": {
    "vscode": {
     "languageId": "sql"
    }
   },
   "outputs": [],
   "source": [
    "select * \n",
    "from other.book_orders o \n",
    "join other.books b on b.book_id=o.book_id \n",
    "where b.publishing_year > 2010\n",
    "order by o.order_date DESC"
   ]
  },
  {
   "cell_type": "markdown",
   "metadata": {},
   "source": [
    "`Задание 09-9`\n",
    "\n",
    "Теперь оставим в выборке только заказы от 2019 года и позднее."
   ]
  },
  {
   "cell_type": "code",
   "execution_count": null,
   "metadata": {
    "vscode": {
     "languageId": "sql"
    }
   },
   "outputs": [],
   "source": [
    "select * \n",
    "from other.book_orders o \n",
    "join other.books b on b.book_id=o.book_id \n",
    "where b.publishing_year > 2010\n",
    "and extract(YEAR FROM o.order_date)>=2019\n",
    "order by o.order_date DESC"
   ]
  },
  {
   "cell_type": "markdown",
   "metadata": {},
   "source": [
    "`Задание 09-10`\n",
    "\n",
    "Чтобы понять, заказы за какой период у нас есть, определите дату последнего заказа."
   ]
  },
  {
   "cell_type": "code",
   "execution_count": null,
   "metadata": {
    "vscode": {
     "languageId": "sql"
    }
   },
   "outputs": [],
   "source": [
    "select\n",
    "    order_date\n",
    "from other.book_orders\n",
    "order by 1 desc\n",
    "limit 1"
   ]
  },
  {
   "cell_type": "markdown",
   "metadata": {},
   "source": [
    "`Задание 09-11`\n",
    "\n",
    "Посчитайте общее количество заказов за каждый месяц (`month`). Отсортируйте вывод по месяцам в обратном порядке."
   ]
  },
  {
   "cell_type": "code",
   "execution_count": null,
   "metadata": {
    "vscode": {
     "languageId": "sql"
    }
   },
   "outputs": [],
   "source": [
    "select \n",
    "    extract(month from order_date),\n",
    "    count(extract(month from order_date))\n",
    "from other.book_orders o \n",
    "join other.books b on b.book_id=o.book_id \n",
    "where b.publishing_year > 2010\n",
    "and extract(YEAR FROM o.order_date)>=2019\n",
    "group by 1\n",
    "order by 1 desc"
   ]
  },
  {
   "cell_type": "markdown",
   "metadata": {},
   "source": [
    "`Задание 09-12`\n",
    "\n",
    "Добавьте в предыдущий запрос подсчёт количества разных книг (`cnt_dist`), заказанных в каждом месяце."
   ]
  },
  {
   "cell_type": "code",
   "execution_count": null,
   "metadata": {
    "vscode": {
     "languageId": "sql"
    }
   },
   "outputs": [],
   "source": [
    "select \n",
    "    extract(month from order_date),\n",
    "    count(extract(month from order_date)),\n",
    "    count(distinct(b.book_id)) as cnt_dist\n",
    "from other.book_orders o \n",
    "join other.books b on b.book_id=o.book_id \n",
    "where b.publishing_year > 2010\n",
    "and extract(YEAR FROM o.order_date)>=2019\n",
    "group by 1\n",
    "order by 1 desc"
   ]
  },
  {
   "cell_type": "markdown",
   "metadata": {},
   "source": [
    "`Задание 09-13`\n",
    "\n",
    "На основе предыдущего запроса создайте новый, чтобы вычислить, сколько раз заказывали каждую книгу в этом месяце.\n",
    "\n",
    "Столбцы к выводу — `order_month`, `book_name`, `cnt`."
   ]
  },
  {
   "cell_type": "code",
   "execution_count": null,
   "metadata": {
    "vscode": {
     "languageId": "sql"
    }
   },
   "outputs": [],
   "source": [
    "select \n",
    "    extract(month from order_date) as order_month,\n",
    "    b.book_name as book_name,\n",
    "    count(b.book_id) as cnt    \n",
    "from other.book_orders o \n",
    "join other.books b on b.book_id=o.book_id \n",
    "where b.publishing_year > 2010\n",
    "and extract(YEAR FROM o.order_date)>=2019\n",
    "group by 1, 2\n",
    "order by 1 desc"
   ]
  },
  {
   "cell_type": "markdown",
   "metadata": {},
   "source": [
    "`Задание 09-14`\n",
    "\n",
    "Выберите топ-5 книг по заказам в каждом месяце.\n",
    "\n",
    "Столбцы к выводу — `order_month`, `book_name`, `cnt`, `rnk`.\n",
    "\n",
    "Отсортируйте вывод по месяцу в обратном порядке и по рангу."
   ]
  },
  {
   "cell_type": "code",
   "execution_count": null,
   "metadata": {
    "vscode": {
     "languageId": "sql"
    }
   },
   "outputs": [],
   "source": [
    "select \n",
    "    extract(month from order_date) as order_month,\n",
    "    b.book_name as book_name,\n",
    "    count(b.book_id) as cnt,\n",
    "    rank() (over partition by b.book_name order by b.book_id desc)    \n",
    "from other.book_orders o \n",
    "join other.books b on b.book_id=o.book_id \n",
    "where b.publishing_year > 2010\n",
    "and extract(YEAR FROM o.order_date)>=2019\n",
    "and extract(month from order_date) = 1\n",
    "group by 1, 2\n",
    "order by 1, 3 desc\n",
    "limit 5"
   ]
  }
 ],
 "metadata": {
  "kernelspec": {
   "display_name": "Python 3.9.12 ('base')",
   "language": "python",
   "name": "python3"
  },
  "language_info": {
   "name": "python",
   "version": "3.9.12"
  },
  "orig_nbformat": 4,
  "vscode": {
   "interpreter": {
    "hash": "c3380a37b4678e1f5e651331348d62bc6038aef0d5f414da260f404a34792558"
   }
  }
 },
 "nbformat": 4,
 "nbformat_minor": 2
}
