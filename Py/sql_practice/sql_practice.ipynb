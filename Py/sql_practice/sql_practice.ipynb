{
 "cells": [
  {
   "cell_type": "code",
   "execution_count": null,
   "metadata": {},
   "outputs": [],
   "source": []
  },
  {
   "cell_type": "markdown",
   "metadata": {},
   "source": [
    "## Практика по SQL\n",
    "\n",
    "### Знакомство с данными\n",
    "\n",
    "Мы будем работать с набором данных «Книги». Он включает две таблицы, хранящиеся в схеме other, — `other.books` и `other.book_orders`.\n",
    "\n",
    "<img src=sql_img1.png>"
   ]
  },
  {
   "cell_type": "markdown",
   "metadata": {},
   "source": [
    "### Задачи\n",
    "\n",
    "`Задание 09-1`\n",
    "\n",
    "Составьте список книжных новинок. Новинками считаются все книги за последние пять лет.\n",
    "\n",
    "Необходимые данные:\n",
    "\n",
    "* название книги;\n",
    "* год издания;\n",
    "* автор;\n",
    "* жанр.\n",
    "\n",
    "Вывод отсортируйте по названиям книг."
   ]
  },
  {
   "cell_type": "code",
   "execution_count": null,
   "metadata": {
    "vscode": {
     "languageId": "sql"
    }
   },
   "outputs": [],
   "source": [
    "select\n",
    "    book_name,\n",
    "    publishing_year,\n",
    "    author,\n",
    "    genre\n",
    "from \n",
    "    other.books\n",
    "where \n",
    "    publishing_year > 2015\n",
    "order by 1"
   ]
  },
  {
   "cell_type": "markdown",
   "metadata": {},
   "source": [
    "Посмотрим на полученные данные.\n",
    "\n",
    "Что-то подозрительно много книг — для рекламного буклета это явно перебор. Что будем делать? Потихоньку избавляться от лишнего.\n",
    "\n",
    "Скажем, там есть книги без названия? Давайте их исключим из списка."
   ]
  },
  {
   "cell_type": "code",
   "execution_count": null,
   "metadata": {
    "vscode": {
     "languageId": "sql"
    }
   },
   "outputs": [],
   "source": [
    "select\n",
    "    book_name,\n",
    "    publishing_year,\n",
    "    author,\n",
    "    genre\n",
    "from \n",
    "    other.books\n",
    "where \n",
    "    publishing_year > 2015\n",
    "and book_name is not null\n",
    "order by 1"
   ]
  },
  {
   "cell_type": "markdown",
   "metadata": {},
   "source": [
    "Теперь нам надо как-то урезать количество оставшихся книг.\n",
    "\n",
    "Может, по рейтингу автора? Неплохо, только мы не знаем, какие категории авторов у нас есть. Давайте выясним это.\n",
    "\n",
    "Выберите значения рейтинга авторов, имеющиеся в нашей базе. Отсортируйте вывод по алфавиту."
   ]
  },
  {
   "cell_type": "code",
   "execution_count": null,
   "metadata": {
    "vscode": {
     "languageId": "sql"
    }
   },
   "outputs": [],
   "source": [
    "select\n",
    "    book_name,\n",
    "    publishing_year,\n",
    "    author,\n",
    "    genre,\n",
    "    author_rating\n",
    "from \n",
    "    other.books\n",
    "where \n",
    "    publishing_year > 2015\n",
    "and book_name is not null\n",
    "order by 1, 5"
   ]
  },
  {
   "cell_type": "markdown",
   "metadata": {},
   "source": [
    "Возьмём для рекламного буклета только книги отличных авторов!\n",
    "\n",
    "Оставьте в выборке новых книг только авторов с рейтингом `'Excellent'`."
   ]
  },
  {
   "cell_type": "code",
   "execution_count": null,
   "metadata": {
    "vscode": {
     "languageId": "sql"
    }
   },
   "outputs": [],
   "source": [
    "select\n",
    "    book_name,\n",
    "    publishing_year,\n",
    "    author,\n",
    "    genre,\n",
    "    author_rating\n",
    "from \n",
    "    other.books\n",
    "where \n",
    "    publishing_year > 2015\n",
    "and book_name is not null\n",
    "and (author_rating = 'Excellent' or author_rating = 'Famous')\n",
    "order by 1"
   ]
  }
 ],
 "metadata": {
  "language_info": {
   "name": "python"
  },
  "orig_nbformat": 4
 },
 "nbformat": 4,
 "nbformat_minor": 2
}
