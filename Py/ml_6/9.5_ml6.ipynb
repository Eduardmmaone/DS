{
 "cells": [
  {
   "attachments": {},
   "cell_type": "markdown",
   "metadata": {},
   "source": [
    "# Задание 9.5 модуля ML-6\n",
    "\n",
    ">Обучите модель линейной регрессии на найденных двумя способами трёх важных признаках и сравните полученные результаты. Загрузите полученный ноутбук (в формате IPYNB) в форму ниже."
   ]
  },
  {
   "cell_type": "code",
   "execution_count": 36,
   "metadata": {},
   "outputs": [],
   "source": [
    "import pandas as pd\n",
    "\n",
    "from sklearn.model_selection import train_test_split\n",
    "from sklearn.linear_model import LinearRegression\n",
    "from sklearn.metrics import mean_absolute_error\n",
    "from sklearn.feature_selection import RFE\n",
    "from sklearn.feature_selection import SelectKBest, f_regression, f_classif, mutual_info_classif, mutual_info_regression, chi2"
   ]
  },
  {
   "cell_type": "code",
   "execution_count": 37,
   "metadata": {},
   "outputs": [
    {
     "name": "stderr",
     "output_type": "stream",
     "text": [
      "UsageError: Line magic function `%%capture` not found.\n"
     ]
    }
   ],
   "source": [
    "# загрузим данные\n",
    "%%capture\n",
    "!wget https://www.dropbox.com/s/64ol9q9ssggz6f1/data_ford_price.xlsx"
   ]
  },
  {
   "cell_type": "code",
   "execution_count": 38,
   "metadata": {},
   "outputs": [],
   "source": [
    "# прочтём данные\n",
    "data = pd.read_excel('data_ford_price.xlsx') \n",
    "# удалим пропуски\n",
    "data.dropna(inplace = True)\n",
    "# определим object'овые признаки\n",
    "columns_to_drop = data.columns[data.dtypes == 'object']\n",
    "# дропнем эти признаки\n",
    "data = data.drop(columns_to_drop,axis=1)\n",
    "# разобъем сет на тренировочный и тестовый\n",
    "y = data['price']\n",
    "x = data.drop(columns='price')\n",
    "X_train, X_test, y_train, y_test = train_test_split(x, y, test_size=0.3, random_state=42)"
   ]
  },
  {
   "cell_type": "code",
   "execution_count": 39,
   "metadata": {},
   "outputs": [
    {
     "data": {
      "text/plain": [
       "array(['year', 'condition', 'cylinders'], dtype=object)"
      ]
     },
     "execution_count": 39,
     "metadata": {},
     "output_type": "execute_result"
    }
   ],
   "source": [
    "# отберём признаки методом RFE\n",
    "estimator = LinearRegression()\n",
    "selector = RFE(estimator, n_features_to_select=3, step=1)\n",
    "selector = selector.fit(X_train, y_train)\n",
    " \n",
    "rfe_selection = selector.get_feature_names_out()\n",
    "rfe_selection"
   ]
  },
  {
   "cell_type": "code",
   "execution_count": 40,
   "metadata": {},
   "outputs": [
    {
     "data": {
      "text/plain": [
       "array(['year', 'condition', 'odometer'], dtype=object)"
      ]
     },
     "execution_count": 40,
     "metadata": {},
     "output_type": "execute_result"
    }
   ],
   "source": [
    "# отберём признаки методом SelectKBest\n",
    "selector = SelectKBest(f_regression, k=3)\n",
    "selector.fit(X_train, y_train)\n",
    " \n",
    "kbest_selection = selector.get_feature_names_out()\n",
    "kbest_selection"
   ]
  },
  {
   "cell_type": "code",
   "execution_count": 41,
   "metadata": {},
   "outputs": [
    {
     "name": "stdout",
     "output_type": "stream",
     "text": [
      "MAE_rfe: 5103.938\n",
      "MAE_kbest: 4682.026\n"
     ]
    }
   ],
   "source": [
    "# обучим регрессию на отобранных признаках\n",
    "model_rfe = LinearRegression()\n",
    "model_kbest = LinearRegression()\n",
    "model_rfe.fit(X_train[rfe_selection], y_train)\n",
    "model_kbest.fit(X_train[kbest_selection], y_train)\n",
    "y_predicted_rfe = model_rfe.predict(X_test[rfe_selection])\n",
    "y_predicted_kbest = model_kbest.predict(X_test[kbest_selection])\n",
    "mae_rfe = mean_absolute_error(y_test, y_predicted_rfe)\n",
    "mae_kbest = mean_absolute_error(y_test, y_predicted_kbest)\n",
    "print('MAE_rfe: %.3f' % mae_rfe)\n",
    "print('MAE_kbest: %.3f' % mae_kbest)"
   ]
  },
  {
   "attachments": {},
   "cell_type": "markdown",
   "metadata": {},
   "source": [
    "## На основе полученных метрик можно сделать вывод, что для тестовой выборки лучший показатель даёт метод отбора `SelectKBest`"
   ]
  }
 ],
 "metadata": {
  "kernelspec": {
   "display_name": "Python 3.10.6 64-bit",
   "language": "python",
   "name": "python3"
  },
  "language_info": {
   "codemirror_mode": {
    "name": "ipython",
    "version": 3
   },
   "file_extension": ".py",
   "mimetype": "text/x-python",
   "name": "python",
   "nbconvert_exporter": "python",
   "pygments_lexer": "ipython3",
   "version": "3.10.6"
  },
  "orig_nbformat": 4,
  "vscode": {
   "interpreter": {
    "hash": "916dbcbb3f70747c44a77c7bcd40155683ae19c65e1c03b4aa3499c5328201f1"
   }
  }
 },
 "nbformat": 4,
 "nbformat_minor": 2
}
