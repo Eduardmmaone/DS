{
 "cells": [
  {
   "cell_type": "code",
   "execution_count": 1,
   "metadata": {},
   "outputs": [
    {
     "name": "stdout",
     "output_type": "stream",
     "text": [
      "[4, 16]\n"
     ]
    }
   ],
   "source": [
    "lst = [1, 2, 3, 4, 5]\n",
    "new_lst = [i * i for i in lst if i % 2 == 0]\n",
    "print(new_lst)\n",
    "\n",
    "# a) [1, 4, 9, 16, 25]\n",
    "# b) [4, 16]\n",
    "# c) [2, 4, 6, 8, 10]\n",
    "# d) None of the above\n"
   ]
  },
  {
   "cell_type": "code",
   "execution_count": 3,
   "metadata": {},
   "outputs": [
    {
     "name": "stdout",
     "output_type": "stream",
     "text": [
      "1\n",
      "2\n"
     ]
    }
   ],
   "source": [
    "lst = [1, 2, 3, 4, 5]\n",
    "for i in lst:\n",
    "    if i ==3:\n",
    "        break\n",
    "    print(i)\n",
    "else:\n",
    "    print('End')    \n",
    "\n",
    "# a) 1  2\n",
    "# b) 1  2  End\n",
    "# c) Error\n",
    "# d) None of the above"
   ]
  },
  {
   "cell_type": "code",
   "execution_count": 4,
   "metadata": {},
   "outputs": [
    {
     "name": "stdout",
     "output_type": "stream",
     "text": [
      "[1, 2, 3, 4]\n"
     ]
    }
   ],
   "source": [
    "x = [1, 2, 3]\n",
    "y = x\n",
    "x.append(4)\n",
    "print(y)\n",
    "\n",
    "# a) [1, 2, 3]\n",
    "# b) [1, 2, 3, 4]\n",
    "# c) Error\n",
    "# d) None of the above"
   ]
  },
  {
   "cell_type": "code",
   "execution_count": 8,
   "metadata": {},
   "outputs": [
    {
     "name": "stdout",
     "output_type": "stream",
     "text": [
      "0\n",
      "0\n",
      "0\n",
      "0\n",
      "1\n",
      "2\n",
      "0\n",
      "2\n",
      "4\n"
     ]
    }
   ],
   "source": [
    "for i in range(3):\n",
    "    for j in range(3):\n",
    "        print(i * j)\n",
    "\n",
    "# a) 0 0 0 1 2 3 0 2 4 \n",
    "# b) 0 1 2 3 4 5 6 7 8\n",
    "# c) 1 2 3 2 4 6 3 6 9\n",
    "# d) None of the above"
   ]
  },
  {
   "cell_type": "code",
   "execution_count": 10,
   "metadata": {},
   "outputs": [
    {
     "ename": "TypeError",
     "evalue": "function() takes 2 positional arguments but 3 were given",
     "output_type": "error",
     "traceback": [
      "\u001b[1;31m---------------------------------------------------------------------------\u001b[0m",
      "\u001b[1;31mTypeError\u001b[0m                                 Traceback (most recent call last)",
      "\u001b[1;32mc:\\Личные документы\\Python\\Py\\useful_things\\quiz.ipynb Cell 5\u001b[0m in \u001b[0;36m<cell line: 4>\u001b[1;34m()\u001b[0m\n\u001b[0;32m      <a href='vscode-notebook-cell:/c%3A/%D0%9B%D0%B8%D1%87%D0%BD%D1%8B%D0%B5%20%D0%B4%D0%BE%D0%BA%D1%83%D0%BC%D0%B5%D0%BD%D1%82%D1%8B/Python/Py/useful_things/quiz.ipynb#W4sZmlsZQ%3D%3D?line=0'>1</a>\u001b[0m \u001b[39mdef\u001b[39;00m \u001b[39mfunction\u001b[39m(a, b):\n\u001b[0;32m      <a href='vscode-notebook-cell:/c%3A/%D0%9B%D0%B8%D1%87%D0%BD%D1%8B%D0%B5%20%D0%B4%D0%BE%D0%BA%D1%83%D0%BC%D0%B5%D0%BD%D1%82%D1%8B/Python/Py/useful_things/quiz.ipynb#W4sZmlsZQ%3D%3D?line=1'>2</a>\u001b[0m     \u001b[39mreturn\u001b[39;00m a \u001b[39m+\u001b[39m b\n\u001b[1;32m----> <a href='vscode-notebook-cell:/c%3A/%D0%9B%D0%B8%D1%87%D0%BD%D1%8B%D0%B5%20%D0%B4%D0%BE%D0%BA%D1%83%D0%BC%D0%B5%D0%BD%D1%82%D1%8B/Python/Py/useful_things/quiz.ipynb#W4sZmlsZQ%3D%3D?line=3'>4</a>\u001b[0m \u001b[39mprint\u001b[39m(function(\u001b[39m2\u001b[39;49m, \u001b[39m3\u001b[39;49m, \u001b[39m4\u001b[39;49m))\n",
      "\u001b[1;31mTypeError\u001b[0m: function() takes 2 positional arguments but 3 were given"
     ]
    }
   ],
   "source": [
    "def function(a, b):\n",
    "    return a + b\n",
    "\n",
    "print(function(2, 3, 4))\n",
    "\n",
    "# a) 5\n",
    "# b) 9\n",
    "# c) Error\n",
    "# d) None of the above"
   ]
  },
  {
   "cell_type": "code",
   "execution_count": 12,
   "metadata": {},
   "outputs": [
    {
     "name": "stdout",
     "output_type": "stream",
     "text": [
      "1 3 (4, 5) {'c': 6, 'd': 7}\n"
     ]
    }
   ],
   "source": [
    "def function(a, b=2, *arg, **kwarg):\n",
    "    print(a, b, arg, kwarg)\n",
    "    \n",
    "function(1, 3, 4, 5, c=6, d=7)\n",
    "\n",
    "# a) 1 3 (4, 5) {'c': 6, 'd': 7}\n",
    "# b) 1 3 (4, 5) {'c': 6}\n",
    "# c) 1 2 3 (3, 4, 5), {'c': 6, 'd': 7}\n",
    "# d) None of the above"
   ]
  },
  {
   "cell_type": "code",
   "execution_count": 13,
   "metadata": {},
   "outputs": [
    {
     "name": "stdout",
     "output_type": "stream",
     "text": [
      "1 one\n",
      "2 two\n",
      "3 three\n"
     ]
    }
   ],
   "source": [
    "a = {1: 'one', 2: 'two', 3: 'three'}\n",
    "for key in a:\n",
    "    print(key, a[key])\n",
    "\n",
    "# a) 1 one, 2 two, 3 three\n",
    "# b) (1, 'one'), (2, 'two'), (3, 'three')\n",
    "# c) {1: 'one', 2: 'two', 3: 'three'}\n",
    "# d) Error"
   ]
  },
  {
   "cell_type": "code",
   "execution_count": 14,
   "metadata": {},
   "outputs": [
    {
     "name": "stdout",
     "output_type": "stream",
     "text": [
      "5\n"
     ]
    }
   ],
   "source": [
    "a = 10\n",
    "def func():\n",
    "    global a\n",
    "    a = 5\n",
    "func()\n",
    "print(a)\n",
    "\n",
    "# a) 5\n",
    "# b) 10\n",
    "# c) Error\n",
    "# d) None of the above"
   ]
  },
  {
   "attachments": {},
   "cell_type": "markdown",
   "metadata": {},
   "source": [
    "\n",
    "```python\n",
    "\n",
    "def productFib(prod):\n",
    "    f1 = 0\n",
    "    f2 = 1\n",
    "    while f1 * f2 <= prod:\n",
    "        f1, f2 = f2, f1 + f2\n",
    "        if f1 * f2 == prod:\n",
    "            return [f1, f2, True]\n",
    "    else:\n",
    "        return [f1, f2, False]     \n",
    "print(productFib(1))\n",
    "print(productFib(4895))\n",
    "print(productFib(5895))\n",
    "\n",
    "```"
   ]
  },
  {
   "cell_type": "code",
   "execution_count": 34,
   "metadata": {},
   "outputs": [
    {
     "name": "stdout",
     "output_type": "stream",
     "text": [
      "[2, 3, True]\n",
      "[55, 89, True]\n",
      "[89, 144, False]\n"
     ]
    }
   ],
   "source": [
    "def productFib(prod):\n",
    "    f1 = 0\n",
    "    f2 = 1\n",
    "    while f1 * f2 <= prod:\n",
    "        f1, f2 = f2, f1 + f2\n",
    "        if f1 * f2 == prod:\n",
    "            return [f1, f2, True]\n",
    "    else:\n",
    "        return [f1, f2, False]\n",
    "        \n",
    "        \n",
    "print(productFib(6))\n",
    "print(productFib(4895))\n",
    "print(productFib(5895))"
   ]
  },
  {
   "cell_type": "code",
   "execution_count": 39,
   "metadata": {},
   "outputs": [
    {
     "name": "stdout",
     "output_type": "stream",
     "text": [
      "[55, 89, True]\n",
      "[89, 144, False]\n"
     ]
    }
   ],
   "source": [
    "def productFib(prod: int):\n",
    "    def lazy_fib():\n",
    "            f1, f2 = 0, 1\n",
    "            while True:\n",
    "                yield [f1*f2, [f1,f2]]\n",
    "                f1, f2 = f2, f1 + f2\n",
    "\n",
    "    m, nums = next(filter(lambda x: x[0] >= prod, (x for x in lazy_fib())))\n",
    "\n",
    "    return [*nums, m == prod]\n",
    "    \n",
    "\n",
    "print(productFib(4895))\n",
    "print(productFib(5895))\n"
   ]
  },
  {
   "cell_type": "code",
   "execution_count": 42,
   "metadata": {},
   "outputs": [
    {
     "data": {
      "text/plain": [
       "<generator object lazy_fib at 0x000002050B178040>"
      ]
     },
     "execution_count": 42,
     "metadata": {},
     "output_type": "execute_result"
    }
   ],
   "source": [
    "def lazy_fib():\n",
    "    f1, f2 = 0, 1\n",
    "    while True:\n",
    "        yield [f1*f2, [f1,f2]]\n",
    "        f1, f2 = f2, f1 + f2\n",
    "        \n",
    "lazy_fib()"
   ]
  },
  {
   "cell_type": "code",
   "execution_count": 4,
   "metadata": {},
   "outputs": [
    {
     "name": "stdout",
     "output_type": "stream",
     "text": [
      "Hello\n",
      "World\n"
     ]
    }
   ],
   "source": [
    "def my_function():\n",
    "    try:\n",
    "        print('Hello')\n",
    "        return\n",
    "    finally:\n",
    "        print('World')\n",
    "        \n",
    "my_function()"
   ]
  }
 ],
 "metadata": {
  "kernelspec": {
   "display_name": "base",
   "language": "python",
   "name": "python3"
  },
  "language_info": {
   "codemirror_mode": {
    "name": "ipython",
    "version": 3
   },
   "file_extension": ".py",
   "mimetype": "text/x-python",
   "name": "python",
   "nbconvert_exporter": "python",
   "pygments_lexer": "ipython3",
   "version": "3.9.12"
  },
  "orig_nbformat": 4
 },
 "nbformat": 4,
 "nbformat_minor": 2
}
