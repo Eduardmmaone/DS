{
 "cells": [
  {
   "cell_type": "markdown",
   "metadata": {},
   "source": [
    "### Поиск дубликатов"
   ]
  },
  {
   "cell_type": "code",
   "execution_count": 1,
   "metadata": {},
   "outputs": [],
   "source": [
    "def dubl_finder (data):\n",
    "    \"\"\"_Искатель дубликатов_\n",
    "\n",
    "    Args:\n",
    "        data (_pandas.core.frame.DataFrame_): _Датасет_\n",
    "        \n",
    "    Returns:\n",
    "        _int_: _Число найденных дублей_\n",
    "    \"\"\"\n",
    "    dubl_columns = list(data.columns)\n",
    "    mask = data.duplicated(subset=dubl_columns)\n",
    "    data_dublicates = data[mask]\n",
    "    return(f'Число найденных дубликатов: {data_dublicates.shape[0]}')"
   ]
  },
  {
   "cell_type": "markdown",
   "metadata": {},
   "source": [
    "### Поиск пропусков"
   ]
  },
  {
   "cell_type": "code",
   "execution_count": 2,
   "metadata": {},
   "outputs": [],
   "source": [
    "def null_finder (data):\n",
    "    \"\"\"_Искатель пропусков_\n",
    "\n",
    "    Args:\n",
    "        data (_pandas.core.frame.DataFrame_): _Датасет_\n",
    "\n",
    "    Returns:\n",
    "        _pandas.core.series.Series_: _столбцы с null и доля null в процентах_\n",
    "    \"\"\"\n",
    "    cols_null_percent = data.isnull().mean() * 100\n",
    "    cols_with_null = cols_null_percent[cols_null_percent>0].sort_values(ascending=False)\n",
    "    return cols_with_null"
   ]
  },
  {
   "cell_type": "code",
   "execution_count": null,
   "metadata": {},
   "outputs": [],
   "source": [
    "def plots(data, column_name):\n",
    "    \"\"\"\n",
    "    Функция для построения гистограммы и коробчадой диагррамы\n",
    "    для визуализации выбросов\n",
    "\n",
    "    :data: Исходный датафрейм\n",
    "    :column_name: Имя признака для анализа\n",
    "    :return: Выводит график\n",
    "    \"\"\"\n",
    "\n",
    "    fig, axes = plt.subplots(nrows=1, ncols=2, figsize=(12, 4))  # (18, 8)\n",
    "    histplot = sns.histplot(data=data, x=column_name, ax=axes[0]) \n",
    "    boxplot = sns.boxplot(data=data, x=column_name, ax=axes[1]) \n",
    "    histplot.set_title(f'{column_name} Histogram') \n",
    "    boxplot.set_title(f'{column_name} Boxplot') \n",
    "    \n",
    "    plt.tight_layout()\n",
    "    plt.show()"
   ]
  }
 ],
 "metadata": {
  "kernelspec": {
   "display_name": "Python 3.9.12 ('base')",
   "language": "python",
   "name": "python3"
  },
  "language_info": {
   "codemirror_mode": {
    "name": "ipython",
    "version": 3
   },
   "file_extension": ".py",
   "mimetype": "text/x-python",
   "name": "python",
   "nbconvert_exporter": "python",
   "pygments_lexer": "ipython3",
   "version": "3.9.12"
  },
  "orig_nbformat": 4,
  "vscode": {
   "interpreter": {
    "hash": "c3380a37b4678e1f5e651331348d62bc6038aef0d5f414da260f404a34792558"
   }
  }
 },
 "nbformat": 4,
 "nbformat_minor": 2
}
