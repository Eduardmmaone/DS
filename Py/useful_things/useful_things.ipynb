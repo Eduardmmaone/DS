{
 "cells": [
  {
   "cell_type": "markdown",
   "metadata": {},
   "source": [
    "### Поиск дубликатов"
   ]
  },
  {
   "cell_type": "code",
   "execution_count": 1,
   "metadata": {},
   "outputs": [],
   "source": [
    "def dubl_finder (data):\n",
    "    \"\"\"_Искатель дубликатов_\n",
    "\n",
    "    Args:\n",
    "        data (_pandas.core.frame.DataFrame_): _Датасет_\n",
    "        \n",
    "    Returns:\n",
    "        _int_: _Число найденных дублей_\n",
    "    \"\"\"\n",
    "    dubl_columns = list(data.columns)\n",
    "    mask = data.duplicated(subset=dubl_columns)\n",
    "    data_dublicates = data[mask]\n",
    "    return(f'Число найденных дубликатов: {data_dublicates.shape[0]}')"
   ]
  },
  {
   "cell_type": "markdown",
   "metadata": {},
   "source": [
    "### Поиск пропусков"
   ]
  },
  {
   "cell_type": "code",
   "execution_count": 2,
   "metadata": {},
   "outputs": [],
   "source": [
    "def null_finder (data):\n",
    "    \"\"\"_Искатель пропусков_\n",
    "\n",
    "    Args:\n",
    "        data (_pandas.core.frame.DataFrame_): _Датасет_\n",
    "\n",
    "    Returns:\n",
    "        _pandas.core.series.Series_: _столбцы с null и доля null в процентах_\n",
    "    \"\"\"\n",
    "    cols_null_percent = data.isnull().mean() * 100\n",
    "    cols_with_null = cols_null_percent[cols_null_percent>0].sort_values(ascending=False)\n",
    "    return cols_with_null"
   ]
  },
  {
   "cell_type": "code",
   "execution_count": null,
   "metadata": {},
   "outputs": [],
   "source": [
    "def plots(data, column_name):\n",
    "    \"\"\"\n",
    "    Функция для построения гистограммы и коробчадой диагррамы\n",
    "    для визуализации выбросов\n",
    "\n",
    "    :data: Исходный датафрейм\n",
    "    :column_name: Имя признака для анализа\n",
    "    :return: Выводит график\n",
    "    \"\"\"\n",
    "\n",
    "    fig, axes = plt.subplots(nrows=1, ncols=2, figsize=(12, 4))  # (18, 8)\n",
    "    histplot = sns.histplot(data=data, x=column_name, ax=axes[0]) \n",
    "    boxplot = sns.boxplot(data=data, x=column_name, ax=axes[1]) \n",
    "    histplot.set_title(f'{column_name} Histogram') \n",
    "    boxplot.set_title(f'{column_name} Boxplot') \n",
    "    \n",
    "    plt.tight_layout()\n",
    "    plt.show()"
   ]
  },
  {
   "cell_type": "code",
   "execution_count": 1,
   "metadata": {},
   "outputs": [],
   "source": [
    "def corr_bars(data, target):\n",
    "    \"\"\"_Функция для построения графика корреляции признаков_\n",
    "\n",
    "    Args:\n",
    "        data : Исходный датасет\n",
    "        target (_type_): Целевой признак\n",
    "    \"\"\"\n",
    "    import matplotlib.pyplot as plt #для визуализации\n",
    "    import seaborn as sns #для визуализации\n",
    "    %matplotlib inline\n",
    "    plt.style.use('seaborn') #установка стиля matplotlib\n",
    "    corr_with_target = data.corr()[target].abs().sort_values()\n",
    "    corr_with_target = corr_with_target.drop(target)\n",
    "    fig, ax = plt.subplots(figsize=(10, 5))\n",
    "    ax.bar(corr_with_target.index, corr_with_target.values)\n",
    "    ax.set_title('Correlations with target') #название графика\n",
    "    ax.set_xlabel(target) #название оси x\n",
    "    ax.set_ylabel('Сorrelation coefficient'); #название оси y"
   ]
  },
  {
   "cell_type": "code",
   "execution_count": null,
   "metadata": {},
   "outputs": [],
   "source": [
    "def plot_probabilities_2d(X, y, model):\n",
    "    #Генерируем координатную сетку из всех возможных значений для признаков\n",
    "    #Glucose изменяется от 40 до 200, BMI — от 10 до 80\n",
    "    #Результат работы функции — два массива xx1 и xx2, которые образуют координатную сетку\n",
    "    xx1, xx2 = np.meshgrid(\n",
    "        np.arange(40, 200, 0.1),\n",
    "        np.arange(10, 80, 0.1)\n",
    "    )\n",
    "    #Вытягиваем каждый из массивов в вектор-столбец — reshape(-1, 1)\n",
    "    #Объединяем два столбца в таблицу с помощью hstack\n",
    "    X_net = np.hstack([xx1.reshape(-1, 1), xx2.reshape(-1, 1)])\n",
    "    #Предсказываем вероятность для всех точек на координатной сетке\n",
    "    #Нам нужна только вероятность класса 1\n",
    "    probs = model.predict_proba(X_net)[:, 1]\n",
    "    #Переводим столбец из вероятностей в размер координатной сетки\n",
    "    probs = probs.reshape(xx1.shape)\n",
    "    #Создаём фигуру и координатную плоскость\n",
    "    fig, ax = plt.subplots(figsize = (10, 5))\n",
    "    #Рисуем тепловую карту вероятностей\n",
    "    contour = ax.contourf(xx1, xx2, probs, 100, cmap='bwr')\n",
    "    #Рисуем разделяющую плоскость — линию, где вероятность равна 0.5\n",
    "    bound = ax.contour(xx1, xx2, probs, [0.5], linewidths=2, colors='black');\n",
    "    #Добавляем цветовую панель \n",
    "    colorbar = fig.colorbar(contour)\n",
    "    #Накладываем поверх тепловой карты диаграмму рассеяния\n",
    "    sns.scatterplot(data=X, x='Glucose', y='BMI', hue=y, palette='seismic', ax=ax)\n",
    "    #Даём графику название\n",
    "    ax.set_title('Scatter Plot with Decision Boundary');\n",
    "    #Смещаем легенду в верхний левый угол вне графика\n",
    "    ax.legend(bbox_to_anchor=(-0.05, 1))"
   ]
  },
  {
   "cell_type": "code",
   "execution_count": null,
   "metadata": {},
   "outputs": [],
   "source": [
    "def plot_learning_curve(model, X, y, cv, scoring=\"f1\", ax=None, title=\"\"):\n",
    "    # Вычисляем координаты для построения кривой обучения\n",
    "    train_sizes, train_scores, valid_scores = model_selection.learning_curve(\n",
    "        estimator=model,  # модель\n",
    "        X=X,  # матрица наблюдений X\n",
    "        y=y,  # вектор ответов y\n",
    "        cv=cv,  # кросс-валидатор\n",
    "        scoring=scoring,  # метрика\n",
    "    )\n",
    "    # Вычисляем среднее значение по фолдам для каждого набора данных\n",
    "    train_scores_mean = np.mean(train_scores, axis=1)\n",
    "    valid_scores_mean = np.mean(valid_scores, axis=1)\n",
    "    # Если координатной плоскости не было передано, создаём новую\n",
    "    if ax is None:\n",
    "        fig, ax = plt.subplots(figsize=(10, 4))  # фигура + координатная плоскость\n",
    "    # Строим кривую обучения по метрикам на тренировочных фолдах\n",
    "    ax.plot(train_sizes, train_scores_mean, label=\"Train\")\n",
    "    # Строим кривую обучения по метрикам на валидационных фолдах\n",
    "    ax.plot(train_sizes, valid_scores_mean, label=\"Valid\")\n",
    "    # Даём название графику и подписи осям\n",
    "    ax.set_title(\"Learning curve: {}\".format(title))\n",
    "    ax.set_xlabel(\"Train data size\")\n",
    "    ax.set_ylabel(\"Score\")\n",
    "    # Устанавливаем отметки по оси абсцисс\n",
    "    ax.xaxis.set_ticks(train_sizes)\n",
    "    # Устанавливаем диапазон оси ординат\n",
    "    ax.set_ylim(0, 1)\n",
    "    # Отображаем легенду\n",
    "    ax.legend()"
   ]
  }
 ],
 "metadata": {
  "kernelspec": {
   "display_name": "Python 3.10.4 64-bit",
   "language": "python",
   "name": "python3"
  },
  "language_info": {
   "codemirror_mode": {
    "name": "ipython",
    "version": 3
   },
   "file_extension": ".py",
   "mimetype": "text/x-python",
   "name": "python",
   "nbconvert_exporter": "python",
   "pygments_lexer": "ipython3",
   "version": "3.10.4"
  },
  "orig_nbformat": 4,
  "vscode": {
   "interpreter": {
    "hash": "916dbcbb3f70747c44a77c7bcd40155683ae19c65e1c03b4aa3499c5328201f1"
   }
  }
 },
 "nbformat": 4,
 "nbformat_minor": 2
}
