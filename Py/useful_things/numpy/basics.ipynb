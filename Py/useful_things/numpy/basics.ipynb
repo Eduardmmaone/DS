{
 "cells": [
  {
   "cell_type": "code",
   "execution_count": 2,
   "metadata": {},
   "outputs": [],
   "source": [
    "import numpy as np"
   ]
  },
  {
   "cell_type": "markdown",
   "metadata": {},
   "source": [
    "# Table of content\n",
    "\n",
    "1. [creating-arrays-commands](#1-creating-arrays-commands)\n",
    "2. [initial-placeholders](#2-initial-placeholders)\n",
    "3. [inspecting-properties](#3-inspecting-properties)\n",
    "4. [saving-and-loading-file](#4-saving-and-loading-file)\n",
    "5. [sorting-searching-and-counting](#5-sorting-searching-and-counting)\n",
    "6. [array-manipulation](#6-array-manipulation)\n",
    "7. [combining-and-splitting-commands](#7-combining-and-splitting-commands)\n",
    "8. [indexing-slicing-and-subsetting](#8-indexing-slicing-and-subsetting)\n",
    "10. [numpy-array-mathematics](#10-numpy-array-mathematics)"
   ]
  },
  {
   "cell_type": "markdown",
   "metadata": {},
   "source": [
    "| Тип данных | Описание |\n",
    "| :---: | :--- |\n",
    "| `bool` | Булевы значения (`True` или `False`) хранятся в виде байтов |\n",
    "| `int` | Тип по умолчанию — целое число (обычно `int64` или `int32`) |\n",
    "| `intc` | Идентичный `int` в `C` (обычно `int32` или `int64`) |\n",
    "| `intp` | Целое число для использования в качестве индексов (то же, что и `size_t` в `C`, обычно `int32` или `int64`) |\n",
    "| `int8` | Байт (от `-128` до `127`) |\n",
    "| `int16` | Целое число (от `-32 768` до `32 767`) |\n",
    "| `int32` | Целое число (от `-2 147 483 648` до `2 147 483 647`) |\n",
    "| `int64` | Целое число (от `-9 223 372 036 854 775 808` до `9 223 372 036 854 775 807`) |\n",
    "| `uint8` | Целое число без знака (от `0` до `255`) |\n",
    "| `uint16` | Целое число без знака (от `0` до `65 535`) |\n",
    "| `uint32` | Целое число без знака (от `0` до `4 294 967 295`) |\n",
    "| `uint64` | Целое число без знака (от `0` до `18 446 744 073 709 551 615`) |\n",
    "| `float` | Обозначение `float64` |\n",
    "| `float16` | Число с плавающей точкой половинной точности; бит на знак, 5-битная экспонента, 10-битная мантисса |\n",
    "| `float32` | Число с плавающей точкой единичной точности; бит на знак, 8-битная экспонента, 23-битная мантисса |\n",
    "| `float64` | Число с плавающей точкой двойной точности; бит на знак, 11-битная экспонента, 52-битная мантисса |\n",
    "| `complex` | Обозначение `complex128` |\n",
    "| `complex64` | Комплексное число, представленное двумя 32-битными `float` (с действительной и мнимой частями) |\n",
    "| `complex128` | Комплексное число, представленное двумя 64-битными `float` (с действительной и мнимой частями) |\n",
    "\n"
   ]
  },
  {
   "cell_type": "markdown",
   "metadata": {},
   "source": [
    "# 1. Creating Arrays Commands\n",
    "\n",
    "[up ⬆️](#table-of-content)"
   ]
  },
  {
   "cell_type": "code",
   "execution_count": 3,
   "metadata": {},
   "outputs": [
    {
     "name": "stdout",
     "output_type": "stream",
     "text": [
      "[1 2 3 4]\n",
      "[5 6 7 8]\n",
      "[0. 1. 2. 3. 4. 5. 6. 7.]\n"
     ]
    }
   ],
   "source": [
    "# create a NumPy array from a list \n",
    "li = [1, 2, 3, 4]  \n",
    "print(np.array(li)) \n",
    "  \n",
    "# create a NumPy array from a tuple \n",
    "tup = (5, 6, 7, 8) \n",
    "print(np.array(tup)) \n",
    "  \n",
    "# create a NumPy array using fromiter() \n",
    "iterable = (a for a in range(8)) \n",
    "print(np.fromiter(iterable, float))"
   ]
  },
  {
   "cell_type": "code",
   "execution_count": 4,
   "metadata": {},
   "outputs": [
    {
     "name": "stdout",
     "output_type": "stream",
     "text": [
      "[[ 1  2  3  4]\n",
      " [ 5  6  7  8]\n",
      " [ 9 10 11 12]]\n",
      "[[ 1  2  3]\n",
      " [ 4  5  6]\n",
      " [ 7  8  9]\n",
      " [10 11 12]]\n"
     ]
    }
   ],
   "source": [
    "# create a NumPy array from a list \n",
    "list_1 = [1, 2, 3, 4] \n",
    "list_2 = [5, 6, 7, 8] \n",
    "list_3 = [9, 10, 11, 12] \n",
    "print(np.array([list_1, list_2, list_3])) \n",
    "  \n",
    "# create a NumPy array using numpy.empty() \n",
    "print(np.empty([4, 3], dtype=int))"
   ]
  },
  {
   "cell_type": "markdown",
   "metadata": {},
   "source": [
    "# 2. Initial Placeholders\n",
    "\n",
    "[up ⬆️](#table-of-content)\n",
    "\n",
    "| Initial Placeholders for 1D Array | Syntax | Example |\n",
    "| :---: | :---: | :---: |\n",
    "| [arange()](https://numpy.org/doc/stable/reference/generated/numpy.arange.html) | numpy.arange([start, ]stop, [step, ]dtype=None, *, like=None) | np.arange(1, 10) |\n",
    "| [linespace()](https://numpy.org/doc/stable/reference/generated/numpy.linspace.html) | numpy.linspace(start, stop, num=50, endpoint=True, retstep=False, dtype=None, axis=0) | np.linspace(1, 10, 3) |\n",
    "| [zeros()](https://numpy.org/doc/stable/reference/generated/numpy.zeros.html) | numpy.zeros(shape, dtype=float, order='C', *, like=None) | np.zeros(5, dtype=int) |\n",
    "| [zeros_like()](https://numpy.org/doc/stable/reference/generated/numpy.zeros_like.html) | numpy.zeros_like(a, dtype=None, order='K', subok=True, shape=None) | np.zeros_like(array) |\n",
    "| [ones()](https://numpy.org/doc/stable/reference/generated/numpy.ones.html) | numpy.ones(shape, dtype=None, order='C', *, like=None) | np.ones(5, dtype=int) |\n",
    "| [ones_like()](https://numpy.org/doc/stable/reference/generated/numpy.ones_like.html) | numpy.ones_like(a, dtype=None, order='K', subok=True, shape=None) | np.ones_like(array) |\n",
    "| [random.rand()](https://numpy.org/doc/stable/reference/random/generated/numpy.random.rand.html#numpy-random-rand) | random.rand(d0, d1, ..., dn) | np.random.rand(5) |\n",
    "| [random.randint()](https://numpy.org/doc/stable/reference/random/generated/numpy.random.randint.html#numpy-random-randint) | random.randint(low, high=None, size=None, dtype=int) | np.random.randint(5, size=10) |"
   ]
  },
  {
   "cell_type": "code",
   "execution_count": 7,
   "metadata": {},
   "outputs": [
    {
     "name": "stdout",
     "output_type": "stream",
     "text": [
      "[1 2 3 4 5 6 7 8 9]\n",
      "[ 1.   5.5 10. ]\n",
      "[0 0 0 0 0]\n",
      "[1 1 1 1 1]\n",
      "[0.20253872 0.0493128  0.16115816 0.50970267 0.24081023]\n",
      "[3 4 1 2 3 3 2 1 4 2]\n"
     ]
    }
   ],
   "source": [
    "# create a NumPy array using numpy.arange() \n",
    "print(np.arange(1, 10)) \n",
    "  \n",
    "# create a NumPy array using numpy.linspace() \n",
    "print(np.linspace(1, 10, 3)) \n",
    "  \n",
    "# create a NumPy array using numpy.zeros() \n",
    "print(np.zeros(5, dtype=int)) \n",
    "  \n",
    "# create a NumPy array using numpy.ones() \n",
    "print(np.ones(5, dtype=int)) \n",
    "  \n",
    "# create a NumPy array using numpy.random.rand() \n",
    "print(np.random.rand(5)) \n",
    "  \n",
    "# create a NumPy array using numpy.random.randint() \n",
    "print(np.random.randint(5, size=10)) "
   ]
  },
  {
   "cell_type": "markdown",
   "metadata": {},
   "source": [
    "| Initial Placeholders for 2D Array | Syntax | Example |\n",
    "| :---: | :---: | :---: |\n",
    "| [zeros()](https://numpy.org/doc/stable/reference/generated/numpy.zeros.html) | numpy.zeros(shape, dtype=float, order='C', *, like=None) | np.zeros([4, 3], dtype = np.int32) |\n",
    "| [zeros_like()](https://numpy.org/doc/stable/reference/generated/numpy.zeros_like.html) | numpy.zeros_like(a, dtype=None, order='K', subok=True, shape=None) | np.zeros_like(array) |\n",
    "| [ones()](https://numpy.org/doc/stable/reference/generated/numpy.ones.html) | numpy.ones(shape, dtype=None, order='C', *, like=None) | np.ones([4, 3], dtype = np.int32) |\n",
    "| [ones_like()](https://numpy.org/doc/stable/reference/generated/numpy.ones_like.html) | numpy.ones_like(a, dtype=None, order='K', subok=True, shape=None) | np.ones_like(array) |\n",
    "| [full()](https://numpy.org/doc/stable/reference/generated/numpy.full.html#numpy.full) | numpy.full(shape, fill_value, dtype=None, order='C', *, like=None) | np.full([2, 2], 67, dtype = int) |\n",
    "| [eye()](https://numpy.org/doc/stable/reference/generated/numpy.eye.html#numpy.eye) | numpy.eye(N, M=None, k=0, dtype=<class 'float'>, order='C', *, like=None) | np.eye(4) |"
   ]
  },
  {
   "cell_type": "code",
   "execution_count": 8,
   "metadata": {},
   "outputs": [
    {
     "name": "stdout",
     "output_type": "stream",
     "text": [
      "[[0 0 0]\n",
      " [0 0 0]\n",
      " [0 0 0]\n",
      " [0 0 0]]\n",
      "[[1 1 1]\n",
      " [1 1 1]\n",
      " [1 1 1]\n",
      " [1 1 1]]\n",
      "[[67 67]\n",
      " [67 67]]\n",
      "[[1. 0. 0. 0.]\n",
      " [0. 1. 0. 0.]\n",
      " [0. 0. 1. 0.]\n",
      " [0. 0. 0. 1.]]\n"
     ]
    }
   ],
   "source": [
    "# create a NumPy array using numpy.zeros() \n",
    "print(np.zeros([4, 3], dtype = np.int32)) \n",
    "  \n",
    "# create a NumPy array using numpy.ones() \n",
    "print(np.ones([4, 3], dtype = np.int32)) \n",
    "  \n",
    "# create a NumPy array using numpy.full() \n",
    "print(np.full([2, 2], 67, dtype = int)) \n",
    "  \n",
    "# create a NumPy array using numpy.eye() \n",
    "print(np.eye(4))"
   ]
  },
  {
   "cell_type": "markdown",
   "metadata": {},
   "source": [
    "# 3. Inspecting Properties\n",
    "\n",
    "[up ⬆️](#table-of-content)\n",
    "\n",
    "| Inspecting Properties | Example |\n",
    "| :---: | :--- |\n",
    "| [size](https://numpy.org/doc/stable/reference/generated/numpy.ndarray.size.html) | ndarray.size |\n",
    "| [shape](https://numpy.org/doc/stable/reference/generated/numpy.ndarray.shape.html) | ndarray.shape |\n",
    "| [dtype](https://numpy.org/doc/stable/reference/generated/numpy.ndarray.dtype.html) | ndarray.dtype |"
   ]
  },
  {
   "cell_type": "code",
   "execution_count": 11,
   "metadata": {},
   "outputs": [
    {
     "name": "stdout",
     "output_type": "stream",
     "text": [
      "Size: 12\n",
      "Length: 3\n",
      "Shape: (3, 4)\n",
      "Datatype: int32\n",
      "[[ 1.  2.  3.  4.]\n",
      " [ 5.  6.  7.  8.]\n",
      " [ 9. 10. 11. 12.]]\n",
      "float64\n",
      "\n",
      "List: [[1.0, 2.0, 3.0, 4.0], [5.0, 6.0, 7.0, 8.0], [9.0, 10.0, 11.0, 12.0]]\n",
      "<class 'list'>\n"
     ]
    }
   ],
   "source": [
    "# Two dimensional numpy array \n",
    "list_1 = [1, 2, 3, 4] \n",
    "list_2 = [5, 6, 7, 8] \n",
    "list_3 = [9, 10, 11, 12] \n",
    "arr = np.array([list_1, list_2, list_3])  \n",
    "  \n",
    "# check size of the array \n",
    "print(\"Size:\", arr.size) \n",
    "  \n",
    "# check length of the array \n",
    "print(\"Length:\", len(arr)) \n",
    "  \n",
    "# check shape of the array \n",
    "print(\"Shape:\", arr.shape) \n",
    "  \n",
    "# check dtype of the array elements \n",
    "print(\"Datatype:\", arr.dtype) \n",
    "  \n",
    "# change the dtype to 'float64' \n",
    "arr = arr.astype('float64') \n",
    "print(arr) \n",
    "print(arr.dtype) \n",
    "  \n",
    "# convert array to list \n",
    "lis = arr.tolist() \n",
    "print(\"\\nList:\", lis) \n",
    "print(type(lis))"
   ]
  },
  {
   "cell_type": "markdown",
   "metadata": {},
   "source": [
    "# 4. Saving and Loading File\n",
    "\n",
    "[up ⬆️](#table-of-content)\n",
    "\n",
    "| Importing & Exporting | Syntax | Example |\n",
    "| :---: | :--- | :--- |\n",
    "| [save()](https://numpy.org/doc/stable/reference/generated/numpy.save.html#numpy.save) | numpy.save(file, arr, allow_pickle=True, fix_imports=True) | np.save(outfile, x) |\n",
    "| [savetxt()](https://numpy.org/doc/stable/reference/generated/numpy.savetxt.html) | numpy.savetxt(fname, X, fmt='%.18e', delimiter=' ', newline='\\n', header='', footer='', comments='# ', encoding=None) | np.savetxt('test.out', x, delimiter=',') |\n",
    "| [load()](https://numpy.org/doc/stable/reference/generated/numpy.load.html) | numpy.load(file, mmap_mode=None, allow_pickle=False, fix_imports=True, encoding='ASCII', *, max_header_size=10000) | np.load('*.npy') |\n",
    "| [loadtxt()](https://numpy.org/doc/stable/reference/generated/numpy.loadtxt.html) | numpy.loadtxt(fname, dtype=<class 'float'>, comments='#', delimiter=None, converters=None, skiprows=0, usecols=None, unpack=False, ndmin=0, encoding='bytes', max_rows=None, *, quotechar=None, like=None) | np.loadtxt('*.txt') |\n",
    "| [genfromtxt()](https://numpy.org/doc/stable/reference/generated/numpy.genfromtxt.html#numpy-genfromtxt) | numpy.genfromtxt(fname, dtype=<class 'float'>, comments='#', delimiter=None, skip_header=0, skip_footer=0, converters=None, missing_values=None, filling_values=None, usecols=None, names=None, excludelist=None, deletechars=\" !#$%&'()*+, -./:;<=>?@[\\\\]^{}~\", replace_space='_', autostrip=False, case_sensitive=True, defaultfmt='f%i', unpack=None, usemask=False, loose=True, invalid_raise=True, max_rows=None, encoding='bytes', *, ndmin=0, like=None) | np.genfromtxt(f, delimiter=',') |"
   ]
  },
  {
   "cell_type": "code",
   "execution_count": 14,
   "metadata": {},
   "outputs": [
    {
     "name": "stdout",
     "output_type": "stream",
     "text": [
      "[0 1 2 3 4]\n",
      "[0 1 2 3 4 5 6 7 8 9]\n"
     ]
    }
   ],
   "source": [
    "# the array is saved in the file geekfile.npy \n",
    "np.save(\"array\", np.arange(5)) \n",
    "  \n",
    "# the array is loaded into b \n",
    "print(np.load(\"array.npy\"))\n",
    "\n",
    "x = np.arange(0, 10, 1) \n",
    "print(x) \n",
    "  \n",
    "# X array saved in geekfile.txt \n",
    "c = np.savetxt(\"array.txt\", x, delimiter =', ')"
   ]
  },
  {
   "cell_type": "code",
   "execution_count": 16,
   "metadata": {},
   "outputs": [
    {
     "data": {
      "text/plain": [
       "array([[1., 2., 3.],\n",
       "       [4., 5., 6.],\n",
       "       [7., 8., 9.]])"
      ]
     },
     "execution_count": 16,
     "metadata": {},
     "output_type": "execute_result"
    }
   ],
   "source": [
    "# save txt as csv file\n",
    "a = np.asarray([ [1,2,3], [4,5,6], [7,8,9] ])\n",
    "np.savetxt(\"my_csv.csv\", a, delimiter=\",\")\n",
    "\n",
    "# read from csv file\n",
    "df = np.genfromtxt('my_csv.csv', delimiter=',')\n",
    "df"
   ]
  },
  {
   "cell_type": "markdown",
   "metadata": {},
   "source": [
    "# 5. Sorting, searching and counting\n",
    "\n",
    "[up ⬆️](#table-of-content)\n",
    "\n",
    "| SSC | Syntax | Example |\n",
    "| :---: | :--- | :--- |\n",
    "| [sort](https://numpy.org/doc/stable/reference/generated/numpy.ndarray.sort.html) | ndarray.sort(axis=-1, kind=None, order=None) | array.sort() |\n",
    "| [sort()](https://numpy.org/doc/stable/reference/generated/numpy.sort.html#numpy.sort) | numpy.sort(a, axis=-1, kind=None, order=None) | np.sort(array) |  \n",
    "| [argsort()](https://numpy.org/doc/stable/reference/generated/numpy.argsort.html#numpy.argsort) | numpy.argsort(a, axis=-1, kind=None, order=None) | np.argsort(array) |\n",
    "| [where()](https://numpy.org/doc/stable/reference/generated/numpy.where.html) | numpy.where(condition, [x, y, ]/) | np.where(x < y, x, 10 + y) |\n"
   ]
  },
  {
   "cell_type": "code",
   "execution_count": 112,
   "metadata": {},
   "outputs": [
    {
     "name": "stdout",
     "output_type": "stream",
     "text": [
      "Array before sorting [12 15 10  1]\n",
      "Array after sorting [ 1 10 12 15]\n"
     ]
    }
   ],
   "source": [
    "# sorting a one dimensional \n",
    "# numpy array using numpy.sort() \n",
    "a = np.array([12, 15, 10, 1]) \n",
    "print(\"Array before sorting\",a) \n",
    "a.sort() \n",
    "print(\"Array after sorting\",a)"
   ]
  },
  {
   "cell_type": "code",
   "execution_count": 111,
   "metadata": {},
   "outputs": [
    {
     "name": "stdout",
     "output_type": "stream",
     "text": [
      "Along first axis : \n",
      " [[10  1]\n",
      " [12 15]]\n"
     ]
    }
   ],
   "source": [
    "# sorting a two dimensional \n",
    "# numpy array using numpy.sort() \n",
    "# sort along the first axis \n",
    "a = np.array([[12, 15], [10, 1]]) \n",
    "arr1 = np.sort(a, axis = 0)     \n",
    "print (\"Along first axis : \\n\", arr1)\n",
    "\n",
    "# sort along the last axis \n",
    "a = np.array([[10, 15], [12, 1]]) \n",
    "arr2 = np.sort(a, axis = -1)     \n",
    "print (\"\\nAlong Last axis : \\n\", arr2) \n",
    "  \n",
    "a = np.array([[12, 15], [10, 1]]) \n",
    "arr1 = np.sort(a, axis = None)     \n",
    "print (\"\\nAlong none axis : \\n\", arr1)     "
   ]
  },
  {
   "cell_type": "code",
   "execution_count": 110,
   "metadata": {},
   "outputs": [
    {
     "data": {
      "text/plain": [
       "array([[ 0,  1,  2],\n",
       "       [ 0,  2, -1],\n",
       "       [ 0,  3, -1]])"
      ]
     },
     "execution_count": 110,
     "metadata": {},
     "output_type": "execute_result"
    }
   ],
   "source": [
    "# where()\n",
    "a = np.array([[0, 1, 2],\n",
    "              [0, 2, 4],\n",
    "              [0, 3, 6]])\n",
    "np.where(a < 4, a, -1)"
   ]
  },
  {
   "cell_type": "markdown",
   "metadata": {},
   "source": [
    "# 6. Array Manipulation\n",
    "\n",
    "[up ⬆️](#table-of-content)\n",
    "\n",
    "| Array Manipulation | Syntax | Example |\n",
    "| :---: | :--- | :--- |\n",
    "| [append()](https://numpy.org/doc/stable/reference/generated/numpy.append.html#numpy.append) | numpy.append(arr, values, axis=None) | np.append([1, 2, 3], [[4, 5, 6], [7, 8, 9]]) |\n",
    "| [insert()](https://numpy.org/doc/stable/reference/generated/numpy.insert.html) | numpy.insert(arr, obj, values, axis=None) | np.insert([1, 4, 5], 1, [2, 3]) |\n",
    "| [reshape()](https://numpy.org/doc/stable/reference/generated/numpy.reshape.html) | numpy.reshape(a, newshape, order='C') | np.arange(6).reshape((3, 2)) | \n",
    "| [resize()](https://numpy.org/doc/stable/reference/generated/numpy.resize.html) | numpy.resize(a, new_shape) | np.resize(np.array([[0,1],[2,3],[4,5]]), (1, 9)) | \n",
    "| [swapaxes](https://numpy.org/doc/stable/reference/generated/numpy.swapaxes.html) | numpy.swapaxes(a, axis1, axis2) | np.swapaxes(np.array([[1, 2, 3], [11, 22, 33], [111, 222, 333]]), 0, 1) |\n"
   ]
  },
  {
   "cell_type": "code",
   "execution_count": 104,
   "metadata": {},
   "outputs": [
    {
     "name": "stdout",
     "output_type": "stream",
     "text": [
      "[1 2 3 4 5 6 7 8 9]\n",
      "\n"
     ]
    }
   ],
   "source": [
    "# append()\n",
    "print(f'{np.append([1, 2, 3], [[4, 5, 6], [7, 8, 9]])}\\n')"
   ]
  },
  {
   "cell_type": "code",
   "execution_count": 105,
   "metadata": {},
   "outputs": [
    {
     "name": "stdout",
     "output_type": "stream",
     "text": [
      "[1 2 3 4 5]\n",
      "\n"
     ]
    }
   ],
   "source": [
    "# insert()\n",
    "print(f'{np.insert([1, 4, 5], 1, [2, 3])}\\n')"
   ]
  },
  {
   "cell_type": "code",
   "execution_count": 106,
   "metadata": {},
   "outputs": [
    {
     "name": "stdout",
     "output_type": "stream",
     "text": [
      "a is [0 1 2 3 4 5]\n",
      "\n",
      "a reshaped is \n",
      "[[0 1]\n",
      " [2 3]\n",
      " [4 5]]\n",
      "\n"
     ]
    }
   ],
   "source": [
    "# reshape()\n",
    "print(f'a is {np.arange(6)}\\n')\n",
    "print(f'a reshaped is \\n{np.arange(6).reshape((3, 2))}\\n')"
   ]
  },
  {
   "cell_type": "code",
   "execution_count": 108,
   "metadata": {},
   "outputs": [
    {
     "name": "stdout",
     "output_type": "stream",
     "text": [
      "a is \n",
      "[[0 1]\n",
      " [2 3]\n",
      " [4 5]]\n",
      "\n",
      "a resized is \n",
      "[[0 1 2 3 4 5 0 1 2]]\n",
      "\n"
     ]
    }
   ],
   "source": [
    "# resize()\n",
    "print(f'a is \\n{np.array([[0,1],[2,3],[4,5]])}\\n')\n",
    "print(f'a resized is \\n{np.resize(np.array([[0,1],[2,3],[4,5]]), (1, 9))}\\n')"
   ]
  },
  {
   "cell_type": "code",
   "execution_count": 109,
   "metadata": {},
   "outputs": [
    {
     "name": "stdout",
     "output_type": "stream",
     "text": [
      "a is \n",
      "[[  1   2   3]\n",
      " [ 11  22  33]\n",
      " [111 222 333]]\n",
      "\n",
      "a swapaxes is \n",
      "[[  1  11 111]\n",
      " [  2  22 222]\n",
      " [  3  33 333]]\n",
      "\n"
     ]
    }
   ],
   "source": [
    "# swapaxes()\n",
    "a = np.array([[1, 2, 3], [11, 22, 33], [111, 222, 333]])\n",
    "print(f'a is \\n{a}\\n')\n",
    "b = np.swapaxes(a, 0, 1)\n",
    "print(f'a swapaxes is \\n{b}\\n')"
   ]
  },
  {
   "cell_type": "markdown",
   "metadata": {},
   "source": [
    "| Array Manipulation | Syntax | Example |\n",
    "| :---: | :--- | :--- |\n",
    "| [flatten()](https://numpy.org/doc/stable/reference/generated/numpy.ndarray.flatten.html) | ndarray.flatten(order='C') | np.array([[1,2], [3,4]]).flatten() |\n",
    "| [.T](https://numpy.org/doc/stable/reference/generated/numpy.ndarray.T.html) | ndarray.T | ndarray.T |\n",
    "| [rot90()](https://numpy.org/doc/stable/reference/generated/numpy.rot90.html) | numpy.rot90(m, k=1, axes=(0, 1)) | np.rot90(np.array([[1, 2, 3], [11, 22, 33]]), -1) |"
   ]
  },
  {
   "cell_type": "code",
   "execution_count": 101,
   "metadata": {},
   "outputs": [
    {
     "name": "stdout",
     "output_type": "stream",
     "text": [
      "a is \n",
      "[[  1   2   3]\n",
      " [ 11  22  33]\n",
      " [111 222 333]]\n",
      "\n",
      "a.flatten is \n",
      "[  1   2   3  11  22  33 111 222 333]\n",
      "\n"
     ]
    }
   ],
   "source": [
    "# flatten()\n",
    "a = np.array([[1, 2, 3], [11, 22, 33], [111, 222, 333]])\n",
    "print(f'a is \\n{a}\\n')\n",
    "print(f'a.flatten is \\n{a.flatten()}\\n')"
   ]
  },
  {
   "cell_type": "code",
   "execution_count": 102,
   "metadata": {},
   "outputs": [
    {
     "name": "stdout",
     "output_type": "stream",
     "text": [
      "a is \n",
      "[[  1   2   3]\n",
      " [ 11  22  33]\n",
      " [111 222 333]]\n",
      "\n",
      "a.T is \n",
      "[[  1  11 111]\n",
      " [  2  22 222]\n",
      " [  3  33 333]]\n",
      "\n"
     ]
    }
   ],
   "source": [
    "# .T\n",
    "a = np.array([[1, 2, 3], [11, 22, 33], [111, 222, 333]])\n",
    "print(f'a is \\n{a}\\n')\n",
    "print(f'a.T is \\n{a.T}\\n')"
   ]
  },
  {
   "cell_type": "code",
   "execution_count": 103,
   "metadata": {},
   "outputs": [
    {
     "name": "stdout",
     "output_type": "stream",
     "text": [
      "a rot90 is \n",
      "[[111  11   1]\n",
      " [222  22   2]\n",
      " [333  33   3]]\n",
      "\n"
     ]
    }
   ],
   "source": [
    "# rot90()\n",
    "print(f'a rot90 is \\n{np.rot90(a, -1)}\\n')"
   ]
  },
  {
   "cell_type": "markdown",
   "metadata": {},
   "source": [
    "# 7. Combining and Splitting Commands\n",
    "\n",
    "[up ⬆️](#table-of-content)\n",
    "\n",
    "| Array Manipulation | Syntax | Example |\n",
    "| :---: | :--- | :--- |\n",
    "| [concatenate()](https://numpy.org/doc/stable/reference/generated/numpy.concatenate.html#numpy-concatenate) | numpy.concatenate((a1, a2, ...), axis=0, out=None, dtype=None, casting=\"same_kind\") | np.concatenate((a, b), axis=0) |\n",
    "| [stack()](https://numpy.org/doc/stable/reference/generated/numpy.stack.html#numpy.stack) | numpy.stack(arrays, axis=0, out=None, *, dtype=None, casting='same_kind') | np.stack((a, b)) |\n",
    "| [hstack()](https://numpy.org/doc/stable/reference/generated/numpy.hstack.html) | numpy.hstack(tup, *, dtype=None, casting='same_kind') | np.hstack((a,b)) |\n",
    "| [vstack()](https://numpy.org/doc/stable/reference/generated/numpy.vstack.html) | numpy.vstack(tup, *, dtype=None, casting='same_kind') | np.vstack((a,b)) |\n",
    "| [split()](https://numpy.org/doc/stable/reference/generated/numpy.split.html) | numpy.split(ary, indices_or_sections, axis=0) | np.split(x, 3) |\n",
    "| [hsplit()](https://numpy.org/doc/stable/reference/generated/numpy.hsplit.html) | numpy.hsplit(ary, indices_or_sections) | np.hsplit(a, 3) | \n",
    "| [vsplit()](https://numpy.org/doc/stable/reference/generated/numpy.vsplit.html) | numpy.vsplit(ary, indices_or_sections) | np.vsplit(a, 3) | \n"
   ]
  },
  {
   "cell_type": "code",
   "execution_count": 99,
   "metadata": {},
   "outputs": [
    {
     "data": {
      "text/plain": [
       "array([[1, 2],\n",
       "       [3, 4],\n",
       "       [5, 6]])"
      ]
     },
     "execution_count": 99,
     "metadata": {},
     "output_type": "execute_result"
    }
   ],
   "source": [
    "# concatenate()\n",
    "a = np.array([[1, 2], [3, 4]])\n",
    "b = np.array([[5, 6]])\n",
    "np.concatenate((a, b), axis=0)"
   ]
  },
  {
   "cell_type": "code",
   "execution_count": 115,
   "metadata": {},
   "outputs": [
    {
     "data": {
      "text/plain": [
       "array([[1, 2, 3],\n",
       "       [4, 5, 6]])"
      ]
     },
     "execution_count": 115,
     "metadata": {},
     "output_type": "execute_result"
    }
   ],
   "source": [
    "# stack()\n",
    "a = np.array([1, 2, 3])\n",
    "b = np.array([4, 5, 6])\n",
    "np.stack((a, b))"
   ]
  },
  {
   "cell_type": "code",
   "execution_count": 116,
   "metadata": {},
   "outputs": [
    {
     "data": {
      "text/plain": [
       "array([1, 2, 3, 4, 5, 6])"
      ]
     },
     "execution_count": 116,
     "metadata": {},
     "output_type": "execute_result"
    }
   ],
   "source": [
    "# hstack()\n",
    "a = np.array((1,2,3))\n",
    "b = np.array((4,5,6))\n",
    "np.hstack((a,b))"
   ]
  },
  {
   "cell_type": "code",
   "execution_count": 117,
   "metadata": {},
   "outputs": [
    {
     "data": {
      "text/plain": [
       "array([[1],\n",
       "       [2],\n",
       "       [3],\n",
       "       [4],\n",
       "       [5],\n",
       "       [6]])"
      ]
     },
     "execution_count": 117,
     "metadata": {},
     "output_type": "execute_result"
    }
   ],
   "source": [
    "# vstack\n",
    "a = np.array([[1], [2], [3]])\n",
    "b = np.array([[4], [5], [6]])\n",
    "np.vstack((a,b))"
   ]
  },
  {
   "cell_type": "code",
   "execution_count": 128,
   "metadata": {},
   "outputs": [
    {
     "data": {
      "text/plain": [
       "[array([0, 1, 2, 3, 4]), array([5, 6, 7, 8, 9])]"
      ]
     },
     "execution_count": 128,
     "metadata": {},
     "output_type": "execute_result"
    }
   ],
   "source": [
    "a = np.arange(10)\n",
    "np.split(a, 2)"
   ]
  },
  {
   "cell_type": "code",
   "execution_count": 129,
   "metadata": {},
   "outputs": [
    {
     "data": {
      "text/plain": [
       "[array([[1],\n",
       "        [4],\n",
       "        [7]]),\n",
       " array([[2],\n",
       "        [5],\n",
       "        [8]]),\n",
       " array([[3],\n",
       "        [6],\n",
       "        [9]])]"
      ]
     },
     "execution_count": 129,
     "metadata": {},
     "output_type": "execute_result"
    }
   ],
   "source": [
    "a = np.array([[1, 2, 3], [4, 5, 6], [7, 8, 9]])\n",
    "np.hsplit(a, 3)"
   ]
  },
  {
   "cell_type": "code",
   "execution_count": 130,
   "metadata": {},
   "outputs": [
    {
     "data": {
      "text/plain": [
       "[array([[1, 2, 3]]), array([[4, 5, 6]]), array([[7, 8, 9]])]"
      ]
     },
     "execution_count": 130,
     "metadata": {},
     "output_type": "execute_result"
    }
   ],
   "source": [
    "a = np.array([[1, 2, 3], [4, 5, 6], [7, 8, 9]])\n",
    "np.vsplit(a, 3)"
   ]
  },
  {
   "cell_type": "markdown",
   "metadata": {},
   "source": [
    "# 8. Indexing, Slicing and Subsetting\n",
    "\n",
    "[up ⬆️](#table-of-content)\n",
    "\n",
    "[How to index ndarrays](https://numpy.org/doc/stable/user/how-to-index.html)\n",
    "\n",
    "| ISS | Example |\n",
    "| - | - |\n",
    "| Subsetting | arr[np.array([1, 3, -3])] |\n",
    "| Sclicing | arr[-2:7:1] |\n",
    "| Integer Indexing | a[[0 ,1 ,2 ],[0 ,0 ,1]] |\n",
    "| Boolean Indexing | a[a>50] |"
   ]
  },
  {
   "cell_type": "code",
   "execution_count": 139,
   "metadata": {},
   "outputs": [
    {
     "name": "stdout",
     "output_type": "stream",
     "text": [
      "a is \n",
      "[[1 2 3]\n",
      " [4 5 6]\n",
      " [7 8 9]]\n",
      "\n",
      "a[0,1] is 5\n",
      "\n"
     ]
    }
   ],
   "source": [
    "a = np.array([[1, 2, 3], [4, 5, 6], [7, 8, 9]])\n",
    "print(f'a is \\n{a}\\n')\n",
    "print(f'a[0,1] is {a[1,1]}\\n')"
   ]
  },
  {
   "cell_type": "code",
   "execution_count": 147,
   "metadata": {},
   "outputs": [
    {
     "name": "stdout",
     "output_type": "stream",
     "text": [
      "a is \n",
      "[[1 2 3]\n",
      " [4 5 6]\n",
      " [7 8 9]]\n",
      "\n",
      "3 col \n",
      "[3 6 9]\n",
      "\n",
      "3 row \n",
      "[[7 8 9]]\n",
      "\n"
     ]
    }
   ],
   "source": [
    "a = np.array([[1, 2, 3], [4, 5, 6], [7, 8, 9]])\n",
    "print(f'a is \\n{a}\\n')\n",
    "print(f'3 col \\n{a[:,2]}\\n')\n",
    "print(f'3 row \\n{a[2:]}\\n')"
   ]
  },
  {
   "cell_type": "code",
   "execution_count": 155,
   "metadata": {},
   "outputs": [
    {
     "name": "stdout",
     "output_type": "stream",
     "text": [
      "a is \n",
      "[[ 0  1  2  3  4  5  6  7  8  9]\n",
      " [10 11 12 13 14 15 16 17 18 19]\n",
      " [20 21 22 23 24 25 26 27 28 29]\n",
      " [30 31 32 33 34 35 36 37 38 39]\n",
      " [40 41 42 43 44 45 46 47 48 49]\n",
      " [50 51 52 53 54 55 56 57 58 59]\n",
      " [60 61 62 63 64 65 66 67 68 69]\n",
      " [70 71 72 73 74 75 76 77 78 79]\n",
      " [80 81 82 83 84 85 86 87 88 89]\n",
      " [90 91 92 93 94 95 96 97 98 99]]\n",
      "\n",
      "a[2:5, 5:2] \n",
      "[[22 23 24 25 26]\n",
      " [32 33 34 35 36]\n",
      " [42 43 44 45 46]\n",
      " [52 53 54 55 56]\n",
      " [62 63 64 65 66]]\n",
      "\n"
     ]
    }
   ],
   "source": [
    "a = np.arange(100).reshape(10, 10)\n",
    "print(f'a is \\n{a}\\n')\n",
    "print(f'a[2:5, 5:2] \\n{a[2:7, 2:7]}\\n')"
   ]
  },
  {
   "cell_type": "code",
   "execution_count": 162,
   "metadata": {},
   "outputs": [
    {
     "name": "stdout",
     "output_type": "stream",
     "text": [
      "a is \n",
      "[[ 0  1  2  3  4  5  6  7  8  9]\n",
      " [10 11 12 13 14 15 16 17 18 19]\n",
      " [20 21 22 23 24 25 26 27 28 29]\n",
      " [30 31 32 33 34 35 36 37 38 39]\n",
      " [40 41 42 43 44 45 46 47 48 49]\n",
      " [50 51 52 53 54 55 56 57 58 59]\n",
      " [60 61 62 63 64 65 66 67 68 69]\n",
      " [70 71 72 73 74 75 76 77 78 79]\n",
      " [80 81 82 83 84 85 86 87 88 89]\n",
      " [90 91 92 93 94 95 96 97 98 99]]\n",
      "\n",
      "a >= 80 \n",
      "[[False False False False False False False False False False]\n",
      " [False False False False False False False False False False]\n",
      " [False False False False False False False False False False]\n",
      " [False False False False False False False False False False]\n",
      " [False False False False False False False False False False]\n",
      " [False False False False False False False False False False]\n",
      " [False False False False False False False False False False]\n",
      " [False False False False False False False False False False]\n",
      " [ True  True  True  True  True  True  True  True  True  True]\n",
      " [ True  True  True  True  True  True  True  True  True  True]]\n",
      "\n",
      "a[a >= 80] \n",
      "[80 81 82 83 84 85 86 87 88 89 90 91 92 93 94 95 96 97 98 99]\n",
      "\n"
     ]
    }
   ],
   "source": [
    "a = np.arange(100).reshape(10, 10)\n",
    "print(f'a is \\n{a}\\n')\n",
    "print(f'a >= 80 \\n{a >= 80}\\n')\n",
    "print(f'a[a >= 80] \\n{a[a >= 80]}\\n')"
   ]
  },
  {
   "cell_type": "code",
   "execution_count": 175,
   "metadata": {},
   "outputs": [
    {
     "name": "stdout",
     "output_type": "stream",
     "text": [
      "a is \n",
      "[[[-10  -9  -8  -7  -6]\n",
      "  [ -5  -4  -3  -2  -1]]\n",
      "\n",
      " [[  0   1   2   3   4]\n",
      "  [  5   6   7   8   9]]]\n",
      "\n",
      "a after changing is \n",
      "[[[0 0 0 0 0]\n",
      "  [0 0 0 0 0]]\n",
      "\n",
      " [[0 1 2 3 4]\n",
      "  [5 6 7 8 9]]]\n",
      "\n"
     ]
    }
   ],
   "source": [
    "a = np.arange(-10, 10).reshape(2, 2, 5)\n",
    "print(f'a is \\n{a}\\n')\n",
    "a[a < 0] = 0\n",
    "print(f'a after changing is \\n{a}\\n')"
   ]
  },
  {
   "cell_type": "markdown",
   "metadata": {},
   "source": [
    "# 10. NumPy Array Mathematics\n",
    "\n",
    "[up ⬆️](#table-of-content)"
   ]
  }
 ],
 "metadata": {
  "kernelspec": {
   "display_name": "base",
   "language": "python",
   "name": "python3"
  },
  "language_info": {
   "codemirror_mode": {
    "name": "ipython",
    "version": 3
   },
   "file_extension": ".py",
   "mimetype": "text/x-python",
   "name": "python",
   "nbconvert_exporter": "python",
   "pygments_lexer": "ipython3",
   "version": "3.10.9"
  },
  "orig_nbformat": 4
 },
 "nbformat": 4,
 "nbformat_minor": 2
}
