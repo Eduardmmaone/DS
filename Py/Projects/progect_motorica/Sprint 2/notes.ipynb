{
 "cells": [
  {
   "attachments": {},
   "cell_type": "markdown",
   "metadata": {},
   "source": [
    "## Фильтрация сигналов. Проблемы. Решения\n"
   ]
  },
  {
   "attachments": {},
   "cell_type": "markdown",
   "metadata": {},
   "source": [
    "Базово есть 2 вида фильтрации: внешняя и внутренняя.\n",
    "\n",
    "| Фильтрация | Внешняя | Внутренняя |\n",
    "| - | - | - |\n",
    "| **Требования** | Граничные условия (минимумы, максимумы, длительности и т.д.) | Динамика (показания шаг, два, три, ..., назад) |\n",
    "| **Плюсы** | Просто организовать, нет привязки к содержанию сигнала | Можно выполнить почти любые изменения самого сигнала |\n",
    "| **Минусы** | Не может менять сам сигнал | Не работает без динамики, для корректной работы необходимо накапливать предыдущие шаги |"
   ]
  },
  {
   "attachments": {},
   "cell_type": "markdown",
   "metadata": {},
   "source": [
    "## Вывод команд"
   ]
  },
  {
   "attachments": {},
   "cell_type": "markdown",
   "metadata": {},
   "source": [
    "Вводные:\n",
    "\n",
    "* Дискретизация команд $\\Delta Value = 10 \\ единиц$\n",
    "* Максимальное время на проход $от \\ 0 \\ до \\ 100 = 10 \\ сек$, поскольку $\\Delta t = 0.033 \\ сек$, получается на полный прогон $303 \\ \\Delta t$"
   ]
  },
  {
   "attachments": {},
   "cell_type": "markdown",
   "metadata": {},
   "source": [
    "0   129.396190\n",
    "1   103.645776\n",
    "2   119.520155\n",
    "3   115.972253\n",
    "4   362.089729\n",
    "5     0.000000\n",
    "dtype: float64"
   ]
  },
  {
   "attachments": {},
   "cell_type": "markdown",
   "metadata": {},
   "source": [
    "xgb optuna\n",
    "\n",
    "{'learning_rate': 0.06329973864656831,\n",
    " 'max_depth': 6,\n",
    " 'subsample': 0.9814063371832862,\n",
    " 'colsample_bytree': 0.41087811860602663,\n",
    " 'min_child_weight': 8}\n",
    "\n",
    " lgb optuna \n",
    "\n",
    " {'learning_rate': 0.07118878873086158,\n",
    " 'num_leaves': 78,\n",
    " 'max_depth': 159,\n",
    " 'min_data_in_leaf': 1423}"
   ]
  },
  {
   "attachments": {},
   "cell_type": "markdown",
   "metadata": {},
   "source": [
    "vr(step=5, dq=3):\n",
    "0   138.720458\n",
    "1   109.075097\n",
    "2   121.097322\n",
    "3   125.683048\n",
    "4   382.555632\n",
    "5     0.000000"
   ]
  },
  {
   "attachments": {},
   "cell_type": "markdown",
   "metadata": {},
   "source": [
    "vr(step=5, dq=4):\n",
    "0   151.905163\n",
    "1   122.821645\n",
    "2   135.320817\n",
    "3   141.020569\n",
    "4   390.426974\n",
    "5     0.000000"
   ]
  }
 ],
 "metadata": {
  "language_info": {
   "name": "python"
  },
  "orig_nbformat": 4
 },
 "nbformat": 4,
 "nbformat_minor": 2
}
