{
 "cells": [
  {
   "cell_type": "markdown",
   "id": "72c74146-99ec-4c51-9267-9f8b620311ce",
   "metadata": {
    "tags": []
   },
   "source": [
    "# Read data"
   ]
  },
  {
   "cell_type": "code",
   "execution_count": 356,
   "id": "6d076ace-b801-442f-a396-71dc9c412be8",
   "metadata": {},
   "outputs": [],
   "source": [
    "import numpy as np\n",
    "import pandas as pd\n",
    "\n",
    "import seaborn as sns\n",
    "from matplotlib import pyplot as plt\n",
    "\n",
    "from sklearn.model_selection import train_test_split\n",
    "from sklearn.preprocessing import StandardScaler\n",
    "from sklearn.tree import DecisionTreeClassifier\n",
    "from sklearn.tree import ExtraTreeClassifier\n",
    "from sklearn.ensemble import RandomForestClassifier\n",
    "from sklearn import metrics\n",
    "\n",
    "import optuna"
   ]
  },
  {
   "cell_type": "code",
   "execution_count": 431,
   "id": "398c6433-622a-4271-b8fd-e7912a3695cb",
   "metadata": {},
   "outputs": [
    {
     "name": "stdout",
     "output_type": "stream",
     "text": [
      "(323, 40, 100) (32300, 2)\n",
      "(54, 40, 100)\n"
     ]
    }
   ],
   "source": [
    "data_train = np.load('X_train.npy')\n",
    "data_test = np.load('X_test.npy')\n",
    "\n",
    "data_y_train = pd.read_csv('y_train.csv')\n",
    "#y_test = pd.read_csv('y_test.csv')\n",
    "data_y_test = pd.read_csv('sample_submission.csv')\n",
    "\n",
    "print(data_train.shape, data_y_train.shape)\n",
    "print(data_test.shape)"
   ]
  },
  {
   "cell_type": "markdown",
   "id": "3003291e-fe69-44bb-96c5-39d7cbbf08fc",
   "metadata": {
    "tags": []
   },
   "source": [
    "## Представление целевой переменной"
   ]
  },
  {
   "cell_type": "markdown",
   "id": "c4579df6-a401-4af1-a227-97f0bec69209",
   "metadata": {},
   "source": [
    "### Kaggle-удобный вид"
   ]
  },
  {
   "cell_type": "code",
   "execution_count": 433,
   "id": "a38112c6-1e69-4a85-9e19-23dc91c03f9f",
   "metadata": {},
   "outputs": [
    {
     "name": "stdout",
     "output_type": "stream",
     "text": [
      "(32300, 2)\n"
     ]
    },
    {
     "data": {
      "text/html": [
       "<div>\n",
       "<style scoped>\n",
       "    .dataframe tbody tr th:only-of-type {\n",
       "        vertical-align: middle;\n",
       "    }\n",
       "\n",
       "    .dataframe tbody tr th {\n",
       "        vertical-align: top;\n",
       "    }\n",
       "\n",
       "    .dataframe thead th {\n",
       "        text-align: right;\n",
       "    }\n",
       "</style>\n",
       "<table border=\"1\" class=\"dataframe\">\n",
       "  <thead>\n",
       "    <tr style=\"text-align: right;\">\n",
       "      <th></th>\n",
       "      <th>sample-timestep</th>\n",
       "      <th>class</th>\n",
       "    </tr>\n",
       "  </thead>\n",
       "  <tbody>\n",
       "    <tr>\n",
       "      <th>0</th>\n",
       "      <td>0-0</td>\n",
       "      <td>0</td>\n",
       "    </tr>\n",
       "    <tr>\n",
       "      <th>1</th>\n",
       "      <td>0-1</td>\n",
       "      <td>0</td>\n",
       "    </tr>\n",
       "    <tr>\n",
       "      <th>2</th>\n",
       "      <td>0-2</td>\n",
       "      <td>0</td>\n",
       "    </tr>\n",
       "    <tr>\n",
       "      <th>3</th>\n",
       "      <td>0-3</td>\n",
       "      <td>0</td>\n",
       "    </tr>\n",
       "    <tr>\n",
       "      <th>4</th>\n",
       "      <td>0-4</td>\n",
       "      <td>0</td>\n",
       "    </tr>\n",
       "    <tr>\n",
       "      <th>...</th>\n",
       "      <td>...</td>\n",
       "      <td>...</td>\n",
       "    </tr>\n",
       "    <tr>\n",
       "      <th>32295</th>\n",
       "      <td>322-95</td>\n",
       "      <td>4</td>\n",
       "    </tr>\n",
       "    <tr>\n",
       "      <th>32296</th>\n",
       "      <td>322-96</td>\n",
       "      <td>4</td>\n",
       "    </tr>\n",
       "    <tr>\n",
       "      <th>32297</th>\n",
       "      <td>322-97</td>\n",
       "      <td>4</td>\n",
       "    </tr>\n",
       "    <tr>\n",
       "      <th>32298</th>\n",
       "      <td>322-98</td>\n",
       "      <td>4</td>\n",
       "    </tr>\n",
       "    <tr>\n",
       "      <th>32299</th>\n",
       "      <td>322-99</td>\n",
       "      <td>4</td>\n",
       "    </tr>\n",
       "  </tbody>\n",
       "</table>\n",
       "<p>32300 rows × 2 columns</p>\n",
       "</div>"
      ],
      "text/plain": [
       "      sample-timestep  class\n",
       "0                 0-0      0\n",
       "1                 0-1      0\n",
       "2                 0-2      0\n",
       "3                 0-3      0\n",
       "4                 0-4      0\n",
       "...               ...    ...\n",
       "32295          322-95      4\n",
       "32296          322-96      4\n",
       "32297          322-97      4\n",
       "32298          322-98      4\n",
       "32299          322-99      4\n",
       "\n",
       "[32300 rows x 2 columns]"
      ]
     },
     "execution_count": 433,
     "metadata": {},
     "output_type": "execute_result"
    }
   ],
   "source": [
    "print(data_y_train.shape)\n",
    "data_y_train"
   ]
  },
  {
   "cell_type": "markdown",
   "id": "5e2483f5-7d24-4c52-aa34-19fb902604a8",
   "metadata": {},
   "source": [
    "### Исходный вид"
   ]
  },
  {
   "cell_type": "code",
   "execution_count": 434,
   "id": "0dea797b-ee14-44b0-8869-e080f5e6bf99",
   "metadata": {},
   "outputs": [
    {
     "name": "stdout",
     "output_type": "stream",
     "text": [
      "(323, 100)\n"
     ]
    },
    {
     "data": {
      "text/plain": [
       "array([[0, 0, 0, ..., 0, 0, 0],\n",
       "       [0, 0, 0, ..., 0, 0, 0],\n",
       "       [0, 0, 0, ..., 6, 6, 6],\n",
       "       ...,\n",
       "       [0, 0, 0, ..., 7, 7, 7],\n",
       "       [7, 7, 7, ..., 0, 0, 0],\n",
       "       [0, 0, 0, ..., 4, 4, 4]], dtype=int64)"
      ]
     },
     "execution_count": 434,
     "metadata": {},
     "output_type": "execute_result"
    }
   ],
   "source": [
    "data_y_train[['sample_id', 'timestep']] = data_y_train['sample-timestep'].str.split('-', 1, expand=True).astype(int)\n",
    "data_y_train = data_y_train.pivot(index='sample_id', columns='timestep', values='class')\n",
    "data_y_train_index = data_y_train.index\n",
    "data_y_train = data_y_train.sort_index() # на всякий случай\n",
    "data_y_train = data_y_train.values\n",
    "\n",
    "print(data_y_train.shape)\n",
    "data_y_train"
   ]
  },
  {
   "cell_type": "code",
   "execution_count": 435,
   "id": "ebef8de6",
   "metadata": {},
   "outputs": [
    {
     "name": "stdout",
     "output_type": "stream",
     "text": [
      "(54, 100)\n"
     ]
    },
    {
     "data": {
      "text/plain": [
       "array([[4, 4, 4, ..., 0, 0, 0],\n",
       "       [0, 0, 0, ..., 0, 0, 0],\n",
       "       [0, 0, 0, ..., 0, 0, 0],\n",
       "       ...,\n",
       "       [0, 0, 0, ..., 7, 7, 7],\n",
       "       [7, 7, 7, ..., 0, 0, 0],\n",
       "       [0, 0, 0, ..., 4, 4, 4]], dtype=int64)"
      ]
     },
     "execution_count": 435,
     "metadata": {},
     "output_type": "execute_result"
    }
   ],
   "source": [
    "data_y_test[['sample_id', 'timestep']] = data_y_test['sample-timestep'].str.split('-', 1, expand=True).astype(int)\n",
    "data_y_test = data_y_test.pivot(index='sample_id', columns='timestep', values='class')\n",
    "data_y_test_index = data_y_test.index\n",
    "data_y_test = data_y_test.sort_index() # на всякий случай\n",
    "data_y_test = data_y_test.values\n",
    "\n",
    "print(data_y_test.shape)\n",
    "data_y_test"
   ]
  },
  {
   "cell_type": "markdown",
   "id": "022b8471-63f1-43f6-ab87-74aa5e19c8fa",
   "metadata": {
    "tags": []
   },
   "source": [
    "### Переход от исходного вида к kaggle\n",
    "Потенциально пригодится для формирования `y_test.csv`"
   ]
  },
  {
   "cell_type": "code",
   "execution_count": 436,
   "id": "d2a31ead-0010-4b1e-8a1b-c5d567f5ec77",
   "metadata": {},
   "outputs": [
    {
     "data": {
      "text/html": [
       "<div>\n",
       "<style scoped>\n",
       "    .dataframe tbody tr th:only-of-type {\n",
       "        vertical-align: middle;\n",
       "    }\n",
       "\n",
       "    .dataframe tbody tr th {\n",
       "        vertical-align: top;\n",
       "    }\n",
       "\n",
       "    .dataframe thead th {\n",
       "        text-align: right;\n",
       "    }\n",
       "</style>\n",
       "<table border=\"1\" class=\"dataframe\">\n",
       "  <thead>\n",
       "    <tr style=\"text-align: right;\">\n",
       "      <th></th>\n",
       "      <th>sample-timestep</th>\n",
       "      <th>class</th>\n",
       "    </tr>\n",
       "  </thead>\n",
       "  <tbody>\n",
       "    <tr>\n",
       "      <th>0</th>\n",
       "      <td>0-0</td>\n",
       "      <td>0</td>\n",
       "    </tr>\n",
       "    <tr>\n",
       "      <th>1</th>\n",
       "      <td>0-1</td>\n",
       "      <td>0</td>\n",
       "    </tr>\n",
       "    <tr>\n",
       "      <th>2</th>\n",
       "      <td>0-2</td>\n",
       "      <td>0</td>\n",
       "    </tr>\n",
       "    <tr>\n",
       "      <th>3</th>\n",
       "      <td>0-3</td>\n",
       "      <td>0</td>\n",
       "    </tr>\n",
       "    <tr>\n",
       "      <th>4</th>\n",
       "      <td>0-4</td>\n",
       "      <td>0</td>\n",
       "    </tr>\n",
       "    <tr>\n",
       "      <th>...</th>\n",
       "      <td>...</td>\n",
       "      <td>...</td>\n",
       "    </tr>\n",
       "    <tr>\n",
       "      <th>32295</th>\n",
       "      <td>322-95</td>\n",
       "      <td>4</td>\n",
       "    </tr>\n",
       "    <tr>\n",
       "      <th>32296</th>\n",
       "      <td>322-96</td>\n",
       "      <td>4</td>\n",
       "    </tr>\n",
       "    <tr>\n",
       "      <th>32297</th>\n",
       "      <td>322-97</td>\n",
       "      <td>4</td>\n",
       "    </tr>\n",
       "    <tr>\n",
       "      <th>32298</th>\n",
       "      <td>322-98</td>\n",
       "      <td>4</td>\n",
       "    </tr>\n",
       "    <tr>\n",
       "      <th>32299</th>\n",
       "      <td>322-99</td>\n",
       "      <td>4</td>\n",
       "    </tr>\n",
       "  </tbody>\n",
       "</table>\n",
       "<p>32300 rows × 2 columns</p>\n",
       "</div>"
      ],
      "text/plain": [
       "      sample-timestep  class\n",
       "0                 0-0      0\n",
       "1                 0-1      0\n",
       "2                 0-2      0\n",
       "3                 0-3      0\n",
       "4                 0-4      0\n",
       "...               ...    ...\n",
       "32295          322-95      4\n",
       "32296          322-96      4\n",
       "32297          322-97      4\n",
       "32298          322-98      4\n",
       "32299          322-99      4\n",
       "\n",
       "[32300 rows x 2 columns]"
      ]
     },
     "execution_count": 436,
     "metadata": {},
     "output_type": "execute_result"
    }
   ],
   "source": [
    "df_y_train = []\n",
    "for idx, arr in zip(data_y_train_index, data_y_train):\n",
    "    \n",
    "    series = pd.Series(arr)\n",
    "    series.index = [f\"{idx}-{i}\" for i in series.index]\n",
    "    df_y_train.append(series)\n",
    "    \n",
    "df_y_train = pd.concat(df_y_train)\n",
    "df_y_train = df_y_train.reset_index()\n",
    "df_y_train.columns = [\"sample-timestep\", \"class\"]\n",
    "df_y_train"
   ]
  },
  {
   "cell_type": "code",
   "execution_count": 437,
   "id": "c5edaec1",
   "metadata": {},
   "outputs": [
    {
     "data": {
      "text/html": [
       "<div>\n",
       "<style scoped>\n",
       "    .dataframe tbody tr th:only-of-type {\n",
       "        vertical-align: middle;\n",
       "    }\n",
       "\n",
       "    .dataframe tbody tr th {\n",
       "        vertical-align: top;\n",
       "    }\n",
       "\n",
       "    .dataframe thead th {\n",
       "        text-align: right;\n",
       "    }\n",
       "</style>\n",
       "<table border=\"1\" class=\"dataframe\">\n",
       "  <thead>\n",
       "    <tr style=\"text-align: right;\">\n",
       "      <th></th>\n",
       "      <th>sample-timestep</th>\n",
       "      <th>class</th>\n",
       "    </tr>\n",
       "  </thead>\n",
       "  <tbody>\n",
       "    <tr>\n",
       "      <th>0</th>\n",
       "      <td>323-0</td>\n",
       "      <td>4</td>\n",
       "    </tr>\n",
       "    <tr>\n",
       "      <th>1</th>\n",
       "      <td>323-1</td>\n",
       "      <td>4</td>\n",
       "    </tr>\n",
       "    <tr>\n",
       "      <th>2</th>\n",
       "      <td>323-2</td>\n",
       "      <td>4</td>\n",
       "    </tr>\n",
       "    <tr>\n",
       "      <th>3</th>\n",
       "      <td>323-3</td>\n",
       "      <td>4</td>\n",
       "    </tr>\n",
       "    <tr>\n",
       "      <th>4</th>\n",
       "      <td>323-4</td>\n",
       "      <td>4</td>\n",
       "    </tr>\n",
       "    <tr>\n",
       "      <th>...</th>\n",
       "      <td>...</td>\n",
       "      <td>...</td>\n",
       "    </tr>\n",
       "    <tr>\n",
       "      <th>5395</th>\n",
       "      <td>376-95</td>\n",
       "      <td>4</td>\n",
       "    </tr>\n",
       "    <tr>\n",
       "      <th>5396</th>\n",
       "      <td>376-96</td>\n",
       "      <td>4</td>\n",
       "    </tr>\n",
       "    <tr>\n",
       "      <th>5397</th>\n",
       "      <td>376-97</td>\n",
       "      <td>4</td>\n",
       "    </tr>\n",
       "    <tr>\n",
       "      <th>5398</th>\n",
       "      <td>376-98</td>\n",
       "      <td>4</td>\n",
       "    </tr>\n",
       "    <tr>\n",
       "      <th>5399</th>\n",
       "      <td>376-99</td>\n",
       "      <td>4</td>\n",
       "    </tr>\n",
       "  </tbody>\n",
       "</table>\n",
       "<p>5400 rows × 2 columns</p>\n",
       "</div>"
      ],
      "text/plain": [
       "     sample-timestep  class\n",
       "0              323-0      4\n",
       "1              323-1      4\n",
       "2              323-2      4\n",
       "3              323-3      4\n",
       "4              323-4      4\n",
       "...              ...    ...\n",
       "5395          376-95      4\n",
       "5396          376-96      4\n",
       "5397          376-97      4\n",
       "5398          376-98      4\n",
       "5399          376-99      4\n",
       "\n",
       "[5400 rows x 2 columns]"
      ]
     },
     "execution_count": 437,
     "metadata": {},
     "output_type": "execute_result"
    }
   ],
   "source": [
    "df_y_test = []\n",
    "for idx, arr in zip(data_y_test_index, data_y_test):\n",
    "    \n",
    "    series = pd.Series(arr)\n",
    "    series.index = [f\"{idx}-{i}\" for i in series.index]\n",
    "    df_y_test.append(series)\n",
    "    \n",
    "df_y_test = pd.concat(df_y_test)\n",
    "df_y_test = df_y_test.reset_index()\n",
    "df_y_test.columns = [\"sample-timestep\", \"class\"]\n",
    "df_y_test"
   ]
  },
  {
   "cell_type": "markdown",
   "id": "a6032c55-5dbf-454f-86be-bd26729d16ac",
   "metadata": {},
   "source": [
    "## Объяснение данных"
   ]
  },
  {
   "cell_type": "markdown",
   "id": "06e247e1-cb9b-4063-980f-99ef93d246ae",
   "metadata": {},
   "source": [
    "### Train"
   ]
  },
  {
   "cell_type": "code",
   "execution_count": 400,
   "id": "5510f8f5-eae2-4c6c-80bc-c9274ab03557",
   "metadata": {},
   "outputs": [
    {
     "data": {
      "text/plain": [
       "((323, 40, 100), (323, 100))"
      ]
     },
     "execution_count": 400,
     "metadata": {},
     "output_type": "execute_result"
    }
   ],
   "source": [
    "data_train.shape, data_y_train.shape"
   ]
  },
  {
   "cell_type": "markdown",
   "id": "08167837-d027-4bc4-bf44-a58c950e7f95",
   "metadata": {},
   "source": [
    "`y_train.csv` содержит следующие классы: \n",
    "  - `0` - команда \"Open\";\n",
    "  - `1` - команда \"сгиб мизинца\";\n",
    "  - `2` - команда \"сгиб безымянного пальца\";\n",
    "  - `3` - команда \"сгиб среднего пальца\";\n",
    "  - `4` - команда \"жест пистолет\";\n",
    "  - `5` - команда \"сгиб указательного пальца\";\n",
    "  - `6` - команда \"сгиб большога пальца\";\n",
    "  - `7` - команда \"жест ОК\";\n",
    "  - `8` - команда \"жест grab\";¶"
   ]
  },
  {
   "cell_type": "code",
   "execution_count": 458,
   "id": "acde9948",
   "metadata": {},
   "outputs": [
    {
     "data": {
      "text/plain": [
       "(323, 40, 100)"
      ]
     },
     "execution_count": 458,
     "metadata": {},
     "output_type": "execute_result"
    }
   ],
   "source": [
    "data_train.shape"
   ]
  },
  {
   "cell_type": "code",
   "execution_count": 459,
   "id": "f514d431",
   "metadata": {},
   "outputs": [
    {
     "data": {
      "text/plain": [
       "array([[0, 0, 0, ..., 0, 0, 0],\n",
       "       [0, 0, 0, ..., 0, 0, 0],\n",
       "       [0, 0, 0, ..., 6, 6, 6],\n",
       "       ...,\n",
       "       [0, 0, 0, ..., 7, 7, 7],\n",
       "       [7, 7, 7, ..., 0, 0, 0],\n",
       "       [0, 0, 0, ..., 4, 4, 4]], dtype=int64)"
      ]
     },
     "execution_count": 459,
     "metadata": {},
     "output_type": "execute_result"
    }
   ],
   "source": [
    "data_y_train"
   ]
  },
  {
   "cell_type": "code",
   "execution_count": 456,
   "id": "6b29c9bc-c665-4b1b-9400-8615788d6e1c",
   "metadata": {},
   "outputs": [
    {
     "data": {
      "image/png": "[encoded data removed]",
      "text/plain": [
       "<Figure size 432x288 with 2 Axes>"
      ]
     },
     "metadata": {
      "needs_background": "light"
     },
     "output_type": "display_data"
    }
   ],
   "source": [
    "#i = np.random.randint(data_y_train.shape[0])\n",
    "i = 322\n",
    "fig, axx = plt.subplots(2, 1, sharex=True)\n",
    "    \n",
    "axx[0].plot(data_train[i].T)\n",
    "axx[0].set_title('OMG')\n",
    "\n",
    "axx[1].plot(data_y_train[i])\n",
    "axx[1].set_title('Class/Command')\n",
    "axx[1].set_xlabel('Timestep')\n",
    "axx[1].set_yticks(\n",
    "    np.arange(9),\n",
    "    ['Open', 'Pinky', 'Ring', 'Middle', 'Pistol', 'Index', 'Thumb', 'OK', 'Grab']\n",
    ")\n",
    "\n",
    "plt.suptitle(f'Train {i}')\n",
    "\n",
    "plt.tight_layout()"
   ]
  },
  {
   "cell_type": "markdown",
   "id": "0613f763-a862-45ec-a13d-ed5726ee1529",
   "metadata": {},
   "source": [
    "### Test\n",
    "\n",
    "Как видно из визуализации, для теста нет целевой переменной.\n",
    "\n",
    "Это и есть задача хакатона - предсказать, **какая команда была выполнена пользователем и в какое время**."
   ]
  },
  {
   "cell_type": "code",
   "execution_count": 404,
   "id": "e8b30904-b23e-488b-a96b-4dbff225a98c",
   "metadata": {},
   "outputs": [
    {
     "data": {
      "image/png": "[encoded data removed]",
      "text/plain": [
       "<Figure size 432x288 with 2 Axes>"
      ]
     },
     "metadata": {
      "needs_background": "light"
     },
     "output_type": "display_data"
    }
   ],
   "source": [
    "i = np.random.randint(data_y_test.shape[0])\n",
    "fig, axx = plt.subplots(2, 1, sharex=True)\n",
    "    \n",
    "axx[0].plot(data_test[i].T)\n",
    "axx[0].set_title('OMG')\n",
    "\n",
    "axx[1].plot(data_y_test[i])\n",
    "\n",
    "axx[1].set_title('Class/Command')\n",
    "axx[1].set_xlabel('Timestep')\n",
    "axx[1].set_yticks(\n",
    "    np.arange(9),\n",
    "    ['Open', 'Pinky', 'Ring', 'Middle', 'Pistol', 'Index', 'Thumb', 'OK', 'Grab']\n",
    ")\n",
    "\n",
    "plt.suptitle(f'Test')\n",
    "\n",
    "plt.tight_layout()"
   ]
  },
  {
   "cell_type": "markdown",
   "id": "75699719-53c9-49ac-9745-e31a7f4f3bda",
   "metadata": {
    "tags": []
   },
   "source": [
    "# Baseline"
   ]
  },
  {
   "cell_type": "code",
   "execution_count": 405,
   "id": "3fcdd06c",
   "metadata": {},
   "outputs": [],
   "source": [
    "# Подготовом данные к загрузке в модель\n",
    "list_1 = []\n",
    "list_2 = []\n",
    "list_3 = []\n",
    "list_4 = []\n",
    "\n",
    "for i in range(data_train.shape[0]):\n",
    "    list_1.append(data_train[i].T)\n",
    "\n",
    "arr_1 = np.array(list_1)\n",
    "\n",
    "for i in range(arr_1.shape[0]):\n",
    "    list_2.extend(arr_1[i])\n",
    "\n",
    "for i in range(data_test.shape[0]):\n",
    "    list_3.append(data_test[i].T)\n",
    "\n",
    "arr_2 = np.array(list_3)\n",
    "\n",
    "for i in range(arr_2.shape[0]):\n",
    "    list_4.extend(arr_2[i])\n",
    "    \n",
    "X = np.array(list_2)\n",
    "\n",
    "X_sub = np.array(list_4)"
   ]
  },
  {
   "cell_type": "code",
   "execution_count": 406,
   "id": "43706205",
   "metadata": {},
   "outputs": [
    {
     "data": {
      "text/plain": [
       "((32300, 40), (5400, 40))"
      ]
     },
     "execution_count": 406,
     "metadata": {},
     "output_type": "execute_result"
    }
   ],
   "source": [
    "X.shape, X_sub.shape"
   ]
  },
  {
   "cell_type": "code",
   "execution_count": 407,
   "id": "1577ec40",
   "metadata": {},
   "outputs": [],
   "source": [
    "y = df_y_train.drop('sample-timestep', axis=1)\n",
    "y = np.array(y).ravel()"
   ]
  },
  {
   "cell_type": "code",
   "execution_count": 408,
   "id": "6e41bcbc",
   "metadata": {},
   "outputs": [
    {
     "name": "stdout",
     "output_type": "stream",
     "text": [
      "(27455, 40) (27455,) (4845, 40) (4845,)\n"
     ]
    }
   ],
   "source": [
    "X_train, X_valid, y_train, y_valid = train_test_split(\n",
    "    X, y, \n",
    "    test_size=0.15, \n",
    "    random_state=42\n",
    ")\n",
    "print(X_train.shape, y_train.shape, X_valid.shape, y_valid.shape)"
   ]
  },
  {
   "cell_type": "code",
   "execution_count": 409,
   "id": "081594fa",
   "metadata": {},
   "outputs": [],
   "source": [
    "# Отмасштабируем данные\n",
    "scaler = StandardScaler()\n",
    "scaler.fit(X)\n",
    "\n",
    "X_train = scaler.transform(X_train)\n",
    "X_valid = scaler.transform(X_valid)\n",
    "X_sub = scaler.transform(X_sub)"
   ]
  },
  {
   "cell_type": "code",
   "execution_count": 410,
   "id": "8bfeca53",
   "metadata": {},
   "outputs": [
    {
     "name": "stdout",
     "output_type": "stream",
     "text": [
      "\n",
      "RandomForestClassifier\n",
      "F-1 score on train: 1.000000\n",
      "F-1 score on valid: 0.956884\n",
      "\n",
      "ExtraTreeClassifier\n",
      "F-1 score on train: 1.000000\n",
      "F-1 score on valid: 0.857183\n",
      "\n",
      "DecisionTreeClassifier\n",
      "F-1 score on train: 1.000000\n",
      "F-1 score on valid: 0.911062\n"
     ]
    }
   ],
   "source": [
    "# Попробуем несколько классификаторов (с настройками по умолчанию)\n",
    "from sklearn.tree import DecisionTreeClassifier\n",
    "from sklearn.tree import ExtraTreeClassifier\n",
    "from sklearn.ensemble import RandomForestClassifier\n",
    "from sklearn import metrics\n",
    "\n",
    "RFC = RandomForestClassifier(random_state=42)\n",
    "ETC = ExtraTreeClassifier(random_state=42)\n",
    "DTC = DecisionTreeClassifier(random_state=42)\n",
    "\n",
    "RFC.fit(X_train, y_train)\n",
    "ETC.fit(X_train, y_train)\n",
    "DTC.fit(X_train, y_train)\n",
    "\n",
    "y_train_pred_rfc = RFC.predict(X_train)\n",
    "y_valid_pred_rfc = RFC.predict(X_valid)\n",
    "y_train_pred_etc = ETC.predict(X_train)\n",
    "y_valid_pred_etc = ETC.predict(X_valid)\n",
    "y_train_pred_dtc = DTC.predict(X_train)\n",
    "y_valid_pred_dtc = DTC.predict(X_valid)\n",
    "\n",
    "print('\\nRandomForestClassifier')\n",
    "print('F-1 score on train: {:.6f}'.format(metrics.f1_score(y_train, y_train_pred_rfc, average=\"macro\")))\n",
    "print('F-1 score on valid: {:.6f}'.format(metrics.f1_score(y_valid, y_valid_pred_rfc, average=\"macro\")))\n",
    "print('\\nExtraTreeClassifier')\n",
    "print('F-1 score on train: {:.6f}'.format(metrics.f1_score(y_train, y_train_pred_etc, average=\"macro\")))\n",
    "print('F-1 score on valid: {:.6f}'.format(metrics.f1_score(y_valid, y_valid_pred_etc, average=\"macro\")))\n",
    "print('\\nDecisionTreeClassifier')\n",
    "print('F-1 score on train: {:.6f}'.format(metrics.f1_score(y_train, y_train_pred_dtc, average=\"macro\")))\n",
    "print('F-1 score on valid: {:.6f}'.format(metrics.f1_score(y_valid, y_valid_pred_dtc, average=\"macro\")))"
   ]
  },
  {
   "cell_type": "code",
   "execution_count": 31,
   "id": "7b9eb70d",
   "metadata": {},
   "outputs": [],
   "source": [
    "# Подберём гиперпараметры \n",
    "import optuna\n",
    "def optuna_rfc(trial):\n",
    "  # задаем пространства поиска гиперпараметров\n",
    "  n_estimators = trial.suggest_int('n_estimators', 70, 570, 1)\n",
    "  max_depth = trial.suggest_int('max_depth', 10, 50, 1)\n",
    "  min_samples_leaf = trial.suggest_int('min_samples_leaf', 2, 6, 1)\n",
    "  criterion = trial.suggest_categorical('criterion', ['gini', 'entropy'])\n",
    "\n",
    "  # создаем модель\n",
    "  model_op = RandomForestClassifier(n_estimators=n_estimators,\n",
    "                                    max_depth=max_depth,\n",
    "                                    min_samples_leaf=min_samples_leaf,\n",
    "                                    criterion=criterion,\n",
    "                                    random_state=42)\n",
    "  # обучаем модель\n",
    "  model_op.fit(X_train, y_train)\n",
    "  score = metrics.f1_score(y_valid, model_op.predict(X_valid), average=\"macro\")\n",
    "\n",
    "  return score"
   ]
  },
  {
   "cell_type": "code",
   "execution_count": 686,
   "id": "d50610ff",
   "metadata": {},
   "outputs": [
    {
     "name": "stderr",
     "output_type": "stream",
     "text": [
      "\u001b[32m[I 2023-04-19 14:08:16,110]\u001b[0m A new study created in memory with name: RandomForestClassifier\u001b[0m\n",
      "C:\\Users\\AubakirovMA\\AppData\\Local\\Temp\\ipykernel_14036\\1643953026.py:16: DataConversionWarning:\n",
      "\n",
      "A column-vector y was passed when a 1d array was expected. Please change the shape of y to (n_samples,), for example using ravel().\n",
      "\n",
      "\u001b[32m[I 2023-04-19 14:08:31,412]\u001b[0m Trial 0 finished with value: 0.9562517512881263 and parameters: {'n_estimators': 166, 'max_depth': 49, 'min_samples_leaf': 2, 'criterion': 'entropy'}. Best is trial 0 with value: 0.9562517512881263.\u001b[0m\n",
      "C:\\Users\\AubakirovMA\\AppData\\Local\\Temp\\ipykernel_14036\\1643953026.py:16: DataConversionWarning:\n",
      "\n",
      "A column-vector y was passed when a 1d array was expected. Please change the shape of y to (n_samples,), for example using ravel().\n",
      "\n",
      "\u001b[32m[I 2023-04-19 14:08:36,207]\u001b[0m Trial 1 finished with value: 0.8524449518136293 and parameters: {'n_estimators': 82, 'max_depth': 12, 'min_samples_leaf': 3, 'criterion': 'gini'}. Best is trial 0 with value: 0.9562517512881263.\u001b[0m\n",
      "C:\\Users\\AubakirovMA\\AppData\\Local\\Temp\\ipykernel_14036\\1643953026.py:16: DataConversionWarning:\n",
      "\n",
      "A column-vector y was passed when a 1d array was expected. Please change the shape of y to (n_samples,), for example using ravel().\n",
      "\n",
      "\u001b[32m[I 2023-04-19 14:09:09,752]\u001b[0m Trial 2 finished with value: 0.8387053920147508 and parameters: {'n_estimators': 515, 'max_depth': 10, 'min_samples_leaf': 5, 'criterion': 'entropy'}. Best is trial 0 with value: 0.9562517512881263.\u001b[0m\n",
      "C:\\Users\\AubakirovMA\\AppData\\Local\\Temp\\ipykernel_14036\\1643953026.py:16: DataConversionWarning:\n",
      "\n",
      "A column-vector y was passed when a 1d array was expected. Please change the shape of y to (n_samples,), for example using ravel().\n",
      "\n",
      "\u001b[32m[I 2023-04-19 14:09:26,272]\u001b[0m Trial 3 finished with value: 0.9164855638584317 and parameters: {'n_estimators': 216, 'max_depth': 28, 'min_samples_leaf': 6, 'criterion': 'gini'}. Best is trial 0 with value: 0.9562517512881263.\u001b[0m\n",
      "C:\\Users\\AubakirovMA\\AppData\\Local\\Temp\\ipykernel_14036\\1643953026.py:16: DataConversionWarning:\n",
      "\n",
      "A column-vector y was passed when a 1d array was expected. Please change the shape of y to (n_samples,), for example using ravel().\n",
      "\n",
      "\u001b[32m[I 2023-04-19 14:10:02,101]\u001b[0m Trial 4 finished with value: 0.9454517633438171 and parameters: {'n_estimators': 411, 'max_depth': 20, 'min_samples_leaf': 4, 'criterion': 'entropy'}. Best is trial 0 with value: 0.9562517512881263.\u001b[0m\n",
      "C:\\Users\\AubakirovMA\\AppData\\Local\\Temp\\ipykernel_14036\\1643953026.py:16: DataConversionWarning:\n",
      "\n",
      "A column-vector y was passed when a 1d array was expected. Please change the shape of y to (n_samples,), for example using ravel().\n",
      "\n",
      "\u001b[32m[I 2023-04-19 14:10:21,437]\u001b[0m Trial 5 finished with value: 0.9483524966660494 and parameters: {'n_estimators': 232, 'max_depth': 41, 'min_samples_leaf': 2, 'criterion': 'gini'}. Best is trial 0 with value: 0.9562517512881263.\u001b[0m\n",
      "C:\\Users\\AubakirovMA\\AppData\\Local\\Temp\\ipykernel_14036\\1643953026.py:16: DataConversionWarning:\n",
      "\n",
      "A column-vector y was passed when a 1d array was expected. Please change the shape of y to (n_samples,), for example using ravel().\n",
      "\n",
      "\u001b[32m[I 2023-04-19 14:10:59,877]\u001b[0m Trial 6 finished with value: 0.9500591961570127 and parameters: {'n_estimators': 460, 'max_depth': 49, 'min_samples_leaf': 2, 'criterion': 'gini'}. Best is trial 0 with value: 0.9562517512881263.\u001b[0m\n",
      "C:\\Users\\AubakirovMA\\AppData\\Local\\Temp\\ipykernel_14036\\1643953026.py:16: DataConversionWarning:\n",
      "\n",
      "A column-vector y was passed when a 1d array was expected. Please change the shape of y to (n_samples,), for example using ravel().\n",
      "\n",
      "\u001b[32m[I 2023-04-19 14:11:42,985]\u001b[0m Trial 7 finished with value: 0.9205371746154629 and parameters: {'n_estimators': 560, 'max_depth': 34, 'min_samples_leaf': 6, 'criterion': 'gini'}. Best is trial 0 with value: 0.9562517512881263.\u001b[0m\n",
      "C:\\Users\\AubakirovMA\\AppData\\Local\\Temp\\ipykernel_14036\\1643953026.py:16: DataConversionWarning:\n",
      "\n",
      "A column-vector y was passed when a 1d array was expected. Please change the shape of y to (n_samples,), for example using ravel().\n",
      "\n",
      "\u001b[32m[I 2023-04-19 14:11:53,653]\u001b[0m Trial 8 finished with value: 0.9196815002726938 and parameters: {'n_estimators': 140, 'max_depth': 45, 'min_samples_leaf': 6, 'criterion': 'gini'}. Best is trial 0 with value: 0.9562517512881263.\u001b[0m\n",
      "C:\\Users\\AubakirovMA\\AppData\\Local\\Temp\\ipykernel_14036\\1643953026.py:16: DataConversionWarning:\n",
      "\n",
      "A column-vector y was passed when a 1d array was expected. Please change the shape of y to (n_samples,), for example using ravel().\n",
      "\n",
      "\u001b[32m[I 2023-04-19 14:12:28,627]\u001b[0m Trial 9 finished with value: 0.9441729676364149 and parameters: {'n_estimators': 405, 'max_depth': 18, 'min_samples_leaf': 4, 'criterion': 'entropy'}. Best is trial 0 with value: 0.9562517512881263.\u001b[0m\n",
      "C:\\Users\\AubakirovMA\\AppData\\Local\\Temp\\ipykernel_14036\\1643953026.py:16: DataConversionWarning:\n",
      "\n",
      "A column-vector y was passed when a 1d array was expected. Please change the shape of y to (n_samples,), for example using ravel().\n",
      "\n",
      "\u001b[32m[I 2023-04-19 14:12:54,790]\u001b[0m Trial 10 finished with value: 0.9539997905101154 and parameters: {'n_estimators': 291, 'max_depth': 38, 'min_samples_leaf': 3, 'criterion': 'entropy'}. Best is trial 0 with value: 0.9562517512881263.\u001b[0m\n",
      "C:\\Users\\AubakirovMA\\AppData\\Local\\Temp\\ipykernel_14036\\1643953026.py:16: DataConversionWarning:\n",
      "\n",
      "A column-vector y was passed when a 1d array was expected. Please change the shape of y to (n_samples,), for example using ravel().\n",
      "\n",
      "\u001b[32m[I 2023-04-19 14:13:22,647]\u001b[0m Trial 11 finished with value: 0.9531469119785161 and parameters: {'n_estimators': 306, 'max_depth': 39, 'min_samples_leaf': 3, 'criterion': 'entropy'}. Best is trial 0 with value: 0.9562517512881263.\u001b[0m\n",
      "C:\\Users\\AubakirovMA\\AppData\\Local\\Temp\\ipykernel_14036\\1643953026.py:16: DataConversionWarning:\n",
      "\n",
      "A column-vector y was passed when a 1d array was expected. Please change the shape of y to (n_samples,), for example using ravel().\n",
      "\n",
      "\u001b[32m[I 2023-04-19 14:13:46,997]\u001b[0m Trial 12 finished with value: 0.953805292726772 and parameters: {'n_estimators': 281, 'max_depth': 50, 'min_samples_leaf': 3, 'criterion': 'entropy'}. Best is trial 0 with value: 0.9562517512881263.\u001b[0m\n",
      "C:\\Users\\AubakirovMA\\AppData\\Local\\Temp\\ipykernel_14036\\1643953026.py:16: DataConversionWarning:\n",
      "\n",
      "A column-vector y was passed when a 1d array was expected. Please change the shape of y to (n_samples,), for example using ravel().\n",
      "\n",
      "\u001b[32m[I 2023-04-19 14:14:01,979]\u001b[0m Trial 13 finished with value: 0.9562793883852573 and parameters: {'n_estimators': 165, 'max_depth': 34, 'min_samples_leaf': 2, 'criterion': 'entropy'}. Best is trial 13 with value: 0.9562793883852573.\u001b[0m\n",
      "C:\\Users\\AubakirovMA\\AppData\\Local\\Temp\\ipykernel_14036\\1643953026.py:16: DataConversionWarning:\n",
      "\n",
      "A column-vector y was passed when a 1d array was expected. Please change the shape of y to (n_samples,), for example using ravel().\n",
      "\n",
      "\u001b[32m[I 2023-04-19 14:14:17,170]\u001b[0m Trial 14 finished with value: 0.956307064461908 and parameters: {'n_estimators': 170, 'max_depth': 29, 'min_samples_leaf': 2, 'criterion': 'entropy'}. Best is trial 14 with value: 0.956307064461908.\u001b[0m\n",
      "C:\\Users\\AubakirovMA\\AppData\\Local\\Temp\\ipykernel_14036\\1643953026.py:16: DataConversionWarning:\n",
      "\n",
      "A column-vector y was passed when a 1d array was expected. Please change the shape of y to (n_samples,), for example using ravel().\n",
      "\n",
      "\u001b[32m[I 2023-04-19 14:14:24,653]\u001b[0m Trial 15 finished with value: 0.9559079554507783 and parameters: {'n_estimators': 84, 'max_depth': 28, 'min_samples_leaf': 2, 'criterion': 'entropy'}. Best is trial 14 with value: 0.956307064461908.\u001b[0m\n",
      "C:\\Users\\AubakirovMA\\AppData\\Local\\Temp\\ipykernel_14036\\1643953026.py:16: DataConversionWarning:\n",
      "\n",
      "A column-vector y was passed when a 1d array was expected. Please change the shape of y to (n_samples,), for example using ravel().\n",
      "\n",
      "\u001b[32m[I 2023-04-19 14:14:39,351]\u001b[0m Trial 16 finished with value: 0.9562878780089297 and parameters: {'n_estimators': 164, 'max_depth': 32, 'min_samples_leaf': 2, 'criterion': 'entropy'}. Best is trial 14 with value: 0.956307064461908.\u001b[0m\n",
      "C:\\Users\\AubakirovMA\\AppData\\Local\\Temp\\ipykernel_14036\\1643953026.py:16: DataConversionWarning:\n",
      "\n",
      "A column-vector y was passed when a 1d array was expected. Please change the shape of y to (n_samples,), for example using ravel().\n",
      "\n",
      "\u001b[32m[I 2023-04-19 14:14:56,935]\u001b[0m Trial 17 finished with value: 0.9399435138210939 and parameters: {'n_estimators': 212, 'max_depth': 24, 'min_samples_leaf': 5, 'criterion': 'entropy'}. Best is trial 14 with value: 0.956307064461908.\u001b[0m\n",
      "C:\\Users\\AubakirovMA\\AppData\\Local\\Temp\\ipykernel_14036\\1643953026.py:16: DataConversionWarning:\n",
      "\n",
      "A column-vector y was passed when a 1d array was expected. Please change the shape of y to (n_samples,), for example using ravel().\n",
      "\n",
      "\u001b[32m[I 2023-04-19 14:15:28,408]\u001b[0m Trial 18 finished with value: 0.9540726200879869 and parameters: {'n_estimators': 356, 'max_depth': 31, 'min_samples_leaf': 3, 'criterion': 'entropy'}. Best is trial 14 with value: 0.956307064461908.\u001b[0m\n",
      "C:\\Users\\AubakirovMA\\AppData\\Local\\Temp\\ipykernel_14036\\1643953026.py:16: DataConversionWarning:\n",
      "\n",
      "A column-vector y was passed when a 1d array was expected. Please change the shape of y to (n_samples,), for example using ravel().\n",
      "\n",
      "\u001b[32m[I 2023-04-19 14:15:39,534]\u001b[0m Trial 19 finished with value: 0.948002064007744 and parameters: {'n_estimators': 129, 'max_depth': 22, 'min_samples_leaf': 4, 'criterion': 'entropy'}. Best is trial 14 with value: 0.956307064461908.\u001b[0m\n"
     ]
    },
    {
     "name": "stdout",
     "output_type": "stream",
     "text": [
      "CPU times: total: 7min 21s\n",
      "Wall time: 7min 23s\n"
     ]
    }
   ],
   "source": [
    "%%time\n",
    "# cоздаем объект исследования\n",
    "# можем напрямую указать, что нам необходимо максимизировать метрику direction=\"maximize\"\n",
    "study = optuna.create_study(study_name=\"RandomForestClassifier\", direction=\"maximize\")\n",
    "# ищем лучшую комбинацию гиперпараметров n_trials раз\n",
    "study.optimize(optuna_rfc, n_trials=20)"
   ]
  },
  {
   "cell_type": "code",
   "execution_count": 714,
   "id": "5917c834",
   "metadata": {},
   "outputs": [
    {
     "name": "stdout",
     "output_type": "stream",
     "text": [
      "Наилучшие значения гиперпараметров {'n_estimators': 132, 'max_depth': 25, 'min_samples_leaf': 2, 'criterion': 'entropy'}\n",
      "f1_score на обучающем наборе: 0.95654\n"
     ]
    }
   ],
   "source": [
    "# выводим результаты на обучающей выборке\n",
    "print(\"Наилучшие значения гиперпараметров {}\".format(study.best_params))\n",
    "print(\"f1_score на обучающем наборе: {:.5f}\".format(study.best_value))"
   ]
  },
  {
   "cell_type": "code",
   "execution_count": 711,
   "id": "bedb58d0",
   "metadata": {},
   "outputs": [
    {
     "name": "stderr",
     "output_type": "stream",
     "text": [
      "\u001b[32m[I 2023-04-19 14:26:04,636]\u001b[0m Trial 22 finished with value: 0.9565368756568815 and parameters: {'n_estimators': 132, 'max_depth': 25, 'min_samples_leaf': 2, 'criterion': 'entropy'}. Best is trial 22 with value: 0.9565368756568815.\u001b[0m\n",
      "\u001b[32m[I 2023-04-19 14:26:15,640]\u001b[0m Trial 23 finished with value: 0.9523564091779906 and parameters: {'n_estimators': 121, 'max_depth': 26, 'min_samples_leaf': 3, 'criterion': 'entropy'}. Best is trial 22 with value: 0.9565368756568815.\u001b[0m\n"
     ]
    }
   ],
   "source": [
    "study.optimize(optuna_rfc, n_trials=2)"
   ]
  },
  {
   "cell_type": "code",
   "execution_count": 690,
   "id": "54c998c0",
   "metadata": {},
   "outputs": [
    {
     "data": {
      "application/vnd.plotly.v1+json": {
       "config": {
        "plotlyServerURL": "https://plot.ly"
       },
       "data": [
        {
         "mode": "markers",
         "name": "f1_score",
         "type": "scatter",
         "x": [
          0,
          1,
          2,
          3,
          4,
          5,
          6,
          7,
          8,
          9,
          10,
          11,
          12,
          13,
          14,
          15,
          16,
          17,
          18,
          19
         ],
         "y": [
          0.9562517512881263,
          0.8524449518136293,
          0.8387053920147508,
          0.9164855638584317,
          0.9454517633438171,
          0.9483524966660494,
          0.9500591961570127,
          0.9205371746154629,
          0.9196815002726938,
          0.9441729676364149,
          0.9539997905101154,
          0.9531469119785161,
          0.953805292726772,
          0.9562793883852573,
          0.956307064461908,
          0.9559079554507783,
          0.9562878780089297,
          0.9399435138210939,
          0.9540726200879869,
          0.948002064007744
         ]
        },
        {
         "name": "Best Value",
         "type": "scatter",
         "x": [
          0,
          1,
          2,
          3,
          4,
          5,
          6,
          7,
          8,
          9,
          10,
          11,
          12,
          13,
          14,
          15,
          16,
          17,
          18,
          19
         ],
         "y": [
          0.9562517512881263,
          0.9562517512881263,
          0.9562517512881263,
          0.9562517512881263,
          0.9562517512881263,
          0.9562517512881263,
          0.9562517512881263,
          0.9562517512881263,
          0.9562517512881263,
          0.9562517512881263,
          0.9562517512881263,
          0.9562517512881263,
          0.9562517512881263,
          0.9562793883852573,
          0.956307064461908,
          0.956307064461908,
          0.956307064461908,
          0.956307064461908,
          0.956307064461908,
          0.956307064461908
         ]
        }
       ],
       "layout": {
        "template": {
         "data": {
          "bar": [
           {
            "error_x": {
             "color": "#2a3f5f"
            },
            "error_y": {
             "color": "#2a3f5f"
            },
            "marker": {
             "line": {
              "color": "#E5ECF6",
              "width": 0.5
             },
             "pattern": {
              "fillmode": "overlay",
              "size": 10,
              "solidity": 0.2
             }
            },
            "type": "bar"
           }
          ],
          "barpolar": [
           {
            "marker": {
             "line": {
              "color": "#E5ECF6",
              "width": 0.5
             },
             "pattern": {
              "fillmode": "overlay",
              "size": 10,
              "solidity": 0.2
             }
            },
            "type": "barpolar"
           }
          ],
          "carpet": [
           {
            "aaxis": {
             "endlinecolor": "#2a3f5f",
             "gridcolor": "white",
             "linecolor": "white",
             "minorgridcolor": "white",
             "startlinecolor": "#2a3f5f"
            },
            "baxis": {
             "endlinecolor": "#2a3f5f",
             "gridcolor": "white",
             "linecolor": "white",
             "minorgridcolor": "white",
             "startlinecolor": "#2a3f5f"
            },
            "type": "carpet"
           }
          ],
          "choropleth": [
           {
            "colorbar": {
             "outlinewidth": 0,
             "ticks": ""
            },
            "type": "choropleth"
           }
          ],
          "contour": [
           {
            "colorbar": {
             "outlinewidth": 0,
             "ticks": ""
            },
            "colorscale": [
             [
              0,
              "#0d0887"
             ],
             [
              0.1111111111111111,
              "#46039f"
             ],
             [
              0.2222222222222222,
              "#7201a8"
             ],
             [
              0.3333333333333333,
              "#9c179e"
             ],
             [
              0.4444444444444444,
              "#bd3786"
             ],
             [
              0.5555555555555556,
              "#d8576b"
             ],
             [
              0.6666666666666666,
              "#ed7953"
             ],
             [
              0.7777777777777778,
              "#fb9f3a"
             ],
             [
              0.8888888888888888,
              "#fdca26"
             ],
             [
              1,
              "#f0f921"
             ]
            ],
            "type": "contour"
           }
          ],
          "contourcarpet": [
           {
            "colorbar": {
             "outlinewidth": 0,
             "ticks": ""
            },
            "type": "contourcarpet"
           }
          ],
          "heatmap": [
           {
            "colorbar": {
             "outlinewidth": 0,
             "ticks": ""
            },
            "colorscale": [
             [
              0,
              "#0d0887"
             ],
             [
              0.1111111111111111,
              "#46039f"
             ],
             [
              0.2222222222222222,
              "#7201a8"
             ],
             [
              0.3333333333333333,
              "#9c179e"
             ],
             [
              0.4444444444444444,
              "#bd3786"
             ],
             [
              0.5555555555555556,
              "#d8576b"
             ],
             [
              0.6666666666666666,
              "#ed7953"
             ],
             [
              0.7777777777777778,
              "#fb9f3a"
             ],
             [
              0.8888888888888888,
              "#fdca26"
             ],
             [
              1,
              "#f0f921"
             ]
            ],
            "type": "heatmap"
           }
          ],
          "heatmapgl": [
           {
            "colorbar": {
             "outlinewidth": 0,
             "ticks": ""
            },
            "colorscale": [
             [
              0,
              "#0d0887"
             ],
             [
              0.1111111111111111,
              "#46039f"
             ],
             [
              0.2222222222222222,
              "#7201a8"
             ],
             [
              0.3333333333333333,
              "#9c179e"
             ],
             [
              0.4444444444444444,
              "#bd3786"
             ],
             [
              0.5555555555555556,
              "#d8576b"
             ],
             [
              0.6666666666666666,
              "#ed7953"
             ],
             [
              0.7777777777777778,
              "#fb9f3a"
             ],
             [
              0.8888888888888888,
              "#fdca26"
             ],
             [
              1,
              "#f0f921"
             ]
            ],
            "type": "heatmapgl"
           }
          ],
          "histogram": [
           {
            "marker": {
             "pattern": {
              "fillmode": "overlay",
              "size": 10,
              "solidity": 0.2
             }
            },
            "type": "histogram"
           }
          ],
          "histogram2d": [
           {
            "colorbar": {
             "outlinewidth": 0,
             "ticks": ""
            },
            "colorscale": [
             [
              0,
              "#0d0887"
             ],
             [
              0.1111111111111111,
              "#46039f"
             ],
             [
              0.2222222222222222,
              "#7201a8"
             ],
             [
              0.3333333333333333,
              "#9c179e"
             ],
             [
              0.4444444444444444,
              "#bd3786"
             ],
             [
              0.5555555555555556,
              "#d8576b"
             ],
             [
              0.6666666666666666,
              "#ed7953"
             ],
             [
              0.7777777777777778,
              "#fb9f3a"
             ],
             [
              0.8888888888888888,
              "#fdca26"
             ],
             [
              1,
              "#f0f921"
             ]
            ],
            "type": "histogram2d"
           }
          ],
          "histogram2dcontour": [
           {
            "colorbar": {
             "outlinewidth": 0,
             "ticks": ""
            },
            "colorscale": [
             [
              0,
              "#0d0887"
             ],
             [
              0.1111111111111111,
              "#46039f"
             ],
             [
              0.2222222222222222,
              "#7201a8"
             ],
             [
              0.3333333333333333,
              "#9c179e"
             ],
             [
              0.4444444444444444,
              "#bd3786"
             ],
             [
              0.5555555555555556,
              "#d8576b"
             ],
             [
              0.6666666666666666,
              "#ed7953"
             ],
             [
              0.7777777777777778,
              "#fb9f3a"
             ],
             [
              0.8888888888888888,
              "#fdca26"
             ],
             [
              1,
              "#f0f921"
             ]
            ],
            "type": "histogram2dcontour"
           }
          ],
          "mesh3d": [
           {
            "colorbar": {
             "outlinewidth": 0,
             "ticks": ""
            },
            "type": "mesh3d"
           }
          ],
          "parcoords": [
           {
            "line": {
             "colorbar": {
              "outlinewidth": 0,
              "ticks": ""
             }
            },
            "type": "parcoords"
           }
          ],
          "pie": [
           {
            "automargin": true,
            "type": "pie"
           }
          ],
          "scatter": [
           {
            "marker": {
             "colorbar": {
              "outlinewidth": 0,
              "ticks": ""
             }
            },
            "type": "scatter"
           }
          ],
          "scatter3d": [
           {
            "line": {
             "colorbar": {
              "outlinewidth": 0,
              "ticks": ""
             }
            },
            "marker": {
             "colorbar": {
              "outlinewidth": 0,
              "ticks": ""
             }
            },
            "type": "scatter3d"
           }
          ],
          "scattercarpet": [
           {
            "marker": {
             "colorbar": {
              "outlinewidth": 0,
              "ticks": ""
             }
            },
            "type": "scattercarpet"
           }
          ],
          "scattergeo": [
           {
            "marker": {
             "colorbar": {
              "outlinewidth": 0,
              "ticks": ""
             }
            },
            "type": "scattergeo"
           }
          ],
          "scattergl": [
           {
            "marker": {
             "colorbar": {
              "outlinewidth": 0,
              "ticks": ""
             }
            },
            "type": "scattergl"
           }
          ],
          "scattermapbox": [
           {
            "marker": {
             "colorbar": {
              "outlinewidth": 0,
              "ticks": ""
             }
            },
            "type": "scattermapbox"
           }
          ],
          "scatterpolar": [
           {
            "marker": {
             "colorbar": {
              "outlinewidth": 0,
              "ticks": ""
             }
            },
            "type": "scatterpolar"
           }
          ],
          "scatterpolargl": [
           {
            "marker": {
             "colorbar": {
              "outlinewidth": 0,
              "ticks": ""
             }
            },
            "type": "scatterpolargl"
           }
          ],
          "scatterternary": [
           {
            "marker": {
             "colorbar": {
              "outlinewidth": 0,
              "ticks": ""
             }
            },
            "type": "scatterternary"
           }
          ],
          "surface": [
           {
            "colorbar": {
             "outlinewidth": 0,
             "ticks": ""
            },
            "colorscale": [
             [
              0,
              "#0d0887"
             ],
             [
              0.1111111111111111,
              "#46039f"
             ],
             [
              0.2222222222222222,
              "#7201a8"
             ],
             [
              0.3333333333333333,
              "#9c179e"
             ],
             [
              0.4444444444444444,
              "#bd3786"
             ],
             [
              0.5555555555555556,
              "#d8576b"
             ],
             [
              0.6666666666666666,
              "#ed7953"
             ],
             [
              0.7777777777777778,
              "#fb9f3a"
             ],
             [
              0.8888888888888888,
              "#fdca26"
             ],
             [
              1,
              "#f0f921"
             ]
            ],
            "type": "surface"
           }
          ],
          "table": [
           {
            "cells": {
             "fill": {
              "color": "#EBF0F8"
             },
             "line": {
              "color": "white"
             }
            },
            "header": {
             "fill": {
              "color": "#C8D4E3"
             },
             "line": {
              "color": "white"
             }
            },
            "type": "table"
           }
          ]
         },
         "layout": {
          "annotationdefaults": {
           "arrowcolor": "#2a3f5f",
           "arrowhead": 0,
           "arrowwidth": 1
          },
          "autotypenumbers": "strict",
          "coloraxis": {
           "colorbar": {
            "outlinewidth": 0,
            "ticks": ""
           }
          },
          "colorscale": {
           "diverging": [
            [
             0,
             "#8e0152"
            ],
            [
             0.1,
             "#c51b7d"
            ],
            [
             0.2,
             "#de77ae"
            ],
            [
             0.3,
             "#f1b6da"
            ],
            [
             0.4,
             "#fde0ef"
            ],
            [
             0.5,
             "#f7f7f7"
            ],
            [
             0.6,
             "#e6f5d0"
            ],
            [
             0.7,
             "#b8e186"
            ],
            [
             0.8,
             "#7fbc41"
            ],
            [
             0.9,
             "#4d9221"
            ],
            [
             1,
             "#276419"
            ]
           ],
           "sequential": [
            [
             0,
             "#0d0887"
            ],
            [
             0.1111111111111111,
             "#46039f"
            ],
            [
             0.2222222222222222,
             "#7201a8"
            ],
            [
             0.3333333333333333,
             "#9c179e"
            ],
            [
             0.4444444444444444,
             "#bd3786"
            ],
            [
             0.5555555555555556,
             "#d8576b"
            ],
            [
             0.6666666666666666,
             "#ed7953"
            ],
            [
             0.7777777777777778,
             "#fb9f3a"
            ],
            [
             0.8888888888888888,
             "#fdca26"
            ],
            [
             1,
             "#f0f921"
            ]
           ],
           "sequentialminus": [
            [
             0,
             "#0d0887"
            ],
            [
             0.1111111111111111,
             "#46039f"
            ],
            [
             0.2222222222222222,
             "#7201a8"
            ],
            [
             0.3333333333333333,
             "#9c179e"
            ],
            [
             0.4444444444444444,
             "#bd3786"
            ],
            [
             0.5555555555555556,
             "#d8576b"
            ],
            [
             0.6666666666666666,
             "#ed7953"
            ],
            [
             0.7777777777777778,
             "#fb9f3a"
            ],
            [
             0.8888888888888888,
             "#fdca26"
            ],
            [
             1,
             "#f0f921"
            ]
           ]
          },
          "colorway": [
           "#636efa",
           "#EF553B",
           "#00cc96",
           "#ab63fa",
           "#FFA15A",
           "#19d3f3",
           "#FF6692",
           "#B6E880",
           "#FF97FF",
           "#FECB52"
          ],
          "font": {
           "color": "#2a3f5f"
          },
          "geo": {
           "bgcolor": "white",
           "lakecolor": "white",
           "landcolor": "#E5ECF6",
           "showlakes": true,
           "showland": true,
           "subunitcolor": "white"
          },
          "hoverlabel": {
           "align": "left"
          },
          "hovermode": "closest",
          "mapbox": {
           "style": "light"
          },
          "paper_bgcolor": "white",
          "plot_bgcolor": "#E5ECF6",
          "polar": {
           "angularaxis": {
            "gridcolor": "white",
            "linecolor": "white",
            "ticks": ""
           },
           "bgcolor": "#E5ECF6",
           "radialaxis": {
            "gridcolor": "white",
            "linecolor": "white",
            "ticks": ""
           }
          },
          "scene": {
           "xaxis": {
            "backgroundcolor": "#E5ECF6",
            "gridcolor": "white",
            "gridwidth": 2,
            "linecolor": "white",
            "showbackground": true,
            "ticks": "",
            "zerolinecolor": "white"
           },
           "yaxis": {
            "backgroundcolor": "#E5ECF6",
            "gridcolor": "white",
            "gridwidth": 2,
            "linecolor": "white",
            "showbackground": true,
            "ticks": "",
            "zerolinecolor": "white"
           },
           "zaxis": {
            "backgroundcolor": "#E5ECF6",
            "gridcolor": "white",
            "gridwidth": 2,
            "linecolor": "white",
            "showbackground": true,
            "ticks": "",
            "zerolinecolor": "white"
           }
          },
          "shapedefaults": {
           "line": {
            "color": "#2a3f5f"
           }
          },
          "ternary": {
           "aaxis": {
            "gridcolor": "white",
            "linecolor": "white",
            "ticks": ""
           },
           "baxis": {
            "gridcolor": "white",
            "linecolor": "white",
            "ticks": ""
           },
           "bgcolor": "#E5ECF6",
           "caxis": {
            "gridcolor": "white",
            "linecolor": "white",
            "ticks": ""
           }
          },
          "title": {
           "x": 0.05
          },
          "xaxis": {
           "automargin": true,
           "gridcolor": "white",
           "linecolor": "white",
           "ticks": "",
           "title": {
            "standoff": 15
           },
           "zerolinecolor": "white",
           "zerolinewidth": 2
          },
          "yaxis": {
           "automargin": true,
           "gridcolor": "white",
           "linecolor": "white",
           "ticks": "",
           "title": {
            "standoff": 15
           },
           "zerolinecolor": "white",
           "zerolinewidth": 2
          }
         }
        },
        "title": {
         "text": "Optimization History Plot"
        },
        "xaxis": {
         "title": {
          "text": "Trial"
         }
        },
        "yaxis": {
         "title": {
          "text": "f1_score"
         }
        }
       }
      }
     },
     "metadata": {},
     "output_type": "display_data"
    }
   ],
   "source": [
    "optuna.visualization.plot_optimization_history(study, target_name=\"f1_score\")"
   ]
  },
  {
   "cell_type": "code",
   "execution_count": 715,
   "id": "b648fd77",
   "metadata": {},
   "outputs": [
    {
     "data": {
      "text/plain": [
       "{'n_estimators': 132,\n",
       " 'max_depth': 25,\n",
       " 'min_samples_leaf': 2,\n",
       " 'criterion': 'entropy'}"
      ]
     },
     "execution_count": 715,
     "metadata": {},
     "output_type": "execute_result"
    }
   ],
   "source": [
    "study.best_params\n"
   ]
  },
  {
   "cell_type": "code",
   "execution_count": 411,
   "id": "0ebcdbde",
   "metadata": {},
   "outputs": [
    {
     "name": "stdout",
     "output_type": "stream",
     "text": [
      "F-1 score on train: 0.999960\n",
      "F-1 score on valid: 0.962954\n"
     ]
    }
   ],
   "source": [
    "rf_opt = RandomForestClassifier(\n",
    "    n_estimators=132,\n",
    "    max_depth=25,\n",
    "    min_samples_leaf=2,\n",
    "    criterion='entropy', \n",
    "    random_state=42    \n",
    ")\n",
    "\n",
    "rf_opt.fit(X_train, y_train)\n",
    "\n",
    "y_train_pred = rf_opt.predict(X_train)\n",
    "y_valid_pred = rf_opt.predict(X_valid)\n",
    "\n",
    "print('F-1 score on train: {:.6f}'.format(metrics.f1_score(y_train, y_train_pred, average=\"macro\")))\n",
    "print('F-1 score on valid: {:.6f}'.format(metrics.f1_score(y_valid, y_valid_pred, average=\"macro\")))\n"
   ]
  },
  {
   "attachments": {},
   "cell_type": "markdown",
   "id": "8f3e3c95",
   "metadata": {},
   "source": [
    "***\n",
    "## Сделаем submit"
   ]
  },
  {
   "cell_type": "code",
   "execution_count": 438,
   "id": "b9880e37",
   "metadata": {},
   "outputs": [],
   "source": [
    "y_test_pred = rf_opt.predict(X_sub)"
   ]
  },
  {
   "cell_type": "code",
   "execution_count": 439,
   "id": "d0ecaaf1",
   "metadata": {},
   "outputs": [
    {
     "data": {
      "text/plain": [
       "0    4046\n",
       "5     273\n",
       "8     182\n",
       "3     176\n",
       "7     176\n",
       "6     169\n",
       "2     164\n",
       "1     117\n",
       "4      97\n",
       "Name: class, dtype: int64"
      ]
     },
     "execution_count": 439,
     "metadata": {},
     "output_type": "execute_result"
    }
   ],
   "source": [
    "df_y_test['class'] = y_test_pred\n",
    "df_y_test['class'].value_counts()"
   ]
  },
  {
   "cell_type": "code",
   "execution_count": 444,
   "id": "43f975e4",
   "metadata": {},
   "outputs": [
    {
     "data": {
      "text/html": [
       "<div>\n",
       "<style scoped>\n",
       "    .dataframe tbody tr th:only-of-type {\n",
       "        vertical-align: middle;\n",
       "    }\n",
       "\n",
       "    .dataframe tbody tr th {\n",
       "        vertical-align: top;\n",
       "    }\n",
       "\n",
       "    .dataframe thead th {\n",
       "        text-align: right;\n",
       "    }\n",
       "</style>\n",
       "<table border=\"1\" class=\"dataframe\">\n",
       "  <thead>\n",
       "    <tr style=\"text-align: right;\">\n",
       "      <th></th>\n",
       "      <th>class</th>\n",
       "    </tr>\n",
       "    <tr>\n",
       "      <th>sample-timestep</th>\n",
       "      <th></th>\n",
       "    </tr>\n",
       "  </thead>\n",
       "  <tbody>\n",
       "    <tr>\n",
       "      <th>323-0</th>\n",
       "      <td>4</td>\n",
       "    </tr>\n",
       "    <tr>\n",
       "      <th>323-1</th>\n",
       "      <td>4</td>\n",
       "    </tr>\n",
       "    <tr>\n",
       "      <th>323-2</th>\n",
       "      <td>4</td>\n",
       "    </tr>\n",
       "    <tr>\n",
       "      <th>323-3</th>\n",
       "      <td>4</td>\n",
       "    </tr>\n",
       "    <tr>\n",
       "      <th>323-4</th>\n",
       "      <td>4</td>\n",
       "    </tr>\n",
       "    <tr>\n",
       "      <th>...</th>\n",
       "      <td>...</td>\n",
       "    </tr>\n",
       "    <tr>\n",
       "      <th>376-95</th>\n",
       "      <td>4</td>\n",
       "    </tr>\n",
       "    <tr>\n",
       "      <th>376-96</th>\n",
       "      <td>4</td>\n",
       "    </tr>\n",
       "    <tr>\n",
       "      <th>376-97</th>\n",
       "      <td>4</td>\n",
       "    </tr>\n",
       "    <tr>\n",
       "      <th>376-98</th>\n",
       "      <td>4</td>\n",
       "    </tr>\n",
       "    <tr>\n",
       "      <th>376-99</th>\n",
       "      <td>4</td>\n",
       "    </tr>\n",
       "  </tbody>\n",
       "</table>\n",
       "<p>5400 rows × 1 columns</p>\n",
       "</div>"
      ],
      "text/plain": [
       "                 class\n",
       "sample-timestep       \n",
       "323-0                4\n",
       "323-1                4\n",
       "323-2                4\n",
       "323-3                4\n",
       "323-4                4\n",
       "...                ...\n",
       "376-95               4\n",
       "376-96               4\n",
       "376-97               4\n",
       "376-98               4\n",
       "376-99               4\n",
       "\n",
       "[5400 rows x 1 columns]"
      ]
     },
     "execution_count": 444,
     "metadata": {},
     "output_type": "execute_result"
    }
   ],
   "source": [
    "df_y_test\n"
   ]
  },
  {
   "cell_type": "code",
   "execution_count": 443,
   "id": "515b226d",
   "metadata": {},
   "outputs": [],
   "source": [
    "df_y_test.set_index('sample-timestep', inplace=True)"
   ]
  },
  {
   "cell_type": "code",
   "execution_count": 445,
   "id": "ce034708",
   "metadata": {},
   "outputs": [],
   "source": [
    "df_y_test.to_csv('sample_submission.csv')"
   ]
  },
  {
   "cell_type": "code",
   "execution_count": 386,
   "id": "8e615706",
   "metadata": {},
   "outputs": [],
   "source": [
    "df_y_test"
   ]
  },
  {
   "cell_type": "code",
   "execution_count": 327,
   "id": "a89a8c96",
   "metadata": {},
   "outputs": [
    {
     "name": "stdout",
     "output_type": "stream",
     "text": [
      "(54, 100)\n"
     ]
    },
    {
     "data": {
      "text/plain": [
       "array([[4, 4, 4, ..., 0, 0, 0],\n",
       "       [0, 0, 0, ..., 0, 0, 0],\n",
       "       [0, 0, 0, ..., 0, 0, 0],\n",
       "       ...,\n",
       "       [0, 0, 0, ..., 7, 7, 7],\n",
       "       [7, 7, 7, ..., 0, 0, 0],\n",
       "       [0, 0, 0, ..., 4, 4, 4]], dtype=int64)"
      ]
     },
     "execution_count": 327,
     "metadata": {},
     "output_type": "execute_result"
    }
   ],
   "source": [
    "df_y_test[['sample_id', 'timestep']] = df_y_test['sample-timestep'].str.split('-', 1, expand=True).astype(int)\n",
    "df_y_test = df_y_test.pivot(index='sample_id', columns='timestep', values='class')\n",
    "df_y_test_index = df_y_test.index\n",
    "df_y_test = df_y_test.sort_index() # на всякий случай\n",
    "df_y_test = df_y_test.values\n",
    "\n",
    "print(df_y_test.shape)\n",
    "df_y_test"
   ]
  },
  {
   "cell_type": "code",
   "execution_count": 333,
   "id": "b0141a96",
   "metadata": {},
   "outputs": [
    {
     "data": {
      "image/png": "[encoded data removed]",
      "text/plain": [
       "<Figure size 432x288 with 2 Axes>"
      ]
     },
     "metadata": {
      "needs_background": "light"
     },
     "output_type": "display_data"
    }
   ],
   "source": [
    "i = np.random.randint(df_y_test.shape[0])\n",
    "fig, axx = plt.subplots(2, 1, sharex=True)\n",
    "    \n",
    "axx[0].plot(data_test[i].T)\n",
    "axx[0].set_title('OMG')\n",
    "\n",
    "axx[1].plot(df_y_test[i])\n",
    "\n",
    "axx[1].set_title('Class/Command')\n",
    "axx[1].set_xlabel('Timestep')\n",
    "axx[1].set_yticks(\n",
    "    np.arange(9),\n",
    "    ['Open', 'Pinky', 'Ring', 'Middle', 'Pistol', 'Index', 'Thumb', 'OK', 'Grab']\n",
    ")\n",
    "\n",
    "plt.suptitle(f'Test')\n",
    "\n",
    "plt.tight_layout()"
   ]
  },
  {
   "attachments": {},
   "cell_type": "markdown",
   "id": "b36882b8",
   "metadata": {},
   "source": [
    "## Качество предсказаний - говно"
   ]
  },
  {
   "cell_type": "code",
   "execution_count": null,
   "id": "1613abc2",
   "metadata": {},
   "outputs": [],
   "source": []
  },
  {
   "cell_type": "code",
   "execution_count": 341,
   "id": "79615320",
   "metadata": {},
   "outputs": [],
   "source": [
    "submition = pd.DataFrame(y_test_pred, columns=['class'])\n",
    "submition.to_csv('sample_submission.csv')"
   ]
  }
 ],
 "metadata": {
  "kernelspec": {
   "display_name": "Python 3 (ipykernel)",
   "language": "python",
   "name": "python3"
  },
  "language_info": {
   "codemirror_mode": {
    "name": "ipython",
    "version": 3
   },
   "file_extension": ".py",
   "mimetype": "text/x-python",
   "name": "python",
   "nbconvert_exporter": "python",
   "pygments_lexer": "ipython3",
   "version": "3.9.12"
  }
 },
 "nbformat": 4,
 "nbformat_minor": 5
}
