{
 "cells": [
  {
   "cell_type": "code",
   "execution_count": 2,
   "metadata": {},
   "outputs": [],
   "source": [
    "import numpy as np\n",
    "import pandas as pd\n",
    "from matplotlib import pyplot as plt\n",
    "%matplotlib widget\n",
    "\n",
    "\n",
    "free_movements = pd.read_csv('free_movements.csv', index_col=0)\n",
    "\n",
    "OMG_CH = [str(i) for i in range(50)]\n",
    "\n",
    "ACC_CH = ['ACC0', 'ACC1', 'ACC2']\n",
    "GYR_CH = ['GYR0', 'GYR1', 'GYR2']\n",
    "# ENC_CH = ['ENC0', 'ENC1', 'ENC2', 'ENC3', 'ENC4', 'ENC5']\n",
    "GLOVE_CH = ['ENC0', 'ENC1', 'ENC2', 'ENC3', 'ENC4', 'ENC5']\n",
    "BUTTON_SYNC_TS_CH = ['BUTTON', 'SYNC', 'ts']\n",
    "\n",
    "assert len(OMG_CH)+len(ACC_CH)+len(GYR_CH)+len(GLOVE_CH)+len(BUTTON_SYNC_TS_CH) == free_movements.shape[-1]\n",
    "\n",
    "gestures_train = pd.read_csv('gestures_train.csv', index_col=0)\n",
    "gestures_test = pd.read_csv('gestures_test.csv', index_col=0)\n",
    "gestures_protocol = pd.read_csv('gestures_protocol.csv')\n",
    "\n",
    "gestures_train_ext = pd.merge(\n",
    "    gestures_train,\n",
    "    gestures_protocol,\n",
    "    how='left',\n",
    "    left_on='SYNC',\n",
    "    right_on='epoch',\n",
    ")\n",
    "\n",
    "gestures_test_ext = pd.merge(\n",
    "    gestures_test,\n",
    "    gestures_protocol,\n",
    "    how='left',\n",
    "    left_on='SYNC',\n",
    "    right_on='epoch',\n",
    ")"
   ]
  },
  {
   "cell_type": "code",
   "execution_count": 3,
   "metadata": {},
   "outputs": [],
   "source": [
    "from sklearn.metrics import mean_squared_error as mse\n",
    "\n",
    "def MSE(y, y_pred):\n",
    "    ENC0 = mse(y[:,0], y_pred[:,0])\n",
    "    ENC1 = mse(y[:,1], y_pred[:,1])\n",
    "    ENC2 = mse(y[:,2], y_pred[:,2])\n",
    "    ENC3 = mse(y[:,3], y_pred[:,3])\n",
    "    ENC4 = mse(y[:,4], y_pred[:,4])\n",
    "    ENC5 = mse(y[:,5], y_pred[:,5])\n",
    "    return pd.Series([ENC0, ENC1, ENC2, ENC3, ENC4, ENC5])"
   ]
  },
  {
   "cell_type": "code",
   "execution_count": 117,
   "metadata": {},
   "outputs": [],
   "source": [
    "X = gestures_train[OMG_CH].values\n",
    "X_test = gestures_test[OMG_CH].values\n",
    "y = gestures_train[GLOVE_CH].values\n",
    "y_test = gestures_test[GLOVE_CH].values"
   ]
  },
  {
   "cell_type": "code",
   "execution_count": 631,
   "metadata": {},
   "outputs": [],
   "source": [
    "from sklearn.ensemble import RandomForestRegressor\n",
    "\n",
    "RFR = RandomForestRegressor(random_state=32).fit(X, y)"
   ]
  },
  {
   "cell_type": "code",
   "execution_count": 632,
   "metadata": {},
   "outputs": [],
   "source": [
    "from sklearn.linear_model import LinearRegression\n",
    "\n",
    "LR = LinearRegression().fit(X, y)"
   ]
  },
  {
   "cell_type": "code",
   "execution_count": 633,
   "metadata": {},
   "outputs": [],
   "source": [
    "from sklearn.tree import DecisionTreeRegressor\n",
    "\n",
    "DT = DecisionTreeRegressor(random_state=32).fit(X,y)"
   ]
  },
  {
   "cell_type": "code",
   "execution_count": 634,
   "metadata": {},
   "outputs": [
    {
     "name": "stdout",
     "output_type": "stream",
     "text": [
      "      train        test\n",
      "0  1.108492   36.746629\n",
      "1  0.925809   35.379470\n",
      "2  1.058566   28.481814\n",
      "3  3.956215  199.747462\n",
      "4  5.797001  387.436319\n",
      "5  0.000000    0.000000\n",
      "\n",
      "114.63194909402564\n",
      "\n",
      "        train        test\n",
      "0   44.761241   57.252958\n",
      "1   35.262227   37.579762\n",
      "2   47.073603   48.509950\n",
      "3  207.066172  263.154448\n",
      "4  423.469831  546.546481\n",
      "5    0.000000    0.000000\n",
      "\n",
      "158.84060002758474\n",
      "\n",
      "   train        test\n",
      "0    0.0   67.333497\n",
      "1    0.0   76.912708\n",
      "2    0.0   69.425930\n",
      "3    0.0  374.204089\n",
      "4    0.0  755.806195\n",
      "5    0.0    0.000000\n",
      "\n",
      "223.9470698661443\n"
     ]
    }
   ],
   "source": [
    "y_pred_rfr = RFR.predict(X)\n",
    "y_test_pred_rfr = RFR.predict(X_test)\n",
    "\n",
    "y_pred_lr = LR.predict(X)\n",
    "y_test_pred_lr = LR.predict(X_test)\n",
    "\n",
    "y_pred_dt = DT.predict(X)\n",
    "y_test_pred_dt = DT.predict(X_test)\n",
    "\n",
    "\n",
    "print(pd.DataFrame({'train':MSE(y, y_pred_rfr), 'test':MSE(y_test, y_test_pred_rfr)}))\n",
    "print()\n",
    "print(mse(y_test, y_test_pred_rfr))\n",
    "print()\n",
    "print(pd.DataFrame({'train':MSE(y, y_pred_lr), 'test':MSE(y_test, y_test_pred_lr)}))\n",
    "print()\n",
    "print(mse(y_test, y_test_pred_lr))\n",
    "print()\n",
    "print(pd.DataFrame({'train':MSE(y, y_pred_dt), 'test':MSE(y_test, y_test_pred_dt)}))\n",
    "print()\n",
    "print(mse(y_test, y_test_pred_dt))"
   ]
  },
  {
   "attachments": {},
   "cell_type": "markdown",
   "metadata": {},
   "source": [
    "На освнове `LinearRegression` определим набор важных датчиков для каждого пальца"
   ]
  },
  {
   "cell_type": "code",
   "execution_count": 635,
   "metadata": {},
   "outputs": [],
   "source": [
    "importance = np.swapaxes(LR.coef_, 0, 1)\n",
    "\n",
    "OMG_0 = []\n",
    "OMG_1 = []\n",
    "OMG_2 = []\n",
    "OMG_3 = []\n",
    "OMG_4 = []\n",
    "OMG_5 = []\n",
    "\n",
    "for i in np.arange(importance.shape[0]):\n",
    "    if abs(importance[:,0][i]) >= 0.008:\n",
    "        OMG_0.append(i)\n",
    "    if abs(importance[:,1][i]) >= 0.008:\n",
    "        OMG_1.append(i)\n",
    "    if abs(importance[:,2][i]) >= 0.008:\n",
    "        OMG_2.append(i)\n",
    "    if abs(importance[:,3][i]) >= 0.008:\n",
    "        OMG_3.append(i)\n",
    "    if abs(importance[:,4][i]) >= 0.008:\n",
    "        OMG_4.append(i)\n",
    "    if abs(importance[:,5][i]) >= 0.008:\n",
    "        OMG_5.append(i)    "
   ]
  },
  {
   "cell_type": "code",
   "execution_count": 636,
   "metadata": {},
   "outputs": [
    {
     "name": "stdout",
     "output_type": "stream",
     "text": [
      "test on LR\n",
      "61.82609476106584\n",
      "37.69504751565557\n",
      "47.72985422304241\n",
      "268.33760512280645\n",
      "546.5623653986949\n",
      "\n",
      "test on DT\n",
      "63.39605778648384\n",
      "78.86067580803135\n",
      "70.80827619980411\n",
      "269.0788442703232\n",
      "842.5537463271303\n"
     ]
    }
   ],
   "source": [
    "LR_0 = LinearRegression().fit(X[:,OMG_0], y[:,0])\n",
    "LR_1 = LinearRegression().fit(X[:,OMG_1], y[:,1])\n",
    "LR_2 = LinearRegression().fit(X[:,OMG_2], y[:,2])\n",
    "LR_3 = LinearRegression().fit(X[:,OMG_3], y[:,3])\n",
    "LR_4 = LinearRegression().fit(X[:,OMG_4], y[:,4])\n",
    "\n",
    "y_test_0 = LR_0.predict(X_test[:,OMG_0])\n",
    "y_test_1 = LR_1.predict(X_test[:,OMG_1])\n",
    "y_test_2 = LR_2.predict(X_test[:,OMG_2])\n",
    "y_test_3 = LR_3.predict(X_test[:,OMG_3])\n",
    "y_test_4 = LR_4.predict(X_test[:,OMG_4])\n",
    "\n",
    "print('test on LR')\n",
    "print(mse(y_test[:,0], y_test_0))\n",
    "print(mse(y_test[:,1], y_test_1))\n",
    "print(mse(y_test[:,2], y_test_2))\n",
    "print(mse(y_test[:,3], y_test_3))\n",
    "print(mse(y_test[:,4], y_test_4))\n",
    "\n",
    "DT_0 = DecisionTreeRegressor().fit(X[:,OMG_0], y[:,0])\n",
    "DT_1 = DecisionTreeRegressor().fit(X[:,OMG_1], y[:,1])\n",
    "DT_2 = DecisionTreeRegressor().fit(X[:,OMG_2], y[:,2])\n",
    "DT_3 = DecisionTreeRegressor().fit(X[:,OMG_3], y[:,3])\n",
    "DT_4 = DecisionTreeRegressor().fit(X[:,OMG_4], y[:,4])\n",
    "\n",
    "y_test_0_1 = DT_0.predict(X_test[:,OMG_0])\n",
    "y_test_1_1 = DT_1.predict(X_test[:,OMG_1])\n",
    "y_test_2_1 = DT_2.predict(X_test[:,OMG_2])\n",
    "y_test_3_1 = DT_3.predict(X_test[:,OMG_3])\n",
    "y_test_4_1 = DT_4.predict(X_test[:,OMG_4])\n",
    "\n",
    "print()\n",
    "print('test on DT')\n",
    "print(mse(y_test[:,0], y_test_0_1))\n",
    "print(mse(y_test[:,1], y_test_1_1))\n",
    "print(mse(y_test[:,2], y_test_2_1))\n",
    "print(mse(y_test[:,3], y_test_3_1))\n",
    "print(mse(y_test[:,4], y_test_4_1))"
   ]
  },
  {
   "cell_type": "code",
   "execution_count": 638,
   "metadata": {},
   "outputs": [],
   "source": [
    "def get_redundant_pairs(df):\n",
    "    '''Get diagonal and lower triangular pairs of correlation matrix'''\n",
    "    pairs_to_drop = set()\n",
    "    cols = df.columns\n",
    "    for i in range(0, df.shape[1]):\n",
    "        for j in range(0, i+1):\n",
    "            pairs_to_drop.add((cols[i], cols[j]))\n",
    "    return pairs_to_drop\n",
    "\n",
    "def get_top_abs_correlations(df, n=25):\n",
    "    au_corr = df.corr().abs().unstack()\n",
    "    labels_to_drop = get_redundant_pairs(df)\n",
    "    au_corr = au_corr.drop(labels=labels_to_drop).sort_values(ascending=False)\n",
    "    return au_corr[0:n]\n",
    "\n",
    "get_top_abs_correlations(gestures_test[OMG_CH + GLOVE_CH])\n",
    "corr = ['0', '2', '3', '5', '12', '14', '15', '21', '24', '29', '33']"
   ]
  },
  {
   "cell_type": "code",
   "execution_count": 234,
   "metadata": {},
   "outputs": [],
   "source": [
    "def moving_average(array, n=6):\n",
    "    ret = np.cumsum(array, dtype=float)\n",
    "    ret[n:] = ret[n:] - ret[:-n]\n",
    "    result = ret[n - 1:] / n\n",
    "    filler = np.zeros(n-1)\n",
    "    filler[filler == 0] = array[:n-1].mean()\n",
    "    result = np.insert(result, 0, filler)\n",
    "    return np.rint(result)\n",
    "\n",
    "def get_moving_avearge(array, n=6):\n",
    "    result = np.zeros_like(array)\n",
    "    for i in np.arange(array.shape[1]):\n",
    "        result[:,i] = moving_average(array[:,i], n)\n",
    "    return result"
   ]
  },
  {
   "cell_type": "code",
   "execution_count": 150,
   "metadata": {},
   "outputs": [],
   "source": [
    "def shifter(data, n=20):\n",
    "    lst = list(data)\n",
    "    for i in range(n):\n",
    "        lst.insert(0, i*0)\n",
    "        lst.pop(-1)\n",
    "       \n",
    "    return lst\n",
    "\n",
    "def get_shifter(array, n=20):\n",
    "    result = np.zeros_like(array)\n",
    "    for i in np.arange(array.shape[1]):\n",
    "        result[:,i] = shifter(array[:,i], n)\n",
    "    return result"
   ]
  },
  {
   "cell_type": "code",
   "execution_count": 125,
   "metadata": {},
   "outputs": [],
   "source": [
    "arr = np.copy(X_test[:,0])"
   ]
  },
  {
   "cell_type": "code",
   "execution_count": 126,
   "metadata": {},
   "outputs": [
    {
     "data": {
      "text/plain": [
       "array([1400, 1400, 1400, ..., 1212, 1213, 1215], dtype=int64)"
      ]
     },
     "execution_count": 126,
     "metadata": {},
     "output_type": "execute_result"
    }
   ],
   "source": [
    "for i in np.arange(arr.shape[0]):\n",
    "    if 2100 < arr[i] < 2200:\n",
    "        arr[i] = 2100\n",
    "    if 2000 < arr[i] < 2100:\n",
    "        arr[i] = 2000\n",
    "    if 1900 < arr[i] < 2000:\n",
    "        arr[i] = 1900\n",
    "    if 1800 < arr[i] < 1900:\n",
    "        arr[i] = 1800\n",
    "    if 1700 < arr[i] < 1800:\n",
    "        arr[i] = 1700\n",
    "    if 1600 < arr[i] < 1700:\n",
    "        arr[i] = 1600\n",
    "    if 1500 < arr[i] < 1600:\n",
    "        arr[i] = 1500\n",
    "    if 1400 < arr[i] < 1500:\n",
    "        arr[i] = 1400\n",
    "\n",
    "arr"
   ]
  },
  {
   "cell_type": "code",
   "execution_count": 127,
   "metadata": {},
   "outputs": [
    {
     "data": {
      "image/png": "[encoded data removed]",
      "text/plain": [
       "<Figure size 1440x720 with 1 Axes>"
      ]
     },
     "metadata": {
      "needs_background": "light"
     },
     "output_type": "display_data"
    }
   ],
   "source": [
    "\n",
    "\n",
    "fig, ax = plt.subplots(figsize=(20, 10))\n",
    "ax.plot(arr, color='blue')\n",
    "ax.plot(y_test[:,0])\n",
    "ax.grid()"
   ]
  },
  {
   "cell_type": "code",
   "execution_count": 46,
   "metadata": {},
   "outputs": [],
   "source": [
    "X_new = np.diff(X, axis=0, prepend=0)\n",
    "X_test_new = np.diff(X_test, axis=0, prepend=0)"
   ]
  },
  {
   "cell_type": "code",
   "execution_count": 47,
   "metadata": {},
   "outputs": [],
   "source": [
    "from sklearn.linear_model import LinearRegression\n",
    "from sklearn.tree import DecisionTreeRegressor\n",
    "\n",
    "LR = LinearRegression().fit(X_new, y)\n",
    "DT = DecisionTreeRegressor(random_state=32).fit(X_new,y)"
   ]
  },
  {
   "cell_type": "code",
   "execution_count": 48,
   "metadata": {},
   "outputs": [
    {
     "name": "stdout",
     "output_type": "stream",
     "text": [
      "          train          test\n",
      "0  15103.963672  15267.537955\n",
      "1  14029.029245  14756.673296\n",
      "2  15364.524557  17028.715943\n",
      "3   9085.190190   8780.607308\n",
      "4   3520.339287   4354.665804\n",
      "5      0.000000      0.000000\n",
      "\n",
      "10031.366717639865\n",
      "\n",
      "         train         test\n",
      "0   974.460207   863.684378\n",
      "1   926.700229   955.836435\n",
      "2  1197.394670  1235.545911\n",
      "3  1213.815447  1137.422380\n",
      "4  1610.781412  1646.624388\n",
      "5     0.000000     0.000000\n",
      "\n",
      "973.1855819458048\n"
     ]
    }
   ],
   "source": [
    "y_pred_lr = LR.predict(X)\n",
    "y_test_pred_lr = LR.predict(X_test)\n",
    "\n",
    "y_pred_dt = DT.predict(X)\n",
    "y_test_pred_dt = DT.predict(X_test)\n",
    "\n",
    "print(pd.DataFrame({'train':MSE(y, y_pred_lr), 'test':MSE(y_test, y_test_pred_lr)}))\n",
    "print()\n",
    "print(mse(y_test, y_test_pred_lr))\n",
    "print()\n",
    "print(pd.DataFrame({'train':MSE(y, y_pred_dt), 'test':MSE(y_test, y_test_pred_dt)}))\n",
    "print()\n",
    "print(mse(y_test, y_test_pred_dt))"
   ]
  }
 ],
 "metadata": {
  "kernelspec": {
   "display_name": "base",
   "language": "python",
   "name": "python3"
  },
  "language_info": {
   "codemirror_mode": {
    "name": "ipython",
    "version": 3
   },
   "file_extension": ".py",
   "mimetype": "text/x-python",
   "name": "python",
   "nbconvert_exporter": "python",
   "pygments_lexer": "ipython3",
   "version": "3.9.12"
  },
  "orig_nbformat": 4
 },
 "nbformat": 4,
 "nbformat_minor": 2
}
