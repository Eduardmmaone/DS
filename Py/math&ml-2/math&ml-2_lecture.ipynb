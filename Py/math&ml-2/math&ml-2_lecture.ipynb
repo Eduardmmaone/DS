{
 "cells": [
  {
   "attachments": {},
   "cell_type": "markdown",
   "metadata": {},
   "source": [
    "# MATH&ML-2 Линейная алгебра в констекте линейных методов. Часть2\n",
    "###  Содержание <a class=\"anchor\" id=0></a>\n",
    "\n",
    "- [2. Неоднородные СЛАУ](#2)\n",
    "- [3. Линейная регрессия МНК](#3)\n",
    "- [4. Стандартизация векторов и матрица корреляции](#4)\n",
    "- [5. Практика. Лин.регрессия МНК](#5)\n",
    "- [6. Полиноминальная регрессия](#6)\n",
    "- [7. Регуляция](#7)\n",
    "- [8. Практика. Полиноминальная регрессия и регуляция](#8)\n",
    "- [9. Итоги](#9)"
   ]
  },
  {
   "attachments": {},
   "cell_type": "markdown",
   "metadata": {},
   "source": [
    "# 2. Неоднородные СЛАУ <a class=\"anchor\" id=2></a>\n",
    "\n",
    "[к содержанию](#0)"
   ]
  },
  {
   "attachments": {},
   "cell_type": "markdown",
   "metadata": {},
   "source": [
    "# 3. Линейная регрессия МНК <a class=\"anchor\" id=2></a>\n",
    "\n",
    "[к содержанию](#0)"
   ]
  },
  {
   "attachments": {},
   "cell_type": "markdown",
   "metadata": {},
   "source": [
    "# 4. Стандартизация векторов и матрица корреляции <a class=\"anchor\" id=2></a>\n",
    "\n",
    "[к содержанию](#0)"
   ]
  },
  {
   "attachments": {},
   "cell_type": "markdown",
   "metadata": {},
   "source": [
    "# 5. Практика. Лин.регрессия МНК <a class=\"anchor\" id=2></a>\n",
    "\n",
    "[к содержанию](#0)"
   ]
  },
  {
   "attachments": {},
   "cell_type": "markdown",
   "metadata": {},
   "source": [
    "# 6. Полиноминальная регрессия <a class=\"anchor\" id=2></a>\n",
    "\n",
    "[к содержанию](#0)"
   ]
  },
  {
   "attachments": {},
   "cell_type": "markdown",
   "metadata": {},
   "source": [
    "# 7. Регуляция <a class=\"anchor\" id=2></a>\n",
    "\n",
    "[к содержанию](#0)"
   ]
  },
  {
   "attachments": {},
   "cell_type": "markdown",
   "metadata": {},
   "source": [
    "# 8. Практика. Полиноминальная регрессия и регуляция <a class=\"anchor\" id=2></a>\n",
    "\n",
    "[к содержанию](#0)"
   ]
  },
  {
   "attachments": {},
   "cell_type": "markdown",
   "metadata": {},
   "source": [
    "# 9. Итоги <a class=\"anchor\" id=2></a>\n",
    "\n",
    "[к содержанию](#0)"
   ]
  }
 ],
 "metadata": {
  "kernelspec": {
   "display_name": "base",
   "language": "python",
   "name": "python3"
  },
  "language_info": {
   "name": "python",
   "version": "3.9.12 (main, Apr  4 2022, 05:22:27) [MSC v.1916 64 bit (AMD64)]"
  },
  "orig_nbformat": 4,
  "vscode": {
   "interpreter": {
    "hash": "c3380a37b4678e1f5e651331348d62bc6038aef0d5f414da260f404a34792558"
   }
  }
 },
 "nbformat": 4,
 "nbformat_minor": 2
}
