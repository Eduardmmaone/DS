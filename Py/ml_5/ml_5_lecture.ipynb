{
 "cells": [
  {
   "cell_type": "markdown",
   "metadata": {},
   "source": [
    "# ML-5 Валидация данный и оценка моделей\n",
    "###  Содержание <a class=\"anchor\" id=0></a>\n",
    "- [1. Введение](#1)\n",
    "- [2. Валидация данных. Методы валидации](#2)\n",
    "- [3. Дисбаланс выборки](#3)\n",
    "- [4. Недообучение и переобучение. Утечка данных](#4)\n",
    "- [5. Кривая обучения](#5)\n",
    "- [6. Практика](#6)\n",
    "- [7. Итоги](#7)\n"
   ]
  }
 ],
 "metadata": {
  "kernelspec": {
   "display_name": "Python 3.9.12 ('base')",
   "language": "python",
   "name": "python3"
  },
  "language_info": {
   "name": "python",
   "version": "3.9.12"
  },
  "orig_nbformat": 4,
  "vscode": {
   "interpreter": {
    "hash": "c3380a37b4678e1f5e651331348d62bc6038aef0d5f414da260f404a34792558"
   }
  }
 },
 "nbformat": 4,
 "nbformat_minor": 2
}
