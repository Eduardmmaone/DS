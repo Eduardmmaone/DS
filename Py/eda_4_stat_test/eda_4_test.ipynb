{
 "cells": [
  {
   "cell_type": "markdown",
   "metadata": {},
   "source": [
    "## EDA-4 Статистические тесты. Домашнее задание\n",
    "\n",
    "### Задача: \n",
    "Используя информацию по мидиям Петербурга и Магадана, которые представлены в виде двух массивов `petersburg` и `magadan` в разделе `ANOVA`-тест, проверьте данные на нормальность и на наличие корреляции.\n",
    "\n",
    "### Метрики:\n",
    "\n",
    "* Данные объединены в DataFrame\n",
    "* Проведён тест на корреляцию\n",
    "* Обоснован выбор теста на корреляцию\n",
    "* Сделан правильный вывод по гипотезе\n",
    "* Проведён тест на сравнение выборок\n",
    "* Обоснован выбор теста на сравнение\n",
    "* Сделан правильный вывод по гипотезе"
   ]
  },
  {
   "cell_type": "code",
   "execution_count": 29,
   "metadata": {},
   "outputs": [
    {
     "data": {
      "text/html": [
       "<div>\n",
       "<style scoped>\n",
       "    .dataframe tbody tr th:only-of-type {\n",
       "        vertical-align: middle;\n",
       "    }\n",
       "\n",
       "    .dataframe tbody tr th {\n",
       "        vertical-align: top;\n",
       "    }\n",
       "\n",
       "    .dataframe thead th {\n",
       "        text-align: right;\n",
       "    }\n",
       "</style>\n",
       "<table border=\"1\" class=\"dataframe\">\n",
       "  <thead>\n",
       "    <tr style=\"text-align: right;\">\n",
       "      <th></th>\n",
       "      <th>petersburg</th>\n",
       "      <th>magadan</th>\n",
       "    </tr>\n",
       "  </thead>\n",
       "  <tbody>\n",
       "    <tr>\n",
       "      <th>0</th>\n",
       "      <td>0.0974</td>\n",
       "      <td>0.1033</td>\n",
       "    </tr>\n",
       "    <tr>\n",
       "      <th>1</th>\n",
       "      <td>0.1352</td>\n",
       "      <td>0.0915</td>\n",
       "    </tr>\n",
       "    <tr>\n",
       "      <th>2</th>\n",
       "      <td>0.0817</td>\n",
       "      <td>0.0781</td>\n",
       "    </tr>\n",
       "    <tr>\n",
       "      <th>3</th>\n",
       "      <td>0.1016</td>\n",
       "      <td>0.0685</td>\n",
       "    </tr>\n",
       "    <tr>\n",
       "      <th>4</th>\n",
       "      <td>0.0968</td>\n",
       "      <td>0.0677</td>\n",
       "    </tr>\n",
       "    <tr>\n",
       "      <th>5</th>\n",
       "      <td>0.1064</td>\n",
       "      <td>0.0697</td>\n",
       "    </tr>\n",
       "    <tr>\n",
       "      <th>6</th>\n",
       "      <td>0.1050</td>\n",
       "      <td>0.0764</td>\n",
       "    </tr>\n",
       "    <tr>\n",
       "      <th>7</th>\n",
       "      <td>0.1034</td>\n",
       "      <td>0.0689</td>\n",
       "    </tr>\n",
       "  </tbody>\n",
       "</table>\n",
       "</div>"
      ],
      "text/plain": [
       "   petersburg  magadan\n",
       "0      0.0974   0.1033\n",
       "1      0.1352   0.0915\n",
       "2      0.0817   0.0781\n",
       "3      0.1016   0.0685\n",
       "4      0.0968   0.0677\n",
       "5      0.1064   0.0697\n",
       "6      0.1050   0.0764\n",
       "7      0.1034   0.0689"
      ]
     },
     "execution_count": 29,
     "metadata": {},
     "output_type": "execute_result"
    }
   ],
   "source": [
    "import pandas as pd\n",
    "\n",
    "petersburg = [0.0974, 0.1352, 0.0817, 0.1016, 0.0968, 0.1064, 0.105]\n",
    "magadan = [0.1033, 0.0915, 0.0781, 0.0685, 0.0677, 0.0697, 0.0764, 0.0689]\n",
    "\n",
    "# Запишем данные в DataFrame\n",
    "df_1 = pd.DataFrame(petersburg, columns=['petersburg'])\n",
    "df_2 = pd.DataFrame(magadan, columns=['magadan'])\n",
    "\n",
    "# Объединим DF по столбцам\n",
    "data = pd.concat([df_1, df_2],axis=1)\n",
    "\n",
    "# Жалко удалять строчку с пропуском (это 15% данных), заполним пропуск средним значением\n",
    "data = data.fillna(round(data['petersburg'].mean(),4))\n",
    "data"
   ]
  },
  {
   "cell_type": "markdown",
   "metadata": {},
   "source": [
    "### Проверка данных на нормальность"
   ]
  },
  {
   "cell_type": "code",
   "execution_count": 32,
   "metadata": {},
   "outputs": [],
   "source": [
    "# Выдвенем гипотезы\n",
    "H0 = 'Данные распределены нормально'\n",
    "Ha = 'Данные не распределены нормально (мы отвергаем H0)'\n",
    "\n",
    "# Установим уровень значимости\n",
    "alpha = 0.05"
   ]
  },
  {
   "cell_type": "markdown",
   "metadata": {},
   "source": [
    "Используя тест Шапиро-Уилка определим насколько вероятно, что данные получены из распределения Гаусса (распределены нормально)\n",
    "\n",
    "> Тест Шапиро-Уилка отлично себя показывает на небольших выборках, которой без сомнения является наш DataFrame"
   ]
  },
  {
   "cell_type": "code",
   "execution_count": 39,
   "metadata": {},
   "outputs": [
    {
     "name": "stdout",
     "output_type": "stream",
     "text": [
      "Данные распределены нормально\n"
     ]
    }
   ],
   "source": [
    "from scipy.stats import shapiro\n",
    "\n",
    "# Вычисляем статистическую значимость\n",
    "_, p = shapiro(data)\n",
    "\n",
    "# Сравниваем полученную статистическую значимость с заданным уровнем значимости (5%)\n",
    "if p > alpha:\n",
    "\tprint(H0)\n",
    "else:\n",
    "\tprint(Ha)"
   ]
  },
  {
   "cell_type": "markdown",
   "metadata": {},
   "source": [
    "### Тест на корреляцию\n",
    "\n",
    "Для определения взаимосвязи между исследуемыми переменным используем **коэффициент кореляции Пирсона**, потому что:\n",
    "\n",
    "* Данные распределены **нормально**\n",
    "* Данные представлены **непрерывными** признаками\n",
    "* В данных отсутствую **выбросы и аномалии**\n",
    "\n",
    "Чтобы определить, является ли коэффициент корреляции между двумя переменными статистически значимым, выполним корреляционный тест с использованием функции `pearsonr` из библиотеки `SciPy`."
   ]
  },
  {
   "cell_type": "code",
   "execution_count": 71,
   "metadata": {},
   "outputs": [
    {
     "name": "stdout",
     "output_type": "stream",
     "text": [
      "Вывод:\n",
      "Коэффициент корреляции равен 0.24. Связь очень слабая или отсутствует.\n"
     ]
    }
   ],
   "source": [
    "from scipy.stats import pearsonr\n",
    "\n",
    "# Определим коэффициент корреляции\n",
    "k = pearsonr(data['petersburg'], data['magadan'])[0]\n",
    "\n",
    "print('Вывод:')\n",
    "\n",
    "# Определим силу связи (коэффициент возьмем по модулю)\n",
    "if abs(k) <= 0.3:\n",
    "    print(f\"Коэффициент корреляции равен {round(k,2)}. Связь очень слабая или отсутствует.\")\n",
    "else:\n",
    "    print(f\"Коэффициент корреляции равен {round(k,2)}. Связь есть, необходим дальнейший анализ\")"
   ]
  },
  {
   "cell_type": "markdown",
   "metadata": {},
   "source": [
    "Теперь для ответа на вопрос \"Какова разница в среднем размере мидии в зависимости от города-производителя?\" следует воспользоваться **независимым t-тестом** так как:\n",
    "* Данные распределены **нормально**\n",
    "* Тип зависимой переменной - **количественная**\n",
    "* Сравниваются **две** группы\n",
    "* Объектов в выборке **< 30**"
   ]
  },
  {
   "cell_type": "code",
   "execution_count": 53,
   "metadata": {},
   "outputs": [
    {
     "name": "stdout",
     "output_type": "stream",
     "text": [
      "0.003 <= 0.05. \n",
      "Мы отвергаем нулевую гипотезу. \n",
      "Есть значимая разница между размером мидий в зависимости от города-производителя.\n"
     ]
    }
   ],
   "source": [
    "from scipy.stats import ttest_ind\n",
    "\n",
    "# Выдвигаем гипотезы\n",
    "H0 = 'Нет значимой разницы между размером мидий в зависимости от города-производителя.'\n",
    "Ha = 'Есть значимая разница между размером мидий в зависимости от города-производителя.'\n",
    "\n",
    "# Задаем уровень значимости\n",
    "alpha = 0.05\n",
    "\n",
    "# проводим t-тестирование\n",
    "test_results = ttest_ind(data['petersburg'], data['magadan'], equal_var=True)\n",
    "\n",
    "p = round(test_results[1],3)\n",
    "\n",
    "# Сравниваем результат с заданным уровнем\n",
    "if p>alpha:\n",
    "    print(f\"{p} > {alpha}.\\n Мы не можем отвергнуть нулевую гипотезу. {H0}\")\n",
    "else:\n",
    "    print(f\"{p} <= {alpha}. \\nМы отвергаем нулевую гипотезу. \\n{Ha}\")\n",
    "\n"
   ]
  }
 ],
 "metadata": {
  "kernelspec": {
   "display_name": "Python 3.9.12 ('base')",
   "language": "python",
   "name": "python3"
  },
  "language_info": {
   "codemirror_mode": {
    "name": "ipython",
    "version": 3
   },
   "file_extension": ".py",
   "mimetype": "text/x-python",
   "name": "python",
   "nbconvert_exporter": "python",
   "pygments_lexer": "ipython3",
   "version": "3.9.12"
  },
  "orig_nbformat": 4,
  "vscode": {
   "interpreter": {
    "hash": "c3380a37b4678e1f5e651331348d62bc6038aef0d5f414da260f404a34792558"
   }
  }
 },
 "nbformat": 4,
 "nbformat_minor": 2
}
