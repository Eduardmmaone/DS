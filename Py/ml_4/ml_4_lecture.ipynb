{
 "cells": [
  {
   "cell_type": "markdown",
   "metadata": {},
   "source": [
    "# ML-3 Обучение с учителем. Классификация\n",
    "###  Содержание <a class=\"anchor\" id=0></a>\n",
    "- [1. Введение](#1)\n",
    "- [2. Введение в обучение без учителя. Базовая класетизация](#2)\n",
    "- [3. Метрики](#3)\n",
    "- [4. Иерархическая кластеризация](#4)\n",
    "- [5. ЕМ-алгоритмы кластеризации](#5)\n",
    "- [6. Спектральная классификация](#6)\n",
    "- [7. Кластеризация на основе плотности](#7)\n",
    "- [8. Визуализация результатов кластеризации](#8)\n",
    "- [9. PCA и t-SNE, или зачем понижать размерность](#9)\n",
    "- [10. Практика](#10)"
   ]
  },
  {
   "cell_type": "markdown",
   "metadata": {},
   "source": [
    "# 1. Введение <a class=\"anchor\" id=1></a>\n",
    "\n",
    "[к содержанию](#0)\n",
    "\n",
    "<img src=ml_4_img1.png width=800>\n",
    "\n",
    "При обучении с учителем у нас всегда есть размеченные данные, т. е. **«правильные ответы»**. В данном случае мы предсказываем бинарные значения (например, уйдёт клиент от сотового оператора или нет) или точные значения (например, прибыль, которую получит магазин). Строить модели обучения с учителем вы уже умеете.\n",
    "\n",
    ">Однако в реальной жизни данные зачастую приходят неразмеченными. Также не всегда есть возможность размечать их вручную, так как это может быть долго и/или дорого. Например, вы можете быть владельцем интернет-магазина и собирать данные о покупках, но в ваших данных никто не ставит отметки о лояльности клиентов. Или перед вами может стоять задача отделить рентгеновские снимки, на которых есть опухоль в лёгких, от снимков, на которых опухоли нет. Пока врач вручную не разметит данные, правильных ответов для обучения модели не будет.\n",
    "\n",
    "Если размеченных данных нет, невозможно использовать подходы обучения с учителем. В таком случае на помощь приходят **методы обучения без учителя**.\n",
    "\n",
    "### К обучению без учителя можно отнести:\n",
    "\n",
    "* `Методы кластеризации`. Они позволяют разделить объекты на группы, внутри которых объекты максимально похожи друг на друга.\n",
    "* `Методы понижения размерности`. С их помощью можно уменьшить число признаков, которые характеризуют объект. Обычно количество признаков уменьшают до двух-трёх для дальнейшей визуализации данных или использования при обучении моделей.\n",
    "* `Методы ассоциации`. Они используются для того, чтобы найти правила и законы, по которым существует последовательность действий."
   ]
  },
  {
   "cell_type": "markdown",
   "metadata": {},
   "source": [
    "### КАКИЕ ПРОБЛЕМЫ МОЖНО РЕШАТЬ С ПОМОЩЬЮ МЕТОДОВ ОБУЧЕНИЯ БЕЗ УЧИТЕЛЯ?\n",
    "\n",
    "Используя подходы, которые мы изучим в данном модуле, мы сможем лучше понимать данные, с которыми предстоит работать, например **разделять данные на группы**, которые схожи по каким-то признакам.\n",
    "\n",
    "* Данные до кластеризации можно сравнить с фруктовым салатом, состав которого нам нужно понять. Используя методы кластеризации и визуализацию, мы можем понять, из чего состоят наши данные (наш «салат»):\n",
    "\n",
    "<img src=ml_4_img2.png width=800>\n",
    "\n",
    "* Если данных, с которыми вы работаете, много, то методы машинного обучения без учителя позволяют **уменьшить их объём**, убрав схожие данные и оставив только несколько представителей различных групп.\n",
    "\n",
    "* Если разработанная модель плохо или долго обучается, причина может быть в том, что у объекта слишком много признаков. Методы уменьшения размерности помогают **уменьшить количество признаков**, которые характеризуют объект, и ускорить обучение модели.\n",
    "\n",
    "Например, данные, которые изначально описывались тремя признаками (куб на рисунке ниже), мы можем описать и двумя признаками, спроецировав их на плоскость. Далее мы можем спроецировать полученный результат на одну ось и описывать объекты уже одним признаком:\n",
    "\n",
    "<img src=ml_4_img3.png width=800>\n",
    "\n",
    "* Некоторые методы кластеризации помогают **найти выбросы в данных**.\n",
    "\n",
    "* Методы ассоциации позволяют **создавать шаблоны**. Это может помочь правильно расставить товары на полках в магазине или спрогнозировать продукты, которые могут купить вместе (например, если человек купил творог, то, возможно, ему будет нужна и сметана).\n",
    "\n",
    "Таким образом, методы обучения без учителя решают весьма разнообразные задачи и могут помочь Data Science-специалисту в работе."
   ]
  },
  {
   "cell_type": "markdown",
   "metadata": {},
   "source": [
    "# 2. Введение в обучение без учителя. Базовая класетизация <a class=\"anchor\" id=2></a>\n",
    "\n",
    "[к содержанию](#0)\n",
    "\n",
    ">Представьте, что вы работаете дата-сайентистом и получаете задачу по маркетинговому исследованию клиентов. Вам необходимо выделить группы покупателей по степени интереса к продукту и по сумме, которую они тратят.\n",
    "\n",
    "### Как решить данную задачу?\n",
    "\n",
    "**Обучение с учителем здесь не подходит**, так как у нас нет правильных ответов о степени заинтересованности покупателей в продукте.\n",
    "\n",
    "Однако не спешите расстраиваться — на помощь придёт обучение без учителя, а именно кластеризация.\n",
    "\n",
    "Кластеризация позволяет разбить объекты на группы, которые называются `кластерами`.\n",
    "\n",
    "<img src=ml_4_img4.png>\n",
    "\n",
    "Также у каждого кластера есть `центроид`.\n",
    "\n",
    "`Центроид` — это центр масс кластера, или среднее значение координат объектов кластера.\n",
    "\n",
    "<img src=ml_4_img5.png>\n",
    "\n",
    "### Как найти этот `центроид`?\n",
    "\n",
    "Допустим, у нас есть маленький кластер, состоящий из четырёх точек. Каждая точка описывается только одним свойством — `x1`, рост человека:\n",
    "\n",
    "* Человек №1 - `x1 = 180`\n",
    "* Человек №2 - `x2 = 170`\n",
    "* Человек №3 - `x3 = 181`\n",
    "* Человек №4 - `x4 = 160`\n",
    "\n",
    "Тогда для нахождения центроида мы берём все значения по оси `x` и считаем среднее:\n",
    "\n",
    "`x1(центроид кластера) = (180+170+181+160) / 4 = 172`\n",
    "\n",
    "Что делать, если данные описываются двумя свойствами, например, рост (`x1`) и вес (`x2`)?\n",
    "\n",
    "* Человек №1 - `x1 = 180` - `x2 = 70`\n",
    "* Человек №2 - `x2 = 170` - `x2 = 60`\n",
    "* Человек №3 - `x3 = 181` - `x2 = 65`\n",
    "* Человек №4 - `x4 = 160` - `x2 = 45`\n",
    "\n",
    "Для нахождения координат центроида мы последовательно находим:\n",
    "\n",
    "`x1(центроид x1) = (180+170+181+160) / 4 = 172`\n",
    "`x2(центроид x2) = (70+60+65+45) / 4 = 60`\n",
    "\n",
    "**Таким образом, координаты центроида — (172, 60)**.\n"
   ]
  },
  {
   "cell_type": "markdown",
   "metadata": {},
   "source": [
    "## АЛГОРИТМ `K-MEANS`\n",
    "\n",
    "Рассмотрим один из наиболее популярных методов кластеризации — `k-means`.\n",
    "\n",
    "Данный алгоритм был разработан ещё в 1950-х, но благодаря скорости своей работы он до сих пор остаётся востребованным.\n",
    "\n",
    ">**Идея алгоритма** состоит в том, что он разбивает множество элементов векторного пространства на заранее заданное пользователем число кластеров, а далее стремится минимизировать суммарное квадратичное отклонение объектов внутри кластера до центроида кластера.\n",
    "\n",
    "Математически это выглядит следующим образом: \n",
    "\n",
    "<img src=ml_4_img6.png>\n"
   ]
  },
  {
   "cell_type": "markdown",
   "metadata": {},
   "source": [
    "Только что мы рассмотрели, как работает алгоритм для одномерного случая (если есть только один признак, описывающий объект). Ниже вы можете увидеть, как работает алгоритм для двухмерного случая (когда объект описывается двумя признаками).\n",
    "\n",
    "<img src=ml_4_gif.gif>\n",
    "\n",
    "Если объект описывается тремя и более признаками, поиск кластеров идёт в `m`-мерном пространстве признаков. Однако такую работу алгоритма довольно сложно визуализировать."
   ]
  },
  {
   "cell_type": "markdown",
   "metadata": {},
   "source": [
    "Рассмотренный нами алгоритм был основан на центроидах: мы находили центры кластеров и присваивали объекты к ближайшему центроиду кластера.\n",
    "\n",
    "На самом деле центры кластера можно определять разными способами. В зависимости от этого выделяется **несколько вариаций алгоритма `k-means`**:\n",
    "\n",
    "<img src=ml_4_img7.png>\n",
    "\n",
    "Теперь мы знаем, как работает алгоритм `k-means`, но не хотелось бы реализовывать его с нуля. Для того чтобы запустить алгоритм кластеризации `k-means`, нам нужна библиотека `sklearn` и модуль KMeans.\n",
    "\n",
    "Что необходимо для запуска?\n",
    "\n",
    "* Обязательно задать количество кластеров, на которые необходимо разделить данные.\n",
    "* Данные, т. е. параметры объектов (`x1`), которые мы будем передавать в виде матрицы наблюдений X.\n",
    "\n",
    "После этого можно запустить алгоритм и для каждого объекта в данных получить метку, к какому кластеру этот объект относится:"
   ]
  },
  {
   "cell_type": "code",
   "execution_count": null,
   "metadata": {},
   "outputs": [],
   "source": [
    "# импортируем нужный модуль k-means-кластеризации\n",
    "from sklearn.cluster import KMeans\n",
    "\n",
    "# инициализируем алгоритм, при желании задаём разные параметры для алгоритма\n",
    "k_means = KMeans(n_clusters=2, init='k-means++', n_init=10, random_state=42)\n",
    "X = df[[\"x1\", \"x2\", \"x3\"]]\n",
    "# обучаем модель на данных, передав матрицу наблюдений X\n",
    "k_means.fit(X)\n",
    "# получаем результаты кластеризации (список меток, к какому кластеру относится каждый объект из X)\n",
    "labels = k_means.labels_"
   ]
  },
  {
   "cell_type": "markdown",
   "metadata": {},
   "source": [
    "Таким образом, мы обучили модель кластеризации. Если нужно определить, к какому из существующих кластеров будут отнесены новые данные из `df2`, то мы просто воспользуемся методом `predict`:"
   ]
  },
  {
   "cell_type": "code",
   "execution_count": null,
   "metadata": {},
   "outputs": [],
   "source": [
    "X_new = df2[[\"x1\", \"x2\", \"x3\"]]\n",
    "k_means.predict(X_new)"
   ]
  },
  {
   "cell_type": "markdown",
   "metadata": {},
   "source": [
    "Чтобы запустить алгоритм, необходимо задать параметры кластеризации:\n",
    "\n",
    "`n_clusters` — количество кластеров. По умолчанию — `8`.\n",
    "`init` — способ инициализации центроидов. Есть две опции: `random` (выбирает центроиды случайным образом) и `k-means++` (более «хитрый» алгоритм, который позволяет модели быстрее сходиться). По умолчанию используется `k-means++`.\n",
    "`n_init` — количество случайных инициализаций алгоритма `k-means`. В конце будут выбраны те результаты, которые имеют наилучшие значения критерия `k-means`. По умолчанию `n_init = 10`.\n",
    "`max_iter` — максимальное количество итераций алгоритма `k-means` при одном запуске. По умолчанию — `300`.\n",
    "`random_state` — параметр, который определяет генерацию случайных чисел для инициализации центроида. Чтобы детерминировать случайность, нужно задать какое-нибудь число.\n",
    "\n",
    "Теперь попробуем применить полученные знания на практике."
   ]
  },
  {
   "cell_type": "markdown",
   "metadata": {},
   "source": [
    "# Можно посмотреть файл `dst3-ml4-2_clusterization.ipynb`\n",
    "\n"
   ]
  },
  {
   "cell_type": "code",
   "execution_count": 1,
   "metadata": {},
   "outputs": [
    {
     "data": {
      "text/html": [
       "<div>\n",
       "<style scoped>\n",
       "    .dataframe tbody tr th:only-of-type {\n",
       "        vertical-align: middle;\n",
       "    }\n",
       "\n",
       "    .dataframe tbody tr th {\n",
       "        vertical-align: top;\n",
       "    }\n",
       "\n",
       "    .dataframe thead th {\n",
       "        text-align: right;\n",
       "    }\n",
       "</style>\n",
       "<table border=\"1\" class=\"dataframe\">\n",
       "  <thead>\n",
       "    <tr style=\"text-align: right;\">\n",
       "      <th></th>\n",
       "      <th>Name</th>\n",
       "      <th>Total</th>\n",
       "      <th>HP</th>\n",
       "      <th>Attack</th>\n",
       "      <th>Defense</th>\n",
       "      <th>Sp. Atk</th>\n",
       "      <th>Sp. Def</th>\n",
       "      <th>Speed</th>\n",
       "      <th>RealClusters</th>\n",
       "    </tr>\n",
       "  </thead>\n",
       "  <tbody>\n",
       "    <tr>\n",
       "      <th>0</th>\n",
       "      <td>Bulbasaur</td>\n",
       "      <td>318</td>\n",
       "      <td>45</td>\n",
       "      <td>77.634658</td>\n",
       "      <td>50.854702</td>\n",
       "      <td>65</td>\n",
       "      <td>65</td>\n",
       "      <td>45</td>\n",
       "      <td>2</td>\n",
       "    </tr>\n",
       "    <tr>\n",
       "      <th>1</th>\n",
       "      <td>Ivysaur</td>\n",
       "      <td>405</td>\n",
       "      <td>60</td>\n",
       "      <td>67.454273</td>\n",
       "      <td>39.202323</td>\n",
       "      <td>80</td>\n",
       "      <td>80</td>\n",
       "      <td>60</td>\n",
       "      <td>1</td>\n",
       "    </tr>\n",
       "    <tr>\n",
       "      <th>2</th>\n",
       "      <td>Venusaur</td>\n",
       "      <td>525</td>\n",
       "      <td>80</td>\n",
       "      <td>76.007423</td>\n",
       "      <td>47.605846</td>\n",
       "      <td>100</td>\n",
       "      <td>100</td>\n",
       "      <td>80</td>\n",
       "      <td>2</td>\n",
       "    </tr>\n",
       "    <tr>\n",
       "      <th>3</th>\n",
       "      <td>VenusaurMega Venusaur</td>\n",
       "      <td>625</td>\n",
       "      <td>80</td>\n",
       "      <td>77.828031</td>\n",
       "      <td>50.744911</td>\n",
       "      <td>122</td>\n",
       "      <td>120</td>\n",
       "      <td>80</td>\n",
       "      <td>2</td>\n",
       "    </tr>\n",
       "    <tr>\n",
       "      <th>4</th>\n",
       "      <td>Charmander</td>\n",
       "      <td>309</td>\n",
       "      <td>39</td>\n",
       "      <td>68.658104</td>\n",
       "      <td>37.890027</td>\n",
       "      <td>60</td>\n",
       "      <td>50</td>\n",
       "      <td>65</td>\n",
       "      <td>1</td>\n",
       "    </tr>\n",
       "  </tbody>\n",
       "</table>\n",
       "</div>"
      ],
      "text/plain": [
       "                    Name  Total  HP     Attack    Defense  Sp. Atk  Sp. Def  \\\n",
       "0              Bulbasaur    318  45  77.634658  50.854702       65       65   \n",
       "1                Ivysaur    405  60  67.454273  39.202323       80       80   \n",
       "2               Venusaur    525  80  76.007423  47.605846      100      100   \n",
       "3  VenusaurMega Venusaur    625  80  77.828031  50.744911      122      120   \n",
       "4             Charmander    309  39  68.658104  37.890027       60       50   \n",
       "\n",
       "   Speed  RealClusters  \n",
       "0     45             2  \n",
       "1     60             1  \n",
       "2     80             2  \n",
       "3     80             2  \n",
       "4     65             1  "
      ]
     },
     "execution_count": 1,
     "metadata": {},
     "output_type": "execute_result"
    }
   ],
   "source": [
    "# импортируем библиотеку pandas для работы с датафреймами\n",
    "import pandas as pd\n",
    "# импортируем seaborn для визуализации\n",
    "import seaborn as sns\n",
    "# импортируем sklearn для кластеризации\n",
    "from sklearn.cluster import KMeans \n",
    "\n",
    "# загружаем данные\n",
    "df = pd.read_csv('pokemon.zip')\n",
    "# датасет содержит название покемона, уровень его защиты, силу атаки и скорость\n",
    "df.head()"
   ]
  },
  {
   "cell_type": "code",
   "execution_count": 2,
   "metadata": {},
   "outputs": [
    {
     "name": "stderr",
     "output_type": "stream",
     "text": [
      "c:\\Users\\AubakirovMA\\Anaconda3\\lib\\site-packages\\seaborn\\_decorators.py:36: FutureWarning: Pass the following variables as keyword args: x, y. From version 0.12, the only valid positional argument will be `data`, and passing other arguments without an explicit keyword will result in an error or misinterpretation.\n",
      "  warnings.warn(\n"
     ]
    },
    {
     "data": {
      "text/plain": [
       "<AxesSubplot:xlabel='Attack', ylabel='Defense'>"
      ]
     },
     "execution_count": 2,
     "metadata": {},
     "output_type": "execute_result"
    },
    {
     "data": {
      "image/png": "[encoded data removed]",
      "text/plain": [
       "<Figure size 432x288 with 1 Axes>"
      ]
     },
     "metadata": {
      "needs_background": "light"
     },
     "output_type": "display_data"
    }
   ],
   "source": [
    "# попробуем кластеризовать покемонов по их силе атаки и уровню защиты\n",
    "# для этого сохраним в матрицу X два интересующих нас признака: атаку и защиту\n",
    "X = df[['Attack', 'Defense']]\n",
    "\n",
    "#визуализируем\n",
    "sns.scatterplot(df.Attack, df.Defense)"
   ]
  },
  {
   "cell_type": "markdown",
   "metadata": {},
   "source": [
    "Из получившегося графика непонятно, сколько кластеров должно быть и как их выбрать. Попробуем разделить данные на три кластера.\n",
    "\n",
    "Инициализируем алгоритм `k-means`. При инициализации зададим параметры моделирования:\n",
    "\n",
    "* `n_clusters` — количество кластеров;\n",
    "* `init` — стратегия кластеризации;\n",
    "* `n_init` — количество запусков алгоритма `k-means`;\n",
    "* `random_state` — чтобы результаты воспроизводились от запуска к запуску."
   ]
  },
  {
   "cell_type": "code",
   "execution_count": 3,
   "metadata": {},
   "outputs": [
    {
     "name": "stderr",
     "output_type": "stream",
     "text": [
      "c:\\Users\\AubakirovMA\\Anaconda3\\lib\\site-packages\\seaborn\\_decorators.py:36: FutureWarning: Pass the following variables as keyword args: x, y. From version 0.12, the only valid positional argument will be `data`, and passing other arguments without an explicit keyword will result in an error or misinterpretation.\n",
      "  warnings.warn(\n"
     ]
    },
    {
     "data": {
      "text/plain": [
       "<AxesSubplot:xlabel='Attack', ylabel='Defense'>"
      ]
     },
     "execution_count": 3,
     "metadata": {},
     "output_type": "execute_result"
    },
    {
     "data": {
      "image/png": "[encoded data removed]",
      "text/plain": [
       "<Figure size 432x288 with 1 Axes>"
      ]
     },
     "metadata": {
      "needs_background": "light"
     },
     "output_type": "display_data"
    }
   ],
   "source": [
    "# инициализируем алгоритм k-means с количеством кластеров 3\n",
    "kmeans = KMeans(n_clusters=3, init='k-means++', n_init=10, random_state=42)\n",
    "\n",
    "# запустим обучение модели\n",
    "kmeans.fit(X)\n",
    "\n",
    "# предскажем, к какому кластеру принадлежат покемоны \n",
    "predictions = kmeans.predict(X)\n",
    "# если мы хотим получить метки класса для тех же данных, на которых обучили модель, можно запросить labels\n",
    "predictions = kmeans.labels_\n",
    "\n",
    "# сохраним предсказания в датафрейм\n",
    "df['Clusters_k3'] = predictions\n",
    "\n",
    "#визуализируем результаты. Параметр c принимает вектор с номерами классов для группировки объектов по цветам \n",
    "sns.scatterplot(df.Attack, df.Defense, c=predictions)"
   ]
  },
  {
   "cell_type": "markdown",
   "metadata": {},
   "source": [
    "В данном случае видно, что данные хорошо делятся на три кластера, а также есть одна точка-выброс. \n",
    "\n",
    "Попробуем увеличить количество кластеров до четырёх, чтобы вынести выброс в отдельный кластер:\n",
    "\n",
    "Как видим, «отделить» выброс от других данных не получается: `k-means` не умеет обрабатывать выбросы.\n",
    "\n",
    ">В данном случае мы проводили кластеризацию по двум признакам. Мы сделали это для того, чтобы можно было визуализировать результаты. Для кластеризации можно использовать и более двух признаков, однако в таком случае кластеризация будет проходить в `n`-мерном пространстве (для трёх признаков пространство будет трёхмерным), и визуализировать результаты будет непросто.\n",
    "\n",
    "В трёхмерном и другом `n`-мерном случае кластеризация запускается следующим образом:"
   ]
  },
  {
   "cell_type": "code",
   "execution_count": 4,
   "metadata": {},
   "outputs": [],
   "source": [
    "# добавляем третий признак — скорость покемона, алгоритм такой же\n",
    "X = df[['Attack', 'Defense', 'Speed']]\n",
    " \n",
    "# инициализируем алгоритм k-means с количеством кластеров 3\n",
    "kmeans = KMeans(n_clusters=3, init='k-means++', n_init=10, random_state=42)\n",
    " \n",
    "# запускаем обучение модели\n",
    "kmeans.fit(X)\n",
    " \n",
    "# предсказываем, к какому кластеру принадлежат покемоны \n",
    "predictions = kmeans.predict(X)\n",
    "# если мы хотим получить метки класса для тех же данных, на которых обучили модель, можно запросить labels\n",
    "predictions = kmeans.labels_"
   ]
  },
  {
   "cell_type": "markdown",
   "metadata": {},
   "source": [
    "## НЕДОСТАТКИ АЛГОРИТМА K-MEANS\n",
    "\n",
    "* Необходимо заранее знать, на сколько кластеров мы хотим разделить данные. В учебных примерах известно, каким должно быть `k`, и определить это значение довольно легко. В реальности данные сложнее и трудно заранее предугадать, сколько кластеров мы хотим получить.\n",
    "\n",
    "* Очевидно, что для объектов, которые в равной степени принадлежат к разным кластерам, алгоритм `k-means` будет отрабатывать плохо.\n",
    "\n",
    "* Алгоритм чувствителен к выбросам в данных, так как выбросы сильно искажают местонахождение центроида кластера.\n",
    "\n",
    "Например, на картинке ниже зелёная точка справа — явный выброс. Но получилось так, что этот выброс находится ближе всего к зелёному кластеру, поэтому выброс был отнесён к нему. При подсчёте центроида для зелёного кластера появится искажение, так как выброс сильно на это повлияет:\n",
    "\n",
    "<img src=ml_4_img8.png>\n",
    "\n",
    "* Плохо работает на данных, которые образуют удлинённые кластеры, а также на кластерах неправильной формы.\n",
    "\n",
    "Например, если данные распределены, как на левом и среднем рисунках ниже, алгоритм `k-means` будет проводить кластеризацию некорректно и выделять два довольно странных кластера (синий и оранжевый). На правом рисунке изображены кластеры удлинённой формы, и для них `k-means` также отрабатывает плохо. Так происходит потому, что алгоритм ищет ближайших соседей и поэтому выделяет зелёным две нижних части двух разных кластеров, считая их ближайшими соседями.\n",
    "\n",
    "<img src=ml_4_img9.png>\n",
    "\n",
    "* Так как в самом начале работы алгоритма центроиды определяются случайным образом, результат сильно зависит от того, какие начальные объекты будут определены как центры кластеров.\n"
   ]
  },
  {
   "cell_type": "markdown",
   "metadata": {},
   "source": [
    "# 3. Метрики <a class=\"anchor\" id=3></a>\n",
    "\n",
    "[к содержанию](#0)"
   ]
  },
  {
   "cell_type": "markdown",
   "metadata": {},
   "source": [
    "# 4. Иерархическая кластеризация <a class=\"anchor\" id=4></a>\n",
    "\n",
    "[к содержанию](#0)"
   ]
  },
  {
   "cell_type": "markdown",
   "metadata": {},
   "source": [
    "# 5. ЕМ-алгоритмы кластеризации <a class=\"anchor\" id=5></a>\n",
    "\n",
    "[к содержанию](#0)"
   ]
  },
  {
   "cell_type": "markdown",
   "metadata": {},
   "source": [
    "# 6. Спектральная классификация <a class=\"anchor\" id=6></a>\n",
    "\n",
    "[к содержанию](#0)"
   ]
  },
  {
   "cell_type": "markdown",
   "metadata": {},
   "source": [
    "# 7. Кластеризация на основе плотности <a class=\"anchor\" id=7></a>\n",
    "\n",
    "[к содержанию](#0)"
   ]
  },
  {
   "cell_type": "markdown",
   "metadata": {},
   "source": [
    "# 8. Визуализация результатов кластеризации <a class=\"anchor\" id=8></a>\n",
    "\n",
    "[к содержанию](#0)"
   ]
  },
  {
   "cell_type": "markdown",
   "metadata": {},
   "source": [
    "# 9. PCA и t-SNE, или зачем понижать размерность <a class=\"anchor\" id=9></a>\n",
    "\n",
    "[к содержанию](#0)"
   ]
  },
  {
   "cell_type": "markdown",
   "metadata": {},
   "source": [
    "# 10. Практика <a class=\"anchor\" id=10></a>\n",
    "\n",
    "[к содержанию](#0)"
   ]
  }
 ],
 "metadata": {
  "kernelspec": {
   "display_name": "Python 3.9.12 ('base')",
   "language": "python",
   "name": "python3"
  },
  "language_info": {
   "codemirror_mode": {
    "name": "ipython",
    "version": 3
   },
   "file_extension": ".py",
   "mimetype": "text/x-python",
   "name": "python",
   "nbconvert_exporter": "python",
   "pygments_lexer": "ipython3",
   "version": "3.9.12"
  },
  "orig_nbformat": 4,
  "vscode": {
   "interpreter": {
    "hash": "c3380a37b4678e1f5e651331348d62bc6038aef0d5f414da260f404a34792558"
   }
  }
 },
 "nbformat": 4,
 "nbformat_minor": 2
}
