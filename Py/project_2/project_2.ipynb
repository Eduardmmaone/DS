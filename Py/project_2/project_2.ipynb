{
 "cells": [
  {
   "cell_type": "markdown",
   "metadata": {},
   "source": [
    "# PROJECT-2\n",
    "\n",
    "###  Содержание <a class=\"anchor\" id=0></a>\n",
    "- [1. Введение. Знакомство с датасетом](#1)\n",
    "- [2. Предварительный анализ данных](#2)\n",
    "- [3. Глобальный анализ показателей](#3)\n",
    "- [4. Анализ кандидатов для заказчиков](#4)\n",
    "- [5. Подготовка к аттестации по SQL](#5)"
   ]
  },
  {
   "cell_type": "markdown",
   "metadata": {},
   "source": [
    "##  Введение. Знакомство с датасетом <a class=\"anchor\" id=1></a>\n",
    "\n",
    "[к содержанию](#0)\n",
    "\n",
    "Большинство крупных компаний хранят данные в реляционных базах, так как в таком виде они более структурированы и адаптированы для внешних систем, с помощью которых, как правило, данные в базу и заносятся. В системах с такими базами данных имеют значение именно отношения между сущностями. Если вам понадобилось, например, посчитать статистику по заказам, то здесь важны отношения: заказ, клиент, товар и т. д.\n",
    "\n",
    ">Мы переделали уже знакомый вам по предыдущему проекту датасет *hh.ru* в реляционный, чтобы вы могли попрактиковаться и в этой области.\n",
    "\n",
    "Представьте, что вы работаете в некотором дата-центре по трудоустройству, куда стекаются данные с различных платформ для найма. Вам необходимо познакомиться с данными, понять, с какими резюме вы имеете дело, а дальше собрать статистику для различных кадровых агентств и статистических центров.\n",
    "\n",
    ">Вы получите данные по возрасту кандидатов, по городам с наиболее активным рынком труда, поймёте специфику найма (где какие вакансии более активны), а также узнаете желаемые позиции для тех или иных кандидатов.\n",
    "\n",
    "### Проект включает в себя несколько этапов:\n",
    "\n",
    "1. знакомство с датасетом;\n",
    "2. предварительный анализ данных;\n",
    "3. анализ кандидатов;\n",
    "4. глобальный анализ показателей.\n",
    "\n",
    "###  В качестве итогового задания проекта вы подготовите текстовый **Google-документ**, в котором по каждой встречающейся вам в этом модуле задаче приведёте ваш ответ в формате:\n",
    "\n",
    "1. номер задания;\n",
    "2. код с пояснениями;\n",
    "3. результат запроса (в виде таблицы);\n",
    "4. общий вывод в конце по результатам анализа рынка труда.\n",
    "\n",
    "### ЗНАКОМСТВО С ДАТАСЕТОМ\n",
    "\n",
    "Напоминаем, что датасет, с которым мы будем работать, уже вам знаком. Мы взяли те же данные *HeadHunter*, только разбили их по таблицам и перенесли в [БД SQL](http://sql.skillfactory.ru:3000/browse/2/schema/hh). Такой процесс называется **нормализацией** (вы можете почитать про неё дополнительно, если вам понадобятся знания по проектированию баз данных).\n",
    "\n",
    "<img src=p_2_img1.png>\n",
    "\n",
    "**CANDIDATE**\n",
    "\n",
    "Таблица хранит в себе общие данные по кандидатам: id, пол, возраст, желаемая должность, город, вид занятости, текущая должность, дата обновления записи и зарплата.\n",
    "\n",
    "**CITY**\n",
    "\n",
    "city — таблица-справочник для наших кандидатов — хранит код города и его название.\n",
    "\n",
    "**CANDIDATE_TIMETABLE_TYPE**\n",
    "\n",
    "Это дополнительная таблица. Она существует для организации связи многие-ко-многим, так как у нас есть много кандидатов и у них может быть несколько подходящих типов рабочего графика.\n",
    "\n",
    "**TIMETABLE_TYPE**\n",
    "\n",
    "Это таблица-справочник вариантов рабочего графика, подходящего кандидату."
   ]
  },
  {
   "cell_type": "markdown",
   "metadata": {},
   "source": [
    "##  2. Предварительный анализ данных <a class=\"anchor\" id=2></a>\n",
    "\n",
    "[к содержанию](#0)\n",
    "\n",
    "`Задание 2.1 -2.2`\n",
    "\n",
    "Максимальный и минимальный возраст кандидатов"
   ]
  },
  {
   "cell_type": "code",
   "execution_count": null,
   "metadata": {
    "vscode": {
     "languageId": "sql"
    }
   },
   "outputs": [],
   "source": [
    "select\n",
    "    max(age),\n",
    "    min(age)\n",
    "from\n",
    "    hh.candidate"
   ]
  },
  {
   "cell_type": "markdown",
   "metadata": {},
   "source": [
    "<img src=p_2_img3.png>\n",
    "\n",
    "**Вывод:**\n",
    "1. Минимальный возраст соискателя составляет 14 лет\n",
    "2. Максимальный 100 лет, что похоже на выброс"
   ]
  },
  {
   "cell_type": "markdown",
   "metadata": {},
   "source": [
    "`Задание 2.3`\n",
    "\n",
    "Попробуем «почистить» данные. Напишите запрос, который позволит посчитать для каждого возраста (`age`) сколько (`cnt`) человек этого возраста у нас есть.\n",
    "Отсортируйте результат по возрасту в обратном порядке."
   ]
  },
  {
   "cell_type": "code",
   "execution_count": null,
   "metadata": {
    "vscode": {
     "languageId": "sql"
    }
   },
   "outputs": [],
   "source": [
    "select\n",
    "    age,\n",
    "    count(*) cnt /* посчитаем количество строк для каждого возраста */\n",
    "from\n",
    "    hh.candidate\n",
    "group by 1 /* группируем вывод по возрастам */ \n",
    "order by 1 desc "
   ]
  },
  {
   "cell_type": "markdown",
   "metadata": {},
   "source": [
    "<img src=p_2_img4.png>\n",
    "\n",
    "**Вывод:**\n",
    "1. 100 летний соискатель **является выбросом** (ошибкой в данных, в дальнейшем мы не будем учитывать его при анализе)\n",
    "2. Начиная с 77 лет и моложе прослеживается не единичность таких значений **принимаем их за реальные**"
   ]
  },
  {
   "cell_type": "markdown",
   "metadata": {},
   "source": [
    "`Задание 2.4`\n",
    "\n",
    "По данным Росстата, средний возраст занятых в экономике России составляет 39.7 лет. Мы округлим это значение до 40. Найдите количество кандидатов, которые старше данного возраста. Не забудьте отфильтровать «ошибочный» возраст 100."
   ]
  },
  {
   "cell_type": "code",
   "execution_count": null,
   "metadata": {
    "vscode": {
     "languageId": "sql"
    }
   },
   "outputs": [],
   "source": [
    "select\n",
    "    count(age)\n",
    "from\n",
    "    hh.candidate\n",
    "where\n",
    "    age > 40\n",
    "and age != 100 /* не учитываем \"выброс\" в подсчётах */"
   ]
  },
  {
   "cell_type": "markdown",
   "metadata": {},
   "source": [
    "<img src=p_2_img5.png>\n",
    "\n",
    "**Вывод:**\n",
    "1. Количество кандидатов старше 40 лет 6263 (что составляет 14% от всех соискателей)\n",
    "2. Если верить Росстату можно сделать вывод, что \"быть занятым в экономике\" и поиск работы это сильно разные вещи. Ищут работу, хотят начать или сменить работу в основном молодые люди, с увеличение возраста число соискателей падает.\n",
    "3. Медианный возраст соискателей составляет окола 30 лет"
   ]
  },
  {
   "cell_type": "markdown",
   "metadata": {},
   "source": [
    "##  3. Глобальный анализ показателей <a class=\"anchor\" id=2></a>\n",
    "\n",
    "[к содержанию](#0)\n",
    "\n",
    "`Задание 3.1`\n",
    "\n",
    "Для начала напишите запрос, который позволит узнать, сколько (`cnt`) у нас кандидатов из каждого города (`city`).\n",
    "Формат выборки: `city`, `cnt`.\n",
    "Группировку таблицы необходимо провести по столбцу `title`, результат отсортируйте по количеству в обратном порядке."
   ]
  },
  {
   "cell_type": "code",
   "execution_count": null,
   "metadata": {
    "vscode": {
     "languageId": "sql"
    }
   },
   "outputs": [],
   "source": [
    "select\n",
    "    c.title city,\n",
    "    count(c.title) cnt \n",
    "from\n",
    "    hh.city c \n",
    "join\n",
    "    hh.candidate cnd on cnd.city_id = c.id\n",
    "group by 1 \n",
    "order by 2 desc"
   ]
  },
  {
   "cell_type": "markdown",
   "metadata": {},
   "source": [
    "<img src=p_2_img6.png>"
   ]
  },
  {
   "cell_type": "markdown",
   "metadata": {},
   "source": [
    "`Задание 3.2`\n",
    "\n",
    "Москва бросается в глаза как, пожалуй, самый активный рынок труда. Напишите запрос, который позволит понять, каких кандидатов из Москвы устроит «проектная работа».\n",
    "Формат выборки: `gender`, `age`, `desirable_occupation`, `city`, `employment_type`.\n",
    "Отсортируйте результат по `id` кандидата."
   ]
  },
  {
   "cell_type": "code",
   "execution_count": null,
   "metadata": {
    "vscode": {
     "languageId": "sql"
    }
   },
   "outputs": [],
   "source": [
    "select\n",
    "    cnd.gender,\n",
    "    cnd.age,\n",
    "    cnd.desirable_occupation,\n",
    "    c.title,\n",
    "    cnd.employment_type\n",
    "from\n",
    "    hh.candidate cnd \n",
    "join hh.city c on cnd.city_id = c.id \n",
    "where cnd.employment_type like '%проектная работа%'\n",
    "and c.title = 'Москва'\n",
    "order by cnd.id"
   ]
  },
  {
   "cell_type": "markdown",
   "metadata": {},
   "source": [
    "`Задание 3.3`\n",
    "\n",
    "Данных оказалось многовато. Отфильтруйте только самые популярные IT-профессии — `разработчик`, `аналитик`, `программист`.\n",
    "Обратите внимание, что данные названия могут быть написаны как с большой, так и с маленькой буквы.\n",
    "Отсортируйте результат по `id` кандидата."
   ]
  },
  {
   "cell_type": "code",
   "execution_count": null,
   "metadata": {
    "vscode": {
     "languageId": "sql"
    }
   },
   "outputs": [],
   "source": [
    "select\n",
    "    cnd.gender,\n",
    "    cnd.age,\n",
    "    cnd.desirable_occupation,\n",
    "    c.title,\n",
    "    cnd.employment_type\n",
    "from\n",
    "    hh.candidate cnd \n",
    "join hh.city c on cnd.city_id = c.id \n",
    "where cnd.employment_type like '%проектная работа%'\n",
    "and c.title = 'Москва'\n",
    "and (cnd.desirable_occupation  ilike '%разработчик%'\n",
    "or cnd.desirable_occupation ilike '%аналитик%'\n",
    "or cnd.desirable_occupation ilike '%программист%')\n",
    "order by cnd.id"
   ]
  },
  {
   "cell_type": "markdown",
   "metadata": {},
   "source": [
    "`Задание 3.4`\n",
    "\n",
    "Для общей информации попробуйте выбрать номера и города кандидатов, у которых занимаемая должность совпадает с желаемой.\n",
    "Формат выборки: `id`, `city`.\n",
    "Отсортируйте результат по городу и `id` кандидата."
   ]
  },
  {
   "cell_type": "code",
   "execution_count": null,
   "metadata": {
    "vscode": {
     "languageId": "sql"
    }
   },
   "outputs": [],
   "source": [
    "select\n",
    "    cnd.id,\n",
    "    c.title city\n",
    "from\n",
    "    hh.candidate cnd \n",
    "join hh.city c on cnd.city_id = c.id\n",
    "where\n",
    "    cnd.desirable_occupation = cnd.current_occupation\n",
    "order by 2, 1"
   ]
  },
  {
   "cell_type": "markdown",
   "metadata": {},
   "source": [
    "`Задание 3.5`\n",
    "\n",
    "Определите количество кандидатов пенсионного возраста.\n",
    "Пенсионный возраст для мужчин наступает в 65 лет, для женщин — в 60 лет."
   ]
  },
  {
   "cell_type": "code",
   "execution_count": null,
   "metadata": {
    "vscode": {
     "languageId": "sql"
    }
   },
   "outputs": [],
   "source": [
    "select\n",
    "    count(age)\n",
    "from hh.candidate\n",
    "where\n",
    "age != 100\n",
    "and \n",
    "    (gender = 'M' and age >= 65)\n",
    "or\n",
    "    (gender = 'F' and age >= 60)\n",
    "--75"
   ]
  },
  {
   "cell_type": "markdown",
   "metadata": {},
   "source": [
    "##  3. Анализ кандидатов для заказчиков <a class=\"anchor\" id=2></a>\n",
    "\n",
    "[к содержанию](#0)\n",
    "\n",
    "`Задание 4.1`\n",
    "\n",
    "Для добывающей компании нам необходимо подобрать кандидатов из Новосибирска, Омска, Томска и Тюмени, которые готовы работать вахтовым методом.\n",
    "Формат выборки: `gender`, `age`, `desirable_occupation`, `city`, `employment_type`, `timetable_type`.\n",
    "Отсортируйте результат по городу и номеру кандидата."
   ]
  },
  {
   "cell_type": "code",
   "execution_count": null,
   "metadata": {
    "vscode": {
     "languageId": "sql"
    }
   },
   "outputs": [],
   "source": [
    "select\n",
    "    cnd.gender,\n",
    "    cnd.age,\n",
    "    cnd.desirable_occupation,\n",
    "    c.title city,\n",
    "    cnd.employment_type,\n",
    "    tt.title timetable_type\n",
    "from\n",
    "    hh.candidate cnd\n",
    "join hh.city c on cnd.city_id = c.id\n",
    "join hh.candidate_timetable_type ctt on cnd.id = ctt.candidate_id\n",
    "join hh.timetable_type tt on ctt.timetable_id = tt.id\n",
    "where\n",
    "    c.title in ('Новосибирск', 'Омск', 'Томск', 'Тюмень')\n",
    "and\n",
    "    tt.title = 'вахтовый метод'\n",
    "order by c.title, cnd.id"
   ]
  },
  {
   "cell_type": "markdown",
   "metadata": {},
   "source": [
    "`Задание 4.2`\n",
    "\n",
    "Для заказчиков из Санкт-Петербурга нам необходимо собрать список из 10 желаемых профессий кандидатов из того же города от 16 до 21 года (в выборку включается 16 и 21, сортировка производится по возрасту) с указанием их возраста, а также добавить строку `Total` с общим количеством таких кандидатов. Напишите запрос, который позволит получить выборку вида:\n",
    "\n",
    "<img src=p_2_img2.png>"
   ]
  },
  {
   "cell_type": "code",
   "execution_count": null,
   "metadata": {
    "vscode": {
     "languageId": "sql"
    }
   },
   "outputs": [],
   "source": [
    "(select\n",
    "    cnd.desirable_occupation,\n",
    "    cnd.age\n",
    "from\n",
    "    hh.candidate cnd\n",
    "join hh.city c on cnd.city_id = c.id\n",
    "where\n",
    "    cnd.age between 16 and 21\n",
    "and\n",
    "    c.title = 'Санкт-Петербург'\n",
    "order by cnd.age\n",
    "limit 10)\n",
    "union all\n",
    "(select\n",
    "    'Total',\n",
    "    count(*)\n",
    "from\n",
    "    hh.candidate cnd\n",
    "join hh.city c on cnd.city_id = c.id\n",
    "where\n",
    "    cnd.age between 16 and 21\n",
    "and\n",
    "    c.title = 'Санкт-Петербург')"
   ]
  },
  {
   "cell_type": "markdown",
   "metadata": {},
   "source": []
  }
 ],
 "metadata": {
  "kernelspec": {
   "display_name": "Python 3.9.12 ('base')",
   "language": "python",
   "name": "python3"
  },
  "language_info": {
   "name": "python",
   "version": "3.9.12"
  },
  "orig_nbformat": 4,
  "vscode": {
   "interpreter": {
    "hash": "c3380a37b4678e1f5e651331348d62bc6038aef0d5f414da260f404a34792558"
   }
  }
 },
 "nbformat": 4,
 "nbformat_minor": 2
}
