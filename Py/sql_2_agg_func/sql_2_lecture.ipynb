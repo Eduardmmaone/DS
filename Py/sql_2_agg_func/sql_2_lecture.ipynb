{
 "cells": [
  {
   "cell_type": "markdown",
   "metadata": {},
   "source": [
    "# SQL aggregate functions\n",
    "\n",
    "###  Содержание <a class=\"anchor\" id=0></a>\n",
    "- [1. Знакомимся с данными](#1)\n",
    "- [2. Убираем повторяющиеся значения](#2)\n",
    "- [3. Агрегатные функции](#3)\n",
    "- [4. Группировка](#4)\n",
    "- [5. Фильтрация агрегированных строк](#5)\n",
    "- [6. Итоги](#6)"
   ]
  },
  {
   "cell_type": "markdown",
   "metadata": {},
   "source": [
    "## Знакомство с данными <a class=\"anchor\" id=1></a>\n",
    "\n",
    "[к содержанию](#0)\n",
    "\n",
    "На протяжении всего модуля мы будем работать с таблицей [sql.pokemon](http://sql.skillfactory.ru:3000/question#eyJkYXRhc2V0X3F1ZXJ5Ijp7ImRhdGFiYXNlIjoyLCJxdWVyeSI6eyJzb3VyY2UtdGFibGUiOjM3fSwidHlwZSI6InF1ZXJ5In0sImRpc3BsYXkiOiJ0YWJsZSIsInZpc3VhbGl6YXRpb25fc2V0dGluZ3MiOnt9fQ==), содержащей данные о покемонах и их характеристиках из классических видеоигр.\n",
    "\n",
    "Давайте познакомимся с нашими покемонами и данными о них!\n",
    "\n",
    "<img src=sql_2_img1.png>\n",
    "\n",
    "Присмотримся к содержимому таблицы `sql.pokemon`: в ней хранится информация о покемонах.\n",
    "\n",
    "* `id`\t- уникальный идентификатор\n",
    "* `name`\t- имя\n",
    "* `type1`\t- основной тип\n",
    "* `type2`\t- дополнительный тип\n",
    "* `hp`\t- количество очков здоровья\n",
    "* `attack`\t- показатели атаки\n",
    "* `defense`\t- показатели защиты\n",
    "* `speed`\t- показатели скорости"
   ]
  },
  {
   "cell_type": "markdown",
   "metadata": {},
   "source": [
    "## Убираем повторяющиеся значения <a class=\"anchor\" id=2></a>\n",
    "\n",
    "[к содержанию](#0)\n",
    "\n",
    ">**Примечание**. Как и в предыдущем модуле, вы можете посмотреть подробный разбор структуры предлагаемых запросов во вкладке **Детализация**.\n",
    "\n",
    "Для начала получим все основные типы покемонов."
   ]
  },
  {
   "cell_type": "code",
   "execution_count": null,
   "metadata": {
    "vscode": {
     "languageId": "sql"
    }
   },
   "outputs": [],
   "source": [
    "SELECT /*выбор*/\n",
    "    type1 /*столбец type1*/\n",
    "FROM sql.pokemon /*из таблицы sql.pokemon*/"
   ]
  },
  {
   "cell_type": "markdown",
   "metadata": {},
   "source": [
    "Видно, что типы повторяются, потому что в результате запроса вы получаете все строки, которые подходят под заданные условия.\n",
    "\n",
    "Чтобы получить уникальные значения из столбца, воспользуемся ключевым словом `DISTINCT`."
   ]
  },
  {
   "cell_type": "code",
   "execution_count": null,
   "metadata": {
    "vscode": {
     "languageId": "sql"
    }
   },
   "outputs": [],
   "source": [
    "SELECT DISTINCT /*выбрать уникальные значения*/\n",
    "    type1 /*столбец type1*/\n",
    "FROM sql.pokemon /*из таблицы sql.pokemon*/"
   ]
  },
  {
   "cell_type": "markdown",
   "metadata": {},
   "source": [
    "Мы можем применять `DISTINCT` и для нескольких столбцов.\n",
    "\n",
    "Получим, например, все уникальные пары основного и дополнительного типов для покемонов."
   ]
  },
  {
   "cell_type": "code",
   "execution_count": null,
   "metadata": {
    "vscode": {
     "languageId": "sql"
    }
   },
   "outputs": [],
   "source": [
    "SELECT DISTINCT /*выбрать уникальные значения*/\n",
    "    type1, /*столбец type1*/\n",
    "    type2 /*столбец type2*/\n",
    "FROM sql.pokemon /*из таблицы sql.pokemon*/"
   ]
  },
  {
   "cell_type": "markdown",
   "metadata": {},
   "source": [
    ">**Обратите внимание!** `DISTINCT` пишется только один раз, в начале списка получаемых столбцов."
   ]
  },
  {
   "cell_type": "markdown",
   "metadata": {},
   "source": [
    "## Агрегатные функции <a class=\"anchor\" id=3></a>\n",
    "\n",
    "[к содержанию](#0)\n",
    "\n",
    "Кроме простых математических операций, которые мы использовали в предыдущем модуле, СУБД позволяет проводить статистические вычисления для нескольких строк.\n",
    "\n",
    "Давайте посчитаем количество строк в таблице. Для этого применим агрегатную функцию `COUNT`."
   ]
  },
  {
   "cell_type": "code",
   "execution_count": null,
   "metadata": {
    "vscode": {
     "languageId": "sql"
    }
   },
   "outputs": [],
   "source": [
    "SELECT\n",
    "    COUNT(*)\n",
    "FROM sql.pokemon"
   ]
  },
  {
   "cell_type": "markdown",
   "metadata": {},
   "source": [
    "`COUNT` считает строки, а звёздочка (`*`) в аргументе функции означает, что считаются все строки, которые возвращает запрос.\n",
    "\n",
    "Если в аргументе функции указать название столбца, функция обработает только строки с непустым значением.\n",
    "\n",
    "Внутри функции `COUNT` мы можем также применять `DISTINCT`, чтобы вычислить количество уникальных значений."
   ]
  },
  {
   "cell_type": "code",
   "execution_count": null,
   "metadata": {
    "vscode": {
     "languageId": "sql"
    }
   },
   "outputs": [],
   "source": [
    "SELECT\n",
    "    COUNT(DISTINCT type1), /*кол-во уникальный типов покемонов */\n",
    "    COUNT(DISTINCT type2) /*кол-во уникальных подтипов покемонов */\n",
    "FROM sql.pokemon"
   ]
  },
  {
   "cell_type": "markdown",
   "metadata": {},
   "source": [
    "### ОСНОВНЫЕ АГРЕГАТНЫЕ ФУНКЦИИ \n",
    "\n",
    "* `COUNT` — вычисляет число непустых строк;\n",
    "* `SUM` — вычисляет сумму;\n",
    "* `AVG` — вычисляет среднее;\n",
    "* `MAX` — вычисляет максимум;\n",
    "* `MIN` — вычисляет минимум.\n",
    "\n",
    "Какое среднее количество очков здоровья у покемонов-драконов (то есть тех, у кого основной тип — `Dragon`)?"
   ]
  },
  {
   "cell_type": "code",
   "execution_count": null,
   "metadata": {
    "vscode": {
     "languageId": "sql"
    }
   },
   "outputs": [],
   "source": [
    "SELECT\n",
    "    AVG(hp)\n",
    "FROM sql.pokemon\n",
    "WHERE type1 = 'Dragon'"
   ]
  },
  {
   "cell_type": "code",
   "execution_count": null,
   "metadata": {
    "vscode": {
     "languageId": "sql"
    }
   },
   "outputs": [],
   "source": [
    "SELECT /*выбор*/\n",
    "    COUNT(*) AS \"всего травяных покемонов\", /*подсчёт всех строк; назначить алиас \"всего травяных покемонов\"*/\n",
    "    COUNT(type2) AS \"покемонов с дополнительным типом\", /*подсчёт непустых строк в столбце type2; назначить алиас \"покемонов с дополнительным типом\"*/\n",
    "    AVG(attack) AS \"средняя атака\", /*среднее значение столбца attack; назначить алиас \"средняя атака\"*/\n",
    "    AVG(defense) AS \"средняя защита\" /*среднее значение столбца defense; назначить алиас \"средняя защита\"*/\n",
    "FROM sql.pokemon /*из таблицы sql.pokemon*/\n",
    "WHERE type1 = 'Grass'/*при условии, что значение столбца type1 содержит grass*/"
   ]
  },
  {
   "cell_type": "markdown",
   "metadata": {},
   "source": [
    "<img src=sql_2_img2.png>\n",
    "\n",
    "Итак, мы разобрали и попробовали применить базовые агрегатные функции.\n",
    "\n",
    "### ДОПОЛНИТЕЛЬНО\n",
    "\n",
    "С полным перечнем существующих агрегатных функций вы можете ознакомиться в [официальной документации](https://postgrespro.ru/docs/postgrespro/11/functions-aggregate).\n",
    "\n",
    ">**Важно!** Если платформа не принимает ваш вариант кода, обращайте внимание на выпадающий пункт меню See full output: там иногда могут быть подсказки о причине ошибки."
   ]
  },
  {
   "cell_type": "markdown",
   "metadata": {},
   "source": [
    "Напишите запрос, который выведет:\n",
    "\n",
    "* количество покемонов (столбец `pokemon_count`);\n",
    "* среднюю скорость (столбец `avg_speed`);\n",
    "* максимальное и минимальное число очков здоровья (столбцы `max_hp` и `min_hp`)\n",
    "* для электрических (`Electric`) покемонов, имеющих дополнительный тип и показатели атаки или защиты больше 50."
   ]
  },
  {
   "cell_type": "code",
   "execution_count": null,
   "metadata": {
    "vscode": {
     "languageId": "sql"
    }
   },
   "outputs": [],
   "source": [
    "SELECT\n",
    "    COUNT(*) pokemon_count,\n",
    "    AVG(speed) avg_speed,\n",
    "    MAX(hp) max_hp,\n",
    "    MIN(hp) min_hp\n",
    "FROM sql.pokemon\n",
    "WHERE type1 = 'Electric'\n",
    "    AND type2 IS NOT NULL\n",
    "    AND (attack > 50 OR defense > 50)"
   ]
  },
  {
   "cell_type": "markdown",
   "metadata": {},
   "source": [
    "## Группировка <a class=\"anchor\" id=4></a>\n",
    "\n",
    "[к содержанию](#0)\n",
    "\n",
    "Прежде мы применяли агрегатные функции для всего вывода, а сейчас используем для различных групп строк. Поможет нам в этом ключевое слово `GROUP BY`.\n",
    "\n",
    "`GROUP BY` используется для определения групп выходных строк, к которым могут применяться агрегатные функции.\n",
    "\n",
    "Выведем число покемонов каждого типа."
   ]
  },
  {
   "cell_type": "code",
   "execution_count": null,
   "metadata": {
    "vscode": {
     "languageId": "sql"
    }
   },
   "outputs": [],
   "source": [
    "SELECT\n",
    "    type1 AS pokemon_type,\n",
    "    COUNT(*) AS pokemon_count\n",
    "FROM sql.pokemon\n",
    "GROUP BY type1\n",
    "ORDER BY type1"
   ]
  },
  {
   "cell_type": "markdown",
   "metadata": {},
   "source": [
    "Представим ТОП существующих типов покемонов."
   ]
  },
  {
   "cell_type": "code",
   "execution_count": null,
   "metadata": {
    "vscode": {
     "languageId": "sql"
    }
   },
   "outputs": [],
   "source": [
    "SELECT\n",
    "    type1 AS pokemon_type,\n",
    "    COUNT(*) AS pokemon_count\n",
    "FROM sql.pokemon\n",
    "GROUP BY pokemon_type\n",
    "ORDER BY COUNT(*) DESC"
   ]
  },
  {
   "cell_type": "markdown",
   "metadata": {},
   "source": [
    ">**Обратите внимание!** Мы использовали в группировке не название столбца, а его алиас.\n",
    "\n",
    "Напишите запрос, который выведет:\n",
    "\n",
    "* число различных дополнительных типов (столбец additional_types_count);\n",
    "* среднее число очков здоровья (столбец avg_hp);\n",
    "* сумму показателей атаки (столбец attack_sum) в разбивке по основным типам (столбец primary_type).\n",
    "\n",
    "Отсортируйте результат по числу дополнительных типов в порядке убывания, при равенстве — по основному типу в алфавитном порядке.\n",
    "Столбцы к выводу (**обратите внимание на порядок!**): primary_type, additional_types_count, avg_hp, attack_sum."
   ]
  },
  {
   "cell_type": "code",
   "execution_count": null,
   "metadata": {
    "vscode": {
     "languageId": "sql"
    }
   },
   "outputs": [],
   "source": [
    "SELECT\n",
    "    type1 primary_type,\n",
    "    COUNT(DISTINCT type2) additional_types_count,\n",
    "    AVG(hp) avg_hp,\n",
    "    SUM(attack) attack_sum\n",
    "FROM sql.pokemon\n",
    "GROUP BY primary_type\n",
    "ORDER BY additional_types_count DESC, primary_type"
   ]
  },
  {
   "cell_type": "markdown",
   "metadata": {},
   "source": [
    ">**Обратите внимание!** В группировке можно указывать порядковый номер столбца так же, как мы делали это в прошлом модуле для сортировки.\n",
    "\n",
    "`GROUP BY` можно использовать и без агрегатных функций. Тогда его действие будет равносильно действию `DISTINCT`.\n",
    "\n",
    "Сравните выводы двух запросов:"
   ]
  },
  {
   "cell_type": "code",
   "execution_count": null,
   "metadata": {
    "vscode": {
     "languageId": "sql"
    }
   },
   "outputs": [],
   "source": [
    "SELECT\n",
    "    type1\n",
    "FROM sql.pokemon\n",
    "GROUP BY type1\n",
    "\n",
    "/* равносильно */\n",
    "SELECT DISTINCT \n",
    "    type1\n",
    "FROM sql.pokemon"
   ]
  },
  {
   "cell_type": "markdown",
   "metadata": {},
   "source": [
    "## Фильтрация агрегированных строк <a class=\"anchor\" id=5></a>\n",
    "\n",
    "[к содержанию](#0)\n",
    "\n",
    "Если ключевое слово `WHERE` определяет фильтрацию строк до агрегирования, то для фильтрации уже агрегированных данных применяется ключевое слово `HAVING`.\n",
    "\n",
    ">**Важно!** `HAVING` обязательно пишется после `GROUP BY`.\n",
    "\n",
    "Выведем типы покемонов и их средний показатель атаки, при этом оставим только тех, у кого средняя атака больше 90."
   ]
  },
  {
   "cell_type": "code",
   "execution_count": null,
   "metadata": {
    "vscode": {
     "languageId": "sql"
    }
   },
   "outputs": [],
   "source": [
    "SELECT /*выбор*/\n",
    "    type1 AS primary_type, /*таблица type1; присвоить алиас primary_type*/\n",
    "    AVG(attack) AS avg_attack /*расчёт среднего по столбцу attack; присвоить алиас avg_attack*/\n",
    "FROM sql.pokemon /*из таблицы sql.pokemon*/\n",
    "GROUP BY primary_type /*группировать по столбцу primary_type*/\n",
    "HAVING AVG(attack) > 90 /*фильтровать по среднему значению attack, превышающему 90*/"
   ]
  },
  {
   "cell_type": "markdown",
   "metadata": {},
   "source": [
    "Попробуйте удалить из запроса вывод второго столбца (со средним показателем атаки).\n",
    "\n",
    "?Что получилось?\n",
    "\n",
    "Запрос работает и выводит только названия типов, у которых средний показатель атаки выше 90.\n",
    "\n",
    "**В `HAVING` вы можете использовать все те же условия, что и в `WHERE`.**\n",
    "\n",
    "### ДОПОЛНИТЕЛЬНО\n",
    "\n",
    "Об отличиях HAVING от WHERE можно прочитать в [официальной документации](https://postgrespro.ru/docs/postgresql/11/tutorial-agg)."
   ]
  },
  {
   "cell_type": "markdown",
   "metadata": {},
   "source": [
    "В общем виде синтаксис оператора `SELECT`, с учётом имеющихся на данный момент знаний, представляем следующим образом:"
   ]
  },
  {
   "cell_type": "code",
   "execution_count": null,
   "metadata": {
    "vscode": {
     "languageId": "sql"
    }
   },
   "outputs": [],
   "source": [
    "SELECT [ALL | DISTINCT] список_столбцов|*\n",
    "FROM список_имён_таблиц\n",
    "[WHERE условие_поиска]\n",
    "[GROUP BY список_имён_столбцов]\n",
    "[HAVING условие_поиска]\n",
    "[ORDER BY имя_столбца [ASC | DESC],…]"
   ]
  },
  {
   "cell_type": "markdown",
   "metadata": {},
   "source": [
    ">**Обратите внимание!** В квадратных скобках указаны необязательные предложения: они могут отсутствовать в операторе `SELECT`.\n",
    "\n",
    "Напишите запрос, который выведет основной и дополнительный типы покемонов (столбцы `primary_type` и `additional_type`) для тех типов, у которых средний показатель атаки больше 100 и максимальный показатель очков здоровья меньше 80."
   ]
  },
  {
   "cell_type": "code",
   "execution_count": null,
   "metadata": {
    "vscode": {
     "languageId": "sql"
    }
   },
   "outputs": [],
   "source": [
    "SELECT \n",
    "    type1 primary_type,\n",
    "    type2 additional_type\n",
    "FROM sql.pokemon\n",
    "GROUP BY primary_type, additional_type\n",
    "HAVING AVG(attack) > 100\n",
    "    AND MAX(hp) < 80"
   ]
  },
  {
   "cell_type": "markdown",
   "metadata": {},
   "source": [
    "Напишите запрос, который выводит столбцы с основным типом (`primary_type`) и числом покемонов этого типа (`pokemon_count`) для тех покемонов, чьё имя (`name`) начинается с S.\n",
    "\n",
    "Оставьте только типы, у которых средний показатель защиты больше 80.\n",
    "\n",
    "Выведите только ТОП-3 типов по числу покемонов в них."
   ]
  },
  {
   "cell_type": "code",
   "execution_count": null,
   "metadata": {
    "vscode": {
     "languageId": "sql"
    }
   },
   "outputs": [],
   "source": [
    "SELECT\n",
    "    type1 primary_type,\n",
    "    count(*) pokemon_count\n",
    "FROM sql.pokemon\n",
    "WHERE name LIKE 'S%'\n",
    "GROUP BY primary_type\n",
    "HAVING AVG(defense) > 80\n",
    "ORDER BY pokemon_count DESC\n",
    "LIMIT 3"
   ]
  },
  {
   "cell_type": "markdown",
   "metadata": {},
   "source": [
    "## Итоги <a class=\"anchor\" id=6></a>\n",
    "\n",
    "[к содержанию](#0)\n",
    "\n",
    "Структура запроса"
   ]
  },
  {
   "cell_type": "code",
   "execution_count": null,
   "metadata": {
    "vscode": {
     "languageId": "sql"
    }
   },
   "outputs": [],
   "source": [
    "SELECT\n",
    "    столбец1 AS новое_название,\n",
    "    столбец2,\n",
    "    АГРЕГАТ(столбец3)\n",
    "FROM таблица\n",
    "WHERE (условие1 OR условие2)\n",
    "    AND условие3\n",
    "GROUP BY столбец1, столбец2\n",
    "HAVING АГРЕГАТ(столбец3) > 5\n",
    "ORDER BY сортировка1, сортировка2\n",
    "OFFSET 1 LIMIT 2"
   ]
  },
  {
   "cell_type": "markdown",
   "metadata": {},
   "source": [
    "Напишите запрос, который выведет основной и дополнительный типы покемонов и средние значения по каждому показателю (столбцы `avg_hp`, `avg_attack`, `avg_defense`, `avg_speed`).\n",
    "Оставьте только те пары типов, у которых сумма этих четырёх показателей более 400."
   ]
  },
  {
   "cell_type": "code",
   "execution_count": null,
   "metadata": {
    "vscode": {
     "languageId": "sql"
    }
   },
   "outputs": [],
   "source": [
    "SELECT\n",
    "    type1,\n",
    "    type2,\n",
    "    AVG(hp) avg_hp,\n",
    "    AVG(attack) avg_attack,\n",
    "    AVG(defense) avg_defense,\n",
    "    AVG(speed) avg_speed\n",
    "FROM sql.pokemon\n",
    "GROUP BY type1, type2\n",
    "HAVING (AVG(hp) + AVG(attack) + AVG(defense) + AVG(speed)) >400"
   ]
  },
  {
   "cell_type": "markdown",
   "metadata": {},
   "source": [
    "Напишите запрос, который выведет столбцы с основным типом покемона и общим количеством покемонов этого типа.\n",
    "\n",
    "Учитывайте только тех покемонов, у которых или показатель атаки, или показатель защиты принимает значение между 50 и 100 включительно.\n",
    "\n",
    "Оставьте только те типы покемонов, у которых максимальный показатель здоровья не больше 125.\n",
    "\n",
    "Выведите только тот тип, который находится на пятом месте по количеству покемонов."
   ]
  },
  {
   "cell_type": "code",
   "execution_count": null,
   "metadata": {
    "vscode": {
     "languageId": "sql"
    }
   },
   "outputs": [],
   "source": [
    "SELECT\n",
    "    type1,\n",
    "    count(*)\n",
    "FROM sql.pokemon\n",
    "WHERE (attack BETWEEN 50 and 100) OR (defense BETWEEN 50 and 100)\n",
    "GROUP BY type1\n",
    "HAVING MAX(hp) <= 125\n",
    "ORDER BY count(*) DESC\n",
    "OFFSET 4 LIMIT 1"
   ]
  }
 ],
 "metadata": {
  "kernelspec": {
   "display_name": "Python 3.9.12 ('base')",
   "language": "python",
   "name": "python3"
  },
  "language_info": {
   "name": "python",
   "version": "3.9.12"
  },
  "orig_nbformat": 4,
  "vscode": {
   "interpreter": {
    "hash": "c3380a37b4678e1f5e651331348d62bc6038aef0d5f414da260f404a34792558"
   }
  }
 },
 "nbformat": 4,
 "nbformat_minor": 2
}
