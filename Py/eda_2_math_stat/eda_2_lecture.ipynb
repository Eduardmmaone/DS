{
 "cells": [
  {
   "cell_type": "markdown",
   "metadata": {},
   "source": [
    "# EDA Математическая статистика\n",
    "\n",
    "###  Содержание <a class=\"anchor\" id=0></a>\n",
    "- [1. Введение](#1)\n",
    "- [2. Описательная статистика. Меры центральной тенденции в Python](#2)\n",
    "- [3. Корреляция](#3)\n",
    "- [4. Типы корреляции. Корреляция Пирсона](#4)\n",
    "- [5. Типы корреляции. Ранговые корреляции](#5)\n",
    "- [6. Визуализация корреляции. Матрица корреляции. График рассеяния](#6)\n",
    "- [7. Проверка](#7)\n",
    "- [8. Итог](#8)"
   ]
  },
  {
   "cell_type": "markdown",
   "metadata": {},
   "source": [
    "## Введение <a class=\"anchor\" id=1></a>\n",
    "\n",
    "[к содержанию](#0)\n",
    "\n",
    "Статистика очень тесно связана с машинным обучением. Этот раздел математики помогает ответить, какие из признаков важны, позволяет выдвигать и проверять гипотезы и идеи. Статистика лежит в основе алгоритмов машинного обучения, методов разведывательного анализа данных. С элементами математической статистики мы столкнёмся в каждом модуле этого курса.\n",
    "\n",
    "\n",
    ">**Математическая статистика** — раздел математики, который занимается систематизацией и обработкой данных для их использования и получения выводов.\n",
    "\n",
    "Данные, собранные в ходе исследования каких-то явлений или процессов, сами по себе не очень информативны. Чтобы извлечь из данных какие-то полезные идеи, применяется описательная статистика, которую мы и будем изучать в этом модуле.\n",
    "\n",
    ">Например, мы исследуем, от каких факторов зависит удовлетворенность жизнью, имея на руках информацию о доходах населения. Сами по себе эти данные мало что дают. \n",
    "\n",
    "Проанализировав этот признак, с помощью знаний описательной статистики мы получим примерно такие статистические данные:\n",
    "\n",
    "* средний доход;\n",
    "* средний доход в регионе проживания;\n",
    "* средний доход в разрезе пола;\n",
    "* разница между минимальным и максимальным доходом;\n",
    "* а также другие показатели, которые могут охарактеризовать доход человека более детально. \n",
    "\n",
    "После извлечения идей мы получаем статистические данные.\n",
    "\n",
    "**Статистические данные — упорядоченные, классифицированные данные о каком-то явлении или процессе.**\n",
    "\n",
    "Так как в процессе получения статистических данных появляются новые признаки, то этот процесс касается не только математической статистики, но и проектирования признаков — ещё одной части разведывательного анализа данных, который будет изучен в следующем модуле. \n",
    "\n",
    "Прежде чем применять математические статистики к разведывательному анализу данных, необходимо изучить описательные статистики — с ними мы познакомимся в следующем юните. Без понимания этих основ будет невозможно двигаться дальше по всем этапам машинного обучения.\n",
    "\n"
   ]
  },
  {
   "cell_type": "markdown",
   "metadata": {},
   "source": [
    "## Описательная статистика. Меры центральной тенденции в Python <a class=\"anchor\" id=2></a>\n",
    "\n",
    "[к содержанию](#0)\n",
    "\n",
    "Описательную статистику можно применять к одной переменной или к целому набору данных. \n",
    "\n",
    "Описательную статистику мы рассмотрим на примере подготовленного и очищенного вами в модуле EDA-1. Юнит 5. Проверка.\n",
    "\n",
    "[скачать датасет](https://drive.google.com/file/d/1Xwo8bXV6TA9o14cvcElb-zbzNoAAkQi6/view?usp=sharing)\n",
    "\n",
    "Когда вы описываете и вычисляете характеристики одной переменной, вы выполняете **одномерный анализ**. \n",
    "\n",
    ">Например, вы хотите узнать больше о сомелье, которые давали подробный отзыв вину. Вы анализируете признак независимо от других, как будто в датасете не существует других признаков. Вы можете просмотреть, сколько сомелье приняло участие в обзоре вин. Можете проанализировать информацию и увидеть, какой сомелье чаще всего оценивал вино. Возможно, эта информация будет важна, и на этапе проектирования и преобразования признаков мы обработаем признаки на основе этих выводов. \n",
    "\n",
    "Когда вы анализируете пару переменных и больше, то вы делаете **многомерный анализ**. Целью такого анализа является нахождение связей между признаками. \n",
    "\n",
    ">Мы можем проанализировать, есть ли связь между сортом винограда и ценой бутылки вина. Для этого используется корреляционный анализ, с которым мы познакомимся в следующем юните. Для оценки рейтинга вина можем оценить статистическую значимость переменных, которую мы изучим в следующих модулях. Например, если цена за бутылку вина окажется неважным признаком, то мы сможем удалить его из датасета, так как он не влияет на рейтинг вина.\n",
    "\n",
    "К одномерному анализу вы можете отнести вычисление максимальных и минимальных значений какого-либо признака, вычисление средних значений, часто встречающихся значений и размаха. "
   ]
  },
  {
   "cell_type": "code",
   "execution_count": 2,
   "metadata": {},
   "outputs": [],
   "source": [
    "import pandas as pd\n",
    "\n",
    "df = pd.read_csv(\"wine_cleared.csv\")"
   ]
  },
  {
   "cell_type": "code",
   "execution_count": 3,
   "metadata": {},
   "outputs": [
    {
     "data": {
      "text/plain": [
       "count    129971.000000\n",
       "mean         35.363389\n",
       "std          39.577066\n",
       "min           4.000000\n",
       "25%          18.000000\n",
       "50%          28.000000\n",
       "75%          40.000000\n",
       "max        3300.000000\n",
       "Name: price, dtype: float64"
      ]
     },
     "execution_count": 3,
     "metadata": {},
     "output_type": "execute_result"
    }
   ],
   "source": [
    "df['price'].describe()"
   ]
  },
  {
   "cell_type": "markdown",
   "metadata": {},
   "source": [
    "**Вычисление среднего** также относится к одномерному анализу. Но что значит среднее?\n",
    "\n",
    ">Например, средняя зарплата в Краснодарском крае составляет 43 000 руб. Это число даёт нам представление о среднестатистическом жителе этого края. \n",
    "\n",
    "Но что здесь означает средняя зарплата и среднестатистический житель? Среднее арифметическое, середина распределения или что-то другое? Чтобы ответить на этот вопрос, нам необходимо знать, что такое мера центральной тенденции.\n",
    "\n",
    "**Мера центральной тенденции** — это число, которое описывает так называемое «среднее» признака. Мера центральной тенденции может рассчитываться по-разному в зависимости от типа признака или от его распределения.\n",
    "\n",
    ">Далее мы рассмотрим наиболее популярные меры центральной тенденции, используемые в машинном обучении: среднее арифметическое, медиана, мода. Для расчёта этих описательных статистик в Python мы будем пользоваться библиотекой [statistics](https://docs.python.org/3/library/statistics.html). Она предоставляет готовые функции для вычисления математической статистики для числовых данных.\n",
    "\n",
    "Установим библиотеку:\n",
    "\n",
    ">pip install statistics\n",
    "\n",
    "Импортируем библиотеку для дальнейшего использования:\n",
    "\n",
    ">import statistics"
   ]
  },
  {
   "cell_type": "code",
   "execution_count": 4,
   "metadata": {},
   "outputs": [],
   "source": [
    "import statistics"
   ]
  },
  {
   "cell_type": "markdown",
   "metadata": {},
   "source": [
    "**Среднее арифметическое** — сумма всех элементов, поделённая на количество элементов в числовом ряду или признаке (`Series`)."
   ]
  },
  {
   "cell_type": "code",
   "execution_count": 5,
   "metadata": {},
   "outputs": [
    {
     "data": {
      "text/plain": [
       "35.36"
      ]
     },
     "execution_count": 5,
     "metadata": {},
     "output_type": "execute_result"
    }
   ],
   "source": [
    "# Средняя стоимость бутылки округлённая до сотен\n",
    "round(statistics.mean(df['price']),2)"
   ]
  },
  {
   "cell_type": "code",
   "execution_count": 6,
   "metadata": {},
   "outputs": [
    {
     "data": {
      "text/plain": [
       "35.36338912999136"
      ]
     },
     "execution_count": 6,
     "metadata": {},
     "output_type": "execute_result"
    }
   ],
   "source": [
    "df['price'].mean()"
   ]
  },
  {
   "cell_type": "markdown",
   "metadata": {},
   "source": [
    "**Среднее арифметическое** хорошо работает для признаков с небольшим разбросом в значениях, например чтобы корректно вычислять средний возраст популяции. Однако оно **плохо работает для признака с большим разбросом **в значениях. \n",
    "\n",
    ">Возьмём в пример рост человека. Если в выборке попадутся игроки баскетбольной команды или карлики, представление о среднем росте человека сильно исказится. Если таких значений в выборке будет мало, скорее всего, они будут обработаны на этапе очистки данных от выбросов. Если после очистки данных большой разброс останется, вы можете снова вернуться к этому этапу, так как цикл машинного обучения не линеен, или использовать другую описательную статистику для получения среднего значения.\n",
    "\n",
    "### МЕДИАНА\n",
    "\n",
    "**Медиана** — средний элемент распределения. Для расчёта медианы должно выполняться одно условие: числовой ряд должен быть предварительно отсортирован. Только так мы сможем корректно рассчитать средний элемент. Признак может быть отсортирован как по возрастанию, так и по убыванию. \n",
    "\n",
    "Методы современных библиотек, в том числе и используемой нами statistics для вычисления медианы, самостоятельно выполняют сортировку данных — вам не нужно заботиться об этом. \n",
    "\n",
    "<img src=e_2_img1.png>\n",
    "\n",
    "Если количество элементов чётное, медианой будет среднее арифметическое двух средних элементов распределения.\n",
    "\n",
    "<img src=e_2_img2.png>"
   ]
  },
  {
   "cell_type": "code",
   "execution_count": 7,
   "metadata": {},
   "outputs": [
    {
     "data": {
      "text/plain": [
       "28.0"
      ]
     },
     "execution_count": 7,
     "metadata": {},
     "output_type": "execute_result"
    }
   ],
   "source": [
    "# Медианная стоимость бутылки (округлённое до сотен)\n",
    "\n",
    "round(statistics.median(df['price']),2)"
   ]
  },
  {
   "cell_type": "code",
   "execution_count": 8,
   "metadata": {},
   "outputs": [
    {
     "data": {
      "text/plain": [
       "28.0"
      ]
     },
     "execution_count": 8,
     "metadata": {},
     "output_type": "execute_result"
    }
   ],
   "source": [
    "# Медианная стоимость стандартными методами python\n",
    "\n",
    "count_price = len(df['price']) # количество записей цен\n",
    "sorted_price = sorted(df['price']) # отсортированные цены\n",
    "\n",
    "if count_price % 2: # при нечетном кол-ве элементов выбираем средний по индексу \n",
    "    median = sorted_price[round(0.5*(count_price-1))]\n",
    "else: # при четном кол-ве элементов выбираем 2 средних по индексу и считаем между ними среднее арифметическое\n",
    "    index = sorted(x), round(0.5 * count_price)\n",
    "    median_ = 0.5 * (sorted_price[index-1] + sorted_price[index])\n",
    "median"
   ]
  },
  {
   "cell_type": "markdown",
   "metadata": {},
   "source": [
    "В отличие от среднего арифметического медиана хорошо справляется с разбросом в значениях, поэтому её чаще используют. Также медиана разбивает данные на две группы, состоящие из одинакового количества элементов.\n",
    "\n",
    "Средние значения, например уровень дохода или цена на недвижимость, часто вычисляются именно по медиане, потому что в этом случае важен средний уровень доходов большей части населения. \n",
    "\n",
    "В таком случае основатель Amazon Джефф Безосс с годовым доходом в несколько миллиардов не испортит нам всю статистику. \n",
    "\n",
    "Также в библиотеке `statistics` есть функции, связанные с медианой, — функция `statistics.median_low()` и функция `statistics.median_high()`.\n",
    "\n",
    ">В случае, когда количество элементов в числовом ряду (серии) нечётное, функции возвращают то же, что и `median()`.\n",
    "\n",
    "В случае, когда количество элементов чётное, у нас получается два средних значения:\n",
    "\n",
    "`median_low()` возвращает меньшее из них;\n",
    "`median_high()` возвращает большее из них.\n",
    "\n",
    ">**Примечание**. Если в вашем наборе данных есть пропущенные значения, функции библиотеки `statistics` в отличие от других методов (например `np.median()` из библиотеки numpy) будут автоматически игнорировать пропущенные значения, не выдавая ошибку."
   ]
  },
  {
   "cell_type": "markdown",
   "metadata": {},
   "source": [
    "### МОДА\n",
    "\n",
    "**Мода** — самый часто встречающийся элемент в числовом ряду.\n",
    "\n",
    ">Допустим, вы решили полететь в отпуск со своими друзьями и решили выбрать месяц. Вы провели опрос, кому в какой месяц было бы удобнее. Месяцы в году — это числовой ряд от 1 до 12. Дима и Серёжа свободны в феврале. Толя может взять отпуск в любой месяц года, а Ксюша может только в июне. Как в этом случае поступите вы?\n",
    "\n",
    "Очевидно, выберете месяц, который выбрало большинство; остальные подстроятся либо не полетят с вами.\n",
    "\n",
    "Чаще всего **мода** используется в нечисловых рядах. Например самая популярная порода собак, фильм года, лучшие рестораны вычисляются именно модой."
   ]
  },
  {
   "cell_type": "code",
   "execution_count": 9,
   "metadata": {},
   "outputs": [
    {
     "data": {
      "text/plain": [
       "35.36"
      ]
     },
     "execution_count": 9,
     "metadata": {},
     "output_type": "execute_result"
    }
   ],
   "source": [
    "# Мода стоимость бутылки (округлённое до сотен)\n",
    "\n",
    "round(statistics.mode(df['price']),2)"
   ]
  },
  {
   "cell_type": "markdown",
   "metadata": {},
   "source": [
    "Моду также можно вычислить при помощи [statistics.multimode()](https://docs.python.org/3/library/statistics.html#statistics.multimode). В случае наличия нескольких модовых (популярных значений) функция `statistics.mode()` вернёт вам ошибку StatisticsError, а `statistics.multimode()` — список с всеми вычисленными модовыми значениями."
   ]
  },
  {
   "cell_type": "code",
   "execution_count": 11,
   "metadata": {},
   "outputs": [
    {
     "data": {
      "text/plain": [
       "35.36"
      ]
     },
     "execution_count": 11,
     "metadata": {},
     "output_type": "execute_result"
    }
   ],
   "source": [
    "df['price'].mode()\n",
    "mode = round(df[\"price\"].value_counts().index[0],2)\n",
    "mode"
   ]
  },
  {
   "cell_type": "markdown",
   "metadata": {},
   "source": [
    "Мы рассмотрели самые основные и часто используемые в машинном обучении меры центральной тенденции. Также к мерам центральной тенденции относятся:\n",
    "\n",
    "* `среднее геометрическое`;\n",
    "* `среднее гармоническое`;\n",
    "* `средневзвешенное` \n",
    "* и другие.\n",
    "\n",
    "Их также можно вычислить с помощью библиотеки `statistics`, но они реже используются для описания распределения в машинном обучении.\n",
    "\n",
    "Такие более сложные описательные статистики, как стандартное отклонение, меры разброса, вы изучите в следующих юнитах, посвящённых математической статистике.\n",
    "\n",
    "В этом юните мы рассмотрели очень важную идею **«среднего значения»**. Она часто применяется в разведывательном анализе данных. Цель среднего значения, как и других описательных статистик — выразить распределение признака одним числом, отразить его суть, что может оказаться важным признаком для модели машинного обучения."
   ]
  },
  {
   "cell_type": "markdown",
   "metadata": {},
   "source": [
    "## Корреляция <a class=\"anchor\" id=3></a>\n",
    "\n",
    "[к содержанию](#0)\n",
    "\n",
    "`Корреляция` — статистическая связь двух и более переменных. При изменении значения одной из переменных происходит закономерное изменение другой или других величин. \n",
    "\n",
    "Например, при взрослении у человека меняются его показатели: рост становится больше, риск сердечно-сосудистых заболеваний — выше.\n",
    "\n",
    "Мерой связи величин, мерой корреляции является **коэффициент корреляции**. Он может принимать значение от -1 до +1.\n",
    "\n",
    "**Отрицательная** корреляция, **коэффициент корреляции < 0** говорит об обратной связи между переменными. При обратной связи увеличение одной из величин ведёт к закономерному уменьшению другой (других) величин. \n",
    "\n",
    ">Например, чем больше сумма активного долга, тем меньше шанс в одобрении кредита.\n",
    "\n",
    "**Положительная** корреляция, **коэффициент корреляции > 0** говорит о прямой связи между переменный. При прямой связи увеличение одной из величин ведёт к закономерному увеличению другой (других) величин. \n",
    "\n",
    ">Например, с увеличением возраста размер ноги человека увеличивается, и его рост увеличивается тоже.\n",
    "\n",
    "**Коэффициент корреляции = 0** говорит о том, что переменные независимы друг от друга, по крайней мере линейно, но это вовсе не значит, что между ними нет какой-то более сложной взаимосвязи. Это достаточно редкое явление, которое может встретиться на конкретном наборе данных.\n",
    "\n",
    "Понимание корреляции приводит нас к понятию **мультиколлинеарности** — такой сильной зависимости переменных друг от друга, что она затрудняет анализ и оценку будущей модели машинного обучения. \n",
    "\n",
    "Понять, почему это плохо для модели машинного обучения, вы сможете, когда приступите к обучению моделей. Но уже на этапе разведывательного анализа данных вы сможете выявить такие зависимости.\n",
    "\n",
    "Как понять, существует ли сильная взаимозавимость признаков? Для этого существует примерная шкала степеней силы связи и коэффициента корреляции между признаками.\n",
    "\n",
    "В таблице отражены основные силы связи между признаками.\n",
    "\n",
    "**Сила связи\tЗначение коэффициента корреляции**\n",
    "\n",
    "* Отсутствие связи или очень слабая связь   -   `0…+/- 0.3`\n",
    "* Слабая связь  -   `+/- 0.3…+/- 0.5`\n",
    "* Средняя связь -   `+/- 0.5…+/- 0.7`\n",
    "* Сильная связь -   `+/- 0.7…+/- 0.9`\n",
    "* Очень сильная или абсолютная связь    -   `+/- 0.9…+/-1`\n",
    "\n",
    "Принято считать, что при коэффициенте корреляции `+/-0,7` связь между признаками сильная и приводит к `мультиколлинеарности`.\n",
    "\n",
    ">Например, сложилась ситуация, когда в датасете были обнаружены признаки с очень сильной корреляцией. Мы знаем, что мультиколлинеарность вредит такой модели, поэтому на этапе проектирования признаков можем объединить эту пару признаков в один или удалить из этой пары один — тот, что менее важен. Важность признаков мы оцениваем позже, на этапе отбора признаков.\n",
    "\n",
    "Так что для этапа корреляционного анализа достаточно делать и запоминать выводы о взаимосвязях признаков, чтобы на дальнейшем этапе разведывательного анализа данных правильно их обработать. Эти этапы мы изучим позже в курсе, в юнитах про разведывательный анализ данных."
   ]
  },
  {
   "cell_type": "markdown",
   "metadata": {},
   "source": [
    "### Для расчёта коэффициента корреляции применим функцию [df.corr()](https://pandas.pydata.org/docs/reference/api/pandas.DataFrame.corr.html) библиотеки pandas."
   ]
  },
  {
   "cell_type": "code",
   "execution_count": 12,
   "metadata": {},
   "outputs": [
    {
     "data": {
      "text/html": [
       "<div>\n",
       "<style scoped>\n",
       "    .dataframe tbody tr th:only-of-type {\n",
       "        vertical-align: middle;\n",
       "    }\n",
       "\n",
       "    .dataframe tbody tr th {\n",
       "        vertical-align: top;\n",
       "    }\n",
       "\n",
       "    .dataframe thead th {\n",
       "        text-align: right;\n",
       "    }\n",
       "</style>\n",
       "<table border=\"1\" class=\"dataframe\">\n",
       "  <thead>\n",
       "    <tr style=\"text-align: right;\">\n",
       "      <th></th>\n",
       "      <th>Unnamed: 0</th>\n",
       "      <th>points</th>\n",
       "      <th>price</th>\n",
       "    </tr>\n",
       "  </thead>\n",
       "  <tbody>\n",
       "    <tr>\n",
       "      <th>Unnamed: 0</th>\n",
       "      <td>1.000000</td>\n",
       "      <td>0.007124</td>\n",
       "      <td>0.004652</td>\n",
       "    </tr>\n",
       "    <tr>\n",
       "      <th>points</th>\n",
       "      <td>0.007124</td>\n",
       "      <td>1.000000</td>\n",
       "      <td>0.402137</td>\n",
       "    </tr>\n",
       "    <tr>\n",
       "      <th>price</th>\n",
       "      <td>0.004652</td>\n",
       "      <td>0.402137</td>\n",
       "      <td>1.000000</td>\n",
       "    </tr>\n",
       "  </tbody>\n",
       "</table>\n",
       "</div>"
      ],
      "text/plain": [
       "            Unnamed: 0    points     price\n",
       "Unnamed: 0    1.000000  0.007124  0.004652\n",
       "points        0.007124  1.000000  0.402137\n",
       "price         0.004652  0.402137  1.000000"
      ]
     },
     "execution_count": 12,
     "metadata": {},
     "output_type": "execute_result"
    }
   ],
   "source": [
    "df.corr()"
   ]
  },
  {
   "cell_type": "markdown",
   "metadata": {},
   "source": [
    "Результатом функции `df.corr()` является матрица корреляции. \n",
    "\n",
    ">**Матрица корреляции** — таблица, заголовками и строками которой являются названия признаков в датасете. На пересечении строк и столбцов находится значение коэффициента корреляции этих двух признаков.\n",
    "\n",
    "Данная матрица имеет значение 1 по главной диагонали, так как единица означает корреляцию признака с самим собой. Матрица является симметричной. \n",
    "\n",
    "<img src=e_2_img3.png>\n",
    "\n",
    "Визуализация матрицы корреляций на примере датасета о пассажирах «Титаника». Источник: kaggle\n",
    "\n",
    "На рисунке вы можете увидеть визуализированную матрицу к одному из соревнований на kaggle. Наибольшая связь наблюдается в паре признаков age и age_bucket — 0.98, что по шкале корреляции является очень сильной связью и приводит к мультиколлинеарности признаков. Скорее всего, один из признаков будет исключён из датасета.\n",
    "\n",
    "Подобную матрицу мы научимся строить в одном из следующих юнитов, посвящённых визуализации корреляций.\n",
    "\n",
    "В нашей матрице датасета винных обзоров отражено всего два признака — `points`, `price`.  На пересечении признаков мы видим значение коэффициента корреляции между признаками `points` и `price`.\n",
    "\n",
    "<img src=e_2_img4.png>\n",
    "\n",
    "Матрица корреляции. построенная при помощи `df.corr()`. Зелёным выделена главная диагональ.\n",
    "\n",
    "Причина в том, что рассчитать коэффициент корреляции мы можем только в том случае, когда признак имеет численное выражение. Как мы выяснили ранее, остальные признаки — в строковом формате, и расчёт коэффициента корреляции невозможен. Для этого необходимо провести кодирование признака, которое мы будем изучать далее."
   ]
  },
  {
   "cell_type": "markdown",
   "metadata": {},
   "source": [
    "## Корреляция != Коузация\n",
    "\n",
    "Корреляция и причинно-следственная связь — это понятия, которые чаще всего **ошибочно приравниваются друг к другу**. Понимание корреляции важно для разведывательного анализа и помогает делать правильные выводы. \n",
    "\n",
    "### ЛОЖНАЯ КОРРЕЛЯЦИЯ\n",
    "\n",
    "Рассмотрим, почему корреляция не подразумевает причинно-следственных связей, на популярном примере.\n",
    "\n",
    "Продажи мороженого коррелируют с убийствами!\n",
    "\n",
    "По мере роста или падения продаж замороженного десерта соответственно растёт или уменьшается количество убийств. Является ли потребление замороженного десерта причиной смерти людей?\n",
    "\n",
    "Нет. Эти две вещи взаимосвязаны, но это не значит, что одна вызывает другую.\n",
    "\n",
    "Этот случай можно назвать совпадением, и чаще всего корреляция наблюдается именно в таких ситуациях. А иногда нам просто не хватает данных, чтобы уловить причину связи между переменными.\n",
    "\n",
    "В некоторых случаях участвуют скрытые факторы. Например, в примере с мороженым улучшение погоды вызывает рост продаж десерта, а большое количество людей на улицах создаёт благоприятные условия для убийц.\n",
    "\n",
    "Нет причинно-следственной связи между убийствами и продажей мороженого, а наличие третьего фактора — хорошей погоды — объясняет эти связи. Этот случай называется **ложной корреляцией**."
   ]
  },
  {
   "cell_type": "markdown",
   "metadata": {},
   "source": [
    "## Типы корреляции. Корреляция Пирсона <a class=\"anchor\" id=4></a>\n",
    "\n",
    "[к содержанию](#0)\n",
    "\n",
    "В методе `.corr()`\n",
    "\n",
    "Аргумент `method` указывает на название используемого метода расчёта корреляции: '`pearson`' — корреляция Пирсона, '`kendall`' — корреляция Кендалла, '`spearman`' — корреляция Спирмена. Каждый метод может быть применён для разных типов данных. Давайте разберёмся, чем отличаются эти методы и для каких типов данных применять каждый из них.\n",
    "\n",
    "### КОРРЕЛЯЦИЯ ПИРСОНА\n",
    "\n",
    "Рассчитав в прошлом юните коэффициент корреляции между `point` и `price`, мы использовали `df.corr()`. Согласно документации, если не указать `method`, по умолчанию используется корреляция Пирсона. Верно ли это для наших признаков?\n",
    "\n",
    "Коэффициент корреляции Пирсона используется для вычисления линейной взаимосвязи между признаками. \n",
    "\n",
    ">Линейная взаимосвязь — вид связи между признаками, в котором изменение одного признака x1 всегда приводит к изменению другого признака x2 на величину, пропорциональную изменению x1, в соответствии с правилом: x2 = ax1 + b (уравнение прямой), где a и b — некоторые коэффициенты.\n",
    "\n",
    "<img src=e_2_img5.png>\n",
    "\n",
    "Определить существование линейной связи в паре признаков эмпирическим путем можно, если вы можете формулировать фразу про признаки: «С уменьшением/увеличением признака 1 уменьшается/увеличивается признак 2 в соответствии с некоторым уравнением прямой». \n",
    "\n",
    "Например, с увеличением возраста заёмщика уменьшается количество дней просрочки по кредиту. \n",
    "\n",
    "<img src=e_2_img6.png>\n",
    "\n",
    ">Более точной является визуализация зависимости признаков. С этим подходом мы подробнее познакомимся в следующем юните, посвящённом визуализации связей между признаками.\n",
    "\n",
    "Для большинства непрерывных признаков это подходящий метод вычисления коэффициента корреляции. Однако при его использовании вы предполагаете, что признаки приблизительно нормально распределены и не имеют выбросов."
   ]
  },
  {
   "cell_type": "markdown",
   "metadata": {},
   "source": [
    "### НОРМАЛЬНОЕ РАСПРЕДЕЛЕНИЕ\n",
    "\n",
    "Большинство окружающих нас процессов и явлений, характеристик объектов можно описать **нормальным распределением**. В основном это переменные, которые зависят от множества факторов, например рост человека. Он сформировался благодаря местности, в которой проживает человек, генетическим предрасположенностям, перенесённым заболеваниям и так далее. Как следствие, показатели роста подвергаются законам нормального распределения.\n",
    "\n",
    "Если признак является совокупностью очень редких событий, например аварии на дорогах, то распределение признака **нормальным не будет**.\n",
    "\n",
    "С точки зрения визуализации нормальное (**гауссово**) распределение представляет собой распределение признака в виде колокола.\n",
    "\n",
    "Нормальность распределения признака можно определить визуально, построив гистограмму распределения непрерывного признака или так называемый `q-q plot`. Подробнее о принципе построения данного графика советуем прочитать [здесь](https://habr.com/ru/post/578754/).\n",
    "\n",
    "<img src=e_2_img7.png><img src=e_2_img8.png>\n",
    "\n",
    "На гистограмме распределение должно напоминать колокол (левый график на рисунке), а `q-q plot` должен напоминать прямую линию (правый график на рисунке).\n",
    "\n",
    ">Давайте проверим наши данные винных обзоров на нормальность, используя метод визуализации.\n",
    "\n",
    "Для этого воспользуемся пакетом `stats` статистических распределений и функций, а также знакомой нам библиотекой `matplotlib` для построения графиков.\n",
    "\n",
    "Код для построения графиков:"
   ]
  },
  {
   "cell_type": "code",
   "execution_count": 13,
   "metadata": {},
   "outputs": [
    {
     "data": {
      "image/png": "[encoded data removed]",
      "text/plain": [
       "<Figure size 432x288 with 2 Axes>"
      ]
     },
     "metadata": {
      "needs_background": "light"
     },
     "output_type": "display_data"
    }
   ],
   "source": [
    "import matplotlib.pyplot as plt # библиотека визуализации\n",
    "from scipy import stats # библиотека для расчетов\n",
    "\n",
    "plt.subplot(1, 2, 1) # задаем сетку рисунка количество строк и столбцов\n",
    "stats.probplot(df['price'], plot=plt) # qq plot\n",
    "\n",
    "plt.subplot(1, 2, 2) # располагаем второй рисунок рядом\n",
    "plt.hist(df['price']) # гистограмма распределения признака\n",
    "\n",
    "plt.tight_layout() # чтобы графики не наезжали другу на друга, используем tight_layout\n",
    "\n",
    "plt.show() # просмотр графика"
   ]
  },
  {
   "cell_type": "markdown",
   "metadata": {},
   "source": [
    "Графики распределение признака `price`.\n",
    "\n",
    "Кажется, признак распределён ненормально, так как `q-q plot` имеет изогнутую линию, а гистограмма распределения совершенно не похожа на колокол.\n",
    "\n",
    "Такой признак при анализе Пирсоном может выдать некорректные результаты. Для таких случаев существуют другие виды корреляций или проводится операция по приведению признака к нормальному путём преобразований, которые вы освоите позже, в юнитах про разведывательный анализ данных."
   ]
  },
  {
   "cell_type": "code",
   "execution_count": 18,
   "metadata": {},
   "outputs": [
    {
     "data": {
      "image/png": "[encoded data removed]",
      "text/plain": [
       "<Figure size 432x288 with 2 Axes>"
      ]
     },
     "metadata": {
      "needs_background": "light"
     },
     "output_type": "display_data"
    }
   ],
   "source": [
    "# Для признака points\n",
    "plt.subplot(1, 2, 1) # задаем сетку рисунка количество строк и столбцов\n",
    "stats.probplot(df['points'], plot=plt) # qq plot\n",
    "\n",
    "plt.subplot(1, 2, 2) # располагаем второй рисунок рядом\n",
    "plt.hist(df['points']) # гистограмма распределения признака\n",
    "\n",
    "plt.tight_layout() # чтобы графики не наезжали другу на друга, используем tight_layout\n",
    "\n",
    "\n",
    "plt.show() # просмотр графика"
   ]
  },
  {
   "cell_type": "markdown",
   "metadata": {},
   "source": [
    "Если точки на графике `Q-Q Plot` стелятся вдоль какой-то прямой, то наши данные неплохо соответствуют теоретическим квантилям, отложенным по горизонтальной оси.\n",
    "\n",
    "Если мы строим `Q-Q Plot` от теоретических квантилей стандартного нормального распределения, то:\n",
    "\n",
    "* Значение получившейся функции в нуле — это **медиана нашей выборки**. Вообще все квантили нашей выборки соответствуют квантилям распределения на оси x, а не только медиана :)\n",
    "\n",
    "* Тангенс линии тренда соответствует **стандартному отклонению нормального распределения**, наилучшим образом описывающем нашу выборку. Значение линии главного тренда в нуле соответствует его среднему значению\n",
    "\n",
    "* Равномерное распределение - это S-образная кривая, стелющаяся вдоль линии тренда, бимодальное распределение - это S-образная кривая, пересекающая линию тренда. t-распределение - это зеркально отраженная S-образная кривая."
   ]
  },
  {
   "cell_type": "code",
   "execution_count": 17,
   "metadata": {},
   "outputs": [
    {
     "data": {
      "text/plain": [
       "88"
      ]
     },
     "execution_count": 17,
     "metadata": {},
     "output_type": "execute_result"
    }
   ],
   "source": [
    "statistics.mode(df['points'])"
   ]
  },
  {
   "cell_type": "markdown",
   "metadata": {},
   "source": [
    "* Корреляция между **непрерывными признаками**, которые имеют близкое к **нормальному распределение**, может быть рассчитана с использованием стандартной корреляции **Пирсона**. \n",
    "\n",
    "* **Для категориальных данных используется методы ранговой корреляции**, например Спирмена и Кендалла, которые будут изучены в следующем юните. \n",
    "\n",
    "* Для непрерывных переменных, имеющих большое количество выбросов или распределённых ненормально, могут использоваться методы по устранению выбросов и нормализации данных, которые будут изучены далее в курсе. Также могут быть использованы методы ранговой корреляции.\n"
   ]
  },
  {
   "cell_type": "markdown",
   "metadata": {},
   "source": [
    "## Типы корреляции. Ранговые корреляции <a class=\"anchor\" id=5></a>\n",
    "\n",
    "[к содержанию](#0)"
   ]
  },
  {
   "cell_type": "markdown",
   "metadata": {},
   "source": [
    "## Визуализация корреляции. Матрица корреляции. График рассеяния <a class=\"anchor\" id=6></a>\n",
    "\n",
    "[к содержанию](#0)"
   ]
  },
  {
   "cell_type": "markdown",
   "metadata": {},
   "source": [
    "## Проверка <a class=\"anchor\" id=7></a>\n",
    "\n",
    "[к содержанию](#0)"
   ]
  },
  {
   "cell_type": "markdown",
   "metadata": {},
   "source": [
    "## Итоги <a class=\"anchor\" id=8></a>\n",
    "\n",
    "[к содержанию](#0)"
   ]
  }
 ],
 "metadata": {
  "kernelspec": {
   "display_name": "Python 3.9.12 ('base')",
   "language": "python",
   "name": "python3"
  },
  "language_info": {
   "codemirror_mode": {
    "name": "ipython",
    "version": 3
   },
   "file_extension": ".py",
   "mimetype": "text/x-python",
   "name": "python",
   "nbconvert_exporter": "python",
   "pygments_lexer": "ipython3",
   "version": "3.9.12"
  },
  "orig_nbformat": 4,
  "vscode": {
   "interpreter": {
    "hash": "c3380a37b4678e1f5e651331348d62bc6038aef0d5f414da260f404a34792558"
   }
  }
 },
 "nbformat": 4,
 "nbformat_minor": 2
}
