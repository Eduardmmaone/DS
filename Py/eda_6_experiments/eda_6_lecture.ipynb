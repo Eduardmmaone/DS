{
 "cells": [
  {
   "cell_type": "markdown",
   "metadata": {},
   "source": [
    "# EDA 6. Проектирование экспериментов\n",
    "\n",
    "###  Содержание <a class=\"anchor\" id=0></a>\n",
    "- [1. Введение](#1)\n",
    "- [2. Введение в проектирование экспериментов](#2)\n",
    "- [3. Логирование экспериментов](#3)\n",
    "- [4. Знакомство с Comet.ml](#4)\n",
    "- [5. Планирование эксперимента и логирование изменений в Comet.ml](#5)\n",
    "- [6. Итоги](#6)\n"
   ]
  },
  {
   "cell_type": "markdown",
   "metadata": {},
   "source": [
    "# 1. Введение <a class=\"anchor\" id=1></a>\n",
    "\n",
    "[к содержанию](#0)\n",
    "\n",
    "Если хочется делать качественные выводы, нужна качественная **организация эксперимента** (отслеживание эксперимента).\n",
    "\n",
    "Отслеживать эксперименты можно как угодно, но лучше использовать для этого специально придуманные под эту задачу инструменты."
   ]
  },
  {
   "cell_type": "markdown",
   "metadata": {},
   "source": [
    "# 2. Введение в проектирование экспериментов <a class=\"anchor\" id=2></a>\n",
    "\n",
    "[к содержанию](#0)\n",
    "\n",
    ">**Машинное обучение (`ML`)** — это область компьютерных наук, которая использует алгоритмы для создания и обучения моделей для выполнения рутинных задач. \n",
    "\n",
    "Типичный подход к управлению проектами машинного обучения основан на проектировании моделей машинного обучения вручную. И обычно он представлен следующими этапами:\n",
    "\n",
    "<img src=e_6_img1.png>\n",
    "\n",
    "Этот процесс предполагает, что обученная модель должна быть конечным результатом проекта машинного обучения. Однако такой подход **ошибочен по нескольким причинам**.\n",
    "\n",
    "* Мир постоянно развивается, стимулируемый прорывными технологиями, что приводит к постоянному **увеличению объёма данных**. Следовательно, данные, которые инженеры машинного обучения должны обрабатывать для обучения моделей, **также постоянно меняются**. \n",
    "\n",
    "* Обученная модель может удовлетворить непосредственные потребности заказчика только на основе данных, которые ей были предоставлены, но в долгосрочной перспективе она может оказаться неэффективной, поскольку **она не приспосабливается автоматически** к изменениям в наборах данных. \n",
    "\n",
    ">Например, если вы хотите использовать готовую модель анализа спроса на лекарства, которая была обучена на данных покупателей (регион проживания, цвет глаз, возраст), но о новых покупателях нет возможности собрать подобные данные (в анкетах больше не указывались цвет глаз и регион проживания),\n",
    "\n",
    "Обновления в фиксированных наборах данных, используемых для обучения, приводят к изменениям в модели, что снижает её точность. В примере выше столбцы регион и цвет глаз будут иметь пропуски для новых клиентов, а следовательно, прогноз модели, который является суммой признаков, умноженных на обученные коэффициенты, не будет достоверным.\n",
    "\n",
    ">Это особенно важно для проектов в сфере здравоохранения. Чем выше точность показывает модель при классификации медицинских изображений, тем выше шансы, что она сможет соперничать с профессиональными медиками в постановке точных диагнозов, исключая риск человеческой ошибки.\n",
    "\n",
    "**Точность модели (`accuracy`)** машинного обучения определяется как *процент правильных прогнозов* для тестовых данных и рассчитывается путём деления количества правильных прогнозов на общее количество прогнозов. Обычно это определяющий фактор при оценке успеха проекта машинного обучения — чем выше точность, тем лучше работает модель машинного обучения. \n",
    "\n",
    "Например, вы оцениваете спрос на товар. Ваша цель — узнать, купит ли клиент продукт. Вы строите модель на основе данных и реальных ответов, а затем сравниваете свои предсказания и реальные ответы. Если предсказания совпадают с реальными ответами чаще, чем в 90 % случаях, то обычно говорят, что модель надёжна, и её можно использовать для предсказаний спроса уже других клиентов. "
   ]
  },
  {
   "cell_type": "markdown",
   "metadata": {},
   "source": [
    "## КАК ДОБИТЬСЯ ЛУЧШЕЙ ТОЧНОСТИ МОДЕЛИ ML?\n",
    "\n",
    "Чтобы оптимизировать метрики для тестовых данных, необходимо пространство для многочисленных экспериментов. Экспериментирование с различными архитектурами моделей, кодом предварительной обработки и параметрами модели, определяющими успех процесса обучения, несколько раз приводит к повторному обучению модели. Всё это вы будете изучать в будущих модулях, посвящённых моделированию в ML.  \n",
    "\n",
    "Возникает необходимость отслеживания экспериментов, то есть сохранения всей важной информации, связанной с каждым запускаемым экспериментом, например сохранение параметров запуска, влияющих на производительность модели. Выполнять эту задачу вручную обременительно, поэтому имеет смысл поставить для процесса автоматизированную инфраструктуру — **пайплайн** (`pipeline`) машинного обучения.\n",
    "\n",
    "**Пайплайном** (`pipeline`) в ML называется способ систематизации и автоматизации рабочего процесса, необходимого для создания модели машинного обучения. Пайплайны состоят из нескольких последовательных шагов, которые выполняют всё — от извлечения и предварительной обработки данных до обучения и проверки моделей.\n",
    "\n",
    "Пайплайн машинного обучения состоит из следующих шагов:\n",
    "\n",
    "<img src=e_6_img2.png width=500>\n",
    "\n",
    "Этот рабочий процесс позволяет осуществлять непрерывную настройку существующих моделей наряду с постоянной оценкой производительности. Самым большим преимуществом этого процесса является то, что его можно автоматизировать с помощью доступных инструментов.\n",
    "\n",
    "Для медицинских стартапов это означает, что они могут получить модель машинного обучения для конкретного проекта, которая будет постоянно обновляться по мере поступления новых данных о пациентах, что приведёт к более высокой точности полученных результатов.\n",
    "\n",
    ">Представьте, что вы специалист по данным, а ваша компания сотрудничает с медицинскими учреждениями. Перед вами стоит задача выяснить, почему люди, получившие инструкции по лечению, не приходят на следующий приём. В качестве набора данных вы используете информацию о посещениях и характеристики пациентов. \n",
    "\n",
    "Каждая история болезни характеризуется следующими признаками:\n",
    "\n",
    "* No_show — пациент не пришёл на приём;\n",
    "* Gender — пол пациента;\n",
    "* ScheduledDay — день, когда планируется встреча;\n",
    "* AppointmentDay — реальная дата встречи;\n",
    "* Age — возраст пациента;\n",
    "* Neighbourhood — район проживания каждого пациента;\n",
    "* Scholarship — получает ли пациент стипендию;\n",
    "* …и несколько других признаков.\n",
    "\n",
    "1. Первым этапом данных является [загрузка данных](https://www.kaggle.com/datasets/joniarroba/noshowappointments): "
   ]
  },
  {
   "cell_type": "code",
   "execution_count": 2,
   "metadata": {},
   "outputs": [
    {
     "data": {
      "text/html": [
       "<div>\n",
       "<style scoped>\n",
       "    .dataframe tbody tr th:only-of-type {\n",
       "        vertical-align: middle;\n",
       "    }\n",
       "\n",
       "    .dataframe tbody tr th {\n",
       "        vertical-align: top;\n",
       "    }\n",
       "\n",
       "    .dataframe thead th {\n",
       "        text-align: right;\n",
       "    }\n",
       "</style>\n",
       "<table border=\"1\" class=\"dataframe\">\n",
       "  <thead>\n",
       "    <tr style=\"text-align: right;\">\n",
       "      <th></th>\n",
       "      <th>PatientId</th>\n",
       "      <th>AppointmentID</th>\n",
       "      <th>Gender</th>\n",
       "      <th>ScheduledDay</th>\n",
       "      <th>AppointmentDay</th>\n",
       "      <th>Age</th>\n",
       "      <th>Neighbourhood</th>\n",
       "      <th>Scholarship</th>\n",
       "      <th>Hipertension</th>\n",
       "      <th>Diabetes</th>\n",
       "      <th>Alcoholism</th>\n",
       "      <th>Handcap</th>\n",
       "      <th>SMS_received</th>\n",
       "      <th>No-show</th>\n",
       "    </tr>\n",
       "  </thead>\n",
       "  <tbody>\n",
       "    <tr>\n",
       "      <th>0</th>\n",
       "      <td>2.987250e+13</td>\n",
       "      <td>5642903</td>\n",
       "      <td>F</td>\n",
       "      <td>2016-04-29T18:38:08Z</td>\n",
       "      <td>2016-04-29T00:00:00Z</td>\n",
       "      <td>62</td>\n",
       "      <td>JARDIM DA PENHA</td>\n",
       "      <td>0</td>\n",
       "      <td>1</td>\n",
       "      <td>0</td>\n",
       "      <td>0</td>\n",
       "      <td>0</td>\n",
       "      <td>0</td>\n",
       "      <td>No</td>\n",
       "    </tr>\n",
       "    <tr>\n",
       "      <th>1</th>\n",
       "      <td>5.589978e+14</td>\n",
       "      <td>5642503</td>\n",
       "      <td>M</td>\n",
       "      <td>2016-04-29T16:08:27Z</td>\n",
       "      <td>2016-04-29T00:00:00Z</td>\n",
       "      <td>56</td>\n",
       "      <td>JARDIM DA PENHA</td>\n",
       "      <td>0</td>\n",
       "      <td>0</td>\n",
       "      <td>0</td>\n",
       "      <td>0</td>\n",
       "      <td>0</td>\n",
       "      <td>0</td>\n",
       "      <td>No</td>\n",
       "    </tr>\n",
       "    <tr>\n",
       "      <th>2</th>\n",
       "      <td>4.262962e+12</td>\n",
       "      <td>5642549</td>\n",
       "      <td>F</td>\n",
       "      <td>2016-04-29T16:19:04Z</td>\n",
       "      <td>2016-04-29T00:00:00Z</td>\n",
       "      <td>62</td>\n",
       "      <td>MATA DA PRAIA</td>\n",
       "      <td>0</td>\n",
       "      <td>0</td>\n",
       "      <td>0</td>\n",
       "      <td>0</td>\n",
       "      <td>0</td>\n",
       "      <td>0</td>\n",
       "      <td>No</td>\n",
       "    </tr>\n",
       "    <tr>\n",
       "      <th>3</th>\n",
       "      <td>8.679512e+11</td>\n",
       "      <td>5642828</td>\n",
       "      <td>F</td>\n",
       "      <td>2016-04-29T17:29:31Z</td>\n",
       "      <td>2016-04-29T00:00:00Z</td>\n",
       "      <td>8</td>\n",
       "      <td>PONTAL DE CAMBURI</td>\n",
       "      <td>0</td>\n",
       "      <td>0</td>\n",
       "      <td>0</td>\n",
       "      <td>0</td>\n",
       "      <td>0</td>\n",
       "      <td>0</td>\n",
       "      <td>No</td>\n",
       "    </tr>\n",
       "    <tr>\n",
       "      <th>4</th>\n",
       "      <td>8.841186e+12</td>\n",
       "      <td>5642494</td>\n",
       "      <td>F</td>\n",
       "      <td>2016-04-29T16:07:23Z</td>\n",
       "      <td>2016-04-29T00:00:00Z</td>\n",
       "      <td>56</td>\n",
       "      <td>JARDIM DA PENHA</td>\n",
       "      <td>0</td>\n",
       "      <td>1</td>\n",
       "      <td>1</td>\n",
       "      <td>0</td>\n",
       "      <td>0</td>\n",
       "      <td>0</td>\n",
       "      <td>No</td>\n",
       "    </tr>\n",
       "  </tbody>\n",
       "</table>\n",
       "</div>"
      ],
      "text/plain": [
       "      PatientId  AppointmentID Gender          ScheduledDay  \\\n",
       "0  2.987250e+13        5642903      F  2016-04-29T18:38:08Z   \n",
       "1  5.589978e+14        5642503      M  2016-04-29T16:08:27Z   \n",
       "2  4.262962e+12        5642549      F  2016-04-29T16:19:04Z   \n",
       "3  8.679512e+11        5642828      F  2016-04-29T17:29:31Z   \n",
       "4  8.841186e+12        5642494      F  2016-04-29T16:07:23Z   \n",
       "\n",
       "         AppointmentDay  Age      Neighbourhood  Scholarship  Hipertension  \\\n",
       "0  2016-04-29T00:00:00Z   62    JARDIM DA PENHA            0             1   \n",
       "1  2016-04-29T00:00:00Z   56    JARDIM DA PENHA            0             0   \n",
       "2  2016-04-29T00:00:00Z   62      MATA DA PRAIA            0             0   \n",
       "3  2016-04-29T00:00:00Z    8  PONTAL DE CAMBURI            0             0   \n",
       "4  2016-04-29T00:00:00Z   56    JARDIM DA PENHA            0             1   \n",
       "\n",
       "   Diabetes  Alcoholism  Handcap  SMS_received No-show  \n",
       "0         0           0        0             0      No  \n",
       "1         0           0        0             0      No  \n",
       "2         0           0        0             0      No  \n",
       "3         0           0        0             0      No  \n",
       "4         1           0        0             0      No  "
      ]
     },
     "execution_count": 2,
     "metadata": {},
     "output_type": "execute_result"
    }
   ],
   "source": [
    "import pandas as pd\n",
    "\n",
    "df = pd.read_csv('archive.zip')\n",
    "\n",
    "df.head()"
   ]
  },
  {
   "cell_type": "markdown",
   "metadata": {},
   "source": [
    "Основная цель проекта — выделить факторы, способствующие пропуску встреч с врачом. Однако это долгосрочная цель. Прежде чем копнуть глубже, необходимо попытаться ответить на следующие вопросы:\n",
    "\n",
    "* Каково соотношение людей, которые пропускают встречи, к тем, кто этого не делает?\n",
    "* Кто не появляется чаще — мужчины или женщины?\n",
    "\n",
    "2. Для ответа на эти и другие подобные вопросы используется `EDA`.\n",
    "\n",
    "Найти соотношение людей, которые пропускают приёмы, к тем, кто этого не делает, можно с помощью гистограммы:"
   ]
  },
  {
   "cell_type": "code",
   "execution_count": 3,
   "metadata": {},
   "outputs": [
    {
     "data": {
      "text/plain": [
       "Text(0.5, 1.0, 'Соотношение людей, которые пропускают приёмы, к тем кто не пропускает')"
      ]
     },
     "execution_count": 3,
     "metadata": {},
     "output_type": "execute_result"
    },
    {
     "data": {
      "image/png": "[encoded data removed]",
      "text/plain": [
       "<Figure size 576x288 with 1 Axes>"
      ]
     },
     "metadata": {
      "needs_background": "light"
     },
     "output_type": "display_data"
    }
   ],
   "source": [
    "import matplotlib.pyplot as plt\n",
    "\n",
    "plt.figure(figsize=(8,4))\n",
    "df['No-show'].hist()\n",
    "plt.title('Соотношение людей, которые пропускают приёмы, к тем кто не пропускает')"
   ]
  },
  {
   "cell_type": "markdown",
   "metadata": {},
   "source": [
    "Или, если мы хотим получить точную пропорцию, — с помощью метода `value_counts()`:"
   ]
  },
  {
   "cell_type": "code",
   "execution_count": 7,
   "metadata": {},
   "outputs": [
    {
     "data": {
      "text/plain": [
       "No     0.798067\n",
       "Yes    0.201933\n",
       "Name: No-show, dtype: float64"
      ]
     },
     "execution_count": 7,
     "metadata": {},
     "output_type": "execute_result"
    }
   ],
   "source": [
    "df['No-show'].value_counts(True)"
   ]
  },
  {
   "cell_type": "markdown",
   "metadata": {},
   "source": [
    "Данный метод также может помочь оценить, кто не появляется чаще — мужчины или женщины:"
   ]
  },
  {
   "cell_type": "code",
   "execution_count": 8,
   "metadata": {},
   "outputs": [
    {
     "data": {
      "text/plain": [
       "F    0.653882\n",
       "M    0.346118\n",
       "Name: Gender, dtype: float64"
      ]
     },
     "execution_count": 8,
     "metadata": {},
     "output_type": "execute_result"
    }
   ],
   "source": [
    "df[df['No-show'] == 'Yes']['Gender'].value_counts(True)"
   ]
  },
  {
   "cell_type": "markdown",
   "metadata": {},
   "source": [
    "Итак, мы видим, что людей, пропускающих приём, примерно 20 %.\n",
    "Из них 65% женщины, остальные мужчины.\n",
    "\n",
    "3. После того, как выполнен разведывательный анализ данных, переходим к предобработке данных. Некоторые столбцы, например `‘Gender’` и `‘Neighbourhood’`, представлены в текстовом виде, а модели машинного обучения работают с числовыми признаками. Необходимо закодировать такие данные. Для `one-hot` кодировки можно воспользоваться методом `get_dummies()` библиотеки pandas:"
   ]
  },
  {
   "cell_type": "code",
   "execution_count": 10,
   "metadata": {},
   "outputs": [
    {
     "data": {
      "text/html": [
       "<div>\n",
       "<style scoped>\n",
       "    .dataframe tbody tr th:only-of-type {\n",
       "        vertical-align: middle;\n",
       "    }\n",
       "\n",
       "    .dataframe tbody tr th {\n",
       "        vertical-align: top;\n",
       "    }\n",
       "\n",
       "    .dataframe thead th {\n",
       "        text-align: right;\n",
       "    }\n",
       "</style>\n",
       "<table border=\"1\" class=\"dataframe\">\n",
       "  <thead>\n",
       "    <tr style=\"text-align: right;\">\n",
       "      <th></th>\n",
       "      <th>PatientId</th>\n",
       "      <th>AppointmentID</th>\n",
       "      <th>ScheduledDay</th>\n",
       "      <th>AppointmentDay</th>\n",
       "      <th>Age</th>\n",
       "      <th>Scholarship</th>\n",
       "      <th>Hipertension</th>\n",
       "      <th>Diabetes</th>\n",
       "      <th>Alcoholism</th>\n",
       "      <th>Handcap</th>\n",
       "      <th>...</th>\n",
       "      <th>Neighbourhood_SANTOS REIS</th>\n",
       "      <th>Neighbourhood_SEGURANÇA DO LAR</th>\n",
       "      <th>Neighbourhood_SOLON BORGES</th>\n",
       "      <th>Neighbourhood_SÃO BENEDITO</th>\n",
       "      <th>Neighbourhood_SÃO CRISTÓVÃO</th>\n",
       "      <th>Neighbourhood_SÃO JOSÉ</th>\n",
       "      <th>Neighbourhood_SÃO PEDRO</th>\n",
       "      <th>Neighbourhood_TABUAZEIRO</th>\n",
       "      <th>Neighbourhood_UNIVERSITÁRIO</th>\n",
       "      <th>Neighbourhood_VILA RUBIM</th>\n",
       "    </tr>\n",
       "  </thead>\n",
       "  <tbody>\n",
       "    <tr>\n",
       "      <th>0</th>\n",
       "      <td>2.987250e+13</td>\n",
       "      <td>5642903</td>\n",
       "      <td>2016-04-29T18:38:08Z</td>\n",
       "      <td>2016-04-29T00:00:00Z</td>\n",
       "      <td>62</td>\n",
       "      <td>0</td>\n",
       "      <td>1</td>\n",
       "      <td>0</td>\n",
       "      <td>0</td>\n",
       "      <td>0</td>\n",
       "      <td>...</td>\n",
       "      <td>0</td>\n",
       "      <td>0</td>\n",
       "      <td>0</td>\n",
       "      <td>0</td>\n",
       "      <td>0</td>\n",
       "      <td>0</td>\n",
       "      <td>0</td>\n",
       "      <td>0</td>\n",
       "      <td>0</td>\n",
       "      <td>0</td>\n",
       "    </tr>\n",
       "    <tr>\n",
       "      <th>1</th>\n",
       "      <td>5.589978e+14</td>\n",
       "      <td>5642503</td>\n",
       "      <td>2016-04-29T16:08:27Z</td>\n",
       "      <td>2016-04-29T00:00:00Z</td>\n",
       "      <td>56</td>\n",
       "      <td>0</td>\n",
       "      <td>0</td>\n",
       "      <td>0</td>\n",
       "      <td>0</td>\n",
       "      <td>0</td>\n",
       "      <td>...</td>\n",
       "      <td>0</td>\n",
       "      <td>0</td>\n",
       "      <td>0</td>\n",
       "      <td>0</td>\n",
       "      <td>0</td>\n",
       "      <td>0</td>\n",
       "      <td>0</td>\n",
       "      <td>0</td>\n",
       "      <td>0</td>\n",
       "      <td>0</td>\n",
       "    </tr>\n",
       "    <tr>\n",
       "      <th>2</th>\n",
       "      <td>4.262962e+12</td>\n",
       "      <td>5642549</td>\n",
       "      <td>2016-04-29T16:19:04Z</td>\n",
       "      <td>2016-04-29T00:00:00Z</td>\n",
       "      <td>62</td>\n",
       "      <td>0</td>\n",
       "      <td>0</td>\n",
       "      <td>0</td>\n",
       "      <td>0</td>\n",
       "      <td>0</td>\n",
       "      <td>...</td>\n",
       "      <td>0</td>\n",
       "      <td>0</td>\n",
       "      <td>0</td>\n",
       "      <td>0</td>\n",
       "      <td>0</td>\n",
       "      <td>0</td>\n",
       "      <td>0</td>\n",
       "      <td>0</td>\n",
       "      <td>0</td>\n",
       "      <td>0</td>\n",
       "    </tr>\n",
       "  </tbody>\n",
       "</table>\n",
       "<p>3 rows × 95 columns</p>\n",
       "</div>"
      ],
      "text/plain": [
       "      PatientId  AppointmentID          ScheduledDay        AppointmentDay  \\\n",
       "0  2.987250e+13        5642903  2016-04-29T18:38:08Z  2016-04-29T00:00:00Z   \n",
       "1  5.589978e+14        5642503  2016-04-29T16:08:27Z  2016-04-29T00:00:00Z   \n",
       "2  4.262962e+12        5642549  2016-04-29T16:19:04Z  2016-04-29T00:00:00Z   \n",
       "\n",
       "   Age  Scholarship  Hipertension  Diabetes  Alcoholism  Handcap  ...  \\\n",
       "0   62            0             1         0           0        0  ...   \n",
       "1   56            0             0         0           0        0  ...   \n",
       "2   62            0             0         0           0        0  ...   \n",
       "\n",
       "   Neighbourhood_SANTOS REIS Neighbourhood_SEGURANÇA DO LAR  \\\n",
       "0                          0                              0   \n",
       "1                          0                              0   \n",
       "2                          0                              0   \n",
       "\n",
       "   Neighbourhood_SOLON BORGES  Neighbourhood_SÃO BENEDITO  \\\n",
       "0                           0                           0   \n",
       "1                           0                           0   \n",
       "2                           0                           0   \n",
       "\n",
       "   Neighbourhood_SÃO CRISTÓVÃO  Neighbourhood_SÃO JOSÉ  \\\n",
       "0                            0                       0   \n",
       "1                            0                       0   \n",
       "2                            0                       0   \n",
       "\n",
       "   Neighbourhood_SÃO PEDRO  Neighbourhood_TABUAZEIRO  \\\n",
       "0                        0                         0   \n",
       "1                        0                         0   \n",
       "2                        0                         0   \n",
       "\n",
       "   Neighbourhood_UNIVERSITÁRIO  Neighbourhood_VILA RUBIM  \n",
       "0                            0                         0  \n",
       "1                            0                         0  \n",
       "2                            0                         0  \n",
       "\n",
       "[3 rows x 95 columns]"
      ]
     },
     "execution_count": 10,
     "metadata": {},
     "output_type": "execute_result"
    }
   ],
   "source": [
    "categorical_columns_names = ['Gender', 'Neighbourhood']\n",
    "encoded_columns = pd.get_dummies(df, columns=categorical_columns_names)\n",
    "encoded_columns.head(3)"
   ]
  },
  {
   "cell_type": "markdown",
   "metadata": {},
   "source": [
    "4. После этих этапов можно переходить к созданию предсказания, придёт ли пациент на приём, обучению и оптимизации модели, а также выделению наиболее важных признаков, способствующих высокой производительности модели. Об этом вы узнаете в будущих модулях!  \n",
    "\n",
    "Предположим, вы несколько раз обучили модель с разными параметрами, подобрали наилучшие и достигли `accuracy > 0.9`. То есть доля верных предсказаний превышает 90 %. Также вы узнали, что наибольший вклад в модель вносят такие признаки, как пол, регион и факт наличия стипендии. Про влияние пола на результат вы догадались во время проведения EDA, регион кажется тоже понятным фактором: люди в крупных городах больше склонны приходить на последующий назначенный прием, `а вот факт наличия стипендии — не такой очевидный фактор`. \n",
    "\n",
    "Это подтверждает тезис о том, что модели машинного обучения могут рассматриваться как чёрный ящик: нечто, куда мы кладём свои данные и получаем предсказание. Не всегда результаты прогнозов легко интерпретируемы. Обычно существует **трэйд-офф** между качеством модели и её интерпретируемостью: чем сложнее модель, тем выше, но менее очевиден её результат.    \n",
    "\n",
    "⬇️ Ноутбук с продемонстрированным кодом доступен [по ссылке](https://lms.skillfactory.ru/assets/courseware/v1/a60205a7aef74bb8877c204d4c570551/asset-v1:SkillFactory+DSPR-2.0+14JULY2021+type@asset+block/noshowappointments.ipynb)."
   ]
  },
  {
   "cell_type": "markdown",
   "metadata": {},
   "source": [
    "# 3. Логирование экспериментов <a class=\"anchor\" id=3></a>\n",
    "\n",
    "[к содержанию](#0)\n",
    "\n",
    ">Итак, запуск экспериментов по машинному обучению включает в себя множество задач, таких как EDA и предобработка данных. В последнюю может входить заполнение пропусков данных, проверка различных алгоритмов с целью поиска наилучшего, анализ производительности модели и другие связанные задачи, которые зависят от решаемой проблемы.\n",
    "\n",
    "Как вы уже знаете, в процессе проведения эксперимента по машинному обучению можно использовать функцию `print()` для просмотра выходных данных экспериментов, таких как уровень корреляции данных в выборке, результат тестирования статистической гипотезы и так далее. \n",
    "\n",
    "Однако время от времени выводить результат на экран с помощью функции `print()` **бесполезно**, так как при запуске следующего эксперимента вы потеряете все результаты предыдущего эксперимента, **если не запишете их вручную в документ**. \n",
    "\n",
    "Таким образом, сравнение результатов ML-экспериментов становится весьма затруднительным процессом, потому что необходимо иметь записи всех проводимых ранее экспериментов. Например, если во время EDA-задачи предсказания спроса на лекарство изменяются данные, то каждый раз выводить на экран новую визуализацию неудобно. \n",
    "\n",
    "Логирование решает эту проблему! Даже если информация изменится с запуском нового эксперимента, всё будет зафиксировано в логе. \n",
    "\n",
    "**Лог** (`log`) — это специальный журнал, в котором хранится информация о состоянии работы программы. Логирование (ведение журнала) обеспечивает отслеживание событий, происходящих во время работы программы, и может выводить эти события в отдельный файл, чтобы вы могли отслеживать, что происходит во время выполнения кода. \n",
    "\n",
    "Пример такого файла: \n",
    "\n",
    "<img src=e_6_img3.png>\n",
    "\n",
    "Здесь зафиксирована информация о форме данных и соотношение классов целевой переменной `Gender`. Это даёт возможность отлаживать код. Далее мы подробнее разберём, как создавать логи. \n",
    "\n",
    "Для логирования в `Python` используется модуль `logging`. Он используется большинством сторонних библиотек `Python`, поэтому вы можете интегрировать свои логи с сообщениями из этих библиотек для создания единого журнала логов приложения. Данный модуль импортируется как другие библиотеки:"
   ]
  },
  {
   "cell_type": "code",
   "execution_count": 11,
   "metadata": {},
   "outputs": [],
   "source": [
    "import logging"
   ]
  },
  {
   "cell_type": "markdown",
   "metadata": {},
   "source": [
    "Прежде чем приступить к логированию, необходимо установить базовые настройки:\n",
    "\n",
    "* уровень;\n",
    "* обработчик (хендлер);\n",
    "* формат логирования. \n",
    "\n",
    "## НАСТРОЙКА УРОВНЯ ЛОГИРОВАНИЯ\n",
    "\n",
    "<img src=e_6_img4.png width=600>\n",
    "\n",
    "С импортированным модулем `logging` вы можете использовать так называемый `«logger»` для логирования сообщений, которые вы хотите видеть (вместо вывода их на экран командой `print()`). \n",
    "\n",
    "По умолчанию существует пять стандартных уровней логирования, указывающих на важность событий: \n",
    "\n",
    "* отладка;\n",
    "* информация;\n",
    "* предупреждение;\n",
    "* ошибка;\n",
    "* критический. \n",
    "\n",
    "Самый низкий уровень из данных — не установлен, а самый высокий уровень является **критическим**. Установив уровень логирования, можно записать сообщение специально для этого уровня в определённый файл журнала. Возле сообщения будет указан его уровень."
   ]
  },
  {
   "cell_type": "code",
   "execution_count": 12,
   "metadata": {},
   "outputs": [
    {
     "name": "stderr",
     "output_type": "stream",
     "text": [
      "WARNING:root:Это сообщение-предупреждение\n",
      "ERROR:root:Это сообщение об ошибке\n",
      "CRITICAL:root:Это критическое сообщение\n"
     ]
    }
   ],
   "source": [
    "import logging\n",
    "logging.debug('Это сообщение отладки')\n",
    "logging.info('Это информационное сообщение')\n",
    "logging.warning('Это сообщение-предупреждение')\n",
    "logging.error('Это сообщение об ошибке')\n",
    "logging.critical('Это критическое сообщение')"
   ]
  },
  {
   "cell_type": "markdown",
   "metadata": {},
   "source": [
    "Здесь мы дали команду залогировать пять сообщений. Вывод команд показывает уровень важности перед каждым сообщением (`WARNING/ERROR/CRITICAL`). `root` — имя логера по умолчанию.\n",
    "\n",
    "Этот формат, который показывает уровень, имя и сообщение, разделенные двоеточием (`:`), является форматом вывода по умолчанию. Его можно изменить для включения таких вещей, как отметка времени, номер строки и других деталей. Мы научимся делать это чуть ниже.\n",
    "\n",
    ">Обратите внимание, что сообщения `debug()` и `info()` не были отображены. Это связано с тем, что по умолчанию модуль ведения журнала регистрирует сообщения только с уровнем ПРЕДУПРЕЖДЕНИЕ (`WARNING`) или выше. Вы можете изменить это, сконфигурировав модуль `logging` для регистрации событий всех уровней, то есть установив уровень на ОТЛАДКУ (`DEBUG`). \n",
    "\n",
    "В приведённом ниже примере кода показано, как можно настроить уровень ведения журнала на `DEBUG`."
   ]
  },
  {
   "cell_type": "code",
   "execution_count": 13,
   "metadata": {},
   "outputs": [],
   "source": [
    "logging.basicConfig(level=logging.DEBUG)\n",
    "logging.debug('Сообщение будет залогировано!')"
   ]
  },
  {
   "cell_type": "markdown",
   "metadata": {},
   "source": [
    "Мы настроили уровень ведения журнала `DEBUG`, что означает, что будут отслеживаться только сообщения этого уровня (`DEBUG`) и выше.\n",
    "\n",
    "Помимо файла лог может быть записан и в другой формат. Для этого используются обработчики (хендлеры) логов.\n",
    "\n",
    "## УСТАНОВКА ОБРАБОТЧИКА ЛОГИРОВАНИЯ\n",
    "\n",
    "Функция обработчиков ведения журналов состоит в том, чтобы отображать записи/сообщения журнала на любом выходе, который вы выберете. То есть вы можете выбрать, отображать ли ваш лог в виде файла, HTTP-страницы или даже отправить лог на электронную почту через SMTP. \n",
    "\n",
    "Более того, у созданного вами `logger` может быть несколько обработчиков, а это значит, что вы можете настроить его на сохранение в файл журнала, а также на отправку по email одновременно. Подробнее ознакомиться с видами хендлеров можно [здесь](https://digitology.tech/docs/python_3/library/logging.handlers.html).\n",
    "\n",
    "Обработчики являются классами модуля `logging`. Нам понадобится обработчик `FileHandler`, который возьмёт запись/сообщение журнала и добавит его в файл журнала `log_file.log`:"
   ]
  },
  {
   "cell_type": "code",
   "execution_count": 14,
   "metadata": {},
   "outputs": [
    {
     "data": {
      "text/plain": [
       "<FileHandler c:\\Личные документы\\Python\\Py\\eda_6_experiments\\log_file.log (NOTSET)>"
      ]
     },
     "execution_count": 14,
     "metadata": {},
     "output_type": "execute_result"
    }
   ],
   "source": [
    "logging.FileHandler('log_file.log')"
   ]
  },
  {
   "cell_type": "markdown",
   "metadata": {},
   "source": [
    "## УСТАНОВКА ФОРМАТА ЛОГИРОВАНИЯ\n",
    "\n",
    "Как мы уже сказали, типичный формат лога выглядит так: `уровень: имя: сообщение`. Однако его можно изменить.\n",
    "\n",
    "Существуют различные способы форматирования записи журнала. Вы можете включить дату, время и уровень ведения журнала в свой формат, чтобы знать, когда журнал был отправлен и на каком уровне. В приведённом ниже примере показано, как можно настроить формат записей журнала."
   ]
  },
  {
   "cell_type": "code",
   "execution_count": 18,
   "metadata": {},
   "outputs": [],
   "source": [
    "logging.basicConfig(format=\"%(levelname)s: %(asctime)s: %(message)s\", level=logging.DEBUG)\n",
    "logging.info('Проверка')\n"
   ]
  },
  {
   "cell_type": "markdown",
   "metadata": {},
   "source": [
    "Здесь формат записей журнала включает дату, время, уровень ведения журнала и само сообщение.\n",
    "\n",
    "Таким образом, вы можете изменять как формат лога, так и формат вывода. Добавление времени сообщения существенно облегчает работу — становится легко отследить, когда было получено сообщение.\n",
    "\n",
    "Теперь, когда вы понимаете основы модуля `logging` в Python, посмотрим, как можно его использовать при проведении экспериментов по машинному обучению. Давайте залогируем информацию о нашем датасете [Medical Appointment No Shows](https://www.kaggle.com/datasets/joniarroba/noshowappointments). \n",
    "\n",
    "Создадим функцию `log()` для генерации лог-файла и записи в него информации."
   ]
  },
  {
   "cell_type": "code",
   "execution_count": 31,
   "metadata": {},
   "outputs": [],
   "source": [
    "# Функция для создания лог-файла и записи в него информации\n",
    "def get_logger(path, file):\n",
    "  \"\"\"[Создает лог-файл для логирования в него]\n",
    "  Аргументы:\n",
    "      path {string} -- путь к директории\n",
    "      file {string} -- имя файла\n",
    "   Возвращает:\n",
    "      [obj] -- [логер]\n",
    "  \"\"\"\n",
    "  import os\n",
    "  # проверяем, существует ли файл\n",
    "  log_file = os.path.join(path, file)\n",
    " \n",
    "  #если  файла нет, создаем его\n",
    "  if not os.path.isfile(log_file):\n",
    "      open(log_file, \"w+\").close()\n",
    "  \n",
    "  # поменяем формат логирования\n",
    "  file_logging_format = \"%(levelname)s: %(asctime)s: %(message)s\"\n",
    "  \n",
    "  # конфигурируем лог-файл\n",
    "  logging.basicConfig(level=logging.INFO, \n",
    "  format = file_logging_format)\n",
    "  logger = logging.getLogger()\n",
    "  \n",
    "  # создадим хэнлдер для записи лога в файл\n",
    "  handler = logging.FileHandler(log_file)\n",
    "  \n",
    "  # установим уровень логирования\n",
    "  handler.setLevel(logging.INFO)\n",
    "  \n",
    "  # создадим формат логирования, используя file_logging_format\n",
    "  formatter = logging.Formatter(file_logging_format)\n",
    "  handler.setFormatter(formatter)\n",
    "  \n",
    "  # добавим хэндлер лог-файлу\n",
    "  logger.addHandler(handler)\n",
    "  return logger"
   ]
  },
  {
   "cell_type": "markdown",
   "metadata": {},
   "source": [
    "Итак, `get_logger` принимает на вход папку, в которой вы хотите хранить файл лога и имя файла. Функция нацелена на создание информационных сообщений и записи их в лог-файл. Для того, чтобы освежить в памяти знания по работе с файлами, вы можете вернуться к Блоку 2 нашего курса («Подгрузка данных»).  \n",
    "\n",
    "Для удобства лог-файлы хранят в отдельной директории. Новую папку можно создать с помощью команды `mkdir`:"
   ]
  },
  {
   "cell_type": "code",
   "execution_count": 32,
   "metadata": {},
   "outputs": [
    {
     "name": "stderr",
     "output_type": "stream",
     "text": [
      "�������� ��� 䠩� logs 㦥 �������.\n"
     ]
    }
   ],
   "source": [
    "!mkdir logs"
   ]
  },
  {
   "cell_type": "code",
   "execution_count": 33,
   "metadata": {},
   "outputs": [],
   "source": [
    "# создаем лог-файл\n",
    "logger = get_logger(path=\"logs/\", file=\"data.logs\")\n",
    "\n",
    "logger.info(\"Data\")\n",
    "\n",
    "logger.info(\"Data shape {}\".format(df.shape))\n",
    "\n",
    "logger.info(\"Percentage of women: {}\".format(df[df['No-show']=='Yes']['Gender'].value_counts(True)[0]))\n",
    "\n",
    "logger.info(\"Percentage of men: {}\".format(df[df['No-show']=='Yes']['Gender'].value_counts(True)[1]))"
   ]
  },
  {
   "cell_type": "markdown",
   "metadata": {},
   "source": [
    "В директории `logs` появится файл `data.logs`, который будет выглядеть следующим образом:\n",
    "\n",
    "<img src=e_6_img3.png>\n",
    "\n",
    "Отлично! Мы зафиксировали информацию о датасете в лог-файл. Такой файл отражает сведения о том, что всё работает в штатном режиме (то есть просто ежедневный мониторинг программы) или что произошла какая-то ошибка, на которую нужно максимально срочно отреагировать и устранить. Например, мы можем проверять форму данных, и, если форма не соответствует необходимой, логировать ошибку:"
   ]
  },
  {
   "cell_type": "code",
   "execution_count": 35,
   "metadata": {},
   "outputs": [
    {
     "name": "stderr",
     "output_type": "stream",
     "text": [
      "ERROR:root:Data shape is incorrect!\n"
     ]
    }
   ],
   "source": [
    "if df.shape != (110526,14):\n",
    "    logger.error('Data shape is incorrect!')"
   ]
  },
  {
   "cell_type": "markdown",
   "metadata": {},
   "source": [
    "# 4. Знакомство с Comet.ml <a class=\"anchor\" id=4></a>\n",
    "\n",
    "[к содержанию](#0)"
   ]
  },
  {
   "cell_type": "markdown",
   "metadata": {},
   "source": [
    "# 5. Планирование эксперимента и логирование изменений в Comet.ml <a class=\"anchor\" id=5></a>\n",
    "\n",
    "[к содержанию](#0)"
   ]
  },
  {
   "cell_type": "markdown",
   "metadata": {},
   "source": [
    "# 6. Итоги <a class=\"anchor\" id=6></a>\n",
    "\n",
    "[к содержанию](#0)"
   ]
  }
 ],
 "metadata": {
  "kernelspec": {
   "display_name": "Python 3.9.12 ('base')",
   "language": "python",
   "name": "python3"
  },
  "language_info": {
   "codemirror_mode": {
    "name": "ipython",
    "version": 3
   },
   "file_extension": ".py",
   "mimetype": "text/x-python",
   "name": "python",
   "nbconvert_exporter": "python",
   "pygments_lexer": "ipython3",
   "version": "3.9.12"
  },
  "orig_nbformat": 4,
  "vscode": {
   "interpreter": {
    "hash": "c3380a37b4678e1f5e651331348d62bc6038aef0d5f414da260f404a34792558"
   }
  }
 },
 "nbformat": 4,
 "nbformat_minor": 2
}
