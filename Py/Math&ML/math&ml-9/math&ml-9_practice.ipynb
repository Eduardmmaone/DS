{
 "cells": [
  {
   "cell_type": "markdown",
   "metadata": {},
   "source": [
    "# Юнит 2"
   ]
  },
  {
   "cell_type": "code",
   "execution_count": 2,
   "metadata": {},
   "outputs": [],
   "source": [
    "import numpy as np\n",
    "import pandas as pd\n",
    "\n",
    "from sklearn.linear_model import LogisticRegression\n",
    "from sklearn.model_selection import train_test_split\n",
    "from sklearn.metrics import f1_score\n",
    "from sklearn.tree import DecisionTreeClassifier\n",
    "\n",
    "df = pd.read_csv('wineQualityReds.zip')"
   ]
  },
  {
   "cell_type": "code",
   "execution_count": 4,
   "metadata": {},
   "outputs": [
    {
     "name": "stdout",
     "output_type": "stream",
     "text": [
      "LogisticRegression f1_score: 0.7390476190476191\n",
      "DecisionTreeClassifier f1_score: 0.7601476014760148\n"
     ]
    },
    {
     "name": "stderr",
     "output_type": "stream",
     "text": [
      "c:\\Users\\AubakirovMA\\AppData\\Local\\anaconda3\\lib\\site-packages\\sklearn\\linear_model\\_logistic.py:458: ConvergenceWarning: lbfgs failed to converge (status=1):\n",
      "STOP: TOTAL NO. of ITERATIONS REACHED LIMIT.\n",
      "\n",
      "Increase the number of iterations (max_iter) or scale the data as shown in:\n",
      "    https://scikit-learn.org/stable/modules/preprocessing.html\n",
      "Please also refer to the documentation for alternative solver options:\n",
      "    https://scikit-learn.org/stable/modules/linear_model.html#logistic-regression\n",
      "  n_iter_i = _check_optimize_result(\n"
     ]
    }
   ],
   "source": [
    "#ЗАДАНИЕ 2.7\n",
    "\n",
    "df['target']= np.where(df.quality >=6,1,0)\n",
    "Y= df['target']\n",
    "X = df.drop(['target', 'quality'], axis= 1)\n",
    "X_train, X_test, y_train, y_test = train_test_split(\n",
    "    X, Y, test_size=0.3, random_state=42)\n",
    "model = LogisticRegression()\n",
    "model.fit(X_train, y_train)\n",
    "preds_train = model.predict(X_train)\n",
    "preds_test = model.predict(X_test)\n",
    "print(f'LogisticRegression f1_score: {f1_score(preds_test, y_test)}')\n",
    "model = DecisionTreeClassifier(max_depth = 10, random_state=42)\n",
    "model.fit(X_train, y_train)\n",
    "preds_train = model.predict(X_train)\n",
    "preds_test = model.predict(X_test)\n",
    "print(f'DecisionTreeClassifier f1_score: {f1_score(preds_test, y_test)}')"
   ]
  },
  {
   "cell_type": "code",
   "execution_count": 5,
   "metadata": {},
   "outputs": [
    {
     "name": "stderr",
     "output_type": "stream",
     "text": [
      "c:\\Users\\AubakirovMA\\AppData\\Local\\anaconda3\\lib\\site-packages\\sklearn\\ensemble\\_base.py:166: FutureWarning: `base_estimator` was renamed to `estimator` in version 1.2 and will be removed in 1.4.\n",
      "  warnings.warn(\n"
     ]
    },
    {
     "data": {
      "text/plain": [
       "0.8239700374531835"
      ]
     },
     "execution_count": 5,
     "metadata": {},
     "output_type": "execute_result"
    }
   ],
   "source": [
    "#ЗАДАНИЕ 2.8\n",
    "from sklearn.ensemble import BaggingClassifier\n",
    "\n",
    "model = BaggingClassifier(base_estimator=DecisionTreeClassifier(max_depth = 10, random_state=42), n_estimators=1500, random_state=42).fit(X_train, y_train)\n",
    "preds_train = model.predict(X_train)\n",
    "preds_test = model.predict(X_test)\n",
    "f1_score(preds_test, y_test)"
   ]
  },
  {
   "cell_type": "markdown",
   "metadata": {},
   "source": [
    "# Юнит 3"
   ]
  },
  {
   "cell_type": "code",
   "execution_count": 9,
   "metadata": {},
   "outputs": [],
   "source": [
    "import pandas as pd\n",
    "import numpy as np\n",
    "from sklearn.linear_model import LinearRegression\n",
    "from sklearn.metrics import mean_absolute_error\n",
    "from sklearn.tree import DecisionTreeRegressor\n",
    "from sklearn.ensemble import RandomForestRegressor\n",
    "\n",
    "data = pd.read_csv('boston__1_.zip', decimal=',')"
   ]
  },
  {
   "cell_type": "code",
   "execution_count": 13,
   "metadata": {},
   "outputs": [
    {
     "name": "stdout",
     "output_type": "stream",
     "text": [
      "Mедианная цена: 22.77316384180791\n",
      "LinearRegression MAE: 3.722279395856146\n",
      "DecisionTreeRegressor train MAE: 0.0\n",
      "DecisionTreeRegressor test MAE: 2.8388157894736845\n",
      "MAE for 3 is 2.9328947368421057\n",
      "MAE for 10 is 2.466315789473684\n",
      "MAE for 100 is 2.2559736842105265\n",
      "MAE for 500 is 2.2365657894736892\n"
     ]
    }
   ],
   "source": [
    "#ЗАДАНИЕ 3.4\n",
    "\n",
    "#1.\n",
    "\n",
    "X = data[data.columns[:-1]]\n",
    "Y = data[\"target\"]\n",
    "X_train, X_test, Y_train, Y_test = train_test_split(X, Y, test_size=0.3, random_state = 13)\n",
    "print(f'Mедианная цена: {Y_train.mean()}')\n",
    "\n",
    "#2.\n",
    "\n",
    "model_lr = LinearRegression()\n",
    "model_lr.fit(X_train, Y_train)\n",
    "preds_train = model_lr.predict(X_train)\n",
    "preds_test = model_lr.predict(X_test)\n",
    "print(f'LinearRegression MAE: {mean_absolute_error(Y_test, preds_test)}')\n",
    "\n",
    "#3.\n",
    "\n",
    "model = DecisionTreeRegressor(random_state=13)\n",
    "model.fit(X_train, Y_train)\n",
    "preds_train = model.predict(X_train)\n",
    "preds_test = model.predict(X_test)\n",
    "print(f'DecisionTreeRegressor train MAE: {mean_absolute_error(Y_train, preds_train)}')\n",
    "print(f'DecisionTreeRegressor test MAE: {mean_absolute_error(Y_test, preds_test)}')\n",
    "\n",
    "#Вывод о переобучении делаем на основании того, что ошибка на обучении нулевая и имеет большой разрыв с ошибкой на тестовой выборке.\n",
    "\n",
    "#4.\n",
    "\n",
    "for n in [3, 10, 100, 500]:\n",
    "    model = RandomForestRegressor(n_estimators=n, random_state = 13)\n",
    "    model.fit(X_train, Y_train)\n",
    "    preds_train = model.predict(X_train)\n",
    "    preds_test = model.predict(X_test)\n",
    "    print(f'MAE for {n} is {mean_absolute_error(Y_test, preds_test)}')"
   ]
  },
  {
   "cell_type": "markdown",
   "metadata": {},
   "source": [
    "# Юнит 4"
   ]
  },
  {
   "cell_type": "code",
   "execution_count": 28,
   "metadata": {},
   "outputs": [],
   "source": [
    "import pandas as pd\n",
    "import numpy as np\n",
    "\n",
    "df = pd.read_csv('weatherAUS.zip')"
   ]
  },
  {
   "cell_type": "code",
   "execution_count": 29,
   "metadata": {},
   "outputs": [
    {
     "data": {
      "text/plain": [
       "343248"
      ]
     },
     "execution_count": 29,
     "metadata": {},
     "output_type": "execute_result"
    }
   ],
   "source": [
    "# ЗАДАНИЕ 4.1\n",
    "\n",
    "df.isnull().sum().sum()"
   ]
  },
  {
   "cell_type": "code",
   "execution_count": 30,
   "metadata": {},
   "outputs": [
    {
     "data": {
      "text/plain": [
       "145460"
      ]
     },
     "execution_count": 30,
     "metadata": {},
     "output_type": "execute_result"
    }
   ],
   "source": [
    "# ЗАДАНИЕ 4.2\n",
    "\n",
    "round(df.isna().sum() / len(df), 3)\n",
    "df.drop(['Evaporation','Sunshine','Cloud3pm'], axis = 1, inplace = True)\n",
    "df.shape[0]"
   ]
  },
  {
   "cell_type": "code",
   "execution_count": 32,
   "metadata": {},
   "outputs": [
    {
     "data": {
      "text/plain": [
       "0.22419285648984874"
      ]
     },
     "execution_count": 32,
     "metadata": {},
     "output_type": "execute_result"
    }
   ],
   "source": [
    "# ЗАДАНИЕ 4.3\n",
    "\n",
    "df.RainToday = df.RainToday.map({'No': 0, 'Yes': 1})\n",
    "df.RainTomorrow = df.RainTomorrow.map({'No': 0, 'Yes': 1})\n",
    "df.RainToday.mean()"
   ]
  },
  {
   "cell_type": "code",
   "execution_count": 33,
   "metadata": {},
   "outputs": [
    {
     "name": "stderr",
     "output_type": "stream",
     "text": [
      "C:\\Users\\AubakirovMA\\AppData\\Local\\Temp\\ipykernel_17952\\3201334474.py:6: FutureWarning: The default value of numeric_only in DataFrameGroupBy.mean is deprecated. In a future version, numeric_only will default to False. Either specify numeric_only or select only columns which should be valid for the function.\n",
      "  df_season = df.groupby('Month').mean()\n"
     ]
    },
    {
     "data": {
      "text/html": [
       "<div>\n",
       "<style scoped>\n",
       "    .dataframe tbody tr th:only-of-type {\n",
       "        vertical-align: middle;\n",
       "    }\n",
       "\n",
       "    .dataframe tbody tr th {\n",
       "        vertical-align: top;\n",
       "    }\n",
       "\n",
       "    .dataframe thead th {\n",
       "        text-align: right;\n",
       "    }\n",
       "</style>\n",
       "<table border=\"1\" class=\"dataframe\">\n",
       "  <thead>\n",
       "    <tr style=\"text-align: right;\">\n",
       "      <th></th>\n",
       "      <th>RainToday</th>\n",
       "    </tr>\n",
       "    <tr>\n",
       "      <th>Month</th>\n",
       "      <th></th>\n",
       "    </tr>\n",
       "  </thead>\n",
       "  <tbody>\n",
       "    <tr>\n",
       "      <th>1</th>\n",
       "      <td>0.189484</td>\n",
       "    </tr>\n",
       "    <tr>\n",
       "      <th>2</th>\n",
       "      <td>0.206746</td>\n",
       "    </tr>\n",
       "    <tr>\n",
       "      <th>3</th>\n",
       "      <td>0.217135</td>\n",
       "    </tr>\n",
       "    <tr>\n",
       "      <th>4</th>\n",
       "      <td>0.216845</td>\n",
       "    </tr>\n",
       "    <tr>\n",
       "      <th>5</th>\n",
       "      <td>0.222163</td>\n",
       "    </tr>\n",
       "    <tr>\n",
       "      <th>6</th>\n",
       "      <td>0.263638</td>\n",
       "    </tr>\n",
       "    <tr>\n",
       "      <th>7</th>\n",
       "      <td>0.270736</td>\n",
       "    </tr>\n",
       "    <tr>\n",
       "      <th>8</th>\n",
       "      <td>0.253167</td>\n",
       "    </tr>\n",
       "    <tr>\n",
       "      <th>9</th>\n",
       "      <td>0.229135</td>\n",
       "    </tr>\n",
       "    <tr>\n",
       "      <th>10</th>\n",
       "      <td>0.196512</td>\n",
       "    </tr>\n",
       "    <tr>\n",
       "      <th>11</th>\n",
       "      <td>0.210843</td>\n",
       "    </tr>\n",
       "    <tr>\n",
       "      <th>12</th>\n",
       "      <td>0.213037</td>\n",
       "    </tr>\n",
       "  </tbody>\n",
       "</table>\n",
       "</div>"
      ],
      "text/plain": [
       "       RainToday\n",
       "Month           \n",
       "1       0.189484\n",
       "2       0.206746\n",
       "3       0.217135\n",
       "4       0.216845\n",
       "5       0.222163\n",
       "6       0.263638\n",
       "7       0.270736\n",
       "8       0.253167\n",
       "9       0.229135\n",
       "10      0.196512\n",
       "11      0.210843\n",
       "12      0.213037"
      ]
     },
     "execution_count": 33,
     "metadata": {},
     "output_type": "execute_result"
    }
   ],
   "source": [
    "# ЗАДАНИЕ 4.4\n",
    "\n",
    "df.Date = pd.to_datetime(df.Date)\n",
    "df['Month'] = df.Date.dt.month\n",
    "df.drop('Date', axis = 1, inplace = True)\n",
    "df_season = df.groupby('Month').mean()\n",
    "df_season[['RainToday']]"
   ]
  },
  {
   "cell_type": "code",
   "execution_count": 34,
   "metadata": {},
   "outputs": [
    {
     "data": {
      "text/plain": [
       "(145460, 124)"
      ]
     },
     "execution_count": 34,
     "metadata": {},
     "output_type": "execute_result"
    }
   ],
   "source": [
    "# ЗАДАНИЕ 4.5\n",
    "\n",
    "categoricals = ['Month', 'Location', 'WindGustDir', 'WindDir9am', 'WindDir3pm']\n",
    "df_dummies = pd.get_dummies(df, columns=categoricals)\n",
    "df_dummies.shape"
   ]
  },
  {
   "cell_type": "code",
   "execution_count": 35,
   "metadata": {},
   "outputs": [
    {
     "data": {
      "text/plain": [
       "0.22770253002811142"
      ]
     },
     "execution_count": 35,
     "metadata": {},
     "output_type": "execute_result"
    }
   ],
   "source": [
    "# ЗАДАНИЕ 4.6\n",
    "\n",
    "df_dummies.dropna(inplace=True)\n",
    "X = df_dummies.drop('RainTomorrow', axis = 1)\n",
    "Y = df_dummies['RainTomorrow']  \n",
    "X_train, X_test, Y_train, Y_test = train_test_split(X, Y, test_size=0.3, random_state = 31)\n",
    "Y_test.mean()"
   ]
  },
  {
   "cell_type": "code",
   "execution_count": 36,
   "metadata": {},
   "outputs": [
    {
     "data": {
      "text/plain": [
       "0.02879072820657669"
      ]
     },
     "execution_count": 36,
     "metadata": {},
     "output_type": "execute_result"
    }
   ],
   "source": [
    "# ЗАДАНИЕ 4.7\n",
    "\n",
    "def gbs(data, n):     \n",
    "    inds = np.random.randint(0, len(data), (n, len(data))) #определяем индексы случайным образом\n",
    "    numbers = data[inds] #выбираем значения по индексам\n",
    "    return numbers\n",
    "target = X_train['MinTemp'].values #выбираем целевую переменную\n",
    "np.random.seed(31) #задаём параметр генератора случайных чисел\n",
    "mean_values = [np.mean(x) for x in gbs(target, 1000)] #получаем все средние значения\n",
    "np.std(mean_values) #находим для них стандартное отклонение"
   ]
  },
  {
   "cell_type": "code",
   "execution_count": 37,
   "metadata": {},
   "outputs": [
    {
     "name": "stderr",
     "output_type": "stream",
     "text": [
      "c:\\Users\\AubakirovMA\\AppData\\Local\\anaconda3\\lib\\site-packages\\sklearn\\linear_model\\_logistic.py:458: ConvergenceWarning: lbfgs failed to converge (status=1):\n",
      "STOP: TOTAL NO. of ITERATIONS REACHED LIMIT.\n",
      "\n",
      "Increase the number of iterations (max_iter) or scale the data as shown in:\n",
      "    https://scikit-learn.org/stable/modules/preprocessing.html\n",
      "Please also refer to the documentation for alternative solver options:\n",
      "    https://scikit-learn.org/stable/modules/linear_model.html#logistic-regression\n",
      "  n_iter_i = _check_optimize_result(\n"
     ]
    },
    {
     "data": {
      "text/plain": [
       "0.7287664187528149"
      ]
     },
     "execution_count": 37,
     "metadata": {},
     "output_type": "execute_result"
    }
   ],
   "source": [
    "# ЗАДАНИЕ 4.8\n",
    "from sklearn.metrics import roc_auc_score\n",
    "\n",
    "clf = LogisticRegression()\n",
    "clf.fit(X_train, Y_train)\n",
    "preds_train = clf.predict(X_train)\n",
    "preds_test = clf.predict(X_test)\n",
    "roc_auc_score(Y_test, preds_test)"
   ]
  },
  {
   "cell_type": "code",
   "execution_count": 38,
   "metadata": {},
   "outputs": [
    {
     "name": "stdout",
     "output_type": "stream",
     "text": [
      "Fitting 3 folds for each of 96 candidates, totalling 288 fits\n",
      "[CV 1/3] END max_depth=5, max_leaf_nodes=2, min_samples_split=2;, score=0.817 total time=   0.1s\n",
      "[CV 2/3] END max_depth=5, max_leaf_nodes=2, min_samples_split=2;, score=0.820 total time=   0.1s\n",
      "[CV 3/3] END max_depth=5, max_leaf_nodes=2, min_samples_split=2;, score=0.825 total time=   0.1s\n",
      "[CV 1/3] END max_depth=5, max_leaf_nodes=2, min_samples_split=3;, score=0.817 total time=   0.1s\n",
      "[CV 2/3] END max_depth=5, max_leaf_nodes=2, min_samples_split=3;, score=0.820 total time=   0.1s\n",
      "[CV 3/3] END max_depth=5, max_leaf_nodes=2, min_samples_split=3;, score=0.825 total time=   0.1s\n",
      "[CV 1/3] END max_depth=5, max_leaf_nodes=2, min_samples_split=4;, score=0.817 total time=   0.1s\n",
      "[CV 2/3] END max_depth=5, max_leaf_nodes=2, min_samples_split=4;, score=0.820 total time=   0.1s\n",
      "[CV 3/3] END max_depth=5, max_leaf_nodes=2, min_samples_split=4;, score=0.825 total time=   0.1s\n",
      "[CV 1/3] END max_depth=5, max_leaf_nodes=3, min_samples_split=2;, score=0.819 total time=   0.1s\n",
      "[CV 2/3] END max_depth=5, max_leaf_nodes=3, min_samples_split=2;, score=0.820 total time=   0.1s\n",
      "[CV 3/3] END max_depth=5, max_leaf_nodes=3, min_samples_split=2;, score=0.825 total time=   0.1s\n",
      "[CV 1/3] END max_depth=5, max_leaf_nodes=3, min_samples_split=3;, score=0.819 total time=   0.1s\n",
      "[CV 2/3] END max_depth=5, max_leaf_nodes=3, min_samples_split=3;, score=0.820 total time=   0.1s\n",
      "[CV 3/3] END max_depth=5, max_leaf_nodes=3, min_samples_split=3;, score=0.825 total time=   0.1s\n",
      "[CV 1/3] END max_depth=5, max_leaf_nodes=3, min_samples_split=4;, score=0.819 total time=   0.1s\n",
      "[CV 2/3] END max_depth=5, max_leaf_nodes=3, min_samples_split=4;, score=0.820 total time=   0.1s\n",
      "[CV 3/3] END max_depth=5, max_leaf_nodes=3, min_samples_split=4;, score=0.825 total time=   0.1s\n",
      "[CV 1/3] END max_depth=5, max_leaf_nodes=4, min_samples_split=2;, score=0.819 total time=   0.1s\n",
      "[CV 2/3] END max_depth=5, max_leaf_nodes=4, min_samples_split=2;, score=0.820 total time=   0.4s\n",
      "[CV 3/3] END max_depth=5, max_leaf_nodes=4, min_samples_split=2;, score=0.825 total time=   0.1s\n",
      "[CV 1/3] END max_depth=5, max_leaf_nodes=4, min_samples_split=3;, score=0.819 total time=   0.2s\n",
      "[CV 2/3] END max_depth=5, max_leaf_nodes=4, min_samples_split=3;, score=0.820 total time=   0.2s\n",
      "[CV 3/3] END max_depth=5, max_leaf_nodes=4, min_samples_split=3;, score=0.825 total time=   0.1s\n",
      "[CV 1/3] END max_depth=5, max_leaf_nodes=4, min_samples_split=4;, score=0.819 total time=   0.1s\n",
      "[CV 2/3] END max_depth=5, max_leaf_nodes=4, min_samples_split=4;, score=0.820 total time=   0.1s\n",
      "[CV 3/3] END max_depth=5, max_leaf_nodes=4, min_samples_split=4;, score=0.825 total time=   0.2s\n",
      "[CV 1/3] END max_depth=5, max_leaf_nodes=5, min_samples_split=2;, score=0.819 total time=   0.2s\n",
      "[CV 2/3] END max_depth=5, max_leaf_nodes=5, min_samples_split=2;, score=0.820 total time=   0.2s\n",
      "[CV 3/3] END max_depth=5, max_leaf_nodes=5, min_samples_split=2;, score=0.825 total time=   0.2s\n",
      "[CV 1/3] END max_depth=5, max_leaf_nodes=5, min_samples_split=3;, score=0.819 total time=   0.1s\n",
      "[CV 2/3] END max_depth=5, max_leaf_nodes=5, min_samples_split=3;, score=0.820 total time=   0.2s\n",
      "[CV 3/3] END max_depth=5, max_leaf_nodes=5, min_samples_split=3;, score=0.825 total time=   0.2s\n",
      "[CV 1/3] END max_depth=5, max_leaf_nodes=5, min_samples_split=4;, score=0.819 total time=   0.1s\n",
      "[CV 2/3] END max_depth=5, max_leaf_nodes=5, min_samples_split=4;, score=0.820 total time=   0.1s\n",
      "[CV 3/3] END max_depth=5, max_leaf_nodes=5, min_samples_split=4;, score=0.825 total time=   0.2s\n",
      "[CV 1/3] END max_depth=5, max_leaf_nodes=6, min_samples_split=2;, score=0.819 total time=   0.2s\n",
      "[CV 2/3] END max_depth=5, max_leaf_nodes=6, min_samples_split=2;, score=0.820 total time=   0.2s\n",
      "[CV 3/3] END max_depth=5, max_leaf_nodes=6, min_samples_split=2;, score=0.832 total time=   0.1s\n",
      "[CV 1/3] END max_depth=5, max_leaf_nodes=6, min_samples_split=3;, score=0.819 total time=   0.1s\n",
      "[CV 2/3] END max_depth=5, max_leaf_nodes=6, min_samples_split=3;, score=0.820 total time=   0.2s\n",
      "[CV 3/3] END max_depth=5, max_leaf_nodes=6, min_samples_split=3;, score=0.832 total time=   0.1s\n",
      "[CV 1/3] END max_depth=5, max_leaf_nodes=6, min_samples_split=4;, score=0.819 total time=   0.2s\n",
      "[CV 2/3] END max_depth=5, max_leaf_nodes=6, min_samples_split=4;, score=0.820 total time=   0.1s\n",
      "[CV 3/3] END max_depth=5, max_leaf_nodes=6, min_samples_split=4;, score=0.832 total time=   0.1s\n",
      "[CV 1/3] END max_depth=5, max_leaf_nodes=7, min_samples_split=2;, score=0.831 total time=   0.2s\n",
      "[CV 2/3] END max_depth=5, max_leaf_nodes=7, min_samples_split=2;, score=0.834 total time=   0.2s\n",
      "[CV 3/3] END max_depth=5, max_leaf_nodes=7, min_samples_split=2;, score=0.832 total time=   0.2s\n",
      "[CV 1/3] END max_depth=5, max_leaf_nodes=7, min_samples_split=3;, score=0.831 total time=   0.2s\n",
      "[CV 2/3] END max_depth=5, max_leaf_nodes=7, min_samples_split=3;, score=0.834 total time=   0.2s\n",
      "[CV 3/3] END max_depth=5, max_leaf_nodes=7, min_samples_split=3;, score=0.832 total time=   0.1s\n",
      "[CV 1/3] END max_depth=5, max_leaf_nodes=7, min_samples_split=4;, score=0.831 total time=   0.2s\n",
      "[CV 2/3] END max_depth=5, max_leaf_nodes=7, min_samples_split=4;, score=0.834 total time=   0.2s\n",
      "[CV 3/3] END max_depth=5, max_leaf_nodes=7, min_samples_split=4;, score=0.832 total time=   0.2s\n",
      "[CV 1/3] END max_depth=5, max_leaf_nodes=8, min_samples_split=2;, score=0.835 total time=   0.2s\n",
      "[CV 2/3] END max_depth=5, max_leaf_nodes=8, min_samples_split=2;, score=0.840 total time=   0.2s\n",
      "[CV 3/3] END max_depth=5, max_leaf_nodes=8, min_samples_split=2;, score=0.836 total time=   0.2s\n",
      "[CV 1/3] END max_depth=5, max_leaf_nodes=8, min_samples_split=3;, score=0.835 total time=   0.2s\n",
      "[CV 2/3] END max_depth=5, max_leaf_nodes=8, min_samples_split=3;, score=0.840 total time=   0.2s\n",
      "[CV 3/3] END max_depth=5, max_leaf_nodes=8, min_samples_split=3;, score=0.836 total time=   0.2s\n",
      "[CV 1/3] END max_depth=5, max_leaf_nodes=8, min_samples_split=4;, score=0.835 total time=   0.2s\n",
      "[CV 2/3] END max_depth=5, max_leaf_nodes=8, min_samples_split=4;, score=0.840 total time=   0.2s\n",
      "[CV 3/3] END max_depth=5, max_leaf_nodes=8, min_samples_split=4;, score=0.836 total time=   0.1s\n",
      "[CV 1/3] END max_depth=5, max_leaf_nodes=9, min_samples_split=2;, score=0.835 total time=   0.2s\n",
      "[CV 2/3] END max_depth=5, max_leaf_nodes=9, min_samples_split=2;, score=0.840 total time=   0.2s\n",
      "[CV 3/3] END max_depth=5, max_leaf_nodes=9, min_samples_split=2;, score=0.837 total time=   0.2s\n",
      "[CV 1/3] END max_depth=5, max_leaf_nodes=9, min_samples_split=3;, score=0.835 total time=   0.2s\n",
      "[CV 2/3] END max_depth=5, max_leaf_nodes=9, min_samples_split=3;, score=0.840 total time=   0.2s\n",
      "[CV 3/3] END max_depth=5, max_leaf_nodes=9, min_samples_split=3;, score=0.837 total time=   0.2s\n",
      "[CV 1/3] END max_depth=5, max_leaf_nodes=9, min_samples_split=4;, score=0.835 total time=   0.2s\n",
      "[CV 2/3] END max_depth=5, max_leaf_nodes=9, min_samples_split=4;, score=0.840 total time=   0.2s\n",
      "[CV 3/3] END max_depth=5, max_leaf_nodes=9, min_samples_split=4;, score=0.837 total time=   0.2s\n",
      "[CV 1/3] END max_depth=7, max_leaf_nodes=2, min_samples_split=2;, score=0.817 total time=   0.1s\n",
      "[CV 2/3] END max_depth=7, max_leaf_nodes=2, min_samples_split=2;, score=0.820 total time=   0.1s\n",
      "[CV 3/3] END max_depth=7, max_leaf_nodes=2, min_samples_split=2;, score=0.825 total time=   0.1s\n",
      "[CV 1/3] END max_depth=7, max_leaf_nodes=2, min_samples_split=3;, score=0.817 total time=   0.1s\n",
      "[CV 2/3] END max_depth=7, max_leaf_nodes=2, min_samples_split=3;, score=0.820 total time=   0.1s\n",
      "[CV 3/3] END max_depth=7, max_leaf_nodes=2, min_samples_split=3;, score=0.825 total time=   0.1s\n",
      "[CV 1/3] END max_depth=7, max_leaf_nodes=2, min_samples_split=4;, score=0.817 total time=   0.1s\n",
      "[CV 2/3] END max_depth=7, max_leaf_nodes=2, min_samples_split=4;, score=0.820 total time=   0.1s\n",
      "[CV 3/3] END max_depth=7, max_leaf_nodes=2, min_samples_split=4;, score=0.825 total time=   0.1s\n",
      "[CV 1/3] END max_depth=7, max_leaf_nodes=3, min_samples_split=2;, score=0.819 total time=   0.1s\n",
      "[CV 2/3] END max_depth=7, max_leaf_nodes=3, min_samples_split=2;, score=0.820 total time=   0.1s\n",
      "[CV 3/3] END max_depth=7, max_leaf_nodes=3, min_samples_split=2;, score=0.825 total time=   0.1s\n",
      "[CV 1/3] END max_depth=7, max_leaf_nodes=3, min_samples_split=3;, score=0.819 total time=   0.1s\n",
      "[CV 2/3] END max_depth=7, max_leaf_nodes=3, min_samples_split=3;, score=0.820 total time=   0.1s\n",
      "[CV 3/3] END max_depth=7, max_leaf_nodes=3, min_samples_split=3;, score=0.825 total time=   0.1s\n",
      "[CV 1/3] END max_depth=7, max_leaf_nodes=3, min_samples_split=4;, score=0.819 total time=   0.1s\n",
      "[CV 2/3] END max_depth=7, max_leaf_nodes=3, min_samples_split=4;, score=0.820 total time=   0.1s\n",
      "[CV 3/3] END max_depth=7, max_leaf_nodes=3, min_samples_split=4;, score=0.825 total time=   0.1s\n",
      "[CV 1/3] END max_depth=7, max_leaf_nodes=4, min_samples_split=2;, score=0.819 total time=   0.1s\n",
      "[CV 2/3] END max_depth=7, max_leaf_nodes=4, min_samples_split=2;, score=0.820 total time=   0.1s\n",
      "[CV 3/3] END max_depth=7, max_leaf_nodes=4, min_samples_split=2;, score=0.825 total time=   0.1s\n",
      "[CV 1/3] END max_depth=7, max_leaf_nodes=4, min_samples_split=3;, score=0.819 total time=   0.1s\n",
      "[CV 2/3] END max_depth=7, max_leaf_nodes=4, min_samples_split=3;, score=0.820 total time=   0.1s\n",
      "[CV 3/3] END max_depth=7, max_leaf_nodes=4, min_samples_split=3;, score=0.825 total time=   0.1s\n",
      "[CV 1/3] END max_depth=7, max_leaf_nodes=4, min_samples_split=4;, score=0.819 total time=   0.1s\n",
      "[CV 2/3] END max_depth=7, max_leaf_nodes=4, min_samples_split=4;, score=0.820 total time=   0.1s\n",
      "[CV 3/3] END max_depth=7, max_leaf_nodes=4, min_samples_split=4;, score=0.825 total time=   0.1s\n",
      "[CV 1/3] END max_depth=7, max_leaf_nodes=5, min_samples_split=2;, score=0.819 total time=   0.1s\n",
      "[CV 2/3] END max_depth=7, max_leaf_nodes=5, min_samples_split=2;, score=0.820 total time=   0.1s\n",
      "[CV 3/3] END max_depth=7, max_leaf_nodes=5, min_samples_split=2;, score=0.825 total time=   0.1s\n",
      "[CV 1/3] END max_depth=7, max_leaf_nodes=5, min_samples_split=3;, score=0.819 total time=   0.1s\n",
      "[CV 2/3] END max_depth=7, max_leaf_nodes=5, min_samples_split=3;, score=0.820 total time=   0.1s\n",
      "[CV 3/3] END max_depth=7, max_leaf_nodes=5, min_samples_split=3;, score=0.825 total time=   0.1s\n",
      "[CV 1/3] END max_depth=7, max_leaf_nodes=5, min_samples_split=4;, score=0.819 total time=   0.1s\n",
      "[CV 2/3] END max_depth=7, max_leaf_nodes=5, min_samples_split=4;, score=0.820 total time=   0.1s\n",
      "[CV 3/3] END max_depth=7, max_leaf_nodes=5, min_samples_split=4;, score=0.825 total time=   0.1s\n",
      "[CV 1/3] END max_depth=7, max_leaf_nodes=6, min_samples_split=2;, score=0.819 total time=   0.2s\n",
      "[CV 2/3] END max_depth=7, max_leaf_nodes=6, min_samples_split=2;, score=0.820 total time=   0.1s\n",
      "[CV 3/3] END max_depth=7, max_leaf_nodes=6, min_samples_split=2;, score=0.832 total time=   0.1s\n",
      "[CV 1/3] END max_depth=7, max_leaf_nodes=6, min_samples_split=3;, score=0.819 total time=   0.1s\n",
      "[CV 2/3] END max_depth=7, max_leaf_nodes=6, min_samples_split=3;, score=0.820 total time=   0.1s\n",
      "[CV 3/3] END max_depth=7, max_leaf_nodes=6, min_samples_split=3;, score=0.832 total time=   0.1s\n",
      "[CV 1/3] END max_depth=7, max_leaf_nodes=6, min_samples_split=4;, score=0.819 total time=   0.2s\n",
      "[CV 2/3] END max_depth=7, max_leaf_nodes=6, min_samples_split=4;, score=0.820 total time=   0.1s\n",
      "[CV 3/3] END max_depth=7, max_leaf_nodes=6, min_samples_split=4;, score=0.832 total time=   0.1s\n",
      "[CV 1/3] END max_depth=7, max_leaf_nodes=7, min_samples_split=2;, score=0.831 total time=   0.1s\n",
      "[CV 2/3] END max_depth=7, max_leaf_nodes=7, min_samples_split=2;, score=0.834 total time=   0.1s\n",
      "[CV 3/3] END max_depth=7, max_leaf_nodes=7, min_samples_split=2;, score=0.832 total time=   0.1s\n",
      "[CV 1/3] END max_depth=7, max_leaf_nodes=7, min_samples_split=3;, score=0.831 total time=   0.1s\n",
      "[CV 2/3] END max_depth=7, max_leaf_nodes=7, min_samples_split=3;, score=0.834 total time=   0.1s\n",
      "[CV 3/3] END max_depth=7, max_leaf_nodes=7, min_samples_split=3;, score=0.832 total time=   0.2s\n",
      "[CV 1/3] END max_depth=7, max_leaf_nodes=7, min_samples_split=4;, score=0.831 total time=   0.2s\n",
      "[CV 2/3] END max_depth=7, max_leaf_nodes=7, min_samples_split=4;, score=0.834 total time=   0.1s\n",
      "[CV 3/3] END max_depth=7, max_leaf_nodes=7, min_samples_split=4;, score=0.832 total time=   0.1s\n",
      "[CV 1/3] END max_depth=7, max_leaf_nodes=8, min_samples_split=2;, score=0.835 total time=   0.1s\n",
      "[CV 2/3] END max_depth=7, max_leaf_nodes=8, min_samples_split=2;, score=0.840 total time=   0.2s\n",
      "[CV 3/3] END max_depth=7, max_leaf_nodes=8, min_samples_split=2;, score=0.836 total time=   0.2s\n",
      "[CV 1/3] END max_depth=7, max_leaf_nodes=8, min_samples_split=3;, score=0.835 total time=   0.1s\n",
      "[CV 2/3] END max_depth=7, max_leaf_nodes=8, min_samples_split=3;, score=0.840 total time=   0.1s\n",
      "[CV 3/3] END max_depth=7, max_leaf_nodes=8, min_samples_split=3;, score=0.836 total time=   0.1s\n",
      "[CV 1/3] END max_depth=7, max_leaf_nodes=8, min_samples_split=4;, score=0.835 total time=   0.1s\n",
      "[CV 2/3] END max_depth=7, max_leaf_nodes=8, min_samples_split=4;, score=0.840 total time=   0.2s\n",
      "[CV 3/3] END max_depth=7, max_leaf_nodes=8, min_samples_split=4;, score=0.836 total time=   0.1s\n",
      "[CV 1/3] END max_depth=7, max_leaf_nodes=9, min_samples_split=2;, score=0.835 total time=   0.2s\n",
      "[CV 2/3] END max_depth=7, max_leaf_nodes=9, min_samples_split=2;, score=0.840 total time=   0.2s\n",
      "[CV 3/3] END max_depth=7, max_leaf_nodes=9, min_samples_split=2;, score=0.837 total time=   0.2s\n",
      "[CV 1/3] END max_depth=7, max_leaf_nodes=9, min_samples_split=3;, score=0.835 total time=   0.2s\n",
      "[CV 2/3] END max_depth=7, max_leaf_nodes=9, min_samples_split=3;, score=0.840 total time=   0.2s\n",
      "[CV 3/3] END max_depth=7, max_leaf_nodes=9, min_samples_split=3;, score=0.837 total time=   0.2s\n",
      "[CV 1/3] END max_depth=7, max_leaf_nodes=9, min_samples_split=4;, score=0.835 total time=   0.2s\n",
      "[CV 2/3] END max_depth=7, max_leaf_nodes=9, min_samples_split=4;, score=0.840 total time=   0.2s\n",
      "[CV 3/3] END max_depth=7, max_leaf_nodes=9, min_samples_split=4;, score=0.837 total time=   0.2s\n",
      "[CV 1/3] END max_depth=9, max_leaf_nodes=2, min_samples_split=2;, score=0.817 total time=   0.1s\n",
      "[CV 2/3] END max_depth=9, max_leaf_nodes=2, min_samples_split=2;, score=0.820 total time=   0.1s\n",
      "[CV 3/3] END max_depth=9, max_leaf_nodes=2, min_samples_split=2;, score=0.825 total time=   0.1s\n",
      "[CV 1/3] END max_depth=9, max_leaf_nodes=2, min_samples_split=3;, score=0.817 total time=   0.1s\n",
      "[CV 2/3] END max_depth=9, max_leaf_nodes=2, min_samples_split=3;, score=0.820 total time=   0.1s\n",
      "[CV 3/3] END max_depth=9, max_leaf_nodes=2, min_samples_split=3;, score=0.825 total time=   0.1s\n",
      "[CV 1/3] END max_depth=9, max_leaf_nodes=2, min_samples_split=4;, score=0.817 total time=   0.1s\n",
      "[CV 2/3] END max_depth=9, max_leaf_nodes=2, min_samples_split=4;, score=0.820 total time=   0.1s\n",
      "[CV 3/3] END max_depth=9, max_leaf_nodes=2, min_samples_split=4;, score=0.825 total time=   0.1s\n",
      "[CV 1/3] END max_depth=9, max_leaf_nodes=3, min_samples_split=2;, score=0.819 total time=   0.1s\n",
      "[CV 2/3] END max_depth=9, max_leaf_nodes=3, min_samples_split=2;, score=0.820 total time=   0.1s\n",
      "[CV 3/3] END max_depth=9, max_leaf_nodes=3, min_samples_split=2;, score=0.825 total time=   0.1s\n",
      "[CV 1/3] END max_depth=9, max_leaf_nodes=3, min_samples_split=3;, score=0.819 total time=   0.1s\n",
      "[CV 2/3] END max_depth=9, max_leaf_nodes=3, min_samples_split=3;, score=0.820 total time=   0.1s\n",
      "[CV 3/3] END max_depth=9, max_leaf_nodes=3, min_samples_split=3;, score=0.825 total time=   0.1s\n",
      "[CV 1/3] END max_depth=9, max_leaf_nodes=3, min_samples_split=4;, score=0.819 total time=   0.1s\n",
      "[CV 2/3] END max_depth=9, max_leaf_nodes=3, min_samples_split=4;, score=0.820 total time=   0.1s\n",
      "[CV 3/3] END max_depth=9, max_leaf_nodes=3, min_samples_split=4;, score=0.825 total time=   0.1s\n",
      "[CV 1/3] END max_depth=9, max_leaf_nodes=4, min_samples_split=2;, score=0.819 total time=   0.1s\n",
      "[CV 2/3] END max_depth=9, max_leaf_nodes=4, min_samples_split=2;, score=0.820 total time=   0.1s\n",
      "[CV 3/3] END max_depth=9, max_leaf_nodes=4, min_samples_split=2;, score=0.825 total time=   0.1s\n",
      "[CV 1/3] END max_depth=9, max_leaf_nodes=4, min_samples_split=3;, score=0.819 total time=   0.1s\n",
      "[CV 2/3] END max_depth=9, max_leaf_nodes=4, min_samples_split=3;, score=0.820 total time=   0.1s\n",
      "[CV 3/3] END max_depth=9, max_leaf_nodes=4, min_samples_split=3;, score=0.825 total time=   0.1s\n",
      "[CV 1/3] END max_depth=9, max_leaf_nodes=4, min_samples_split=4;, score=0.819 total time=   0.1s\n",
      "[CV 2/3] END max_depth=9, max_leaf_nodes=4, min_samples_split=4;, score=0.820 total time=   0.1s\n",
      "[CV 3/3] END max_depth=9, max_leaf_nodes=4, min_samples_split=4;, score=0.825 total time=   0.1s\n",
      "[CV 1/3] END max_depth=9, max_leaf_nodes=5, min_samples_split=2;, score=0.819 total time=   0.1s\n",
      "[CV 2/3] END max_depth=9, max_leaf_nodes=5, min_samples_split=2;, score=0.820 total time=   0.1s\n",
      "[CV 3/3] END max_depth=9, max_leaf_nodes=5, min_samples_split=2;, score=0.825 total time=   0.1s\n",
      "[CV 1/3] END max_depth=9, max_leaf_nodes=5, min_samples_split=3;, score=0.819 total time=   0.1s\n",
      "[CV 2/3] END max_depth=9, max_leaf_nodes=5, min_samples_split=3;, score=0.820 total time=   0.1s\n",
      "[CV 3/3] END max_depth=9, max_leaf_nodes=5, min_samples_split=3;, score=0.825 total time=   0.1s\n",
      "[CV 1/3] END max_depth=9, max_leaf_nodes=5, min_samples_split=4;, score=0.819 total time=   0.1s\n",
      "[CV 2/3] END max_depth=9, max_leaf_nodes=5, min_samples_split=4;, score=0.820 total time=   0.1s\n",
      "[CV 3/3] END max_depth=9, max_leaf_nodes=5, min_samples_split=4;, score=0.825 total time=   0.1s\n",
      "[CV 1/3] END max_depth=9, max_leaf_nodes=6, min_samples_split=2;, score=0.819 total time=   0.1s\n",
      "[CV 2/3] END max_depth=9, max_leaf_nodes=6, min_samples_split=2;, score=0.820 total time=   0.1s\n",
      "[CV 3/3] END max_depth=9, max_leaf_nodes=6, min_samples_split=2;, score=0.832 total time=   0.1s\n",
      "[CV 1/3] END max_depth=9, max_leaf_nodes=6, min_samples_split=3;, score=0.819 total time=   0.1s\n",
      "[CV 2/3] END max_depth=9, max_leaf_nodes=6, min_samples_split=3;, score=0.820 total time=   0.1s\n",
      "[CV 3/3] END max_depth=9, max_leaf_nodes=6, min_samples_split=3;, score=0.832 total time=   0.1s\n",
      "[CV 1/3] END max_depth=9, max_leaf_nodes=6, min_samples_split=4;, score=0.819 total time=   0.2s\n",
      "[CV 2/3] END max_depth=9, max_leaf_nodes=6, min_samples_split=4;, score=0.820 total time=   0.1s\n",
      "[CV 3/3] END max_depth=9, max_leaf_nodes=6, min_samples_split=4;, score=0.832 total time=   0.1s\n",
      "[CV 1/3] END max_depth=9, max_leaf_nodes=7, min_samples_split=2;, score=0.831 total time=   0.2s\n",
      "[CV 2/3] END max_depth=9, max_leaf_nodes=7, min_samples_split=2;, score=0.834 total time=   0.1s\n",
      "[CV 3/3] END max_depth=9, max_leaf_nodes=7, min_samples_split=2;, score=0.832 total time=   0.1s\n",
      "[CV 1/3] END max_depth=9, max_leaf_nodes=7, min_samples_split=3;, score=0.831 total time=   0.2s\n",
      "[CV 2/3] END max_depth=9, max_leaf_nodes=7, min_samples_split=3;, score=0.834 total time=   0.2s\n",
      "[CV 3/3] END max_depth=9, max_leaf_nodes=7, min_samples_split=3;, score=0.832 total time=   0.1s\n",
      "[CV 1/3] END max_depth=9, max_leaf_nodes=7, min_samples_split=4;, score=0.831 total time=   0.1s\n",
      "[CV 2/3] END max_depth=9, max_leaf_nodes=7, min_samples_split=4;, score=0.834 total time=   0.1s\n",
      "[CV 3/3] END max_depth=9, max_leaf_nodes=7, min_samples_split=4;, score=0.832 total time=   0.1s\n",
      "[CV 1/3] END max_depth=9, max_leaf_nodes=8, min_samples_split=2;, score=0.835 total time=   0.1s\n",
      "[CV 2/3] END max_depth=9, max_leaf_nodes=8, min_samples_split=2;, score=0.840 total time=   0.1s\n",
      "[CV 3/3] END max_depth=9, max_leaf_nodes=8, min_samples_split=2;, score=0.836 total time=   0.1s\n",
      "[CV 1/3] END max_depth=9, max_leaf_nodes=8, min_samples_split=3;, score=0.835 total time=   0.1s\n",
      "[CV 2/3] END max_depth=9, max_leaf_nodes=8, min_samples_split=3;, score=0.840 total time=   0.2s\n",
      "[CV 3/3] END max_depth=9, max_leaf_nodes=8, min_samples_split=3;, score=0.836 total time=   0.1s\n",
      "[CV 1/3] END max_depth=9, max_leaf_nodes=8, min_samples_split=4;, score=0.835 total time=   0.2s\n",
      "[CV 2/3] END max_depth=9, max_leaf_nodes=8, min_samples_split=4;, score=0.840 total time=   0.1s\n",
      "[CV 3/3] END max_depth=9, max_leaf_nodes=8, min_samples_split=4;, score=0.836 total time=   0.2s\n",
      "[CV 1/3] END max_depth=9, max_leaf_nodes=9, min_samples_split=2;, score=0.835 total time=   0.2s\n",
      "[CV 2/3] END max_depth=9, max_leaf_nodes=9, min_samples_split=2;, score=0.840 total time=   0.2s\n",
      "[CV 3/3] END max_depth=9, max_leaf_nodes=9, min_samples_split=2;, score=0.837 total time=   0.2s\n",
      "[CV 1/3] END max_depth=9, max_leaf_nodes=9, min_samples_split=3;, score=0.835 total time=   0.2s\n",
      "[CV 2/3] END max_depth=9, max_leaf_nodes=9, min_samples_split=3;, score=0.840 total time=   0.1s\n",
      "[CV 3/3] END max_depth=9, max_leaf_nodes=9, min_samples_split=3;, score=0.837 total time=   0.2s\n",
      "[CV 1/3] END max_depth=9, max_leaf_nodes=9, min_samples_split=4;, score=0.835 total time=   0.2s\n",
      "[CV 2/3] END max_depth=9, max_leaf_nodes=9, min_samples_split=4;, score=0.840 total time=   0.2s\n",
      "[CV 3/3] END max_depth=9, max_leaf_nodes=9, min_samples_split=4;, score=0.837 total time=   0.2s\n",
      "[CV 1/3] END max_depth=11, max_leaf_nodes=2, min_samples_split=2;, score=0.817 total time=   0.1s\n",
      "[CV 2/3] END max_depth=11, max_leaf_nodes=2, min_samples_split=2;, score=0.820 total time=   0.1s\n",
      "[CV 3/3] END max_depth=11, max_leaf_nodes=2, min_samples_split=2;, score=0.825 total time=   0.1s\n",
      "[CV 1/3] END max_depth=11, max_leaf_nodes=2, min_samples_split=3;, score=0.817 total time=   0.1s\n",
      "[CV 2/3] END max_depth=11, max_leaf_nodes=2, min_samples_split=3;, score=0.820 total time=   0.1s\n",
      "[CV 3/3] END max_depth=11, max_leaf_nodes=2, min_samples_split=3;, score=0.825 total time=   0.0s\n",
      "[CV 1/3] END max_depth=11, max_leaf_nodes=2, min_samples_split=4;, score=0.817 total time=   0.1s\n",
      "[CV 2/3] END max_depth=11, max_leaf_nodes=2, min_samples_split=4;, score=0.820 total time=   0.1s\n",
      "[CV 3/3] END max_depth=11, max_leaf_nodes=2, min_samples_split=4;, score=0.825 total time=   0.0s\n",
      "[CV 1/3] END max_depth=11, max_leaf_nodes=3, min_samples_split=2;, score=0.819 total time=   0.1s\n",
      "[CV 2/3] END max_depth=11, max_leaf_nodes=3, min_samples_split=2;, score=0.820 total time=   0.1s\n",
      "[CV 3/3] END max_depth=11, max_leaf_nodes=3, min_samples_split=2;, score=0.825 total time=   0.1s\n",
      "[CV 1/3] END max_depth=11, max_leaf_nodes=3, min_samples_split=3;, score=0.819 total time=   0.1s\n",
      "[CV 2/3] END max_depth=11, max_leaf_nodes=3, min_samples_split=3;, score=0.820 total time=   0.1s\n",
      "[CV 3/3] END max_depth=11, max_leaf_nodes=3, min_samples_split=3;, score=0.825 total time=   0.1s\n",
      "[CV 1/3] END max_depth=11, max_leaf_nodes=3, min_samples_split=4;, score=0.819 total time=   0.1s\n",
      "[CV 2/3] END max_depth=11, max_leaf_nodes=3, min_samples_split=4;, score=0.820 total time=   0.1s\n",
      "[CV 3/3] END max_depth=11, max_leaf_nodes=3, min_samples_split=4;, score=0.825 total time=   0.1s\n",
      "[CV 1/3] END max_depth=11, max_leaf_nodes=4, min_samples_split=2;, score=0.819 total time=   0.1s\n",
      "[CV 2/3] END max_depth=11, max_leaf_nodes=4, min_samples_split=2;, score=0.820 total time=   0.1s\n",
      "[CV 3/3] END max_depth=11, max_leaf_nodes=4, min_samples_split=2;, score=0.825 total time=   0.1s\n",
      "[CV 1/3] END max_depth=11, max_leaf_nodes=4, min_samples_split=3;, score=0.819 total time=   0.1s\n",
      "[CV 2/3] END max_depth=11, max_leaf_nodes=4, min_samples_split=3;, score=0.820 total time=   0.1s\n",
      "[CV 3/3] END max_depth=11, max_leaf_nodes=4, min_samples_split=3;, score=0.825 total time=   0.1s\n",
      "[CV 1/3] END max_depth=11, max_leaf_nodes=4, min_samples_split=4;, score=0.819 total time=   0.1s\n",
      "[CV 2/3] END max_depth=11, max_leaf_nodes=4, min_samples_split=4;, score=0.820 total time=   0.1s\n",
      "[CV 3/3] END max_depth=11, max_leaf_nodes=4, min_samples_split=4;, score=0.825 total time=   0.1s\n",
      "[CV 1/3] END max_depth=11, max_leaf_nodes=5, min_samples_split=2;, score=0.819 total time=   0.1s\n",
      "[CV 2/3] END max_depth=11, max_leaf_nodes=5, min_samples_split=2;, score=0.820 total time=   0.1s\n",
      "[CV 3/3] END max_depth=11, max_leaf_nodes=5, min_samples_split=2;, score=0.825 total time=   0.1s\n",
      "[CV 1/3] END max_depth=11, max_leaf_nodes=5, min_samples_split=3;, score=0.819 total time=   0.1s\n",
      "[CV 2/3] END max_depth=11, max_leaf_nodes=5, min_samples_split=3;, score=0.820 total time=   0.1s\n",
      "[CV 3/3] END max_depth=11, max_leaf_nodes=5, min_samples_split=3;, score=0.825 total time=   0.1s\n",
      "[CV 1/3] END max_depth=11, max_leaf_nodes=5, min_samples_split=4;, score=0.819 total time=   0.1s\n",
      "[CV 2/3] END max_depth=11, max_leaf_nodes=5, min_samples_split=4;, score=0.820 total time=   0.1s\n",
      "[CV 3/3] END max_depth=11, max_leaf_nodes=5, min_samples_split=4;, score=0.825 total time=   0.1s\n",
      "[CV 1/3] END max_depth=11, max_leaf_nodes=6, min_samples_split=2;, score=0.819 total time=   0.1s\n",
      "[CV 2/3] END max_depth=11, max_leaf_nodes=6, min_samples_split=2;, score=0.820 total time=   0.2s\n",
      "[CV 3/3] END max_depth=11, max_leaf_nodes=6, min_samples_split=2;, score=0.832 total time=   0.1s\n",
      "[CV 1/3] END max_depth=11, max_leaf_nodes=6, min_samples_split=3;, score=0.819 total time=   0.1s\n",
      "[CV 2/3] END max_depth=11, max_leaf_nodes=6, min_samples_split=3;, score=0.820 total time=   0.1s\n",
      "[CV 3/3] END max_depth=11, max_leaf_nodes=6, min_samples_split=3;, score=0.832 total time=   0.1s\n",
      "[CV 1/3] END max_depth=11, max_leaf_nodes=6, min_samples_split=4;, score=0.819 total time=   0.1s\n",
      "[CV 2/3] END max_depth=11, max_leaf_nodes=6, min_samples_split=4;, score=0.820 total time=   0.1s\n",
      "[CV 3/3] END max_depth=11, max_leaf_nodes=6, min_samples_split=4;, score=0.832 total time=   0.1s\n",
      "[CV 1/3] END max_depth=11, max_leaf_nodes=7, min_samples_split=2;, score=0.831 total time=   0.1s\n",
      "[CV 2/3] END max_depth=11, max_leaf_nodes=7, min_samples_split=2;, score=0.834 total time=   0.1s\n",
      "[CV 3/3] END max_depth=11, max_leaf_nodes=7, min_samples_split=2;, score=0.832 total time=   0.1s\n",
      "[CV 1/3] END max_depth=11, max_leaf_nodes=7, min_samples_split=3;, score=0.831 total time=   0.1s\n",
      "[CV 2/3] END max_depth=11, max_leaf_nodes=7, min_samples_split=3;, score=0.834 total time=   0.2s\n",
      "[CV 3/3] END max_depth=11, max_leaf_nodes=7, min_samples_split=3;, score=0.832 total time=   0.1s\n",
      "[CV 1/3] END max_depth=11, max_leaf_nodes=7, min_samples_split=4;, score=0.831 total time=   0.1s\n",
      "[CV 2/3] END max_depth=11, max_leaf_nodes=7, min_samples_split=4;, score=0.834 total time=   0.1s\n",
      "[CV 3/3] END max_depth=11, max_leaf_nodes=7, min_samples_split=4;, score=0.832 total time=   0.1s\n",
      "[CV 1/3] END max_depth=11, max_leaf_nodes=8, min_samples_split=2;, score=0.835 total time=   0.2s\n",
      "[CV 2/3] END max_depth=11, max_leaf_nodes=8, min_samples_split=2;, score=0.840 total time=   0.2s\n",
      "[CV 3/3] END max_depth=11, max_leaf_nodes=8, min_samples_split=2;, score=0.836 total time=   0.1s\n",
      "[CV 1/3] END max_depth=11, max_leaf_nodes=8, min_samples_split=3;, score=0.835 total time=   0.2s\n",
      "[CV 2/3] END max_depth=11, max_leaf_nodes=8, min_samples_split=3;, score=0.840 total time=   0.1s\n",
      "[CV 3/3] END max_depth=11, max_leaf_nodes=8, min_samples_split=3;, score=0.836 total time=   0.2s\n",
      "[CV 1/3] END max_depth=11, max_leaf_nodes=8, min_samples_split=4;, score=0.835 total time=   0.2s\n",
      "[CV 2/3] END max_depth=11, max_leaf_nodes=8, min_samples_split=4;, score=0.840 total time=   0.1s\n",
      "[CV 3/3] END max_depth=11, max_leaf_nodes=8, min_samples_split=4;, score=0.836 total time=   0.2s\n",
      "[CV 1/3] END max_depth=11, max_leaf_nodes=9, min_samples_split=2;, score=0.835 total time=   0.2s\n",
      "[CV 2/3] END max_depth=11, max_leaf_nodes=9, min_samples_split=2;, score=0.840 total time=   0.2s\n",
      "[CV 3/3] END max_depth=11, max_leaf_nodes=9, min_samples_split=2;, score=0.837 total time=   0.2s\n",
      "[CV 1/3] END max_depth=11, max_leaf_nodes=9, min_samples_split=3;, score=0.835 total time=   0.2s\n",
      "[CV 2/3] END max_depth=11, max_leaf_nodes=9, min_samples_split=3;, score=0.840 total time=   0.2s\n",
      "[CV 3/3] END max_depth=11, max_leaf_nodes=9, min_samples_split=3;, score=0.837 total time=   0.2s\n",
      "[CV 1/3] END max_depth=11, max_leaf_nodes=9, min_samples_split=4;, score=0.835 total time=   0.2s\n",
      "[CV 2/3] END max_depth=11, max_leaf_nodes=9, min_samples_split=4;, score=0.840 total time=   0.2s\n",
      "[CV 3/3] END max_depth=11, max_leaf_nodes=9, min_samples_split=4;, score=0.837 total time=   0.2s\n",
      "{'max_depth': 5, 'max_leaf_nodes': 9, 'min_samples_split': 2}\n",
      "0.7\n"
     ]
    }
   ],
   "source": [
    "# ЗАДАНИЕ 4.9\n",
    "\n",
    "from sklearn.model_selection import GridSearchCV\n",
    "from sklearn.tree import DecisionTreeClassifier\n",
    "\n",
    "params = {\n",
    "    'max_leaf_nodes': list(range(2, 10)), \n",
    "    'min_samples_split': [2, 3, 4], \n",
    "    'max_depth': [5,7,9,11]\n",
    "}\n",
    "\n",
    "grid_search_cv = GridSearchCV(DecisionTreeClassifier(random_state=42), params, verbose=3, cv=3)\n",
    "grid_search_cv.fit(X_train, Y_train)\n",
    "print(grid_search_cv.best_params_)\n",
    "\n",
    "clf = DecisionTreeClassifier(max_depth = 5, max_leaf_nodes = 9, min_samples_split = 2, random_state=42)\n",
    "clf.fit(X_train, Y_train)\n",
    "preds_train = clf.predict(X_train)\n",
    "preds_test = clf.predict(X_test)\n",
    "print(round(roc_auc_score(Y_test, preds_test), 2))"
   ]
  },
  {
   "cell_type": "code",
   "execution_count": 39,
   "metadata": {},
   "outputs": [
    {
     "name": "stdout",
     "output_type": "stream",
     "text": [
      "0.73\n"
     ]
    }
   ],
   "source": [
    "# ЗАДАНИЕ 4.10\n",
    "\n",
    "from sklearn.ensemble import RandomForestClassifier\n",
    "\n",
    "clf = RandomForestClassifier(n_estimators = 100, random_state=31)\n",
    "clf.fit(X_train, Y_train)\n",
    "preds_train = clf.predict(X_train)\n",
    "preds_test = clf.predict(X_test)\n",
    "print(round(roc_auc_score(Y_test, preds_test), 2))"
   ]
  },
  {
   "cell_type": "code",
   "execution_count": 40,
   "metadata": {},
   "outputs": [
    {
     "name": "stdout",
     "output_type": "stream",
     "text": [
      "Fitting 3 folds for each of 60 candidates, totalling 180 fits\n",
      "[CV 1/3] END max_depth=5, max_features=4, min_samples_leaf=3;, score=0.776 total time=   1.1s\n",
      "[CV 2/3] END max_depth=5, max_features=4, min_samples_leaf=3;, score=0.775 total time=   1.1s\n",
      "[CV 3/3] END max_depth=5, max_features=4, min_samples_leaf=3;, score=0.775 total time=   1.1s\n",
      "[CV 1/3] END max_depth=5, max_features=4, min_samples_leaf=5;, score=0.776 total time=   1.2s\n",
      "[CV 2/3] END max_depth=5, max_features=4, min_samples_leaf=5;, score=0.775 total time=   1.1s\n",
      "[CV 3/3] END max_depth=5, max_features=4, min_samples_leaf=5;, score=0.775 total time=   1.1s\n",
      "[CV 1/3] END max_depth=5, max_features=4, min_samples_leaf=7;, score=0.776 total time=   1.2s\n",
      "[CV 2/3] END max_depth=5, max_features=4, min_samples_leaf=7;, score=0.775 total time=   1.1s\n",
      "[CV 3/3] END max_depth=5, max_features=4, min_samples_leaf=7;, score=0.775 total time=   1.1s\n",
      "[CV 1/3] END max_depth=5, max_features=4, min_samples_leaf=9;, score=0.776 total time=   1.1s\n",
      "[CV 2/3] END max_depth=5, max_features=4, min_samples_leaf=9;, score=0.775 total time=   1.1s\n",
      "[CV 3/3] END max_depth=5, max_features=4, min_samples_leaf=9;, score=0.775 total time=   1.1s\n",
      "[CV 1/3] END max_depth=5, max_features=4, min_samples_leaf=11;, score=0.776 total time=   1.1s\n",
      "[CV 2/3] END max_depth=5, max_features=4, min_samples_leaf=11;, score=0.775 total time=   1.1s\n",
      "[CV 3/3] END max_depth=5, max_features=4, min_samples_leaf=11;, score=0.775 total time=   1.1s\n",
      "[CV 1/3] END max_depth=5, max_features=5, min_samples_leaf=3;, score=0.782 total time=   1.2s\n",
      "[CV 2/3] END max_depth=5, max_features=5, min_samples_leaf=3;, score=0.780 total time=   1.2s\n",
      "[CV 3/3] END max_depth=5, max_features=5, min_samples_leaf=3;, score=0.781 total time=   1.2s\n",
      "[CV 1/3] END max_depth=5, max_features=5, min_samples_leaf=5;, score=0.781 total time=   1.2s\n",
      "[CV 2/3] END max_depth=5, max_features=5, min_samples_leaf=5;, score=0.781 total time=   1.3s\n",
      "[CV 3/3] END max_depth=5, max_features=5, min_samples_leaf=5;, score=0.781 total time=   1.1s\n",
      "[CV 1/3] END max_depth=5, max_features=5, min_samples_leaf=7;, score=0.782 total time=   1.2s\n",
      "[CV 2/3] END max_depth=5, max_features=5, min_samples_leaf=7;, score=0.780 total time=   1.3s\n",
      "[CV 3/3] END max_depth=5, max_features=5, min_samples_leaf=7;, score=0.782 total time=   1.4s\n",
      "[CV 1/3] END max_depth=5, max_features=5, min_samples_leaf=9;, score=0.782 total time=   1.4s\n",
      "[CV 2/3] END max_depth=5, max_features=5, min_samples_leaf=9;, score=0.779 total time=   1.4s\n",
      "[CV 3/3] END max_depth=5, max_features=5, min_samples_leaf=9;, score=0.781 total time=   1.4s\n",
      "[CV 1/3] END max_depth=5, max_features=5, min_samples_leaf=11;, score=0.784 total time=   1.5s\n",
      "[CV 2/3] END max_depth=5, max_features=5, min_samples_leaf=11;, score=0.781 total time=   2.0s\n",
      "[CV 3/3] END max_depth=5, max_features=5, min_samples_leaf=11;, score=0.783 total time=   1.3s\n",
      "[CV 1/3] END max_depth=5, max_features=6, min_samples_leaf=3;, score=0.795 total time=   1.4s\n",
      "[CV 2/3] END max_depth=5, max_features=6, min_samples_leaf=3;, score=0.793 total time=   1.6s\n",
      "[CV 3/3] END max_depth=5, max_features=6, min_samples_leaf=3;, score=0.796 total time=   1.3s\n",
      "[CV 1/3] END max_depth=5, max_features=6, min_samples_leaf=5;, score=0.793 total time=   1.5s\n",
      "[CV 2/3] END max_depth=5, max_features=6, min_samples_leaf=5;, score=0.792 total time=   1.4s\n",
      "[CV 3/3] END max_depth=5, max_features=6, min_samples_leaf=5;, score=0.795 total time=   1.4s\n",
      "[CV 1/3] END max_depth=5, max_features=6, min_samples_leaf=7;, score=0.798 total time=   1.4s\n",
      "[CV 2/3] END max_depth=5, max_features=6, min_samples_leaf=7;, score=0.794 total time=   1.5s\n",
      "[CV 3/3] END max_depth=5, max_features=6, min_samples_leaf=7;, score=0.795 total time=   1.3s\n",
      "[CV 1/3] END max_depth=5, max_features=6, min_samples_leaf=9;, score=0.796 total time=   1.3s\n",
      "[CV 2/3] END max_depth=5, max_features=6, min_samples_leaf=9;, score=0.795 total time=   1.4s\n",
      "[CV 3/3] END max_depth=5, max_features=6, min_samples_leaf=9;, score=0.795 total time=   1.4s\n",
      "[CV 1/3] END max_depth=5, max_features=6, min_samples_leaf=11;, score=0.795 total time=   1.3s\n",
      "[CV 2/3] END max_depth=5, max_features=6, min_samples_leaf=11;, score=0.798 total time=   1.3s\n",
      "[CV 3/3] END max_depth=5, max_features=6, min_samples_leaf=11;, score=0.795 total time=   1.4s\n",
      "[CV 1/3] END max_depth=5, max_features=7, min_samples_leaf=3;, score=0.798 total time=   1.4s\n",
      "[CV 2/3] END max_depth=5, max_features=7, min_samples_leaf=3;, score=0.801 total time=   1.5s\n",
      "[CV 3/3] END max_depth=5, max_features=7, min_samples_leaf=3;, score=0.794 total time=   1.5s\n",
      "[CV 1/3] END max_depth=5, max_features=7, min_samples_leaf=5;, score=0.798 total time=   1.4s\n",
      "[CV 2/3] END max_depth=5, max_features=7, min_samples_leaf=5;, score=0.801 total time=   1.5s\n",
      "[CV 3/3] END max_depth=5, max_features=7, min_samples_leaf=5;, score=0.797 total time=   1.4s\n",
      "[CV 1/3] END max_depth=5, max_features=7, min_samples_leaf=7;, score=0.794 total time=   1.5s\n",
      "[CV 2/3] END max_depth=5, max_features=7, min_samples_leaf=7;, score=0.800 total time=   1.4s\n",
      "[CV 3/3] END max_depth=5, max_features=7, min_samples_leaf=7;, score=0.795 total time=   1.5s\n",
      "[CV 1/3] END max_depth=5, max_features=7, min_samples_leaf=9;, score=0.796 total time=   1.4s\n",
      "[CV 2/3] END max_depth=5, max_features=7, min_samples_leaf=9;, score=0.800 total time=   1.4s\n",
      "[CV 3/3] END max_depth=5, max_features=7, min_samples_leaf=9;, score=0.795 total time=   1.4s\n",
      "[CV 1/3] END max_depth=5, max_features=7, min_samples_leaf=11;, score=0.796 total time=   1.3s\n",
      "[CV 2/3] END max_depth=5, max_features=7, min_samples_leaf=11;, score=0.803 total time=   1.3s\n",
      "[CV 3/3] END max_depth=5, max_features=7, min_samples_leaf=11;, score=0.795 total time=   1.4s\n",
      "[CV 1/3] END max_depth=10, max_features=4, min_samples_leaf=3;, score=0.810 total time=   1.7s\n",
      "[CV 2/3] END max_depth=10, max_features=4, min_samples_leaf=3;, score=0.815 total time=   1.7s\n",
      "[CV 3/3] END max_depth=10, max_features=4, min_samples_leaf=3;, score=0.813 total time=   1.8s\n",
      "[CV 1/3] END max_depth=10, max_features=4, min_samples_leaf=5;, score=0.812 total time=   1.7s\n",
      "[CV 2/3] END max_depth=10, max_features=4, min_samples_leaf=5;, score=0.811 total time=   1.7s\n",
      "[CV 3/3] END max_depth=10, max_features=4, min_samples_leaf=5;, score=0.813 total time=   1.7s\n",
      "[CV 1/3] END max_depth=10, max_features=4, min_samples_leaf=7;, score=0.811 total time=   1.7s\n",
      "[CV 2/3] END max_depth=10, max_features=4, min_samples_leaf=7;, score=0.812 total time=   1.7s\n",
      "[CV 3/3] END max_depth=10, max_features=4, min_samples_leaf=7;, score=0.812 total time=   1.8s\n",
      "[CV 1/3] END max_depth=10, max_features=4, min_samples_leaf=9;, score=0.809 total time=   1.7s\n",
      "[CV 2/3] END max_depth=10, max_features=4, min_samples_leaf=9;, score=0.812 total time=   1.7s\n",
      "[CV 3/3] END max_depth=10, max_features=4, min_samples_leaf=9;, score=0.811 total time=   1.7s\n",
      "[CV 1/3] END max_depth=10, max_features=4, min_samples_leaf=11;, score=0.813 total time=   1.7s\n",
      "[CV 2/3] END max_depth=10, max_features=4, min_samples_leaf=11;, score=0.812 total time=   1.7s\n",
      "[CV 3/3] END max_depth=10, max_features=4, min_samples_leaf=11;, score=0.813 total time=   1.7s\n",
      "[CV 1/3] END max_depth=10, max_features=5, min_samples_leaf=3;, score=0.819 total time=   2.0s\n",
      "[CV 2/3] END max_depth=10, max_features=5, min_samples_leaf=3;, score=0.826 total time=   2.0s\n",
      "[CV 3/3] END max_depth=10, max_features=5, min_samples_leaf=3;, score=0.820 total time=   2.0s\n",
      "[CV 1/3] END max_depth=10, max_features=5, min_samples_leaf=5;, score=0.821 total time=   2.0s\n",
      "[CV 2/3] END max_depth=10, max_features=5, min_samples_leaf=5;, score=0.826 total time=   2.0s\n",
      "[CV 3/3] END max_depth=10, max_features=5, min_samples_leaf=5;, score=0.820 total time=   2.1s\n",
      "[CV 1/3] END max_depth=10, max_features=5, min_samples_leaf=7;, score=0.820 total time=   2.2s\n",
      "[CV 2/3] END max_depth=10, max_features=5, min_samples_leaf=7;, score=0.819 total time=   2.3s\n",
      "[CV 3/3] END max_depth=10, max_features=5, min_samples_leaf=7;, score=0.820 total time=   2.2s\n",
      "[CV 1/3] END max_depth=10, max_features=5, min_samples_leaf=9;, score=0.819 total time=   2.1s\n",
      "[CV 2/3] END max_depth=10, max_features=5, min_samples_leaf=9;, score=0.824 total time=   2.1s\n",
      "[CV 3/3] END max_depth=10, max_features=5, min_samples_leaf=9;, score=0.816 total time=   2.2s\n",
      "[CV 1/3] END max_depth=10, max_features=5, min_samples_leaf=11;, score=0.822 total time=   2.2s\n",
      "[CV 2/3] END max_depth=10, max_features=5, min_samples_leaf=11;, score=0.826 total time=   2.2s\n",
      "[CV 3/3] END max_depth=10, max_features=5, min_samples_leaf=11;, score=0.817 total time=   2.0s\n",
      "[CV 1/3] END max_depth=10, max_features=6, min_samples_leaf=3;, score=0.832 total time=   2.3s\n",
      "[CV 2/3] END max_depth=10, max_features=6, min_samples_leaf=3;, score=0.834 total time=   2.2s\n",
      "[CV 3/3] END max_depth=10, max_features=6, min_samples_leaf=3;, score=0.830 total time=   2.2s\n",
      "[CV 1/3] END max_depth=10, max_features=6, min_samples_leaf=5;, score=0.829 total time=   2.2s\n",
      "[CV 2/3] END max_depth=10, max_features=6, min_samples_leaf=5;, score=0.835 total time=   2.2s\n",
      "[CV 3/3] END max_depth=10, max_features=6, min_samples_leaf=5;, score=0.828 total time=   2.3s\n",
      "[CV 1/3] END max_depth=10, max_features=6, min_samples_leaf=7;, score=0.831 total time=   2.2s\n",
      "[CV 2/3] END max_depth=10, max_features=6, min_samples_leaf=7;, score=0.835 total time=   2.2s\n",
      "[CV 3/3] END max_depth=10, max_features=6, min_samples_leaf=7;, score=0.831 total time=   2.2s\n",
      "[CV 1/3] END max_depth=10, max_features=6, min_samples_leaf=9;, score=0.830 total time=   2.2s\n",
      "[CV 2/3] END max_depth=10, max_features=6, min_samples_leaf=9;, score=0.835 total time=   2.1s\n",
      "[CV 3/3] END max_depth=10, max_features=6, min_samples_leaf=9;, score=0.831 total time=   2.2s\n",
      "[CV 1/3] END max_depth=10, max_features=6, min_samples_leaf=11;, score=0.831 total time=   2.1s\n",
      "[CV 2/3] END max_depth=10, max_features=6, min_samples_leaf=11;, score=0.835 total time=   2.1s\n",
      "[CV 3/3] END max_depth=10, max_features=6, min_samples_leaf=11;, score=0.827 total time=   2.1s\n",
      "[CV 1/3] END max_depth=10, max_features=7, min_samples_leaf=3;, score=0.833 total time=   2.5s\n",
      "[CV 2/3] END max_depth=10, max_features=7, min_samples_leaf=3;, score=0.839 total time=   2.5s\n",
      "[CV 3/3] END max_depth=10, max_features=7, min_samples_leaf=3;, score=0.831 total time=   2.7s\n",
      "[CV 1/3] END max_depth=10, max_features=7, min_samples_leaf=5;, score=0.834 total time=   2.5s\n",
      "[CV 2/3] END max_depth=10, max_features=7, min_samples_leaf=5;, score=0.838 total time=   2.4s\n",
      "[CV 3/3] END max_depth=10, max_features=7, min_samples_leaf=5;, score=0.832 total time=   3.0s\n",
      "[CV 1/3] END max_depth=10, max_features=7, min_samples_leaf=7;, score=0.831 total time=   2.8s\n",
      "[CV 2/3] END max_depth=10, max_features=7, min_samples_leaf=7;, score=0.838 total time=   2.5s\n",
      "[CV 3/3] END max_depth=10, max_features=7, min_samples_leaf=7;, score=0.829 total time=   2.5s\n",
      "[CV 1/3] END max_depth=10, max_features=7, min_samples_leaf=9;, score=0.833 total time=   2.4s\n",
      "[CV 2/3] END max_depth=10, max_features=7, min_samples_leaf=9;, score=0.838 total time=   2.5s\n",
      "[CV 3/3] END max_depth=10, max_features=7, min_samples_leaf=9;, score=0.831 total time=   2.5s\n",
      "[CV 1/3] END max_depth=10, max_features=7, min_samples_leaf=11;, score=0.834 total time=   2.4s\n",
      "[CV 2/3] END max_depth=10, max_features=7, min_samples_leaf=11;, score=0.837 total time=   2.4s\n",
      "[CV 3/3] END max_depth=10, max_features=7, min_samples_leaf=11;, score=0.828 total time=   2.5s\n",
      "[CV 1/3] END max_depth=15, max_features=4, min_samples_leaf=3;, score=0.829 total time=   2.4s\n",
      "[CV 2/3] END max_depth=15, max_features=4, min_samples_leaf=3;, score=0.836 total time=   2.5s\n",
      "[CV 3/3] END max_depth=15, max_features=4, min_samples_leaf=3;, score=0.829 total time=   2.5s\n",
      "[CV 1/3] END max_depth=15, max_features=4, min_samples_leaf=5;, score=0.828 total time=   2.4s\n",
      "[CV 2/3] END max_depth=15, max_features=4, min_samples_leaf=5;, score=0.834 total time=   2.4s\n",
      "[CV 3/3] END max_depth=15, max_features=4, min_samples_leaf=5;, score=0.829 total time=   2.4s\n",
      "[CV 1/3] END max_depth=15, max_features=4, min_samples_leaf=7;, score=0.828 total time=   2.4s\n",
      "[CV 2/3] END max_depth=15, max_features=4, min_samples_leaf=7;, score=0.832 total time=   2.3s\n",
      "[CV 3/3] END max_depth=15, max_features=4, min_samples_leaf=7;, score=0.827 total time=   2.3s\n",
      "[CV 1/3] END max_depth=15, max_features=4, min_samples_leaf=9;, score=0.825 total time=   2.2s\n",
      "[CV 2/3] END max_depth=15, max_features=4, min_samples_leaf=9;, score=0.832 total time=   2.2s\n",
      "[CV 3/3] END max_depth=15, max_features=4, min_samples_leaf=9;, score=0.824 total time=   2.2s\n",
      "[CV 1/3] END max_depth=15, max_features=4, min_samples_leaf=11;, score=0.826 total time=   2.2s\n",
      "[CV 2/3] END max_depth=15, max_features=4, min_samples_leaf=11;, score=0.831 total time=   2.2s\n",
      "[CV 3/3] END max_depth=15, max_features=4, min_samples_leaf=11;, score=0.824 total time=   2.2s\n",
      "[CV 1/3] END max_depth=15, max_features=5, min_samples_leaf=3;, score=0.832 total time=   2.9s\n",
      "[CV 2/3] END max_depth=15, max_features=5, min_samples_leaf=3;, score=0.843 total time=   2.9s\n",
      "[CV 3/3] END max_depth=15, max_features=5, min_samples_leaf=3;, score=0.833 total time=   2.8s\n",
      "[CV 1/3] END max_depth=15, max_features=5, min_samples_leaf=5;, score=0.835 total time=   2.8s\n",
      "[CV 2/3] END max_depth=15, max_features=5, min_samples_leaf=5;, score=0.843 total time=   2.8s\n",
      "[CV 3/3] END max_depth=15, max_features=5, min_samples_leaf=5;, score=0.834 total time=   2.8s\n",
      "[CV 1/3] END max_depth=15, max_features=5, min_samples_leaf=7;, score=0.834 total time=   2.7s\n",
      "[CV 2/3] END max_depth=15, max_features=5, min_samples_leaf=7;, score=0.839 total time=   2.6s\n",
      "[CV 3/3] END max_depth=15, max_features=5, min_samples_leaf=7;, score=0.830 total time=   2.7s\n",
      "[CV 1/3] END max_depth=15, max_features=5, min_samples_leaf=9;, score=0.832 total time=   2.7s\n",
      "[CV 2/3] END max_depth=15, max_features=5, min_samples_leaf=9;, score=0.838 total time=   2.6s\n",
      "[CV 3/3] END max_depth=15, max_features=5, min_samples_leaf=9;, score=0.831 total time=   2.8s\n",
      "[CV 1/3] END max_depth=15, max_features=5, min_samples_leaf=11;, score=0.834 total time=   2.6s\n",
      "[CV 2/3] END max_depth=15, max_features=5, min_samples_leaf=11;, score=0.838 total time=   2.6s\n",
      "[CV 3/3] END max_depth=15, max_features=5, min_samples_leaf=11;, score=0.831 total time=   2.6s\n",
      "[CV 1/3] END max_depth=15, max_features=6, min_samples_leaf=3;, score=0.841 total time=   3.2s\n",
      "[CV 2/3] END max_depth=15, max_features=6, min_samples_leaf=3;, score=0.847 total time=   3.2s\n",
      "[CV 3/3] END max_depth=15, max_features=6, min_samples_leaf=3;, score=0.840 total time=   3.2s\n",
      "[CV 1/3] END max_depth=15, max_features=6, min_samples_leaf=5;, score=0.842 total time=   3.1s\n",
      "[CV 2/3] END max_depth=15, max_features=6, min_samples_leaf=5;, score=0.847 total time=   3.1s\n",
      "[CV 3/3] END max_depth=15, max_features=6, min_samples_leaf=5;, score=0.839 total time=   3.1s\n",
      "[CV 1/3] END max_depth=15, max_features=6, min_samples_leaf=7;, score=0.842 total time=   3.0s\n",
      "[CV 2/3] END max_depth=15, max_features=6, min_samples_leaf=7;, score=0.845 total time=   3.0s\n",
      "[CV 3/3] END max_depth=15, max_features=6, min_samples_leaf=7;, score=0.841 total time=   3.1s\n",
      "[CV 1/3] END max_depth=15, max_features=6, min_samples_leaf=9;, score=0.840 total time=   3.0s\n",
      "[CV 2/3] END max_depth=15, max_features=6, min_samples_leaf=9;, score=0.845 total time=   3.0s\n",
      "[CV 3/3] END max_depth=15, max_features=6, min_samples_leaf=9;, score=0.837 total time=   3.1s\n",
      "[CV 1/3] END max_depth=15, max_features=6, min_samples_leaf=11;, score=0.840 total time=   3.2s\n",
      "[CV 2/3] END max_depth=15, max_features=6, min_samples_leaf=11;, score=0.846 total time=   3.0s\n",
      "[CV 3/3] END max_depth=15, max_features=6, min_samples_leaf=11;, score=0.838 total time=   2.9s\n",
      "[CV 1/3] END max_depth=15, max_features=7, min_samples_leaf=3;, score=0.845 total time=   3.7s\n",
      "[CV 2/3] END max_depth=15, max_features=7, min_samples_leaf=3;, score=0.850 total time=   3.7s\n",
      "[CV 3/3] END max_depth=15, max_features=7, min_samples_leaf=3;, score=0.845 total time=   3.7s\n",
      "[CV 1/3] END max_depth=15, max_features=7, min_samples_leaf=5;, score=0.844 total time=   3.6s\n",
      "[CV 2/3] END max_depth=15, max_features=7, min_samples_leaf=5;, score=0.849 total time=   3.6s\n",
      "[CV 3/3] END max_depth=15, max_features=7, min_samples_leaf=5;, score=0.844 total time=   3.6s\n",
      "[CV 1/3] END max_depth=15, max_features=7, min_samples_leaf=7;, score=0.842 total time=   3.6s\n",
      "[CV 2/3] END max_depth=15, max_features=7, min_samples_leaf=7;, score=0.850 total time=   3.6s\n",
      "[CV 3/3] END max_depth=15, max_features=7, min_samples_leaf=7;, score=0.841 total time=   3.5s\n",
      "[CV 1/3] END max_depth=15, max_features=7, min_samples_leaf=9;, score=0.842 total time=   3.4s\n",
      "[CV 2/3] END max_depth=15, max_features=7, min_samples_leaf=9;, score=0.848 total time=   3.6s\n",
      "[CV 3/3] END max_depth=15, max_features=7, min_samples_leaf=9;, score=0.841 total time=   3.7s\n",
      "[CV 1/3] END max_depth=15, max_features=7, min_samples_leaf=11;, score=0.840 total time=   3.4s\n",
      "[CV 2/3] END max_depth=15, max_features=7, min_samples_leaf=11;, score=0.847 total time=   3.4s\n",
      "[CV 3/3] END max_depth=15, max_features=7, min_samples_leaf=11;, score=0.840 total time=   3.5s\n",
      "{'max_depth': 15, 'max_features': 7, 'min_samples_leaf': 3}\n",
      "0.7\n"
     ]
    }
   ],
   "source": [
    "# ЗАДАНИЕ 4.11\n",
    "\n",
    "params = {\n",
    "    'max_features': [4, 5, 6, 7], \n",
    "    'min_samples_leaf': [3, 5, 7, 9, 11], \n",
    "    'max_depth': [5, 10, 15]\n",
    "}\n",
    "grid_search_cv = GridSearchCV(RandomForestClassifier(random_state=31), params, verbose=3, cv=3)\n",
    "grid_search_cv.fit(X_train, Y_train)\n",
    "print(grid_search_cv.best_params_)\n",
    "clf = RandomForestClassifier(max_depth=15, max_features=7, min_samples_leaf=3, random_state=31)\n",
    "clf.fit(X_train, Y_train)\n",
    "preds_train = clf.predict(X_train)\n",
    "preds_test = clf.predict(X_test)\n",
    "print(round(roc_auc_score(Y_test, preds_test), 2))"
   ]
  },
  {
   "cell_type": "code",
   "execution_count": 41,
   "metadata": {},
   "outputs": [
    {
     "data": {
      "text/html": [
       "<div>\n",
       "<style scoped>\n",
       "    .dataframe tbody tr th:only-of-type {\n",
       "        vertical-align: middle;\n",
       "    }\n",
       "\n",
       "    .dataframe tbody tr th {\n",
       "        vertical-align: top;\n",
       "    }\n",
       "\n",
       "    .dataframe thead th {\n",
       "        text-align: right;\n",
       "    }\n",
       "</style>\n",
       "<table border=\"1\" class=\"dataframe\">\n",
       "  <thead>\n",
       "    <tr style=\"text-align: right;\">\n",
       "      <th></th>\n",
       "      <th>feat</th>\n",
       "      <th>coef</th>\n",
       "    </tr>\n",
       "  </thead>\n",
       "  <tbody>\n",
       "    <tr>\n",
       "      <th>7</th>\n",
       "      <td>Humidity3pm</td>\n",
       "      <td>0.250783</td>\n",
       "    </tr>\n",
       "    <tr>\n",
       "      <th>2</th>\n",
       "      <td>Rainfall</td>\n",
       "      <td>0.079757</td>\n",
       "    </tr>\n",
       "    <tr>\n",
       "      <th>6</th>\n",
       "      <td>Humidity9am</td>\n",
       "      <td>0.070403</td>\n",
       "    </tr>\n",
       "    <tr>\n",
       "      <th>10</th>\n",
       "      <td>Cloud9am</td>\n",
       "      <td>0.067092</td>\n",
       "    </tr>\n",
       "    <tr>\n",
       "      <th>9</th>\n",
       "      <td>Pressure3pm</td>\n",
       "      <td>0.065272</td>\n",
       "    </tr>\n",
       "    <tr>\n",
       "      <th>...</th>\n",
       "      <td>...</td>\n",
       "      <td>...</td>\n",
       "    </tr>\n",
       "    <tr>\n",
       "      <th>50</th>\n",
       "      <td>Location_Newcastle</td>\n",
       "      <td>0.000000</td>\n",
       "    </tr>\n",
       "    <tr>\n",
       "      <th>62</th>\n",
       "      <td>Location_SalmonGums</td>\n",
       "      <td>0.000000</td>\n",
       "    </tr>\n",
       "    <tr>\n",
       "      <th>51</th>\n",
       "      <td>Location_Nhil</td>\n",
       "      <td>0.000000</td>\n",
       "    </tr>\n",
       "    <tr>\n",
       "      <th>52</th>\n",
       "      <td>Location_NorahHead</td>\n",
       "      <td>0.000000</td>\n",
       "    </tr>\n",
       "    <tr>\n",
       "      <th>40</th>\n",
       "      <td>Location_GoldCoast</td>\n",
       "      <td>0.000000</td>\n",
       "    </tr>\n",
       "  </tbody>\n",
       "</table>\n",
       "<p>123 rows × 2 columns</p>\n",
       "</div>"
      ],
      "text/plain": [
       "                   feat      coef\n",
       "7           Humidity3pm  0.250783\n",
       "2              Rainfall  0.079757\n",
       "6           Humidity9am  0.070403\n",
       "10             Cloud9am  0.067092\n",
       "9           Pressure3pm  0.065272\n",
       "..                  ...       ...\n",
       "50   Location_Newcastle  0.000000\n",
       "62  Location_SalmonGums  0.000000\n",
       "51        Location_Nhil  0.000000\n",
       "52   Location_NorahHead  0.000000\n",
       "40   Location_GoldCoast  0.000000\n",
       "\n",
       "[123 rows x 2 columns]"
      ]
     },
     "execution_count": 41,
     "metadata": {},
     "output_type": "execute_result"
    }
   ],
   "source": [
    "# ЗАДАНИЕ 4.12\n",
    "\n",
    "feature_names = [x for x in df_dummies if x != 'RainTomorrow']\n",
    "pd.DataFrame({'feat': feature_names,\n",
    "              'coef': clf.feature_importances_}).sort_values(by='coef', ascending=False)"
   ]
  },
  {
   "cell_type": "markdown",
   "metadata": {},
   "source": [
    "# Юнит 6"
   ]
  },
  {
   "cell_type": "code",
   "execution_count": 2,
   "metadata": {},
   "outputs": [],
   "source": [
    "import numpy as np\n",
    "import pandas as pd"
   ]
  },
  {
   "cell_type": "code",
   "execution_count": 3,
   "metadata": {},
   "outputs": [],
   "source": [
    "df = pd.read_csv('AirPass.zip')"
   ]
  },
  {
   "cell_type": "code",
   "execution_count": 4,
   "metadata": {},
   "outputs": [
    {
     "data": {
      "text/plain": [
       "310"
      ]
     },
     "execution_count": 4,
     "metadata": {},
     "output_type": "execute_result"
    }
   ],
   "source": [
    "# ЗАДАНИЕ 6.1\n",
    "\n",
    "df.isnull().sum().sum()"
   ]
  },
  {
   "cell_type": "code",
   "execution_count": 5,
   "metadata": {},
   "outputs": [
    {
     "data": {
      "text/plain": [
       "15.133392362180475"
      ]
     },
     "execution_count": 5,
     "metadata": {},
     "output_type": "execute_result"
    }
   ],
   "source": [
    "# ЗАДАНИЕ 6.2\n",
    "\n",
    "df['Arrival Delay in Minutes'] = df['Arrival Delay in Minutes'].fillna(df['Arrival Delay in Minutes'].median())\n",
    "df['Arrival Delay in Minutes'].mean()"
   ]
  },
  {
   "cell_type": "code",
   "execution_count": 6,
   "metadata": {},
   "outputs": [
    {
     "name": "stdout",
     "output_type": "stream",
     "text": [
      "Gender  satisfaction           \n",
      "Female  neutral or dissatisfied    29.058554\n",
      "        satisfied                  21.687327\n",
      "Male    neutral or dissatisfied    27.608177\n",
      "        satisfied                  21.645942\n",
      "Name: satisfaction, dtype: float64\n",
      "Type of Travel   satisfaction           \n",
      "Business travel  satisfied                  40.177472\n",
      "                 neutral or dissatisfied    28.785225\n",
      "Personal Travel  neutral or dissatisfied    27.881506\n",
      "                 satisfied                   3.155798\n",
      "Name: satisfaction, dtype: float64\n",
      "Class     satisfaction           \n",
      "Business  satisfied                  33.184478\n",
      "          neutral or dissatisfied    14.614452\n",
      "Eco       neutral or dissatisfied    36.614567\n",
      "          satisfied                   8.374076\n",
      "Eco Plus  neutral or dissatisfied     5.437712\n",
      "          satisfied                   1.774715\n",
      "Name: satisfaction, dtype: float64\n"
     ]
    }
   ],
   "source": [
    "# ЗАДАНИЕ 6.3\n",
    "\n",
    "print(df.groupby('Gender')['satisfaction'].value_counts()*100/df.shape[0])\n",
    "\n",
    "print(df.groupby('Type of Travel')['satisfaction'].value_counts()*100/df.shape[0])\n",
    "\n",
    "print(df.groupby('Class')['satisfaction'].value_counts()*100/df.shape[0])"
   ]
  },
  {
   "cell_type": "code",
   "execution_count": 7,
   "metadata": {},
   "outputs": [],
   "source": [
    "# чтобы сработало \n",
    " \n",
    "df['satisfaction'] = df['satisfaction'].map({'neutral or dissatisfied':0 , 'satisfied':1})\n",
    "df['Customer Type'] = df['Customer Type'].map({'Loyal Customer':1, 'disloyal Customer':0})\n",
    "df['Type of Travel'] = df['Type of Travel'].map({'Personal Travel':0, 'Business travel':1})\n",
    "df['Gender'] = df['Gender'].map({'Male': 0, 'Female': 1})"
   ]
  },
  {
   "cell_type": "code",
   "execution_count": 8,
   "metadata": {},
   "outputs": [
    {
     "data": {
      "text/plain": [
       "(103904, 27)"
      ]
     },
     "execution_count": 8,
     "metadata": {},
     "output_type": "execute_result"
    }
   ],
   "source": [
    "# ЗАДАНИЕ 6.4\n",
    "\n",
    "df=pd.get_dummies(df)\n",
    "df.shape"
   ]
  },
  {
   "cell_type": "code",
   "execution_count": 9,
   "metadata": {},
   "outputs": [],
   "source": [
    "# хз откуда взялась\n",
    "\n",
    "df = df.drop('Unnamed: 0', axis=1)"
   ]
  },
  {
   "cell_type": "code",
   "execution_count": 10,
   "metadata": {},
   "outputs": [
    {
     "data": {
      "text/plain": [
       "(20781,)"
      ]
     },
     "execution_count": 10,
     "metadata": {},
     "output_type": "execute_result"
    }
   ],
   "source": [
    "# ЗАДАНИЕ 6.5\n",
    "from sklearn.model_selection import train_test_split\n",
    "\n",
    "X = df.drop('satisfaction', axis=1)\n",
    "y = df['satisfaction']\n",
    "\n",
    "X_train, X_test, y_train, y_test = train_test_split(X, y, test_size = 0.2, random_state=26)\n",
    "y_test.shape"
   ]
  },
  {
   "cell_type": "code",
   "execution_count": 11,
   "metadata": {},
   "outputs": [
    {
     "data": {
      "text/plain": [
       "0.9408251379303"
      ]
     },
     "execution_count": 11,
     "metadata": {},
     "output_type": "execute_result"
    }
   ],
   "source": [
    "# ЗАДАНИЕ 6.6\n",
    "\n",
    "from sklearn.preprocessing import StandardScaler\n",
    "\n",
    "scaler = StandardScaler()\n",
    "scaler.fit(X_train) \n",
    "X_train = scaler.transform(X_train) \n",
    "X_test = scaler.transform(X_test) \n",
    "X_test[0][0]"
   ]
  },
  {
   "cell_type": "code",
   "execution_count": 12,
   "metadata": {},
   "outputs": [
    {
     "data": {
      "text/plain": [
       "0.8546883773161146"
      ]
     },
     "execution_count": 12,
     "metadata": {},
     "output_type": "execute_result"
    }
   ],
   "source": [
    "# ЗАДАНИЕ 6.7\n",
    "\n",
    "from sklearn.linear_model import LogisticRegression\n",
    "from sklearn.metrics import f1_score\n",
    "\n",
    "model_lr = LogisticRegression()\n",
    "model_lr.fit(X_train, y_train)\n",
    "preds_test = model_lr.predict(X_test)\n",
    "f1_score(preds_test, y_test)"
   ]
  },
  {
   "cell_type": "code",
   "execution_count": 13,
   "metadata": {},
   "outputs": [
    {
     "data": {
      "text/plain": [
       "0.9404794558121674"
      ]
     },
     "execution_count": 13,
     "metadata": {},
     "output_type": "execute_result"
    }
   ],
   "source": [
    "# ЗАДАНИЕ 6.8\n",
    "\n",
    "from sklearn.ensemble import AdaBoostClassifier\n",
    "from sklearn.tree import DecisionTreeClassifier\n",
    "\n",
    "model_ada = AdaBoostClassifier(DecisionTreeClassifier(random_state=26),random_state=26,learning_rate=0.01)\n",
    "\n",
    "model_ada.fit(X_train, y_train)\n",
    "preds_test = model_ada.predict(X_test)\n",
    "f1_score(preds_test, y_test)"
   ]
  },
  {
   "cell_type": "code",
   "execution_count": 14,
   "metadata": {},
   "outputs": [
    {
     "name": "stdout",
     "output_type": "stream",
     "text": [
      "Fitting 3 folds for each of 24 candidates, totalling 72 fits\n",
      "[CV 1/3] END .learning_rate=1.0, n_estimators=1;, score=0.873 total time=   0.1s\n",
      "[CV 2/3] END .learning_rate=1.0, n_estimators=1;, score=0.870 total time=   0.1s\n",
      "[CV 3/3] END .learning_rate=1.0, n_estimators=1;, score=0.871 total time=   0.1s\n",
      "[CV 1/3] END .learning_rate=1.0, n_estimators=2;, score=0.880 total time=   0.3s\n",
      "[CV 2/3] END .learning_rate=1.0, n_estimators=2;, score=0.878 total time=   0.2s\n",
      "[CV 3/3] END .learning_rate=1.0, n_estimators=2;, score=0.875 total time=   0.2s\n",
      "[CV 1/3] END .learning_rate=1.0, n_estimators=4;, score=0.901 total time=   0.4s\n",
      "[CV 2/3] END .learning_rate=1.0, n_estimators=4;, score=0.896 total time=   0.4s\n",
      "[CV 3/3] END .learning_rate=1.0, n_estimators=4;, score=0.897 total time=   0.4s\n",
      "[CV 1/3] END .learning_rate=1.0, n_estimators=8;, score=0.920 total time=   1.0s\n",
      "[CV 2/3] END .learning_rate=1.0, n_estimators=8;, score=0.920 total time=   1.0s\n",
      "[CV 3/3] END .learning_rate=1.0, n_estimators=8;, score=0.919 total time=   0.9s\n",
      "[CV 1/3] END learning_rate=1.0, n_estimators=16;, score=0.935 total time=   2.0s\n",
      "[CV 2/3] END learning_rate=1.0, n_estimators=16;, score=0.938 total time=   1.9s\n",
      "[CV 3/3] END learning_rate=1.0, n_estimators=16;, score=0.933 total time=   2.0s\n",
      "[CV 1/3] END learning_rate=1.0, n_estimators=32;, score=0.943 total time=   4.0s\n",
      "[CV 2/3] END learning_rate=1.0, n_estimators=32;, score=0.945 total time=   4.0s\n",
      "[CV 3/3] END learning_rate=1.0, n_estimators=32;, score=0.944 total time=   3.9s\n",
      "[CV 1/3] END learning_rate=1.0, n_estimators=64;, score=0.947 total time=   7.9s\n",
      "[CV 2/3] END learning_rate=1.0, n_estimators=64;, score=0.947 total time=   8.1s\n",
      "[CV 3/3] END learning_rate=1.0, n_estimators=64;, score=0.948 total time=   8.1s\n",
      "[CV 1/3] END learning_rate=1.0, n_estimators=128;, score=0.949 total time=  16.2s\n",
      "[CV 2/3] END learning_rate=1.0, n_estimators=128;, score=0.949 total time=  17.5s\n",
      "[CV 3/3] END learning_rate=1.0, n_estimators=128;, score=0.949 total time=  18.6s\n",
      "[CV 1/3] END .learning_rate=0.1, n_estimators=1;, score=0.000 total time=   0.1s\n",
      "[CV 2/3] END .learning_rate=0.1, n_estimators=1;, score=0.000 total time=   0.1s\n",
      "[CV 3/3] END .learning_rate=0.1, n_estimators=1;, score=0.000 total time=   0.1s\n",
      "[CV 1/3] END .learning_rate=0.1, n_estimators=2;, score=0.765 total time=   0.2s\n",
      "[CV 2/3] END .learning_rate=0.1, n_estimators=2;, score=0.802 total time=   0.2s\n",
      "[CV 3/3] END .learning_rate=0.1, n_estimators=2;, score=0.794 total time=   0.2s\n",
      "[CV 1/3] END .learning_rate=0.1, n_estimators=4;, score=0.880 total time=   0.4s\n",
      "[CV 2/3] END .learning_rate=0.1, n_estimators=4;, score=0.880 total time=   0.5s\n",
      "[CV 3/3] END .learning_rate=0.1, n_estimators=4;, score=0.878 total time=   0.4s\n",
      "[CV 1/3] END .learning_rate=0.1, n_estimators=8;, score=0.881 total time=   1.1s\n",
      "[CV 2/3] END .learning_rate=0.1, n_estimators=8;, score=0.878 total time=   1.1s\n",
      "[CV 3/3] END .learning_rate=0.1, n_estimators=8;, score=0.881 total time=   1.0s\n",
      "[CV 1/3] END learning_rate=0.1, n_estimators=16;, score=0.886 total time=   2.2s\n",
      "[CV 2/3] END learning_rate=0.1, n_estimators=16;, score=0.887 total time=   2.1s\n",
      "[CV 3/3] END learning_rate=0.1, n_estimators=16;, score=0.889 total time=   2.5s\n",
      "[CV 1/3] END learning_rate=0.1, n_estimators=32;, score=0.914 total time=   4.7s\n",
      "[CV 2/3] END learning_rate=0.1, n_estimators=32;, score=0.919 total time=   4.5s\n",
      "[CV 3/3] END learning_rate=0.1, n_estimators=32;, score=0.910 total time=   4.4s\n",
      "[CV 1/3] END learning_rate=0.1, n_estimators=64;, score=0.928 total time=   8.5s\n",
      "[CV 2/3] END learning_rate=0.1, n_estimators=64;, score=0.929 total time=   8.3s\n",
      "[CV 3/3] END learning_rate=0.1, n_estimators=64;, score=0.929 total time=   8.2s\n",
      "[CV 1/3] END learning_rate=0.1, n_estimators=128;, score=0.939 total time=  17.1s\n",
      "[CV 2/3] END learning_rate=0.1, n_estimators=128;, score=0.938 total time=  15.8s\n",
      "[CV 3/3] END learning_rate=0.1, n_estimators=128;, score=0.938 total time=  15.8s\n",
      "[CV 1/3] END learning_rate=0.010000000000000002, n_estimators=1;, score=0.000 total time=   0.1s\n",
      "[CV 2/3] END learning_rate=0.010000000000000002, n_estimators=1;, score=0.000 total time=   0.1s\n",
      "[CV 3/3] END learning_rate=0.010000000000000002, n_estimators=1;, score=0.000 total time=   0.1s\n",
      "[CV 1/3] END learning_rate=0.010000000000000002, n_estimators=2;, score=0.000 total time=   0.3s\n",
      "[CV 2/3] END learning_rate=0.010000000000000002, n_estimators=2;, score=0.000 total time=   0.3s\n",
      "[CV 3/3] END learning_rate=0.010000000000000002, n_estimators=2;, score=0.000 total time=   0.2s\n",
      "[CV 1/3] END learning_rate=0.010000000000000002, n_estimators=4;, score=0.000 total time=   0.4s\n",
      "[CV 2/3] END learning_rate=0.010000000000000002, n_estimators=4;, score=0.000 total time=   0.4s\n",
      "[CV 3/3] END learning_rate=0.010000000000000002, n_estimators=4;, score=0.000 total time=   0.5s\n",
      "[CV 1/3] END learning_rate=0.010000000000000002, n_estimators=8;, score=0.000 total time=   1.1s\n",
      "[CV 2/3] END learning_rate=0.010000000000000002, n_estimators=8;, score=0.000 total time=   1.0s\n",
      "[CV 3/3] END learning_rate=0.010000000000000002, n_estimators=8;, score=0.000 total time=   0.9s\n",
      "[CV 1/3] END learning_rate=0.010000000000000002, n_estimators=16;, score=0.765 total time=   2.2s\n",
      "[CV 2/3] END learning_rate=0.010000000000000002, n_estimators=16;, score=0.802 total time=   2.1s\n",
      "[CV 3/3] END learning_rate=0.010000000000000002, n_estimators=16;, score=0.757 total time=   2.2s\n",
      "[CV 1/3] END learning_rate=0.010000000000000002, n_estimators=32;, score=0.878 total time=   3.8s\n",
      "[CV 2/3] END learning_rate=0.010000000000000002, n_estimators=32;, score=0.860 total time=   4.2s\n",
      "[CV 3/3] END learning_rate=0.010000000000000002, n_estimators=32;, score=0.858 total time=   4.5s\n",
      "[CV 1/3] END learning_rate=0.010000000000000002, n_estimators=64;, score=0.881 total time=   8.9s\n",
      "[CV 2/3] END learning_rate=0.010000000000000002, n_estimators=64;, score=0.877 total time=   7.9s\n",
      "[CV 3/3] END learning_rate=0.010000000000000002, n_estimators=64;, score=0.877 total time=   8.9s\n",
      "[CV 1/3] END learning_rate=0.010000000000000002, n_estimators=128;, score=0.886 total time=  18.0s\n",
      "[CV 2/3] END learning_rate=0.010000000000000002, n_estimators=128;, score=0.886 total time=  16.7s\n",
      "[CV 3/3] END learning_rate=0.010000000000000002, n_estimators=128;, score=0.885 total time=  16.6s\n",
      "Лучшие гиперпараметры: {'learning_rate': 1.0, 'n_estimators': 128}\n",
      "Лучшее значение метрики: 0.9490976248659636\n"
     ]
    }
   ],
   "source": [
    "# ЗАДАНИЕ 6.9 (~5.30m)\n",
    "\n",
    "from sklearn.ensemble import GradientBoostingClassifier\n",
    "from sklearn.model_selection import GridSearchCV\n",
    "from sklearn.metrics import make_scorer\n",
    "\n",
    "model_for_gs = GradientBoostingClassifier()\n",
    "params = {\"n_estimators\":2**np.arange(8), \"learning_rate\":0.1**np.arange(3)}\n",
    "gs = GridSearchCV(model_for_gs, \n",
    "                  params, \n",
    "                  cv=3, \n",
    "                  scoring=make_scorer(f1_score),\n",
    "                  verbose=5)\n",
    " \n",
    "gs.fit(X_train, y_train)\n",
    " \n",
    "print(\"Лучшие гиперпараметры:\", gs.best_params_)\n",
    "print(\"Лучшее значение метрики:\", gs.best_score_)"
   ]
  },
  {
   "cell_type": "code",
   "execution_count": 15,
   "metadata": {},
   "outputs": [
    {
     "data": {
      "text/plain": [
       "0.9579785161685312"
      ]
     },
     "execution_count": 15,
     "metadata": {},
     "output_type": "execute_result"
    }
   ],
   "source": [
    "# ЗАДАНИЕ 6.10\n",
    "\n",
    "from xgboost import XGBClassifier\n",
    "\n",
    "model_xgb = XGBClassifier(random_state=26)\n",
    "model_xgb.fit(X_train,y_train)\n",
    "preds_test = model_xgb.predict(X_test)\n",
    "f1_score(preds_test, y_test)"
   ]
  },
  {
   "cell_type": "code",
   "execution_count": null,
   "metadata": {},
   "outputs": [],
   "source": [
    "# ЗАДАНИЕ 6.11\n",
    "\n",
    "from catboost import CatBoostClassifier, Pool\n",
    "\n",
    "model = CatBoostClassifier(random_state=26)\n",
    "model.fit(X_train, y_train)\n",
    "preds_class = model.predict(X_test)\n",
    "f1_score(preds_class, y_test)\n",
    "\n",
    "# 0.9598221728257851"
   ]
  },
  {
   "cell_type": "code",
   "execution_count": 1,
   "metadata": {},
   "outputs": [
    {
     "ename": "ModuleNotFoundError",
     "evalue": "No module named 'catboost'",
     "output_type": "error",
     "traceback": [
      "\u001b[1;31m---------------------------------------------------------------------------\u001b[0m",
      "\u001b[1;31mModuleNotFoundError\u001b[0m                       Traceback (most recent call last)",
      "\u001b[1;32mc:\\Личные документы\\Python\\Py\\Math&ML\\math&ml-9\\math&ml-9_practice.ipynb Cell 16\u001b[0m line \u001b[0;36m3\n\u001b[0;32m      <a href='vscode-notebook-cell:/c%3A/%D0%9B%D0%B8%D1%87%D0%BD%D1%8B%D0%B5%20%D0%B4%D0%BE%D0%BA%D1%83%D0%BC%D0%B5%D0%BD%D1%82%D1%8B/Python/Py/Math%26ML/math%26ml-9/math%26ml-9_practice.ipynb#X21sZmlsZQ%3D%3D?line=0'>1</a>\u001b[0m \u001b[39m# ЗАДАНИЕ 6.12\u001b[39;00m\n\u001b[1;32m----> <a href='vscode-notebook-cell:/c%3A/%D0%9B%D0%B8%D1%87%D0%BD%D1%8B%D0%B5%20%D0%B4%D0%BE%D0%BA%D1%83%D0%BC%D0%B5%D0%BD%D1%82%D1%8B/Python/Py/Math%26ML/math%26ml-9/math%26ml-9_practice.ipynb#X21sZmlsZQ%3D%3D?line=2'>3</a>\u001b[0m \u001b[39mfrom\u001b[39;00m \u001b[39mcatboost\u001b[39;00m\u001b[39m.\u001b[39;00m\u001b[39mutils\u001b[39;00m \u001b[39mimport\u001b[39;00m get_confusion_matrix\n\u001b[0;32m      <a href='vscode-notebook-cell:/c%3A/%D0%9B%D0%B8%D1%87%D0%BD%D1%8B%D0%B5%20%D0%B4%D0%BE%D0%BA%D1%83%D0%BC%D0%B5%D0%BD%D1%82%D1%8B/Python/Py/Math%26ML/math%26ml-9/math%26ml-9_practice.ipynb#X21sZmlsZQ%3D%3D?line=4'>5</a>\u001b[0m cm \u001b[39m=\u001b[39m get_confusion_matrix(model, Pool(X_train, y_train))\n",
      "\u001b[1;31mModuleNotFoundError\u001b[0m: No module named 'catboost'"
     ]
    }
   ],
   "source": [
    "# ЗАДАНИЕ 6.12\n",
    "\n",
    "from catboost.utils import get_confusion_matrix\n",
    "\n",
    "cm = get_confusion_matrix(model, Pool(X_train, y_train))\n",
    "\n",
    "# array([[46668.,   538.],\n",
    "#       [ 1255., 34662.]])"
   ]
  },
  {
   "cell_type": "code",
   "execution_count": 16,
   "metadata": {},
   "outputs": [
    {
     "ename": "NameError",
     "evalue": "name 'clf' is not defined",
     "output_type": "error",
     "traceback": [
      "\u001b[1;31m---------------------------------------------------------------------------\u001b[0m",
      "\u001b[1;31mNameError\u001b[0m                                 Traceback (most recent call last)",
      "\u001b[1;32mc:\\Личные документы\\Python\\Py\\Math&ML\\math&ml-9\\math&ml-9_practice.ipynb Cell 17\u001b[0m line \u001b[0;36m5\n\u001b[0;32m      <a href='vscode-notebook-cell:/c%3A/%D0%9B%D0%B8%D1%87%D0%BD%D1%8B%D0%B5%20%D0%B4%D0%BE%D0%BA%D1%83%D0%BC%D0%B5%D0%BD%D1%82%D1%8B/Python/Py/Math%26ML/math%26ml-9/math%26ml-9_practice.ipynb#X22sZmlsZQ%3D%3D?line=0'>1</a>\u001b[0m \u001b[39m# ЗАДАНИЕ 6.13\u001b[39;00m\n\u001b[0;32m      <a href='vscode-notebook-cell:/c%3A/%D0%9B%D0%B8%D1%87%D0%BD%D1%8B%D0%B5%20%D0%B4%D0%BE%D0%BA%D1%83%D0%BC%D0%B5%D0%BD%D1%82%D1%8B/Python/Py/Math%26ML/math%26ml-9/math%26ml-9_practice.ipynb#X22sZmlsZQ%3D%3D?line=2'>3</a>\u001b[0m pd\u001b[39m.\u001b[39mDataFrame(\n\u001b[0;32m      <a href='vscode-notebook-cell:/c%3A/%D0%9B%D0%B8%D1%87%D0%BD%D1%8B%D0%B5%20%D0%B4%D0%BE%D0%BA%D1%83%D0%BC%D0%B5%D0%BD%D1%82%D1%8B/Python/Py/Math%26ML/math%26ml-9/math%26ml-9_practice.ipynb#X22sZmlsZQ%3D%3D?line=3'>4</a>\u001b[0m     {\n\u001b[1;32m----> <a href='vscode-notebook-cell:/c%3A/%D0%9B%D0%B8%D1%87%D0%BD%D1%8B%D0%B5%20%D0%B4%D0%BE%D0%BA%D1%83%D0%BC%D0%B5%D0%BD%D1%82%D1%8B/Python/Py/Math%26ML/math%26ml-9/math%26ml-9_practice.ipynb#X22sZmlsZQ%3D%3D?line=4'>5</a>\u001b[0m         \u001b[39m\"\u001b[39m\u001b[39mfeature_importance\u001b[39m\u001b[39m\"\u001b[39m: clf\u001b[39m.\u001b[39mget_feature_importance(),\n\u001b[0;32m      <a href='vscode-notebook-cell:/c%3A/%D0%9B%D0%B8%D1%87%D0%BD%D1%8B%D0%B5%20%D0%B4%D0%BE%D0%BA%D1%83%D0%BC%D0%B5%D0%BD%D1%82%D1%8B/Python/Py/Math%26ML/math%26ml-9/math%26ml-9_practice.ipynb#X22sZmlsZQ%3D%3D?line=5'>6</a>\u001b[0m         \u001b[39m\"\u001b[39m\u001b[39mfeature_names\u001b[39m\u001b[39m\"\u001b[39m: df\u001b[39m.\u001b[39mdrop(columns\u001b[39m=\u001b[39m\u001b[39m\"\u001b[39m\u001b[39msatisfaction\u001b[39m\u001b[39m\"\u001b[39m)\u001b[39m.\u001b[39mcolumns,\n\u001b[0;32m      <a href='vscode-notebook-cell:/c%3A/%D0%9B%D0%B8%D1%87%D0%BD%D1%8B%D0%B5%20%D0%B4%D0%BE%D0%BA%D1%83%D0%BC%D0%B5%D0%BD%D1%82%D1%8B/Python/Py/Math%26ML/math%26ml-9/math%26ml-9_practice.ipynb#X22sZmlsZQ%3D%3D?line=6'>7</a>\u001b[0m     }\n\u001b[0;32m      <a href='vscode-notebook-cell:/c%3A/%D0%9B%D0%B8%D1%87%D0%BD%D1%8B%D0%B5%20%D0%B4%D0%BE%D0%BA%D1%83%D0%BC%D0%B5%D0%BD%D1%82%D1%8B/Python/Py/Math%26ML/math%26ml-9/math%26ml-9_practice.ipynb#X22sZmlsZQ%3D%3D?line=7'>8</a>\u001b[0m )\u001b[39m.\u001b[39msort_values(by\u001b[39m=\u001b[39m[\u001b[39m\"\u001b[39m\u001b[39mfeature_importance\u001b[39m\u001b[39m\"\u001b[39m], ascending\u001b[39m=\u001b[39m\u001b[39mFalse\u001b[39;00m)\n",
      "\u001b[1;31mNameError\u001b[0m: name 'clf' is not defined"
     ]
    }
   ],
   "source": [
    "# ЗАДАНИЕ 6.13\n",
    "\n",
    "pd.DataFrame(\n",
    "    {\n",
    "        \"feature_importance\": clf.get_feature_importance(),\n",
    "        \"feature_names\": df.drop(columns=\"satisfaction\").columns,\n",
    "    }\n",
    ").sort_values(by=[\"feature_importance\"], ascending=False)\n",
    "\n",
    "#"
   ]
  },
  {
   "cell_type": "markdown",
   "metadata": {},
   "source": [
    "***"
   ]
  },
  {
   "cell_type": "code",
   "execution_count": 17,
   "metadata": {},
   "outputs": [],
   "source": [
    "df = pd.read_csv('Frogs_MFCCs.zip')\n",
    "X = df.drop(['Family', 'Genus', 'Species', 'RecordID'], axis=1)\n",
    "y = df['Family'].apply(lambda x: 1 if x=='Dendrobatidae' else 0)"
   ]
  },
  {
   "cell_type": "code",
   "execution_count": 18,
   "metadata": {},
   "outputs": [
    {
     "data": {
      "text/plain": [
       "(1439,)"
      ]
     },
     "execution_count": 18,
     "metadata": {},
     "output_type": "execute_result"
    }
   ],
   "source": [
    "X_train, X_test, y_train, y_test = train_test_split(X, y, test_size = 0.2, random_state=31)\n",
    "y_test.shape"
   ]
  },
  {
   "cell_type": "code",
   "execution_count": 19,
   "metadata": {},
   "outputs": [
    {
     "data": {
      "text/plain": [
       "0.9726775956284154"
      ]
     },
     "execution_count": 19,
     "metadata": {},
     "output_type": "execute_result"
    }
   ],
   "source": [
    "# ЗАДАНИЕ 7.5\n",
    "\n",
    "from sklearn.ensemble import RandomForestClassifier\n",
    "\n",
    "model_rfc = RandomForestClassifier(10, random_state=42)\n",
    "model_rfc.fit(X_train, y_train)\n",
    "pred = model_rfc.predict(X_test)\n",
    "f1_score(y_test, pred)"
   ]
  },
  {
   "cell_type": "code",
   "execution_count": 20,
   "metadata": {},
   "outputs": [],
   "source": [
    "def is_numpy_c_ordered(X):\n",
    "    return hasattr(X, \"flags\") and X.flags.c_contiguous"
   ]
  },
  {
   "cell_type": "code",
   "execution_count": 21,
   "metadata": {},
   "outputs": [
    {
     "data": {
      "text/plain": [
       "0.989247311827957"
      ]
     },
     "execution_count": 21,
     "metadata": {},
     "output_type": "execute_result"
    }
   ],
   "source": [
    "# ЗАДАНИЕ 7.6\n",
    "\n",
    "from sklearn.ensemble import StackingClassifier\n",
    "from sklearn.neighbors import KNeighborsClassifier\n",
    "from sklearn.naive_bayes import GaussianNB\n",
    "\n",
    "estimators = [('rf', RandomForestClassifier(n_estimators=10, random_state=31)),\n",
    "              ('knn', KNeighborsClassifier(n_neighbors= 11)),\n",
    "              ('nb', GaussianNB() )               \n",
    "]\n",
    "metamodel = StackingClassifier(\n",
    "    estimators=estimators, final_estimator=LogisticRegression()\n",
    ")\n",
    "metamodel.fit(X_train, y_train)\n",
    "pred = metamodel.predict(X_test)\n",
    "f1_score(y_test, pred)"
   ]
  }
 ],
 "metadata": {
  "kernelspec": {
   "display_name": "base",
   "language": "python",
   "name": "python3"
  },
  "language_info": {
   "codemirror_mode": {
    "name": "ipython",
    "version": 3
   },
   "file_extension": ".py",
   "mimetype": "text/x-python",
   "name": "python",
   "nbconvert_exporter": "python",
   "pygments_lexer": "ipython3",
   "version": "3.10.9"
  },
  "orig_nbformat": 4
 },
 "nbformat": 4,
 "nbformat_minor": 2
}
