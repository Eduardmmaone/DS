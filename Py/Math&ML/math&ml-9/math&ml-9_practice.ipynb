{
 "cells": [
  {
   "cell_type": "code",
   "execution_count": 9,
   "metadata": {},
   "outputs": [],
   "source": [
    "import numpy as np\n",
    "import pandas as pd"
   ]
  },
  {
   "cell_type": "code",
   "execution_count": 10,
   "metadata": {},
   "outputs": [],
   "source": [
    "df = pd.read_csv('AirPass.zip')"
   ]
  },
  {
   "cell_type": "code",
   "execution_count": 11,
   "metadata": {},
   "outputs": [
    {
     "data": {
      "text/plain": [
       "310"
      ]
     },
     "execution_count": 11,
     "metadata": {},
     "output_type": "execute_result"
    }
   ],
   "source": [
    "# ЗАДАНИЕ 6.1\n",
    "\n",
    "df.isnull().sum().sum()"
   ]
  },
  {
   "cell_type": "code",
   "execution_count": 12,
   "metadata": {},
   "outputs": [
    {
     "data": {
      "text/plain": [
       "15.133392362180475"
      ]
     },
     "execution_count": 12,
     "metadata": {},
     "output_type": "execute_result"
    }
   ],
   "source": [
    "# ЗАДАНИЕ 6.2\n",
    "\n",
    "df['Arrival Delay in Minutes'] = df['Arrival Delay in Minutes'].fillna(df['Arrival Delay in Minutes'].median())\n",
    "df['Arrival Delay in Minutes'].mean()"
   ]
  },
  {
   "cell_type": "code",
   "execution_count": 13,
   "metadata": {},
   "outputs": [
    {
     "name": "stdout",
     "output_type": "stream",
     "text": [
      "Gender  satisfaction           \n",
      "Female  neutral or dissatisfied    29.058554\n",
      "        satisfied                  21.687327\n",
      "Male    neutral or dissatisfied    27.608177\n",
      "        satisfied                  21.645942\n",
      "Name: satisfaction, dtype: float64\n",
      "Type of Travel   satisfaction           \n",
      "Business travel  satisfied                  40.177472\n",
      "                 neutral or dissatisfied    28.785225\n",
      "Personal Travel  neutral or dissatisfied    27.881506\n",
      "                 satisfied                   3.155798\n",
      "Name: satisfaction, dtype: float64\n",
      "Class     satisfaction           \n",
      "Business  satisfied                  33.184478\n",
      "          neutral or dissatisfied    14.614452\n",
      "Eco       neutral or dissatisfied    36.614567\n",
      "          satisfied                   8.374076\n",
      "Eco Plus  neutral or dissatisfied     5.437712\n",
      "          satisfied                   1.774715\n",
      "Name: satisfaction, dtype: float64\n"
     ]
    }
   ],
   "source": [
    "# ЗАДАНИЕ 6.3\n",
    "\n",
    "print(df.groupby('Gender')['satisfaction'].value_counts()*100/df.shape[0])\n",
    "\n",
    "print(df.groupby('Type of Travel')['satisfaction'].value_counts()*100/df.shape[0])\n",
    "\n",
    "print(df.groupby('Class')['satisfaction'].value_counts()*100/df.shape[0])"
   ]
  },
  {
   "cell_type": "code",
   "execution_count": 14,
   "metadata": {},
   "outputs": [],
   "source": [
    "# чтобы сработало \n",
    " \n",
    "df['satisfaction'] = df['satisfaction'].map({'neutral or dissatisfied':0 , 'satisfied':1})\n",
    "df['Customer Type'] = df['Customer Type'].map({'Loyal Customer':1, 'disloyal Customer':0})\n",
    "df['Type of Travel'] = df['Type of Travel'].map({'Personal Travel':0, 'Business travel':1})\n",
    "df['Gender'] = df['Gender'].map({'Male': 0, 'Female': 1})"
   ]
  },
  {
   "cell_type": "code",
   "execution_count": 15,
   "metadata": {},
   "outputs": [
    {
     "data": {
      "text/plain": [
       "(103904, 27)"
      ]
     },
     "execution_count": 15,
     "metadata": {},
     "output_type": "execute_result"
    }
   ],
   "source": [
    "# ЗАДАНИЕ 6.4\n",
    "\n",
    "df=pd.get_dummies(df)\n",
    "df.shape"
   ]
  },
  {
   "cell_type": "code",
   "execution_count": 20,
   "metadata": {},
   "outputs": [],
   "source": [
    "# хз откуда взялась\n",
    "\n",
    "df = df.drop('Unnamed: 0', axis=1)"
   ]
  },
  {
   "cell_type": "code",
   "execution_count": 22,
   "metadata": {},
   "outputs": [
    {
     "data": {
      "text/plain": [
       "(20781,)"
      ]
     },
     "execution_count": 22,
     "metadata": {},
     "output_type": "execute_result"
    }
   ],
   "source": [
    "# ЗАДАНИЕ 6.5\n",
    "from sklearn.model_selection import train_test_split\n",
    "\n",
    "X = df.drop('satisfaction', axis=1)\n",
    "y = df['satisfaction']\n",
    "\n",
    "X_train, X_test, y_train, y_test = train_test_split(X, y, test_size = 0.2, random_state=26)\n",
    "y_test.shape"
   ]
  },
  {
   "cell_type": "code",
   "execution_count": 23,
   "metadata": {},
   "outputs": [
    {
     "data": {
      "text/plain": [
       "0.9408251379303"
      ]
     },
     "execution_count": 23,
     "metadata": {},
     "output_type": "execute_result"
    }
   ],
   "source": [
    "# ЗАДАНИЕ 6.6\n",
    "\n",
    "from sklearn.preprocessing import StandardScaler\n",
    "\n",
    "scaler = StandardScaler()\n",
    "scaler.fit(X_train) \n",
    "X_train = scaler.transform(X_train) \n",
    "X_test = scaler.transform(X_test) \n",
    "X_test[0][0]"
   ]
  },
  {
   "cell_type": "code",
   "execution_count": 25,
   "metadata": {},
   "outputs": [
    {
     "data": {
      "text/plain": [
       "0.8546883773161146"
      ]
     },
     "execution_count": 25,
     "metadata": {},
     "output_type": "execute_result"
    }
   ],
   "source": [
    "# ЗАДАНИЕ 6.7\n",
    "\n",
    "from sklearn.linear_model import LogisticRegression\n",
    "from sklearn.metrics import f1_score\n",
    "\n",
    "model_lr = LogisticRegression()\n",
    "model_lr.fit(X_train, y_train)\n",
    "preds_test = model_lr.predict(X_test)\n",
    "f1_score(preds_test, y_test)"
   ]
  },
  {
   "cell_type": "code",
   "execution_count": 26,
   "metadata": {},
   "outputs": [
    {
     "data": {
      "text/plain": [
       "0.9404794558121674"
      ]
     },
     "execution_count": 26,
     "metadata": {},
     "output_type": "execute_result"
    }
   ],
   "source": [
    "# ЗАДАНИЕ 6.8\n",
    "\n",
    "from sklearn.ensemble import AdaBoostClassifier\n",
    "from sklearn.tree import DecisionTreeClassifier\n",
    "\n",
    "model_ada = AdaBoostClassifier(DecisionTreeClassifier(random_state=26),random_state=26,learning_rate=0.01)\n",
    "\n",
    "model_ada.fit(X_train, y_train)\n",
    "preds_test = model_ada.predict(X_test)\n",
    "f1_score(preds_test, y_test)"
   ]
  },
  {
   "cell_type": "code",
   "execution_count": 27,
   "metadata": {},
   "outputs": [
    {
     "name": "stdout",
     "output_type": "stream",
     "text": [
      "Fitting 3 folds for each of 24 candidates, totalling 72 fits\n",
      "[CV 1/3] END .learning_rate=1.0, n_estimators=1;, score=0.873 total time=   0.1s\n",
      "[CV 2/3] END .learning_rate=1.0, n_estimators=1;, score=0.870 total time=   0.1s\n",
      "[CV 3/3] END .learning_rate=1.0, n_estimators=1;, score=0.871 total time=   0.1s\n",
      "[CV 1/3] END .learning_rate=1.0, n_estimators=2;, score=0.880 total time=   0.3s\n",
      "[CV 2/3] END .learning_rate=1.0, n_estimators=2;, score=0.878 total time=   0.2s\n",
      "[CV 3/3] END .learning_rate=1.0, n_estimators=2;, score=0.875 total time=   0.2s\n",
      "[CV 1/3] END .learning_rate=1.0, n_estimators=4;, score=0.901 total time=   0.5s\n",
      "[CV 2/3] END .learning_rate=1.0, n_estimators=4;, score=0.896 total time=   0.6s\n",
      "[CV 3/3] END .learning_rate=1.0, n_estimators=4;, score=0.897 total time=   0.5s\n",
      "[CV 1/3] END .learning_rate=1.0, n_estimators=8;, score=0.920 total time=   1.2s\n",
      "[CV 2/3] END .learning_rate=1.0, n_estimators=8;, score=0.920 total time=   1.2s\n",
      "[CV 3/3] END .learning_rate=1.0, n_estimators=8;, score=0.919 total time=   1.3s\n",
      "[CV 1/3] END learning_rate=1.0, n_estimators=16;, score=0.935 total time=   2.7s\n",
      "[CV 2/3] END learning_rate=1.0, n_estimators=16;, score=0.938 total time=   2.2s\n",
      "[CV 3/3] END learning_rate=1.0, n_estimators=16;, score=0.933 total time=   2.1s\n",
      "[CV 1/3] END learning_rate=1.0, n_estimators=32;, score=0.943 total time=   4.8s\n",
      "[CV 2/3] END learning_rate=1.0, n_estimators=32;, score=0.945 total time=   4.0s\n",
      "[CV 3/3] END learning_rate=1.0, n_estimators=32;, score=0.944 total time=   4.4s\n",
      "[CV 1/3] END learning_rate=1.0, n_estimators=64;, score=0.947 total time=   9.7s\n",
      "[CV 2/3] END learning_rate=1.0, n_estimators=64;, score=0.947 total time=   8.9s\n",
      "[CV 3/3] END learning_rate=1.0, n_estimators=64;, score=0.948 total time=   9.9s\n",
      "[CV 1/3] END learning_rate=1.0, n_estimators=128;, score=0.949 total time=  21.4s\n",
      "[CV 2/3] END learning_rate=1.0, n_estimators=128;, score=0.949 total time=  17.7s\n",
      "[CV 3/3] END learning_rate=1.0, n_estimators=128;, score=0.949 total time=  16.9s\n",
      "[CV 1/3] END .learning_rate=0.1, n_estimators=1;, score=0.000 total time=   0.1s\n",
      "[CV 2/3] END .learning_rate=0.1, n_estimators=1;, score=0.000 total time=   0.1s\n",
      "[CV 3/3] END .learning_rate=0.1, n_estimators=1;, score=0.000 total time=   0.1s\n",
      "[CV 1/3] END .learning_rate=0.1, n_estimators=2;, score=0.765 total time=   0.2s\n",
      "[CV 2/3] END .learning_rate=0.1, n_estimators=2;, score=0.802 total time=   0.2s\n",
      "[CV 3/3] END .learning_rate=0.1, n_estimators=2;, score=0.794 total time=   0.3s\n",
      "[CV 1/3] END .learning_rate=0.1, n_estimators=4;, score=0.880 total time=   0.5s\n",
      "[CV 2/3] END .learning_rate=0.1, n_estimators=4;, score=0.880 total time=   0.5s\n",
      "[CV 3/3] END .learning_rate=0.1, n_estimators=4;, score=0.878 total time=   0.5s\n",
      "[CV 1/3] END .learning_rate=0.1, n_estimators=8;, score=0.881 total time=   1.0s\n",
      "[CV 2/3] END .learning_rate=0.1, n_estimators=8;, score=0.878 total time=   1.0s\n",
      "[CV 3/3] END .learning_rate=0.1, n_estimators=8;, score=0.881 total time=   0.9s\n",
      "[CV 1/3] END learning_rate=0.1, n_estimators=16;, score=0.886 total time=   2.1s\n",
      "[CV 2/3] END learning_rate=0.1, n_estimators=16;, score=0.887 total time=   2.0s\n",
      "[CV 3/3] END learning_rate=0.1, n_estimators=16;, score=0.889 total time=   2.0s\n",
      "[CV 1/3] END learning_rate=0.1, n_estimators=32;, score=0.914 total time=   3.9s\n",
      "[CV 2/3] END learning_rate=0.1, n_estimators=32;, score=0.919 total time=   3.9s\n",
      "[CV 3/3] END learning_rate=0.1, n_estimators=32;, score=0.910 total time=   3.9s\n",
      "[CV 1/3] END learning_rate=0.1, n_estimators=64;, score=0.928 total time=   7.7s\n",
      "[CV 2/3] END learning_rate=0.1, n_estimators=64;, score=0.929 total time=   8.1s\n",
      "[CV 3/3] END learning_rate=0.1, n_estimators=64;, score=0.929 total time=   7.8s\n",
      "[CV 1/3] END learning_rate=0.1, n_estimators=128;, score=0.939 total time=  16.2s\n",
      "[CV 2/3] END learning_rate=0.1, n_estimators=128;, score=0.938 total time=  16.7s\n",
      "[CV 3/3] END learning_rate=0.1, n_estimators=128;, score=0.938 total time=  16.8s\n",
      "[CV 1/3] END learning_rate=0.010000000000000002, n_estimators=1;, score=0.000 total time=   0.1s\n",
      "[CV 2/3] END learning_rate=0.010000000000000002, n_estimators=1;, score=0.000 total time=   0.1s\n",
      "[CV 3/3] END learning_rate=0.010000000000000002, n_estimators=1;, score=0.000 total time=   0.2s\n",
      "[CV 1/3] END learning_rate=0.010000000000000002, n_estimators=2;, score=0.000 total time=   0.2s\n",
      "[CV 2/3] END learning_rate=0.010000000000000002, n_estimators=2;, score=0.000 total time=   0.2s\n",
      "[CV 3/3] END learning_rate=0.010000000000000002, n_estimators=2;, score=0.000 total time=   0.2s\n",
      "[CV 1/3] END learning_rate=0.010000000000000002, n_estimators=4;, score=0.000 total time=   0.4s\n",
      "[CV 2/3] END learning_rate=0.010000000000000002, n_estimators=4;, score=0.000 total time=   0.4s\n",
      "[CV 3/3] END learning_rate=0.010000000000000002, n_estimators=4;, score=0.000 total time=   0.4s\n",
      "[CV 1/3] END learning_rate=0.010000000000000002, n_estimators=8;, score=0.000 total time=   1.0s\n",
      "[CV 2/3] END learning_rate=0.010000000000000002, n_estimators=8;, score=0.000 total time=   1.1s\n",
      "[CV 3/3] END learning_rate=0.010000000000000002, n_estimators=8;, score=0.000 total time=   1.3s\n",
      "[CV 1/3] END learning_rate=0.010000000000000002, n_estimators=16;, score=0.765 total time=   2.1s\n",
      "[CV 2/3] END learning_rate=0.010000000000000002, n_estimators=16;, score=0.802 total time=   1.9s\n",
      "[CV 3/3] END learning_rate=0.010000000000000002, n_estimators=16;, score=0.757 total time=   2.1s\n",
      "[CV 1/3] END learning_rate=0.010000000000000002, n_estimators=32;, score=0.878 total time=   3.9s\n",
      "[CV 2/3] END learning_rate=0.010000000000000002, n_estimators=32;, score=0.860 total time=   3.9s\n",
      "[CV 3/3] END learning_rate=0.010000000000000002, n_estimators=32;, score=0.858 total time=   3.9s\n",
      "[CV 1/3] END learning_rate=0.010000000000000002, n_estimators=64;, score=0.881 total time=   7.8s\n",
      "[CV 2/3] END learning_rate=0.010000000000000002, n_estimators=64;, score=0.877 total time=   7.9s\n",
      "[CV 3/3] END learning_rate=0.010000000000000002, n_estimators=64;, score=0.877 total time=   7.7s\n",
      "[CV 1/3] END learning_rate=0.010000000000000002, n_estimators=128;, score=0.886 total time=  15.4s\n",
      "[CV 2/3] END learning_rate=0.010000000000000002, n_estimators=128;, score=0.886 total time=  15.2s\n",
      "[CV 3/3] END learning_rate=0.010000000000000002, n_estimators=128;, score=0.885 total time=  16.8s\n",
      "Лучшие гиперпараметры: {'learning_rate': 1.0, 'n_estimators': 128}\n",
      "Лучшее значение метрики: 0.9491404840672043\n"
     ]
    }
   ],
   "source": [
    "# ЗАДАНИЕ 6.9\n",
    "\n",
    "from sklearn.ensemble import GradientBoostingClassifier\n",
    "from sklearn.model_selection import GridSearchCV\n",
    "from sklearn.metrics import make_scorer\n",
    "\n",
    "model_for_gs = GradientBoostingClassifier()\n",
    "params = {\"n_estimators\":2**np.arange(8), \"learning_rate\":0.1**np.arange(3)}\n",
    "gs = GridSearchCV(model_for_gs, \n",
    "                  params, \n",
    "                  cv=3, \n",
    "                  scoring=make_scorer(f1_score),\n",
    "                  verbose=5)\n",
    " \n",
    "gs.fit(X_train, y_train)\n",
    " \n",
    "print(\"Лучшие гиперпараметры:\", gs.best_params_)\n",
    "print(\"Лучшее значение метрики:\", gs.best_score_)"
   ]
  },
  {
   "cell_type": "code",
   "execution_count": 28,
   "metadata": {},
   "outputs": [
    {
     "data": {
      "text/plain": [
       "0.9579785161685312"
      ]
     },
     "execution_count": 28,
     "metadata": {},
     "output_type": "execute_result"
    }
   ],
   "source": [
    "# ЗАДАНИЕ 6.10\n",
    "\n",
    "from xgboost import XGBClassifier\n",
    "\n",
    "model_xgb = XGBClassifier(random_state=26)\n",
    "model_xgb.fit(X_train,y_train)\n",
    "preds_test = model_xgb.predict(X_test)\n",
    "f1_score(preds_test, y_test)"
   ]
  },
  {
   "cell_type": "code",
   "execution_count": null,
   "metadata": {},
   "outputs": [],
   "source": [
    "# ЗАДАНИЕ 6.11\n",
    "\n",
    "from catboost import CatBoostClassifier, Pool\n",
    "\n",
    "model = CatBoostClassifier(random_state=26)\n",
    "model.fit(X_train, y_train)\n",
    "preds_class = model.predict(X_test)\n",
    "f1_score(preds_class, y_test)\n",
    "\n",
    "# 0.9598221728257851"
   ]
  },
  {
   "cell_type": "code",
   "execution_count": null,
   "metadata": {},
   "outputs": [],
   "source": [
    "# ЗАДАНИЕ 6.12\n",
    "\n",
    "from catboost.utils import get_confusion_matrix\n",
    "\n",
    "cm = get_confusion_matrix(model, Pool(X_train, y_train))\n",
    "\n",
    "# array([[46668.,   538.],\n",
    "#       [ 1255., 34662.]])"
   ]
  },
  {
   "cell_type": "code",
   "execution_count": null,
   "metadata": {},
   "outputs": [],
   "source": [
    "# ЗАДАНИЕ 6.13\n",
    "\n",
    "pd.DataFrame(\n",
    "    {\n",
    "        \"feature_importance\": clf.get_feature_importance(),\n",
    "        \"feature_names\": df.drop(columns=\"satisfaction\").columns,\n",
    "    }\n",
    ").sort_values(by=[\"feature_importance\"], ascending=False)\n",
    "\n",
    "#"
   ]
  },
  {
   "cell_type": "markdown",
   "metadata": {},
   "source": [
    "***"
   ]
  },
  {
   "cell_type": "code",
   "execution_count": 46,
   "metadata": {},
   "outputs": [],
   "source": [
    "df = pd.read_csv('Frogs_MFCCs.zip')\n",
    "X = df.drop(['Family', 'Genus', 'Species', 'RecordID'], axis=1)\n",
    "y = df['Family'].apply(lambda x: 1 if x=='Dendrobatidae' else 0)"
   ]
  },
  {
   "cell_type": "code",
   "execution_count": 47,
   "metadata": {},
   "outputs": [
    {
     "data": {
      "text/plain": [
       "(1439,)"
      ]
     },
     "execution_count": 47,
     "metadata": {},
     "output_type": "execute_result"
    }
   ],
   "source": [
    "X_train, X_test, y_train, y_test = train_test_split(X, y, test_size = 0.2, random_state=31)\n",
    "y_test.shape"
   ]
  },
  {
   "cell_type": "code",
   "execution_count": 48,
   "metadata": {},
   "outputs": [
    {
     "data": {
      "text/plain": [
       "0.9726775956284154"
      ]
     },
     "execution_count": 48,
     "metadata": {},
     "output_type": "execute_result"
    }
   ],
   "source": [
    "# ЗАДАНИЕ 7.5\n",
    "\n",
    "from sklearn.ensemble import RandomForestClassifier\n",
    "\n",
    "model_rfc = RandomForestClassifier(10, random_state=42)\n",
    "model_rfc.fit(X_train, y_train)\n",
    "pred = model_rfc.predict(X_test)\n",
    "f1_score(y_test, pred)"
   ]
  },
  {
   "cell_type": "code",
   "execution_count": 49,
   "metadata": {},
   "outputs": [],
   "source": [
    "def is_numpy_c_ordered(X):\n",
    "    return hasattr(X, \"flags\") and X.flags.c_contiguous"
   ]
  },
  {
   "cell_type": "code",
   "execution_count": 50,
   "metadata": {},
   "outputs": [
    {
     "data": {
      "text/plain": [
       "0.989247311827957"
      ]
     },
     "execution_count": 50,
     "metadata": {},
     "output_type": "execute_result"
    }
   ],
   "source": [
    "# ЗАДАНИЕ 7.6\n",
    "\n",
    "from sklearn.ensemble import StackingClassifier\n",
    "from sklearn.neighbors import KNeighborsClassifier\n",
    "from sklearn.naive_bayes import GaussianNB\n",
    "\n",
    "estimators = [('rf', RandomForestClassifier(n_estimators=10, random_state=31)),\n",
    "              ('knn', KNeighborsClassifier(n_neighbors= 11)),\n",
    "              ('nb', GaussianNB() )               \n",
    "]\n",
    "metamodel = StackingClassifier(\n",
    "    estimators=estimators, final_estimator=LogisticRegression()\n",
    ")\n",
    "metamodel.fit(X_train, y_train)\n",
    "pred = metamodel.predict(X_test)\n",
    "f1_score(y_test, pred)"
   ]
  }
 ],
 "metadata": {
  "kernelspec": {
   "display_name": "base",
   "language": "python",
   "name": "python3"
  },
  "language_info": {
   "codemirror_mode": {
    "name": "ipython",
    "version": 3
   },
   "file_extension": ".py",
   "mimetype": "text/x-python",
   "name": "python",
   "nbconvert_exporter": "python",
   "pygments_lexer": "ipython3",
   "version": "3.10.9"
  },
  "orig_nbformat": 4
 },
 "nbformat": 4,
 "nbformat_minor": 2
}
