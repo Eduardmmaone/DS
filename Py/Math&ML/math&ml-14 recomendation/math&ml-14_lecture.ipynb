{
 "cells": [
  {
   "attachments": {},
   "cell_type": "markdown",
   "metadata": {},
   "source": [
    "# MATH&ML-14 Рекомендательные системы. Част I\n",
    "###  Содержание <a class=\"anchor\" id=0></a>\n",
    "\n",
    "- [2. Подходы к построению. Примеры](#2)\n",
    "- [3. Данные для рекомендательных систем](#3)\n",
    "- [4. Метрики в рекомендательных системах](#4)\n",
    "- [5. Проблема холодного старта](#5)\n",
    "- [6. Практика](#6)\n",
    "- [7. Итоги](#7)"
   ]
  },
  {
   "attachments": {},
   "cell_type": "markdown",
   "metadata": {},
   "source": [
    "## 2. Подходы к построению. Примеры <a class=\"anchor\" id=2></a>\n",
    "\n",
    "[к содержанию](#0)"
   ]
  },
  {
   "attachments": {},
   "cell_type": "markdown",
   "metadata": {},
   "source": [
    "<img src= ml14_img1.png width=1000>\n",
    "\n",
    "\n",
    "### Неперсонализированные (Non-personalized)\n",
    "\n",
    "Этот вид рекомендательных систем никак не зависит от действий и характеристик конкретного пользователя.\n",
    "***\n",
    "\n",
    "### На основе популярности (Popularity-based)\n",
    "\n",
    "Рекомендации могут быть основаны на популярности: пользователям рекомендуют наиболее востребованные продукты, например топ-10 фильмов, самые продаваемые книги/товары.\n",
    "\n",
    "Именно по такому принципу будет построена ваша первая рекомендательная система, которую мы реализуем уже в этом модуле.\n",
    "***\n",
    "### Персонализированные (Personalized) \n",
    "Такие рекомендательные системы базируются на детальном анализе данных пользователей, изучении их действий, покупок, взаимодействия с другими пользователями. Таким образом, каждый человек получает индивидуальную рекомендацию конкретно под его особенности и предпочтения.\n",
    "\n",
    "Наиболее популярными типами персонализированных рекомендательных систем являются системы, основанные на контенте (`content-based`) и коллаборативной фильтрации (`collaborative filtering`).\n",
    "***"
   ]
  },
  {
   "attachments": {},
   "cell_type": "markdown",
   "metadata": {},
   "source": [
    "### На основе контента (Content-based)\n",
    "\n",
    "Рекомендательные системы на основе контента используют метаданные (дополнительные данные о данных) о товарах или пользователях для создания конкретных рекомендаций. Например, если пользователь уже читал книгу одного автора или покупал товар определённой марки, то предполагается, что он отдаёт предпочтение этому автору или этой марке, и существует вероятность, что он купит аналогичный товар в будущем.\n",
    "\n",
    "Предположим, пользователю Ане нравятся научно-фантастические книги, и её любимый писатель — Уолтер Джон Уильямс. Если она прочитала книгу \"Aristoi\", то рекомендуемой ей книгой будет \"Angel Station\" — ещё одна научно-фантастическая книга, написанная Уолтером Джоном Уильямсом.\n",
    "\n",
    "<img src= ml14_img2.png width=400>\n",
    "\n",
    "*** \n",
    "### Коллаборативная фильтрация (Collaborative Filtering)\n",
    "\n",
    "Идея коллаборативной фильтрации проста: поведение группы пользователей применяется для составления рекомендаций другим пользователям. К примеру, если пользователь предпочитает фильмы ужасов, то ему можно посоветовать те фильмы, которые понравились другим поклонникам жанра «хоррор».\n",
    "\n",
    "Поскольку рекомендации основаны на предпочтениях других пользователей, они называются коллаборативными. \n",
    "\n",
    "Существует два типа коллаборативной фильтрации: на основе памяти (`memory-based`)  и на основе модели (`model-based`).\n",
    "***"
   ]
  },
  {
   "attachments": {},
   "cell_type": "markdown",
   "metadata": {},
   "source": [
    "### Гибридные (Hybrid)\n",
    "\n",
    "Такие системы представляют собой комбинацию нескольких РС. Предполагается, что сочетание нескольких методов даст лучшие результаты по сравнению с одним алгоритмом.\n",
    "***\n",
    "### На основе памяти (Memory-based)\n",
    "\n",
    "Методы, основанные на памяти, применяются сразу ко всем накопленным данным. Они просты в реализации, а получаемые рекомендации, как правило, легко объяснить.\n",
    "\n",
    "Такой рекомендательной системе необходимо каждый раз делать прогнозы по всем данным, что замедляет её работу.\n",
    "\n",
    "Важная особенность этого метода — здесь не составляются модели, как при решении задач машинного обучения.\n",
    "\n",
    "Существует два типа memory-based-методов: коллаборативная фильтрация на основе пользователей (`user-based`) и коллаборативная фильтрация на основе элементов (`item-based`).\n",
    "***\n",
    "### На основе пользователей (User-based)\n",
    "\n",
    "Такая система работает по принципу «Пользователям, похожим на вас, также понравилось…». Продукты рекомендуются пользователю на основании того, что они были куплены/понравились пользователям, похожим на наблюдаемого пользователя.\n",
    "\n",
    "Как определить, что пользователи похожи? Например, Дженни и Том любят научно-фантастические книги. Когда появляется новая научно-фантастическая книга и Дженни её покупает, мы можем рекомендовать книгу, которую купила Дженни, Тому, так как он тоже любит научно-фантастические книги.\n",
    "\n",
    "<img src=ml14_img3.png width=600>\n",
    "\n",
    "***\n",
    "\n",
    "### На основе элементов (Item-based)\n",
    "\n",
    "Такая система работает по принципу «Пользователям, которым понравился этот элемент, также понравились...».\n",
    "\n",
    "Если Джон, Роберт и Дженни поставили научно-фантастическим книгам «451° по Фаренгейту» и «Машина времени» по пять звёзд, то, когда Том купит книгу «451° по Фаренгейту», книга «Машина времени» также будет ему рекомендована, поскольку система определила эти книги как похожие на основе оценок пользователей.\n",
    "\n",
    "<img src=ml14_img4.png width=600>\n",
    "\n",
    "***\n"
   ]
  },
  {
   "cell_type": "markdown",
   "metadata": {},
   "source": [
    "\n",
    "### На основе моделей (Model-based)\n",
    "\n",
    "Такая рекомендательная система создаётся на основе модели, а не всех имеющихся данных, что ускоряет работу системы.\n",
    "\n",
    "При таком подходе достигается лучшая масштабируемость, а также часто используется снижение размерности.\n",
    "\n",
    "Наиболее известный вид РС, основанной на моделях — матричная факторизация.\n",
    "***"
   ]
  },
  {
   "attachments": {},
   "cell_type": "markdown",
   "metadata": {},
   "source": [
    "### Матричная факторизация (Matrix Factorization)\n",
    "\n",
    "Если от пользователя поступила обратная связь (например, он посмотрел определённый фильм/прочитал определённую книгу и поставил оценку), её можно представить в виде матрицы, где каждая строка представляет определённого пользователя, а каждый столбец — определённый элемент. Поскольку практически невозможно, чтобы пользователь оценил каждый элемент, эта матрица будет иметь много незаполненных значений, то есть, она будет разрежённой.\n",
    "\n",
    "Методы матричной факторизации используются для нахождения набора латентных факторов и определения предпочтений пользователей с помощью этих факторов. Латентные факторы иначе называются признаками — это информация, которая не выражена в наборе данных явным образом. Например, может быть латентный фактор, который отражает любовь пользователя к мелодрамам, и это будет явным образом выражаться в конкретных оценках и поведении пользователя на платформе.\n",
    "\n",
    "Матрица оценок является произведением двух меньших матриц — матрицы «элемент-характеристика» (например, фильм и его жанр) и матрицы «пользователь-характеристика» (к примеру, это может быть показатель любви пользователя к фильмам с неожиданным концом).\n",
    "\n",
    "<img src=ml14_img5.png width=600>\n",
    "\n",
    "На иллюстрации выше показана матрица, где для каждой книги есть рейтинг соответствия некоторому жанру (т. е. матрица «элемент-характеристика»), и матрица, где для каждого пользователя отмечено, предпочитает ли он этот жанр (т. е. матрица «пользователь-характеристика»). В итоге получается матрица, в которой отображено отношение пользователей к книгам.\n",
    "***"
   ]
  },
  {
   "attachments": {},
   "cell_type": "markdown",
   "metadata": {},
   "source": [
    "### Amazon\n",
    "\n",
    "<img src=ml14_img6.png width=600>\n",
    "\n",
    "Amazon использует на своём сайте рекомендации в качестве целевого маркетингового инструмента. Когда клиент нажимает на ссылку «Ваши рекомендации», то попадает на другую страницу, где рекомендации могут быть дополнительно отфильтрованы по тематике, типам товаров и рейтингам предыдущих товаров и покупок. Покупатель может даже увидеть, почему тот или иной товар был ему рекомендован.\n",
    "\n",
    "Для создания рекомендаций на Amazon используется коллаборативная фильтрация. В данном случае она не просто подбирает каждому потребителю похожие товары, но также связывает покупку каждого пользователя с похожими товарами и составляет на этой основе список рекомендаций. Например, если вы увлекаетесь новейшими технологиями, на странице с рекомендациями Amazon вам могут предложить новейшие устройства и гаджеты, а если ваш конёк — кулинария, то вы наверняка найдёте множество рекомендаций по книгам рецептов и посуде."
   ]
  },
  {
   "attachments": {},
   "cell_type": "markdown",
   "metadata": {},
   "source": [
    "***\n",
    "### SPOTIFY\n",
    "\n",
    "<img src=ml14_img7.png width=600>\n",
    "\n",
    "Яркий пример применения возможностей искусственного интеллекта и рекомендательных систем — популярные плейлисты Release Radar и Discover Weekly на Spotify.\n",
    "\n",
    "Алгоритм плейлиста Release Radar еженедельно обновляет персональные плейлисты, чтобы пользователи не пропустили недавно вышедшие треки понравившихся им исполнителей. Release Radar ориентируется не на последние прослушанные песни, а на уже сохранённые треки и исполнителей в целом.\n",
    "\n",
    "В Discover Weekly пользователю предлагается музыка на основе последних прослушанных им композиций. Его алгоритм изучает два миллиарда плейлистов, созданных пользователями. Затем Spotify сопоставляет эту информацию с собственными плейлистами компании и заполняет пробелы, сравнивая привычки пользователя с привычками пользователей со схожими музыкальными вкусами. Чтобы улучшить еженедельные подборки, этот подход также использует коллаборативную фильтрацию в сочетании с глубоким обучением для выявления закономерностей в огромном объёме данных.\n",
    "\n",
    "Новая система рекомендаций помогла Spotify увеличить количество уникальных пользователей сервиса с 75 до 100 миллионов в месяц."
   ]
  },
  {
   "attachments": {},
   "cell_type": "markdown",
   "metadata": {},
   "source": [
    "***\n",
    "### YOUTUBE\n",
    "\n",
    "<img src=ml14_img8.png width=600>\n",
    "\n",
    "Онлайн-видеосообщество YouTube использует РС для создания персонализированных рекомендаций, чтобы пользователи могли быстро и легко находить видеоролики, соответствующие их интересам.\n",
    "\n",
    "Учитывая важность привлечения пользователей, YouTube стремится регулярно обновлять рекомендации, чтобы отразить активность каждого пользователя на сайте и одновременно подчеркнуть широкий спектр доступного контента.\n",
    "\n",
    "Рекомендательная система YouTube работает на основе проекта искусственного интеллекта Google Brain и состоит из двух нейронных сетей:\n",
    "\n",
    "1. Первая собирает и обобщает информацию об истории просмотров пользователей и применяет коллаборативную фильтрацию для отбора сотен видео. Этот процесс, известный как генерация кандидатов, использует отзывы пользователей для обучения модели.\n",
    "\n",
    "2. Вторая нейронная сеть ранжирует отобранные видео, чтобы сформировать рекомендации для пользователей.\n",
    "\n",
    ">По данным YouTube, после внедрения рекомендательных систем на долю рекомендаций приходится около 60 % кликов на видео с главной страницы."
   ]
  },
  {
   "attachments": {},
   "cell_type": "markdown",
   "metadata": {},
   "source": [
    "## 3. Данные для рекомендательных систем <a class=\"anchor\" id=3></a>\n",
    "\n",
    "[к содержанию](#0)"
   ]
  },
  {
   "attachments": {},
   "cell_type": "markdown",
   "metadata": {},
   "source": [
    "## 4. Метрики в рекомендательных системах <a class=\"anchor\" id=4></a>\n",
    "\n",
    "[к содержанию](#0)"
   ]
  },
  {
   "attachments": {},
   "cell_type": "markdown",
   "metadata": {},
   "source": [
    "## 5. Проблема холодного старта <a class=\"anchor\" id=5></a>\n",
    "\n",
    "[к содержанию](#0)"
   ]
  },
  {
   "attachments": {},
   "cell_type": "markdown",
   "metadata": {},
   "source": [
    "## 6. Практика <a class=\"anchor\" id=6></a>\n",
    "\n",
    "[к содержанию](#0)"
   ]
  },
  {
   "cell_type": "code",
   "execution_count": 14,
   "metadata": {},
   "outputs": [],
   "source": [
    "import pandas as pd\n",
    "import numpy as np"
   ]
  },
  {
   "cell_type": "code",
   "execution_count": 21,
   "metadata": {},
   "outputs": [],
   "source": [
    "articles_df = pd.read_csv('/home/aubakirov/Py/Python-2/Python/Py/Math&ML/math&ml-14 recomendation/shared_articles.csv')\n",
    "interactions_df = pd.read_csv('/home/aubakirov/Py/Python-2/Python/Py/Math&ML/math&ml-14 recomendation/users_interactions.csv')"
   ]
  },
  {
   "cell_type": "code",
   "execution_count": 22,
   "metadata": {},
   "outputs": [
    {
     "data": {
      "text/plain": [
       "(3047, 13)"
      ]
     },
     "execution_count": 22,
     "metadata": {},
     "output_type": "execute_result"
    }
   ],
   "source": [
    "# ЗАДАНИЕ 6.1\n",
    "\n",
    "articles_df = pd.read_csv('shared_articles.csv')\n",
    "articles_df = articles_df[articles_df['eventType'] == 'CONTENT SHARED']\n",
    "articles_df.shape"
   ]
  },
  {
   "cell_type": "code",
   "execution_count": 23,
   "metadata": {},
   "outputs": [
    {
     "data": {
      "text/plain": [
       "1.2362885828078327"
      ]
     },
     "execution_count": 23,
     "metadata": {},
     "output_type": "execute_result"
    }
   ],
   "source": [
    "# ЗАДАНИЕ 6.2\n",
    "\n",
    "interactions_df = pd.read_csv('users_interactions.csv')\n",
    "interactions_df.personId = interactions_df.personId.astype(str)\n",
    "interactions_df.contentId = interactions_df.contentId.astype(str)\n",
    "articles_df.contentId = articles_df.contentId.astype(str)\n",
    "event_type_strength = {\n",
    "   'VIEW': 1.0,\n",
    "   'LIKE': 2.0, \n",
    "   'BOOKMARK': 2.5, \n",
    "   'FOLLOW': 3.0,\n",
    "   'COMMENT CREATED': 4.0,  \n",
    "}\n",
    "interactions_df['eventStrength'] = interactions_df.eventType.apply(lambda x: event_type_strength[x])\n",
    "interactions_df['eventStrength'].mean()"
   ]
  },
  {
   "cell_type": "code",
   "execution_count": 24,
   "metadata": {},
   "outputs": [
    {
     "name": "stdout",
     "output_type": "stream",
     "text": [
      "1140\n"
     ]
    }
   ],
   "source": [
    "# ЗАДАНИЕ 6.3\n",
    "\n",
    "users_interactions_count_df = (\n",
    "    interactions_df\n",
    "    .groupby(['personId', 'contentId'])\n",
    "    .first()\n",
    "    .reset_index()\n",
    "    .groupby('personId').size())\n",
    "\n",
    "users_with_enough_interactions_df = \\\n",
    "    users_interactions_count_df[users_interactions_count_df >= 5].reset_index()[['personId']]\n",
    "\n",
    "print(len(users_with_enough_interactions_df))"
   ]
  },
  {
   "cell_type": "code",
   "execution_count": 25,
   "metadata": {},
   "outputs": [
    {
     "name": "stdout",
     "output_type": "stream",
     "text": [
      "(69868, 9)\n"
     ]
    }
   ],
   "source": [
    "# ЗАДАНИЕ 6.4\n",
    "\n",
    "interactions_from_selected_users_df = interactions_df.loc[np.in1d(interactions_df.personId,\n",
    "            users_with_enough_interactions_df)]\n",
    "print(interactions_from_selected_users_df.shape)"
   ]
  },
  {
   "cell_type": "code",
   "execution_count": 40,
   "metadata": {},
   "outputs": [
    {
     "data": {
      "text/plain": [
       "1470605340.0403006"
      ]
     },
     "execution_count": 40,
     "metadata": {},
     "output_type": "execute_result"
    }
   ],
   "source": [
    "# ЗАДАНИЕ 6.5\n",
    "import math\n",
    " \n",
    "def smooth_user_preference(x):\n",
    "    return math.log(1+x, 2)\n",
    "    \n",
    "interactions_full_df = (\n",
    "    interactions_from_selected_users_df\n",
    "    .groupby(['personId', 'contentId'], as_index=False)['eventStrength'].sum()\n",
    ")\n",
    "interactions_full_df['eventStrength'] = interactions_full_df['eventStrength'].apply(smooth_user_preference)\n",
    "\n",
    "# блок чуть исправлена\n",
    "interactions_full_df['last_timestamp'] = (\n",
    "    interactions_from_selected_users_df\n",
    "    .groupby(['personId', 'contentId'], as_index=False)['timestamp'].max()\n",
    ")['timestamp']\n",
    "        \n",
    "interactions_full_df = interactions_full_df.reset_index()\n",
    "interactions_full_df['last_timestamp'].mean()"
   ]
  },
  {
   "cell_type": "code",
   "execution_count": 42,
   "metadata": {},
   "outputs": [
    {
     "name": "stdout",
     "output_type": "stream",
     "text": [
      "29325\n"
     ]
    }
   ],
   "source": [
    "# ЗАДАНИЕ 6.6\n",
    "\n",
    "from sklearn.model_selection import train_test_split\n",
    "\n",
    "split_ts = 1475519545\n",
    "interactions_train_df = interactions_full_df.loc[interactions_full_df.last_timestamp < split_ts].copy()\n",
    "interactions_test_df = interactions_full_df.loc[interactions_full_df.last_timestamp >= split_ts].copy()\n",
    "\n",
    "print(len(interactions_train_df))"
   ]
  },
  {
   "cell_type": "code",
   "execution_count": 12,
   "metadata": {},
   "outputs": [
    {
     "data": {
      "text/plain": [
       "'-6783772548752091658'"
      ]
     },
     "execution_count": 12,
     "metadata": {},
     "output_type": "execute_result"
    }
   ],
   "source": [
    "# ЗАДАНИЕ 6.7\n",
    "\n",
    "popular = (\n",
    "    interactions_train_df\n",
    "    .groupby('contentId')\n",
    "    .eventStrength.sum().reset_index()\n",
    "    .sort_values('eventStrength', ascending=False)\n",
    "    .contentId.values\n",
    ")\n",
    "popular[0]"
   ]
  },
  {
   "cell_type": "code",
   "execution_count": 43,
   "metadata": {},
   "outputs": [
    {
     "data": {
      "text/html": [
       "<div>\n",
       "<style scoped>\n",
       "    .dataframe tbody tr th:only-of-type {\n",
       "        vertical-align: middle;\n",
       "    }\n",
       "\n",
       "    .dataframe tbody tr th {\n",
       "        vertical-align: top;\n",
       "    }\n",
       "\n",
       "    .dataframe thead th {\n",
       "        text-align: right;\n",
       "    }\n",
       "</style>\n",
       "<table border=\"1\" class=\"dataframe\">\n",
       "  <thead>\n",
       "    <tr style=\"text-align: right;\">\n",
       "      <th></th>\n",
       "      <th>true_train</th>\n",
       "      <th>true_test</th>\n",
       "    </tr>\n",
       "    <tr>\n",
       "      <th>personId</th>\n",
       "      <th></th>\n",
       "      <th></th>\n",
       "    </tr>\n",
       "  </thead>\n",
       "  <tbody>\n",
       "    <tr>\n",
       "      <th>-1007001694607905623</th>\n",
       "      <td>[-5065077552540450930, -793729620925729327]</td>\n",
       "      <td>[-6623581327558800021, 1469580151036142903, 72...</td>\n",
       "    </tr>\n",
       "    <tr>\n",
       "      <th>-1032019229384696495</th>\n",
       "      <td>[-1006791494035379303, -1039912738963181810, -...</td>\n",
       "      <td>[-1415040208471067980, -2555801390963402198, -...</td>\n",
       "    </tr>\n",
       "    <tr>\n",
       "      <th>-108842214936804958</th>\n",
       "      <td>[-1196068832249300490, -133139342397538859, -1...</td>\n",
       "      <td>[-2780168264183400543, -3060116862184714437, -...</td>\n",
       "    </tr>\n",
       "    <tr>\n",
       "      <th>-1130272294246983140</th>\n",
       "      <td>[-1150591229250318592, -1196068832249300490, -...</td>\n",
       "      <td>[-1606980109000976010, -1663441888197894674, -...</td>\n",
       "    </tr>\n",
       "    <tr>\n",
       "      <th>-1160159014793528221</th>\n",
       "      <td>[-133139342397538859, -387651900461462767, 377...</td>\n",
       "      <td>[-3462051751080362224]</td>\n",
       "    </tr>\n",
       "  </tbody>\n",
       "</table>\n",
       "</div>"
      ],
      "text/plain": [
       "                                                             true_train  \\\n",
       "personId                                                                  \n",
       "-1007001694607905623        [-5065077552540450930, -793729620925729327]   \n",
       "-1032019229384696495  [-1006791494035379303, -1039912738963181810, -...   \n",
       "-108842214936804958   [-1196068832249300490, -133139342397538859, -1...   \n",
       "-1130272294246983140  [-1150591229250318592, -1196068832249300490, -...   \n",
       "-1160159014793528221  [-133139342397538859, -387651900461462767, 377...   \n",
       "\n",
       "                                                              true_test  \n",
       "personId                                                                 \n",
       "-1007001694607905623  [-6623581327558800021, 1469580151036142903, 72...  \n",
       "-1032019229384696495  [-1415040208471067980, -2555801390963402198, -...  \n",
       "-108842214936804958   [-2780168264183400543, -3060116862184714437, -...  \n",
       "-1130272294246983140  [-1606980109000976010, -1663441888197894674, -...  \n",
       "-1160159014793528221                             [-3462051751080362224]  "
      ]
     },
     "execution_count": 43,
     "metadata": {},
     "output_type": "execute_result"
    }
   ],
   "source": [
    "final_df = (\n",
    "    interactions_train_df.reset_index()\n",
    "    .groupby('personId')['contentId'].agg(lambda x: list(x))\n",
    "    .reset_index()\n",
    "    .rename(columns={'contentId': 'true_train'})\n",
    "    .set_index('personId')\n",
    ")\n",
    "\n",
    "final_df['true_test'] = (\n",
    "    interactions_test_df.reset_index()\n",
    "    .groupby('personId')['contentId'].agg(lambda x: list(x))\n",
    ")\n",
    "\n",
    "final_df['true_test'] = [ [] if x is np.NaN else x for x in final_df['true_test'] ]\n",
    "final_df.head()"
   ]
  },
  {
   "cell_type": "code",
   "execution_count": 44,
   "metadata": {},
   "outputs": [
    {
     "data": {
      "text/plain": [
       "0.006454207722621084"
      ]
     },
     "execution_count": 44,
     "metadata": {},
     "output_type": "execute_result"
    }
   ],
   "source": [
    "# ЗАДАНИЕ 6.8\n",
    "\n",
    "\n",
    "def precision(column):\n",
    "    return (final_df.apply(lambda row:\n",
    "            len(set(row['true_test']).intersection(set(row[column]))) /\n",
    "            min(len(row['true_test']) + 0.001, 10.0),axis=1)).mean()\n",
    "\n",
    "\n",
    "top_k = 10\n",
    " \n",
    "final_df['popular'] = (\n",
    "    final_df.true_train\n",
    "    .apply(\n",
    "        lambda x:\n",
    "        popular[~np.in1d(popular, x)][:top_k]\n",
    "    )\n",
    ")\n",
    "def calc_precision(column):\n",
    "    return (\n",
    "        final_df\n",
    "        .apply(\n",
    "            lambda row:\n",
    "            len(set(row['true_test']).intersection(\n",
    "                set(row[column]))) /\n",
    "            min(len(row['true_test']) + 0.001, 10.0),\n",
    "            axis=1)).mean()\n",
    "calc_precision('popular')"
   ]
  },
  {
   "attachments": {},
   "cell_type": "markdown",
   "metadata": {},
   "source": [
    "## 7. Итоги <a class=\"anchor\" id=7></a>\n",
    "\n",
    "[к содержанию](#0)"
   ]
  }
 ],
 "metadata": {
  "kernelspec": {
   "display_name": "base",
   "language": "python",
   "name": "python3"
  },
  "language_info": {
   "codemirror_mode": {
    "name": "ipython",
    "version": 3
   },
   "file_extension": ".py",
   "mimetype": "text/x-python",
   "name": "python",
   "nbconvert_exporter": "python",
   "pygments_lexer": "ipython3",
   "version": "3.10.9"
  },
  "orig_nbformat": 4
 },
 "nbformat": 4,
 "nbformat_minor": 2
}
