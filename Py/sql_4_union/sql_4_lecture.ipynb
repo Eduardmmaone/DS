{
 "cells": [
  {
   "cell_type": "markdown",
   "metadata": {},
   "source": [
    "# SQL UNION\n",
    "\n",
    "###  Содержание <a class=\"anchor\" id=0></a>\n",
    "- [1. Знакомимся с данными](#1)\n",
    "- [2. UNION](#2)\n",
    "- [2.1 Виды UNION](#2-1)\n",
    "- [3. UNION и ограничение типов данных](#3)\n",
    "- [4. UNION ALL и промежуточные итоги](#4)\n",
    "- [5. UNION и дополнительные условия](#5)\n",
    "- [6. UNION и ручная генерация](#6)\n",
    "- [7. EXCEPT](#6)\n",
    "- [8. INTERSECT](#6)\n",
    "- [9. Итоги. Закрепление знаний](#6)\n",
    "- [10. Дополнительные задачи по SQL](#6)\n"
   ]
  },
  {
   "cell_type": "markdown",
   "metadata": {},
   "source": [
    "## Знакомимся с данными <a class=\"anchor\" id=1></a>\n",
    "\n",
    "[к содержанию](#0)\n",
    "\n",
    "В данном блоке мы будем работать с данными о компании, организующей перевозки грузов.\n",
    "\n",
    "Интересующие нас данные хранятся в таблицах `city`, `customer`, `driver`, `shipment`, `truck`. Давайте внимательно их изучим.\n",
    "\n",
    "Ниже представлена `ER`-диаграмма (от англ. `entity-relation`, дословно — «сущность-связь»), которая отображает существующие связи между отдельными таблицами.\n",
    "\n",
    "<img src=sql_4_img1.jpg>\n",
    "\n",
    "Таблица `city` — это справочник городов. Структура справочника представлена ниже.\n",
    "\n",
    "<img src=sql_4_img2.png>\n",
    "\n",
    "Таблица `customer` — это справочник клиентов. У компании, с данными которой мы работаем, только корпоративные клиенты, поэтому в таблице нет привычных данных о возрасте и поле. Справочник содержит следующие поля:\n",
    "\n",
    "<img src=sql_4_img3.png>\n",
    "\n",
    "Следующая таблица — `driver` — справочник водителей. Перечень сведений, содержащихся в таблице, представлен ниже.\n",
    "\n",
    "<img src=sql_4_img4.png>\n",
    "\n",
    "В таблице `truck` хранится информация о грузовиках, на которых осуществляются перевозки. Данные о них представлены в следующем виде:\n",
    "\n",
    "<img src=sql_4_img5.png>\n",
    "\n",
    "Последняя таблица в датасете, `shipment`, — таблица с данными непосредственно о доставках. Она описывает взаимодействие всех перечисленных сущностей, а потому содержит наибольшее количество ссылок на другие таблицы.\n",
    "\n",
    "<img src=sql_4_img6.png>"
   ]
  },
  {
   "cell_type": "code",
   "execution_count": null,
   "metadata": {
    "vscode": {
     "languageId": "sql"
    }
   },
   "outputs": [],
   "source": [
    "/* Укажите название города с максимальным весом единичной доставки. */\n",
    "select\n",
    "    c.city_name,\n",
    "    s.weight\n",
    "from\n",
    "    sql.city c\n",
    "join sql.shipment s on s.city_id = c.city_id\n",
    "order by 2 desc\n",
    "\n",
    "/* Сколько различных производителей грузовиков перечислено в таблице truck? */\n",
    "select\n",
    "    count(distinct make)\n",
    "from\n",
    "    sql.truck\n",
    "\n",
    "/* Как зовут водителя (first_name), который совершил наибольшее количество доставок одному клиенту? */\n",
    "select\n",
    "    d.first_name,\n",
    "    count(distinct(s.cust_id))\n",
    "from\n",
    "    sql.driver d \n",
    "join sql.shipment s on d.driver_id = s.driver_id\n",
    "group by d.first_name\n",
    "order by 2 desc\n",
    "\n",
    "/* Укажите даты первой и последней по времени доставок в таблице shipment. */\n",
    "select\n",
    "    min(ship_date),\n",
    "    max(ship_date)\n",
    "from\n",
    "    sql.shipment\n",
    "\n",
    "/* Укажите имя клиента, получившего наибольшее количество доставок за 2017 год. */\n",
    "select\n",
    "    cus.cust_name,\n",
    "    count(s.ship_id),\n",
    "    extract(year from s.ship_date)\n",
    "from\n",
    "    sql.customer cus\n",
    "join sql.shipment s on cus.cust_id = s.cust_id\n",
    "group by 1,3\n",
    "having extract(year from s.ship_date) = 2017\n",
    "order by 2 desc\n"
   ]
  },
  {
   "cell_type": "markdown",
   "metadata": {},
   "source": [
    "## UNION <a class=\"anchor\" id=2></a>\n",
    "\n",
    "[к содержанию](#0)\n",
    "\n",
    "Допустим, мы хотим собрать из справочников по книгам и фильмам один, так чтобы в нём содержались названия произведений, а также их описание — книга или фильм.\n",
    "\n",
    "Для этого напишем простой запрос:"
   ]
  },
  {
   "cell_type": "code",
   "execution_count": null,
   "metadata": {
    "vscode": {
     "languageId": "sql"
    }
   },
   "outputs": [],
   "source": [
    "SELECT book_name object_name, 'книга' object_descritption /*выбираем столбец с названием book_name, задаём алиас для столбца object_name, задаём во второй колонке объект ‘книга’ с алиасом для столбца object_descritption*/\n",
    "FROM public.books /*из схемы public и таблицы books*/\n",
    "UNION ALL /*оператор присоединения*/\n",
    "SELECT movie_title, 'фильм' /*выбираем столбец movie_title, сами задаём во второй колонке объект ‘фильм’*/\n",
    "FROM sql.kinopoisk /*из схемы sql и таблицы kinopoisk*/"
   ]
  },
  {
   "cell_type": "markdown",
   "metadata": {},
   "source": [
    "Визуально произведённое нами действие можно представить следующим образом:\n",
    "\n",
    "<img src=sql_4_img7.png>\n",
    "\n",
    "Общий принцип мы поняли, разберёмся в деталях:\n",
    "\n",
    "В запросе мы использовали оператор `UNION ALL` — он присоединяет любой результат запроса к другому «снизу» при условии, что у них одинаковая структура, а именно:\n",
    "\n",
    "#### одинаковый тип данных\n",
    "\n",
    "<img src=sql_4_img8.png>\n",
    "\n",
    "#### одинаковое количество столбцов\n",
    "\n",
    "<img src=sql_4_img9.png>\n",
    "\n",
    "#### одинаковый порядок столбцов согласно типу данных\n",
    "\n",
    "<img src=sql_4_img10.png>"
   ]
  },
  {
   "cell_type": "markdown",
   "metadata": {},
   "source": [
    "## ВИДЫ UNION <a class=\"anchor\" id=2-1></a>\n",
    "\n",
    "[к содержанию](#0)\n",
    "\n",
    "Оператор присоединения существует в двух вариантах:\n",
    "\n",
    "* `UNION` выводит только **уникальные записи**;\n",
    "\n",
    "* `UNION ALL` присоединяет **все строки** последующих таблиц к предыдущим, без ограничений по уникальности.\n",
    "\n",
    ">**Важно!** `UNION` оставляет только уникальные значения, а потому требует дополнительных вычислительных мощностей и памяти (в данном случае можно провести аналогию с `DISTINCT`). Поэтому если вы уверены в отсутствии дубликатов в данных или они вам не важны, предпочтительнее использовать `UNION ALL`.\n",
    "\n",
    "### СИНТАКСИС\n",
    "\n",
    "Запрос строится таким образом:"
   ]
  },
  {
   "cell_type": "code",
   "execution_count": null,
   "metadata": {
    "vscode": {
     "languageId": "sql"
    }
   },
   "outputs": [],
   "source": [
    "SELECT\n",
    "    n columns\n",
    "FROM \n",
    "    table_1\n",
    "\n",
    "UNION ALL\n",
    "\n",
    "SELECT \n",
    "    n columns\n",
    "FROM \n",
    "    table_2\n",
    "...\n",
    "\n",
    "UNION ALL\n",
    "\n",
    "SELECT \n",
    "    n columns\n",
    "FROM \n",
    "    table_n"
   ]
  },
  {
   "cell_type": "markdown",
   "metadata": {},
   "source": [
    "Результатом выполнения такого запроса будут строки `table_1`, `table_2`, `...`, `table_n`, соединённые одни под другими и выведенные в единой выдаче.\n",
    "\n",
    ">**Важно!** Названия итоговых колонок в выводе будут такие же, как в первом блоке `SELECT`, даже если они отличаются в других блоках подзапросов.\n",
    "Пришла пора испытать функцию `UNION(ALL)` на практике.\n",
    "\n",
    "Обратимся к нашему датасету о транспортной компании и посмотрим, как сформировать справочник с `ID` всех таблиц и указанием объекта, к которому он относится"
   ]
  },
  {
   "cell_type": "code",
   "execution_count": null,
   "metadata": {
    "vscode": {
     "languageId": "sql"
    }
   },
   "outputs": [],
   "source": [
    "SELECT\n",
    "    c.city_id object_name, 'id города' object_type\n",
    "FROM \n",
    "    sql.city c\n",
    "UNION ALL\n",
    "SELECT\n",
    "    d.driver_id other_name, 'id водителя' other_type\n",
    "FROM \n",
    "    sql.driver d\n",
    "UNION ALL\n",
    "SELECT\n",
    "    s.ship_id, 'id доставки'\n",
    "FROM \n",
    "    sql.shipment s\n",
    "UNION ALL\n",
    "SELECT\n",
    "    c.cust_id, 'id клиента'\n",
    "FROM \n",
    "    sql.customer c\n",
    "UNION ALL\n",
    "SELECT\n",
    "    t.truck_id, 'id грузовика'\n",
    "FROM \n",
    "    sql.truck t\n",
    "ORDER BY 1"
   ]
  },
  {
   "cell_type": "markdown",
   "metadata": {},
   "source": [
    ">**Обратите внимание!** Несмотря на исходные названия колонок `other_name` и `other_type` во втором подзапросе, в выводе мы получим названия, которые дали в первом блоке: `object_name` и `object_type`.\n",
    "\n",
    "Другая особенность — в применении сортировки `ORDER BY`: она всегда будет относиться **к итоговому результату** всего запроса с `UNION ALL`.\n",
    "\n",
    "В случаях, когда необходимо применить команду `ORDER BY` или `LIMIT` не к итоговому результату, а к каждой части запроса, можно **обернуть подзапросы в скобки**.\n",
    "\n",
    "Чтобы посмотреть, как это работает, вернёмся к нашему примеру с общим справочником по фильмам и книгам.\n",
    "\n",
    "Мы уже знаем, что можно легко и непринуждённо применить операторы `ORDER BY` и `LIMIT` ко всему результату запроса."
   ]
  },
  {
   "cell_type": "code",
   "execution_count": null,
   "metadata": {
    "vscode": {
     "languageId": "sql"
    }
   },
   "outputs": [],
   "source": [
    "SELECT book_name object_name, 'книга' object_descritption \n",
    "FROM public.books\n",
    "UNION ALL\n",
    "SELECT movie_title, 'фильм' \n",
    "FROM sql.kinopoisk\n",
    "ORDER BY 1\n",
    "LIMIT 1"
   ]
  },
  {
   "cell_type": "markdown",
   "metadata": {},
   "source": [
    "Всё бы хорошо, только в таком случае отсортирован будет весь общий справочник, а в выводе останется одна строка с названием объекта, идущим первым по алфавиту.\n",
    "\n",
    "А если мы не хотим общую сортировку? Может, нам нужны строки с названием как фильма, так и книги, идущих первыми по алфавиту.\n",
    "\n",
    "Нет ничего проще — отсортируем каждую часть запроса **по отдельности и объединим результаты!**"
   ]
  },
  {
   "cell_type": "code",
   "execution_count": null,
   "metadata": {
    "vscode": {
     "languageId": "sql"
    }
   },
   "outputs": [],
   "source": [
    "(SELECT book_name object_name, 'книга' object_descritption \n",
    "FROM public.books\n",
    "ORDER BY 1\n",
    "LIMIT 1)\n",
    "UNION ALL\n",
    "(SELECT movie_title, 'фильм' \n",
    "FROM sql.kinopoisk\n",
    "ORDER BY 1\n",
    "LIMIT 1)"
   ]
  },
  {
   "cell_type": "markdown",
   "metadata": {},
   "source": [
    "Напишите запрос, который создаёт уникальный алфавитный справочник всех городов, штатов, имён водителей и производителей грузовиков.\n",
    "Результатом запроса должны быть два столбца: название и тип объекта (city, state, driver, truck).\n",
    "Отсортируйте список по названию объекта, а затем — по типу."
   ]
  },
  {
   "cell_type": "code",
   "execution_count": null,
   "metadata": {
    "vscode": {
     "languageId": "sql"
    }
   },
   "outputs": [],
   "source": [
    "SELECT c.city_name \"название\", 'city' \"тип объекта\"\n",
    "FROM sql.city c\n",
    "UNION\n",
    "SELECT c.state, 'state'\n",
    "FROM sql.city c\n",
    "UNION\n",
    "SELECT d.first_name, 'driver'\n",
    "FROM sql.driver d\n",
    "UNION\n",
    "SELECT t.make, 'truck'\n",
    "FROM sql.truck t\n",
    "ORDER BY 1,2\n"
   ]
  },
  {
   "cell_type": "markdown",
   "metadata": {},
   "source": [
    "Напишите запрос, который соберёт имена всех упомянутых городов и штатов с таблицы `city`.\n",
    "Результатом запроса должен быть один столбец `object_name`, отсортированный в алфавитном порядке."
   ]
  },
  {
   "cell_type": "code",
   "execution_count": null,
   "metadata": {
    "vscode": {
     "languageId": "sql"
    }
   },
   "outputs": [],
   "source": [
    "SELECT\n",
    "    c.city_name object_name\n",
    "FROM \n",
    "    sql.city c\n",
    "UNION ALL\n",
    "SELECT\n",
    "    c.state\n",
    "FROM \n",
    "    sql.city c\n",
    "ORDER BY 1"
   ]
  },
  {
   "cell_type": "markdown",
   "metadata": {},
   "source": [
    "Выполнив предыдущий запрос, мы получили города с одинаковыми названиями, но находящиеся в разных штатах, а также большое количество дублирующихся названий штатов.\n",
    "Перепишите предыдущий запрос так, чтобы остались только уникальные названия городов и штатов.\n",
    "Результатом запроса должен быть один столбец object_name, отсортированный в алфавитном порядке."
   ]
  },
  {
   "cell_type": "code",
   "execution_count": null,
   "metadata": {
    "vscode": {
     "languageId": "sql"
    }
   },
   "outputs": [],
   "source": [
    "SELECT\n",
    "    c.city_name object_name\n",
    "FROM \n",
    "    sql.city c\n",
    "UNION\n",
    "SELECT\n",
    "    c.state\n",
    "FROM \n",
    "    sql.city c\n",
    "ORDER BY 1"
   ]
  },
  {
   "cell_type": "markdown",
   "metadata": {},
   "source": [
    "## UNION и ограничение типов данных <a class=\"anchor\" id=3></a>\n",
    "\n",
    "[к содержанию](#0)\n",
    "\n",
    "### ПОЧЕМУ ТАК ВАЖЕН ТИП ДАННЫХ?\n",
    "\n",
    "Как мы уже знаем, `UNION` может быть использован только в случае полного соответствия столбцов и их типов в объединяемых запросах.\n",
    "\n",
    "Допустим, мы хотим вывести список всех `id` городов и их названий в одном столбце."
   ]
  },
  {
   "cell_type": "code",
   "execution_count": null,
   "metadata": {
    "vscode": {
     "languageId": "sql"
    }
   },
   "outputs": [],
   "source": [
    "/* ебанем в лоб */\n",
    "SELECT \n",
    "    c.city_id\n",
    "FROM\n",
    "    sql.city c\n",
    "UNION ALL\n",
    "SELECT \n",
    "    cc.city_name\n",
    "FROM\n",
    "    sql.city cc\n"
   ]
  },
  {
   "cell_type": "markdown",
   "metadata": {},
   "source": [
    "**\"ERROR: UNION types integer and text cannot be matched\"**\n",
    "\n",
    ">Если мы всё же хотим выполнить поставленную задачу, придётся привести оба столбца к одному типу данных. Не каждый текст может быть приведён к числу, зато каждое число может быть представлено в текстовом формате.\n",
    "\n",
    "Забегая вперёд, скажем пару слов о типизации столбцов. Для типизации в Postgres составляется запрос по модели `column_name::column_type`.\n",
    "\n",
    "Таким образом, чтобы перевести `city_id` в текст, нам потребуется написать `city_id::text`.\n",
    "\n",
    ">**Важно!** Любой тип данных может быть приведён к текстовому формату — эту возможность целесообразно использовать для соединения разнородных сущностей. Главное — помнить, что сортировка текста отличается от сортировки чисел и дат."
   ]
  },
  {
   "cell_type": "code",
   "execution_count": null,
   "metadata": {
    "vscode": {
     "languageId": "sql"
    }
   },
   "outputs": [],
   "source": [
    "SELECT \n",
    "    c.city_id::text\n",
    "FROM\n",
    "    sql.city c\n",
    "UNION ALL\n",
    "SELECT \n",
    "    cc.city_name\n",
    "FROM\n",
    "    sql.city cc"
   ]
  },
  {
   "cell_type": "markdown",
   "metadata": {},
   "source": [
    "Напишите запрос, который объединит в себе все почтовые индексы водителей и их телефоны в единый столбец-справочник. Также добавьте столбец с именем водителя и столбец с типом контакта (`phone` или `zip` в зависимости от типа). Столбцы к выводу: `contact`, `first_name`, `contact_type`.\n",
    "Отсортируйте список по столбцу с контактными данными в порядке возрастания, а затем — по имени водителя."
   ]
  },
  {
   "cell_type": "code",
   "execution_count": null,
   "metadata": {
    "vscode": {
     "languageId": "sql"
    }
   },
   "outputs": [],
   "source": [
    "SELECT\n",
    "    d.phone \"contact\",\n",
    "    d.first_name,\n",
    "    'phone' \"contact_type\"\n",
    "FROM sql.driver d\n",
    "union all\n",
    "SELECT\n",
    "    d.zip_code::text \"contact\",\n",
    "    d.first_name,\n",
    "    'zip' \"contact_type\"\n",
    "FROM sql.driver d\n",
    "ORDER BY 1, 2"
   ]
  },
  {
   "cell_type": "markdown",
   "metadata": {},
   "source": [
    "## UNION ALL и промежуточные итоги<a class=\"anchor\" id=4></a>\n",
    "\n",
    "[к содержанию](#0)"
   ]
  },
  {
   "cell_type": "markdown",
   "metadata": {},
   "source": [
    "## UNION и дополнительные условия <a class=\"anchor\" id=5></a>\n",
    "\n",
    "[к содержанию](#0)"
   ]
  },
  {
   "cell_type": "markdown",
   "metadata": {},
   "source": [
    "## UNION и ручная генерация <a class=\"anchor\" id=6></a>\n",
    "\n",
    "[к содержанию](#0)"
   ]
  },
  {
   "cell_type": "markdown",
   "metadata": {},
   "source": [
    "## EXCEPT <a class=\"anchor\" id=7></a>\n",
    "\n",
    "[к содержанию](#0)"
   ]
  },
  {
   "cell_type": "markdown",
   "metadata": {},
   "source": [
    "## INTERSECT <a class=\"anchor\" id=8></a>\n",
    "\n",
    "[к содержанию](#0)"
   ]
  },
  {
   "cell_type": "markdown",
   "metadata": {},
   "source": [
    "## Итоги. Закрепление знаний <a class=\"anchor\" id=9></a>\n",
    "\n",
    "[к содержанию](#0)"
   ]
  },
  {
   "cell_type": "markdown",
   "metadata": {},
   "source": [
    "## Дополнительные задачи по SQL <a class=\"anchor\" id=10></a>\n",
    "\n",
    "[к содержанию](#0)"
   ]
  }
 ],
 "metadata": {
  "language_info": {
   "name": "python"
  },
  "orig_nbformat": 4
 },
 "nbformat": 4,
 "nbformat_minor": 2
}
