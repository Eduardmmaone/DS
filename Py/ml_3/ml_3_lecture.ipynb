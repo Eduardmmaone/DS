{
 "cells": [
  {
   "cell_type": "markdown",
   "metadata": {},
   "source": [
    "# ML-3 Обучение с учителем. Классификация\n",
    "###  Содержание <a class=\"anchor\" id=0></a>\n",
    "- [1. Введение](#1)\n",
    "- [2. Логическая регрессия](#2)\n",
    "- [2.2 Поиск параметров логической регрессии](#2-2)\n",
    "- [3. Метрики классификации. Мультиклассовая классификация](#3)\n",
    "- [3.1 Расчёт метрик на python](#3-1)\n",
    "- [3.2 Мультиклассовая классификация](#3-2)\n",
    "- [3.3 Мультиклассовая классификация на python](#3-3)\n",
    "- [4. Логическия регрессия. Практика](#4)\n",
    "- [5. Деревья решений](#5)\n",
    "- [5.1 Процесс построения дерева решений](#5-1)\n",
    "- [5.2 Деревья решений в sklearn](#5-2)\n",
    "- [6. Введение в ансамбли: бэггинг. Случайные лес](#6)\n",
    "- [7. Деревья решений и случайный лес. Практика](#7)\n",
    "- [8. Итоги](#8)"
   ]
  },
  {
   "cell_type": "markdown",
   "metadata": {},
   "source": [
    "# 1. Введение <a class=\"anchor\" id=1></a>\n",
    "\n",
    "[к содержанию](#0)"
   ]
  },
  {
   "cell_type": "markdown",
   "metadata": {},
   "source": [
    "# 2. Логическая регрессия <a class=\"anchor\" id=2></a>\n",
    "\n",
    "[к содержанию](#0)\n",
    "\n",
    "Что вообще означает `«решить задачу классификации»`? Это значит **построить разделяющую поверхность в пространстве признаков**, которая делит пространство на части, каждая из которых соответствует определённому классу. \n",
    "\n",
    "Ниже представлены примеры разделяющих поверхностей, которые производят бинарную классификацию. Красным и синим цветом обозначены классы, зелёным — собственно поверхность, которая делит пространство признаков на две части. В каждой из этих частей находятся только наблюдения определённого класса.\n",
    "\n",
    "<img src=ml3_img1.png>\n",
    "\n",
    "Модели, которые решают задачу классификации, называются классификаторами (`classifier`).\n",
    "\n",
    "Если взять в качестве разделяющей поверхности некоторую плоскость (ровная поверхность на первом рисунке), то мы получаем модель логистической регрессии, которая тесно связана с рассмотренной нами ранее линейной регрессией.\n",
    "\n",
    "Давайте для начала вспомним, как выглядит уравнение модели линейной регрессии в общем случае:\n",
    "\n",
    "<img src=ml3_img2.png>\n",
    "\n",
    ">Но всё это работает только в том случае, когда целевой признак `y`, который мы хотим предсказать, является числовым, например цена, вес, время аренды и т. д.\n",
    "\n",
    "Что же делать с этой моделью, когда целевой признак `y` является категориальным? Например, является письмо спамом или обычным письмом?\n",
    "\n",
    "Можно предположить, что, раз у нас есть две категории, мы можем обозначить категории за `y = 1` (Спам) и `y = 0` (Не спам) и обучить линейную регрессию предсказывать `0` и `1`.\n",
    "\n",
    "Но результат будет очень плохим. Выглядеть это будет примерно так:\n",
    "\n",
    "<img src=ml3_img3.png>\n",
    "\n",
    "Для больших значений `x` прямая будет выдавать значения **больше 1**, а для очень маленьких — **меньше 0**. Что это значит? Непонятно. Непонятно и то, что делать со значениями в диапазоне от 0 до 1. Да, можно относить значения на прямой выше 0.5 к классу 1, а меньше либо равным 0.5 — к классу 0, но это всё «костыли».\n",
    "\n",
    ">Идея! Давайте переведём задачу классификации в задачу регрессии. Вместо предсказания класса будем предсказывать вероятность принадлежности к этому классу. \n",
    "\n",
    "Модель должна выдавать некоторую вероятность `P`, которая будет определять, принадлежит ли данный объект к классу 1: например, вероятность того, что письмо является спамом. При этом вероятность того, что письмо является обычным письмом (класс 0), определяется как `Q = 1 - P`.  \n",
    "\n",
    "Когда модель будет обучена на предсказание вероятности, мы зададим некоторый порог вероятности. Если предсказанная вероятность будет выше этого порога, мы определим объект к классу 1, а если ниже — к классу 0.\n",
    "\n",
    "Например, стандартный порог равен `0.5`. То есть если вероятность `P > 0.5`, мы будем считать письмо спамом, а если `P <= 0.5` — обычным информативным письмом.\n",
    "\n",
    "В итоге мы добьёмся того, что будем предсказывать не дискретный категориальный, а непрерывный числовой признак, который лежит в диапазоне `[0, 1]`. А это уже знакомая нам задача регрессии.\n",
    "\n",
    ">Однако остался главный вопрос: как научить модель предсказывать вероятности, ведь они должны лежать строго в диапазоне от 0 до 1, а предсказания линейной регрессии лежат в диапазоне от `-inf` до `+inf`? \n",
    "\n",
    "Тут-то мы и приходим к модели логистической регрессии — **регрессии вероятностей**."
   ]
  },
  {
   "cell_type": "markdown",
   "metadata": {},
   "source": [
    "## ОБЩЕЕ ПРЕДСТАВЛЕНИЕ О ЛОГИСТИЧЕСКОЙ РЕГРЕССИИ\n",
    "\n",
    "Логистическая регрессия (`Logistic Regression`) — одна из простейших моделей для решения задачи классификации. Несмотря на простоту, модель входит в топ часто используемых алгоритмов классификации в `Data Science`.\n",
    "\n",
    "В основе логистической регрессии лежит логистическая функция (`logistic function`) `sigma` — отсюда и название модели. Однако более распространённое название этой функции — сигмόида (`sigmoid`). Записывается она следующим образом:\n",
    "\n",
    "<img src=ml3_img4.png>\n",
    "\n",
    "<img src=ml3_img5.png>\n",
    "\n",
    "<img src=ml3_img6.png>\n",
    "\n",
    "## Чего мы добились таким преобразованием?\n",
    "\n",
    "Если мы обучим модель, то есть подберём  коэффициенты `w0, w1,... , w_m` (как их найти, обсудим чуть позже) таким образом, что для объектов класса 1 модель линейной регрессии начнёт выдавать положительное число, а для класса 0 — выдавать отрицательное число, то тогда, подставив предсказание линейной регрессии `z` в сигмоиду, мы сможем получать вероятности принадлежности к каждому из классов в диапазоне от `0` до `1`.\n",
    "\n",
    "Далее по порогу вероятности мы сможем определять, к какому классу принадлежит объект.\n",
    "\n",
    "Это и есть наша цель. Мы свели задачу классификации к задаче регрессии для предсказания вероятностей. \n",
    "\n",
    "Для бинарной классификации описанное выше будет выглядеть следующим образом:\n",
    "\n",
    "<img src=ml3_img7.png>\n",
    "\n",
    "<img src=ml3_img8.png>\n"
   ]
  },
  {
   "cell_type": "markdown",
   "metadata": {},
   "source": [
    "\n",
    "## Разберёмся с геометрией\n",
    "\n",
    "Возьмём частный случай, когда класс объекта зависит от двух признаков — `x1` и `x2`.\n",
    "\n",
    "## Рассмотрим пример.\n",
    "\n",
    "Мы пытаемся предсказать поступление студента в университет в зависимости от результатов двух экзаменов. Целевой признак  — результат поступления в аспирантуру (admission outcome) с двумя возможными значениями: поступил или не поступил. Факторы: `x1` — результат сдачи первого экзамена (Exam1 Score) и `x2` — результат сдачи второго (Exam 2 Score). Будем предсказывать вероятность поступления с помощью логистической регрессии.\n",
    "\n",
    "Изобразим зависимость в пространстве двух факторов (вид сверху) в виде диаграммы рассеяния, а целевой признак отобразим в виде точек (непоступившие) и крестиков (поступившие).\n",
    "\n",
    "Если рассматривать уравнение линейной регрессии отдельно от сигмоиды, то геометрически построить логистическую регрессию на основе двух факторов — значит найти такие коэффициенты `w0`, `w1` и `w2` уравнения плоскости, при которых наблюдается наилучшее разделение пространства на две части.\n",
    "\n",
    "`z = w0 + w1*x1 + w2*x2`\n",
    "\n",
    "Тогда выражение для `z` будет задавать в таком пространстве плоскость (в проекции вида сверху — прямую), которая разделяет всё пространство на две части. Над прямой вероятность поступления будет `>0.5`, а под прямой `<0.5`:\n",
    "\n",
    "<img src=ml3_img9.png>\n",
    "\n",
    "## В чём математический секрет?\n",
    "\n",
    "Математически подстановка в уравнение плоскости точки, которая не принадлежит ей (находится ниже или выше), означает вычисление расстояния от этой точки до плоскости.\n",
    "\n",
    "* Если точка находится ниже плоскости, расстояние будет отрицательным `z < 0`.\n",
    "* Если точка находится выше плоскости, расстояние будет положительным `z > 0`.\n",
    "* Если точка находится на самой плоскости, `z = 0`.\n",
    "\n",
    "Мы знаем, что подстановка отрицательных чисел в сигмоиду приведёт к вероятности `P < 0.5`, а постановка положительных — к вероятности `P > 0.5`. \n",
    "\n",
    ">Таким образом, ключевым моментом в предсказании логистической регрессии является расстояние от точки до разделяющей плоскости в пространстве факторов. Это расстояние в литературе часто называется **отступом** (`margin`). \n",
    "\n",
    "В этом и состоит секрет работы логистической регрессии.\n",
    "\n",
    ">Чем больше расстояние от точки, находящейся выше разделяющей плоскости, до самой плоскости, тем больше оценка вероятности принадлежности к классу 1.\n",
    "\n",
    "Попробуйте подставить различные координаты точек в модель логистической регрессии и убедитесь в этом.\n",
    "\n",
    "Можно построить тепловую карту, которая показывает, чему равны вероятности в каждой точке пространства:\n",
    "\n",
    "<img src=ml3_img10.png>\n",
    "\n",
    ">На рисунке точки, которые относятся к классу непоступивших абитуриентов, лежащие ниже разделяющей плоскости, находятся в красной зоне. Чем насыщеннее красный цвет, тем ниже вероятность того, что абитуриент поступит в аспирантуру. И наоборот, точки, которые относятся к классу поступивших абитуриентов, лежащие выше разделяющей плоскости, находятся в синей зоне. Чем насыщеннее синий цвет, тем выше вероятность того, что абитуриент поступит в аспирантуру.\n",
    "\n",
    "<img src=ml3_img11.png>\n",
    "\n",
    "<img src=ml3_img12.png>"
   ]
  },
  {
   "cell_type": "markdown",
   "metadata": {},
   "source": [
    "# ПОИСК ПАРАМЕТРОВ ЛОГИСТИЧЕСКОЙ РЕГРЕССИИ <a class=\"anchor\" id=2-2></a>\n",
    "\n",
    "[к содержанию](#0)\n",
    "\n",
    "Итак, мы разобрались с тем, как выглядит модель логистической регрессии и что она означает в геометрическом смысле.\n",
    "\n",
    ">Но остался один главный вопрос: как найти такие коэффициенты `w = (w0, w1,... ,w_m)` , чтобы гиперплоскость разделяла пространство наилучшим образом?\n",
    "\n",
    "Вновь обратимся к нашей схеме минимизации эмпирического риска:\n",
    "\n",
    "<img src=ml3_img13.png width=800>\n",
    "\n",
    "Можно предположить, что стоит использовать метод наименьших квадратов. Введём функцию ошибки — средний квадрат разности `MSE` между истинными классами `y` и предсказанными классами `y_` и попытаемся его минимизировать.\n",
    "\n",
    "Сразу можно достоверно предсказать, что результат такого решения будет плохим, поэтому воздержимся от его использования.\n",
    "\n",
    "Здесь нужен другой подход. Это **метод максимального правдоподобия** (`Maximum Likelihood Estimation — MLE`). \n",
    "\n",
    ">**Правдоподобие** — это оценка того, насколько вероятно получить истинное значение целевой переменной `y` при данных `x` и параметрах `w`. \n",
    "\n",
    "Данный метод позволяет получить функцию правдоподобия.\n",
    "\n",
    ">Цель метода — найти такие параметры `w = (w0, w1,... ,w_m)`, в которых наблюдается максимум функции правдоподобия. Подробнее о выводе формулы вы можете прочитать здесь.\n",
    "\n",
    "А мы пока что опустим математические детали метода и приведём только конечную формулу:\n",
    "\n",
    "<img src=ml3_img14.png>\n",
    "<img src=ml3_img15.png>\n",
    "\n",
    "**Примечание**. К сожалению, функция `likelihood` не имеет интерпретации, то есть нельзя сказать, что значит число `2.34` в контексте правдоподобия.\n",
    "\n",
    "## Цель — найти такие параметры, при которых наблюдается максимум этой функции.\n",
    "\n",
    "Теперь пора снова применить магию математики, чтобы привести задачу к привычному нам формату минимизации эмпирического риска. По правилам оптимизации, если поставить перед функцией минус, то задача оптимизации меняется на противоположную: был поиск максимума — станет поиском минимума.\n",
    "\n",
    "Таким образом мы получим функцию потерь `L(w)`, которая носит название «**функция логистических потерь**», или `logloss`. Также часто можно встретить название кросс-энтропия, или `cross-entropy` `loss`:\n",
    "\n",
    "<img src=ml3_img16.png>\n",
    "\n",
    "Математическую реализацию вычисления градиента для `logloss` мы обсудим далее в курсе, а пока нас интересует исключительно его смысл."
   ]
  },
  {
   "cell_type": "markdown",
   "metadata": {},
   "source": [
    "Мы уже знаем, что для того, чтобы повысить шанс пройти мимо локальных минимумов функции потерь, используется не сам градиентный спуск, а его модификации: например, можно использовать уже знакомый нам стохастический градиентный спуск (`SGD`).\n",
    "\n",
    "Помним, что применение градиентного спуска требует предварительного масштабирования данных (стандартизации/нормализации). В реализации логистической регрессии в `sklearn` предусмотрено ещё несколько методов оптимизации, для которых масштабирование не обязательно. О них мы упомянём в практической части модуля.\n",
    "\n",
    "Во избежание переобучения модели в функцию потерь логистической регрессии традиционно добавляется **регуляризация**. В реализации логистической регрессии в `sklearn` она немного отличается от той, что мы видели ранее для линейной регрессии.\n",
    "\n",
    "<img src=ml3_img17.png>"
   ]
  },
  {
   "cell_type": "markdown",
   "metadata": {},
   "source": [
    "# В этом месте можно полистать ноутбук `Classification.LogisticRegression.ipynb`"
   ]
  },
  {
   "cell_type": "markdown",
   "metadata": {},
   "source": [
    "## Основные параметры `LogisticRegression`\n",
    "\n",
    "* `random_state` — число, на основе которого происходит генерация случайных чисел.\n",
    "* `penalty` — метод регуляризации. Возможные значения:\n",
    "* * `'l1'` — L1-регуляризация;\n",
    "* * `'l2'` — L2-регуляризация (используется по умолчанию);\n",
    "* * `'elasticnet'` — эластичная сетка (L1+L2);\n",
    "* *  `'none'` — отсутствие регуляризации.\n",
    "* `C` — коэффициент обратный коэффициенту регуляризации, то есть равен `1/alpha`. Чем больше C, тем меньше регуляризация. По умолчанию `C=1`, тогда `α=1`.\n",
    "* `solver` — численный метод оптимизации функции потерь logloss, может быть:\n",
    "* *  `'sag'` — стохастический градиентный спуск (нужна стандартизация/нормализация);\n",
    "* * `'saga'` — [модификация](https://arxiv.org/pdf/1407.0202.pdf) предыдущего, которая поддерживает работу с негладкими функциями (нужна стандартизация/нормализация);\n",
    "* * `'newton-cg'` — [метод Ньютона](https://docs.scipy.org/doc/scipy/tutorial/optimize.html#newton-conjugate-gradient-algorithm-method-newton-cg) с модификацией сопряжённых градиентов (не нужна стандартизация/нормализация);\n",
    "* * `'lbfgs'` — [метод Бройдена — Флетчера — Гольдфарба — Шанно](https://ru.wikipedia.org/wiki/Алгоритм_Бройдена_—_Флетчера_—_Гольдфарба_—_Шанно) (не нужна стандартизация/нормализация; используется по умолчанию, так как из всех методов теоретически обеспечивает наилучшую сходимость);\n",
    "* * `'liblinear'` — [метод покоординатного спуска](http://www.machinelearning.ru/wiki/index.php?title=Метод_покоординатного_спуска) (не нужна стандартизация/нормализация).\n",
    "* `max_iter` — максимальное количество итераций, выделенных на сходимость.\n"
   ]
  },
  {
   "cell_type": "code",
   "execution_count": 1,
   "metadata": {},
   "outputs": [
    {
     "data": {
      "text/html": [
       "<div>\n",
       "<style scoped>\n",
       "    .dataframe tbody tr th:only-of-type {\n",
       "        vertical-align: middle;\n",
       "    }\n",
       "\n",
       "    .dataframe tbody tr th {\n",
       "        vertical-align: top;\n",
       "    }\n",
       "\n",
       "    .dataframe thead th {\n",
       "        text-align: right;\n",
       "    }\n",
       "</style>\n",
       "<table border=\"1\" class=\"dataframe\">\n",
       "  <thead>\n",
       "    <tr style=\"text-align: right;\">\n",
       "      <th></th>\n",
       "      <th>SNo</th>\n",
       "      <th>X_1</th>\n",
       "      <th>X_2</th>\n",
       "      <th>y</th>\n",
       "    </tr>\n",
       "  </thead>\n",
       "  <tbody>\n",
       "    <tr>\n",
       "      <th>0</th>\n",
       "      <td>0</td>\n",
       "      <td>-0.869144</td>\n",
       "      <td>0.389310</td>\n",
       "      <td>0.0</td>\n",
       "    </tr>\n",
       "    <tr>\n",
       "      <th>1</th>\n",
       "      <td>1</td>\n",
       "      <td>-0.993467</td>\n",
       "      <td>-0.610591</td>\n",
       "      <td>0.0</td>\n",
       "    </tr>\n",
       "    <tr>\n",
       "      <th>2</th>\n",
       "      <td>2</td>\n",
       "      <td>-0.834064</td>\n",
       "      <td>0.239236</td>\n",
       "      <td>0.0</td>\n",
       "    </tr>\n",
       "    <tr>\n",
       "      <th>3</th>\n",
       "      <td>3</td>\n",
       "      <td>-0.136471</td>\n",
       "      <td>0.632003</td>\n",
       "      <td>1.0</td>\n",
       "    </tr>\n",
       "    <tr>\n",
       "      <th>4</th>\n",
       "      <td>4</td>\n",
       "      <td>0.403887</td>\n",
       "      <td>0.310784</td>\n",
       "      <td>1.0</td>\n",
       "    </tr>\n",
       "  </tbody>\n",
       "</table>\n",
       "</div>"
      ],
      "text/plain": [
       "   SNo       X_1       X_2    y\n",
       "0    0 -0.869144  0.389310  0.0\n",
       "1    1 -0.993467 -0.610591  0.0\n",
       "2    2 -0.834064  0.239236  0.0\n",
       "3    3 -0.136471  0.632003  1.0\n",
       "4    4  0.403887  0.310784  1.0"
      ]
     },
     "execution_count": 1,
     "metadata": {},
     "output_type": "execute_result"
    }
   ],
   "source": [
    "import pandas as pd\n",
    "\n",
    "data = pd.read_csv('task_data.zip')\n",
    "data.head()"
   ]
  },
  {
   "cell_type": "markdown",
   "metadata": {},
   "source": [
    "Обучите модель логистической регрессии для предсказания целевого признака `y`. В качестве алгоритма оптимизации используйте `стохастический градиентный спуск` (масштабировать данные не нужно). В качестве значения параметра `random_state` возьмите число `42`, остальные параметры оставьте по умолчанию.\n",
    "\n",
    "Воспользуйтесь функцией `plot_probabilities_2d()`, которую мы объявили ранее. Постройте визуализацию разделяющей поверхности.\n",
    "\n",
    "Сколько объектов класса `0` будут неверно отнесены моделью к классу `1`?"
   ]
  },
  {
   "cell_type": "code",
   "execution_count": 2,
   "metadata": {},
   "outputs": [],
   "source": [
    "import pandas as pd #для анализа и предобработки данных\n",
    "import matplotlib.pyplot as plt #для визуализации\n",
    "import seaborn as sns #для визуализации\n",
    "\n",
    "from sklearn import linear_model #линейные модели\n",
    "from sklearn import metrics #метрики\n",
    "\n",
    "from sklearn.model_selection import train_test_split #сплитование выборки\n",
    "from sklearn import preprocessing #предобработка"
   ]
  },
  {
   "cell_type": "code",
   "execution_count": 3,
   "metadata": {},
   "outputs": [],
   "source": [
    "X = data[['X_1', 'X_2']]\n",
    "y = data['y']"
   ]
  },
  {
   "cell_type": "code",
   "execution_count": 5,
   "metadata": {},
   "outputs": [
    {
     "data": {
      "text/plain": [
       "LogisticRegression(random_state=42, solver='sag')"
      ]
     },
     "execution_count": 5,
     "metadata": {},
     "output_type": "execute_result"
    }
   ],
   "source": [
    "#Создаем объект класса логистическая регрессия\n",
    "log_reg_2d = linear_model.LogisticRegression(random_state=42, solver='sag')\n",
    "#Обучаем модель, минизируя logloss\n",
    "log_reg_2d.fit(X, y)"
   ]
  },
  {
   "cell_type": "code",
   "execution_count": 6,
   "metadata": {},
   "outputs": [],
   "source": [
    "#Функция для визуализации модели\n",
    "def plot_probabilities_2d(X, y, model):\n",
    "    #Генерируем координатную сетку из всех возможных значений для признаков\n",
    "    #Glucose изменяется от x1_min = 44 до x2_max = 199, \n",
    "    #BMI - от x2_min = 18.2 до x2_max = 67.1\n",
    "    #Результат работы функции - два массива xx1 и xx2, которые образуют координатную сетку\n",
    "    xx1, xx2 = np.meshgrid(\n",
    "        np.arange(X.iloc[:, 0].min()-1, X.iloc[:, 0].max()+1, 0.1),\n",
    "        np.arange(X.iloc[:, 1].min()-1, X.iloc[:, 1].max()+1, 0.1)\n",
    "    )\n",
    "    #Вытягиваем каждый из массивов в вектор-столбец - reshape(-1, 1)\n",
    "    #Объединяем два столбца в таблицу с помощью hstack\n",
    "    X_net = np.hstack([xx1.reshape(-1, 1), xx2.reshape(-1, 1)])\n",
    "    #Предсказывает вероятность для всех точек на координатной сетке\n",
    "    #Нам нужна только вероятность класса 1\n",
    "    probs = model.predict_proba(X_net)[:, 1]\n",
    "    #Переводим столбец из вероятностей в размер координатной сетки\n",
    "    probs = probs.reshape(xx1.shape)\n",
    "    #Создаем фигуру и координатную плоскость\n",
    "    fig, ax = plt.subplots(figsize = (10, 5))\n",
    "    #Рисуем тепловую карту вероятностей\n",
    "    contour = ax.contourf(xx1, xx2, probs, 100, cmap='bwr')\n",
    "    #Рисуем разделяющую плоскость - линия, где вероятность равна 0.5\n",
    "    bound = ax.contour(xx1, xx2, probs, [0.5], linewidths=2, colors='black');\n",
    "    #Добавляем цветовую панель \n",
    "    colorbar = fig.colorbar(contour)\n",
    "    #Накладываем поверх тепловой карты диаграмму рассеяния\n",
    "    sns.scatterplot(x=X.iloc[:, 0], y=X.iloc[:, 1], hue=y, palette='seismic', ax=ax)\n",
    "    #Даем графику название\n",
    "    ax.set_title('Scatter Plot with Decision Boundary');\n",
    "    #Смещаем легену в верхний левый угол вне графика\n",
    "    ax.legend(bbox_to_anchor=(-0.05, 1))"
   ]
  },
  {
   "cell_type": "code",
   "execution_count": 7,
   "metadata": {},
   "outputs": [
    {
     "name": "stderr",
     "output_type": "stream",
     "text": [
      "c:\\Users\\AubakirovMA\\Anaconda3\\lib\\site-packages\\sklearn\\base.py:450: UserWarning: X does not have valid feature names, but LogisticRegression was fitted with feature names\n",
      "  warnings.warn(\n"
     ]
    },
    {
     "data": {
      "image/png": "[encoded data removed]",
      "text/plain": [
       "<Figure size 720x360 with 2 Axes>"
      ]
     },
     "metadata": {
      "needs_background": "light"
     },
     "output_type": "display_data"
    }
   ],
   "source": [
    "plot_probabilities_2d(X, y, log_reg_2d)"
   ]
  },
  {
   "cell_type": "markdown",
   "metadata": {},
   "source": [
    "# 3. Метрики классификации. Мультиклассовая классификация <a class=\"anchor\" id=3></a>\n",
    "\n",
    "[к содержанию](#0)\n",
    "\n",
    "Будем рассматривать метрики для задачи регрессии на следующем примере. Мы выбрали случайным образом десять пациентов из нашей таблицы и предсказали для них моделью `log_reg_full` ответы:\n",
    "\n",
    "`y = (1, 2, 1, 1, 2, 1, 1, 2, 1, 1)`\n",
    "\n",
    "`y_ = (1, 1, 0, 1, 0, 0, 1, 1, 0, 1)`\n",
    "\n",
    "Все метрики, которые мы рассмотрим, основаны на матрице ошибок. С неё мы и начнём наш разбор.\n",
    "\n",
    ">Матрица ошибок (`confusion matrix`) показывает все возможные исходы совпадения и несовпадения предсказания модели с действительностью. Используется для расчёта других метрик.\n",
    "\n",
    "Допустим, у нас есть два класса и алгоритм, предсказывающий принадлежность каждого объекта одному из классов.\n",
    "\n",
    "Назовём класс `1` **положительным исходом** (`positive`), а класс `0` — **отрицательным исходом** (`negative`).\n",
    "\n",
    "Тогда матрица ошибок классификации будет выглядеть следующим образом:\n",
    "\n",
    "<img src=ml3_img18.png>\n",
    "\n",
    "Матрице соответствуют четыре возможных исхода классификации:\n",
    "\n",
    "`True Positive (TP)` — количество ответов, обозначенных моделью как класс 1 (`y_ = 1`) и действительно являющихся классом 1 (`y = 1`).\n",
    "`False Positive (FP)` — количество ответов, обозначенных моделью как класс 1 (`y_ = 1`), но в действительности являющихся классом 0 (`y = 0`).\n",
    "`False Negative (FN)` — количество ответов, обозначенных моделью как класс 0 (`y_ = 0`), но в действительности являющихся классом 1 (`y = 1`).\n",
    "`True Negative (TN)` — количество ответов, обозначенных моделью как класс 0 (`y_ = 0`) и действительно являющихся классом 0 (`y = 0`).\n",
    "Для наглядности можно представить предсказания модели следующей схемой:\n",
    "\n",
    "<img src=ml3_img19.png>\n",
    "\n",
    "Давайте посмотрим, как будет выглядеть матрица ошибок для нашего примера предсказаний модели `log_reg_full`:\n",
    "\n",
    "* `TP = 4`\n",
    "* `FP = 2`\n",
    "* `FN = 3`\n",
    "* `TN = 1`\n",
    "\n",
    ">**Примечание**. Нередко в русской литературе вы можете встретить перевод метрики `accuracy` как «точность», однако так же на русский язык переводится метрика `precision`, о которой мы поговорим далее. Поэтому, если вы используете термин «точность», старайтесь указывать, о какой именно метрике (`accuracy` или `precision`) идёт речь.\n",
    "\n",
    "На основе матрицы ошибок составляются следующие метрики классификации ↓ \n",
    "\n",
    ">`Accuracy` (достоверность) — доля правильных ответов модели среди всех ответов. **Правильные ответы** — это истинно положительные (`True Positive`) и истинно отрицательные ответы (`True Negative`):\n",
    "\n",
    "**`accuracy = (TP + TN) / (TP + TN + FP + FN)`**\n",
    "\n",
    "**Интерпретация**: как много (в долях) модель угадала ответов.\n",
    "\n",
    "Метрика изменяется в диапазоне от 0 до 1. Чем ближе значение к 1, тем больше ответов модель «угадала». \n",
    "\n",
    "Рассчитаем accuracy для нашего примера:\n",
    "\n",
    "`accuarcy = (4 + 5)/(4 + 2 + 3 + 1) = 0.5`\n",
    "\n",
    "Итак, наша `accuracy` равна `0.5`, то есть модель сделала верное предсказание для 50 % пациентов из выборки.\n",
    "\n",
    ">`Accuracy` — самая простая и самая понятная метрика классификации, но у неё есть один существенный недостаток. **Она бесполезна, если классы сильно несбалансированы**.\n",
    "\n",
    ">>Допустим, мы хотим оценить работу спам-фильтра почты. Спам-письма обозначены как Positive (1), а не-спам-письма — как Negative (0).\n",
    ">>\n",
    ">>У нас есть 100 не-спам-писем, 90 из которых наш классификатор определил верно (True Negative = 90, False Positive = 10), и 10 спам-писем, 5 из которых классификатор также определил верно (True Positive = 5, False Negative = 5).\n",
    ">>\n",
    ">>Тогда accuracy: (5+90)/(5+90+10+5) = 0.864\n",
    ">>\n",
    ">>Однако представим, что мы просто будем предсказывать все письма как не спам, то есть True Positive = 100, True Negative = 0, False Positive = 10, False Negative = 0.\n",
    ">>\n",
    ">>Тогда accuracy будет равна: (0+100)/(0+100+0+10) = 0.909\n",
    ">>\n",
    ">>Метрика выросла, однако, наша «модель» не обладает **никакой предсказательной силой**, так как изначально мы хотели определять письма со спамом. \n",
    ">>\n",
    ">>Преодолеть это нам поможет переход с общей для всех классов метрики к отдельным показателям качества классов."
   ]
  },
  {
   "cell_type": "markdown",
   "metadata": {},
   "source": [
    "`Precision` (точность), или `PPV` (`Positive Predictive Value`) — это доля объектов, которые действительно являются положительными, по отношению ко всем объектам, названным моделью положительными.\n",
    "\n",
    "`precision = TP / (TP + FP)`\n",
    "\n",
    "<img src=ml3_img20.png>\n",
    "\n",
    "Метрика также изменяется от 0 до 1. \n",
    "\n",
    "Интерпретация: способность отделить класс 1 от класса 0. Чем больше `precision`, тем меньше ложных попаданий. \n",
    "\n",
    "Именно `precision` не позволяет записать все ответы в один класс, так как в таком случае резко возрастает значение `False Positive` и метрика снижается.\n",
    "\n",
    "Рассчитаем `precision` для нашего примера:\n",
    "\n",
    "`precision = 4 / (4+2) = 0.67`\n",
    "\n",
    "Таким образом, количество названных моделью больных диабетом и при этом действительно являющихся больными составляет `67 %` от всех пациентов.\n",
    "\n",
    "`Precision` нужен в задачах, где от нас требуется **минимум ложных срабатываний**. Чем выше «цена» ложноположительного результата, тем выше должен быть `precision`.\n",
    "\n",
    "Например, по камерам видеонаблюдения мы автоматически выявляем признаки драки на улицах и отправляем наряд полиции для урегулирования конфликта. Однако штат сотрудников сильно ограничен, реагировать на любой признак конфликта мы не можем, поэтому мы хотим уменьшить количество ложных вызовов. В такой ситуации мы выберем такую модель, у которой наибольший `precision`.\n",
    "\n",
    "В предельном случае (когда `precision` равен 1) у модели отсутствуют ложные срабатывания.\n",
    "\n",
    "`Recall` (полнота), или `TPR` (`True Positive Rate`) — это доля объектов, названных классификатором положительными, по отношению ко всем объектам положительного класса.\n",
    "\n",
    "`recall = TP / (TP + FN)`\n",
    "\n",
    "<img src=ml3_img21.png>\n",
    "\n",
    "Метрика изменяется от 0 до 1.\n",
    "\n",
    "Интерпретация: способность модели обнаруживать класс 1 вообще, то есть охват класса 1. Заметьте, что ложные срабатывания не влияют на recall. \n",
    "\n",
    "Рассчитаем `recall` для нашего примера:\n",
    "\n",
    "`recall = 4 / (4 + 3) = 0.57`\n",
    "\n",
    "`Recall` очень хорошо себя показывает в задачах, где важно **найти как можно больше объектов**, принадлежащих к классу 1.\n",
    "\n",
    "Например, это различные диагностические задачи с серьёзными заболеваниями. В таких задачах последствия будут негативнее, если мы примем больного пациента за здорового, чем если мы примем здорового за больного. Нам важно охватить всех потенциально больных пациентов, чтобы сделать дополнительный анализ и удостовериться в результате.\n",
    "\n",
    "Предельный случай (когда `recall` равен 1) означает, что модель нашла все объекты класса 1, например всех действительно больных пациентов. Однако метрика ничего не скажет о том, **с какой точностью мы это сделали**.\n",
    "\n",
    "Метрики `precision` и `recall` не зависят от сбалансированности классов и в совокупности дают довольно исчерпывающее представление о классификаторе. Однако на практике часто бывает так, что увеличение одной из метрик может привести к уменьшению другой.\n",
    "\n",
    "Концентрация только на одной метрике (`precision` или `recall`) **без учёта второй — сомнительная идея**.\n",
    "\n",
    "В битве за максимум `precision` для класса 1 побеждает модель, которая всегда будет говорить говорить «нет». У неё вообще не будет ложных срабатываний.\n",
    "\n",
    "В битве за максимум `recall` для класса 1 побеждает модель, которая всегда будет говорить «да». Она охватит все наблюдения класса 1. \n",
    "\n",
    "**В реальности необходимо балансировать между двумя этими метриками.**"
   ]
  },
  {
   "cell_type": "markdown",
   "metadata": {},
   "source": [
    "Классическим примером является **задача определения оттока клиентов**.\n",
    "\n",
    "Очевидно, что мы хотим найти как можно больше клиентов, которые потенциально могут уйти от нас. Чтобы повысить их лояльность, мы планируем использовать ресурсы колл-центра. Однако они ограничены и мы не можем звонить всем клиентам. Определив стратегию и ресурс для удержания клиентов, мы можем подобрать нужные пороги по precision и recall. Например, можно сосредоточиться на удержании только высокодоходных клиентов или тех, кто уйдёт с большей вероятностью. \n",
    "\n",
    "В таком случае нам подойдёт следующая метрика.\n",
    "\n",
    "<img src=ml3_img22.png>\n",
    "\n",
    "В частном случае, когда `beta = 1`, мы получаем равный вклад для `precision` и `recall`, а формула будет выражать простое среднее гармоническое, или метрику `F1` (`F1`-мера):\n",
    "\n",
    "Рассчитаем метрику `F1` для нашего примера:\n",
    "\n",
    "`F1 = 2 * (0.67 + 0.57) / (0.67 + 0.57) = 0.62`\n",
    "\n",
    "В чём преимущество `F1`-меры?\n",
    "\n",
    "Метрика равна своему максимуму (1), если и `precision`, и `recall` равны `1`. Но если хотя бы одна из метрик будет близка к 0, то и `F1` будет близка к 0. \n",
    "\n",
    "Несмотря на отсутствие бизнес-интерпретации, метрика `F1` является довольно распространённой и используется в задачах, где необходимо выбрать модель, которая балансирует между `precision` и `recall`.\n",
    "\n",
    "Например, если цена дополнительной диагностики заболевания очень высока, то есть ложных срабатываний должно быть минимум, но при этом нам важно охватить как можно больше больных пациентов. \n",
    "\n",
    "Давайте обобщим всё вышесказанное в виде таблицы:"
   ]
  },
  {
   "cell_type": "markdown",
   "metadata": {},
   "source": [
    "<img src=ml3_img23.png>"
   ]
  },
  {
   "cell_type": "markdown",
   "metadata": {},
   "source": [
    "# 3.1 Расчёт метрик на python <a class=\"anchor\" id=3-1></a>\n",
    "\n",
    "[к содержанию](#0)\n"
   ]
  },
  {
   "cell_type": "code",
   "execution_count": 9,
   "metadata": {},
   "outputs": [],
   "source": [
    "import numpy as np #для матричных вычислений\n",
    "import pandas as pd #для анализа и предобработки данных\n",
    "import matplotlib.pyplot as plt #для визуализации\n",
    "import seaborn as sns #для визуализации\n",
    "\n",
    "from sklearn import linear_model #линейные модели\n",
    "from sklearn import metrics #метрики\n",
    "\n",
    "from sklearn.model_selection import train_test_split #сплитование выборки\n",
    "from sklearn import preprocessing #предобработка\n",
    "%matplotlib inline\n",
    "plt.style.use('seaborn')"
   ]
  },
  {
   "cell_type": "markdown",
   "metadata": {},
   "source": [
    "Функции, которые нам понадобятся:\n",
    "\n",
    "* `confusion_matrix()` — расчёт матрицы ошибок,\n",
    "* `accuracy_score()` — расчёт `accuracy`,\n",
    "* `precision_score()` — расчёт `precision`,\n",
    "* r`ecall_score()` — расчёт `recall`,\n",
    "* `f1_score()` — расчёт `F1`-меры.\n",
    "\n",
    "Каждая из этих функций первым аргументом принимает предсказанные значения целевой переменной `y_`, а вторым аргументом — истинные ответы `y`.\n",
    "\n",
    "Давайте составим матрицы ошибок для моделей `log_reg_2d` и `log_reg_full`, которые мы обучили в прошлом юните.\n",
    "\n",
    "Для этого сделаем предсказание наличия диабета для всех пациентов с помощью каждой из моделей:"
   ]
  },
  {
   "cell_type": "code",
   "execution_count": 23,
   "metadata": {},
   "outputs": [
    {
     "name": "stderr",
     "output_type": "stream",
     "text": [
      "c:\\Users\\AubakirovMA\\Anaconda3\\lib\\site-packages\\sklearn\\linear_model\\_logistic.py:814: ConvergenceWarning: lbfgs failed to converge (status=1):\n",
      "STOP: TOTAL NO. of ITERATIONS REACHED LIMIT.\n",
      "\n",
      "Increase the number of iterations (max_iter) or scale the data as shown in:\n",
      "    https://scikit-learn.org/stable/modules/preprocessing.html\n",
      "Please also refer to the documentation for alternative solver options:\n",
      "    https://scikit-learn.org/stable/modules/linear_model.html#logistic-regression\n",
      "  n_iter_i = _check_optimize_result(\n"
     ]
    },
    {
     "data": {
      "text/plain": [
       "LogisticRegression(random_state=42)"
      ]
     },
     "execution_count": 23,
     "metadata": {},
     "output_type": "execute_result"
    }
   ],
   "source": [
    "diabetes_data = pd.read_csv('diabetes_cleaned.zip')\n",
    "#Создаем объект класса логистическая регрессия\n",
    "log_reg_2d = linear_model.LogisticRegression(random_state=42)\n",
    "#Обучаем модель, минизируя logloss\n",
    "log_reg_2d.fit(diabetes_data[['Glucose', 'BMI']], diabetes_data['Outcome'])\n",
    "#Создаем объект класса логистическая регрессия\n",
    "log_reg_full = linear_model.LogisticRegression(random_state=42)\n",
    "#Обучаем модель, минизируя logloss\n",
    "log_reg_full.fit(diabetes_data.drop('Outcome', axis=1), diabetes_data['Outcome'])"
   ]
  },
  {
   "cell_type": "code",
   "execution_count": 24,
   "metadata": {},
   "outputs": [],
   "source": [
    "#Делаем предсказание моделью, обученной на двух факторах \n",
    "y_pred1 = log_reg_2d.predict(diabetes_data[['Glucose', 'BMI']])\n",
    "#Делаем предсказание моделью, обученной на всех факторах \n",
    "y_pred2 = log_reg_full.predict(diabetes_data.drop('Outcome', axis=1))"
   ]
  },
  {
   "cell_type": "code",
   "execution_count": 25,
   "metadata": {},
   "outputs": [
    {
     "data": {
      "image/png": "[encoded data removed]",
      "text/plain": [
       "<Figure size 864x360 with 4 Axes>"
      ]
     },
     "metadata": {},
     "output_type": "display_data"
    }
   ],
   "source": [
    "#Строим матрицы ошибок для каждой из моделей\n",
    "confusion_matrix1 = metrics.confusion_matrix(y, y_pred1)\n",
    "confusion_matrix2 = metrics.confusion_matrix(y, y_pred2)\n",
    "#Визуализируем матрицы ошибок\n",
    "fig, axes = plt.subplots(1, 2, figsize=(12, 5)) #фигура + 2 координатные плоскости\n",
    "#Строим тепловую карту для первой матрицы ошибок\n",
    "sns.heatmap(confusion_matrix1, annot=True, fmt='', ax=axes[0], cmap='Blues')\n",
    "#Добавляем название графику и подписи осей абсцисс и ординат\n",
    "axes[0].set_title('Confusion matrix for log_reg_2d')\n",
    "axes[0].set_xlabel('y prediction')\n",
    "axes[0].set_ylabel('y true')\n",
    "#Строим тепловую карту для второй матрицы ошибок\n",
    "sns.heatmap(confusion_matrix2, annot=True, fmt='', ax=axes[1], cmap='Blues')\n",
    "#Добавляем название графику и подписи осей абсцисс и ординат\n",
    "axes[1].set_title('Confusion matrix for log_reg_full')\n",
    "axes[1].set_xlabel('y prediction')\n",
    "axes[1].set_ylabel('y true');"
   ]
  },
  {
   "cell_type": "markdown",
   "metadata": {},
   "source": [
    "Видно, что матрицы ошибок незначительно отличаются по своим составляющим. На их основе можно вручную вычислить остальные метрики для каждой из моделей, но мы воспользуемся встроенными функциями.\n",
    "Расчёт метрик для модели `log_reg_2d`, обученной на двух факторах — `Glucose` и `BMI`:"
   ]
  },
  {
   "cell_type": "code",
   "execution_count": 26,
   "metadata": {},
   "outputs": [
    {
     "name": "stdout",
     "output_type": "stream",
     "text": [
      "Accuracy: 0.76\n",
      "Precision: 0.71\n",
      "Recall: 0.53\n",
      "F1 score: 0.61\n"
     ]
    }
   ],
   "source": [
    "#Модель log_reg_2d:\n",
    "#Рассчитываем accuracy\n",
    "print('Accuracy: {:.2f}'.format(metrics.accuracy_score(y, y_pred1)))\n",
    "#Рассчитываем precision\n",
    "print('Precision: {:.2f}'.format(metrics.precision_score(y, y_pred1)))\n",
    "#Рассчитываем recall\n",
    "print('Recall: {:.2f}'.format(metrics.recall_score(y, y_pred1)))\n",
    "#Рассчитываем F1-меру\n",
    "print('F1 score: {:.2f}'.format(metrics.f1_score(y, y_pred1)))"
   ]
  },
  {
   "cell_type": "code",
   "execution_count": 27,
   "metadata": {},
   "outputs": [
    {
     "name": "stdout",
     "output_type": "stream",
     "text": [
      "Accuracy: 0.77\n",
      "Precision: 0.72\n",
      "Recall: 0.55\n",
      "F1 score: 0.62\n"
     ]
    }
   ],
   "source": [
    "#Модель log_reg_full:\n",
    "#Рассчитываем accuracy\n",
    "print('Accuracy: {:.2f}'.format(metrics.accuracy_score(y, y_pred2)))\n",
    "#Рассчитываем precision\n",
    "print('Precision: {:.2f}'.format(metrics.precision_score(y, y_pred2)))\n",
    "#Рассчитываем recall\n",
    "print('Recall: {:.2f}'.format(metrics.recall_score(y, y_pred2)))\n",
    "#Рассчитываем F1-меру\n",
    "print('F1 score: {:.2f}'.format(metrics.f1_score(y, y_pred2)))"
   ]
  },
  {
   "cell_type": "markdown",
   "metadata": {},
   "source": [
    "А теперь давайте сравним:\n",
    "\n",
    "* `Accuracy`: доля правильных ответов для первой модели составляет `0.76`, для второй — `0.77`.\n",
    "* `Precision`: способность первой модели отделять больных диабетом пациентов от здоровых пациентов составляет `0.71`, а второй — `0.72`.\n",
    "* `Recall`: обобщающая способность находить больных пациентов среди всех пациентов для первой модели — `0.53`, а для второй — `0.56`.\n",
    "* `F1`: среднее гармоническое между `precision` и `recall` для первой модели составляет `0.61`, а для второй — `0.63`.\n",
    "\n",
    ">Видно, что хоть и с небольшим отрывом, но вторая модель, обученная по всем признакам, превосходит первую модель по всем метрикам.\n",
    "\n",
    "Для облегчения расчёта метрик можно использовать функцию `classification_report()` из модуля `metrics`. Она возвращает отчёт обо всех метриках классификации:"
   ]
  },
  {
   "cell_type": "code",
   "execution_count": 28,
   "metadata": {},
   "outputs": [
    {
     "name": "stdout",
     "output_type": "stream",
     "text": [
      "              precision    recall  f1-score   support\n",
      "\n",
      "           0       0.79      0.88      0.83       493\n",
      "           1       0.72      0.55      0.62       264\n",
      "\n",
      "    accuracy                           0.77       757\n",
      "   macro avg       0.75      0.72      0.73       757\n",
      "weighted avg       0.76      0.77      0.76       757\n",
      "\n"
     ]
    }
   ],
   "source": [
    "print(metrics.classification_report(y, y_pred2))"
   ]
  },
  {
   "cell_type": "markdown",
   "metadata": {},
   "source": [
    "**Что здесь отображено?**\n",
    "\n",
    "1. В первой части таблицы отображаются метрики `precision`, `recall` и `f1-score`, рассчитанные для каждого класса в отдельности. Столбец `support` — это количество объектов каждого из классов.\n",
    "2. Во второй части таблицы отображена общая метрика accuracy. \n",
    "3. Далее идёт строка `macro avg` — это среднее значение метрики между классами 1 и 0. Например, значение в строке `macro avg` и столбце `recall = (0.88 + 0.56)/2=0.72`.\n",
    "4. Завершает отчёт строка `weighted avg` — это средневзвешенное значение метрики между классами 1 и 0. Рассчитывается по формуле:\n",
    "\n",
    "`score_weighted_avg = 0.998 * score_class_0 + 0.002 * score_class_1`\n",
    "\n",
    "Ранее мы говорили о метриках `precision`, `recall` и  только в контексте класса 1 (болеет диабетом). В отчёте `classification_report()` эти метрики рассчитаны и для класса 0. Смысл остаётся тем же, просто замените в рассуждениях класс 1 на класс 0.\n",
    "\n",
    "Представим ситуацию, что дополнительная диагностика диабета в нашей клинике довольно дорогая. Но при этом нам важно выявить диабет у как можно большего числа людей. То есть нам важен и `precision`, и `recall`.\n",
    "\n",
    "При этом наш `recall` равен 0.56, то есть мы находим только 56 % больных диабетом пациентов среди всех болеющих диабетом. Согласитесь, не очень хороший показатель (чуть выше половины). Можем ли мы его как-то улучшить?\n",
    "\n",
    "Давайте будем изменять порог принятия решений. Сейчас порог составляет 0.5: то есть если вероятность наличия диабета у пациента выше 0.5, то модель относит его к больным диабетом, а если меньше 0.5 — к здоровым.\n",
    "\n",
    "Но как будут меняться значения метрик `recall`, `precision` и `F1`, если мы попробуем изменить порог вероятности, например на 0.4, 0.3 или 0.6? Давайте проследим за этим."
   ]
  },
  {
   "cell_type": "markdown",
   "metadata": {},
   "source": [
    ">**Примечание**. Геометрически регулировка порога вероятности для логистической регрессии означает движение разделяющей плоскости.\n",
    "\n",
    "Сделаем предсказание вероятности наличия диабета моделью `log_reg_full` для каждого пациента из нашей выборки. Затем создадим несколько различных порогов вероятности в диапазоне от 0.1 до 1 с шагом 0.05. В цикле будем определять класс пациента при различных порогах вероятности. В конце рассчитаем метрики."
   ]
  },
  {
   "cell_type": "code",
   "execution_count": 29,
   "metadata": {},
   "outputs": [],
   "source": [
    "#Считаем вероятности наличия диабета для каждого из пациентов\n",
    "#Нас интересует только вероятность класса (второй столбец)\n",
    "y_proba_pred = log_reg_full.predict_proba(diabetes_data.drop('Outcome', axis=1))[:, 1]\n",
    "#Для удобства завернём numpy-массив в Pandas Series\n",
    "y_proba_pred = pd.Series(y_proba_pred)\n",
    "#Создадим списки, в которых будем хранить значения метрик \n",
    "recall_scores = []\n",
    "precision_scores = []\n",
    "f1_scores = []\n",
    "#Сгенерируем набор вероятностных порогов в диапазоне от 0.1 до 1\n",
    "thresholds = np.arange(0.1, 1, 0.05)\n",
    "#В цикле будем перебирать сгенерированные пороги\n",
    "for threshold in thresholds:\n",
    "    #Пациентов, для которых вероятность наличия диабета > threshold, относим к классу 1\n",
    "    #В противном случае — к классу 0\n",
    "    y_pred = y_proba_pred.apply(lambda x: 1 if x>threshold else 0)\n",
    "    #Считаем метрики и добавляем их в списки\n",
    "    recall_scores.append(metrics.recall_score(y, y_pred))\n",
    "    precision_scores.append(metrics.precision_score(y, y_pred))\n",
    "    f1_scores.append(metrics.f1_score(y, y_pred))"
   ]
  },
  {
   "cell_type": "markdown",
   "metadata": {},
   "source": [
    "Теперь у нас есть три списка (`recall_scores`, `precision_scores` и `f1_scores`), в которых хранятся значения метрик при различных значениях порога вероятности .\n",
    "\n",
    "Давайте построим графики зависимости метрик от порога вероятности:"
   ]
  },
  {
   "cell_type": "code",
   "execution_count": 30,
   "metadata": {},
   "outputs": [
    {
     "data": {
      "image/png": "[encoded data removed]",
      "text/plain": [
       "<Figure size 720x288 with 1 Axes>"
      ]
     },
     "metadata": {},
     "output_type": "display_data"
    }
   ],
   "source": [
    "#Визуализируем метрики при различных threshold\n",
    "fig, ax = plt.subplots(figsize=(10, 4)) #фигура + координатная плоскость\n",
    "#Строим линейный график зависимости recall от threshold\n",
    "ax.plot(thresholds, recall_scores, label='Recall')\n",
    "#Строим линейный график зависимости precision от threshold\n",
    "ax.plot(thresholds, precision_scores, label='Precision')\n",
    "#Строим линейный график зависимости F1 от threshold\n",
    "ax.plot(thresholds, f1_scores, label='F1-score')\n",
    " \n",
    "#Даём графику название и подписываем оси\n",
    "ax.set_title('Recall/Precision/F1 dependence on the threshold')\n",
    "ax.set_xlabel('Probability threshold')\n",
    "ax.set_ylabel('Score')\n",
    "#Устанавливаем отметки по оси x\n",
    "ax.set_xticks(thresholds) \n",
    "#Отображаем легенду\n",
    "ax.legend();"
   ]
  },
  {
   "cell_type": "markdown",
   "metadata": {},
   "source": [
    ">Что мы видим на графике?\n",
    ">\n",
    ">С увеличением вероятностного порога повышается `precision` и падает `recall`. Очевидно, что с увеличением порога вероятности мы начинаем классифицировать как диабетиков только тех пациентов, в диагнозе которых мы хорошо уверены, то есть мы повышаем точность (`precision`), но при этом мы отсекаем пациентов, которые больны, но модель выдаёт низкую вероятность болезни, то есть мы уменьшаем охват (`recall`).\n",
    ">\n",
    ">При этом значение `F1`-меры сначала немного повышается, а затем неуклонно падает.\n",
    ">\n",
    ">Интересной является точка `threshold=0.4`, где происходит пересечение всех трёх графиков. Это точка равенства `precision` и `recall` и, как следует из формулы, равенства `F1`-меры.\n",
    ">\n",
    ">Однако максимум `F1`-меры достигается в другой точке — `threshold=0.35`. При этом значения `recall` и `precision` в этой точке различны: `recall` выше, а вот `precision` ниже.\n",
    ">\n",
    ">Перед нами стоит выбор, что для нас все таки важнее: `precision`, `recall` или их равенство. Давайте сделаем выбор в пользу равенства `precision` и `recall`, оно достигается при threshold=0.4.\n",
    "\n",
    "Как теперь мы можем сделать предсказание класса, обладая данной информацией?\n",
    "\n",
    "Мы делаем предсказание вероятности наличия диабета для всех пациентов, а затем вручную определяем всех пациентов, у которых эта вероятность > 0.4, в класс 1, а остальных — в класс 0. Далее считаем метрики:"
   ]
  },
  {
   "cell_type": "code",
   "execution_count": 31,
   "metadata": {},
   "outputs": [
    {
     "name": "stdout",
     "output_type": "stream",
     "text": [
      "              precision    recall  f1-score   support\n",
      "\n",
      "           0       0.83      0.82      0.82       493\n",
      "           1       0.67      0.67      0.67       264\n",
      "\n",
      "    accuracy                           0.77       757\n",
      "   macro avg       0.75      0.75      0.75       757\n",
      "weighted avg       0.77      0.77      0.77       757\n",
      "\n"
     ]
    }
   ],
   "source": [
    "#Задаём оптимальный порог вероятностей\n",
    "threshold_opt = 0.4\n",
    "#Пациентов, для которых вероятность наличия диабета > 0.4, относим к классу 1\n",
    "#В противном случае — к классу 0\n",
    "y_pred_opt = y_proba_pred.apply(lambda x: 1 if x > threshold_opt else 0)\n",
    "#Считаем метрики\n",
    "print(metrics.classification_report(y, y_pred_opt))"
   ]
  },
  {
   "cell_type": "code",
   "execution_count": 32,
   "metadata": {},
   "outputs": [
    {
     "name": "stdout",
     "output_type": "stream",
     "text": [
      "              precision    recall  f1-score   support\n",
      "\n",
      "           0       0.50      0.67      0.57         3\n",
      "           1       0.75      0.60      0.67         5\n",
      "\n",
      "    accuracy                           0.62         8\n",
      "   macro avg       0.62      0.63      0.62         8\n",
      "weighted avg       0.66      0.62      0.63         8\n",
      "\n"
     ]
    }
   ],
   "source": [
    "print(metrics.classification_report([0, 0, 1, 1, 1, 1, 0, 1], [0, 1, 0, 0, 1, 1, 0, 1]))"
   ]
  },
  {
   "cell_type": "markdown",
   "metadata": {},
   "source": [
    "# 3.2 Мультиклассовая классификация <a class=\"anchor\" id=3-2></a>\n",
    "\n",
    "[к содержанию](#0)\n",
    "\n",
    ">Ранее мы с вами рассмотрели основы бинарной классификации. Но что делать, когда классов, на которые необходимо разделить данные, больше 2? Например, классификация автомобилей по различным маркам или определение национальности по фотографии и т. д.\n",
    "\n",
    "В таком случае используется очень простой подход, который называется «`один против всех`» (`one-vs-over`).\n",
    "\n",
    ">Идея этого подхода очень простая. Если у нас есть `k` различных классов (`k > 2`), давайте обучим `k` классификаторов, каждый из которых будет предсказывать вероятности принадлежности каждого объекта к определённому классу.\n",
    "\n",
    "Например, у нас есть три класса, обозначенные как 0, 1 и 2. Тогда мы обучаем три классификатора: первый из них учится отличать класс 0 от классов 1 и 2, второй — класс 1 от классов 0 и 2, а третий — класс 2 от классов 1 и 0. Таким образом, класс, на который «заточен» классификатор, мы обозначаем как 1, а остальные классы — как 0.\n",
    "\n",
    "Когда каждая из трёх моделей сделает предсказание вероятностей для объекта, итоговый классификатор будет выдавать класс, который соответствует самой «уверенной» модели.\n",
    "\n",
    "Схематично это можно представить следующим образом:"
   ]
  },
  {
   "cell_type": "markdown",
   "metadata": {},
   "source": [
    "<img src=ml3_img24.png>\n",
    "\n",
    "Если мы используем в качестве классификатора логистическую регрессию и количество факторов равно двум (`x1` и `x2`), то можно изобразить тепловую карту вероятностей принадлежности к каждому из классов в каждой точке пространства, а также разделяющие плоскости, которые образуются при пороге вероятности в 0.5. \n",
    "\n",
    "<img src=ml3_img25.png>\n",
    "\n",
    "На тепловых картах каждый класс обозначен своим цветом: 0 — зелёным, 1 — жёлтым, 2 — синим. Чем ярче цвет, тем выше вероятность принадлежности к каждому к классу в этой области пространства.\n",
    "\n",
    "В результате у нас получится три различных пространства вероятностей, что-то вроде трёх параллельных реальностей. Чтобы собрать всё это воедино, мы выбираем в каждой точке пространства максимум из вероятностей. Получим следующую картину:\n",
    "\n",
    "<img src=ml3_img26.png>\n",
    "\n",
    "Модель логистической регрессии легко обобщается на случай мультиклассовой классификации. Пусть мы построили несколько разделяющих плоскостей с различными наборами параметров `k`, где `k` — номер классификатора. То есть имеем `K` разделяющих плоскостей:\n",
    "\n",
    "<img src=ml3_img27.png>"
   ]
  },
  {
   "cell_type": "markdown",
   "metadata": {},
   "source": [
    "# 3.3 Мультиклассовая классификация на python <a class=\"anchor\" id=3-3></a>\n",
    "\n",
    "[к содержанию](#0)\n",
    "\n",
    "Давайте посмотрим, как логистическая регрессия решает задачу мультиклассовой классификации. \n",
    "\n",
    "Возьмём датасет о пингвинах из библиотеки `seaborn`:"
   ]
  },
  {
   "cell_type": "code",
   "execution_count": 36,
   "metadata": {},
   "outputs": [
    {
     "data": {
      "text/html": [
       "<div>\n",
       "<style scoped>\n",
       "    .dataframe tbody tr th:only-of-type {\n",
       "        vertical-align: middle;\n",
       "    }\n",
       "\n",
       "    .dataframe tbody tr th {\n",
       "        vertical-align: top;\n",
       "    }\n",
       "\n",
       "    .dataframe thead th {\n",
       "        text-align: right;\n",
       "    }\n",
       "</style>\n",
       "<table border=\"1\" class=\"dataframe\">\n",
       "  <thead>\n",
       "    <tr style=\"text-align: right;\">\n",
       "      <th></th>\n",
       "      <th>species</th>\n",
       "      <th>island</th>\n",
       "      <th>bill_length_mm</th>\n",
       "      <th>bill_depth_mm</th>\n",
       "      <th>flipper_length_mm</th>\n",
       "      <th>body_mass_g</th>\n",
       "      <th>sex</th>\n",
       "    </tr>\n",
       "  </thead>\n",
       "  <tbody>\n",
       "    <tr>\n",
       "      <th>0</th>\n",
       "      <td>Adelie</td>\n",
       "      <td>Torgersen</td>\n",
       "      <td>39.1</td>\n",
       "      <td>18.7</td>\n",
       "      <td>181.0</td>\n",
       "      <td>3750.0</td>\n",
       "      <td>MALE</td>\n",
       "    </tr>\n",
       "    <tr>\n",
       "      <th>1</th>\n",
       "      <td>Adelie</td>\n",
       "      <td>Torgersen</td>\n",
       "      <td>39.5</td>\n",
       "      <td>17.4</td>\n",
       "      <td>186.0</td>\n",
       "      <td>3800.0</td>\n",
       "      <td>FEMALE</td>\n",
       "    </tr>\n",
       "    <tr>\n",
       "      <th>2</th>\n",
       "      <td>Adelie</td>\n",
       "      <td>Torgersen</td>\n",
       "      <td>40.3</td>\n",
       "      <td>18.0</td>\n",
       "      <td>195.0</td>\n",
       "      <td>3250.0</td>\n",
       "      <td>FEMALE</td>\n",
       "    </tr>\n",
       "    <tr>\n",
       "      <th>3</th>\n",
       "      <td>Adelie</td>\n",
       "      <td>Torgersen</td>\n",
       "      <td>NaN</td>\n",
       "      <td>NaN</td>\n",
       "      <td>NaN</td>\n",
       "      <td>NaN</td>\n",
       "      <td>NaN</td>\n",
       "    </tr>\n",
       "    <tr>\n",
       "      <th>4</th>\n",
       "      <td>Adelie</td>\n",
       "      <td>Torgersen</td>\n",
       "      <td>36.7</td>\n",
       "      <td>19.3</td>\n",
       "      <td>193.0</td>\n",
       "      <td>3450.0</td>\n",
       "      <td>FEMALE</td>\n",
       "    </tr>\n",
       "  </tbody>\n",
       "</table>\n",
       "</div>"
      ],
      "text/plain": [
       "  species     island  bill_length_mm  bill_depth_mm  flipper_length_mm  \\\n",
       "0  Adelie  Torgersen            39.1           18.7              181.0   \n",
       "1  Adelie  Torgersen            39.5           17.4              186.0   \n",
       "2  Adelie  Torgersen            40.3           18.0              195.0   \n",
       "3  Adelie  Torgersen             NaN            NaN                NaN   \n",
       "4  Adelie  Torgersen            36.7           19.3              193.0   \n",
       "\n",
       "   body_mass_g     sex  \n",
       "0       3750.0    MALE  \n",
       "1       3800.0  FEMALE  \n",
       "2       3250.0  FEMALE  \n",
       "3          NaN     NaN  \n",
       "4       3450.0  FEMALE  "
      ]
     },
     "execution_count": 36,
     "metadata": {},
     "output_type": "execute_result"
    }
   ],
   "source": [
    "penguins_data = pd.read_csv('penguins.csv')\n",
    "penguins_data.head()"
   ]
  },
  {
   "cell_type": "markdown",
   "metadata": {},
   "source": [
    "Описание данных:\n",
    "\n",
    "* `species` — класс пингвина ('Adelie', 'Chinstrap', 'Gentoo'), целевой признак;\n",
    "* `island` — остров, на котором живёт пингвин ('Torgersen', 'Biscoe', 'Dream');\n",
    "* `bill_length_mm` — длина клюва в миллиметрах;\n",
    "* `bill_depth_mm` — толщина клюва в миллиметрах;\n",
    "* `flipper_length_mm` — длина крыльев;\n",
    "* `body_mass_g` — масса;\n",
    "* `sex` — пол ('Male', 'Female').\n",
    "\n",
    "Наша цель — предсказать класс пингвина.\n",
    "\n",
    "Очевидно, что классификация является мультиклассовой, так как возможных значений три.\n",
    "\n",
    "Для начала давайте посмотрим на пропуски в данных:"
   ]
  },
  {
   "cell_type": "code",
   "execution_count": 37,
   "metadata": {},
   "outputs": [
    {
     "data": {
      "text/plain": [
       "species               0\n",
       "island                0\n",
       "bill_length_mm        2\n",
       "bill_depth_mm         2\n",
       "flipper_length_mm     2\n",
       "body_mass_g           2\n",
       "sex                  11\n",
       "dtype: int64"
      ]
     },
     "execution_count": 37,
     "metadata": {},
     "output_type": "execute_result"
    }
   ],
   "source": [
    "penguins_data.isnull().sum()"
   ]
  },
  {
   "cell_type": "markdown",
   "metadata": {},
   "source": [
    "Итак, в некоторых столбцах есть пропуски.\n",
    "\n",
    "Логистическая регрессия — модель, которая не умеет работать с пропусками. Чтобы не получить ошибку, необходимо произвести предварительную предобработку. Для простоты давайте удалим все строки, содержащие пропуски в данных:"
   ]
  },
  {
   "cell_type": "code",
   "execution_count": 38,
   "metadata": {},
   "outputs": [],
   "source": [
    "penguins_data = penguins_data.dropna()"
   ]
  },
  {
   "cell_type": "markdown",
   "metadata": {},
   "source": [
    "Теперь, когда пропусков в данных больше нет, разделим набор данных на матрицу наблюдений `X` и столбец с ответами `y`."
   ]
  },
  {
   "cell_type": "code",
   "execution_count": 39,
   "metadata": {},
   "outputs": [
    {
     "data": {
      "text/html": [
       "<div>\n",
       "<style scoped>\n",
       "    .dataframe tbody tr th:only-of-type {\n",
       "        vertical-align: middle;\n",
       "    }\n",
       "\n",
       "    .dataframe tbody tr th {\n",
       "        vertical-align: top;\n",
       "    }\n",
       "\n",
       "    .dataframe thead th {\n",
       "        text-align: right;\n",
       "    }\n",
       "</style>\n",
       "<table border=\"1\" class=\"dataframe\">\n",
       "  <thead>\n",
       "    <tr style=\"text-align: right;\">\n",
       "      <th></th>\n",
       "      <th>island</th>\n",
       "      <th>bill_length_mm</th>\n",
       "      <th>bill_depth_mm</th>\n",
       "      <th>flipper_length_mm</th>\n",
       "      <th>body_mass_g</th>\n",
       "      <th>sex</th>\n",
       "    </tr>\n",
       "  </thead>\n",
       "  <tbody>\n",
       "    <tr>\n",
       "      <th>0</th>\n",
       "      <td>Torgersen</td>\n",
       "      <td>39.1</td>\n",
       "      <td>18.7</td>\n",
       "      <td>181.0</td>\n",
       "      <td>3750.0</td>\n",
       "      <td>MALE</td>\n",
       "    </tr>\n",
       "    <tr>\n",
       "      <th>1</th>\n",
       "      <td>Torgersen</td>\n",
       "      <td>39.5</td>\n",
       "      <td>17.4</td>\n",
       "      <td>186.0</td>\n",
       "      <td>3800.0</td>\n",
       "      <td>FEMALE</td>\n",
       "    </tr>\n",
       "    <tr>\n",
       "      <th>2</th>\n",
       "      <td>Torgersen</td>\n",
       "      <td>40.3</td>\n",
       "      <td>18.0</td>\n",
       "      <td>195.0</td>\n",
       "      <td>3250.0</td>\n",
       "      <td>FEMALE</td>\n",
       "    </tr>\n",
       "    <tr>\n",
       "      <th>4</th>\n",
       "      <td>Torgersen</td>\n",
       "      <td>36.7</td>\n",
       "      <td>19.3</td>\n",
       "      <td>193.0</td>\n",
       "      <td>3450.0</td>\n",
       "      <td>FEMALE</td>\n",
       "    </tr>\n",
       "    <tr>\n",
       "      <th>5</th>\n",
       "      <td>Torgersen</td>\n",
       "      <td>39.3</td>\n",
       "      <td>20.6</td>\n",
       "      <td>190.0</td>\n",
       "      <td>3650.0</td>\n",
       "      <td>MALE</td>\n",
       "    </tr>\n",
       "  </tbody>\n",
       "</table>\n",
       "</div>"
      ],
      "text/plain": [
       "      island  bill_length_mm  bill_depth_mm  flipper_length_mm  body_mass_g  \\\n",
       "0  Torgersen            39.1           18.7              181.0       3750.0   \n",
       "1  Torgersen            39.5           17.4              186.0       3800.0   \n",
       "2  Torgersen            40.3           18.0              195.0       3250.0   \n",
       "4  Torgersen            36.7           19.3              193.0       3450.0   \n",
       "5  Torgersen            39.3           20.6              190.0       3650.0   \n",
       "\n",
       "      sex  \n",
       "0    MALE  \n",
       "1  FEMALE  \n",
       "2  FEMALE  \n",
       "4  FEMALE  \n",
       "5    MALE  "
      ]
     },
     "execution_count": 39,
     "metadata": {},
     "output_type": "execute_result"
    }
   ],
   "source": [
    "X = penguins_data.drop('species', axis=1)\n",
    "y = penguins_data['species']\n",
    "X.head()"
   ]
  },
  {
   "cell_type": "markdown",
   "metadata": {},
   "source": [
    "Данные содержат строковые категориальные столбцы — `island` и `sex`. Логистическая регрессия не умеет работать со строковыми значениями. Необходимо произвести кодирование категориальных признаков. \n",
    "\n",
    "Примечание. Кодировать целевую переменную y не нужно, даже если она представлена в виде строковых значений. Это не влияет на работу модели.\n",
    "\n",
    "Воспользуемся функцией `get_dummies()` из библиотеки `pandas` для произведения «горячего» кодирования."
   ]
  },
  {
   "cell_type": "code",
   "execution_count": 40,
   "metadata": {},
   "outputs": [
    {
     "data": {
      "text/html": [
       "<div>\n",
       "<style scoped>\n",
       "    .dataframe tbody tr th:only-of-type {\n",
       "        vertical-align: middle;\n",
       "    }\n",
       "\n",
       "    .dataframe tbody tr th {\n",
       "        vertical-align: top;\n",
       "    }\n",
       "\n",
       "    .dataframe thead th {\n",
       "        text-align: right;\n",
       "    }\n",
       "</style>\n",
       "<table border=\"1\" class=\"dataframe\">\n",
       "  <thead>\n",
       "    <tr style=\"text-align: right;\">\n",
       "      <th></th>\n",
       "      <th>bill_length_mm</th>\n",
       "      <th>bill_depth_mm</th>\n",
       "      <th>flipper_length_mm</th>\n",
       "      <th>body_mass_g</th>\n",
       "      <th>island_Biscoe</th>\n",
       "      <th>island_Dream</th>\n",
       "      <th>island_Torgersen</th>\n",
       "      <th>sex_FEMALE</th>\n",
       "      <th>sex_MALE</th>\n",
       "    </tr>\n",
       "  </thead>\n",
       "  <tbody>\n",
       "    <tr>\n",
       "      <th>0</th>\n",
       "      <td>39.1</td>\n",
       "      <td>18.7</td>\n",
       "      <td>181.0</td>\n",
       "      <td>3750.0</td>\n",
       "      <td>0</td>\n",
       "      <td>0</td>\n",
       "      <td>1</td>\n",
       "      <td>0</td>\n",
       "      <td>1</td>\n",
       "    </tr>\n",
       "    <tr>\n",
       "      <th>1</th>\n",
       "      <td>39.5</td>\n",
       "      <td>17.4</td>\n",
       "      <td>186.0</td>\n",
       "      <td>3800.0</td>\n",
       "      <td>0</td>\n",
       "      <td>0</td>\n",
       "      <td>1</td>\n",
       "      <td>1</td>\n",
       "      <td>0</td>\n",
       "    </tr>\n",
       "    <tr>\n",
       "      <th>2</th>\n",
       "      <td>40.3</td>\n",
       "      <td>18.0</td>\n",
       "      <td>195.0</td>\n",
       "      <td>3250.0</td>\n",
       "      <td>0</td>\n",
       "      <td>0</td>\n",
       "      <td>1</td>\n",
       "      <td>1</td>\n",
       "      <td>0</td>\n",
       "    </tr>\n",
       "    <tr>\n",
       "      <th>4</th>\n",
       "      <td>36.7</td>\n",
       "      <td>19.3</td>\n",
       "      <td>193.0</td>\n",
       "      <td>3450.0</td>\n",
       "      <td>0</td>\n",
       "      <td>0</td>\n",
       "      <td>1</td>\n",
       "      <td>1</td>\n",
       "      <td>0</td>\n",
       "    </tr>\n",
       "    <tr>\n",
       "      <th>5</th>\n",
       "      <td>39.3</td>\n",
       "      <td>20.6</td>\n",
       "      <td>190.0</td>\n",
       "      <td>3650.0</td>\n",
       "      <td>0</td>\n",
       "      <td>0</td>\n",
       "      <td>1</td>\n",
       "      <td>0</td>\n",
       "      <td>1</td>\n",
       "    </tr>\n",
       "  </tbody>\n",
       "</table>\n",
       "</div>"
      ],
      "text/plain": [
       "   bill_length_mm  bill_depth_mm  flipper_length_mm  body_mass_g  \\\n",
       "0            39.1           18.7              181.0       3750.0   \n",
       "1            39.5           17.4              186.0       3800.0   \n",
       "2            40.3           18.0              195.0       3250.0   \n",
       "4            36.7           19.3              193.0       3450.0   \n",
       "5            39.3           20.6              190.0       3650.0   \n",
       "\n",
       "   island_Biscoe  island_Dream  island_Torgersen  sex_FEMALE  sex_MALE  \n",
       "0              0             0                 1           0         1  \n",
       "1              0             0                 1           1         0  \n",
       "2              0             0                 1           1         0  \n",
       "4              0             0                 1           1         0  \n",
       "5              0             0                 1           0         1  "
      ]
     },
     "execution_count": 40,
     "metadata": {},
     "output_type": "execute_result"
    }
   ],
   "source": [
    "X_dummies = pd.get_dummies(X)\n",
    "X_dummies.head()"
   ]
  },
  {
   "cell_type": "markdown",
   "metadata": {},
   "source": [
    "Теперь данные готовы для подачи в модель.\n",
    "\n",
    "Создаём модель логистической регрессии, значение параметра `multi_class` выставляем на '`multinomial`' (мультиклассовая классификация), `max_iter` — на `1000` (для обеспечения сходимости), `random_state=42`.\n",
    "\n",
    "Затем обучим модель с помощью метода `fit()` и сделаем предсказание вероятностей принадлежности к каждому из классов с помощью метода `predict_proba()` и самих классов — с помощью метода `predict()`. Вероятности округлим до второго знака после запятой."
   ]
  },
  {
   "cell_type": "code",
   "execution_count": 41,
   "metadata": {},
   "outputs": [],
   "source": [
    "#Создаём объект класса LogisticRegression\n",
    "log_reg = linear_model.LogisticRegression(\n",
    "    multi_class='multinomial', #мультиклассовая классификация\n",
    "    max_iter=1000, #количество итераций, выделенных на сходимость\n",
    "    random_state=42 #генерация случайных чисел\n",
    ")\n",
    " \n",
    "#Обучаем модель \n",
    "log_reg.fit(X_dummies, y)\n",
    "#Делаем предсказание вероятностей\n",
    "y_pred_proba = np.round(log_reg.predict_proba(X_dummies), 2)\n",
    "#Делаем предсказание класса\n",
    "y_pred = log_reg.predict(X_dummies)"
   ]
  },
  {
   "cell_type": "markdown",
   "metadata": {},
   "source": [
    "Для наглядности создадим таблицу из вероятностей для каждого класса и финального предсказания. Выберем пять случайных строк из этой таблицы с помощью метода [sample()](https://pandas.pydata.org/pandas-docs/stable/reference/api/pandas.DataFrame.sample.html):"
   ]
  },
  {
   "cell_type": "code",
   "execution_count": 42,
   "metadata": {},
   "outputs": [
    {
     "data": {
      "text/html": [
       "<div>\n",
       "<style scoped>\n",
       "    .dataframe tbody tr th:only-of-type {\n",
       "        vertical-align: middle;\n",
       "    }\n",
       "\n",
       "    .dataframe tbody tr th {\n",
       "        vertical-align: top;\n",
       "    }\n",
       "\n",
       "    .dataframe thead th {\n",
       "        text-align: right;\n",
       "    }\n",
       "</style>\n",
       "<table border=\"1\" class=\"dataframe\">\n",
       "  <thead>\n",
       "    <tr style=\"text-align: right;\">\n",
       "      <th></th>\n",
       "      <th>Adelie</th>\n",
       "      <th>Chinstrap</th>\n",
       "      <th>Gentoo</th>\n",
       "      <th>Predicted Class</th>\n",
       "    </tr>\n",
       "  </thead>\n",
       "  <tbody>\n",
       "    <tr>\n",
       "      <th>277</th>\n",
       "      <td>0.00</td>\n",
       "      <td>0.00</td>\n",
       "      <td>1.0</td>\n",
       "      <td>Gentoo</td>\n",
       "    </tr>\n",
       "    <tr>\n",
       "      <th>223</th>\n",
       "      <td>0.00</td>\n",
       "      <td>0.00</td>\n",
       "      <td>1.0</td>\n",
       "      <td>Gentoo</td>\n",
       "    </tr>\n",
       "    <tr>\n",
       "      <th>7</th>\n",
       "      <td>0.79</td>\n",
       "      <td>0.21</td>\n",
       "      <td>0.0</td>\n",
       "      <td>Adelie</td>\n",
       "    </tr>\n",
       "    <tr>\n",
       "      <th>160</th>\n",
       "      <td>0.00</td>\n",
       "      <td>1.00</td>\n",
       "      <td>0.0</td>\n",
       "      <td>Chinstrap</td>\n",
       "    </tr>\n",
       "    <tr>\n",
       "      <th>65</th>\n",
       "      <td>1.00</td>\n",
       "      <td>0.00</td>\n",
       "      <td>0.0</td>\n",
       "      <td>Adelie</td>\n",
       "    </tr>\n",
       "  </tbody>\n",
       "</table>\n",
       "</div>"
      ],
      "text/plain": [
       "     Adelie  Chinstrap  Gentoo Predicted Class\n",
       "277    0.00       0.00     1.0          Gentoo\n",
       "223    0.00       0.00     1.0          Gentoo\n",
       "7      0.79       0.21     0.0          Adelie\n",
       "160    0.00       1.00     0.0       Chinstrap\n",
       "65     1.00       0.00     0.0          Adelie"
      ]
     },
     "execution_count": 42,
     "metadata": {},
     "output_type": "execute_result"
    }
   ],
   "source": [
    "#Создаём DataFrame из вероятностей\n",
    "y_pred_proba_df = pd.DataFrame(\n",
    "    y_pred_proba, \n",
    "    columns=['Adelie', 'Chinstrap', 'Gentoo']\n",
    ")\n",
    "#Создаём DataFrame из предсказанных классов\n",
    "y_pred_df = pd.DataFrame(\n",
    "    y_pred, \n",
    "    columns=['Predicted Class']\n",
    ")\n",
    "#Объединяем таблицы по вертикальной оси\n",
    "y_df = pd.concat([y_pred_proba_df, y_pred_df], axis=1)\n",
    "#Выбираем пять случайных строк\n",
    "y_df.sample(5, random_state=2)"
   ]
  },
  {
   "cell_type": "markdown",
   "metadata": {},
   "source": [
    "Из таблицы можно проследить, как происходит предсказание класса пингвина на основе полученных вероятностей. Видно, что выбирается класс, вероятность принадлежности к которому максимальна.\n",
    "\n",
    "Например, для строки под номером 7 логистическая регрессия предсказала три вероятности: `0.79` — вероятность принадлежности к классу `Adelie`, `0.21` — к классу `Chinstrap` и `0` — к классу `Gentoo`. На основе этих вероятностей было сделано предсказание и модель отнесла пингвина в строке `7` к классу `Adelie`.\n",
    "\n",
    "Вот так и происходит мультиклассовая классификация. \n",
    "\n",
    "Давайте посмотрим, как в таком случае будет выглядеть отчёт о метриках:"
   ]
  },
  {
   "cell_type": "code",
   "execution_count": 43,
   "metadata": {},
   "outputs": [
    {
     "name": "stdout",
     "output_type": "stream",
     "text": [
      "              precision    recall  f1-score   support\n",
      "\n",
      "      Adelie       1.00      1.00      1.00       146\n",
      "   Chinstrap       1.00      1.00      1.00        68\n",
      "      Gentoo       1.00      1.00      1.00       119\n",
      "\n",
      "    accuracy                           1.00       333\n",
      "   macro avg       1.00      1.00      1.00       333\n",
      "weighted avg       1.00      1.00      1.00       333\n",
      "\n"
     ]
    }
   ],
   "source": [
    "print(metrics.classification_report(y, y_pred))"
   ]
  },
  {
   "cell_type": "markdown",
   "metadata": {},
   "source": [
    "Для мультиклассовой классификации к отчёту просто добавляется новая строка, соответствующая третьему классу. \n",
    "\n",
    "Из отчёта видно, что наша модель идеально решила задачу классификации (**все метрики равны 1**), то есть классы оказались линейно разделимыми.\n",
    "\n",
    "### ДОСТОИНСТВА И НЕДОСТАТКИ ЛОГИСТИЧЕСКОЙ РЕГРЕССИИ \n",
    "\n",
    "Давайте обобщим всё вышесказанное и приведём достоинства и недостатки логистической регрессии.\n",
    "\n",
    "# `+`\n",
    "* Простой, интерпретируемый, но в то же время эффективный алгоритм. Благодаря этому он очень популярен в мире машинного обучения.\n",
    "* Поиск параметров линейный или квадратичный (в зависимости от метода оптимизации), то есть ресурсозатратность алгоритма очень низкая.\n",
    "* Не требует подбора внешних параметров (гиперпараметров), так как практически не зависит от них.\n",
    "\n",
    "# `-`\n",
    "* Алгоритм работает хорошо, только когда классы линейно разделимы, что в реальных задачах бывает очень редко. Поэтому обычно данная модель используется в качестве `baseline`.\n",
    "\n",
    "В завершение изучения логистической регрессии можно добавить, что недостаток с линейной разделимостью классов можно побороть с помощью введения полиномиальных признаков, тем самым снизив смещение модели. Тогда логистическая регрессия вместо разделяющей плоскости будет означать выгнутую разделяющую поверхность сложной структуры.\n",
    "\n",
    "Однако мы знаем, что с этим трюком стоит быть аккуратным, так как можно получить переобученную модель. Поэтому в комбинации с полиномиальными признаками стоит подобрать наилучший параметр регуляризации.\n",
    "\n",
    "<img src=ml3_img28.png>\n",
    "\n",
    ">На рисунке выше изображены три различные модели:\n",
    ">\n",
    ">`первая` — простая логистическая регрессия;\n",
    ">\n",
    ">`вторая` — логистическая регрессия, обученная на полиномиальных признаках второй степени;\n",
    ">\n",
    ">`третья` — логистическая регрессия, обученная на полиномиальных признаках десятой степени.\n",
    ">\n",
    ">Видно, что первая модель обладает низким качеством и не обобщает общей зависимости (у неё высокое смещение). Третья же, напротив, идеально выделяет каждое наблюдение в правильный класс, но является переобученной и также не отражает общей зависимости (у неё высокий разброс). Оптимальной моделью является вторая, которая не подстраивается под индивидуальные наблюдения и отражает общую зависимость в данных."
   ]
  },
  {
   "cell_type": "markdown",
   "metadata": {},
   "source": [
    "# 4. Логическия регрессия. Практика <a class=\"anchor\" id=4></a>\n",
    "\n",
    "[к содержанию](#0)\n",
    "\n",
    "Вы уже знакомились с этой задачей в модуле по визуализации и провели небольшое исследование данных. В этом модуле мы построим классификатор, который позволит своевременно определять уходящих клиентов банка.\n",
    "\n",
    "Для начала импортируем библиотеки, которые нам понадобятся:"
   ]
  },
  {
   "cell_type": "code",
   "execution_count": 44,
   "metadata": {},
   "outputs": [],
   "source": [
    "import numpy as np #для матричных вычислений\n",
    "import pandas as pd #для анализа и предобработки данных\n",
    "import matplotlib.pyplot as plt #для визуализации\n",
    "import seaborn as sns #для визуализации\n",
    "\n",
    "from sklearn import linear_model #линейные модели\n",
    "from sklearn import metrics #метрики\n",
    "from sklearn.model_selection import train_test_split #разделение выборки\n",
    "from sklearn import preprocessing #предобработка\n",
    "%matplotlib inline\n",
    "plt.style.use('seaborn')"
   ]
  },
  {
   "cell_type": "code",
   "execution_count": 45,
   "metadata": {},
   "outputs": [
    {
     "data": {
      "text/html": [
       "<div>\n",
       "<style scoped>\n",
       "    .dataframe tbody tr th:only-of-type {\n",
       "        vertical-align: middle;\n",
       "    }\n",
       "\n",
       "    .dataframe tbody tr th {\n",
       "        vertical-align: top;\n",
       "    }\n",
       "\n",
       "    .dataframe thead th {\n",
       "        text-align: right;\n",
       "    }\n",
       "</style>\n",
       "<table border=\"1\" class=\"dataframe\">\n",
       "  <thead>\n",
       "    <tr style=\"text-align: right;\">\n",
       "      <th></th>\n",
       "      <th>RowNumber</th>\n",
       "      <th>CustomerId</th>\n",
       "      <th>Surname</th>\n",
       "      <th>CreditScore</th>\n",
       "      <th>Geography</th>\n",
       "      <th>Gender</th>\n",
       "      <th>Age</th>\n",
       "      <th>Tenure</th>\n",
       "      <th>Balance</th>\n",
       "      <th>NumOfProducts</th>\n",
       "      <th>HasCrCard</th>\n",
       "      <th>IsActiveMember</th>\n",
       "      <th>EstimatedSalary</th>\n",
       "      <th>Exited</th>\n",
       "    </tr>\n",
       "  </thead>\n",
       "  <tbody>\n",
       "    <tr>\n",
       "      <th>0</th>\n",
       "      <td>1</td>\n",
       "      <td>15634602</td>\n",
       "      <td>Hargrave</td>\n",
       "      <td>619</td>\n",
       "      <td>France</td>\n",
       "      <td>Female</td>\n",
       "      <td>42</td>\n",
       "      <td>2</td>\n",
       "      <td>0.00</td>\n",
       "      <td>1</td>\n",
       "      <td>1</td>\n",
       "      <td>1</td>\n",
       "      <td>101348.88</td>\n",
       "      <td>1</td>\n",
       "    </tr>\n",
       "    <tr>\n",
       "      <th>1</th>\n",
       "      <td>2</td>\n",
       "      <td>15647311</td>\n",
       "      <td>Hill</td>\n",
       "      <td>608</td>\n",
       "      <td>Spain</td>\n",
       "      <td>Female</td>\n",
       "      <td>41</td>\n",
       "      <td>1</td>\n",
       "      <td>83807.86</td>\n",
       "      <td>1</td>\n",
       "      <td>0</td>\n",
       "      <td>1</td>\n",
       "      <td>112542.58</td>\n",
       "      <td>0</td>\n",
       "    </tr>\n",
       "    <tr>\n",
       "      <th>2</th>\n",
       "      <td>3</td>\n",
       "      <td>15619304</td>\n",
       "      <td>Onio</td>\n",
       "      <td>502</td>\n",
       "      <td>France</td>\n",
       "      <td>Female</td>\n",
       "      <td>42</td>\n",
       "      <td>8</td>\n",
       "      <td>159660.80</td>\n",
       "      <td>3</td>\n",
       "      <td>1</td>\n",
       "      <td>0</td>\n",
       "      <td>113931.57</td>\n",
       "      <td>1</td>\n",
       "    </tr>\n",
       "    <tr>\n",
       "      <th>3</th>\n",
       "      <td>4</td>\n",
       "      <td>15701354</td>\n",
       "      <td>Boni</td>\n",
       "      <td>699</td>\n",
       "      <td>France</td>\n",
       "      <td>Female</td>\n",
       "      <td>39</td>\n",
       "      <td>1</td>\n",
       "      <td>0.00</td>\n",
       "      <td>2</td>\n",
       "      <td>0</td>\n",
       "      <td>0</td>\n",
       "      <td>93826.63</td>\n",
       "      <td>0</td>\n",
       "    </tr>\n",
       "    <tr>\n",
       "      <th>4</th>\n",
       "      <td>5</td>\n",
       "      <td>15737888</td>\n",
       "      <td>Mitchell</td>\n",
       "      <td>850</td>\n",
       "      <td>Spain</td>\n",
       "      <td>Female</td>\n",
       "      <td>43</td>\n",
       "      <td>2</td>\n",
       "      <td>125510.82</td>\n",
       "      <td>1</td>\n",
       "      <td>1</td>\n",
       "      <td>1</td>\n",
       "      <td>79084.10</td>\n",
       "      <td>0</td>\n",
       "    </tr>\n",
       "  </tbody>\n",
       "</table>\n",
       "</div>"
      ],
      "text/plain": [
       "   RowNumber  CustomerId   Surname  CreditScore Geography  Gender  Age  \\\n",
       "0          1    15634602  Hargrave          619    France  Female   42   \n",
       "1          2    15647311      Hill          608     Spain  Female   41   \n",
       "2          3    15619304      Onio          502    France  Female   42   \n",
       "3          4    15701354      Boni          699    France  Female   39   \n",
       "4          5    15737888  Mitchell          850     Spain  Female   43   \n",
       "\n",
       "   Tenure    Balance  NumOfProducts  HasCrCard  IsActiveMember  \\\n",
       "0       2       0.00              1          1               1   \n",
       "1       1   83807.86              1          0               1   \n",
       "2       8  159660.80              3          1               0   \n",
       "3       1       0.00              2          0               0   \n",
       "4       2  125510.82              1          1               1   \n",
       "\n",
       "   EstimatedSalary  Exited  \n",
       "0        101348.88       1  \n",
       "1        112542.58       0  \n",
       "2        113931.57       1  \n",
       "3         93826.63       0  \n",
       "4         79084.10       0  "
      ]
     },
     "execution_count": 45,
     "metadata": {},
     "output_type": "execute_result"
    }
   ],
   "source": [
    "churn_data = pd.read_csv('churn.zip')\n",
    "churn_data.head()"
   ]
  },
  {
   "cell_type": "markdown",
   "metadata": {},
   "source": [
    "Напомним значения столбцов:\n",
    "\n",
    "* `RowNumber` — номер строки таблицы;\n",
    "* `CustomerId` — идентификатор клиента;\n",
    "* `Surname` — фамилия клиента;\n",
    "* `CreditScore` — кредитный рейтинг клиента (чем он выше, тем больше клиент брал кредитов и возвращал их);\n",
    "* `Geography` — страна проживания клиента (банк межнациональный);\n",
    "* `Gender` — пол клиента;\n",
    "* `Age` — возраст клиента;\n",
    "* `Tenure` — сколько лет клиент пользуется банком;\n",
    "* `Balance` — сколько у клиента денег на счетах в банке;\n",
    "* `NumOfProduct` — число услуг банка, которые приобрёл клиент;\n",
    "* `HasCrCard` — есть ли у клиента кредитная карта (1 — да, 0 — нет);\n",
    "* `IsActiveMember` — есть ли у клиента статус активного участника банка (1 — да, 0 — нет);\n",
    "* `EstimatedSalary` — предполагаемая заработная плата клиента;\n",
    "* `Exited` — статус ушедшего (1 — ушедший клиент, 0 — лояльный клиент).\n",
    "\n",
    "В модуле по визуализации мы выяснили, что отток клиентов в Германии, Франции и Испании имеет различные показатели. Исследователи, которые уже работали с этим датасетом, пришли к выводу, что наилучшее решение при работе с этими данными — строить модели индивидуально для каждой страны. Мы будем прогнозировать отток в немецком филиале банка. Давайте выделим только данные, относящиеся к Германии:"
   ]
  },
  {
   "cell_type": "code",
   "execution_count": 46,
   "metadata": {},
   "outputs": [
    {
     "data": {
      "text/plain": [
       "(2509, 14)"
      ]
     },
     "execution_count": 46,
     "metadata": {},
     "output_type": "execute_result"
    }
   ],
   "source": [
    "churn_data = churn_data[churn_data['Geography'] == 'Germany']\n",
    "churn_data.shape"
   ]
  },
  {
   "cell_type": "markdown",
   "metadata": {},
   "source": [
    "Сразу избавимся от заведомо неинформативных признаков: страна, номер строки, идентификатор пользователя и имя клиента."
   ]
  },
  {
   "cell_type": "code",
   "execution_count": 47,
   "metadata": {},
   "outputs": [
    {
     "data": {
      "text/html": [
       "<div>\n",
       "<style scoped>\n",
       "    .dataframe tbody tr th:only-of-type {\n",
       "        vertical-align: middle;\n",
       "    }\n",
       "\n",
       "    .dataframe tbody tr th {\n",
       "        vertical-align: top;\n",
       "    }\n",
       "\n",
       "    .dataframe thead th {\n",
       "        text-align: right;\n",
       "    }\n",
       "</style>\n",
       "<table border=\"1\" class=\"dataframe\">\n",
       "  <thead>\n",
       "    <tr style=\"text-align: right;\">\n",
       "      <th></th>\n",
       "      <th>CreditScore</th>\n",
       "      <th>Gender</th>\n",
       "      <th>Age</th>\n",
       "      <th>Tenure</th>\n",
       "      <th>Balance</th>\n",
       "      <th>NumOfProducts</th>\n",
       "      <th>HasCrCard</th>\n",
       "      <th>IsActiveMember</th>\n",
       "      <th>EstimatedSalary</th>\n",
       "      <th>Exited</th>\n",
       "    </tr>\n",
       "  </thead>\n",
       "  <tbody>\n",
       "    <tr>\n",
       "      <th>7</th>\n",
       "      <td>376</td>\n",
       "      <td>Female</td>\n",
       "      <td>29</td>\n",
       "      <td>4</td>\n",
       "      <td>115046.74</td>\n",
       "      <td>4</td>\n",
       "      <td>1</td>\n",
       "      <td>0</td>\n",
       "      <td>119346.88</td>\n",
       "      <td>1</td>\n",
       "    </tr>\n",
       "    <tr>\n",
       "      <th>15</th>\n",
       "      <td>616</td>\n",
       "      <td>Male</td>\n",
       "      <td>45</td>\n",
       "      <td>3</td>\n",
       "      <td>143129.41</td>\n",
       "      <td>2</td>\n",
       "      <td>0</td>\n",
       "      <td>1</td>\n",
       "      <td>64327.26</td>\n",
       "      <td>0</td>\n",
       "    </tr>\n",
       "    <tr>\n",
       "      <th>16</th>\n",
       "      <td>653</td>\n",
       "      <td>Male</td>\n",
       "      <td>58</td>\n",
       "      <td>1</td>\n",
       "      <td>132602.88</td>\n",
       "      <td>1</td>\n",
       "      <td>1</td>\n",
       "      <td>0</td>\n",
       "      <td>5097.67</td>\n",
       "      <td>1</td>\n",
       "    </tr>\n",
       "    <tr>\n",
       "      <th>26</th>\n",
       "      <td>756</td>\n",
       "      <td>Male</td>\n",
       "      <td>36</td>\n",
       "      <td>2</td>\n",
       "      <td>136815.64</td>\n",
       "      <td>1</td>\n",
       "      <td>1</td>\n",
       "      <td>1</td>\n",
       "      <td>170041.95</td>\n",
       "      <td>0</td>\n",
       "    </tr>\n",
       "    <tr>\n",
       "      <th>28</th>\n",
       "      <td>574</td>\n",
       "      <td>Female</td>\n",
       "      <td>43</td>\n",
       "      <td>3</td>\n",
       "      <td>141349.43</td>\n",
       "      <td>1</td>\n",
       "      <td>1</td>\n",
       "      <td>1</td>\n",
       "      <td>100187.43</td>\n",
       "      <td>0</td>\n",
       "    </tr>\n",
       "  </tbody>\n",
       "</table>\n",
       "</div>"
      ],
      "text/plain": [
       "    CreditScore  Gender  Age  Tenure    Balance  NumOfProducts  HasCrCard  \\\n",
       "7           376  Female   29       4  115046.74              4          1   \n",
       "15          616    Male   45       3  143129.41              2          0   \n",
       "16          653    Male   58       1  132602.88              1          1   \n",
       "26          756    Male   36       2  136815.64              1          1   \n",
       "28          574  Female   43       3  141349.43              1          1   \n",
       "\n",
       "    IsActiveMember  EstimatedSalary  Exited  \n",
       "7                0        119346.88       1  \n",
       "15               1         64327.26       0  \n",
       "16               0          5097.67       1  \n",
       "26               1        170041.95       0  \n",
       "28               1        100187.43       0  "
      ]
     },
     "execution_count": 47,
     "metadata": {},
     "output_type": "execute_result"
    }
   ],
   "source": [
    "churn_data = churn_data.drop(['Geography', 'RowNumber', 'CustomerId', 'Surname'], axis=1)\n",
    "churn_data.head()"
   ]
  },
  {
   "cell_type": "code",
   "execution_count": 48,
   "metadata": {},
   "outputs": [
    {
     "data": {
      "text/plain": [
       "CreditScore        0\n",
       "Gender             0\n",
       "Age                0\n",
       "Tenure             0\n",
       "Balance            0\n",
       "NumOfProducts      0\n",
       "HasCrCard          0\n",
       "IsActiveMember     0\n",
       "EstimatedSalary    0\n",
       "Exited             0\n",
       "dtype: int64"
      ]
     },
     "execution_count": 48,
     "metadata": {},
     "output_type": "execute_result"
    }
   ],
   "source": [
    "churn_data.isnull().sum()"
   ]
  },
  {
   "cell_type": "markdown",
   "metadata": {},
   "source": [
    "Давайте расширим наш датасет с помощью методов `Feature Engineering`. Создадим следующие признаки:\n",
    "\n",
    "* `BalanceSalaryRatio` — отношение баланса на счетах к заработной плате клиента;\n",
    "* `TenureByAge` — отношение времени пользования банком к возрасту клиента;\n",
    "* `CreditScoreGivenAge` — отношение кредитного рейтинга к возрасту клиента."
   ]
  },
  {
   "cell_type": "code",
   "execution_count": 49,
   "metadata": {},
   "outputs": [],
   "source": [
    "churn_data['BalanceSalaryRatio'] = churn_data['Balance']/churn_data['EstimatedSalary']\n",
    "churn_data['TenureByAge'] = churn_data['Tenure']/(churn_data['Age'])\n",
    "churn_data['CreditScoreGivenAge'] = churn_data['CreditScore']/(churn_data['Age'])"
   ]
  },
  {
   "cell_type": "markdown",
   "metadata": {},
   "source": [
    "Также перекодируем единственный текстовый категориальный признак Gender в бинарный столбец (1 — 'Male', 0 — 'Female'):"
   ]
  },
  {
   "cell_type": "code",
   "execution_count": 50,
   "metadata": {},
   "outputs": [
    {
     "data": {
      "text/html": [
       "<div>\n",
       "<style scoped>\n",
       "    .dataframe tbody tr th:only-of-type {\n",
       "        vertical-align: middle;\n",
       "    }\n",
       "\n",
       "    .dataframe tbody tr th {\n",
       "        vertical-align: top;\n",
       "    }\n",
       "\n",
       "    .dataframe thead th {\n",
       "        text-align: right;\n",
       "    }\n",
       "</style>\n",
       "<table border=\"1\" class=\"dataframe\">\n",
       "  <thead>\n",
       "    <tr style=\"text-align: right;\">\n",
       "      <th></th>\n",
       "      <th>CreditScore</th>\n",
       "      <th>Gender</th>\n",
       "      <th>Age</th>\n",
       "      <th>Tenure</th>\n",
       "      <th>Balance</th>\n",
       "      <th>NumOfProducts</th>\n",
       "      <th>HasCrCard</th>\n",
       "      <th>IsActiveMember</th>\n",
       "      <th>EstimatedSalary</th>\n",
       "      <th>Exited</th>\n",
       "      <th>BalanceSalaryRatio</th>\n",
       "      <th>TenureByAge</th>\n",
       "      <th>CreditScoreGivenAge</th>\n",
       "    </tr>\n",
       "  </thead>\n",
       "  <tbody>\n",
       "    <tr>\n",
       "      <th>7</th>\n",
       "      <td>376</td>\n",
       "      <td>0</td>\n",
       "      <td>29</td>\n",
       "      <td>4</td>\n",
       "      <td>115046.74</td>\n",
       "      <td>4</td>\n",
       "      <td>1</td>\n",
       "      <td>0</td>\n",
       "      <td>119346.88</td>\n",
       "      <td>1</td>\n",
       "      <td>0.963969</td>\n",
       "      <td>0.137931</td>\n",
       "      <td>12.965517</td>\n",
       "    </tr>\n",
       "    <tr>\n",
       "      <th>15</th>\n",
       "      <td>616</td>\n",
       "      <td>1</td>\n",
       "      <td>45</td>\n",
       "      <td>3</td>\n",
       "      <td>143129.41</td>\n",
       "      <td>2</td>\n",
       "      <td>0</td>\n",
       "      <td>1</td>\n",
       "      <td>64327.26</td>\n",
       "      <td>0</td>\n",
       "      <td>2.225020</td>\n",
       "      <td>0.066667</td>\n",
       "      <td>13.688889</td>\n",
       "    </tr>\n",
       "    <tr>\n",
       "      <th>16</th>\n",
       "      <td>653</td>\n",
       "      <td>1</td>\n",
       "      <td>58</td>\n",
       "      <td>1</td>\n",
       "      <td>132602.88</td>\n",
       "      <td>1</td>\n",
       "      <td>1</td>\n",
       "      <td>0</td>\n",
       "      <td>5097.67</td>\n",
       "      <td>1</td>\n",
       "      <td>26.012449</td>\n",
       "      <td>0.017241</td>\n",
       "      <td>11.258621</td>\n",
       "    </tr>\n",
       "    <tr>\n",
       "      <th>26</th>\n",
       "      <td>756</td>\n",
       "      <td>1</td>\n",
       "      <td>36</td>\n",
       "      <td>2</td>\n",
       "      <td>136815.64</td>\n",
       "      <td>1</td>\n",
       "      <td>1</td>\n",
       "      <td>1</td>\n",
       "      <td>170041.95</td>\n",
       "      <td>0</td>\n",
       "      <td>0.804599</td>\n",
       "      <td>0.055556</td>\n",
       "      <td>21.000000</td>\n",
       "    </tr>\n",
       "    <tr>\n",
       "      <th>28</th>\n",
       "      <td>574</td>\n",
       "      <td>0</td>\n",
       "      <td>43</td>\n",
       "      <td>3</td>\n",
       "      <td>141349.43</td>\n",
       "      <td>1</td>\n",
       "      <td>1</td>\n",
       "      <td>1</td>\n",
       "      <td>100187.43</td>\n",
       "      <td>0</td>\n",
       "      <td>1.410850</td>\n",
       "      <td>0.069767</td>\n",
       "      <td>13.348837</td>\n",
       "    </tr>\n",
       "  </tbody>\n",
       "</table>\n",
       "</div>"
      ],
      "text/plain": [
       "    CreditScore  Gender  Age  Tenure    Balance  NumOfProducts  HasCrCard  \\\n",
       "7           376       0   29       4  115046.74              4          1   \n",
       "15          616       1   45       3  143129.41              2          0   \n",
       "16          653       1   58       1  132602.88              1          1   \n",
       "26          756       1   36       2  136815.64              1          1   \n",
       "28          574       0   43       3  141349.43              1          1   \n",
       "\n",
       "    IsActiveMember  EstimatedSalary  Exited  BalanceSalaryRatio  TenureByAge  \\\n",
       "7                0        119346.88       1            0.963969     0.137931   \n",
       "15               1         64327.26       0            2.225020     0.066667   \n",
       "16               0          5097.67       1           26.012449     0.017241   \n",
       "26               1        170041.95       0            0.804599     0.055556   \n",
       "28               1        100187.43       0            1.410850     0.069767   \n",
       "\n",
       "    CreditScoreGivenAge  \n",
       "7             12.965517  \n",
       "15            13.688889  \n",
       "16            11.258621  \n",
       "26            21.000000  \n",
       "28            13.348837  "
      ]
     },
     "execution_count": 50,
     "metadata": {},
     "output_type": "execute_result"
    }
   ],
   "source": [
    "churn_data['Gender'] = churn_data['Gender'].apply(lambda x: 1 if x=='Male' else 0)\n",
    "churn_data.head()"
   ]
  },
  {
   "cell_type": "code",
   "execution_count": 51,
   "metadata": {},
   "outputs": [],
   "source": [
    "# Разделим набор данных на матрицу наблюдений X и столбец ответов y:\n",
    "X = churn_data.drop(\"Exited\", axis=1)\n",
    "y = churn_data[\"Exited\"]"
   ]
  },
  {
   "cell_type": "code",
   "execution_count": 52,
   "metadata": {},
   "outputs": [],
   "source": [
    "# Проведём нормализацию матрицы наблюдений X:\n",
    "scaler = preprocessing.MinMaxScaler()\n",
    "scaler.fit(X)\n",
    "X_scaled = scaler.transform(X)"
   ]
  },
  {
   "cell_type": "markdown",
   "metadata": {},
   "source": [
    "Прежде чем перейти к этапу разделения выборки на тренировочную и тестовую, посмотрим на сбалансированность данных. Для этого воспользуемся методом `value_counts()` и выведем количество наблюдений каждого из классов в долевом соотношении от общего количества наблюдений:"
   ]
  },
  {
   "cell_type": "code",
   "execution_count": 53,
   "metadata": {},
   "outputs": [
    {
     "data": {
      "text/plain": [
       "0    0.675568\n",
       "1    0.324432\n",
       "Name: Exited, dtype: float64"
      ]
     },
     "execution_count": 53,
     "metadata": {},
     "output_type": "execute_result"
    }
   ],
   "source": [
    "y.value_counts(normalize=True)"
   ]
  },
  {
   "cell_type": "markdown",
   "metadata": {},
   "source": [
    "Очевидно, что наши классы не сбалансированы. Ушедших пользователей — `32 %`, в то время как лояльных — `68 %`. \n",
    "\n",
    "В чём может быть проблема? \n",
    "\n",
    "При разделении нашего набора данных на тренировочный и тестовый может возникнуть такая ситуация, что в тренировочную выборку попадут только лояльные клиенты или их большая часть. Тогда модель может **не научиться определять вероятность оттока** и качество на тестовой выборке будет оставлять желать лучшего.\n",
    "\n",
    "Или противоположная ситуация: в тестовую выборку попадут только лояльные клиенты. Тогда модель будет показывать прекрасное качество на тестовой выборке, но в реальных условиях она может оказаться **бесполезной**.\n",
    "\n",
    "То есть нам нужно сделать так, чтобы в тренировочной и тестовой выборках было одинаковое соотношение лояльных и ушедших клиентов. Такое разбиение выборки называется стратифицированным. \n",
    "\n",
    "Как хорошо, что функция `train_test_split()` из библиотеки `sklearn` умеет производить такое разбиение! Для этого в функции предусмотрен параметр `stratify`, который нужно выставить в значение признака. Признак должен иметь одинаковые соотношения в тренировочной и тестовой выборках. У нас этим признаком является целевой признак `y`.\n",
    "\n",
    "Выполним разбиение, установив значением параметра `random_state` число 0:"
   ]
  },
  {
   "cell_type": "code",
   "execution_count": 54,
   "metadata": {},
   "outputs": [
    {
     "name": "stdout",
     "output_type": "stream",
     "text": [
      "Train shape: (1881, 12)\n",
      "Test shape: (628, 12)\n"
     ]
    }
   ],
   "source": [
    "X_train, X_test, y_train, y_test = train_test_split(X_scaled, y, stratify=y, random_state=0)\n",
    "\n",
    "print('Train shape: {}'.format(X_train.shape))\n",
    "print('Test shape: {}'.format(X_test.shape))"
   ]
  },
  {
   "cell_type": "code",
   "execution_count": 55,
   "metadata": {},
   "outputs": [
    {
     "name": "stdout",
     "output_type": "stream",
     "text": [
      "Train : 0    0.675704\n",
      "1    0.324296\n",
      "Name: Exited, dtype: float64\n",
      "\n",
      "\n",
      "Test : 0    0.675159\n",
      "1    0.324841\n",
      "Name: Exited, dtype: float64\n"
     ]
    }
   ],
   "source": [
    "# Проверим, что число лояльных и ушедших клиентов примерно одинаково в каждой из выборок:\n",
    "print('Train :', y_train.value_counts(normalize=True))\n",
    "print('\\n')\n",
    "print('Test :', y_test.value_counts(normalize=True))"
   ]
  },
  {
   "cell_type": "code",
   "execution_count": 83,
   "metadata": {},
   "outputs": [
    {
     "data": {
      "text/plain": [
       "LogisticRegression(max_iter=1000, random_state=42, solver='sag')"
      ]
     },
     "execution_count": 83,
     "metadata": {},
     "output_type": "execute_result"
    }
   ],
   "source": [
    "#Создаем объект класса логистическая регрессия\n",
    "log_reg_full = linear_model.LogisticRegression(solver='sag', random_state=42, max_iter=1000)\n",
    "#Обучаем модель, минизируя logloss\n",
    "log_reg_full.fit(X_train, y_train)"
   ]
  },
  {
   "cell_type": "code",
   "execution_count": 84,
   "metadata": {},
   "outputs": [],
   "source": [
    "y_train_pred = log_reg_full.predict(X_train)\n",
    "y_test_pred = log_reg_full.predict(X_test)"
   ]
  },
  {
   "cell_type": "code",
   "execution_count": 85,
   "metadata": {},
   "outputs": [
    {
     "name": "stdout",
     "output_type": "stream",
     "text": [
      "              precision    recall  f1-score   support\n",
      "\n",
      "           0       0.75      0.89      0.81       424\n",
      "           1       0.63      0.38      0.47       204\n",
      "\n",
      "    accuracy                           0.72       628\n",
      "   macro avg       0.69      0.63      0.64       628\n",
      "weighted avg       0.71      0.72      0.70       628\n",
      "\n"
     ]
    }
   ],
   "source": [
    "print(metrics.classification_report(y_test, y_pred))"
   ]
  },
  {
   "cell_type": "code",
   "execution_count": 86,
   "metadata": {},
   "outputs": [
    {
     "name": "stdout",
     "output_type": "stream",
     "text": [
      "F1 train: 0.49\n",
      "F1 test: 0.47\n"
     ]
    }
   ],
   "source": [
    "print('F1 train: {:.2f}'.format(metrics.f1_score(y_train, y_train_pred)))\n",
    "print('F1 test: {:.2f}'.format(metrics.f1_score(y_test, y_test_pred)))"
   ]
  },
  {
   "cell_type": "code",
   "execution_count": 87,
   "metadata": {},
   "outputs": [
    {
     "name": "stdout",
     "output_type": "stream",
     "text": [
      "(1881, 454)\n",
      "(628, 454)\n"
     ]
    }
   ],
   "source": [
    "#Создаём генератор полиномиальных признаков\n",
    "poly = preprocessing.PolynomialFeatures(degree=3, include_bias=False)\n",
    "poly.fit(X_train)\n",
    "#Генерируем полиномиальные признаки для тренировочной выборки\n",
    "X_train_poly = poly.transform(X_train)\n",
    "#Генерируем полиномиальные признаки для тестовой выборки\n",
    "X_test_poly = poly.transform(X_test)\n",
    "#Выводим результирующие размерности таблиц\n",
    "print(X_train_poly.shape)\n",
    "print(X_test_poly.shape)"
   ]
  },
  {
   "cell_type": "code",
   "execution_count": 112,
   "metadata": {},
   "outputs": [],
   "source": [
    "#Обучаем модель, минизируя logloss\n",
    "log_poly = linear_model.LogisticRegression(solver='sag', random_state=42, max_iter=1000)\n",
    "log_poly.fit(X_train_poly, y_train)\n",
    "y_train_pred_poly = log_poly.predict(X_train_poly)\n",
    "y_test_pred_poly = log_poly.predict(X_test_poly)"
   ]
  },
  {
   "cell_type": "code",
   "execution_count": 113,
   "metadata": {},
   "outputs": [
    {
     "name": "stdout",
     "output_type": "stream",
     "text": [
      "F1 train: 0.66\n",
      "F1 test: 0.64\n"
     ]
    }
   ],
   "source": [
    "print('F1 train: {:.2f}'.format(metrics.f1_score(y_train, y_train_pred_poly)))\n",
    "print('F1 test: {:.2f}'.format(metrics.f1_score(y_test, y_test_pred_poly)))"
   ]
  },
  {
   "cell_type": "code",
   "execution_count": 115,
   "metadata": {},
   "outputs": [],
   "source": [
    "#Считаем вероятности наличия диабета для каждого из пациентов\n",
    "#Нас интересует только вероятность класса (второй столбец)\n",
    "y_proba_pred = log_poly.predict_proba(X_test_poly)[:, 1]\n",
    "#Для удобства завернем numpy-массив в pandas Series\n",
    "y_proba_pred = pd.Series(y_proba_pred)\n",
    "#Создадим списки, в которых будем хранить значения метрик \n",
    "recall_scores = []\n",
    "precision_scores = []\n",
    "f1_scores = []\n",
    "#Сгенерируем набор вероятностных порогов в диапазоне от 0.1 до 1\n",
    "thresholds = np.arange(0.1, 1, 0.05)\n",
    "#В цикле будем перебирать сгенерированные пороги\n",
    "for threshold in thresholds:\n",
    "    #Пациентов, для которых вероятность наличия диабета > threshold относим к классу 1\n",
    "    #В противном случае - к классу 0\n",
    "    y_pred = y_proba_pred.apply(lambda x: 1 if x>threshold else 0)\n",
    "    #Считаем метрики и добавляем их в списки\n",
    "    recall_scores.append(metrics.recall_score(y_test, y_pred))\n",
    "    precision_scores.append(metrics.precision_score(y_test, y_pred))\n",
    "    f1_scores.append(metrics.f1_score(y_test, y_pred))"
   ]
  },
  {
   "cell_type": "code",
   "execution_count": 116,
   "metadata": {},
   "outputs": [
    {
     "data": {
      "image/png": "[encoded data removed]",
      "text/plain": [
       "<Figure size 720x288 with 1 Axes>"
      ]
     },
     "metadata": {},
     "output_type": "display_data"
    }
   ],
   "source": [
    "#Визуализируем метрики при различных threshold\n",
    "fig, ax = plt.subplots(figsize=(10, 4)) #фигура + координатная плоскость\n",
    "#Строим линейный график зависимости recall от threshold\n",
    "ax.plot(thresholds, recall_scores, label='Recall')\n",
    "#Строим линейный график зависимости precision от threshold\n",
    "ax.plot(thresholds, precision_scores, label='Precision')\n",
    "#Строим линейный график зависимости F1 от threshold\n",
    "ax.plot(thresholds, f1_scores, label='F1-score')\n",
    "\n",
    "#Даем графику название и подписи осям\n",
    "ax.set_title('Recall/Precision/F1 dependence on the threshold')\n",
    "ax.set_xlabel('Probability threshold')\n",
    "ax.set_ylabel('Score')\n",
    "#Устанавливаем отметки по оси x\n",
    "ax.set_xticks(thresholds) \n",
    "#Отображаем легенду\n",
    "ax.legend();"
   ]
  },
  {
   "cell_type": "code",
   "execution_count": null,
   "metadata": {},
   "outputs": [],
   "source": [
    "#Задаем оптимальный порог вероятностей (по метрике F1)\n",
    "threshold_opt = 0.35\n",
    "y_pred_opt = y_proba_pred.apply(lambda x: 1 if x > threshold_opt else 0)"
   ]
  },
  {
   "cell_type": "code",
   "execution_count": 117,
   "metadata": {},
   "outputs": [
    {
     "name": "stdout",
     "output_type": "stream",
     "text": [
      "              precision    recall  f1-score   support\n",
      "\n",
      "           0       0.88      0.78      0.82       424\n",
      "           1       0.62      0.77      0.69       204\n",
      "\n",
      "    accuracy                           0.77       628\n",
      "   macro avg       0.75      0.77      0.76       628\n",
      "weighted avg       0.79      0.77      0.78       628\n",
      "\n"
     ]
    }
   ],
   "source": [
    "#Задаем оптимальный порог вероятностей\n",
    "threshold_opt = 0.35\n",
    "#Пациентов, для которых вероятность наличия диабета > 0.4 относим к классу 1\n",
    "#В противном случае - к классу 0\n",
    "y_pred_opt = y_proba_pred.apply(lambda x: 1 if x > threshold_opt else 0)\n",
    "#Считаем метрики\n",
    "print(metrics.classification_report(y_test, y_pred_opt))"
   ]
  },
  {
   "cell_type": "markdown",
   "metadata": {},
   "source": [
    "# 5. Деревья решений <a class=\"anchor\" id=5></a>\n",
    "\n",
    "[к содержанию](#0)\n",
    "\n",
    "В этом юните мы познакомимся с ещё одним семейством моделей машинного обучения — `деревьями решений`. Для начала поговорим о том, что такое дерево решений и как с его помощью решают задачу классификации.\n",
    "\n",
    "**Деревья решений** являются одним из наиболее понятных человеку и в то же время мощных алгоритмов принятия решений. К тому же на их основе строятся самые эффективные ансамблевые модели машинного обучения, такие как **случайный лес**, о котором мы поговорим далее.\n",
    "\n",
    "Алгоритмы на основе деревьев решений могут использоваться как для решения задач классификации, так и для регрессии. В этом модуле мы разберём задачу классификации, а в дальнейшем, когда будем разбирать математическую составляющую алгоритмов, поговорим о том, как научить дерево решать задачу регрессии.\n",
    "\n",
    "Если коротко, решающее дерево предсказывает значение целевой переменной с помощью применения последовательности простых решающих правил. Этот процесс в некотором смысле согласуется с естественным для человека процессом принятия решений.\n",
    "\n",
    "## ОБЩЕЕ ПРЕДСТАВЛЕНИЕ О ДЕРЕВЕ РЕШЕНИЙ\n",
    "\n",
    "Начнём сразу с примера.\n",
    "\n",
    "Представьте, что у вас есть автомобиль, который вы решили застраховать. Вы приходите в страховую компанию, где вам дают заполнить анкету. По этой анкете сотрудник страховой компании будет принимать решение, стоит ли выдавать вам страховку.\n",
    "\n",
    "Сотрудник в свою очередь будет руководствоваться примерно следующим регламентом:\n",
    "\n",
    "* Если возраст владельца > 40 лет, то:\n",
    "* * Если место эксплуатации автомобиля — город , то:\n",
    "* * * Если стаж > 10 лет, то:\n",
    ">Застраховать.\n",
    "* * * Если стаж < 10 лет, то:\n",
    ">Не страховать.\n",
    "* * Если место эксплуатации автомобиля — сельская местность, то:\n",
    "> Застраховать.\n",
    "* Если возраст владельца ≤ 40 лет, то:\n",
    "* * Если аварий не было зафиксировано, то:\n",
    ">Застраховать.\n",
    "* * Если были аварии, то:\n",
    "* * * Если тип автомобиля — минивэн, то:\n",
    ">Застраховать.\n",
    "* * * Если тип автомобиля — спорткар, то:\n",
    ">Не страховать.\n",
    "\n",
    "То есть сотрудник при принятии решения использует информацию, предоставленную вами в анкете, и подает её на вход вложенного условного оператора.\n",
    "\n",
    "Для простоты восприятия можно представить такой подход визуально в виде следующего дерева:\n",
    "\n",
    "<img src=ml3_img29.png>\n",
    "\n",
    "Аналогичным образом работает и алгоритм машинного обучения под названием «**дерево решений**» (`Decision Tree`). \n",
    "\n",
    "Если дерево уже обучено, то есть уже сформулированы условия в прямоугольниках, то, когда в страховую компанию придёт новый автовладелец, сотруднику будет достаточно прогнать данные клиента через дерево решений и таким образом принять решение, то есть произвести классификацию.\n",
    "\n",
    "Вот ещё один пример дерева решений. Большинство из нас когда-нибудь играли в игру «Слова на лбу» или «Тарантинки». На лоб каждого из игроков приклеивается бумажка с написанным на ней словом. Игрок может задавать другим игрокам вопросы о загаданном ему предмете/животном/человеке и т. д. Другие игроки могут отвечать на вопросы только «Да» и «Нет». Цель — за минимальное количество вопросов догадаться, о чём идёт речь.\n",
    "\n",
    "Логика `«если …, то …»` используется людьми повседневно и поэтому интуитивно понятна каждому из нас. На основании этих рассуждений можно построить мощный алгоритм машинного обучения.\n",
    "\n",
    "Деревья решений находят своё применение во множестве прикладных задач.\n",
    "\n",
    ">Успешнее всего деревья применяют в следующих областях:\n",
    ">\n",
    ">* **Банковское дело**. Оценка кредитоспособности клиентов банка при выдаче кредитов.\n",
    ">* **Промышленность**. Контроль качества продукции (обнаружение дефектов в готовых товарах), испытания без нарушений (например, проверка качества сварки) и т. п.\n",
    ">* **Медицина**. Диагностика заболеваний разной сложности.\n",
    ">* **Молекулярная биология**. Анализ строения аминокислот.\n",
    ">* **Торговля**. Классификация клиентов и товара."
   ]
  },
  {
   "cell_type": "markdown",
   "metadata": {},
   "source": [
    "Теперь перейдём к формальной части. Нам важно уже сейчас познакомиться с терминологией деревьев решений, чтобы понять общий принцип их обучения.\n",
    "\n",
    "Пусть у нас есть всё та же матрица наблюдений `X`, в которой содержатся наблюдения и характеризующие их признаки (привычный нам `DataFrame`), и правильные ответы `y` — метки классов. \n",
    "\n",
    "Дадим определение дереву решений и его составляющим ↓\n",
    "\n",
    "Формально структура дерева решений — это `связный ациклический граф.` Что это значит?\n",
    "\n",
    "`Граф` — это абстрактная топологическая модель, которая состоит из вершин и соединяющих их рёбер.\n",
    "\n",
    "`Связный граф` — это граф, в котором между любой парой существует направленная связь.\n",
    "\n",
    "`Ациклический граф` — это граф, в котором отсутствуют циклы, то есть в графе не существует такого пути, по которому можно вернуться в начальную вершину.\n",
    "\n",
    "<img src=ml3_img30.png>\n",
    "\n",
    "**Примечание**. Рекомендуем вам запомнить данное лаконичное определение дерева — так вы сможете показать свой уровень знаний перед будущим работодателем.\n",
    "\n",
    "В дереве решений можно выделить **три типа вершин**:\n",
    "\n",
    "<img src=ml3_img31.png>\n",
    "\n",
    "**Корневая вершина** (`root node`) — то, откуда всё начинается. Это первый и самый главный вопрос, который дерево задаёт объекту. В примере со страхованием это был вопрос «Возраст автовладельца > 40».\n",
    "**Внутренние вершины** (`intermediate nodes`) — это дополнительные уточняющие вопросы, которые дерево задаёт объекту. \n",
    "**Листья** (`leafs`) — конечные вершины дерева. Это вершины, в которых содержится конечный «ответ» — класс объекта.\n",
    "Максимально возможная длина **от корня до самых дальних листьев** (не включая корневую) называется **максимальной глубиной дерева** (`max depth`).\n",
    "\n",
    "Во внутренней или корневой вершине признак проверяется на некий логический критерий, по результатам которого мы движемся всё глубже по дереву. Например, «Количество кредитов  1». \n",
    "\n",
    "Логический критерий, который находится в каждой вершине, называется предикатом, или решающим правилом.\n",
    "\n",
    "На самом деле все предикаты — это просто взятие порога по значению какого-то признака. Формально это записывается следующим образом:\n",
    "\n",
    "<img src=ml3_img32.png>\n",
    "\n",
    ">**Примечание**. В зависимости от реализации предикат может быть с условием <= или <= . В реализации `sklearn` используется условие <=. Но вы можете встретить другую формулировку предикатов в иных реализациях или в литературе.\n",
    "\n",
    "Если результат предиката равен 1, то мы переходим по левой ветви дерева к следующему узлу, в противном случае — по правой ветви дерева к следующему узлу.\n",
    "\n",
    "А что насчёт геометрии?\n",
    "\n",
    "Каждый новый вопрос дерева решений при его обучении разбивает пространство признаков на две части: в первую часть отправляются наблюдения, для которых предикат истинен, а во вторую — для которых он ложен."
   ]
  },
  {
   "cell_type": "markdown",
   "metadata": {},
   "source": [
    ">Посмотрим, как это будет выглядеть, на примере. \n",
    ">\n",
    ">Вам уже знакома задача классификации про ирисы. Ирисы Фишера — это задача, на которой Рональд Фишер ещё в 1936 году (почти 100 лет назад!) продемонстрировал работу алгоритма, разделяющего ирисы на сорта в зависимости от параметров долей околоцветника.\n",
    ">\n",
    ">Пусть у нас есть следующие признаки:\n",
    ">\n",
    ">* длина внутренней доли околоцветника (англ. petal length);\n",
    ">* ширина внутренней доли околоцветника (англ. petal width).\n",
    ">\n",
    ">На основании этих двух признаков требуется разделить ирисы на три сорта:\n",
    ">\n",
    ">* ирис щетинистый (Iris Setosa);\n",
    ">* ирис виргинский (Iris virginica);\n",
    ">* ирис разноцветный (Iris versicolor).\n",
    ">\n",
    ">Пусть мы обучили на этих данных дерево решений с максимальной глубиной 1. Оно получилось вот таким:\n",
    "\n",
    "<img src=ml3_img33.png width=600>\n",
    "\n",
    "В каждом блоке указаны следующие данные:\n",
    "\n",
    "* Предикат `I(x_j <= t)` — условие, по которому выборка делится на две части: на ту, для которой условие выполняется, и ту, для которой не выполняется.\n",
    "* `gini` — критерий информативности Джини, о котором мы поговорим чуть позже.\n",
    "* `samples` — количество объектов, которые мы проверяем на данном шаге.\n",
    "* `value` — распределение по классам для объектов, которые мы проверяем на данном шаге: например value=[0, 50, 50] означает, что на текущем этапе разделения в выборке находится 0 объектов класса setosa и по 50 объектов классов versicolor и virginica.\n",
    "* `class` — класс, который мы присваиваем, если завершим выполнение алгоритма на данном шаге.\n",
    "\n",
    "А вот так будет выглядеть наш процесс разделения цветов на классы:\n",
    "\n",
    "<img src=ml3_img34.png width=600>\n",
    "\n",
    "## Как происходит построение разделяющих плоскостей?\n",
    "\n",
    "### **Глубина дерева = 0.**\n",
    "\n",
    "Дерево задаёт первый вопрос: `pental lentgh <= 2.45`. Это выражение соответствует вертикальной прямой, которая делит пространство на две части по признаку `petal length`.\n",
    "\n",
    "* В левую часть пространства попали 50 наблюдений. Это только жёлтые точки пространства — цветы setosa. Значит, дальнейшее разделение не имеет смысла.\n",
    "\n",
    "* В правую часть пространства попали 100 наблюдений. Это и синие, и зелёные объекты классов versicolor и virginica. Значит, нужно попробовать задать ещё одно решающее правило.\n",
    "\n",
    "### **Глубина дерева = 1.**\n",
    "\n",
    "Дерево задаёт второй вопрос: `pental width <= 1.75`. Это выражение соответствует горизонтальной прямой, которая делит оставшееся после прошлого разделения пространство на две части по признаку petal width.\n",
    "\n",
    "* В нижнюю (синюю) часть этого пространства попали 54 наблюдения. Из них 49 цветов класса versicolor и 5 цветов класса virginica.\n",
    "\n",
    "**Максимальная глубина достигнута**. В полученной части пространства преобладает класс versicolor, значит все наблюдения, которые находятся в этой части, дерево будет относить к классу versicolor.\n",
    "\n",
    "* В верхнюю (зелёную) часть этого пространства попали 46 наблюдений. Из них 1 цветок класса versicolor и 45 цветов класса virginica.\n",
    "\n",
    "**Максимальная глубина достигнута**. В полученной части пространства преобладает класс virginica, значит все наблюдения, которые находятся в этой части, дерево будет относить к классу virginica.\n",
    "\n",
    ">Отметим, что деление пространства можно продолжать до тех пор, пока пространство не будет разделено так, чтобы верно выделить каждый из классов. \n",
    ">\n",
    ">Кстати, для каждой области можно подсчитать вероятность каждого из классов. Это просто отношение количества объектов -класса, которые попали в лист дерева, к общему количеству объектов в листе.\n",
    ">\n",
    ">Например, для синей области вероятности будут равны:\n",
    ">\n",
    ">`P_(класс=setosa) = 0 / 54 = 0`\n",
    ">\n",
    ">`P_(класс=setosa) = 5 / 54 = 0.09`\n",
    ">\n",
    ">`P_(класс=setosa) = 49 / 54 = 0.81`"
   ]
  },
  {
   "cell_type": "markdown",
   "metadata": {},
   "source": [
    "# 5.1 Процесс построения дерева решений <a class=\"anchor\" id=5-1></a>\n",
    "\n",
    "[к содержанию](#0)\n",
    "\n",
    "Существует множество [стратегий](https://scikit-learn.ru/1-10-decision-trees/#tree-algorithms-id3-c4-5-c5-0-and-cart) построения деревьев решений. Мы рассмотрим стратегию, реализованную в библиотеке `sklearn`, — алгоритм `CART` (`Classification and Regression Tree`), который предназначен для построения бинарных деревьев решений (деревьев, у которых каждая вершина связана с двумя другими вершинами нижнего уровня). Данный алгоритм, как следует из его названия, предназначен для решения задач классификации и регрессии.\n",
    "\n",
    "Внимательный студент уже заметил, что построение дерева решений **можно описать рекурсией**. Каждая вершина дерева порождает две других вершины, а они в свою очередь порождают новые вершины, и так происходит до тех пор, пока не выполнится некоторый критерий остановки, например в вершине не останутся только наблюдения определённого класса.\n",
    "\n",
    ">**Примечание**. Если вы забыли, что такое рекурсия, рекомендуем вам вернуться к [модулю по продвинутому использованию функций](https://lms.skillfactory.ru/courses/course-v1:SkillFactory+DSPR-2.0+14JULY2021/jump_to_id/298afb4ea6634ec1bc86c4ac7b2a080e) и активировать рекурсивное мышление, оно нам понадобится.\n",
    "\n",
    "Пусть у нас есть матрица наблюдений `X` и столбец с ответами — метками классов `y`. На основе примеров и ответов мы хотим построить дерево решений, которое будет производить классификацию.\n",
    "\n",
    "Итак, псевдокод рекурсивной функции для построения решающего дерева будет выглядеть следующим образом (запускать код не нужно, так как он является абстрактным):"
   ]
  },
  {
   "cell_type": "code",
   "execution_count": 118,
   "metadata": {},
   "outputs": [],
   "source": [
    "def build_decision_tree(X, y):\n",
    "    node = Node()\n",
    "    if stopping_criterion(X, y) is True:\n",
    "        node = create_leaf_with_prediction(y)\n",
    "        return node \n",
    "    else:\n",
    "        X_left, y_left, X_rigth, y_rigth = best_split(X, y)\n",
    "        node.left = build_decision_tree(X_left, y_left)\n",
    "        node.right = build_decision_tree(X_rigth, y_rigth)"
   ]
  },
  {
   "cell_type": "markdown",
   "metadata": {},
   "source": [
    "## ПОИСК ПАРАМЕТРОВ ДЕРЕВА РЕШЕНИЙ\n",
    "\n",
    ">Обратите внимание, что внутренние параметры дерева решений кардинально отличаются от линейных моделей.\n",
    "\n",
    "В линейных моделях мы пытались найти такие коэффициенты в уравнениях, при которых наблюдался минимум функции потерь.\n",
    "\n",
    "В деревьях же мы пытаемся выбрать такие признаки  и их пороговые значения , при которых произойдёт разделение набора на две части по какому-то критерию наилучшим образом. В нашем псевдокоде этот процесс организован в виде функции `best_split()`.\n",
    "\n",
    ">Важно понимать, что дерево решений — это топологический алгоритм, а не аналитический, то есть структуру дерева не получится описать в виде формулы, как те же линейные модели. Поэтому про стандартные методы оптимизации, такие как градиентный спуск или тем более метод наименьших квадратов, можно забыть. \n",
    "\n",
    "Чтобы интуитивно понять, как организуется поиск параметров, вспомним про игру «Слова на лбу».\n",
    "\n",
    "Пусть один человек загадывает знаменитость, а второй пытается отгадать, задавая только вопросы, на которые можно ответить «Да» или «Нет» (опустим варианты «не знаю» и «не могу сказать»).\n",
    "\n",
    "Какой вопрос отгадывающий задаст первым делом? Конечно, такой, который лучше всего уменьшит количество оставшихся вариантов.\n",
    "\n",
    "К примеру, вопрос «Это Анджелина Джоли?» в случае отрицательного ответа оставит более 7.5 миллиардов вариантов для дальнейшего перебора (строго говоря, поменьше, ведь не каждый человек — знаменитость, но всё равно немало), а вот вопрос «Это женщина?» отсечёт уже около половины знаменитостей.\n",
    "\n",
    "То есть, признак пол намного лучше разделяет выборку людей, чем признак это Анджелина Джоли, национальность — испанец или любит футбол.\n",
    "\n",
    "Интуитивно это соответствует уменьшению некоторой неопределённости, или, иначе говоря, повышению прироста информативности.\n",
    "\n",
    "В случае «угадайки» знаменитостей критериев отбора может быть бесчисленное количество. Но когда мы работаем с набором данных, у нас ограниченное количество признаков и для них есть ограниченное количество порогов. Тогда мы можем полным перебором найти такую комбинацию  и , которая обеспечит наилучшее уменьшение неопределённости.\n",
    "\n",
    "Неопределённость можно измерять различными способами, в деревьях решений для этого используются `энтропия Шеннона` и `критерий Джини`. Мы подробно обсудим их реализацию в модулях по математике."
   ]
  },
  {
   "cell_type": "markdown",
   "metadata": {},
   "source": [
    "# 5.2 Деревья решений в `sklearn` <a class=\"anchor\" id=5-2></a>\n",
    "\n",
    "[к содержанию](#0)"
   ]
  },
  {
   "cell_type": "markdown",
   "metadata": {},
   "source": [
    "# 6. Введение в ансамбли: бэггинг. Случайные лес <a class=\"anchor\" id=6></a>\n",
    "\n",
    "[к содержанию](#0)"
   ]
  },
  {
   "cell_type": "markdown",
   "metadata": {},
   "source": [
    "# 7. Деревья решений и случайный лес. Практика <a class=\"anchor\" id=7></a>\n",
    "\n",
    "[к содержанию](#0)"
   ]
  },
  {
   "cell_type": "markdown",
   "metadata": {},
   "source": [
    "# 8. Итоги <a class=\"anchor\" id=8></a>\n",
    "\n",
    "[к содержанию](#0)"
   ]
  }
 ],
 "metadata": {
  "kernelspec": {
   "display_name": "Python 3.9.12 ('base')",
   "language": "python",
   "name": "python3"
  },
  "language_info": {
   "codemirror_mode": {
    "name": "ipython",
    "version": 3
   },
   "file_extension": ".py",
   "mimetype": "text/x-python",
   "name": "python",
   "nbconvert_exporter": "python",
   "pygments_lexer": "ipython3",
   "version": "3.9.12"
  },
  "orig_nbformat": 4,
  "vscode": {
   "interpreter": {
    "hash": "c3380a37b4678e1f5e651331348d62bc6038aef0d5f414da260f404a34792558"
   }
  }
 },
 "nbformat": 4,
 "nbformat_minor": 2
}
